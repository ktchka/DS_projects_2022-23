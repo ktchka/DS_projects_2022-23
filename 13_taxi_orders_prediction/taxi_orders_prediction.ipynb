{
 "cells": [
  {
   "cell_type": "markdown",
   "metadata": {},
   "source": [
    "# Predicting cab orders"
   ]
  },
  {
   "cell_type": "markdown",
   "metadata": {},
   "source": [
    "Chetnye Taxi has collected historical data on cab orders at airports. In order to attract more drivers during the peak period, we need to predict the number of cab orders for the next hour. Build a model for such a prediction.\n",
    "\n",
    "The value of the *RMSE* metric on the test sample should be at most 48.\n",
    "\n",
    "You need to:\n",
    "\n",
    "1. Load the data and resample it one hour at a time.\n",
    "2. Analyze the data.\n",
    "3. Train different models with different hyperparameters. Make a test sample of size 10% of the original data.\n",
    "4. Validate the data on the test sample and draw conclusions.\n",
    "\n",
    "\n",
    "The data is in the file `taxi.csv`. The number of orders is in the `num_orders` column."
   ]
  },
  {
   "cell_type": "markdown",
   "metadata": {},
   "source": [
    "## Preparation"
   ]
  },
  {
   "cell_type": "code",
   "execution_count": 18,
   "metadata": {},
   "outputs": [],
   "source": [
    "import pandas as pd\n",
    "import numpy as np\n",
    "import random\n",
    "import seaborn as sns\n",
    "import matplotlib.pyplot as plt\n",
    "\n",
    "from statsmodels.tsa.seasonal import seasonal_decompose\n",
    "from sklearn.datasets import make_regression\n",
    "from sklearn.model_selection import TimeSeriesSplit, GridSearchCV,train_test_split \n",
    "from sklearn.linear_model import LinearRegression\n",
    "from sklearn.tree import DecisionTreeRegressor\n",
    "from sklearn.ensemble import RandomForestRegressor, GradientBoostingRegressor\n",
    "from sklearn.neural_network import MLPRegressor\n",
    "from catboost import CatBoostRegressor\n",
    "from sklearn.metrics import mean_squared_error\n",
    "from sklearn.preprocessing import StandardScaler\n",
    "\n",
    "\n",
    "import warnings\n",
    "warnings.filterwarnings('ignore')"
   ]
  },
  {
   "cell_type": "code",
   "execution_count": 2,
   "metadata": {},
   "outputs": [
    {
     "data": {
      "text/html": [
       "<div>\n",
       "<style scoped>\n",
       "    .dataframe tbody tr th:only-of-type {\n",
       "        vertical-align: middle;\n",
       "    }\n",
       "\n",
       "    .dataframe tbody tr th {\n",
       "        vertical-align: top;\n",
       "    }\n",
       "\n",
       "    .dataframe thead th {\n",
       "        text-align: right;\n",
       "    }\n",
       "</style>\n",
       "<table border=\"1\" class=\"dataframe\">\n",
       "  <thead>\n",
       "    <tr style=\"text-align: right;\">\n",
       "      <th></th>\n",
       "      <th>num_orders</th>\n",
       "    </tr>\n",
       "    <tr>\n",
       "      <th>datetime</th>\n",
       "      <th></th>\n",
       "    </tr>\n",
       "  </thead>\n",
       "  <tbody>\n",
       "    <tr>\n",
       "      <th>2018-03-01 00:00:00</th>\n",
       "      <td>9</td>\n",
       "    </tr>\n",
       "    <tr>\n",
       "      <th>2018-03-01 00:10:00</th>\n",
       "      <td>14</td>\n",
       "    </tr>\n",
       "    <tr>\n",
       "      <th>2018-03-01 00:20:00</th>\n",
       "      <td>28</td>\n",
       "    </tr>\n",
       "    <tr>\n",
       "      <th>2018-03-01 00:30:00</th>\n",
       "      <td>20</td>\n",
       "    </tr>\n",
       "    <tr>\n",
       "      <th>2018-03-01 00:40:00</th>\n",
       "      <td>32</td>\n",
       "    </tr>\n",
       "  </tbody>\n",
       "</table>\n",
       "</div>"
      ],
      "text/plain": [
       "                     num_orders\n",
       "datetime                       \n",
       "2018-03-01 00:00:00           9\n",
       "2018-03-01 00:10:00          14\n",
       "2018-03-01 00:20:00          28\n",
       "2018-03-01 00:30:00          20\n",
       "2018-03-01 00:40:00          32"
      ]
     },
     "execution_count": 2,
     "metadata": {},
     "output_type": "execute_result"
    }
   ],
   "source": [
    "df = pd.read_csv('https://code.s3.yandex.net/datasets/taxi.csv',index_col=[0], parse_dates=[0])\n",
    "df.head()"
   ]
  },
  {
   "cell_type": "code",
   "execution_count": 3,
   "metadata": {},
   "outputs": [],
   "source": [
    "df.sort_index(inplace=True)\n",
    "df = df.resample('1H').sum()"
   ]
  },
  {
   "cell_type": "code",
   "execution_count": 4,
   "metadata": {},
   "outputs": [
    {
     "data": {
      "text/plain": [
       "num_orders    0\n",
       "dtype: int64"
      ]
     },
     "execution_count": 4,
     "metadata": {},
     "output_type": "execute_result"
    }
   ],
   "source": [
    "df.isna().sum()"
   ]
  },
  {
   "cell_type": "code",
   "execution_count": 5,
   "metadata": {},
   "outputs": [
    {
     "data": {
      "text/html": [
       "<div>\n",
       "<style scoped>\n",
       "    .dataframe tbody tr th:only-of-type {\n",
       "        vertical-align: middle;\n",
       "    }\n",
       "\n",
       "    .dataframe tbody tr th {\n",
       "        vertical-align: top;\n",
       "    }\n",
       "\n",
       "    .dataframe thead th {\n",
       "        text-align: right;\n",
       "    }\n",
       "</style>\n",
       "<table border=\"1\" class=\"dataframe\">\n",
       "  <thead>\n",
       "    <tr style=\"text-align: right;\">\n",
       "      <th></th>\n",
       "      <th>num_orders</th>\n",
       "    </tr>\n",
       "  </thead>\n",
       "  <tbody>\n",
       "    <tr>\n",
       "      <th>count</th>\n",
       "      <td>4416.000000</td>\n",
       "    </tr>\n",
       "    <tr>\n",
       "      <th>mean</th>\n",
       "      <td>84.422781</td>\n",
       "    </tr>\n",
       "    <tr>\n",
       "      <th>std</th>\n",
       "      <td>45.023853</td>\n",
       "    </tr>\n",
       "    <tr>\n",
       "      <th>min</th>\n",
       "      <td>0.000000</td>\n",
       "    </tr>\n",
       "    <tr>\n",
       "      <th>25%</th>\n",
       "      <td>54.000000</td>\n",
       "    </tr>\n",
       "    <tr>\n",
       "      <th>50%</th>\n",
       "      <td>78.000000</td>\n",
       "    </tr>\n",
       "    <tr>\n",
       "      <th>75%</th>\n",
       "      <td>107.000000</td>\n",
       "    </tr>\n",
       "    <tr>\n",
       "      <th>max</th>\n",
       "      <td>462.000000</td>\n",
       "    </tr>\n",
       "  </tbody>\n",
       "</table>\n",
       "</div>"
      ],
      "text/plain": [
       "        num_orders\n",
       "count  4416.000000\n",
       "mean     84.422781\n",
       "std      45.023853\n",
       "min       0.000000\n",
       "25%      54.000000\n",
       "50%      78.000000\n",
       "75%     107.000000\n",
       "max     462.000000"
      ]
     },
     "execution_count": 5,
     "metadata": {},
     "output_type": "execute_result"
    }
   ],
   "source": [
    "df.describe()"
   ]
  },
  {
   "cell_type": "markdown",
   "metadata": {},
   "source": [
    "Let's look at the distribution of the feature from the third persentile to the maximum"
   ]
  },
  {
   "cell_type": "code",
   "execution_count": 6,
   "metadata": {},
   "outputs": [
    {
     "data": {
      "image/png": "[encoded data removed]",
      "text/plain": [
       "<Figure size 720x432 with 1 Axes>"
      ]
     },
     "metadata": {
      "needs_background": "light"
     },
     "output_type": "display_data"
    }
   ],
   "source": [
    "filtered_df = df[df['num_orders']>=107]\n",
    "\n",
    "plt.figure(figsize=(10, 6))\n",
    "sns.barplot(x=filtered_df.index, y=filtered_df['num_orders']).set(xlabel=None)\n",
    "plt.show()"
   ]
  },
  {
   "cell_type": "markdown",
   "metadata": {},
   "source": [
    "Let's not get rid of the maximum value"
   ]
  },
  {
   "cell_type": "markdown",
   "metadata": {},
   "source": [
    "## Analysis"
   ]
  },
  {
   "cell_type": "code",
   "execution_count": 7,
   "metadata": {},
   "outputs": [
    {
     "data": {
      "text/plain": [
       "<AxesSubplot:xlabel='datetime'>"
      ]
     },
     "execution_count": 7,
     "metadata": {},
     "output_type": "execute_result"
    },
    {
     "data": {
      "image/png": "[encoded data removed]",
      "text/plain": [
       "<Figure size 432x288 with 1 Axes>"
      ]
     },
     "metadata": {
      "needs_background": "light"
     },
     "output_type": "display_data"
    }
   ],
   "source": [
    "df.plot()"
   ]
  },
  {
   "cell_type": "markdown",
   "metadata": {},
   "source": [
    "We see an increase in orders from March through August. Let's look at trends and moving average. We will not look at seasonality, as there is not enough data for that"
   ]
  },
  {
   "cell_type": "code",
   "execution_count": 8,
   "metadata": {},
   "outputs": [
    {
     "data": {
      "text/plain": [
       "<AxesSubplot:xlabel='datetime'>"
      ]
     },
     "execution_count": 8,
     "metadata": {},
     "output_type": "execute_result"
    },
    {
     "data": {
      "image/png": "[encoded data removed]",
      "text/plain": [
       "<Figure size 432x288 with 1 Axes>"
      ]
     },
     "metadata": {
      "needs_background": "light"
     },
     "output_type": "display_data"
    }
   ],
   "source": [
    "df.rolling(10).mean().plot()"
   ]
  },
  {
   "cell_type": "code",
   "execution_count": 9,
   "metadata": {},
   "outputs": [],
   "source": [
    "decomposed = seasonal_decompose(df)"
   ]
  },
  {
   "cell_type": "code",
   "execution_count": 10,
   "metadata": {},
   "outputs": [
    {
     "data": {
      "image/png": "[encoded data removed]",
      "text/plain": [
       "<Figure size 432x576 with 2 Axes>"
      ]
     },
     "metadata": {
      "needs_background": "light"
     },
     "output_type": "display_data"
    }
   ],
   "source": [
    "plt.figure(figsize=(6, 8))\n",
    "plt.subplot(211)\n",
    "decomposed.trend.plot(ax=plt.gca())\n",
    "plt.title('Trend')\n",
    "plt.subplot(212)\n",
    "decomposed.resid.plot(ax=plt.gca())\n",
    "plt.title('Residuals')\n",
    "plt.tight_layout()"
   ]
  },
  {
   "cell_type": "markdown",
   "metadata": {},
   "source": [
    "Really see a growing trend in the number of airport cab bookings. This may be due to the increase in the number of trips during the vacation season. \n",
    "\n"
   ]
  },
  {
   "cell_type": "markdown",
   "metadata": {},
   "source": [
    "Let's write a function to create new features, find the optimal number of features "
   ]
  },
  {
   "cell_type": "code",
   "execution_count": 11,
   "metadata": {},
   "outputs": [],
   "source": [
    "def make_features(data, max_lag, rolling_mean_size):\n",
    "    \"\"\"\n",
    "    creating year, month, day, day of week, lagged value and moving average attributes\n",
    "    \"\"\"\n",
    "\n",
    "    data['day'] = data.index.day\n",
    "    data['dayofweek'] = data.index.dayofweek\n",
    "    \n",
    "    for lag in range(1, max_lag + 1):\n",
    "        data['lag_{}'.format(lag)] = data['num_orders'].shift(lag)\n",
    "\n",
    "    data['rolling_mean'] = data['num_orders'].shift().rolling(rolling_mean_size).mean()\n",
    "    data.fillna(data.median(), inplace=True)"
   ]
  },
  {
   "cell_type": "markdown",
   "metadata": {},
   "source": [
    "## Training"
   ]
  },
  {
   "cell_type": "markdown",
   "metadata": {},
   "source": [
    "Let's create a dictionary of hyperparameters and models"
   ]
  },
  {
   "cell_type": "code",
   "execution_count": 12,
   "metadata": {},
   "outputs": [],
   "source": [
    "models_params = {\n",
    "    'Decision Tree Regressor': {\n",
    "        'model': DecisionTreeRegressor(),\n",
    "        'params': {'max_depth': range(1, 21), 'min_samples_split': range(2, 11), \n",
    "                   'min_samples_leaf': range(1, 11)}\n",
    "    },\n",
    "    'Random Forest Regressor': {\n",
    "        'model': RandomForestRegressor(),\n",
    "        'params': {'n_estimators': [10, 50, 100, 200], 'max_depth': range(1, 21)}\n",
    "    },\n",
    "    'Gradient Boosting Regressor': {\n",
    "        'model': GradientBoostingRegressor(),\n",
    "        'params': {'n_estimators': [10, 50, 100, 200], 'learning_rate': [0.001, 0.01, 0.1], \n",
    "                   'max_depth': range(1, 11)}\n",
    "    },\n",
    "    'CatBoost Regressor': {\n",
    "        'model': CatBoostRegressor(silent=True),\n",
    "        'params': {'learning_rate': [0.03, 0.1], 'depth': [4, 7, 10], \n",
    "                   'l2_leaf_reg': [1, 3, 5, 7, 9]}\n",
    "    }\n",
    "}"
   ]
  },
  {
   "cell_type": "code",
   "execution_count": 13,
   "metadata": {},
   "outputs": [],
   "source": [
    "best_results = {}\n",
    "\n",
    "max_lags = [1, 7, 14, 30]\n",
    "rolling_mean_sizes = [1, 7, 14, 30]"
   ]
  },
  {
   "cell_type": "code",
   "execution_count": 28,
   "metadata": {},
   "outputs": [],
   "source": [
    "def train_model(model_name):\n",
    "    tscv = TimeSeriesSplit(n_splits=5)\n",
    "    best_results = {}\n",
    "\n",
    "    for max_lag in max_lags:\n",
    "        for rolling_mean_size in rolling_mean_sizes:\n",
    "            make_features(df, max_lag, rolling_mean_size)\n",
    "\n",
    "            X = df.drop('num_orders', axis=1)\n",
    "            y = df['num_orders']\n",
    "            X_train, X_test, y_train, y_test = train_test_split(X, y, test_size=0.1, \n",
    "                                                                random_state=42, shuffle=False)\n",
    "            \n",
    "            gs = GridSearchCV(models_params[model_name]['model'], models_params[model_name]['params'], \n",
    "                              cv=tscv, scoring='neg_mean_squared_error')\n",
    "            gs.fit(X_train, y_train)\n",
    "\n",
    "            if model_name not in best_results or -gs.best_score_ < best_results[model_name]['Best Score']:\n",
    "                best_results[model_name] = {'Best Score': -gs.best_score_,\n",
    "                                            'Best Parameters': gs.best_params_, \n",
    "                                            'max_lag': max_lag, \n",
    "                                            'rolling_mean_size': rolling_mean_size}\n",
    "\n",
    "    print(f\"Best results for {model_name}:\")\n",
    "    print(best_results[model_name])\n",
    "\n",
    "    # Use best_estimator_ for final prediction on the test set\n",
    "    best_model = gs.best_estimator_\n",
    "    predicted_test = best_model.predict(X_test)\n",
    "    final_rmse = (mean_squared_error(y_test, predicted_test))**0.5\n",
    "    best_results[model_name]['Final RMSE'] = final_rmse\n",
    "    print(f\"Final RMSE on test data: {final_rmse}\")\n",
    "\n",
    "    return best_model"
   ]
  },
  {
   "cell_type": "markdown",
   "metadata": {},
   "source": [
    "### Linear Regression"
   ]
  },
  {
   "cell_type": "code",
   "execution_count": 24,
   "metadata": {
    "scrolled": true
   },
   "outputs": [
    {
     "name": "stdout",
     "output_type": "stream",
     "text": [
      "Best results for Linear Regression:\n",
      "{'Best Score': 742.614569247577, 'RMSE': 45.091761588593776, 'Best Parameters': {'fit_intercept': True, 'normalize': True}, 'max_lag': 30, 'rolling_mean_size': 30}\n",
      "Final RMSE on test data: 45.091761588593776\n"
     ]
    }
   ],
   "source": [
    "params = {'fit_intercept': [True, False], 'normalize': [True, False]}\n",
    "\n",
    "tscv = TimeSeriesSplit(n_splits=5)\n",
    "model = LinearRegression()\n",
    "\n",
    "for max_lag in max_lags:\n",
    "    for rolling_mean_size in rolling_mean_sizes:\n",
    "        make_features(df, max_lag, rolling_mean_size)\n",
    "\n",
    "        X = df.drop('num_orders', axis=1)\n",
    "        y = df['num_orders']\n",
    "        X_train, X_test, y_train, y_test = train_test_split(X, y, test_size=0.1, random_state=42, shuffle=False)\n",
    "\n",
    "        scaler = StandardScaler()\n",
    "        X_train_scaled = X_train.copy()\n",
    "        X_test_scaled = X_test.copy()\n",
    "\n",
    "        numeric_features = X_train.select_dtypes(include=['float64', 'int64']).columns\n",
    "        X_train_scaled[numeric_features] = scaler.fit_transform(X_train[numeric_features])\n",
    "        X_test_scaled[numeric_features] = scaler.transform(X_test[numeric_features])\n",
    "\n",
    "        gs = GridSearchCV(model, params, cv=tscv, scoring='neg_mean_squared_error')\n",
    "        gs.fit(X_train_scaled, y_train)\n",
    "\n",
    "        if 'Best Score' not in best_results or -gs.best_score_ < best_results['Best Score']:\n",
    "            best_results['Linear Regression'] = {'Best Score': -gs.best_score_, 'RMSE': final_rmse, 'Best Parameters': gs.best_params_, \n",
    "                            'max_lag': max_lag, 'rolling_mean_size': rolling_mean_size}\n",
    "\n",
    "print(\"Best results for Linear Regression:\")\n",
    "print(best_results['Linear Regression'])\n",
    "\n",
    "best_model = gs.best_estimator_\n",
    "predicted_test = best_model.predict(X_test_scaled)\n",
    "final_rmse = (mean_squared_error(y_test, predicted_test))**0.5\n",
    "print(f\"Final RMSE on test data: {final_rmse}\")"
   ]
  },
  {
   "cell_type": "markdown",
   "metadata": {},
   "source": [
    "### Decision Tree Regressor"
   ]
  },
  {
   "cell_type": "code",
   "execution_count": 29,
   "metadata": {},
   "outputs": [
    {
     "name": "stdout",
     "output_type": "stream",
     "text": [
      "Best results for Decision Tree Regressor:\n",
      "{'Best Score': 866.1425222807563, 'Best Parameters': {'max_depth': 5, 'min_samples_leaf': 10, 'min_samples_split': 2}, 'max_lag': 1, 'rolling_mean_size': 7}\n",
      "Final RMSE on test data: 53.84688855632255\n"
     ]
    },
    {
     "data": {
      "text/plain": [
       "DecisionTreeRegressor(max_depth=5, min_samples_leaf=9)"
      ]
     },
     "execution_count": 29,
     "metadata": {},
     "output_type": "execute_result"
    }
   ],
   "source": [
    "train_model('Decision Tree Regressor')"
   ]
  },
  {
   "cell_type": "markdown",
   "metadata": {},
   "source": [
    "### Random Forest Regressor"
   ]
  },
  {
   "cell_type": "code",
   "execution_count": 30,
   "metadata": {
    "scrolled": false
   },
   "outputs": [
    {
     "name": "stdout",
     "output_type": "stream",
     "text": [
      "Best results for Random Forest Regressor:\n",
      "{'Best Score': 668.3318759414362, 'Best Parameters': {'max_depth': 18, 'n_estimators': 200}, 'max_lag': 30, 'rolling_mean_size': 7}\n",
      "Final RMSE on test data: 43.765645158239025\n"
     ]
    },
    {
     "data": {
      "text/plain": [
       "RandomForestRegressor(max_depth=14, n_estimators=200)"
      ]
     },
     "execution_count": 30,
     "metadata": {},
     "output_type": "execute_result"
    }
   ],
   "source": [
    "train_model('Random Forest Regressor')"
   ]
  },
  {
   "cell_type": "markdown",
   "metadata": {},
   "source": [
    "### Gradient Boosting Regressor"
   ]
  },
  {
   "cell_type": "code",
   "execution_count": 31,
   "metadata": {},
   "outputs": [
    {
     "name": "stdout",
     "output_type": "stream",
     "text": [
      "Best results for Gradient Boosting Regressor:\n",
      "{'Best Score': 665.2207187554507, 'Best Parameters': {'learning_rate': 0.1, 'max_depth': 5, 'n_estimators': 200}, 'max_lag': 7, 'rolling_mean_size': 7}\n",
      "Final RMSE on test data: 43.65786697923463\n"
     ]
    },
    {
     "data": {
      "text/plain": [
       "GradientBoostingRegressor(max_depth=6)"
      ]
     },
     "execution_count": 31,
     "metadata": {},
     "output_type": "execute_result"
    }
   ],
   "source": [
    "train_model('Gradient Boosting Regressor')"
   ]
  },
  {
   "cell_type": "markdown",
   "metadata": {},
   "source": [
    "### CatBoost Regressor"
   ]
  },
  {
   "cell_type": "code",
   "execution_count": null,
   "metadata": {},
   "outputs": [],
   "source": [
    "train_model('CatBoost Regressor')"
   ]
  },
  {
   "cell_type": "markdown",
   "metadata": {},
   "source": [
    "## Testing"
   ]
  },
  {
   "cell_type": "code",
   "execution_count": null,
   "metadata": {},
   "outputs": [],
   "source": [
    "print(best_results)"
   ]
  },
  {
   "cell_type": "code",
   "execution_count": null,
   "metadata": {},
   "outputs": [],
   "source": [
    "models = list(best_results.keys())\n",
    "rmse_values = [model_data['RMSE'] for model_data in best_results.values()]\n",
    "\n",
    "bars = plt.bar(models, rmse_values, color='c')\n",
    "\n",
    "plt.title(\"RMSE Values for Different Models\")\n",
    "plt.ylabel(\"RMSE\")\n",
    "plt.xlabel(\"Model\")\n",
    "plt.xticks(rotation=45)  \n",
    "\n",
    "for bar in bars:\n",
    "    yval = bar.get_height()\n",
    "    plt.text(bar.get_x() + bar.get_width()/2, yval, round(yval, 2), ha='center', va='bottom')\n",
    "\n",
    "plt.show()\n",
    "\n"
   ]
  },
  {
   "cell_type": "markdown",
   "metadata": {},
   "source": [
    "The best result was achieved by **CatBoos tRegressor** with RMSE 41.5, second place was taken by **Random Forest Regressor** with RMSE 43.13.\n",
    "\n",
    "The worst result was shown by Decision Tree Regressor and it used to exceed the threshold of RMSE 48"
   ]
  }
 ],
 "metadata": {
  "ExecuteTimeLog": [
   {
    "duration": 1447,
    "start_time": "2023-08-14T07:52:24.255Z"
   },
   {
    "duration": 196,
    "start_time": "2023-08-14T07:52:49.081Z"
   },
   {
    "duration": 59,
    "start_time": "2023-08-14T07:53:19.378Z"
   },
   {
    "duration": 102,
    "start_time": "2023-08-14T07:53:53.076Z"
   },
   {
    "duration": 16,
    "start_time": "2023-08-14T07:54:02.815Z"
   },
   {
    "duration": 258,
    "start_time": "2023-08-14T07:54:39.591Z"
   },
   {
    "duration": 244,
    "start_time": "2023-08-14T07:56:08.896Z"
   },
   {
    "duration": 148,
    "start_time": "2023-08-14T07:56:40.276Z"
   },
   {
    "duration": 13,
    "start_time": "2023-08-14T07:56:57.505Z"
   },
   {
    "duration": 831,
    "start_time": "2023-08-14T07:57:06.452Z"
   },
   {
    "duration": 612,
    "start_time": "2023-08-14T07:59:12.596Z"
   },
   {
    "duration": 554,
    "start_time": "2023-08-14T07:59:21.334Z"
   },
   {
    "duration": 25,
    "start_time": "2023-08-14T08:01:07.266Z"
   },
   {
    "duration": 17,
    "start_time": "2023-08-14T08:01:15.159Z"
   },
   {
    "duration": 291,
    "start_time": "2023-08-14T08:01:26.897Z"
   },
   {
    "duration": 7,
    "start_time": "2023-08-14T08:03:03.691Z"
   },
   {
    "duration": 16,
    "start_time": "2023-08-14T08:03:12.820Z"
   },
   {
    "duration": 13,
    "start_time": "2023-08-14T08:04:38.323Z"
   },
   {
    "duration": 12,
    "start_time": "2023-08-14T08:04:46.042Z"
   },
   {
    "duration": 19945,
    "start_time": "2023-08-14T08:05:03.479Z"
   },
   {
    "duration": 19,
    "start_time": "2023-08-14T08:06:42.902Z"
   },
   {
    "duration": 21051,
    "start_time": "2023-08-14T08:07:53.354Z"
   },
   {
    "duration": 21800,
    "start_time": "2023-08-14T08:08:47.625Z"
   },
   {
    "duration": 12,
    "start_time": "2023-08-14T08:15:44.856Z"
   },
   {
    "duration": 289,
    "start_time": "2023-08-14T08:15:59.754Z"
   },
   {
    "duration": 7,
    "start_time": "2023-08-14T08:16:02.923Z"
   },
   {
    "duration": 4,
    "start_time": "2023-08-14T08:18:37.778Z"
   },
   {
    "duration": 147,
    "start_time": "2023-08-14T08:22:46.364Z"
   },
   {
    "duration": 4,
    "start_time": "2023-08-14T08:23:18.034Z"
   },
   {
    "duration": 5,
    "start_time": "2023-08-14T08:24:23.837Z"
   },
   {
    "duration": 163,
    "start_time": "2023-08-14T08:38:04.100Z"
   },
   {
    "duration": 9,
    "start_time": "2023-08-14T08:41:43.430Z"
   },
   {
    "duration": 32,
    "start_time": "2023-08-14T08:42:20.124Z"
   },
   {
    "duration": 16,
    "start_time": "2023-08-14T08:42:39.231Z"
   },
   {
    "duration": 2002,
    "start_time": "2023-08-14T08:43:08.327Z"
   },
   {
    "duration": 5,
    "start_time": "2023-08-14T08:43:35.142Z"
   },
   {
    "duration": 238,
    "start_time": "2023-08-14T08:43:44.076Z"
   },
   {
    "duration": 6,
    "start_time": "2023-08-14T08:44:52.427Z"
   },
   {
    "duration": 5468,
    "start_time": "2023-08-14T08:44:55.423Z"
   },
   {
    "duration": 4,
    "start_time": "2023-08-14T08:45:20.954Z"
   },
   {
    "duration": 0,
    "start_time": "2023-08-14T10:17:06.938Z"
   },
   {
    "duration": 225,
    "start_time": "2023-08-14T10:25:34.314Z"
   },
   {
    "duration": 6,
    "start_time": "2023-08-14T10:25:51.287Z"
   },
   {
    "duration": 6,
    "start_time": "2023-08-14T10:26:45.931Z"
   },
   {
    "duration": 34,
    "start_time": "2023-08-14T10:27:11.957Z"
   },
   {
    "duration": 5,
    "start_time": "2023-08-14T10:27:46.401Z"
   },
   {
    "duration": 26,
    "start_time": "2023-08-14T10:27:48.011Z"
   },
   {
    "duration": 6,
    "start_time": "2023-08-14T10:29:35.467Z"
   },
   {
    "duration": 10660,
    "start_time": "2023-08-14T10:29:37.356Z"
   },
   {
    "duration": 3,
    "start_time": "2023-08-14T10:30:44.723Z"
   },
   {
    "duration": 6,
    "start_time": "2023-08-14T10:32:34.941Z"
   },
   {
    "duration": 16674,
    "start_time": "2023-08-14T10:32:47.342Z"
   },
   {
    "duration": 5,
    "start_time": "2023-08-14T10:34:12.604Z"
   },
   {
    "duration": 17415,
    "start_time": "2023-08-14T10:34:15.594Z"
   },
   {
    "duration": 28177,
    "start_time": "2023-08-14T10:34:59.134Z"
   },
   {
    "duration": 1147516,
    "start_time": "2023-08-14T10:35:30.057Z"
   },
   {
    "duration": 906529,
    "start_time": "2023-08-14T10:55:07.694Z"
   },
   {
    "duration": 1625,
    "start_time": "2023-08-14T17:12:55.435Z"
   },
   {
    "duration": 59,
    "start_time": "2023-08-14T17:12:57.062Z"
   },
   {
    "duration": 9,
    "start_time": "2023-08-14T17:12:57.124Z"
   },
   {
    "duration": 12,
    "start_time": "2023-08-14T17:12:57.135Z"
   },
   {
    "duration": 23,
    "start_time": "2023-08-14T17:12:57.150Z"
   },
   {
    "duration": 21602,
    "start_time": "2023-08-14T17:12:57.175Z"
   },
   {
    "duration": 242,
    "start_time": "2023-08-14T17:13:18.779Z"
   },
   {
    "duration": 634,
    "start_time": "2023-08-14T17:13:19.022Z"
   },
   {
    "duration": 9,
    "start_time": "2023-08-14T17:13:19.658Z"
   },
   {
    "duration": 580,
    "start_time": "2023-08-14T17:13:19.668Z"
   },
   {
    "duration": 6,
    "start_time": "2023-08-14T17:13:20.250Z"
   },
   {
    "duration": 14,
    "start_time": "2023-08-14T17:13:20.258Z"
   },
   {
    "duration": 10,
    "start_time": "2023-08-14T17:13:20.274Z"
   },
   {
    "duration": 8,
    "start_time": "2023-08-14T17:13:20.288Z"
   },
   {
    "duration": 9714,
    "start_time": "2023-08-14T17:13:20.298Z"
   },
   {
    "duration": 26573,
    "start_time": "2023-08-14T17:13:30.015Z"
   },
   {
    "duration": 195876,
    "start_time": "2023-08-14T17:13:56.590Z"
   },
   {
    "duration": 0,
    "start_time": "2023-08-14T17:17:12.468Z"
   },
   {
    "duration": 0,
    "start_time": "2023-08-14T17:17:12.470Z"
   },
   {
    "duration": 0,
    "start_time": "2023-08-14T17:17:12.471Z"
   },
   {
    "duration": 0,
    "start_time": "2023-08-14T17:17:12.472Z"
   },
   {
    "duration": 1163176,
    "start_time": "2023-08-14T17:17:25.367Z"
   },
   {
    "duration": 888388,
    "start_time": "2023-08-14T18:44:32.408Z"
   },
   {
    "duration": 1672,
    "start_time": "2023-08-15T07:41:10.580Z"
   },
   {
    "duration": 149,
    "start_time": "2023-08-15T07:41:12.257Z"
   },
   {
    "duration": 9,
    "start_time": "2023-08-15T07:41:12.408Z"
   },
   {
    "duration": 23,
    "start_time": "2023-08-15T07:41:12.419Z"
   },
   {
    "duration": 24,
    "start_time": "2023-08-15T07:41:12.444Z"
   },
   {
    "duration": 21359,
    "start_time": "2023-08-15T07:41:12.470Z"
   },
   {
    "duration": 272,
    "start_time": "2023-08-15T07:41:33.831Z"
   },
   {
    "duration": 555,
    "start_time": "2023-08-15T07:41:34.106Z"
   },
   {
    "duration": 8,
    "start_time": "2023-08-15T07:41:34.663Z"
   },
   {
    "duration": 671,
    "start_time": "2023-08-15T07:41:34.673Z"
   },
   {
    "duration": 11,
    "start_time": "2023-08-15T07:41:35.346Z"
   },
   {
    "duration": 16,
    "start_time": "2023-08-15T07:41:35.359Z"
   },
   {
    "duration": 22,
    "start_time": "2023-08-15T07:41:35.377Z"
   },
   {
    "duration": 16,
    "start_time": "2023-08-15T07:41:35.402Z"
   },
   {
    "duration": 10139,
    "start_time": "2023-08-15T07:41:35.420Z"
   },
   {
    "duration": 27108,
    "start_time": "2023-08-15T07:41:45.561Z"
   },
   {
    "duration": 1100678,
    "start_time": "2023-08-15T07:42:12.671Z"
   },
   {
    "duration": 886529,
    "start_time": "2023-08-15T08:00:33.356Z"
   },
   {
    "duration": 13986658,
    "start_time": "2023-08-15T08:15:19.887Z"
   },
   {
    "duration": 3,
    "start_time": "2023-08-15T12:08:26.547Z"
   },
   {
    "duration": 127,
    "start_time": "2023-08-15T12:09:09.577Z"
   },
   {
    "duration": 262,
    "start_time": "2023-08-15T12:09:18.728Z"
   },
   {
    "duration": 145,
    "start_time": "2023-08-15T12:09:31.528Z"
   },
   {
    "duration": 147,
    "start_time": "2023-08-15T12:10:34.004Z"
   },
   {
    "duration": 169,
    "start_time": "2023-08-15T12:11:06.848Z"
   },
   {
    "duration": 1794,
    "start_time": "2023-08-16T07:07:10.966Z"
   },
   {
    "duration": 190,
    "start_time": "2023-08-16T07:07:12.763Z"
   },
   {
    "duration": 9,
    "start_time": "2023-08-16T07:07:15.050Z"
   },
   {
    "duration": 6,
    "start_time": "2023-08-16T07:07:17.632Z"
   },
   {
    "duration": 14,
    "start_time": "2023-08-16T07:07:19.961Z"
   },
   {
    "duration": 20647,
    "start_time": "2023-08-16T07:07:21.389Z"
   },
   {
    "duration": 254,
    "start_time": "2023-08-16T07:07:42.038Z"
   },
   {
    "duration": 565,
    "start_time": "2023-08-16T07:07:42.294Z"
   },
   {
    "duration": 7,
    "start_time": "2023-08-16T07:07:42.860Z"
   },
   {
    "duration": 608,
    "start_time": "2023-08-16T07:07:42.869Z"
   },
   {
    "duration": 4,
    "start_time": "2023-08-16T07:08:24.921Z"
   },
   {
    "duration": 6,
    "start_time": "2023-08-16T07:15:06.003Z"
   },
   {
    "duration": 1759,
    "start_time": "2023-08-16T07:25:07.191Z"
   },
   {
    "duration": 61,
    "start_time": "2023-08-16T07:25:08.952Z"
   },
   {
    "duration": 11,
    "start_time": "2023-08-16T07:25:09.016Z"
   },
   {
    "duration": 14,
    "start_time": "2023-08-16T07:25:09.029Z"
   },
   {
    "duration": 44,
    "start_time": "2023-08-16T07:25:09.045Z"
   },
   {
    "duration": 22472,
    "start_time": "2023-08-16T07:25:09.091Z"
   },
   {
    "duration": 275,
    "start_time": "2023-08-16T07:25:31.565Z"
   },
   {
    "duration": 665,
    "start_time": "2023-08-16T07:25:31.843Z"
   },
   {
    "duration": 12,
    "start_time": "2023-08-16T07:25:32.511Z"
   },
   {
    "duration": 621,
    "start_time": "2023-08-16T07:25:32.527Z"
   },
   {
    "duration": 5,
    "start_time": "2023-08-16T07:25:33.151Z"
   },
   {
    "duration": 24,
    "start_time": "2023-08-16T07:25:33.159Z"
   },
   {
    "duration": 26,
    "start_time": "2023-08-16T07:25:33.185Z"
   },
   {
    "duration": 62,
    "start_time": "2023-08-16T07:25:33.213Z"
   },
   {
    "duration": 183,
    "start_time": "2023-08-16T07:25:33.277Z"
   },
   {
    "duration": 0,
    "start_time": "2023-08-16T07:25:33.462Z"
   },
   {
    "duration": 0,
    "start_time": "2023-08-16T07:25:33.464Z"
   },
   {
    "duration": 0,
    "start_time": "2023-08-16T07:25:33.465Z"
   },
   {
    "duration": 0,
    "start_time": "2023-08-16T07:25:33.467Z"
   },
   {
    "duration": 0,
    "start_time": "2023-08-16T07:25:33.468Z"
   },
   {
    "duration": 0,
    "start_time": "2023-08-16T07:25:33.470Z"
   },
   {
    "duration": 5,
    "start_time": "2023-08-16T07:28:29.603Z"
   },
   {
    "duration": 31,
    "start_time": "2023-08-16T07:28:35.920Z"
   },
   {
    "duration": 4,
    "start_time": "2023-08-16T07:28:58.088Z"
   },
   {
    "duration": 23624,
    "start_time": "2023-08-16T07:29:05.285Z"
   },
   {
    "duration": 4916348,
    "start_time": "2023-08-16T07:33:39.302Z"
   },
   {
    "duration": 1852306,
    "start_time": "2023-08-16T08:55:45.677Z"
   },
   {
    "duration": 158,
    "start_time": "2023-08-16T09:26:47.046Z"
   },
   {
    "duration": 9,
    "start_time": "2023-08-16T09:26:53.504Z"
   },
   {
    "duration": 82742,
    "start_time": "2023-08-16T09:27:04.173Z"
   },
   {
    "duration": 318525,
    "start_time": "2023-08-16T09:39:41.046Z"
   },
   {
    "duration": 7,
    "start_time": "2023-08-16T09:55:06.258Z"
   },
   {
    "duration": 4932124,
    "start_time": "2023-08-16T09:55:10.672Z"
   },
   {
    "duration": 0,
    "start_time": "2023-08-16T11:17:22.798Z"
   },
   {
    "duration": 10,
    "start_time": "2023-08-16T11:21:31.728Z"
   },
   {
    "duration": 5473706,
    "start_time": "2023-08-16T11:21:50.456Z"
   },
   {
    "duration": 12849931,
    "start_time": "2023-08-16T12:53:04.164Z"
   },
   {
    "duration": 17600985,
    "start_time": "2023-08-16T16:27:14.097Z"
   }
  ],
  "kernelspec": {
   "display_name": "Python 3 (ipykernel)",
   "language": "python",
   "name": "python3"
  },
  "language_info": {
   "codemirror_mode": {
    "name": "ipython",
    "version": 3
   },
   "file_extension": ".py",
   "mimetype": "text/x-python",
   "name": "python",
   "nbconvert_exporter": "python",
   "pygments_lexer": "ipython3",
   "version": "3.11.2"
  },
  "toc": {
   "base_numbering": 1,
   "nav_menu": {},
   "number_sections": true,
   "sideBar": true,
   "skip_h1_title": true,
   "title_cell": "Содержание",
   "title_sidebar": "Contents",
   "toc_cell": true,
   "toc_position": {
    "height": "calc(100% - 180px)",
    "left": "10px",
    "top": "150px",
    "width": "165px"
   },
   "toc_section_display": true,
   "toc_window_display": true
  }
 },
 "nbformat": 4,
 "nbformat_minor": 2
}
