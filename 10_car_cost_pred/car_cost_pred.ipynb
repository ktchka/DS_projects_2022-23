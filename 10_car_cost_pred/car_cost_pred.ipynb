{
 "cells": [
  {
   "cell_type": "markdown",
   "metadata": {},
   "source": [
    "# Determining the value of automobiles"
   ]
  },
  {
   "cell_type": "markdown",
   "metadata": {},
   "source": [
    "The service for the sale of used cars \"Not beaten, not painted\" is developing an application to attract new customers. In it, you can quickly find out the market value of your car. You have historical data at your disposal: technical characteristics, equipment and prices of cars. You need to build a model to determine the value. \n",
    "\n",
    "The customer is interested in:\n",
    "\n",
    "- quality of prediction;\n",
    "- speed of prediction;\n",
    "- training time."
   ]
  },
  {
   "cell_type": "markdown",
   "metadata": {},
   "source": [
    "Traits:\n",
    "\n",
    "- DateCrawled - date when the questionnaire was downloaded from the database\n",
    "- VehicleType - type of car body\n",
    "- RegistrationYear - year of car registration\n",
    "- Gearbox - type of gearbox\n",
    "- Power - power (hp)\n",
    "- Model - car model\n",
    "- Kilometer - mileage (km)\n",
    "- RegistrationMonth - month of vehicle registration\n",
    "- FuelType - fuel type\n",
    "- Brand - car brand\n",
    "- Repaired - whether the car has been repaired or not.\n",
    "- DateCreated - date of questionnaire creation\n",
    "- NumberOfPictures - number of photos of the car\n",
    "- PostalCode - postal code of the questionnaire owner (user)\n",
    "- LastSeen - date of the last activity of the user\n",
    "\n",
    "Target attribute\n",
    "\n",
    "- Price - price (euro)"
   ]
  },
  {
   "cell_type": "markdown",
   "metadata": {},
   "source": [
    "## Data preparation"
   ]
  },
  {
   "cell_type": "code",
   "execution_count": 1,
   "metadata": {},
   "outputs": [],
   "source": [
    "import pandas as pd\n",
    "import numpy as np\n",
    "import seaborn as sns\n",
    "import matplotlib.pyplot as plt\n",
    "import time\n",
    "\n",
    "from sklearn.model_selection import train_test_split, RandomizedSearchCV, cross_val_score,GridSearchCV\n",
    "from sklearn.preprocessing import StandardScaler\n",
    "from sklearn.preprocessing import OneHotEncoder\n",
    "from sklearn.linear_model import LinearRegression\n",
    "#from lightgbm import LGBMRegressor\n",
    "from catboost import CatBoostRegressor\n",
    "from sklearn.ensemble import RandomForestRegressor\n",
    "from sklearn.tree import DecisionTreeRegressor\n",
    "from sklearn.model_selection import cross_val_score\n",
    "from sklearn.metrics import mean_squared_error, make_scorer\n",
    "from sklearn.preprocessing import OrdinalEncoder, StandardScaler\n",
    "\n"
   ]
  },
  {
   "cell_type": "code",
   "execution_count": 2,
   "metadata": {},
   "outputs": [
    {
     "data": {
      "text/html": [
       "<div>\n",
       "<style scoped>\n",
       "    .dataframe tbody tr th:only-of-type {\n",
       "        vertical-align: middle;\n",
       "    }\n",
       "\n",
       "    .dataframe tbody tr th {\n",
       "        vertical-align: top;\n",
       "    }\n",
       "\n",
       "    .dataframe thead th {\n",
       "        text-align: right;\n",
       "    }\n",
       "</style>\n",
       "<table border=\"1\" class=\"dataframe\">\n",
       "  <thead>\n",
       "    <tr style=\"text-align: right;\">\n",
       "      <th></th>\n",
       "      <th>DateCrawled</th>\n",
       "      <th>Price</th>\n",
       "      <th>VehicleType</th>\n",
       "      <th>RegistrationYear</th>\n",
       "      <th>Gearbox</th>\n",
       "      <th>Power</th>\n",
       "      <th>Model</th>\n",
       "      <th>Kilometer</th>\n",
       "      <th>RegistrationMonth</th>\n",
       "      <th>FuelType</th>\n",
       "      <th>Brand</th>\n",
       "      <th>Repaired</th>\n",
       "      <th>DateCreated</th>\n",
       "      <th>NumberOfPictures</th>\n",
       "      <th>PostalCode</th>\n",
       "      <th>LastSeen</th>\n",
       "    </tr>\n",
       "  </thead>\n",
       "  <tbody>\n",
       "    <tr>\n",
       "      <th>0</th>\n",
       "      <td>2016-03-24 11:52:17</td>\n",
       "      <td>480</td>\n",
       "      <td>NaN</td>\n",
       "      <td>1993</td>\n",
       "      <td>manual</td>\n",
       "      <td>0</td>\n",
       "      <td>golf</td>\n",
       "      <td>150000</td>\n",
       "      <td>0</td>\n",
       "      <td>petrol</td>\n",
       "      <td>volkswagen</td>\n",
       "      <td>NaN</td>\n",
       "      <td>2016-03-24 00:00:00</td>\n",
       "      <td>0</td>\n",
       "      <td>70435</td>\n",
       "      <td>2016-04-07 03:16:57</td>\n",
       "    </tr>\n",
       "    <tr>\n",
       "      <th>1</th>\n",
       "      <td>2016-03-24 10:58:45</td>\n",
       "      <td>18300</td>\n",
       "      <td>coupe</td>\n",
       "      <td>2011</td>\n",
       "      <td>manual</td>\n",
       "      <td>190</td>\n",
       "      <td>NaN</td>\n",
       "      <td>125000</td>\n",
       "      <td>5</td>\n",
       "      <td>gasoline</td>\n",
       "      <td>audi</td>\n",
       "      <td>yes</td>\n",
       "      <td>2016-03-24 00:00:00</td>\n",
       "      <td>0</td>\n",
       "      <td>66954</td>\n",
       "      <td>2016-04-07 01:46:50</td>\n",
       "    </tr>\n",
       "    <tr>\n",
       "      <th>2</th>\n",
       "      <td>2016-03-14 12:52:21</td>\n",
       "      <td>9800</td>\n",
       "      <td>suv</td>\n",
       "      <td>2004</td>\n",
       "      <td>auto</td>\n",
       "      <td>163</td>\n",
       "      <td>grand</td>\n",
       "      <td>125000</td>\n",
       "      <td>8</td>\n",
       "      <td>gasoline</td>\n",
       "      <td>jeep</td>\n",
       "      <td>NaN</td>\n",
       "      <td>2016-03-14 00:00:00</td>\n",
       "      <td>0</td>\n",
       "      <td>90480</td>\n",
       "      <td>2016-04-05 12:47:46</td>\n",
       "    </tr>\n",
       "  </tbody>\n",
       "</table>\n",
       "</div>"
      ],
      "text/plain": [
       "           DateCrawled  Price VehicleType  RegistrationYear Gearbox  Power  \\\n",
       "0  2016-03-24 11:52:17    480         NaN              1993  manual      0   \n",
       "1  2016-03-24 10:58:45  18300       coupe              2011  manual    190   \n",
       "2  2016-03-14 12:52:21   9800         suv              2004    auto    163   \n",
       "\n",
       "   Model  Kilometer  RegistrationMonth  FuelType       Brand Repaired  \\\n",
       "0   golf     150000                  0    petrol  volkswagen      NaN   \n",
       "1    NaN     125000                  5  gasoline        audi      yes   \n",
       "2  grand     125000                  8  gasoline        jeep      NaN   \n",
       "\n",
       "           DateCreated  NumberOfPictures  PostalCode             LastSeen  \n",
       "0  2016-03-24 00:00:00                 0       70435  2016-04-07 03:16:57  \n",
       "1  2016-03-24 00:00:00                 0       66954  2016-04-07 01:46:50  \n",
       "2  2016-03-14 00:00:00                 0       90480  2016-04-05 12:47:46  "
      ]
     },
     "execution_count": 2,
     "metadata": {},
     "output_type": "execute_result"
    }
   ],
   "source": [
    "df = pd.read_csv('https://code.s3.yandex.net/datasets/autos.csv')\n",
    "df.head(3)"
   ]
  },
  {
   "cell_type": "code",
   "execution_count": 3,
   "metadata": {},
   "outputs": [
    {
     "name": "stdout",
     "output_type": "stream",
     "text": [
      "<class 'pandas.core.frame.DataFrame'>\n",
      "RangeIndex: 354369 entries, 0 to 354368\n",
      "Data columns (total 16 columns):\n",
      " #   Column             Non-Null Count   Dtype \n",
      "---  ------             --------------   ----- \n",
      " 0   DateCrawled        354369 non-null  object\n",
      " 1   Price              354369 non-null  int64 \n",
      " 2   VehicleType        316879 non-null  object\n",
      " 3   RegistrationYear   354369 non-null  int64 \n",
      " 4   Gearbox            334536 non-null  object\n",
      " 5   Power              354369 non-null  int64 \n",
      " 6   Model              334664 non-null  object\n",
      " 7   Kilometer          354369 non-null  int64 \n",
      " 8   RegistrationMonth  354369 non-null  int64 \n",
      " 9   FuelType           321474 non-null  object\n",
      " 10  Brand              354369 non-null  object\n",
      " 11  Repaired           283215 non-null  object\n",
      " 12  DateCreated        354369 non-null  object\n",
      " 13  NumberOfPictures   354369 non-null  int64 \n",
      " 14  PostalCode         354369 non-null  int64 \n",
      " 15  LastSeen           354369 non-null  object\n",
      "dtypes: int64(7), object(9)\n",
      "memory usage: 43.3+ MB\n"
     ]
    }
   ],
   "source": [
    "df.info()"
   ]
  },
  {
   "cell_type": "code",
   "execution_count": 4,
   "metadata": {},
   "outputs": [
    {
     "data": {
      "text/plain": [
       "DateCrawled              0\n",
       "Price                    0\n",
       "VehicleType          37490\n",
       "RegistrationYear         0\n",
       "Gearbox              19833\n",
       "Power                    0\n",
       "Model                19705\n",
       "Kilometer                0\n",
       "RegistrationMonth        0\n",
       "FuelType             32895\n",
       "Brand                    0\n",
       "Repaired             71154\n",
       "DateCreated              0\n",
       "NumberOfPictures         0\n",
       "PostalCode               0\n",
       "LastSeen                 0\n",
       "dtype: int64"
      ]
     },
     "execution_count": 4,
     "metadata": {},
     "output_type": "execute_result"
    }
   ],
   "source": [
    "df.isna().sum()"
   ]
  },
  {
   "cell_type": "markdown",
   "metadata": {},
   "source": [
    "Missing in five columns - Model, Gearbox, VehicleType, FuelType, Repaired\n",
    "\n"
   ]
  },
  {
   "cell_type": "markdown",
   "metadata": {},
   "source": [
    "For convenience, we will lowercase all column names:\n",
    "\n"
   ]
  },
  {
   "cell_type": "code",
   "execution_count": 5,
   "metadata": {},
   "outputs": [
    {
     "data": {
      "text/plain": [
       "Index(['datecrawled', 'price', 'vehicletype', 'registrationyear', 'gearbox',\n",
       "       'power', 'model', 'kilometer', 'registrationmonth', 'fueltype', 'brand',\n",
       "       'repaired', 'datecreated', 'numberofpictures', 'postalcode',\n",
       "       'lastseen'],\n",
       "      dtype='object')"
      ]
     },
     "execution_count": 5,
     "metadata": {},
     "output_type": "execute_result"
    }
   ],
   "source": [
    "df.columns = df.columns.str.lower()\n",
    "df.columns"
   ]
  },
  {
   "cell_type": "markdown",
   "metadata": {},
   "source": [
    "Let's look at the values in the columns with skips - the values here are categorical, the proportion of skipped values is greater than or close to 10%:"
   ]
  },
  {
   "cell_type": "code",
   "execution_count": 6,
   "metadata": {},
   "outputs": [
    {
     "data": {
      "text/plain": [
       "datecrawled           0.000000\n",
       "price                 0.000000\n",
       "vehicletype          10.579368\n",
       "registrationyear      0.000000\n",
       "gearbox               5.596709\n",
       "power                 0.000000\n",
       "model                 5.560588\n",
       "kilometer             0.000000\n",
       "registrationmonth     0.000000\n",
       "fueltype              9.282697\n",
       "brand                 0.000000\n",
       "repaired             20.079070\n",
       "datecreated           0.000000\n",
       "numberofpictures      0.000000\n",
       "postalcode            0.000000\n",
       "lastseen              0.000000\n",
       "dtype: float64"
      ]
     },
     "execution_count": 6,
     "metadata": {},
     "output_type": "execute_result"
    }
   ],
   "source": [
    "df.isnull().sum()/len(df)*100"
   ]
  },
  {
   "cell_type": "code",
   "execution_count": 7,
   "metadata": {},
   "outputs": [],
   "source": [
    "df = df.fillna('unknown') "
   ]
  },
  {
   "cell_type": "markdown",
   "metadata": {},
   "source": [
    "Next, let's consider numerical features:"
   ]
  },
  {
   "cell_type": "code",
   "execution_count": 8,
   "metadata": {},
   "outputs": [
    {
     "data": {
      "text/html": [
       "<div>\n",
       "<style scoped>\n",
       "    .dataframe tbody tr th:only-of-type {\n",
       "        vertical-align: middle;\n",
       "    }\n",
       "\n",
       "    .dataframe tbody tr th {\n",
       "        vertical-align: top;\n",
       "    }\n",
       "\n",
       "    .dataframe thead th {\n",
       "        text-align: right;\n",
       "    }\n",
       "</style>\n",
       "<table border=\"1\" class=\"dataframe\">\n",
       "  <thead>\n",
       "    <tr style=\"text-align: right;\">\n",
       "      <th></th>\n",
       "      <th>price</th>\n",
       "      <th>registrationyear</th>\n",
       "      <th>power</th>\n",
       "      <th>kilometer</th>\n",
       "      <th>registrationmonth</th>\n",
       "      <th>numberofpictures</th>\n",
       "      <th>postalcode</th>\n",
       "    </tr>\n",
       "  </thead>\n",
       "  <tbody>\n",
       "    <tr>\n",
       "      <th>count</th>\n",
       "      <td>354369.000000</td>\n",
       "      <td>354369.000000</td>\n",
       "      <td>354369.000000</td>\n",
       "      <td>354369.000000</td>\n",
       "      <td>354369.000000</td>\n",
       "      <td>354369.0</td>\n",
       "      <td>354369.000000</td>\n",
       "    </tr>\n",
       "    <tr>\n",
       "      <th>mean</th>\n",
       "      <td>4416.656776</td>\n",
       "      <td>2004.234448</td>\n",
       "      <td>110.094337</td>\n",
       "      <td>128211.172535</td>\n",
       "      <td>5.714645</td>\n",
       "      <td>0.0</td>\n",
       "      <td>50508.689087</td>\n",
       "    </tr>\n",
       "    <tr>\n",
       "      <th>std</th>\n",
       "      <td>4514.158514</td>\n",
       "      <td>90.227958</td>\n",
       "      <td>189.850405</td>\n",
       "      <td>37905.341530</td>\n",
       "      <td>3.726421</td>\n",
       "      <td>0.0</td>\n",
       "      <td>25783.096248</td>\n",
       "    </tr>\n",
       "    <tr>\n",
       "      <th>min</th>\n",
       "      <td>0.000000</td>\n",
       "      <td>1000.000000</td>\n",
       "      <td>0.000000</td>\n",
       "      <td>5000.000000</td>\n",
       "      <td>0.000000</td>\n",
       "      <td>0.0</td>\n",
       "      <td>1067.000000</td>\n",
       "    </tr>\n",
       "    <tr>\n",
       "      <th>25%</th>\n",
       "      <td>1050.000000</td>\n",
       "      <td>1999.000000</td>\n",
       "      <td>69.000000</td>\n",
       "      <td>125000.000000</td>\n",
       "      <td>3.000000</td>\n",
       "      <td>0.0</td>\n",
       "      <td>30165.000000</td>\n",
       "    </tr>\n",
       "    <tr>\n",
       "      <th>50%</th>\n",
       "      <td>2700.000000</td>\n",
       "      <td>2003.000000</td>\n",
       "      <td>105.000000</td>\n",
       "      <td>150000.000000</td>\n",
       "      <td>6.000000</td>\n",
       "      <td>0.0</td>\n",
       "      <td>49413.000000</td>\n",
       "    </tr>\n",
       "    <tr>\n",
       "      <th>75%</th>\n",
       "      <td>6400.000000</td>\n",
       "      <td>2008.000000</td>\n",
       "      <td>143.000000</td>\n",
       "      <td>150000.000000</td>\n",
       "      <td>9.000000</td>\n",
       "      <td>0.0</td>\n",
       "      <td>71083.000000</td>\n",
       "    </tr>\n",
       "    <tr>\n",
       "      <th>max</th>\n",
       "      <td>20000.000000</td>\n",
       "      <td>9999.000000</td>\n",
       "      <td>20000.000000</td>\n",
       "      <td>150000.000000</td>\n",
       "      <td>12.000000</td>\n",
       "      <td>0.0</td>\n",
       "      <td>99998.000000</td>\n",
       "    </tr>\n",
       "  </tbody>\n",
       "</table>\n",
       "</div>"
      ],
      "text/plain": [
       "               price  registrationyear          power      kilometer  \\\n",
       "count  354369.000000     354369.000000  354369.000000  354369.000000   \n",
       "mean     4416.656776       2004.234448     110.094337  128211.172535   \n",
       "std      4514.158514         90.227958     189.850405   37905.341530   \n",
       "min         0.000000       1000.000000       0.000000    5000.000000   \n",
       "25%      1050.000000       1999.000000      69.000000  125000.000000   \n",
       "50%      2700.000000       2003.000000     105.000000  150000.000000   \n",
       "75%      6400.000000       2008.000000     143.000000  150000.000000   \n",
       "max     20000.000000       9999.000000   20000.000000  150000.000000   \n",
       "\n",
       "       registrationmonth  numberofpictures     postalcode  \n",
       "count      354369.000000          354369.0  354369.000000  \n",
       "mean            5.714645               0.0   50508.689087  \n",
       "std             3.726421               0.0   25783.096248  \n",
       "min             0.000000               0.0    1067.000000  \n",
       "25%             3.000000               0.0   30165.000000  \n",
       "50%             6.000000               0.0   49413.000000  \n",
       "75%             9.000000               0.0   71083.000000  \n",
       "max            12.000000               0.0   99998.000000  "
      ]
     },
     "execution_count": 8,
     "metadata": {},
     "output_type": "execute_result"
    }
   ],
   "source": [
    "df.describe()"
   ]
  },
  {
   "cell_type": "markdown",
   "metadata": {},
   "source": [
    "Detected outliers in the columns:\n",
    "\n",
    "- price - minimum value - zero;\n",
    "- registrationyear - minimum value - 1000, maximum - 9999;\n",
    "- power - minimum value - zero, maximum value - 20000, which is too much for a passenger car;\n",
    "- registrationmonth - minimum value is zero, most likely a skip;\n",
    "- numberofpictures - all values in the column are zeros."
   ]
  },
  {
   "cell_type": "markdown",
   "metadata": {},
   "source": [
    "\n",
    "Next, we will delete columns that have no value for the study - datecrawled, datecreated and lastseen, postalcode, numberofpictures(filled with zeros),registrationmonth(only the year of registration has value):"
   ]
  },
  {
   "cell_type": "code",
   "execution_count": 9,
   "metadata": {},
   "outputs": [],
   "source": [
    "columns = [\n",
    "    'datecrawled', \n",
    "    'datecreated', \n",
    "    'lastseen', \n",
    "    'postalcode', \n",
    "    'numberofpictures', \n",
    "    'registrationmonth']\n",
    "df = df.drop(columns, axis=1)"
   ]
  },
  {
   "cell_type": "markdown",
   "metadata": {},
   "source": [
    "Let's look at the distribution of values in the columns:\n",
    "\n"
   ]
  },
  {
   "cell_type": "code",
   "execution_count": 10,
   "metadata": {},
   "outputs": [],
   "source": [
    "def make_hist(column, t, xl, yl):\n",
    "    plt.figure(figsize=(8, 6))\n",
    "    sns.histplot(data=df[column], kde=True, bins=50)\n",
    "    plt.title(t)\n",
    "    plt.xlabel(xl)\n",
    "    plt.ylabel(yl)\n",
    "    plt.show()"
   ]
  },
  {
   "cell_type": "code",
   "execution_count": 11,
   "metadata": {},
   "outputs": [
    {
     "data": {
      "image/png": "[encoded data removed]",
      "text/plain": [
       "<Figure size 800x600 with 1 Axes>"
      ]
     },
     "metadata": {},
     "output_type": "display_data"
    }
   ],
   "source": [
    "make_hist('price', 'Price Allocation', 'Price', 'Quantity')\n"
   ]
  },
  {
   "cell_type": "code",
   "execution_count": 12,
   "metadata": {},
   "outputs": [
    {
     "data": {
      "image/png": "[encoded data removed]",
      "text/plain": [
       "<Figure size 800x600 with 1 Axes>"
      ]
     },
     "metadata": {},
     "output_type": "display_data"
    }
   ],
   "source": [
    "make_hist('registrationyear', 'Distribution by year of enrollment', 'Year of enrollment', 'Number')\n"
   ]
  },
  {
   "cell_type": "code",
   "execution_count": 13,
   "metadata": {},
   "outputs": [
    {
     "data": {
      "image/png": "[encoded data removed]",
      "text/plain": [
       "<Figure size 800x600 with 1 Axes>"
      ]
     },
     "metadata": {},
     "output_type": "display_data"
    }
   ],
   "source": [
    "make_hist('power','Power distribution', 'Engine power, hp', 'Quantity')\n"
   ]
  },
  {
   "cell_type": "code",
   "execution_count": 14,
   "metadata": {},
   "outputs": [
    {
     "data": {
      "image/png": "[encoded data removed]",
      "text/plain": [
       "<Figure size 800x600 with 1 Axes>"
      ]
     },
     "metadata": {},
     "output_type": "display_data"
    }
   ],
   "source": [
    "make_hist('kilometer', 'Mileage distribution', 'Mileage, km', 'Quantity')\n"
   ]
  },
  {
   "cell_type": "markdown",
   "metadata": {},
   "source": [
    "The histogram shows that most of the machines have a price up to 2500 euros, we can see quite a large number of zero values:\n",
    "- let's get rid of zero and too small values by removing them up to the 5th percentile, \n",
    "- eliminate the outliers - the price values are above about 13500."
   ]
  },
  {
   "cell_type": "code",
   "execution_count": 15,
   "metadata": {},
   "outputs": [],
   "source": [
    "low_price = np.percentile (df.price , 5)\n",
    "df = df.query('(price <= 13500) and (price > @low_price)')"
   ]
  },
  {
   "cell_type": "markdown",
   "metadata": {},
   "source": [
    "Now let's look at the power values:\n",
    "- replace the zeros with the median. \n",
    "- process the values that are too large"
   ]
  },
  {
   "cell_type": "code",
   "execution_count": 16,
   "metadata": {},
   "outputs": [],
   "source": [
    "df.loc[(df['power'] > 1000) & (df['power'] <= 10000), 'power'] = df['power'] / 10\n",
    "df.loc[(df['power'] > 10000), 'power'] = df['power'] / 100\n",
    "df.loc[df['power'] == 0, 'power'] = df['power'].median()"
   ]
  },
  {
   "cell_type": "markdown",
   "metadata": {},
   "source": [
    "In the column with the year of car registration\n",
    "- let's remove the abnormal values: \n",
    "    - we leave the minimum year of manufacture at 1900  \n",
    "    - maximum 2016:"
   ]
  },
  {
   "cell_type": "code",
   "execution_count": 17,
   "metadata": {},
   "outputs": [],
   "source": [
    "df = df.query('(registrationyear >= 1950) and (registrationyear <= 2016)')\n"
   ]
  },
  {
   "cell_type": "code",
   "execution_count": 18,
   "metadata": {},
   "outputs": [
    {
     "data": {
      "image/png": "[encoded data removed]",
      "text/plain": [
       "<Figure size 800x600 with 1 Axes>"
      ]
     },
     "metadata": {},
     "output_type": "display_data"
    },
    {
     "data": {
      "image/png": "[encoded data removed]",
      "text/plain": [
       "<Figure size 800x600 with 1 Axes>"
      ]
     },
     "metadata": {},
     "output_type": "display_data"
    },
    {
     "data": {
      "image/png": "[encoded data removed]",
      "text/plain": [
       "<Figure size 800x600 with 1 Axes>"
      ]
     },
     "metadata": {},
     "output_type": "display_data"
    }
   ],
   "source": [
    "make_hist('price', 'Price Allocation', 'Price', 'Quantity')\n",
    "make_hist('registrationyear', 'Distribution by year of enrollment', 'Year of enrollment', 'Number')\n",
    "make_hist('power','Power distribution', 'Engine power, hp', 'Quantity')\n",
    "\n"
   ]
  },
  {
   "cell_type": "markdown",
   "metadata": {},
   "source": [
    "Using a heat map, let's look at the relationship of features with a small number of unique values - fueltype, repaired, gearbox:"
   ]
  },
  {
   "cell_type": "code",
   "execution_count": 19,
   "metadata": {},
   "outputs": [
    {
     "data": {
      "image/png": "[encoded data removed]",
      "text/plain": [
       "<Figure size 1000x1000 with 2 Axes>"
      ]
     },
     "metadata": {},
     "output_type": "display_data"
    }
   ],
   "source": [
    "categorial_tmp = ['fueltype', 'repaired', 'gearbox']\n",
    "\n",
    "df_tmp = pd.get_dummies(df[categorial_tmp], drop_first=True)\n",
    "\n",
    "fig, ax = plt.subplots(figsize=(10,10)) \n",
    "sns.heatmap(df_tmp.corr(),annot = True, fmt = '.1g', ax=ax, square=True)\n",
    "plt.title('Correlation of attributes')\n",
    "plt.show() "
   ]
  },
  {
   "cell_type": "markdown",
   "metadata": {},
   "source": [
    "The target attribute is most influenced by: year of registration, power, and fuel type gasoline, as well as mileage.\n",
    "\n",
    "We also see a strong inverse correlation between the types of fuel petrol and gasoline, which is essentially the same type of fuel - gasoline.\n",
    "\n",
    "As a result of data preprocessing:\n",
    "\n",
    "- we got rid of anomalous values and omissions in the data;\n",
    "- removed columns unnecessary for the study;\n",
    "- built histograms of the distribution of features;\n",
    "- built a hitmap demonstrating the relationship between the attributes."
   ]
  },
  {
   "cell_type": "markdown",
   "metadata": {},
   "source": [
    "## Model training"
   ]
  },
  {
   "cell_type": "markdown",
   "metadata": {},
   "source": [
    "Let's divide the initial data into training and test samples"
   ]
  },
  {
   "cell_type": "code",
   "execution_count": 41,
   "metadata": {},
   "outputs": [],
   "source": [
    "df_train, df_temp = train_test_split(df, test_size=0.2, random_state=12345)\n"
   ]
  },
  {
   "cell_type": "code",
   "execution_count": 42,
   "metadata": {},
   "outputs": [],
   "source": [
    "df_test, df_val = train_test_split(df_temp, test_size=0.5, random_state=12345)\n"
   ]
  },
  {
   "cell_type": "markdown",
   "metadata": {},
   "source": [
    "Define features:"
   ]
  },
  {
   "cell_type": "code",
   "execution_count": 43,
   "metadata": {},
   "outputs": [],
   "source": [
    "features_test = df_test.drop(['price'], axis=1)\n",
    "target_test = df_test['price']\n",
    "\n",
    "features_train = df_train.drop(['price'], axis=1)\n",
    "target_train = df_train['price']\n",
    "\n",
    "features_val = df_val.drop(['price'], axis=1)\n",
    "target_val = df_val['price']\n"
   ]
  },
  {
   "cell_type": "code",
   "execution_count": 44,
   "metadata": {},
   "outputs": [],
   "source": [
    "categorial = ['fueltype', 'repaired', 'gearbox', 'vehicletype', 'brand', 'model']\n",
    "\n",
    "encoder_ohe = OneHotEncoder(handle_unknown='ignore')\n",
    "encoder_ohe.fit(features_train[categorial])\n",
    "\n",
    "cat_train = pd.DataFrame(encoder_ohe.transform(features_train[categorial]).toarray(), \n",
    "                                   columns=encoder_ohe.get_feature_names(),\n",
    "                                   index=features_train.index)\n",
    "cat_test = pd.DataFrame(encoder_ohe.transform(features_test[categorial]).toarray(), \n",
    "                                   columns=encoder_ohe.get_feature_names(),\n",
    "                                   index=features_test.index)\n",
    "\n",
    "features_train_ohe = features_train.copy()\n",
    "features_train_ohe.drop(categorial, axis=1, inplace=True)\n",
    "features_train_ohe = features_train_ohe.join(cat_train)\n",
    "\n",
    "features_test_ohe = features_test.copy()\n",
    "features_test_ohe.drop(categorial, axis=1, inplace=True)\n",
    "features_test_ohe = features_test_ohe.join(cat_test)"
   ]
  },
  {
   "cell_type": "markdown",
   "metadata": {},
   "source": [
    "Let's do some feature scaling:"
   ]
  },
  {
   "cell_type": "code",
   "execution_count": 45,
   "metadata": {},
   "outputs": [
    {
     "data": {
      "text/html": [
       "<div>\n",
       "<style scoped>\n",
       "    .dataframe tbody tr th:only-of-type {\n",
       "        vertical-align: middle;\n",
       "    }\n",
       "\n",
       "    .dataframe tbody tr th {\n",
       "        vertical-align: top;\n",
       "    }\n",
       "\n",
       "    .dataframe thead th {\n",
       "        text-align: right;\n",
       "    }\n",
       "</style>\n",
       "<table border=\"1\" class=\"dataframe\">\n",
       "  <thead>\n",
       "    <tr style=\"text-align: right;\">\n",
       "      <th></th>\n",
       "      <th>registrationyear</th>\n",
       "      <th>power</th>\n",
       "      <th>kilometer</th>\n",
       "      <th>x0_cng</th>\n",
       "      <th>x0_electric</th>\n",
       "      <th>x0_gasoline</th>\n",
       "      <th>x0_hybrid</th>\n",
       "      <th>x0_lpg</th>\n",
       "      <th>x0_other</th>\n",
       "      <th>x0_petrol</th>\n",
       "      <th>...</th>\n",
       "      <th>x5_wrangler</th>\n",
       "      <th>x5_x_reihe</th>\n",
       "      <th>x5_x_trail</th>\n",
       "      <th>x5_x_type</th>\n",
       "      <th>x5_xc_reihe</th>\n",
       "      <th>x5_yaris</th>\n",
       "      <th>x5_yeti</th>\n",
       "      <th>x5_ypsilon</th>\n",
       "      <th>x5_z_reihe</th>\n",
       "      <th>x5_zafira</th>\n",
       "    </tr>\n",
       "  </thead>\n",
       "  <tbody>\n",
       "    <tr>\n",
       "      <th>121695</th>\n",
       "      <td>2.129835</td>\n",
       "      <td>-0.271493</td>\n",
       "      <td>0.546467</td>\n",
       "      <td>0.0</td>\n",
       "      <td>0.0</td>\n",
       "      <td>0.0</td>\n",
       "      <td>0.0</td>\n",
       "      <td>0.0</td>\n",
       "      <td>0.0</td>\n",
       "      <td>1.0</td>\n",
       "      <td>...</td>\n",
       "      <td>0.0</td>\n",
       "      <td>0.0</td>\n",
       "      <td>0.0</td>\n",
       "      <td>0.0</td>\n",
       "      <td>0.0</td>\n",
       "      <td>0.0</td>\n",
       "      <td>0.0</td>\n",
       "      <td>0.0</td>\n",
       "      <td>0.0</td>\n",
       "      <td>0.0</td>\n",
       "    </tr>\n",
       "    <tr>\n",
       "      <th>320516</th>\n",
       "      <td>-0.202203</td>\n",
       "      <td>0.816757</td>\n",
       "      <td>0.546467</td>\n",
       "      <td>0.0</td>\n",
       "      <td>0.0</td>\n",
       "      <td>1.0</td>\n",
       "      <td>0.0</td>\n",
       "      <td>0.0</td>\n",
       "      <td>0.0</td>\n",
       "      <td>0.0</td>\n",
       "      <td>...</td>\n",
       "      <td>0.0</td>\n",
       "      <td>0.0</td>\n",
       "      <td>0.0</td>\n",
       "      <td>0.0</td>\n",
       "      <td>0.0</td>\n",
       "      <td>0.0</td>\n",
       "      <td>0.0</td>\n",
       "      <td>0.0</td>\n",
       "      <td>0.0</td>\n",
       "      <td>0.0</td>\n",
       "    </tr>\n",
       "    <tr>\n",
       "      <th>32312</th>\n",
       "      <td>-0.046734</td>\n",
       "      <td>-0.209894</td>\n",
       "      <td>0.546467</td>\n",
       "      <td>0.0</td>\n",
       "      <td>0.0</td>\n",
       "      <td>0.0</td>\n",
       "      <td>0.0</td>\n",
       "      <td>0.0</td>\n",
       "      <td>0.0</td>\n",
       "      <td>1.0</td>\n",
       "      <td>...</td>\n",
       "      <td>0.0</td>\n",
       "      <td>0.0</td>\n",
       "      <td>0.0</td>\n",
       "      <td>0.0</td>\n",
       "      <td>0.0</td>\n",
       "      <td>0.0</td>\n",
       "      <td>0.0</td>\n",
       "      <td>0.0</td>\n",
       "      <td>0.0</td>\n",
       "      <td>0.0</td>\n",
       "    </tr>\n",
       "  </tbody>\n",
       "</table>\n",
       "<p>3 rows × 316 columns</p>\n",
       "</div>"
      ],
      "text/plain": [
       "        registrationyear     power  kilometer  x0_cng  x0_electric  \\\n",
       "121695          2.129835 -0.271493   0.546467     0.0          0.0   \n",
       "320516         -0.202203  0.816757   0.546467     0.0          0.0   \n",
       "32312          -0.046734 -0.209894   0.546467     0.0          0.0   \n",
       "\n",
       "        x0_gasoline  x0_hybrid  x0_lpg  x0_other  x0_petrol  ...  x5_wrangler  \\\n",
       "121695          0.0        0.0     0.0       0.0        1.0  ...          0.0   \n",
       "320516          1.0        0.0     0.0       0.0        0.0  ...          0.0   \n",
       "32312           0.0        0.0     0.0       0.0        1.0  ...          0.0   \n",
       "\n",
       "        x5_x_reihe  x5_x_trail  x5_x_type  x5_xc_reihe  x5_yaris  x5_yeti  \\\n",
       "121695         0.0         0.0        0.0          0.0       0.0      0.0   \n",
       "320516         0.0         0.0        0.0          0.0       0.0      0.0   \n",
       "32312          0.0         0.0        0.0          0.0       0.0      0.0   \n",
       "\n",
       "        x5_ypsilon  x5_z_reihe  x5_zafira  \n",
       "121695         0.0         0.0        0.0  \n",
       "320516         0.0         0.0        0.0  \n",
       "32312          0.0         0.0        0.0  \n",
       "\n",
       "[3 rows x 316 columns]"
      ]
     },
     "execution_count": 45,
     "metadata": {},
     "output_type": "execute_result"
    }
   ],
   "source": [
    "numeric = ['power', 'kilometer', 'registrationyear']\n",
    "\n",
    "scaler = StandardScaler()\n",
    "scaler.fit(df_train[numeric])\n",
    "features_train_ohe[numeric] = scaler.transform(df_train[numeric])\n",
    "features_test_ohe[numeric] = scaler.transform(df_test[numeric])\n",
    "\n",
    "\n",
    "pd.options.mode.chained_assignment = None\n",
    "features_train_ohe.head(3)"
   ]
  },
  {
   "cell_type": "code",
   "execution_count": 46,
   "metadata": {},
   "outputs": [],
   "source": [
    "def RMSE(target,predictions):\n",
    "    MSE = mean_squared_error(target, predictions)\n",
    "    return MSE ** 0.5\n",
    "RMSE_score = make_scorer(RMSE, greater_is_better=False)"
   ]
  },
  {
   "cell_type": "code",
   "execution_count": 47,
   "metadata": {},
   "outputs": [],
   "source": [
    "def get_model_stat(model, features_train, target_train, features_test, target_test):\n",
    "    \"\"\"\n",
    "    function takes a model, returns RMSE, time of fit and time of prediction\n",
    "    \"\"\"\n",
    "    curr_time = time.time()\n",
    "    model.fit(features_train, target_train)\n",
    "    fit_time = round((time.time() - curr_time), 3)\n",
    "    curr_time = time.time()\n",
    "    predicted_test = model.predict(features_test)\n",
    "\n",
    "    predict_time = round((time.time() - curr_time), 3)\n",
    "    rmse = round(mean_squared_error(target_test, predicted_test)**0.5, 3)\n",
    "    \n",
    "    return [rmse, fit_time, predict_time]\n"
   ]
  },
  {
   "cell_type": "code",
   "execution_count": 53,
   "metadata": {},
   "outputs": [],
   "source": [
    "def get_model_stat_grid(model, params, features_train, target_train, features_test, target_test):\n",
    "    curr_time = time.time()\n",
    "    grid = GridSearchCV(model, param_grid = params, cv=5,\n",
    "                                            scoring = RMSE_score, n_jobs=-1)\n",
    "    grid.fit(features_train,target_train)\n",
    "    fit_time = round((time.time() - curr_time), 3)\n",
    "    curr_time = time.time()\n",
    "    predicted_test = grid.predict(features_test)\n",
    "    predict_time = round((time.time() - curr_time), 3)\n",
    "    rmse = round(mean_squared_error(target_test, predicted_test)**0.5, 3)\n",
    "    best_params = grid.best_params_\n",
    "\n",
    "    \n",
    "    return [rmse, fit_time, predict_time, best_params] "
   ]
  },
  {
   "cell_type": "markdown",
   "metadata": {},
   "source": [
    "#### Linear Regression"
   ]
  },
  {
   "cell_type": "code",
   "execution_count": 27,
   "metadata": {},
   "outputs": [
    {
     "name": "stdout",
     "output_type": "stream",
     "text": [
      "RMSE: 2055.965\n",
      "Время обучения: 88.711\n",
      "Время предсказания: 0.226\n"
     ]
    }
   ],
   "source": [
    "model = LinearRegression()\n",
    "\n",
    "linear = get_model_stat(model, features_train_ohe, target_train, features_test_ohe, target_test)\n",
    "\n",
    "print('RMSE:', linear[0])\n",
    "print('Время обучения:', linear[1])\n",
    "print('Время предсказания:', linear[2])"
   ]
  },
  {
   "cell_type": "markdown",
   "metadata": {},
   "source": [
    "#### Decision Tree"
   ]
  },
  {
   "cell_type": "code",
   "execution_count": 28,
   "metadata": {},
   "outputs": [
    {
     "name": "stdout",
     "output_type": "stream",
     "text": [
      "RMSE: 1562.106\n",
      "Время обучения: 6.217\n",
      "Время предсказания: 0.061\n"
     ]
    }
   ],
   "source": [
    "model = DecisionTreeRegressor(max_depth=11, random_state=12345, min_samples_leaf=8, min_samples_split=8)\n",
    "\n",
    "tree = get_model_stat(model, features_train_ohe, target_train, features_test_ohe, target_test)\n",
    "\n",
    "print('RMSE:', tree[0])\n",
    "print('Время обучения:', tree[1])\n",
    "print('Время предсказания:', tree[2])\n"
   ]
  },
  {
   "cell_type": "markdown",
   "metadata": {},
   "source": [
    "#### Random Forest"
   ]
  },
  {
   "cell_type": "code",
   "execution_count": 64,
   "metadata": {},
   "outputs": [],
   "source": [
    "ce_ord = OrdinalEncoder(handle_unknown='use_encoded_value', unknown_value=9999)\n",
    "ce_ord.fit(features_train[categorial])\n",
    "\n",
    "features_train_ord = features_train.copy()\n",
    "features_test_ord = features_test.copy()\n",
    "\n",
    "features_train_ord[categorial] = ce_ord.transform(features_train[categorial])\n",
    "features_test_ord[categorial] = ce_ord.transform(features_test[categorial])\n",
    "\n",
    "features_val[categorial] = ce_ord.transform(features_val[categorial])\n"
   ]
  },
  {
   "cell_type": "code",
   "execution_count": 65,
   "metadata": {},
   "outputs": [
    {
     "data": {
      "text/html": [
       "<div>\n",
       "<style scoped>\n",
       "    .dataframe tbody tr th:only-of-type {\n",
       "        vertical-align: middle;\n",
       "    }\n",
       "\n",
       "    .dataframe tbody tr th {\n",
       "        vertical-align: top;\n",
       "    }\n",
       "\n",
       "    .dataframe thead th {\n",
       "        text-align: right;\n",
       "    }\n",
       "</style>\n",
       "<table border=\"1\" class=\"dataframe\">\n",
       "  <thead>\n",
       "    <tr style=\"text-align: right;\">\n",
       "      <th></th>\n",
       "      <th>registrationyear</th>\n",
       "      <th>power</th>\n",
       "      <th>kilometer</th>\n",
       "      <th>x0_cng</th>\n",
       "      <th>x0_electric</th>\n",
       "      <th>x0_gasoline</th>\n",
       "      <th>x0_hybrid</th>\n",
       "      <th>x0_lpg</th>\n",
       "      <th>x0_other</th>\n",
       "      <th>x0_petrol</th>\n",
       "      <th>...</th>\n",
       "      <th>x5_wrangler</th>\n",
       "      <th>x5_x_reihe</th>\n",
       "      <th>x5_x_trail</th>\n",
       "      <th>x5_x_type</th>\n",
       "      <th>x5_xc_reihe</th>\n",
       "      <th>x5_yaris</th>\n",
       "      <th>x5_yeti</th>\n",
       "      <th>x5_ypsilon</th>\n",
       "      <th>x5_z_reihe</th>\n",
       "      <th>x5_zafira</th>\n",
       "    </tr>\n",
       "  </thead>\n",
       "  <tbody>\n",
       "    <tr>\n",
       "      <th>121695</th>\n",
       "      <td>2.129835</td>\n",
       "      <td>-0.271493</td>\n",
       "      <td>0.546467</td>\n",
       "      <td>0.0</td>\n",
       "      <td>0.0</td>\n",
       "      <td>0.0</td>\n",
       "      <td>0.0</td>\n",
       "      <td>0.0</td>\n",
       "      <td>0.0</td>\n",
       "      <td>1.0</td>\n",
       "      <td>...</td>\n",
       "      <td>0.0</td>\n",
       "      <td>0.0</td>\n",
       "      <td>0.0</td>\n",
       "      <td>0.0</td>\n",
       "      <td>0.0</td>\n",
       "      <td>0.0</td>\n",
       "      <td>0.0</td>\n",
       "      <td>0.0</td>\n",
       "      <td>0.0</td>\n",
       "      <td>0.0</td>\n",
       "    </tr>\n",
       "    <tr>\n",
       "      <th>320516</th>\n",
       "      <td>-0.202203</td>\n",
       "      <td>0.816757</td>\n",
       "      <td>0.546467</td>\n",
       "      <td>0.0</td>\n",
       "      <td>0.0</td>\n",
       "      <td>1.0</td>\n",
       "      <td>0.0</td>\n",
       "      <td>0.0</td>\n",
       "      <td>0.0</td>\n",
       "      <td>0.0</td>\n",
       "      <td>...</td>\n",
       "      <td>0.0</td>\n",
       "      <td>0.0</td>\n",
       "      <td>0.0</td>\n",
       "      <td>0.0</td>\n",
       "      <td>0.0</td>\n",
       "      <td>0.0</td>\n",
       "      <td>0.0</td>\n",
       "      <td>0.0</td>\n",
       "      <td>0.0</td>\n",
       "      <td>0.0</td>\n",
       "    </tr>\n",
       "    <tr>\n",
       "      <th>32312</th>\n",
       "      <td>-0.046734</td>\n",
       "      <td>-0.209894</td>\n",
       "      <td>0.546467</td>\n",
       "      <td>0.0</td>\n",
       "      <td>0.0</td>\n",
       "      <td>0.0</td>\n",
       "      <td>0.0</td>\n",
       "      <td>0.0</td>\n",
       "      <td>0.0</td>\n",
       "      <td>1.0</td>\n",
       "      <td>...</td>\n",
       "      <td>0.0</td>\n",
       "      <td>0.0</td>\n",
       "      <td>0.0</td>\n",
       "      <td>0.0</td>\n",
       "      <td>0.0</td>\n",
       "      <td>0.0</td>\n",
       "      <td>0.0</td>\n",
       "      <td>0.0</td>\n",
       "      <td>0.0</td>\n",
       "      <td>0.0</td>\n",
       "    </tr>\n",
       "  </tbody>\n",
       "</table>\n",
       "<p>3 rows × 316 columns</p>\n",
       "</div>"
      ],
      "text/plain": [
       "        registrationyear     power  kilometer  x0_cng  x0_electric  \\\n",
       "121695          2.129835 -0.271493   0.546467     0.0          0.0   \n",
       "320516         -0.202203  0.816757   0.546467     0.0          0.0   \n",
       "32312          -0.046734 -0.209894   0.546467     0.0          0.0   \n",
       "\n",
       "        x0_gasoline  x0_hybrid  x0_lpg  x0_other  x0_petrol  ...  x5_wrangler  \\\n",
       "121695          0.0        0.0     0.0       0.0        1.0  ...          0.0   \n",
       "320516          1.0        0.0     0.0       0.0        0.0  ...          0.0   \n",
       "32312           0.0        0.0     0.0       0.0        1.0  ...          0.0   \n",
       "\n",
       "        x5_x_reihe  x5_x_trail  x5_x_type  x5_xc_reihe  x5_yaris  x5_yeti  \\\n",
       "121695         0.0         0.0        0.0          0.0       0.0      0.0   \n",
       "320516         0.0         0.0        0.0          0.0       0.0      0.0   \n",
       "32312          0.0         0.0        0.0          0.0       0.0      0.0   \n",
       "\n",
       "        x5_ypsilon  x5_z_reihe  x5_zafira  \n",
       "121695         0.0         0.0        0.0  \n",
       "320516         0.0         0.0        0.0  \n",
       "32312          0.0         0.0        0.0  \n",
       "\n",
       "[3 rows x 316 columns]"
      ]
     },
     "execution_count": 65,
     "metadata": {},
     "output_type": "execute_result"
    }
   ],
   "source": [
    "numeric = ['power', 'kilometer', 'registrationyear']\n",
    "\n",
    "scaler = StandardScaler()\n",
    "scaler.fit(df_train[numeric])\n",
    "features_train_ord[numeric] = scaler.transform(df_train[numeric])\n",
    "features_test_ord[numeric] = scaler.transform(df_test[numeric])\n",
    "features_val[numeric] = scaler.transform(features_val[numeric])\n",
    "\n",
    "pd.options.mode.chained_assignment = None\n",
    "features_train_ohe.head(3)"
   ]
  },
  {
   "cell_type": "code",
   "execution_count": 36,
   "metadata": {},
   "outputs": [
    {
     "name": "stdout",
     "output_type": "stream",
     "text": [
      "RMSE: 1577.404\n",
      "Время обучения: 1001.204\n",
      "Время предсказания: 0.209\n"
     ]
    }
   ],
   "source": [
    "model = RandomForestRegressor(n_estimators=70, max_depth=13, random_state=12345, min_samples_leaf=2, min_samples_split=6)\n",
    "forestregressor_params = {'n_estimators':range(10, 51, 10),\n",
    "             'max_depth':range (1,10)}\n",
    "\n",
    "forest = get_model_stat_grid(model, forestregressor_params, features_train_ord, target_train, features_test_ord, target_test)\n",
    "\n",
    "print('RMSE:', forest[0])\n",
    "print('Время обучения:', forest[1])\n",
    "print('Время предсказания:', forest[2])\n"
   ]
  },
  {
   "cell_type": "markdown",
   "metadata": {},
   "source": [
    "#### LightGBM"
   ]
  },
  {
   "cell_type": "code",
   "execution_count": 54,
   "metadata": {},
   "outputs": [
    {
     "name": "stdout",
     "output_type": "stream",
     "text": [
      "RMSE: 1362.324\n",
      "Время обучения: 12708.486\n",
      "Время предсказания: 0.302\n"
     ]
    }
   ],
   "source": [
    "lgbm_params = {\n",
    "    'n_estimators': [10,50,100],\n",
    "    'max_depth': [15,30],\n",
    "    'num_leaves': [10,20,31],\n",
    "    'learning_rate': [0.1]\n",
    "}\n",
    "\n",
    "\n",
    "model = LGBMRegressor(random_state=12345)\n",
    "light = get_model_stat_grid(model, lgbm_params, features_train_ord, target_train, features_test_ord, target_test)\n",
    "\n",
    "print('RMSE:', light[0])\n",
    "print('Время обучения:', light[1])\n",
    "print('Время предсказания:', light[2])"
   ]
  },
  {
   "cell_type": "markdown",
   "metadata": {},
   "source": [
    "#### CatBoost"
   ]
  },
  {
   "cell_type": "code",
   "execution_count": 35,
   "metadata": {
    "scrolled": true
   },
   "outputs": [
    {
     "name": "stdout",
     "output_type": "stream",
     "text": [
      "0:\tlearn: 3102.1303267\ttotal: 120ms\tremaining: 1.08s\n",
      "9:\tlearn: 2011.2845959\ttotal: 654ms\tremaining: 0us\n",
      "0:\tlearn: 3094.8621973\ttotal: 51.9ms\tremaining: 467ms\n",
      "9:\tlearn: 2004.4539577\ttotal: 572ms\tremaining: 0us\n",
      "0:\tlearn: 3102.5799135\ttotal: 50.9ms\tremaining: 458ms\n",
      "9:\tlearn: 2008.5963278\ttotal: 530ms\tremaining: 0us\n",
      "0:\tlearn: 3099.3189429\ttotal: 76.4ms\tremaining: 688ms\n",
      "9:\tlearn: 2009.3956951\ttotal: 591ms\tremaining: 0us\n",
      "0:\tlearn: 3089.6526838\ttotal: 57.8ms\tremaining: 520ms\n",
      "9:\tlearn: 1998.5434341\ttotal: 564ms\tremaining: 0us\n"
     ]
    },
    {
     "name": "stderr",
     "output_type": "stream",
     "text": [
      "/opt/conda/lib/python3.9/site-packages/sklearn/model_selection/_validation.py:610: FitFailedWarning: Estimator fit failed. The score on this train-test partition for these parameters will be set to nan. Details: \n",
      "Traceback (most recent call last):\n",
      "  File \"/opt/conda/lib/python3.9/site-packages/sklearn/model_selection/_validation.py\", line 593, in _fit_and_score\n",
      "    estimator.fit(X_train, y_train, **fit_params)\n",
      "  File \"/opt/conda/lib/python3.9/site-packages/catboost/core.py\", line 5299, in fit\n",
      "    return self._fit(X, y, cat_features, None, None, None, sample_weight, None, None, None, None, baseline,\n",
      "  File \"/opt/conda/lib/python3.9/site-packages/catboost/core.py\", line 2021, in _fit\n",
      "    train_params = self._prepare_train_params(\n",
      "  File \"/opt/conda/lib/python3.9/site-packages/catboost/core.py\", line 1953, in _prepare_train_params\n",
      "    _check_train_params(params)\n",
      "  File \"_catboost.pyx\", line 5839, in _catboost._check_train_params\n",
      "  File \"_catboost.pyx\", line 5858, in _catboost._check_train_params\n",
      "_catboost.CatBoostError: catboost/private/libs/options/oblivious_tree_options.cpp:122: Maximum tree depth is 16\n",
      "\n",
      "  warnings.warn(\"Estimator fit failed. The score on this train-test\"\n",
      "/opt/conda/lib/python3.9/site-packages/sklearn/model_selection/_validation.py:610: FitFailedWarning: Estimator fit failed. The score on this train-test partition for these parameters will be set to nan. Details: \n",
      "Traceback (most recent call last):\n",
      "  File \"/opt/conda/lib/python3.9/site-packages/sklearn/model_selection/_validation.py\", line 593, in _fit_and_score\n",
      "    estimator.fit(X_train, y_train, **fit_params)\n",
      "  File \"/opt/conda/lib/python3.9/site-packages/catboost/core.py\", line 5299, in fit\n",
      "    return self._fit(X, y, cat_features, None, None, None, sample_weight, None, None, None, None, baseline,\n",
      "  File \"/opt/conda/lib/python3.9/site-packages/catboost/core.py\", line 2021, in _fit\n",
      "    train_params = self._prepare_train_params(\n",
      "  File \"/opt/conda/lib/python3.9/site-packages/catboost/core.py\", line 1953, in _prepare_train_params\n",
      "    _check_train_params(params)\n",
      "  File \"_catboost.pyx\", line 5839, in _catboost._check_train_params\n",
      "  File \"_catboost.pyx\", line 5858, in _catboost._check_train_params\n",
      "_catboost.CatBoostError: catboost/private/libs/options/oblivious_tree_options.cpp:122: Maximum tree depth is 16\n",
      "\n",
      "  warnings.warn(\"Estimator fit failed. The score on this train-test\"\n",
      "/opt/conda/lib/python3.9/site-packages/sklearn/model_selection/_validation.py:610: FitFailedWarning: Estimator fit failed. The score on this train-test partition for these parameters will be set to nan. Details: \n",
      "Traceback (most recent call last):\n",
      "  File \"/opt/conda/lib/python3.9/site-packages/sklearn/model_selection/_validation.py\", line 593, in _fit_and_score\n",
      "    estimator.fit(X_train, y_train, **fit_params)\n",
      "  File \"/opt/conda/lib/python3.9/site-packages/catboost/core.py\", line 5299, in fit\n",
      "    return self._fit(X, y, cat_features, None, None, None, sample_weight, None, None, None, None, baseline,\n",
      "  File \"/opt/conda/lib/python3.9/site-packages/catboost/core.py\", line 2021, in _fit\n",
      "    train_params = self._prepare_train_params(\n",
      "  File \"/opt/conda/lib/python3.9/site-packages/catboost/core.py\", line 1953, in _prepare_train_params\n",
      "    _check_train_params(params)\n",
      "  File \"_catboost.pyx\", line 5839, in _catboost._check_train_params\n",
      "  File \"_catboost.pyx\", line 5858, in _catboost._check_train_params\n",
      "_catboost.CatBoostError: catboost/private/libs/options/oblivious_tree_options.cpp:122: Maximum tree depth is 16\n",
      "\n",
      "  warnings.warn(\"Estimator fit failed. The score on this train-test\"\n",
      "/opt/conda/lib/python3.9/site-packages/sklearn/model_selection/_validation.py:610: FitFailedWarning: Estimator fit failed. The score on this train-test partition for these parameters will be set to nan. Details: \n",
      "Traceback (most recent call last):\n",
      "  File \"/opt/conda/lib/python3.9/site-packages/sklearn/model_selection/_validation.py\", line 593, in _fit_and_score\n",
      "    estimator.fit(X_train, y_train, **fit_params)\n",
      "  File \"/opt/conda/lib/python3.9/site-packages/catboost/core.py\", line 5299, in fit\n",
      "    return self._fit(X, y, cat_features, None, None, None, sample_weight, None, None, None, None, baseline,\n",
      "  File \"/opt/conda/lib/python3.9/site-packages/catboost/core.py\", line 2021, in _fit\n",
      "    train_params = self._prepare_train_params(\n",
      "  File \"/opt/conda/lib/python3.9/site-packages/catboost/core.py\", line 1953, in _prepare_train_params\n",
      "    _check_train_params(params)\n",
      "  File \"_catboost.pyx\", line 5839, in _catboost._check_train_params\n",
      "  File \"_catboost.pyx\", line 5858, in _catboost._check_train_params\n",
      "_catboost.CatBoostError: catboost/private/libs/options/oblivious_tree_options.cpp:122: Maximum tree depth is 16\n",
      "\n",
      "  warnings.warn(\"Estimator fit failed. The score on this train-test\"\n",
      "/opt/conda/lib/python3.9/site-packages/sklearn/model_selection/_validation.py:610: FitFailedWarning: Estimator fit failed. The score on this train-test partition for these parameters will be set to nan. Details: \n",
      "Traceback (most recent call last):\n",
      "  File \"/opt/conda/lib/python3.9/site-packages/sklearn/model_selection/_validation.py\", line 593, in _fit_and_score\n",
      "    estimator.fit(X_train, y_train, **fit_params)\n",
      "  File \"/opt/conda/lib/python3.9/site-packages/catboost/core.py\", line 5299, in fit\n",
      "    return self._fit(X, y, cat_features, None, None, None, sample_weight, None, None, None, None, baseline,\n",
      "  File \"/opt/conda/lib/python3.9/site-packages/catboost/core.py\", line 2021, in _fit\n",
      "    train_params = self._prepare_train_params(\n",
      "  File \"/opt/conda/lib/python3.9/site-packages/catboost/core.py\", line 1953, in _prepare_train_params\n",
      "    _check_train_params(params)\n",
      "  File \"_catboost.pyx\", line 5839, in _catboost._check_train_params\n",
      "  File \"_catboost.pyx\", line 5858, in _catboost._check_train_params\n",
      "_catboost.CatBoostError: catboost/private/libs/options/oblivious_tree_options.cpp:122: Maximum tree depth is 16\n",
      "\n",
      "  warnings.warn(\"Estimator fit failed. The score on this train-test\"\n"
     ]
    },
    {
     "name": "stdout",
     "output_type": "stream",
     "text": [
      "0:\tlearn: 3102.1303267\ttotal: 73.8ms\tremaining: 3.62s\n",
      "49:\tlearn: 1429.4655137\ttotal: 2.93s\tremaining: 0us\n",
      "0:\tlearn: 3094.8621973\ttotal: 54.5ms\tremaining: 2.67s\n",
      "49:\tlearn: 1428.1471166\ttotal: 2.68s\tremaining: 0us\n",
      "0:\tlearn: 3102.5799135\ttotal: 64.4ms\tremaining: 3.15s\n",
      "49:\tlearn: 1426.8981125\ttotal: 3.11s\tremaining: 0us\n",
      "0:\tlearn: 3099.3189429\ttotal: 45.3ms\tremaining: 2.22s\n",
      "49:\tlearn: 1429.0437775\ttotal: 2.97s\tremaining: 0us\n",
      "0:\tlearn: 3089.6526838\ttotal: 55.9ms\tremaining: 2.74s\n",
      "49:\tlearn: 1420.9488456\ttotal: 2.8s\tremaining: 0us\n"
     ]
    },
    {
     "name": "stderr",
     "output_type": "stream",
     "text": [
      "/opt/conda/lib/python3.9/site-packages/sklearn/model_selection/_validation.py:610: FitFailedWarning: Estimator fit failed. The score on this train-test partition for these parameters will be set to nan. Details: \n",
      "Traceback (most recent call last):\n",
      "  File \"/opt/conda/lib/python3.9/site-packages/sklearn/model_selection/_validation.py\", line 593, in _fit_and_score\n",
      "    estimator.fit(X_train, y_train, **fit_params)\n",
      "  File \"/opt/conda/lib/python3.9/site-packages/catboost/core.py\", line 5299, in fit\n",
      "    return self._fit(X, y, cat_features, None, None, None, sample_weight, None, None, None, None, baseline,\n",
      "  File \"/opt/conda/lib/python3.9/site-packages/catboost/core.py\", line 2021, in _fit\n",
      "    train_params = self._prepare_train_params(\n",
      "  File \"/opt/conda/lib/python3.9/site-packages/catboost/core.py\", line 1953, in _prepare_train_params\n",
      "    _check_train_params(params)\n",
      "  File \"_catboost.pyx\", line 5839, in _catboost._check_train_params\n",
      "  File \"_catboost.pyx\", line 5858, in _catboost._check_train_params\n",
      "_catboost.CatBoostError: catboost/private/libs/options/oblivious_tree_options.cpp:122: Maximum tree depth is 16\n",
      "\n",
      "  warnings.warn(\"Estimator fit failed. The score on this train-test\"\n",
      "/opt/conda/lib/python3.9/site-packages/sklearn/model_selection/_validation.py:610: FitFailedWarning: Estimator fit failed. The score on this train-test partition for these parameters will be set to nan. Details: \n",
      "Traceback (most recent call last):\n",
      "  File \"/opt/conda/lib/python3.9/site-packages/sklearn/model_selection/_validation.py\", line 593, in _fit_and_score\n",
      "    estimator.fit(X_train, y_train, **fit_params)\n",
      "  File \"/opt/conda/lib/python3.9/site-packages/catboost/core.py\", line 5299, in fit\n",
      "    return self._fit(X, y, cat_features, None, None, None, sample_weight, None, None, None, None, baseline,\n",
      "  File \"/opt/conda/lib/python3.9/site-packages/catboost/core.py\", line 2021, in _fit\n",
      "    train_params = self._prepare_train_params(\n",
      "  File \"/opt/conda/lib/python3.9/site-packages/catboost/core.py\", line 1953, in _prepare_train_params\n",
      "    _check_train_params(params)\n",
      "  File \"_catboost.pyx\", line 5839, in _catboost._check_train_params\n",
      "  File \"_catboost.pyx\", line 5858, in _catboost._check_train_params\n",
      "_catboost.CatBoostError: catboost/private/libs/options/oblivious_tree_options.cpp:122: Maximum tree depth is 16\n",
      "\n",
      "  warnings.warn(\"Estimator fit failed. The score on this train-test\"\n",
      "/opt/conda/lib/python3.9/site-packages/sklearn/model_selection/_validation.py:610: FitFailedWarning: Estimator fit failed. The score on this train-test partition for these parameters will be set to nan. Details: \n",
      "Traceback (most recent call last):\n",
      "  File \"/opt/conda/lib/python3.9/site-packages/sklearn/model_selection/_validation.py\", line 593, in _fit_and_score\n",
      "    estimator.fit(X_train, y_train, **fit_params)\n",
      "  File \"/opt/conda/lib/python3.9/site-packages/catboost/core.py\", line 5299, in fit\n",
      "    return self._fit(X, y, cat_features, None, None, None, sample_weight, None, None, None, None, baseline,\n",
      "  File \"/opt/conda/lib/python3.9/site-packages/catboost/core.py\", line 2021, in _fit\n",
      "    train_params = self._prepare_train_params(\n",
      "  File \"/opt/conda/lib/python3.9/site-packages/catboost/core.py\", line 1953, in _prepare_train_params\n",
      "    _check_train_params(params)\n",
      "  File \"_catboost.pyx\", line 5839, in _catboost._check_train_params\n",
      "  File \"_catboost.pyx\", line 5858, in _catboost._check_train_params\n",
      "_catboost.CatBoostError: catboost/private/libs/options/oblivious_tree_options.cpp:122: Maximum tree depth is 16\n",
      "\n",
      "  warnings.warn(\"Estimator fit failed. The score on this train-test\"\n",
      "/opt/conda/lib/python3.9/site-packages/sklearn/model_selection/_validation.py:610: FitFailedWarning: Estimator fit failed. The score on this train-test partition for these parameters will be set to nan. Details: \n",
      "Traceback (most recent call last):\n",
      "  File \"/opt/conda/lib/python3.9/site-packages/sklearn/model_selection/_validation.py\", line 593, in _fit_and_score\n",
      "    estimator.fit(X_train, y_train, **fit_params)\n",
      "  File \"/opt/conda/lib/python3.9/site-packages/catboost/core.py\", line 5299, in fit\n",
      "    return self._fit(X, y, cat_features, None, None, None, sample_weight, None, None, None, None, baseline,\n",
      "  File \"/opt/conda/lib/python3.9/site-packages/catboost/core.py\", line 2021, in _fit\n",
      "    train_params = self._prepare_train_params(\n",
      "  File \"/opt/conda/lib/python3.9/site-packages/catboost/core.py\", line 1953, in _prepare_train_params\n",
      "    _check_train_params(params)\n",
      "  File \"_catboost.pyx\", line 5839, in _catboost._check_train_params\n",
      "  File \"_catboost.pyx\", line 5858, in _catboost._check_train_params\n",
      "_catboost.CatBoostError: catboost/private/libs/options/oblivious_tree_options.cpp:122: Maximum tree depth is 16\n",
      "\n",
      "  warnings.warn(\"Estimator fit failed. The score on this train-test\"\n",
      "/opt/conda/lib/python3.9/site-packages/sklearn/model_selection/_validation.py:610: FitFailedWarning: Estimator fit failed. The score on this train-test partition for these parameters will be set to nan. Details: \n",
      "Traceback (most recent call last):\n",
      "  File \"/opt/conda/lib/python3.9/site-packages/sklearn/model_selection/_validation.py\", line 593, in _fit_and_score\n",
      "    estimator.fit(X_train, y_train, **fit_params)\n",
      "  File \"/opt/conda/lib/python3.9/site-packages/catboost/core.py\", line 5299, in fit\n",
      "    return self._fit(X, y, cat_features, None, None, None, sample_weight, None, None, None, None, baseline,\n",
      "  File \"/opt/conda/lib/python3.9/site-packages/catboost/core.py\", line 2021, in _fit\n",
      "    train_params = self._prepare_train_params(\n",
      "  File \"/opt/conda/lib/python3.9/site-packages/catboost/core.py\", line 1953, in _prepare_train_params\n",
      "    _check_train_params(params)\n",
      "  File \"_catboost.pyx\", line 5839, in _catboost._check_train_params\n",
      "  File \"_catboost.pyx\", line 5858, in _catboost._check_train_params\n",
      "_catboost.CatBoostError: catboost/private/libs/options/oblivious_tree_options.cpp:122: Maximum tree depth is 16\n",
      "\n",
      "  warnings.warn(\"Estimator fit failed. The score on this train-test\"\n"
     ]
    },
    {
     "name": "stdout",
     "output_type": "stream",
     "text": [
      "0:\tlearn: 3102.1303267\ttotal: 53.5ms\tremaining: 5.3s\n",
      "99:\tlearn: 1348.3725387\ttotal: 5.79s\tremaining: 0us\n",
      "0:\tlearn: 3094.8621973\ttotal: 82.5ms\tremaining: 8.16s\n",
      "99:\tlearn: 1348.6239543\ttotal: 6.41s\tremaining: 0us\n",
      "0:\tlearn: 3102.5799135\ttotal: 80.9ms\tremaining: 8.01s\n",
      "99:\tlearn: 1346.2408137\ttotal: 5.79s\tremaining: 0us\n",
      "0:\tlearn: 3099.3189429\ttotal: 78.4ms\tremaining: 7.76s\n",
      "99:\tlearn: 1347.6125881\ttotal: 6.11s\tremaining: 0us\n",
      "0:\tlearn: 3089.6526838\ttotal: 62.8ms\tremaining: 6.22s\n",
      "99:\tlearn: 1338.5047234\ttotal: 6.15s\tremaining: 0us\n"
     ]
    },
    {
     "name": "stderr",
     "output_type": "stream",
     "text": [
      "/opt/conda/lib/python3.9/site-packages/sklearn/model_selection/_validation.py:610: FitFailedWarning: Estimator fit failed. The score on this train-test partition for these parameters will be set to nan. Details: \n",
      "Traceback (most recent call last):\n",
      "  File \"/opt/conda/lib/python3.9/site-packages/sklearn/model_selection/_validation.py\", line 593, in _fit_and_score\n",
      "    estimator.fit(X_train, y_train, **fit_params)\n",
      "  File \"/opt/conda/lib/python3.9/site-packages/catboost/core.py\", line 5299, in fit\n",
      "    return self._fit(X, y, cat_features, None, None, None, sample_weight, None, None, None, None, baseline,\n",
      "  File \"/opt/conda/lib/python3.9/site-packages/catboost/core.py\", line 2021, in _fit\n",
      "    train_params = self._prepare_train_params(\n",
      "  File \"/opt/conda/lib/python3.9/site-packages/catboost/core.py\", line 1953, in _prepare_train_params\n",
      "    _check_train_params(params)\n",
      "  File \"_catboost.pyx\", line 5839, in _catboost._check_train_params\n",
      "  File \"_catboost.pyx\", line 5858, in _catboost._check_train_params\n",
      "_catboost.CatBoostError: catboost/private/libs/options/oblivious_tree_options.cpp:122: Maximum tree depth is 16\n",
      "\n",
      "  warnings.warn(\"Estimator fit failed. The score on this train-test\"\n",
      "/opt/conda/lib/python3.9/site-packages/sklearn/model_selection/_validation.py:610: FitFailedWarning: Estimator fit failed. The score on this train-test partition for these parameters will be set to nan. Details: \n",
      "Traceback (most recent call last):\n",
      "  File \"/opt/conda/lib/python3.9/site-packages/sklearn/model_selection/_validation.py\", line 593, in _fit_and_score\n",
      "    estimator.fit(X_train, y_train, **fit_params)\n",
      "  File \"/opt/conda/lib/python3.9/site-packages/catboost/core.py\", line 5299, in fit\n",
      "    return self._fit(X, y, cat_features, None, None, None, sample_weight, None, None, None, None, baseline,\n",
      "  File \"/opt/conda/lib/python3.9/site-packages/catboost/core.py\", line 2021, in _fit\n",
      "    train_params = self._prepare_train_params(\n",
      "  File \"/opt/conda/lib/python3.9/site-packages/catboost/core.py\", line 1953, in _prepare_train_params\n",
      "    _check_train_params(params)\n",
      "  File \"_catboost.pyx\", line 5839, in _catboost._check_train_params\n",
      "  File \"_catboost.pyx\", line 5858, in _catboost._check_train_params\n",
      "_catboost.CatBoostError: catboost/private/libs/options/oblivious_tree_options.cpp:122: Maximum tree depth is 16\n",
      "\n",
      "  warnings.warn(\"Estimator fit failed. The score on this train-test\"\n",
      "/opt/conda/lib/python3.9/site-packages/sklearn/model_selection/_validation.py:610: FitFailedWarning: Estimator fit failed. The score on this train-test partition for these parameters will be set to nan. Details: \n",
      "Traceback (most recent call last):\n",
      "  File \"/opt/conda/lib/python3.9/site-packages/sklearn/model_selection/_validation.py\", line 593, in _fit_and_score\n",
      "    estimator.fit(X_train, y_train, **fit_params)\n",
      "  File \"/opt/conda/lib/python3.9/site-packages/catboost/core.py\", line 5299, in fit\n",
      "    return self._fit(X, y, cat_features, None, None, None, sample_weight, None, None, None, None, baseline,\n",
      "  File \"/opt/conda/lib/python3.9/site-packages/catboost/core.py\", line 2021, in _fit\n",
      "    train_params = self._prepare_train_params(\n",
      "  File \"/opt/conda/lib/python3.9/site-packages/catboost/core.py\", line 1953, in _prepare_train_params\n",
      "    _check_train_params(params)\n",
      "  File \"_catboost.pyx\", line 5839, in _catboost._check_train_params\n",
      "  File \"_catboost.pyx\", line 5858, in _catboost._check_train_params\n",
      "_catboost.CatBoostError: catboost/private/libs/options/oblivious_tree_options.cpp:122: Maximum tree depth is 16\n",
      "\n",
      "  warnings.warn(\"Estimator fit failed. The score on this train-test\"\n",
      "/opt/conda/lib/python3.9/site-packages/sklearn/model_selection/_validation.py:610: FitFailedWarning: Estimator fit failed. The score on this train-test partition for these parameters will be set to nan. Details: \n",
      "Traceback (most recent call last):\n",
      "  File \"/opt/conda/lib/python3.9/site-packages/sklearn/model_selection/_validation.py\", line 593, in _fit_and_score\n",
      "    estimator.fit(X_train, y_train, **fit_params)\n",
      "  File \"/opt/conda/lib/python3.9/site-packages/catboost/core.py\", line 5299, in fit\n",
      "    return self._fit(X, y, cat_features, None, None, None, sample_weight, None, None, None, None, baseline,\n",
      "  File \"/opt/conda/lib/python3.9/site-packages/catboost/core.py\", line 2021, in _fit\n",
      "    train_params = self._prepare_train_params(\n",
      "  File \"/opt/conda/lib/python3.9/site-packages/catboost/core.py\", line 1953, in _prepare_train_params\n",
      "    _check_train_params(params)\n",
      "  File \"_catboost.pyx\", line 5839, in _catboost._check_train_params\n",
      "  File \"_catboost.pyx\", line 5858, in _catboost._check_train_params\n",
      "_catboost.CatBoostError: catboost/private/libs/options/oblivious_tree_options.cpp:122: Maximum tree depth is 16\n",
      "\n",
      "  warnings.warn(\"Estimator fit failed. The score on this train-test\"\n",
      "/opt/conda/lib/python3.9/site-packages/sklearn/model_selection/_validation.py:610: FitFailedWarning: Estimator fit failed. The score on this train-test partition for these parameters will be set to nan. Details: \n",
      "Traceback (most recent call last):\n",
      "  File \"/opt/conda/lib/python3.9/site-packages/sklearn/model_selection/_validation.py\", line 593, in _fit_and_score\n",
      "    estimator.fit(X_train, y_train, **fit_params)\n",
      "  File \"/opt/conda/lib/python3.9/site-packages/catboost/core.py\", line 5299, in fit\n",
      "    return self._fit(X, y, cat_features, None, None, None, sample_weight, None, None, None, None, baseline,\n",
      "  File \"/opt/conda/lib/python3.9/site-packages/catboost/core.py\", line 2021, in _fit\n",
      "    train_params = self._prepare_train_params(\n",
      "  File \"/opt/conda/lib/python3.9/site-packages/catboost/core.py\", line 1953, in _prepare_train_params\n",
      "    _check_train_params(params)\n",
      "  File \"_catboost.pyx\", line 5839, in _catboost._check_train_params\n",
      "  File \"_catboost.pyx\", line 5858, in _catboost._check_train_params\n",
      "_catboost.CatBoostError: catboost/private/libs/options/oblivious_tree_options.cpp:122: Maximum tree depth is 16\n",
      "\n",
      "  warnings.warn(\"Estimator fit failed. The score on this train-test\"\n",
      "/opt/conda/lib/python3.9/site-packages/sklearn/model_selection/_search.py:918: UserWarning: One or more of the test scores are non-finite: [-2008.96321355            nan -1441.76080834            nan\n",
      " -1372.36140138            nan]\n",
      "  warnings.warn(\n"
     ]
    },
    {
     "name": "stdout",
     "output_type": "stream",
     "text": [
      "0:\tlearn: 3097.1703414\ttotal: 105ms\tremaining: 10.3s\n",
      "99:\tlearn: 1346.4851176\ttotal: 7.22s\tremaining: 0us\n",
      "RMSE: 1379.475\n",
      "Время обучения: 73.64\n",
      "Время предсказания: 0.025\n"
     ]
    }
   ],
   "source": [
    "catboost_params = {\n",
    "    'learning_rate': [0.1],\n",
    "    'iterations': [10,50,100],\n",
    "    'max_depth': [10,20]\n",
    "}\n",
    "\n",
    "catboost_model = CatBoostRegressor(random_state=12345, verbose=100)\n",
    "boost = get_model_stat_grid(catboost_model, catboost_params, features_train_ord, target_train, features_test_ord, target_test)\n",
    "\n",
    "print('RMSE:', boost[0])\n",
    "print('Время обучения:', boost[1])\n",
    "print('Время предсказания:', boost[2])"
   ]
  },
  {
   "cell_type": "markdown",
   "metadata": {},
   "source": [
    "## Model Analysis"
   ]
  },
  {
   "cell_type": "code",
   "execution_count": 38,
   "metadata": {},
   "outputs": [],
   "source": [
    "results = pd.DataFrame([\n",
    "    linear,\n",
    "    tree,\n",
    "    forest,\n",
    "    light,\n",
    "    boost], \n",
    "    columns=['RMSE', 'Время обучения', 'Время предсказания'],\n",
    "    index=['LinearRegression', 'DecisionTree', 'RandomForest', 'LightGBM', 'CatBoost'])\n"
   ]
  },
  {
   "cell_type": "code",
   "execution_count": 39,
   "metadata": {},
   "outputs": [
    {
     "data": {
      "text/html": [
       "<div>\n",
       "<style scoped>\n",
       "    .dataframe tbody tr th:only-of-type {\n",
       "        vertical-align: middle;\n",
       "    }\n",
       "\n",
       "    .dataframe tbody tr th {\n",
       "        vertical-align: top;\n",
       "    }\n",
       "\n",
       "    .dataframe thead th {\n",
       "        text-align: right;\n",
       "    }\n",
       "</style>\n",
       "<table border=\"1\" class=\"dataframe\">\n",
       "  <thead>\n",
       "    <tr style=\"text-align: right;\">\n",
       "      <th></th>\n",
       "      <th>RMSE</th>\n",
       "      <th>Время обучения</th>\n",
       "      <th>Время предсказания</th>\n",
       "    </tr>\n",
       "  </thead>\n",
       "  <tbody>\n",
       "    <tr>\n",
       "      <th>LightGBM</th>\n",
       "      <td>1378.826</td>\n",
       "      <td>3987.075</td>\n",
       "      <td>0.482</td>\n",
       "    </tr>\n",
       "    <tr>\n",
       "      <th>CatBoost</th>\n",
       "      <td>1379.475</td>\n",
       "      <td>73.640</td>\n",
       "      <td>0.025</td>\n",
       "    </tr>\n",
       "    <tr>\n",
       "      <th>DecisionTree</th>\n",
       "      <td>1562.106</td>\n",
       "      <td>6.217</td>\n",
       "      <td>0.061</td>\n",
       "    </tr>\n",
       "    <tr>\n",
       "      <th>RandomForest</th>\n",
       "      <td>1577.404</td>\n",
       "      <td>1001.204</td>\n",
       "      <td>0.209</td>\n",
       "    </tr>\n",
       "    <tr>\n",
       "      <th>LinearRegression</th>\n",
       "      <td>2055.965</td>\n",
       "      <td>88.711</td>\n",
       "      <td>0.226</td>\n",
       "    </tr>\n",
       "  </tbody>\n",
       "</table>\n",
       "</div>"
      ],
      "text/plain": [
       "                      RMSE  Время обучения  Время предсказания\n",
       "LightGBM          1378.826        3987.075               0.482\n",
       "CatBoost          1379.475          73.640               0.025\n",
       "DecisionTree      1562.106           6.217               0.061\n",
       "RandomForest      1577.404        1001.204               0.209\n",
       "LinearRegression  2055.965          88.711               0.226"
      ]
     },
     "execution_count": 39,
     "metadata": {},
     "output_type": "execute_result"
    }
   ],
   "source": [
    "results.sort_values(by='RMSE')\n"
   ]
  },
  {
   "cell_type": "markdown",
   "metadata": {},
   "source": [
    "According to the results of the study we can conclude that the best models for solving the problem are LightGBM and CatBoost.\n",
    "\n",
    "Decision tree model shows the best result in terms of learning and prediction speed, but loses in terms of quality, however, it meets the specified value of RMSE < 2500.\n",
    "\n",
    "The linear regression model shows the worst value, but falls within the given RMSE value.\n",
    "\n",
    "Thus, if the accuracy of the model is more important to the customer, then **the best solution is LightGBM**. If the speed of training and prediction is more important, a simpler solving tree model will do. \n"
   ]
  },
  {
   "cell_type": "markdown",
   "metadata": {},
   "source": [
    "## Testing the best model"
   ]
  },
  {
   "cell_type": "code",
   "execution_count": 60,
   "metadata": {},
   "outputs": [
    {
     "data": {
      "text/plain": [
       "{'learning_rate': 0.1, 'max_depth': 30, 'n_estimators': 100, 'num_leaves': 31}"
      ]
     },
     "execution_count": 60,
     "metadata": {},
     "output_type": "execute_result"
    }
   ],
   "source": [
    "light[3]"
   ]
  },
  {
   "cell_type": "code",
   "execution_count": 94,
   "metadata": {},
   "outputs": [],
   "source": [
    "best_model = LGBMRegressor(**{'learning_rate': 0.1, 'max_depth': 30, 'n_estimators': 100, 'num_leaves': 31, 'random_state':12345})"
   ]
  },
  {
   "cell_type": "code",
   "execution_count": 93,
   "metadata": {},
   "outputs": [
    {
     "name": "stdout",
     "output_type": "stream",
     "text": [
      "Validation RMSE:  1392.045\n"
     ]
    }
   ],
   "source": [
    "best_model.fit(features_train_ord, \n",
    "                                target_train,)\n",
    "y_pred = best_model.predict(features_val)\n",
    "\n",
    "rmse = round(mean_squared_error(target_val, y_pred)**0.5, 3)\n",
    "print('Validation RMSE: ', rmse)"
   ]
  }
 ],
 "metadata": {
  "ExecuteTimeLog": [
   {
    "duration": 2716,
    "start_time": "2023-05-16T15:29:24.058Z"
   },
   {
    "duration": 5760,
    "start_time": "2023-05-16T15:29:47.612Z"
   },
   {
    "duration": 186,
    "start_time": "2023-05-16T15:30:13.532Z"
   },
   {
    "duration": 221,
    "start_time": "2023-05-16T15:30:25.028Z"
   },
   {
    "duration": 9,
    "start_time": "2023-05-16T15:32:14.783Z"
   },
   {
    "duration": 196,
    "start_time": "2023-05-16T15:32:46.806Z"
   },
   {
    "duration": 257,
    "start_time": "2023-05-16T15:33:01.850Z"
   },
   {
    "duration": 271,
    "start_time": "2023-05-16T15:33:33.907Z"
   },
   {
    "duration": 58,
    "start_time": "2023-05-16T15:34:44.220Z"
   },
   {
    "duration": 8,
    "start_time": "2023-05-16T15:36:34.520Z"
   },
   {
    "duration": 2611,
    "start_time": "2023-05-16T15:37:15.220Z"
   },
   {
    "duration": 2460,
    "start_time": "2023-05-16T15:38:03.550Z"
   },
   {
    "duration": 2471,
    "start_time": "2023-05-16T15:38:50.653Z"
   },
   {
    "duration": 2428,
    "start_time": "2023-05-16T15:39:27.448Z"
   },
   {
    "duration": 151,
    "start_time": "2023-05-16T15:40:53.284Z"
   },
   {
    "duration": 60,
    "start_time": "2023-05-16T15:42:41.683Z"
   },
   {
    "duration": 46,
    "start_time": "2023-05-16T15:43:56.375Z"
   },
   {
    "duration": 5883,
    "start_time": "2023-05-16T15:44:30.712Z"
   },
   {
    "duration": 1664,
    "start_time": "2023-05-16T15:45:39.317Z"
   },
   {
    "duration": 1772,
    "start_time": "2023-05-17T10:06:05.615Z"
   },
   {
    "duration": 4145,
    "start_time": "2023-05-17T10:06:07.398Z"
   },
   {
    "duration": 161,
    "start_time": "2023-05-17T10:06:11.544Z"
   },
   {
    "duration": 141,
    "start_time": "2023-05-17T10:06:11.707Z"
   },
   {
    "duration": 4,
    "start_time": "2023-05-17T10:06:11.849Z"
   },
   {
    "duration": 177,
    "start_time": "2023-05-17T10:06:11.854Z"
   },
   {
    "duration": 207,
    "start_time": "2023-05-17T10:06:12.033Z"
   },
   {
    "duration": 199,
    "start_time": "2023-05-17T10:06:12.241Z"
   },
   {
    "duration": 39,
    "start_time": "2023-05-17T10:06:12.441Z"
   },
   {
    "duration": 5,
    "start_time": "2023-05-17T10:06:13.212Z"
   },
   {
    "duration": 2126,
    "start_time": "2023-05-17T10:06:13.702Z"
   },
   {
    "duration": 1858,
    "start_time": "2023-05-17T10:06:15.834Z"
   },
   {
    "duration": 1902,
    "start_time": "2023-05-17T10:06:17.693Z"
   },
   {
    "duration": 1889,
    "start_time": "2023-05-17T10:06:19.608Z"
   },
   {
    "duration": 40,
    "start_time": "2023-05-17T10:06:21.501Z"
   },
   {
    "duration": 43,
    "start_time": "2023-05-17T10:06:21.543Z"
   },
   {
    "duration": 42,
    "start_time": "2023-05-17T10:06:21.589Z"
   },
   {
    "duration": 4870,
    "start_time": "2023-05-17T10:06:21.633Z"
   },
   {
    "duration": 1435,
    "start_time": "2023-05-17T10:06:26.515Z"
   },
   {
    "duration": 61,
    "start_time": "2023-05-17T10:06:57.898Z"
   },
   {
    "duration": 20,
    "start_time": "2023-05-17T10:07:17.449Z"
   },
   {
    "duration": 3478,
    "start_time": "2023-05-17T10:11:29.049Z"
   },
   {
    "duration": 106,
    "start_time": "2023-05-17T10:11:45.253Z"
   },
   {
    "duration": 192,
    "start_time": "2023-05-17T10:12:01.105Z"
   },
   {
    "duration": 4,
    "start_time": "2023-05-17T10:22:02.535Z"
   },
   {
    "duration": 113,
    "start_time": "2023-05-17T10:23:35.728Z"
   },
   {
    "duration": 12,
    "start_time": "2023-05-17T10:23:43.887Z"
   },
   {
    "duration": 70071,
    "start_time": "2023-05-17T10:23:45.112Z"
   },
   {
    "duration": 5433,
    "start_time": "2023-05-17T10:26:12.903Z"
   },
   {
    "duration": 283497,
    "start_time": "2023-05-17T10:27:27.801Z"
   },
   {
    "duration": 9539608,
    "start_time": "2023-05-17T10:32:49.311Z"
   },
   {
    "duration": 43886,
    "start_time": "2023-05-17T13:11:48.924Z"
   },
   {
    "duration": 4,
    "start_time": "2023-05-17T13:14:38.496Z"
   },
   {
    "duration": 9,
    "start_time": "2023-05-17T13:14:52.152Z"
   },
   {
    "duration": 1582,
    "start_time": "2023-05-18T07:15:11.172Z"
   },
   {
    "duration": 3148,
    "start_time": "2023-05-18T07:15:12.756Z"
   },
   {
    "duration": 133,
    "start_time": "2023-05-18T07:15:15.906Z"
   },
   {
    "duration": 125,
    "start_time": "2023-05-18T07:15:16.041Z"
   },
   {
    "duration": 11,
    "start_time": "2023-05-18T07:15:16.167Z"
   },
   {
    "duration": 128,
    "start_time": "2023-05-18T07:15:16.180Z"
   },
   {
    "duration": 173,
    "start_time": "2023-05-18T07:15:16.310Z"
   },
   {
    "duration": 191,
    "start_time": "2023-05-18T07:15:17.369Z"
   },
   {
    "duration": 31,
    "start_time": "2023-05-18T07:15:22.550Z"
   },
   {
    "duration": 3,
    "start_time": "2023-05-18T07:15:23.916Z"
   },
   {
    "duration": 1618,
    "start_time": "2023-05-18T07:15:24.362Z"
   },
   {
    "duration": 1493,
    "start_time": "2023-05-18T07:15:25.981Z"
   },
   {
    "duration": 1635,
    "start_time": "2023-05-18T07:15:27.475Z"
   },
   {
    "duration": 1712,
    "start_time": "2023-05-18T07:15:29.112Z"
   },
   {
    "duration": 30,
    "start_time": "2023-05-18T07:15:30.826Z"
   },
   {
    "duration": 46,
    "start_time": "2023-05-18T07:15:30.857Z"
   },
   {
    "duration": 44,
    "start_time": "2023-05-18T07:15:30.905Z"
   },
   {
    "duration": 4054,
    "start_time": "2023-05-18T07:15:31.705Z"
   },
   {
    "duration": 1193,
    "start_time": "2023-05-18T07:15:35.761Z"
   },
   {
    "duration": 55,
    "start_time": "2023-05-18T07:15:37.616Z"
   },
   {
    "duration": 107,
    "start_time": "2023-05-18T07:17:13.206Z"
   },
   {
    "duration": 20,
    "start_time": "2023-05-18T07:17:20.482Z"
   },
   {
    "duration": 3721,
    "start_time": "2023-05-18T07:17:22.116Z"
   },
   {
    "duration": 150,
    "start_time": "2023-05-18T07:17:32.161Z"
   },
   {
    "duration": 3,
    "start_time": "2023-05-18T07:18:40.073Z"
   },
   {
    "duration": 11,
    "start_time": "2023-05-18T07:18:46.809Z"
   },
   {
    "duration": 4,
    "start_time": "2023-05-18T07:19:22.416Z"
   },
   {
    "duration": 3,
    "start_time": "2023-05-18T07:19:27.906Z"
   },
   {
    "duration": 6,
    "start_time": "2023-05-18T07:19:54.162Z"
   },
   {
    "duration": 4,
    "start_time": "2023-05-18T07:20:49.081Z"
   },
   {
    "duration": 6,
    "start_time": "2023-05-18T07:20:51.034Z"
   },
   {
    "duration": 4,
    "start_time": "2023-05-18T07:20:51.422Z"
   },
   {
    "duration": 4,
    "start_time": "2023-05-18T07:20:51.862Z"
   },
   {
    "duration": 4,
    "start_time": "2023-05-18T07:23:19.290Z"
   },
   {
    "duration": 3,
    "start_time": "2023-05-18T07:23:19.703Z"
   },
   {
    "duration": 6,
    "start_time": "2023-05-18T07:23:21.496Z"
   },
   {
    "duration": 54404,
    "start_time": "2023-05-18T07:23:24.271Z"
   },
   {
    "duration": 5,
    "start_time": "2023-05-18T07:33:29.067Z"
   },
   {
    "duration": 52940,
    "start_time": "2023-05-18T07:33:35.743Z"
   },
   {
    "duration": 5343,
    "start_time": "2023-05-18T07:34:28.685Z"
   },
   {
    "duration": 17,
    "start_time": "2023-05-18T07:35:08.976Z"
   },
   {
    "duration": 17,
    "start_time": "2023-05-18T07:35:48.754Z"
   },
   {
    "duration": 14,
    "start_time": "2023-05-18T07:35:56.470Z"
   },
   {
    "duration": 4,
    "start_time": "2023-05-18T07:36:06.654Z"
   },
   {
    "duration": 774,
    "start_time": "2023-05-18T07:36:06.979Z"
   },
   {
    "duration": 151,
    "start_time": "2023-05-18T07:36:07.755Z"
   },
   {
    "duration": 142,
    "start_time": "2023-05-18T07:36:07.908Z"
   },
   {
    "duration": 7,
    "start_time": "2023-05-18T07:36:08.052Z"
   },
   {
    "duration": 194,
    "start_time": "2023-05-18T07:36:08.923Z"
   },
   {
    "duration": 148,
    "start_time": "2023-05-18T07:36:09.119Z"
   },
   {
    "duration": 150,
    "start_time": "2023-05-18T07:36:09.898Z"
   },
   {
    "duration": 24,
    "start_time": "2023-05-18T07:36:11.099Z"
   },
   {
    "duration": 3,
    "start_time": "2023-05-18T07:36:12.066Z"
   },
   {
    "duration": 1765,
    "start_time": "2023-05-18T07:36:12.611Z"
   },
   {
    "duration": 1841,
    "start_time": "2023-05-18T07:36:14.378Z"
   },
   {
    "duration": 1491,
    "start_time": "2023-05-18T07:36:16.221Z"
   },
   {
    "duration": 1633,
    "start_time": "2023-05-18T07:36:17.714Z"
   },
   {
    "duration": 49,
    "start_time": "2023-05-18T07:36:19.349Z"
   },
   {
    "duration": 36,
    "start_time": "2023-05-18T07:36:19.400Z"
   },
   {
    "duration": 40,
    "start_time": "2023-05-18T07:36:19.438Z"
   },
   {
    "duration": 4288,
    "start_time": "2023-05-18T07:36:19.480Z"
   },
   {
    "duration": 1274,
    "start_time": "2023-05-18T07:36:23.775Z"
   },
   {
    "duration": 59,
    "start_time": "2023-05-18T07:36:33.526Z"
   },
   {
    "duration": 16,
    "start_time": "2023-05-18T07:36:36.258Z"
   },
   {
    "duration": 3913,
    "start_time": "2023-05-18T07:36:37.380Z"
   },
   {
    "duration": 154,
    "start_time": "2023-05-18T07:37:08.327Z"
   },
   {
    "duration": 4,
    "start_time": "2023-05-18T07:37:14.279Z"
   },
   {
    "duration": 3,
    "start_time": "2023-05-18T07:37:15.109Z"
   },
   {
    "duration": 6,
    "start_time": "2023-05-18T07:37:16.266Z"
   },
   {
    "duration": 12,
    "start_time": "2023-05-18T07:37:31.917Z"
   },
   {
    "duration": 49,
    "start_time": "2023-05-18T07:38:00.914Z"
   },
   {
    "duration": 1456,
    "start_time": "2023-05-18T07:38:07.587Z"
   },
   {
    "duration": 2992,
    "start_time": "2023-05-18T07:38:09.045Z"
   },
   {
    "duration": 134,
    "start_time": "2023-05-18T07:38:12.039Z"
   },
   {
    "duration": 127,
    "start_time": "2023-05-18T07:38:12.176Z"
   },
   {
    "duration": 5,
    "start_time": "2023-05-18T07:38:12.304Z"
   },
   {
    "duration": 142,
    "start_time": "2023-05-18T07:38:12.310Z"
   },
   {
    "duration": 177,
    "start_time": "2023-05-18T07:38:12.454Z"
   },
   {
    "duration": 195,
    "start_time": "2023-05-18T07:38:12.633Z"
   },
   {
    "duration": 24,
    "start_time": "2023-05-18T07:38:12.830Z"
   },
   {
    "duration": 4,
    "start_time": "2023-05-18T07:38:12.858Z"
   },
   {
    "duration": 1819,
    "start_time": "2023-05-18T07:38:12.875Z"
   },
   {
    "duration": 1494,
    "start_time": "2023-05-18T07:38:14.696Z"
   },
   {
    "duration": 1583,
    "start_time": "2023-05-18T07:38:16.192Z"
   },
   {
    "duration": 1695,
    "start_time": "2023-05-18T07:38:17.777Z"
   },
   {
    "duration": 32,
    "start_time": "2023-05-18T07:38:19.474Z"
   },
   {
    "duration": 34,
    "start_time": "2023-05-18T07:38:19.510Z"
   },
   {
    "duration": 59,
    "start_time": "2023-05-18T07:38:19.546Z"
   },
   {
    "duration": 4080,
    "start_time": "2023-05-18T07:38:19.607Z"
   },
   {
    "duration": 1334,
    "start_time": "2023-05-18T07:38:23.689Z"
   },
   {
    "duration": 60,
    "start_time": "2023-05-18T07:38:25.025Z"
   },
   {
    "duration": 24,
    "start_time": "2023-05-18T07:38:25.086Z"
   },
   {
    "duration": 3417,
    "start_time": "2023-05-18T07:38:25.112Z"
   },
   {
    "duration": 173,
    "start_time": "2023-05-18T07:38:28.531Z"
   },
   {
    "duration": 4,
    "start_time": "2023-05-18T07:38:28.706Z"
   },
   {
    "duration": 87,
    "start_time": "2023-05-18T07:38:28.713Z"
   },
   {
    "duration": 0,
    "start_time": "2023-05-18T07:38:28.802Z"
   },
   {
    "duration": 0,
    "start_time": "2023-05-18T07:38:28.803Z"
   },
   {
    "duration": 4,
    "start_time": "2023-05-18T07:38:53.786Z"
   },
   {
    "duration": 723,
    "start_time": "2023-05-18T07:38:54.926Z"
   },
   {
    "duration": 120,
    "start_time": "2023-05-18T07:38:56.487Z"
   },
   {
    "duration": 121,
    "start_time": "2023-05-18T07:38:57.285Z"
   },
   {
    "duration": 5,
    "start_time": "2023-05-18T07:39:00.266Z"
   },
   {
    "duration": 118,
    "start_time": "2023-05-18T07:39:02.859Z"
   },
   {
    "duration": 140,
    "start_time": "2023-05-18T07:39:03.659Z"
   },
   {
    "duration": 149,
    "start_time": "2023-05-18T07:39:07.066Z"
   },
   {
    "duration": 27,
    "start_time": "2023-05-18T07:39:09.423Z"
   },
   {
    "duration": 3,
    "start_time": "2023-05-18T07:39:11.371Z"
   },
   {
    "duration": 1591,
    "start_time": "2023-05-18T07:39:12.210Z"
   },
   {
    "duration": 1555,
    "start_time": "2023-05-18T07:39:15.123Z"
   },
   {
    "duration": 1505,
    "start_time": "2023-05-18T07:39:16.680Z"
   },
   {
    "duration": 1658,
    "start_time": "2023-05-18T07:39:18.188Z"
   },
   {
    "duration": 27,
    "start_time": "2023-05-18T07:39:21.221Z"
   },
   {
    "duration": 34,
    "start_time": "2023-05-18T07:39:23.999Z"
   },
   {
    "duration": 23,
    "start_time": "2023-05-18T07:39:26.096Z"
   },
   {
    "duration": 4050,
    "start_time": "2023-05-18T07:39:27.780Z"
   },
   {
    "duration": 1199,
    "start_time": "2023-05-18T07:39:31.832Z"
   },
   {
    "duration": 56,
    "start_time": "2023-05-18T07:39:36.263Z"
   },
   {
    "duration": 14,
    "start_time": "2023-05-18T07:39:38.118Z"
   },
   {
    "duration": 3030,
    "start_time": "2023-05-18T07:39:38.790Z"
   },
   {
    "duration": 153,
    "start_time": "2023-05-18T07:39:44.924Z"
   },
   {
    "duration": 5,
    "start_time": "2023-05-18T07:39:46.916Z"
   },
   {
    "duration": 9,
    "start_time": "2023-05-18T07:39:48.261Z"
   },
   {
    "duration": 4,
    "start_time": "2023-05-18T07:39:59.262Z"
   },
   {
    "duration": 1517,
    "start_time": "2023-05-18T07:40:59.358Z"
   },
   {
    "duration": 2932,
    "start_time": "2023-05-18T07:41:00.877Z"
   },
   {
    "duration": 134,
    "start_time": "2023-05-18T07:41:03.811Z"
   },
   {
    "duration": 205,
    "start_time": "2023-05-18T07:41:03.947Z"
   },
   {
    "duration": 5,
    "start_time": "2023-05-18T07:41:04.154Z"
   },
   {
    "duration": 128,
    "start_time": "2023-05-18T07:41:04.674Z"
   },
   {
    "duration": 169,
    "start_time": "2023-05-18T07:41:05.385Z"
   },
   {
    "duration": 186,
    "start_time": "2023-05-18T07:41:07.019Z"
   },
   {
    "duration": 25,
    "start_time": "2023-05-18T07:41:08.902Z"
   },
   {
    "duration": 3,
    "start_time": "2023-05-18T07:41:10.217Z"
   },
   {
    "duration": 1608,
    "start_time": "2023-05-18T07:41:10.585Z"
   },
   {
    "duration": 1487,
    "start_time": "2023-05-18T07:41:12.195Z"
   },
   {
    "duration": 1518,
    "start_time": "2023-05-18T07:41:13.683Z"
   },
   {
    "duration": 1592,
    "start_time": "2023-05-18T07:41:15.204Z"
   },
   {
    "duration": 29,
    "start_time": "2023-05-18T07:41:16.797Z"
   },
   {
    "duration": 28,
    "start_time": "2023-05-18T07:41:16.828Z"
   },
   {
    "duration": 40,
    "start_time": "2023-05-18T07:41:16.857Z"
   },
   {
    "duration": 4038,
    "start_time": "2023-05-18T07:41:16.900Z"
   },
   {
    "duration": 1243,
    "start_time": "2023-05-18T07:41:20.940Z"
   },
   {
    "duration": 51,
    "start_time": "2023-05-18T07:41:22.185Z"
   },
   {
    "duration": 18,
    "start_time": "2023-05-18T07:41:22.238Z"
   },
   {
    "duration": 3167,
    "start_time": "2023-05-18T07:41:22.257Z"
   },
   {
    "duration": 163,
    "start_time": "2023-05-18T07:41:25.426Z"
   },
   {
    "duration": 4,
    "start_time": "2023-05-18T07:41:25.591Z"
   },
   {
    "duration": 7,
    "start_time": "2023-05-18T07:41:25.596Z"
   },
   {
    "duration": 30454,
    "start_time": "2023-05-18T07:41:26.222Z"
   },
   {
    "duration": 5066,
    "start_time": "2023-05-18T07:42:09.063Z"
   },
   {
    "duration": 116,
    "start_time": "2023-05-18T07:44:58.329Z"
   },
   {
    "duration": 11,
    "start_time": "2023-05-18T07:45:34.514Z"
   },
   {
    "duration": 9,
    "start_time": "2023-05-18T07:45:42.063Z"
   },
   {
    "duration": 5,
    "start_time": "2023-05-18T07:47:44.136Z"
   },
   {
    "duration": 12,
    "start_time": "2023-05-18T07:47:58.955Z"
   },
   {
    "duration": 14,
    "start_time": "2023-05-18T07:48:42.273Z"
   },
   {
    "duration": 85,
    "start_time": "2023-05-18T07:50:10.371Z"
   },
   {
    "duration": 16,
    "start_time": "2023-05-18T07:51:06.664Z"
   },
   {
    "duration": 17,
    "start_time": "2023-05-18T07:51:35.037Z"
   },
   {
    "duration": 22,
    "start_time": "2023-05-18T07:52:00.244Z"
   },
   {
    "duration": 14,
    "start_time": "2023-05-18T07:52:51.663Z"
   },
   {
    "duration": 4,
    "start_time": "2023-05-18T07:54:36.298Z"
   },
   {
    "duration": 799,
    "start_time": "2023-05-18T07:54:37.205Z"
   },
   {
    "duration": 137,
    "start_time": "2023-05-18T07:54:38.006Z"
   },
   {
    "duration": 132,
    "start_time": "2023-05-18T07:54:38.145Z"
   },
   {
    "duration": 5,
    "start_time": "2023-05-18T07:54:39.071Z"
   },
   {
    "duration": 145,
    "start_time": "2023-05-18T07:54:40.171Z"
   },
   {
    "duration": 136,
    "start_time": "2023-05-18T07:54:40.500Z"
   },
   {
    "duration": 196,
    "start_time": "2023-05-18T07:54:41.565Z"
   },
   {
    "duration": 28,
    "start_time": "2023-05-18T07:54:42.905Z"
   },
   {
    "duration": 5,
    "start_time": "2023-05-18T07:54:43.964Z"
   },
   {
    "duration": 1828,
    "start_time": "2023-05-18T07:54:44.311Z"
   },
   {
    "duration": 1724,
    "start_time": "2023-05-18T07:54:46.141Z"
   },
   {
    "duration": 1663,
    "start_time": "2023-05-18T07:54:47.866Z"
   },
   {
    "duration": 1703,
    "start_time": "2023-05-18T07:54:49.532Z"
   },
   {
    "duration": 39,
    "start_time": "2023-05-18T07:54:51.238Z"
   },
   {
    "duration": 29,
    "start_time": "2023-05-18T07:54:51.278Z"
   },
   {
    "duration": 24,
    "start_time": "2023-05-18T07:54:51.309Z"
   },
   {
    "duration": 4165,
    "start_time": "2023-05-18T07:54:51.335Z"
   },
   {
    "duration": 1226,
    "start_time": "2023-05-18T07:54:55.503Z"
   },
   {
    "duration": 63,
    "start_time": "2023-05-18T07:54:56.731Z"
   },
   {
    "duration": 14,
    "start_time": "2023-05-18T07:54:56.796Z"
   },
   {
    "duration": 3334,
    "start_time": "2023-05-18T07:54:58.620Z"
   },
   {
    "duration": 154,
    "start_time": "2023-05-18T07:55:04.767Z"
   },
   {
    "duration": 4,
    "start_time": "2023-05-18T07:55:07.020Z"
   },
   {
    "duration": 5,
    "start_time": "2023-05-18T07:55:07.362Z"
   },
   {
    "duration": 79,
    "start_time": "2023-05-18T07:55:11.463Z"
   },
   {
    "duration": 106,
    "start_time": "2023-05-18T07:55:21.496Z"
   },
   {
    "duration": 112,
    "start_time": "2023-05-18T07:56:47.425Z"
   },
   {
    "duration": 887,
    "start_time": "2023-05-18T07:57:34.711Z"
   },
   {
    "duration": 843,
    "start_time": "2023-05-18T07:58:09.870Z"
   },
   {
    "duration": 16,
    "start_time": "2023-05-18T07:58:32.072Z"
   },
   {
    "duration": 162,
    "start_time": "2023-05-18T07:58:38.510Z"
   },
   {
    "duration": 10,
    "start_time": "2023-05-18T08:00:05.590Z"
   },
   {
    "duration": 14,
    "start_time": "2023-05-18T08:00:45.364Z"
   },
   {
    "duration": 4,
    "start_time": "2023-05-18T08:01:29.513Z"
   },
   {
    "duration": 14,
    "start_time": "2023-05-18T08:01:58.574Z"
   },
   {
    "duration": 3,
    "start_time": "2023-05-18T08:03:08.870Z"
   },
   {
    "duration": 884105,
    "start_time": "2023-05-18T08:03:13.967Z"
   },
   {
    "duration": 4,
    "start_time": "2023-05-18T08:26:21.114Z"
   },
   {
    "duration": 874589,
    "start_time": "2023-05-18T08:26:24.866Z"
   },
   {
    "duration": 15,
    "start_time": "2023-05-18T09:08:47.836Z"
   },
   {
    "duration": 439350,
    "start_time": "2023-05-18T09:09:05.141Z"
   },
   {
    "duration": 2530,
    "start_time": "2023-05-18T16:14:52.040Z"
   },
   {
    "duration": 3831,
    "start_time": "2023-05-18T16:14:54.576Z"
   },
   {
    "duration": 130,
    "start_time": "2023-05-18T16:14:58.409Z"
   },
   {
    "duration": 138,
    "start_time": "2023-05-18T16:14:58.540Z"
   },
   {
    "duration": 7,
    "start_time": "2023-05-18T16:14:58.680Z"
   },
   {
    "duration": 146,
    "start_time": "2023-05-18T16:14:58.694Z"
   },
   {
    "duration": 195,
    "start_time": "2023-05-18T16:14:58.842Z"
   },
   {
    "duration": 245,
    "start_time": "2023-05-18T16:14:59.039Z"
   },
   {
    "duration": 32,
    "start_time": "2023-05-18T16:14:59.287Z"
   },
   {
    "duration": 4,
    "start_time": "2023-05-18T16:14:59.321Z"
   },
   {
    "duration": 1787,
    "start_time": "2023-05-18T16:14:59.327Z"
   },
   {
    "duration": 1732,
    "start_time": "2023-05-18T16:15:01.115Z"
   },
   {
    "duration": 2021,
    "start_time": "2023-05-18T16:15:02.849Z"
   },
   {
    "duration": 1942,
    "start_time": "2023-05-18T16:15:04.876Z"
   },
   {
    "duration": 56,
    "start_time": "2023-05-18T16:15:06.820Z"
   },
   {
    "duration": 39,
    "start_time": "2023-05-18T16:15:06.880Z"
   },
   {
    "duration": 35,
    "start_time": "2023-05-18T16:15:06.922Z"
   },
   {
    "duration": 4393,
    "start_time": "2023-05-18T16:15:06.961Z"
   },
   {
    "duration": 1338,
    "start_time": "2023-05-18T16:15:11.357Z"
   },
   {
    "duration": 77,
    "start_time": "2023-05-18T16:15:12.698Z"
   },
   {
    "duration": 22,
    "start_time": "2023-05-18T16:15:12.777Z"
   },
   {
    "duration": 7154,
    "start_time": "2023-05-18T16:15:12.801Z"
   },
   {
    "duration": 177,
    "start_time": "2023-05-18T16:15:19.956Z"
   },
   {
    "duration": 3,
    "start_time": "2023-05-18T16:15:20.135Z"
   },
   {
    "duration": 20,
    "start_time": "2023-05-18T16:15:20.140Z"
   },
   {
    "duration": 22,
    "start_time": "2023-05-18T16:15:20.162Z"
   },
   {
    "duration": 79,
    "start_time": "2023-05-18T16:15:59.250Z"
   },
   {
    "duration": 4389,
    "start_time": "2023-05-18T16:16:05.885Z"
   },
   {
    "duration": 3379,
    "start_time": "2023-05-18T16:16:10.277Z"
   },
   {
    "duration": 142,
    "start_time": "2023-05-18T16:16:13.658Z"
   },
   {
    "duration": 163,
    "start_time": "2023-05-18T16:16:13.803Z"
   },
   {
    "duration": 12,
    "start_time": "2023-05-18T16:16:13.972Z"
   },
   {
    "duration": 147,
    "start_time": "2023-05-18T16:16:13.987Z"
   },
   {
    "duration": 234,
    "start_time": "2023-05-18T16:16:14.137Z"
   },
   {
    "duration": 274,
    "start_time": "2023-05-18T16:16:14.373Z"
   },
   {
    "duration": 46,
    "start_time": "2023-05-18T16:16:14.649Z"
   },
   {
    "duration": 4,
    "start_time": "2023-05-18T16:16:14.697Z"
   },
   {
    "duration": 1890,
    "start_time": "2023-05-18T16:16:14.703Z"
   },
   {
    "duration": 1619,
    "start_time": "2023-05-18T16:16:16.594Z"
   },
   {
    "duration": 1753,
    "start_time": "2023-05-18T16:16:18.216Z"
   },
   {
    "duration": 1724,
    "start_time": "2023-05-18T16:16:19.972Z"
   },
   {
    "duration": 32,
    "start_time": "2023-05-18T16:16:21.698Z"
   },
   {
    "duration": 54,
    "start_time": "2023-05-18T16:16:21.732Z"
   },
   {
    "duration": 82,
    "start_time": "2023-05-18T16:16:21.788Z"
   },
   {
    "duration": 4401,
    "start_time": "2023-05-18T16:16:21.881Z"
   },
   {
    "duration": 1270,
    "start_time": "2023-05-18T16:16:26.284Z"
   },
   {
    "duration": 81,
    "start_time": "2023-05-18T16:16:27.556Z"
   },
   {
    "duration": 32,
    "start_time": "2023-05-18T16:16:27.639Z"
   },
   {
    "duration": 5845,
    "start_time": "2023-05-18T16:16:27.677Z"
   },
   {
    "duration": 173,
    "start_time": "2023-05-18T16:16:33.524Z"
   },
   {
    "duration": 3,
    "start_time": "2023-05-18T16:16:33.698Z"
   },
   {
    "duration": 106,
    "start_time": "2023-05-18T16:16:33.703Z"
   },
   {
    "duration": 6,
    "start_time": "2023-05-18T16:16:33.811Z"
   },
   {
    "duration": 2439,
    "start_time": "2023-05-18T16:16:57.141Z"
   },
   {
    "duration": 3410,
    "start_time": "2023-05-18T16:16:59.582Z"
   },
   {
    "duration": 132,
    "start_time": "2023-05-18T16:17:02.993Z"
   },
   {
    "duration": 119,
    "start_time": "2023-05-18T16:17:03.128Z"
   },
   {
    "duration": 6,
    "start_time": "2023-05-18T16:17:03.256Z"
   },
   {
    "duration": 148,
    "start_time": "2023-05-18T16:17:03.268Z"
   },
   {
    "duration": 197,
    "start_time": "2023-05-18T16:17:03.418Z"
   },
   {
    "duration": 222,
    "start_time": "2023-05-18T16:17:03.616Z"
   },
   {
    "duration": 51,
    "start_time": "2023-05-18T16:17:03.840Z"
   },
   {
    "duration": 9,
    "start_time": "2023-05-18T16:17:03.893Z"
   },
   {
    "duration": 2042,
    "start_time": "2023-05-18T16:17:03.907Z"
   },
   {
    "duration": 1719,
    "start_time": "2023-05-18T16:17:05.951Z"
   },
   {
    "duration": 1738,
    "start_time": "2023-05-18T16:17:07.672Z"
   },
   {
    "duration": 1734,
    "start_time": "2023-05-18T16:17:09.413Z"
   },
   {
    "duration": 47,
    "start_time": "2023-05-18T16:17:11.149Z"
   },
   {
    "duration": 42,
    "start_time": "2023-05-18T16:17:11.197Z"
   },
   {
    "duration": 54,
    "start_time": "2023-05-18T16:17:11.242Z"
   },
   {
    "duration": 4550,
    "start_time": "2023-05-18T16:17:11.298Z"
   },
   {
    "duration": 1424,
    "start_time": "2023-05-18T16:17:15.851Z"
   },
   {
    "duration": 59,
    "start_time": "2023-05-18T16:17:17.277Z"
   },
   {
    "duration": 31,
    "start_time": "2023-05-18T16:17:17.339Z"
   },
   {
    "duration": 4995,
    "start_time": "2023-05-18T16:17:17.373Z"
   },
   {
    "duration": 171,
    "start_time": "2023-05-18T16:17:22.369Z"
   },
   {
    "duration": 3,
    "start_time": "2023-05-18T16:17:22.542Z"
   },
   {
    "duration": 44,
    "start_time": "2023-05-18T16:17:22.546Z"
   },
   {
    "duration": 32,
    "start_time": "2023-05-18T16:17:22.592Z"
   },
   {
    "duration": 4371,
    "start_time": "2023-05-18T16:17:39.381Z"
   },
   {
    "duration": 3345,
    "start_time": "2023-05-18T16:17:43.755Z"
   },
   {
    "duration": 129,
    "start_time": "2023-05-18T16:17:47.102Z"
   },
   {
    "duration": 116,
    "start_time": "2023-05-18T16:17:47.233Z"
   },
   {
    "duration": 13,
    "start_time": "2023-05-18T16:17:47.361Z"
   },
   {
    "duration": 1550,
    "start_time": "2023-05-18T16:17:56.035Z"
   },
   {
    "duration": 936,
    "start_time": "2023-05-18T16:17:58.050Z"
   },
   {
    "duration": 120,
    "start_time": "2023-05-18T16:17:58.989Z"
   },
   {
    "duration": 119,
    "start_time": "2023-05-18T16:17:59.111Z"
   },
   {
    "duration": 8,
    "start_time": "2023-05-18T16:18:00.339Z"
   },
   {
    "duration": 180,
    "start_time": "2023-05-18T16:18:01.738Z"
   },
   {
    "duration": 181,
    "start_time": "2023-05-18T16:18:02.272Z"
   },
   {
    "duration": 204,
    "start_time": "2023-05-18T16:18:03.594Z"
   },
   {
    "duration": 32,
    "start_time": "2023-05-18T16:18:05.277Z"
   },
   {
    "duration": 4,
    "start_time": "2023-05-18T16:18:06.557Z"
   },
   {
    "duration": 2015,
    "start_time": "2023-05-18T16:18:07.297Z"
   },
   {
    "duration": 1725,
    "start_time": "2023-05-18T16:18:09.314Z"
   },
   {
    "duration": 1864,
    "start_time": "2023-05-18T16:18:11.041Z"
   },
   {
    "duration": 2047,
    "start_time": "2023-05-18T16:18:12.907Z"
   },
   {
    "duration": 42,
    "start_time": "2023-05-18T16:18:14.957Z"
   },
   {
    "duration": 37,
    "start_time": "2023-05-18T16:18:15.002Z"
   },
   {
    "duration": 39,
    "start_time": "2023-05-18T16:18:16.935Z"
   },
   {
    "duration": 4946,
    "start_time": "2023-05-18T16:18:19.143Z"
   },
   {
    "duration": 1415,
    "start_time": "2023-05-18T16:18:24.094Z"
   },
   {
    "duration": 95,
    "start_time": "2023-05-18T16:18:27.856Z"
   },
   {
    "duration": 25,
    "start_time": "2023-05-18T16:18:29.343Z"
   },
   {
    "duration": 5360,
    "start_time": "2023-05-18T16:18:30.585Z"
   },
   {
    "duration": 178,
    "start_time": "2023-05-18T16:18:37.694Z"
   },
   {
    "duration": 5,
    "start_time": "2023-05-18T16:18:39.667Z"
   },
   {
    "duration": 6,
    "start_time": "2023-05-18T16:18:40.272Z"
   },
   {
    "duration": 5,
    "start_time": "2023-05-18T16:18:40.812Z"
   },
   {
    "duration": 88947,
    "start_time": "2023-05-18T16:18:43.046Z"
   },
   {
    "duration": 6284,
    "start_time": "2023-05-18T16:20:15.796Z"
   },
   {
    "duration": 1060,
    "start_time": "2023-05-18T16:20:35.991Z"
   },
   {
    "duration": 202,
    "start_time": "2023-05-18T16:20:45.736Z"
   },
   {
    "duration": 230,
    "start_time": "2023-05-18T16:20:53.553Z"
   },
   {
    "duration": 89,
    "start_time": "2023-05-18T16:23:31.803Z"
   },
   {
    "duration": 44,
    "start_time": "2023-05-18T16:23:46.738Z"
   },
   {
    "duration": 39,
    "start_time": "2023-05-18T16:23:55.109Z"
   },
   {
    "duration": 73671,
    "start_time": "2023-05-18T16:25:02.851Z"
   },
   {
    "duration": 1001418,
    "start_time": "2023-05-18T16:26:31.300Z"
   },
   {
    "duration": 3987566,
    "start_time": "2023-05-18T16:51:45.013Z"
   },
   {
    "duration": 4,
    "start_time": "2023-05-18T18:15:58.198Z"
   },
   {
    "duration": 9,
    "start_time": "2023-05-18T18:16:00.622Z"
   },
   {
    "duration": 2253,
    "start_time": "2023-05-21T10:29:49.984Z"
   },
   {
    "duration": 1287,
    "start_time": "2023-05-21T10:29:52.240Z"
   },
   {
    "duration": 128,
    "start_time": "2023-05-21T10:29:53.529Z"
   },
   {
    "duration": 136,
    "start_time": "2023-05-21T10:29:54.369Z"
   },
   {
    "duration": 10,
    "start_time": "2023-05-21T10:29:56.365Z"
   },
   {
    "duration": 119,
    "start_time": "2023-05-21T10:29:58.102Z"
   },
   {
    "duration": 189,
    "start_time": "2023-05-21T10:29:58.673Z"
   },
   {
    "duration": 246,
    "start_time": "2023-05-21T10:30:00.469Z"
   },
   {
    "duration": 32,
    "start_time": "2023-05-21T10:30:02.295Z"
   },
   {
    "duration": 5,
    "start_time": "2023-05-21T10:30:03.665Z"
   },
   {
    "duration": 1928,
    "start_time": "2023-05-21T10:30:04.325Z"
   },
   {
    "duration": 1792,
    "start_time": "2023-05-21T10:30:06.256Z"
   },
   {
    "duration": 1881,
    "start_time": "2023-05-21T10:30:08.050Z"
   },
   {
    "duration": 2238,
    "start_time": "2023-05-21T10:30:09.934Z"
   },
   {
    "duration": 51,
    "start_time": "2023-05-21T10:30:12.174Z"
   },
   {
    "duration": 64,
    "start_time": "2023-05-21T10:30:12.227Z"
   },
   {
    "duration": 47,
    "start_time": "2023-05-21T10:30:14.118Z"
   },
   {
    "duration": 5216,
    "start_time": "2023-05-21T10:30:15.682Z"
   },
   {
    "duration": 1611,
    "start_time": "2023-05-21T10:30:20.901Z"
   },
   {
    "duration": 92,
    "start_time": "2023-05-21T10:31:00.062Z"
   },
   {
    "duration": 134,
    "start_time": "2023-05-21T10:31:15.722Z"
   },
   {
    "duration": 7,
    "start_time": "2023-05-21T10:31:46.192Z"
   },
   {
    "duration": 1168,
    "start_time": "2023-05-21T10:31:47.006Z"
   },
   {
    "duration": 147,
    "start_time": "2023-05-21T10:31:48.181Z"
   },
   {
    "duration": 157,
    "start_time": "2023-05-21T10:31:48.330Z"
   },
   {
    "duration": 6,
    "start_time": "2023-05-21T10:31:48.910Z"
   },
   {
    "duration": 130,
    "start_time": "2023-05-21T10:31:50.883Z"
   },
   {
    "duration": 169,
    "start_time": "2023-05-21T10:31:51.453Z"
   },
   {
    "duration": 202,
    "start_time": "2023-05-21T10:31:52.985Z"
   },
   {
    "duration": 30,
    "start_time": "2023-05-21T10:31:55.286Z"
   },
   {
    "duration": 4,
    "start_time": "2023-05-21T10:31:56.886Z"
   },
   {
    "duration": 1836,
    "start_time": "2023-05-21T10:31:57.287Z"
   },
   {
    "duration": 1749,
    "start_time": "2023-05-21T10:31:59.125Z"
   },
   {
    "duration": 1721,
    "start_time": "2023-05-21T10:32:00.876Z"
   },
   {
    "duration": 1851,
    "start_time": "2023-05-21T10:32:02.599Z"
   },
   {
    "duration": 58,
    "start_time": "2023-05-21T10:32:04.452Z"
   },
   {
    "duration": 44,
    "start_time": "2023-05-21T10:32:04.512Z"
   },
   {
    "duration": 38,
    "start_time": "2023-05-21T10:32:04.572Z"
   },
   {
    "duration": 4975,
    "start_time": "2023-05-21T10:32:04.613Z"
   },
   {
    "duration": 1365,
    "start_time": "2023-05-21T10:32:09.592Z"
   },
   {
    "duration": 85,
    "start_time": "2023-05-21T10:32:12.670Z"
   },
   {
    "duration": 29,
    "start_time": "2023-05-21T10:32:14.054Z"
   },
   {
    "duration": 23,
    "start_time": "2023-05-21T10:33:13.593Z"
   },
   {
    "duration": 9857,
    "start_time": "2023-05-21T10:33:15.814Z"
   },
   {
    "duration": 216,
    "start_time": "2023-05-21T10:33:32.118Z"
   },
   {
    "duration": 5,
    "start_time": "2023-05-21T10:33:35.298Z"
   },
   {
    "duration": 7,
    "start_time": "2023-05-21T10:33:35.997Z"
   },
   {
    "duration": 10,
    "start_time": "2023-05-21T10:33:36.969Z"
   },
   {
    "duration": 14,
    "start_time": "2023-05-21T10:33:53.223Z"
   },
   {
    "duration": 1210,
    "start_time": "2023-05-21T10:33:59.895Z"
   },
   {
    "duration": 14092725,
    "start_time": "2023-05-21T10:34:04.254Z"
   },
   {
    "duration": 12,
    "start_time": "2023-05-21T14:29:55.797Z"
   },
   {
    "duration": 13,
    "start_time": "2023-05-21T14:33:25.371Z"
   },
   {
    "duration": 12708795,
    "start_time": "2023-05-21T14:33:36.886Z"
   },
   {
    "duration": 14,
    "start_time": "2023-05-21T18:07:02.213Z"
   },
   {
    "duration": 17,
    "start_time": "2023-05-21T18:09:12.754Z"
   },
   {
    "duration": 29,
    "start_time": "2023-05-21T18:09:22.170Z"
   },
   {
    "duration": 7,
    "start_time": "2023-05-21T18:10:39.479Z"
   },
   {
    "duration": 52,
    "start_time": "2023-05-21T18:11:10.898Z"
   },
   {
    "duration": 6,
    "start_time": "2023-05-21T18:11:15.406Z"
   },
   {
    "duration": 457973,
    "start_time": "2023-05-21T18:12:42.109Z"
   },
   {
    "duration": 22,
    "start_time": "2023-05-21T18:20:45.977Z"
   },
   {
    "duration": 983,
    "start_time": "2023-05-21T18:22:06.600Z"
   },
   {
    "duration": 1170,
    "start_time": "2023-05-21T18:22:14.975Z"
   },
   {
    "duration": 194,
    "start_time": "2023-05-21T18:22:44.702Z"
   },
   {
    "duration": 115,
    "start_time": "2023-05-21T18:22:50.574Z"
   },
   {
    "duration": 13,
    "start_time": "2023-05-21T18:23:13.320Z"
   },
   {
    "duration": 7,
    "start_time": "2023-05-21T18:23:18.666Z"
   },
   {
    "duration": 6,
    "start_time": "2023-05-21T18:24:11.222Z"
   },
   {
    "duration": 117,
    "start_time": "2023-05-21T18:26:32.472Z"
   },
   {
    "duration": 5,
    "start_time": "2023-05-21T18:27:39.090Z"
   },
   {
    "duration": 5,
    "start_time": "2023-05-21T18:31:57.351Z"
   },
   {
    "duration": 12,
    "start_time": "2023-05-21T18:32:04.570Z"
   },
   {
    "duration": 12,
    "start_time": "2023-05-21T18:32:07.597Z"
   },
   {
    "duration": 6,
    "start_time": "2023-05-21T18:32:38.498Z"
   },
   {
    "duration": 163429,
    "start_time": "2023-05-21T18:38:56.777Z"
   },
   {
    "duration": 30,
    "start_time": "2023-05-21T18:42:01.500Z"
   },
   {
    "duration": 4,
    "start_time": "2023-05-21T18:43:30.533Z"
   },
   {
    "duration": 92435,
    "start_time": "2023-05-21T18:43:44.778Z"
   },
   {
    "duration": 4,
    "start_time": "2023-05-21T18:45:18.513Z"
   },
   {
    "duration": 39499,
    "start_time": "2023-05-21T18:45:23.877Z"
   },
   {
    "duration": 4,
    "start_time": "2023-05-21T18:46:15.413Z"
   },
   {
    "duration": 409701,
    "start_time": "2023-05-21T18:47:07.779Z"
   },
   {
    "duration": 5,
    "start_time": "2023-05-21T18:55:00.841Z"
   },
   {
    "duration": 5,
    "start_time": "2023-05-21T18:55:24.341Z"
   },
   {
    "duration": 3,
    "start_time": "2023-05-21T18:56:13.940Z"
   },
   {
    "duration": 39023,
    "start_time": "2023-05-21T18:57:56.055Z"
   },
   {
    "duration": 4,
    "start_time": "2023-05-21T18:59:26.107Z"
   },
   {
    "duration": 40062,
    "start_time": "2023-05-21T18:59:27.516Z"
   },
   {
    "duration": 5,
    "start_time": "2023-05-21T19:00:26.879Z"
   },
   {
    "duration": 78041,
    "start_time": "2023-05-21T19:00:28.539Z"
   },
   {
    "duration": 3,
    "start_time": "2023-05-21T19:02:00.684Z"
   },
   {
    "duration": 487320,
    "start_time": "2023-05-21T19:02:00.689Z"
   },
   {
    "duration": 4,
    "start_time": "2023-05-21T19:12:21.769Z"
   }
  ],
  "kernelspec": {
   "display_name": "Python 3 (ipykernel)",
   "language": "python",
   "name": "python3"
  },
  "language_info": {
   "codemirror_mode": {
    "name": "ipython",
    "version": 3
   },
   "file_extension": ".py",
   "mimetype": "text/x-python",
   "name": "python",
   "nbconvert_exporter": "python",
   "pygments_lexer": "ipython3",
   "version": "3.11.2"
  },
  "toc": {
   "base_numbering": 1,
   "nav_menu": {},
   "number_sections": true,
   "sideBar": true,
   "skip_h1_title": true,
   "title_cell": "Table of Contents",
   "title_sidebar": "Contents",
   "toc_cell": false,
   "toc_position": {},
   "toc_section_display": true,
   "toc_window_display": false
  }
 },
 "nbformat": 4,
 "nbformat_minor": 2
}
