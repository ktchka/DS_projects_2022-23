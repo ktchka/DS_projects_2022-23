{
 "cells": [
  {
   "cell_type": "markdown",
   "id": "GEqQaHzsZ_bA",
   "metadata": {
    "id": "GEqQaHzsZ_bA"
   },
   "source": [
    "## Predicting housing costs\n",
    "\n",
    "In the project, you need to train a linear regression model on housing data in California in 1990. You need to predict the median price of a house in a housing tract based on the data. Train the model and make predictions on a test sample. Use the metrics RMSE, MAE, and R2 to evaluate the quality of the model."
   ]
  },
  {
   "cell_type": "markdown",
   "id": "a845b568",
   "metadata": {},
   "source": [
    "\n",
    "The dataset columns contain the following data:\n",
    "- longitude - latitude;\n",
    "- latitude - longitude;\n",
    "- housing_median_age - median age of residents of the housing estate;\n",
    "- total_rooms - total number of rooms in the houses of the housing estate;\n",
    "- total_bedrooms - total number of bedrooms in the houses of the housing estate;\n",
    "- population - number of people who live in the housing estate;\n",
    "- households - number of households in the housing estate;\n",
    "- median_income - median income of residents of the housing estate;\n",
    "- median_house_value - median value of a house in the housing estate;\n",
    "- ocean_proximity - proximity to the ocean.\n",
    "\n",
    "Based on the data, we need to predict the median value of a house in the housing estate - median_house_value. \n"
   ]
  },
  {
   "cell_type": "markdown",
   "id": "53871372",
   "metadata": {
    "id": "53871372"
   },
   "source": [
    "# Data preparation test 1"
   ]
  },
  {
   "cell_type": "code",
   "execution_count": 1,
   "id": "70bd0f74",
   "metadata": {},
   "outputs": [],
   "source": [
    "import pandas as pd \n",
    "import numpy as np\n",
    "\n",
    "import pyspark\n",
    "from pyspark.sql import SparkSession\n",
    "from pyspark.sql.types import *\n",
    "import pyspark.sql.functions as F\n",
    "from pyspark.sql.functions import col, sum, isnan,when,count\n",
    "\n",
    "\n",
    "from pyspark.ml.feature import StringIndexer, VectorAssembler, StandardScaler\n",
    "from pyspark.ml.regression import LinearRegression\n",
    "from pyspark.ml.evaluation import BinaryClassificationEvaluator, RegressionEvaluator, MulticlassClassificationEvaluator\n"
   ]
  },
  {
   "cell_type": "code",
   "execution_count": 2,
   "id": "df92e3ec",
   "metadata": {
    "id": "df92e3ec"
   },
   "outputs": [],
   "source": [
    "\n",
    "pyspark_version = pyspark.__version__\n",
    "if int(pyspark_version[:1]) == 3:\n",
    "    from pyspark.ml.feature import OneHotEncoder    \n",
    "elif int(pyspark_version[:1]) == 2:\n",
    "    from pyspark.ml.feature import OneHotEncodeEstimator\n",
    "        \n",
    "RANDOM_SEED = 2022\n",
    "\n",
    "spark = SparkSession.builder \\\n",
    "                    .master(\"local\") \\\n",
    "                    .appName(\"Housing - Logistic regression\") \\\n",
    "                    .getOrCreate()\n",
    "\n"
   ]
  },
  {
   "cell_type": "code",
   "execution_count": 14,
   "id": "a8b03042",
   "metadata": {},
   "outputs": [],
   "source": [
    "df2 = spark.read.option('header', 'true').csv('/datasets/housing.csv', inferSchema = True)"
   ]
  },
  {
   "cell_type": "code",
   "execution_count": 15,
   "id": "12b54231",
   "metadata": {},
   "outputs": [
    {
     "name": "stdout",
     "output_type": "stream",
     "text": [
      "root\n",
      " |-- longitude: double (nullable = true)\n",
      " |-- latitude: double (nullable = true)\n",
      " |-- housing_median_age: double (nullable = true)\n",
      " |-- total_rooms: double (nullable = true)\n",
      " |-- total_bedrooms: double (nullable = true)\n",
      " |-- population: double (nullable = true)\n",
      " |-- households: double (nullable = true)\n",
      " |-- median_income: double (nullable = true)\n",
      " |-- median_house_value: double (nullable = true)\n",
      " |-- ocean_proximity: string (nullable = true)\n",
      "\n"
     ]
    }
   ],
   "source": [
    "df2.printSchema()"
   ]
  },
  {
   "cell_type": "code",
   "execution_count": 16,
   "id": "9af162da",
   "metadata": {},
   "outputs": [],
   "source": [
    "null_counts = df2.agg(*[sum(col(c).isNull().cast(\"integer\")).alias(c) for c in df2.columns])\n"
   ]
  },
  {
   "cell_type": "code",
   "execution_count": 17,
   "id": "5c86df6b",
   "metadata": {},
   "outputs": [
    {
     "name": "stdout",
     "output_type": "stream",
     "text": [
      "+---------+--------+------------------+-----------+--------------+----------+----------+-------------+------------------+---------------+\n",
      "|longitude|latitude|housing_median_age|total_rooms|total_bedrooms|population|households|median_income|median_house_value|ocean_proximity|\n",
      "+---------+--------+------------------+-----------+--------------+----------+----------+-------------+------------------+---------------+\n",
      "|        0|       0|                 0|          0|           207|         0|         0|            0|                 0|              0|\n",
      "+---------+--------+------------------+-----------+--------------+----------+----------+-------------+------------------+---------------+\n",
      "\n"
     ]
    }
   ],
   "source": [
    "null_counts.show()"
   ]
  },
  {
   "cell_type": "markdown",
   "id": "d0ff80f6",
   "metadata": {},
   "source": [
    "207 missing values in total_bedrooms. Let's find the median and fill the gaps with it"
   ]
  },
  {
   "cell_type": "code",
   "execution_count": 18,
   "id": "a4e49c12",
   "metadata": {},
   "outputs": [
    {
     "name": "stdout",
     "output_type": "stream",
     "text": [
      "433.0\n"
     ]
    }
   ],
   "source": [
    "median_value = df2.approxQuantile(\"total_bedrooms\", [0.5], 0.01)[0]\n",
    "print(median_value)"
   ]
  },
  {
   "cell_type": "code",
   "execution_count": 19,
   "id": "874f0341",
   "metadata": {},
   "outputs": [],
   "source": [
    "df2 = df2.fillna({\"total_bedrooms\": median_value})\n"
   ]
  },
  {
   "cell_type": "markdown",
   "id": "abc82287",
   "metadata": {},
   "source": [
    "Let's create lists with different types for further processing."
   ]
  },
  {
   "cell_type": "code",
   "execution_count": 20,
   "id": "283ffe1b",
   "metadata": {},
   "outputs": [],
   "source": [
    "categorical_cols = ['ocean_proximity']\n",
    "numerical_cols  = ['longitude', 'latitude', 'housing_median_age','total_rooms','total_bedrooms','population','households', 'median_income']\n",
    "target = 'median_house_value' "
   ]
  },
  {
   "cell_type": "code",
   "execution_count": 21,
   "id": "6545b536",
   "metadata": {},
   "outputs": [
    {
     "name": "stdout",
     "output_type": "stream",
     "text": [
      "16630 4010\n"
     ]
    }
   ],
   "source": [
    "train_data, test_data = df2.randomSplit([.8,.2], seed=2077)\n",
    "print(train_data.count(), test_data.count())"
   ]
  },
  {
   "cell_type": "code",
   "execution_count": 22,
   "id": "077bbd8e",
   "metadata": {},
   "outputs": [],
   "source": [
    "indexer = StringIndexer(inputCols=categorical_cols, \n",
    "                        outputCols=[c+'_idx' for c in categorical_cols]) \n",
    "\n",
    "ind_fit = indexer.fit(train_data)\n",
    "train_data = ind_fit.transform(train_data)\n",
    "test_data = ind_fit.transform(test_data)\n",
    "\n",
    "cols = [c for c in train_data.columns for i in categorical_cols if (c.startswith(i))]\n",
    "cols = [c for c in test_data.columns for i in categorical_cols if (c.startswith(i))]"
   ]
  },
  {
   "cell_type": "code",
   "execution_count": 23,
   "id": "aff92a7c",
   "metadata": {},
   "outputs": [],
   "source": [
    "encoder = OneHotEncoder(inputCols=[c+'_idx' for c in categorical_cols],\n",
    "                        outputCols=[c+'_ohe' for c in categorical_cols])\n",
    "\n",
    "enc_fit = encoder.fit(train_data)\n",
    "train_data = enc_fit.transform(train_data)\n",
    "test_data = enc_fit.transform(test_data)\n",
    "\n",
    "cols = [c for c in train_data.columns for i in categorical_cols if (c.startswith(i))]\n",
    "cols = [c for c in test_data.columns for i in categorical_cols if (c.startswith(i))]"
   ]
  },
  {
   "cell_type": "code",
   "execution_count": 24,
   "id": "f765dbea",
   "metadata": {},
   "outputs": [],
   "source": [
    "categorical_assembler = \\\n",
    "        VectorAssembler(inputCols=[c+'_ohe' for c in categorical_cols], outputCol=\"categorical_features\")\n",
    "\n",
    "\n",
    "train_data = categorical_assembler.transform(train_data)\n",
    "test_data = categorical_assembler.transform(test_data) "
   ]
  },
  {
   "cell_type": "code",
   "execution_count": 25,
   "id": "1477a3bb",
   "metadata": {},
   "outputs": [
    {
     "name": "stderr",
     "output_type": "stream",
     "text": [
      "                                                                                \r"
     ]
    }
   ],
   "source": [
    "numerical_assembler = VectorAssembler(inputCols=numerical_cols, outputCol=\"numerical_features\")\n",
    "\n",
    "train_data = numerical_assembler.transform(train_data)\n",
    "test_data = numerical_assembler.transform(test_data)\n",
    "\n",
    "\n",
    "standardScaler = StandardScaler(inputCol='numerical_features', outputCol=\"numerical_features_scaled\")\n",
    "\n",
    "scal_fit = standardScaler.fit(train_data)\n",
    "train_data = scal_fit.transform(train_data) \n",
    "test_data = scal_fit.transform(test_data)"
   ]
  },
  {
   "cell_type": "code",
   "execution_count": 26,
   "id": "26440a27",
   "metadata": {},
   "outputs": [],
   "source": [
    "all_features = ['categorical_features','numerical_features_scaled']\n",
    "\n",
    "final_assembler = VectorAssembler(inputCols=all_features, \n",
    "                                  outputCol=\"features\") \n",
    "\n",
    "\n",
    "train_data = final_assembler.transform(train_data)\n",
    "test_data = final_assembler.transform(test_data)"
   ]
  },
  {
   "cell_type": "markdown",
   "id": "f8bc537b",
   "metadata": {},
   "source": [
    "# Model training"
   ]
  },
  {
   "cell_type": "code",
   "execution_count": 27,
   "id": "08d16d12",
   "metadata": {
    "scrolled": true
   },
   "outputs": [
    {
     "name": "stderr",
     "output_type": "stream",
     "text": [
      "23/04/13 08:40:52 WARN BLAS: Failed to load implementation from: com.github.fommil.netlib.NativeSystemBLAS\n",
      "23/04/13 08:40:52 WARN BLAS: Failed to load implementation from: com.github.fommil.netlib.NativeRefBLAS\n",
      "23/04/13 08:40:53 WARN LAPACK: Failed to load implementation from: com.github.fommil.netlib.NativeSystemLAPACK\n",
      "23/04/13 08:40:53 WARN LAPACK: Failed to load implementation from: com.github.fommil.netlib.NativeRefLAPACK\n",
      "                                                                                \r"
     ]
    }
   ],
   "source": [
    "lr = LinearRegression(labelCol=target, featuresCol='features', regParam=0.000000001)\n",
    "\n",
    "model = lr.fit(train_data) "
   ]
  },
  {
   "cell_type": "code",
   "execution_count": 28,
   "id": "0c06a3eb",
   "metadata": {},
   "outputs": [
    {
     "name": "stdout",
     "output_type": "stream",
     "text": [
      "+------------------+------------------+\n",
      "|median_house_value|        prediction|\n",
      "+------------------+------------------+\n",
      "|          106700.0|218273.38635694515|\n",
      "|           78300.0|127173.52934260014|\n",
      "|           68400.0|131328.07167428266|\n",
      "|           70000.0| 149621.5698887268|\n",
      "|           82800.0| 172522.5111210551|\n",
      "+------------------+------------------+\n",
      "only showing top 5 rows\n",
      "\n"
     ]
    }
   ],
   "source": [
    "predictions = model.transform(test_data)\n",
    "\n",
    "predictedLabes = predictions.select(target, 'prediction')\n",
    "predictedLabes.show(5) "
   ]
  },
  {
   "cell_type": "code",
   "execution_count": 29,
   "id": "c42d2b03",
   "metadata": {},
   "outputs": [],
   "source": [
    "rmse_full = RegressionEvaluator(metricName=\"rmse\", labelCol=\"median_house_value\").evaluate(predictions)\n",
    "mae_full = RegressionEvaluator(metricName=\"mae\", labelCol=\"median_house_value\", predictionCol=\"prediction\").evaluate(predictions)\n",
    "r2_full = RegressionEvaluator(metricName=\"r2\", labelCol=\"median_house_value\", predictionCol=\"prediction\").evaluate(predictions)\n"
   ]
  },
  {
   "cell_type": "code",
   "execution_count": 30,
   "id": "1f51bc12",
   "metadata": {},
   "outputs": [],
   "source": [
    "lr = LinearRegression(labelCol=target, featuresCol='numerical_features_scaled', regParam=0.000000001)\n",
    "\n",
    "model = lr.fit(train_data) "
   ]
  },
  {
   "cell_type": "code",
   "execution_count": 31,
   "id": "034dd853",
   "metadata": {},
   "outputs": [
    {
     "name": "stdout",
     "output_type": "stream",
     "text": [
      "+------------------+------------------+\n",
      "|median_house_value|        prediction|\n",
      "+------------------+------------------+\n",
      "|          106700.0|191388.06816450972|\n",
      "|           78300.0| 78310.35648987861|\n",
      "|           68400.0| 80660.87214292958|\n",
      "|           70000.0|116823.29398790281|\n",
      "|           82800.0|139235.69942980027|\n",
      "+------------------+------------------+\n",
      "only showing top 5 rows\n",
      "\n"
     ]
    }
   ],
   "source": [
    "predictions = model.transform(test_data)\n",
    "\n",
    "predictedLabes = predictions.select(target, 'prediction')\n",
    "predictedLabes.show(5) "
   ]
  },
  {
   "cell_type": "code",
   "execution_count": 32,
   "id": "21791d87",
   "metadata": {},
   "outputs": [],
   "source": [
    "rmse_num = RegressionEvaluator(metricName=\"rmse\", labelCol=\"median_house_value\").evaluate(predictions)\n",
    "mae_num = RegressionEvaluator(metricName=\"mae\", labelCol=\"median_house_value\", predictionCol=\"prediction\").evaluate(predictions)\n",
    "r2_num = RegressionEvaluator(metricName=\"r2\", labelCol=\"median_house_value\", predictionCol=\"prediction\").evaluate(predictions)\n",
    "\n"
   ]
  },
  {
   "cell_type": "code",
   "execution_count": 34,
   "id": "b130b7f5",
   "metadata": {},
   "outputs": [],
   "source": [
    "spark.stop()"
   ]
  },
  {
   "cell_type": "code",
   "execution_count": 35,
   "id": "d3a38cde",
   "metadata": {},
   "outputs": [
    {
     "name": "stdout",
     "output_type": "stream",
     "text": [
      "      full_data           num_data\n",
      "RMSE: 68184.02564971607    69246.32171879576\n",
      "MAE:  49547.44945789279   50754.75482656654\n",
      "R2:   0.6411455796432266  0.629876687005651\n"
     ]
    }
   ],
   "source": [
    "print('      full_data', '          num_data')\n",
    "print('RMSE:', rmse_full, '  ', rmse_num)\n",
    "print('MAE: ', mae_full, ' ', mae_num)\n",
    "print('R2:  ', r2_full, '', r2_num)"
   ]
  },
  {
   "cell_type": "markdown",
   "id": "757fd103",
   "metadata": {
    "id": "757fd103"
   },
   "source": [
    "# Analyzing the results"
   ]
  },
  {
   "cell_type": "markdown",
   "id": "5c9ab1e2",
   "metadata": {},
   "source": [
    "\n",
    "* The RMSE for the full data set is 68,233.79, which means that on average the model's predictions are wrong by about 68,233.79. The RMSE for the num_data subset is slightly higher at 69,309.65, indicating that the model performs about equally on both data subsets.\n",
    "\n",
    "* The MAE for the full data set is 49,637.20, indicating that on average the model's predictions are wrong by about 49,637.20. The MAE for the num_data subset is slightly higher at 50,895.61, indicating that the model performs about equally on both data subsets.\n",
    "\n",
    "* The R2 for the full data set is 0.6406, indicating that the model explains 64.06% of the variance in the data. The R2 for the num_data subset is slightly lower at 0.6292, indicating that the model performs about equally on both data subsets\n",
    "\n"
   ]
  }
 ],
 "metadata": {
  "ExecuteTimeLog": [
   {
    "duration": 28530,
    "start_time": "2023-04-10T08:33:26.041Z"
   },
   {
    "duration": 23,
    "start_time": "2023-04-10T08:36:02.373Z"
   },
   {
    "duration": 93,
    "start_time": "2023-04-10T08:38:29.441Z"
   },
   {
    "duration": 9,
    "start_time": "2023-04-10T08:39:47.157Z"
   },
   {
    "duration": 4,
    "start_time": "2023-04-10T08:39:56.184Z"
   },
   {
    "duration": 383,
    "start_time": "2023-04-10T08:40:00.758Z"
   },
   {
    "duration": 788,
    "start_time": "2023-04-10T08:40:16.651Z"
   },
   {
    "duration": 691,
    "start_time": "2023-04-10T08:40:31.259Z"
   },
   {
    "duration": 12,
    "start_time": "2023-04-10T08:40:43.605Z"
   },
   {
    "duration": 4,
    "start_time": "2023-04-10T08:40:54.750Z"
   },
   {
    "duration": 1886,
    "start_time": "2023-04-10T08:42:03.262Z"
   },
   {
    "duration": 13,
    "start_time": "2023-04-10T08:44:57.444Z"
   },
   {
    "duration": 4,
    "start_time": "2023-04-10T08:45:23.330Z"
   },
   {
    "duration": 2224,
    "start_time": "2023-04-10T08:45:26.528Z"
   },
   {
    "duration": 1890,
    "start_time": "2023-04-10T08:46:51.959Z"
   },
   {
    "duration": 668,
    "start_time": "2023-04-10T08:48:12.067Z"
   },
   {
    "duration": 377,
    "start_time": "2023-04-10T08:48:20.881Z"
   },
   {
    "duration": 41,
    "start_time": "2023-04-10T08:54:45.533Z"
   },
   {
    "duration": 22,
    "start_time": "2023-04-10T12:07:49.101Z"
   },
   {
    "duration": 23,
    "start_time": "2023-04-10T12:07:57.836Z"
   },
   {
    "duration": 7,
    "start_time": "2023-04-10T12:08:13.789Z"
   },
   {
    "duration": 11,
    "start_time": "2023-04-10T12:08:38.364Z"
   },
   {
    "duration": 14720,
    "start_time": "2023-04-10T12:09:57.961Z"
   },
   {
    "duration": 4366,
    "start_time": "2023-04-10T12:10:25.486Z"
   },
   {
    "duration": 34232,
    "start_time": "2023-04-10T12:10:41.324Z"
   },
   {
    "duration": 3,
    "start_time": "2023-04-10T12:15:38.633Z"
   },
   {
    "duration": 14,
    "start_time": "2023-04-10T12:17:28.321Z"
   },
   {
    "duration": 11,
    "start_time": "2023-04-10T12:17:49.946Z"
   },
   {
    "duration": 2756,
    "start_time": "2023-04-10T12:17:58.187Z"
   },
   {
    "duration": 785,
    "start_time": "2023-04-10T12:19:18.660Z"
   },
   {
    "duration": 104,
    "start_time": "2023-04-10T12:19:59.132Z"
   },
   {
    "duration": 41,
    "start_time": "2023-04-10T12:27:19.542Z"
   },
   {
    "duration": 1398,
    "start_time": "2023-04-10T12:28:03.172Z"
   },
   {
    "duration": 33,
    "start_time": "2023-04-10T12:30:58.234Z"
   },
   {
    "duration": 516,
    "start_time": "2023-04-10T12:32:40.838Z"
   },
   {
    "duration": 384,
    "start_time": "2023-04-10T12:36:19.322Z"
   },
   {
    "duration": 4460,
    "start_time": "2023-04-10T12:38:23.609Z"
   },
   {
    "duration": 1374,
    "start_time": "2023-04-10T12:39:07.793Z"
   },
   {
    "duration": 20,
    "start_time": "2023-04-10T13:36:00.145Z"
   },
   {
    "duration": 18,
    "start_time": "2023-04-10T13:36:08.382Z"
   },
   {
    "duration": 4,
    "start_time": "2023-04-10T13:36:40.048Z"
   },
   {
    "duration": 69,
    "start_time": "2023-04-10T13:36:40.381Z"
   },
   {
    "duration": 17,
    "start_time": "2023-04-10T13:37:46.203Z"
   },
   {
    "duration": 20,
    "start_time": "2023-04-10T13:39:05.059Z"
   },
   {
    "duration": 22,
    "start_time": "2023-04-10T13:39:44.124Z"
   },
   {
    "duration": 19,
    "start_time": "2023-04-10T13:40:40.792Z"
   },
   {
    "duration": 16,
    "start_time": "2023-04-10T13:41:50.567Z"
   },
   {
    "duration": 19,
    "start_time": "2023-04-10T13:54:34.767Z"
   },
   {
    "duration": 4,
    "start_time": "2023-04-10T13:55:29.663Z"
   },
   {
    "duration": 22,
    "start_time": "2023-04-10T13:55:30.545Z"
   },
   {
    "duration": 5,
    "start_time": "2023-04-10T13:55:50.247Z"
   },
   {
    "duration": 19,
    "start_time": "2023-04-10T13:55:51.235Z"
   },
   {
    "duration": 4,
    "start_time": "2023-04-10T14:36:22.406Z"
   },
   {
    "duration": 18,
    "start_time": "2023-04-10T14:36:24.106Z"
   },
   {
    "duration": 18,
    "start_time": "2023-04-10T15:40:56.143Z"
   },
   {
    "duration": 3,
    "start_time": "2023-04-10T15:44:04.508Z"
   },
   {
    "duration": 17,
    "start_time": "2023-04-10T15:44:05.740Z"
   },
   {
    "duration": 5,
    "start_time": "2023-04-10T15:47:02.176Z"
   },
   {
    "duration": 18,
    "start_time": "2023-04-10T15:47:04.210Z"
   },
   {
    "duration": 19,
    "start_time": "2023-04-10T15:47:59.726Z"
   },
   {
    "duration": 108,
    "start_time": "2023-04-10T15:52:15.981Z"
   },
   {
    "duration": 399,
    "start_time": "2023-04-10T15:53:14.687Z"
   },
   {
    "duration": 391,
    "start_time": "2023-04-10T16:50:28.463Z"
   },
   {
    "duration": 4,
    "start_time": "2023-04-10T16:51:18.102Z"
   },
   {
    "duration": 815,
    "start_time": "2023-04-10T16:51:27.366Z"
   },
   {
    "duration": 5,
    "start_time": "2023-04-10T16:58:45.016Z"
   },
   {
    "duration": 305,
    "start_time": "2023-04-10T16:58:45.613Z"
   },
   {
    "duration": 20,
    "start_time": "2023-04-10T16:58:55.541Z"
   },
   {
    "duration": 16,
    "start_time": "2023-04-10T16:58:58.437Z"
   },
   {
    "duration": 3,
    "start_time": "2023-04-10T17:36:44.138Z"
   },
   {
    "duration": 19,
    "start_time": "2023-04-10T17:36:45.146Z"
   },
   {
    "duration": 723,
    "start_time": "2023-04-11T07:48:05.615Z"
   },
   {
    "duration": 32083,
    "start_time": "2023-04-11T07:48:06.436Z"
   },
   {
    "duration": 18,
    "start_time": "2023-04-11T07:48:43.063Z"
   },
   {
    "duration": 650,
    "start_time": "2023-04-11T07:48:45.844Z"
   },
   {
    "duration": 2351,
    "start_time": "2023-04-11T07:48:48.775Z"
   },
   {
    "duration": 2785,
    "start_time": "2023-04-11T07:48:54.313Z"
   },
   {
    "duration": 1028,
    "start_time": "2023-04-11T07:48:59.587Z"
   },
   {
    "duration": 44,
    "start_time": "2023-04-11T07:49:02.455Z"
   },
   {
    "duration": 9,
    "start_time": "2023-04-11T07:49:39.129Z"
   },
   {
    "duration": 113,
    "start_time": "2023-04-11T07:51:31.506Z"
   },
   {
    "duration": 2565,
    "start_time": "2023-04-11T07:51:48.653Z"
   },
   {
    "duration": 704,
    "start_time": "2023-04-11T07:52:13.713Z"
   },
   {
    "duration": 80,
    "start_time": "2023-04-11T07:52:30.269Z"
   },
   {
    "duration": 41,
    "start_time": "2023-04-11T07:52:55.381Z"
   },
   {
    "duration": 1664,
    "start_time": "2023-04-11T07:53:01.953Z"
   },
   {
    "duration": 542,
    "start_time": "2023-04-11T07:53:46.663Z"
   },
   {
    "duration": 3979,
    "start_time": "2023-04-11T07:53:50.826Z"
   },
   {
    "duration": 1839,
    "start_time": "2023-04-11T07:53:56.571Z"
   },
   {
    "duration": 27,
    "start_time": "2023-04-11T10:12:13.353Z"
   },
   {
    "duration": 18,
    "start_time": "2023-04-11T10:34:24.513Z"
   },
   {
    "duration": 767,
    "start_time": "2023-04-12T10:20:39.187Z"
   },
   {
    "duration": 28177,
    "start_time": "2023-04-12T10:20:40.144Z"
   },
   {
    "duration": 16,
    "start_time": "2023-04-12T10:21:15.626Z"
   },
   {
    "duration": 635,
    "start_time": "2023-04-12T10:21:16.910Z"
   },
   {
    "duration": 2181,
    "start_time": "2023-04-12T10:21:17.647Z"
   },
   {
    "duration": 2818,
    "start_time": "2023-04-12T10:21:19.829Z"
   },
   {
    "duration": 1220,
    "start_time": "2023-04-12T10:21:22.713Z"
   },
   {
    "duration": 90,
    "start_time": "2023-04-12T10:21:23.936Z"
   },
   {
    "duration": 5,
    "start_time": "2023-04-12T10:21:24.030Z"
   },
   {
    "duration": 2159,
    "start_time": "2023-04-12T10:21:26.673Z"
   },
   {
    "duration": 693,
    "start_time": "2023-04-12T10:21:29.675Z"
   },
   {
    "duration": 149,
    "start_time": "2023-04-12T10:21:30.370Z"
   },
   {
    "duration": 34,
    "start_time": "2023-04-12T10:21:32.583Z"
   },
   {
    "duration": 1447,
    "start_time": "2023-04-12T10:21:33.404Z"
   },
   {
    "duration": 497,
    "start_time": "2023-04-12T10:21:35.446Z"
   },
   {
    "duration": 3796,
    "start_time": "2023-04-12T10:21:37.450Z"
   },
   {
    "duration": 1719,
    "start_time": "2023-04-12T10:21:41.312Z"
   },
   {
    "duration": 4,
    "start_time": "2023-04-12T10:22:08.499Z"
   },
   {
    "duration": 4807,
    "start_time": "2023-04-12T10:22:13.725Z"
   },
   {
    "duration": 2541,
    "start_time": "2023-04-12T10:22:34.408Z"
   },
   {
    "duration": 89,
    "start_time": "2023-04-12T10:24:15.477Z"
   },
   {
    "duration": 29,
    "start_time": "2023-04-12T10:24:34.481Z"
   },
   {
    "duration": 4,
    "start_time": "2023-04-12T10:25:18.285Z"
   },
   {
    "duration": 2790,
    "start_time": "2023-04-12T10:25:54.282Z"
   },
   {
    "duration": 126,
    "start_time": "2023-04-12T10:27:11.401Z"
   },
   {
    "duration": 28,
    "start_time": "2023-04-12T10:27:32.960Z"
   },
   {
    "duration": 2212,
    "start_time": "2023-04-12T10:28:00.233Z"
   },
   {
    "duration": 1027,
    "start_time": "2023-04-12T10:28:33.708Z"
   },
   {
    "duration": 437,
    "start_time": "2023-04-12T10:28:52.360Z"
   },
   {
    "duration": 5,
    "start_time": "2023-04-12T10:29:16.342Z"
   },
   {
    "duration": 1815,
    "start_time": "2023-04-12T10:30:45.908Z"
   },
   {
    "duration": 5,
    "start_time": "2023-04-12T10:31:59.072Z"
   },
   {
    "duration": 533,
    "start_time": "2023-04-12T10:31:59.684Z"
   },
   {
    "duration": 10,
    "start_time": "2023-04-12T10:32:01.620Z"
   },
   {
    "duration": 93,
    "start_time": "2023-04-12T10:32:02.371Z"
   },
   {
    "duration": 395,
    "start_time": "2023-04-12T10:32:03.174Z"
   },
   {
    "duration": 1479,
    "start_time": "2023-04-12T10:32:04.274Z"
   },
   {
    "duration": 14,
    "start_time": "2023-04-12T10:32:05.940Z"
   },
   {
    "duration": 95,
    "start_time": "2023-04-12T10:32:49.017Z"
   },
   {
    "duration": 336,
    "start_time": "2023-04-12T10:32:50.985Z"
   },
   {
    "duration": 12,
    "start_time": "2023-04-12T10:32:52.354Z"
   },
   {
    "duration": 542,
    "start_time": "2023-04-12T10:33:10.707Z"
   },
   {
    "duration": 4,
    "start_time": "2023-04-12T10:33:11.854Z"
   },
   {
    "duration": 85,
    "start_time": "2023-04-12T10:33:12.672Z"
   },
   {
    "duration": 341,
    "start_time": "2023-04-12T10:33:13.374Z"
   },
   {
    "duration": 974,
    "start_time": "2023-04-12T10:33:14.148Z"
   },
   {
    "duration": 37,
    "start_time": "2023-04-12T10:33:15.928Z"
   },
   {
    "duration": 274,
    "start_time": "2023-04-12T10:33:18.354Z"
   },
   {
    "duration": 22,
    "start_time": "2023-04-12T10:33:19.401Z"
   },
   {
    "duration": 3,
    "start_time": "2023-04-12T10:33:24.359Z"
   },
   {
    "duration": 827,
    "start_time": "2023-04-12T10:33:36.632Z"
   },
   {
    "duration": 226,
    "start_time": "2023-04-12T10:33:40.465Z"
   },
   {
    "duration": 19,
    "start_time": "2023-04-12T10:33:43.378Z"
   },
   {
    "duration": 19,
    "start_time": "2023-04-12T10:33:45.666Z"
   },
   {
    "duration": 608,
    "start_time": "2023-04-12T10:33:46.856Z"
   },
   {
    "duration": 370,
    "start_time": "2023-04-12T10:33:56.401Z"
   },
   {
    "duration": 2707,
    "start_time": "2023-04-12T10:34:00.845Z"
   },
   {
    "duration": 1375,
    "start_time": "2023-04-12T10:34:03.554Z"
   },
   {
    "duration": 3695,
    "start_time": "2023-04-12T10:34:07.805Z"
   },
   {
    "duration": 1644,
    "start_time": "2023-04-12T10:34:11.503Z"
   },
   {
    "duration": 26,
    "start_time": "2023-04-12T10:34:14.271Z"
   },
   {
    "duration": 875,
    "start_time": "2023-04-12T10:34:15.140Z"
   },
   {
    "duration": 2394,
    "start_time": "2023-04-12T10:34:17.753Z"
   },
   {
    "duration": 74,
    "start_time": "2023-04-12T10:34:20.945Z"
   },
   {
    "duration": 380,
    "start_time": "2023-04-12T10:34:22.102Z"
   },
   {
    "duration": 1193,
    "start_time": "2023-04-12T10:34:23.304Z"
   },
   {
    "duration": 5,
    "start_time": "2023-04-12T10:34:25.374Z"
   },
   {
    "duration": 3,
    "start_time": "2023-04-12T10:41:17.041Z"
   },
   {
    "duration": 297,
    "start_time": "2023-04-12T10:41:17.768Z"
   },
   {
    "duration": 4,
    "start_time": "2023-04-12T10:41:18.780Z"
   },
   {
    "duration": 56,
    "start_time": "2023-04-12T10:41:19.536Z"
   },
   {
    "duration": 240,
    "start_time": "2023-04-12T10:41:20.142Z"
   },
   {
    "duration": 911,
    "start_time": "2023-04-12T10:41:20.766Z"
   },
   {
    "duration": 56,
    "start_time": "2023-04-12T10:41:21.679Z"
   },
   {
    "duration": 2,
    "start_time": "2023-04-12T10:41:23.079Z"
   },
   {
    "duration": 5,
    "start_time": "2023-04-12T10:41:23.425Z"
   },
   {
    "duration": 7,
    "start_time": "2023-04-12T10:41:25.128Z"
   },
   {
    "duration": 132,
    "start_time": "2023-04-12T10:41:25.944Z"
   },
   {
    "duration": 217,
    "start_time": "2023-04-12T10:41:26.638Z"
   },
   {
    "duration": 7,
    "start_time": "2023-04-12T10:41:48.548Z"
   },
   {
    "duration": 839,
    "start_time": "2023-04-12T10:41:58.530Z"
   },
   {
    "duration": 30053,
    "start_time": "2023-04-12T10:42:00.668Z"
   },
   {
    "duration": 19,
    "start_time": "2023-04-12T10:42:57.587Z"
   },
   {
    "duration": 604,
    "start_time": "2023-04-12T10:42:58.841Z"
   },
   {
    "duration": 2593,
    "start_time": "2023-04-12T10:43:00.358Z"
   },
   {
    "duration": 3342,
    "start_time": "2023-04-12T10:43:03.014Z"
   },
   {
    "duration": 199,
    "start_time": "2023-04-12T10:43:06.359Z"
   },
   {
    "duration": 5,
    "start_time": "2023-04-12T10:43:06.612Z"
   },
   {
    "duration": 24,
    "start_time": "2023-04-12T10:43:06.618Z"
   },
   {
    "duration": 3,
    "start_time": "2023-04-12T10:43:06.940Z"
   },
   {
    "duration": 124,
    "start_time": "2023-04-12T10:43:07.883Z"
   },
   {
    "duration": 2208,
    "start_time": "2023-04-12T10:43:35.140Z"
   },
   {
    "duration": 730,
    "start_time": "2023-04-12T10:43:55.305Z"
   },
   {
    "duration": 54,
    "start_time": "2023-04-12T10:44:02.825Z"
   },
   {
    "duration": 29,
    "start_time": "2023-04-12T10:44:14.055Z"
   },
   {
    "duration": 1843,
    "start_time": "2023-04-12T10:44:21.610Z"
   },
   {
    "duration": 726,
    "start_time": "2023-04-12T10:44:32.537Z"
   },
   {
    "duration": 5074,
    "start_time": "2023-04-12T10:44:39.663Z"
   },
   {
    "duration": 2383,
    "start_time": "2023-04-12T10:44:44.740Z"
   },
   {
    "duration": 5823,
    "start_time": "2023-04-12T10:44:51.615Z"
   },
   {
    "duration": 2610,
    "start_time": "2023-04-12T10:44:57.447Z"
   },
   {
    "duration": 36,
    "start_time": "2023-04-12T10:45:01.431Z"
   },
   {
    "duration": 1099,
    "start_time": "2023-04-12T10:45:02.242Z"
   },
   {
    "duration": 3513,
    "start_time": "2023-04-12T10:45:05.813Z"
   },
   {
    "duration": 131,
    "start_time": "2023-04-12T10:45:09.328Z"
   },
   {
    "duration": 653,
    "start_time": "2023-04-12T10:45:12.728Z"
   },
   {
    "duration": 1714,
    "start_time": "2023-04-12T10:45:14.240Z"
   },
   {
    "duration": 4,
    "start_time": "2023-04-12T10:45:16.653Z"
   },
   {
    "duration": 1797,
    "start_time": "2023-04-12T10:52:47.428Z"
   },
   {
    "duration": 1609,
    "start_time": "2023-04-12T10:53:41.306Z"
   },
   {
    "duration": 616,
    "start_time": "2023-04-12T10:53:50.415Z"
   },
   {
    "duration": 81,
    "start_time": "2023-04-12T10:53:59.736Z"
   },
   {
    "duration": 32,
    "start_time": "2023-04-12T10:54:06.113Z"
   },
   {
    "duration": 712,
    "start_time": "2023-04-12T10:54:11.621Z"
   },
   {
    "duration": 36,
    "start_time": "2023-04-12T10:54:17.545Z"
   },
   {
    "duration": 1858,
    "start_time": "2023-04-12T10:54:27.397Z"
   },
   {
    "duration": 28,
    "start_time": "2023-04-12T10:54:36.549Z"
   },
   {
    "duration": 1532,
    "start_time": "2023-04-12T10:54:42.908Z"
   },
   {
    "duration": 1476,
    "start_time": "2023-04-12T10:54:48.262Z"
   },
   {
    "duration": 1651,
    "start_time": "2023-04-12T10:55:08.667Z"
   },
   {
    "duration": 5,
    "start_time": "2023-04-12T10:55:14.712Z"
   },
   {
    "duration": 16,
    "start_time": "2023-04-12T10:56:04.717Z"
   },
   {
    "duration": 21,
    "start_time": "2023-04-12T10:56:10.868Z"
   },
   {
    "duration": 728,
    "start_time": "2023-04-12T10:56:21.733Z"
   },
   {
    "duration": 23781,
    "start_time": "2023-04-12T10:56:24.165Z"
   },
   {
    "duration": 73,
    "start_time": "2023-04-12T10:56:47.949Z"
   },
   {
    "duration": 505,
    "start_time": "2023-04-12T10:56:48.024Z"
   },
   {
    "duration": 1982,
    "start_time": "2023-04-12T10:56:48.531Z"
   },
   {
    "duration": 2614,
    "start_time": "2023-04-12T10:56:50.515Z"
   },
   {
    "duration": 205,
    "start_time": "2023-04-12T10:56:53.131Z"
   },
   {
    "duration": 4,
    "start_time": "2023-04-12T10:56:53.338Z"
   },
   {
    "duration": 69,
    "start_time": "2023-04-12T10:56:53.344Z"
   },
   {
    "duration": 6,
    "start_time": "2023-04-12T10:56:53.415Z"
   },
   {
    "duration": 1991,
    "start_time": "2023-04-12T10:56:53.423Z"
   },
   {
    "duration": 613,
    "start_time": "2023-04-12T10:56:55.416Z"
   },
   {
    "duration": 106,
    "start_time": "2023-04-12T10:56:56.031Z"
   },
   {
    "duration": 78,
    "start_time": "2023-04-12T10:56:56.139Z"
   },
   {
    "duration": 1601,
    "start_time": "2023-04-12T10:56:56.218Z"
   },
   {
    "duration": 511,
    "start_time": "2023-04-12T10:56:57.821Z"
   },
   {
    "duration": 3703,
    "start_time": "2023-04-12T10:56:58.333Z"
   },
   {
    "duration": 1897,
    "start_time": "2023-04-12T10:57:02.038Z"
   },
   {
    "duration": 4087,
    "start_time": "2023-04-12T10:57:03.936Z"
   },
   {
    "duration": 2031,
    "start_time": "2023-04-12T10:57:08.025Z"
   },
   {
    "duration": 87,
    "start_time": "2023-04-12T10:57:10.058Z"
   },
   {
    "duration": 987,
    "start_time": "2023-04-12T10:57:10.212Z"
   },
   {
    "duration": 2322,
    "start_time": "2023-04-12T10:57:11.201Z"
   },
   {
    "duration": 95,
    "start_time": "2023-04-12T10:57:13.525Z"
   },
   {
    "duration": 650,
    "start_time": "2023-04-12T10:57:13.622Z"
   },
   {
    "duration": 1464,
    "start_time": "2023-04-12T10:57:14.274Z"
   },
   {
    "duration": 5,
    "start_time": "2023-04-12T10:57:15.741Z"
   },
   {
    "duration": 1343,
    "start_time": "2023-04-12T10:57:25.469Z"
   },
   {
    "duration": 719,
    "start_time": "2023-04-12T10:57:26.814Z"
   },
   {
    "duration": 114,
    "start_time": "2023-04-12T10:57:27.535Z"
   },
   {
    "duration": 89,
    "start_time": "2023-04-12T10:57:27.651Z"
   },
   {
    "duration": 799,
    "start_time": "2023-04-12T10:57:27.742Z"
   },
   {
    "duration": 104,
    "start_time": "2023-04-12T10:57:28.542Z"
   },
   {
    "duration": 1973,
    "start_time": "2023-04-12T10:57:28.648Z"
   },
   {
    "duration": 29,
    "start_time": "2023-04-12T10:57:30.623Z"
   },
   {
    "duration": 1380,
    "start_time": "2023-04-12T10:57:30.654Z"
   },
   {
    "duration": 1522,
    "start_time": "2023-04-12T10:57:32.037Z"
   },
   {
    "duration": 404,
    "start_time": "2023-04-12T10:57:33.612Z"
   },
   {
    "duration": 1406,
    "start_time": "2023-04-12T10:57:34.018Z"
   },
   {
    "duration": 6,
    "start_time": "2023-04-12T10:57:35.425Z"
   },
   {
    "duration": 934,
    "start_time": "2023-04-12T14:41:47.028Z"
   },
   {
    "duration": 35186,
    "start_time": "2023-04-12T14:41:47.965Z"
   },
   {
    "duration": 17,
    "start_time": "2023-04-12T14:42:23.157Z"
   },
   {
    "duration": 691,
    "start_time": "2023-04-12T14:42:23.177Z"
   },
   {
    "duration": 2199,
    "start_time": "2023-04-12T14:42:23.870Z"
   },
   {
    "duration": 2784,
    "start_time": "2023-04-12T14:42:26.071Z"
   },
   {
    "duration": 198,
    "start_time": "2023-04-12T14:42:28.857Z"
   },
   {
    "duration": 3,
    "start_time": "2023-04-12T14:42:29.063Z"
   },
   {
    "duration": 18,
    "start_time": "2023-04-12T14:42:29.069Z"
   },
   {
    "duration": 21,
    "start_time": "2023-04-12T14:42:29.144Z"
   },
   {
    "duration": 3011,
    "start_time": "2023-04-12T14:42:29.167Z"
   },
   {
    "duration": 1097,
    "start_time": "2023-04-12T14:42:32.180Z"
   },
   {
    "duration": 165,
    "start_time": "2023-04-12T14:42:33.279Z"
   },
   {
    "duration": 98,
    "start_time": "2023-04-12T14:42:33.446Z"
   },
   {
    "duration": 1797,
    "start_time": "2023-04-12T14:42:33.547Z"
   },
   {
    "duration": 1115,
    "start_time": "2023-04-12T14:42:35.347Z"
   },
   {
    "duration": 4600,
    "start_time": "2023-04-12T14:42:36.465Z"
   },
   {
    "duration": 1902,
    "start_time": "2023-04-12T14:42:41.067Z"
   },
   {
    "duration": 5606,
    "start_time": "2023-04-12T14:42:42.971Z"
   },
   {
    "duration": 2777,
    "start_time": "2023-04-12T14:42:48.580Z"
   },
   {
    "duration": 94,
    "start_time": "2023-04-12T14:42:51.360Z"
   },
   {
    "duration": 1306,
    "start_time": "2023-04-12T14:42:51.456Z"
   },
   {
    "duration": 2945,
    "start_time": "2023-04-12T14:42:52.764Z"
   },
   {
    "duration": 62,
    "start_time": "2023-04-12T14:42:55.711Z"
   },
   {
    "duration": 705,
    "start_time": "2023-04-12T14:42:55.775Z"
   },
   {
    "duration": 1892,
    "start_time": "2023-04-12T14:42:56.482Z"
   },
   {
    "duration": 6,
    "start_time": "2023-04-12T14:42:58.376Z"
   },
   {
    "duration": 1998,
    "start_time": "2023-04-12T14:42:58.385Z"
   },
   {
    "duration": 883,
    "start_time": "2023-04-12T14:43:00.385Z"
   },
   {
    "duration": 187,
    "start_time": "2023-04-12T14:43:01.270Z"
   },
   {
    "duration": 97,
    "start_time": "2023-04-12T14:43:01.460Z"
   },
   {
    "duration": 1007,
    "start_time": "2023-04-12T14:43:01.560Z"
   },
   {
    "duration": 92,
    "start_time": "2023-04-12T14:43:02.569Z"
   },
   {
    "duration": 2790,
    "start_time": "2023-04-12T14:43:02.663Z"
   },
   {
    "duration": 87,
    "start_time": "2023-04-12T14:43:05.455Z"
   },
   {
    "duration": 1728,
    "start_time": "2023-04-12T14:43:05.547Z"
   },
   {
    "duration": 1992,
    "start_time": "2023-04-12T14:43:07.276Z"
   },
   {
    "duration": 604,
    "start_time": "2023-04-12T14:43:09.270Z"
   },
   {
    "duration": 1809,
    "start_time": "2023-04-12T14:43:09.876Z"
   },
   {
    "duration": 9,
    "start_time": "2023-04-12T14:43:11.687Z"
   },
   {
    "duration": 733,
    "start_time": "2023-04-12T14:45:12.752Z"
   },
   {
    "duration": 27180,
    "start_time": "2023-04-12T14:45:13.488Z"
   },
   {
    "duration": 74,
    "start_time": "2023-04-12T14:45:40.671Z"
   },
   {
    "duration": 1013,
    "start_time": "2023-04-12T14:45:40.749Z"
   },
   {
    "duration": 2402,
    "start_time": "2023-04-12T14:45:41.764Z"
   },
   {
    "duration": 2993,
    "start_time": "2023-04-12T14:45:44.168Z"
   },
   {
    "duration": 203,
    "start_time": "2023-04-12T14:45:47.163Z"
   },
   {
    "duration": 3,
    "start_time": "2023-04-12T14:45:47.368Z"
   },
   {
    "duration": 69,
    "start_time": "2023-04-12T14:45:47.373Z"
   },
   {
    "duration": 27,
    "start_time": "2023-04-12T14:45:47.446Z"
   },
   {
    "duration": 2595,
    "start_time": "2023-04-12T14:45:47.474Z"
   },
   {
    "duration": 792,
    "start_time": "2023-04-12T14:45:50.071Z"
   },
   {
    "duration": 95,
    "start_time": "2023-04-12T14:45:50.864Z"
   },
   {
    "duration": 102,
    "start_time": "2023-04-12T14:45:50.963Z"
   },
   {
    "duration": 1981,
    "start_time": "2023-04-12T14:45:51.067Z"
   },
   {
    "duration": 1202,
    "start_time": "2023-04-12T14:45:53.051Z"
   },
   {
    "duration": 4191,
    "start_time": "2023-04-12T14:45:54.255Z"
   },
   {
    "duration": 2099,
    "start_time": "2023-04-12T14:45:58.448Z"
   },
   {
    "duration": 5134,
    "start_time": "2023-04-12T14:46:00.548Z"
   },
   {
    "duration": 2806,
    "start_time": "2023-04-12T14:46:05.742Z"
   },
   {
    "duration": 115,
    "start_time": "2023-04-12T14:46:08.555Z"
   },
   {
    "duration": 1172,
    "start_time": "2023-04-12T14:46:08.672Z"
   },
   {
    "duration": 3040,
    "start_time": "2023-04-12T14:46:09.848Z"
   },
   {
    "duration": 95,
    "start_time": "2023-04-12T14:46:12.890Z"
   },
   {
    "duration": 781,
    "start_time": "2023-04-12T14:46:12.987Z"
   },
   {
    "duration": 2035,
    "start_time": "2023-04-12T14:46:13.770Z"
   },
   {
    "duration": 11,
    "start_time": "2023-04-12T14:46:15.844Z"
   },
   {
    "duration": 1896,
    "start_time": "2023-04-12T14:46:15.859Z"
   },
   {
    "duration": 784,
    "start_time": "2023-04-12T14:46:17.758Z"
   },
   {
    "duration": 130,
    "start_time": "2023-04-12T14:46:18.547Z"
   },
   {
    "duration": 96,
    "start_time": "2023-04-12T14:46:18.680Z"
   },
   {
    "duration": 896,
    "start_time": "2023-04-12T14:46:18.778Z"
   },
   {
    "duration": 99,
    "start_time": "2023-04-12T14:46:19.676Z"
   },
   {
    "duration": 2289,
    "start_time": "2023-04-12T14:46:19.777Z"
   },
   {
    "duration": 576,
    "start_time": "2023-04-12T14:46:22.068Z"
   },
   {
    "duration": 1479,
    "start_time": "2023-04-12T14:46:22.646Z"
   },
   {
    "duration": 1622,
    "start_time": "2023-04-12T14:46:24.127Z"
   },
   {
    "duration": 555,
    "start_time": "2023-04-12T14:46:25.751Z"
   },
   {
    "duration": 1869,
    "start_time": "2023-04-12T14:46:26.308Z"
   },
   {
    "duration": 4,
    "start_time": "2023-04-12T14:46:28.179Z"
   },
   {
    "duration": 105,
    "start_time": "2023-04-12T14:47:01.093Z"
   },
   {
    "duration": 781,
    "start_time": "2023-04-12T14:47:10.700Z"
   },
   {
    "duration": 26799,
    "start_time": "2023-04-12T14:47:11.483Z"
   },
   {
    "duration": 23,
    "start_time": "2023-04-12T14:47:38.343Z"
   },
   {
    "duration": 785,
    "start_time": "2023-04-12T14:47:38.368Z"
   },
   {
    "duration": 2206,
    "start_time": "2023-04-12T14:47:39.155Z"
   },
   {
    "duration": 3092,
    "start_time": "2023-04-12T14:47:41.363Z"
   },
   {
    "duration": 206,
    "start_time": "2023-04-12T14:47:44.456Z"
   },
   {
    "duration": 3,
    "start_time": "2023-04-12T14:47:44.665Z"
   },
   {
    "duration": 31,
    "start_time": "2023-04-12T14:47:44.670Z"
   },
   {
    "duration": 54,
    "start_time": "2023-04-12T14:47:44.704Z"
   },
   {
    "duration": 2311,
    "start_time": "2023-04-12T14:47:44.760Z"
   },
   {
    "duration": 1069,
    "start_time": "2023-04-12T14:47:47.073Z"
   },
   {
    "duration": 112,
    "start_time": "2023-04-12T14:47:48.152Z"
   },
   {
    "duration": 95,
    "start_time": "2023-04-12T14:47:48.267Z"
   },
   {
    "duration": 1799,
    "start_time": "2023-04-12T14:47:48.364Z"
   },
   {
    "duration": 1198,
    "start_time": "2023-04-12T14:47:50.166Z"
   },
   {
    "duration": 4511,
    "start_time": "2023-04-12T14:47:51.366Z"
   },
   {
    "duration": 1826,
    "start_time": "2023-04-12T14:47:55.941Z"
   },
   {
    "duration": 4994,
    "start_time": "2023-04-12T14:47:57.769Z"
   },
   {
    "duration": 2298,
    "start_time": "2023-04-12T14:48:02.765Z"
   },
   {
    "duration": 95,
    "start_time": "2023-04-12T14:48:05.065Z"
   },
   {
    "duration": 1125,
    "start_time": "2023-04-12T14:48:05.162Z"
   },
   {
    "duration": 2686,
    "start_time": "2023-04-12T14:48:06.289Z"
   },
   {
    "duration": 98,
    "start_time": "2023-04-12T14:48:08.977Z"
   },
   {
    "duration": 693,
    "start_time": "2023-04-12T14:48:09.077Z"
   },
   {
    "duration": 1525,
    "start_time": "2023-04-12T14:48:09.772Z"
   },
   {
    "duration": 53,
    "start_time": "2023-04-12T14:48:11.299Z"
   },
   {
    "duration": 1616,
    "start_time": "2023-04-12T14:48:11.356Z"
   },
   {
    "duration": 816,
    "start_time": "2023-04-12T14:48:13.046Z"
   },
   {
    "duration": 185,
    "start_time": "2023-04-12T14:48:13.864Z"
   },
   {
    "duration": 95,
    "start_time": "2023-04-12T14:48:14.063Z"
   },
   {
    "duration": 988,
    "start_time": "2023-04-12T14:48:14.159Z"
   },
   {
    "duration": 96,
    "start_time": "2023-04-12T14:48:15.149Z"
   },
   {
    "duration": 2209,
    "start_time": "2023-04-12T14:48:15.247Z"
   },
   {
    "duration": 603,
    "start_time": "2023-04-12T14:48:17.459Z"
   },
   {
    "duration": 1361,
    "start_time": "2023-04-12T14:48:18.064Z"
   },
   {
    "duration": 1556,
    "start_time": "2023-04-12T14:48:19.426Z"
   },
   {
    "duration": 575,
    "start_time": "2023-04-12T14:48:20.984Z"
   },
   {
    "duration": 1588,
    "start_time": "2023-04-12T14:48:21.561Z"
   },
   {
    "duration": 10,
    "start_time": "2023-04-12T14:48:23.150Z"
   },
   {
    "duration": 683,
    "start_time": "2023-04-12T14:49:13.602Z"
   },
   {
    "duration": 26784,
    "start_time": "2023-04-12T14:49:14.287Z"
   },
   {
    "duration": 89,
    "start_time": "2023-04-12T14:49:41.073Z"
   },
   {
    "duration": 814,
    "start_time": "2023-04-12T14:49:41.165Z"
   },
   {
    "duration": 2666,
    "start_time": "2023-04-12T14:49:41.981Z"
   },
   {
    "duration": 2914,
    "start_time": "2023-04-12T14:49:44.648Z"
   },
   {
    "duration": 198,
    "start_time": "2023-04-12T14:49:47.564Z"
   },
   {
    "duration": 3,
    "start_time": "2023-04-12T14:49:47.764Z"
   },
   {
    "duration": 88,
    "start_time": "2023-04-12T14:49:47.769Z"
   },
   {
    "duration": 54,
    "start_time": "2023-04-12T14:49:47.860Z"
   },
   {
    "duration": 2564,
    "start_time": "2023-04-12T14:49:47.916Z"
   },
   {
    "duration": 970,
    "start_time": "2023-04-12T14:49:50.483Z"
   },
   {
    "duration": 86,
    "start_time": "2023-04-12T14:49:51.456Z"
   },
   {
    "duration": 96,
    "start_time": "2023-04-12T14:49:51.551Z"
   },
   {
    "duration": 1912,
    "start_time": "2023-04-12T14:49:51.649Z"
   },
   {
    "duration": 1100,
    "start_time": "2023-04-12T14:49:53.564Z"
   },
   {
    "duration": 4610,
    "start_time": "2023-04-12T14:49:54.666Z"
   },
   {
    "duration": 2284,
    "start_time": "2023-04-12T14:49:59.278Z"
   },
   {
    "duration": 5399,
    "start_time": "2023-04-12T14:50:01.564Z"
   },
   {
    "duration": 3994,
    "start_time": "2023-04-12T14:50:06.965Z"
   },
   {
    "duration": 97,
    "start_time": "2023-04-12T14:50:10.962Z"
   },
   {
    "duration": 1418,
    "start_time": "2023-04-12T14:50:11.061Z"
   },
   {
    "duration": 2984,
    "start_time": "2023-04-12T14:50:12.481Z"
   },
   {
    "duration": 88,
    "start_time": "2023-04-12T14:50:15.467Z"
   },
   {
    "duration": 552,
    "start_time": "2023-04-12T14:50:15.558Z"
   },
   {
    "duration": 1744,
    "start_time": "2023-04-12T14:50:16.112Z"
   },
   {
    "duration": 8,
    "start_time": "2023-04-12T14:50:17.858Z"
   },
   {
    "duration": 1849,
    "start_time": "2023-04-12T14:50:17.872Z"
   },
   {
    "duration": 815,
    "start_time": "2023-04-12T14:50:19.742Z"
   },
   {
    "duration": 106,
    "start_time": "2023-04-12T14:50:20.559Z"
   },
   {
    "duration": 81,
    "start_time": "2023-04-12T14:50:20.667Z"
   },
   {
    "duration": 907,
    "start_time": "2023-04-12T14:50:20.758Z"
   },
   {
    "duration": 177,
    "start_time": "2023-04-12T14:50:21.667Z"
   },
   {
    "duration": 2214,
    "start_time": "2023-04-12T14:50:21.846Z"
   },
   {
    "duration": 790,
    "start_time": "2023-04-12T14:50:24.062Z"
   },
   {
    "duration": 2108,
    "start_time": "2023-04-12T14:50:24.853Z"
   },
   {
    "duration": 1598,
    "start_time": "2023-04-12T14:50:26.963Z"
   },
   {
    "duration": 603,
    "start_time": "2023-04-12T14:50:28.563Z"
   },
   {
    "duration": 1573,
    "start_time": "2023-04-12T14:50:29.168Z"
   },
   {
    "duration": 10,
    "start_time": "2023-04-12T14:50:30.743Z"
   },
   {
    "duration": 97,
    "start_time": "2023-04-12T14:54:17.271Z"
   },
   {
    "duration": 706,
    "start_time": "2023-04-12T14:54:24.271Z"
   },
   {
    "duration": 27072,
    "start_time": "2023-04-12T14:54:24.981Z"
   },
   {
    "duration": 25,
    "start_time": "2023-04-12T14:54:52.056Z"
   },
   {
    "duration": 994,
    "start_time": "2023-04-12T14:54:52.084Z"
   },
   {
    "duration": 2521,
    "start_time": "2023-04-12T14:54:53.143Z"
   },
   {
    "duration": 3485,
    "start_time": "2023-04-12T14:54:55.666Z"
   },
   {
    "duration": 287,
    "start_time": "2023-04-12T14:54:59.154Z"
   },
   {
    "duration": 4,
    "start_time": "2023-04-12T14:54:59.443Z"
   },
   {
    "duration": 42,
    "start_time": "2023-04-12T14:54:59.453Z"
   },
   {
    "duration": 48,
    "start_time": "2023-04-12T14:54:59.499Z"
   },
   {
    "duration": 2813,
    "start_time": "2023-04-12T14:54:59.553Z"
   },
   {
    "duration": 878,
    "start_time": "2023-04-12T14:55:02.369Z"
   },
   {
    "duration": 108,
    "start_time": "2023-04-12T14:55:03.248Z"
   },
   {
    "duration": 93,
    "start_time": "2023-04-12T14:55:03.358Z"
   },
   {
    "duration": 1926,
    "start_time": "2023-04-12T14:55:03.454Z"
   },
   {
    "duration": 1324,
    "start_time": "2023-04-12T14:55:05.382Z"
   },
   {
    "duration": 4865,
    "start_time": "2023-04-12T14:55:06.709Z"
   },
   {
    "duration": 2273,
    "start_time": "2023-04-12T14:55:11.576Z"
   },
   {
    "duration": 5621,
    "start_time": "2023-04-12T14:55:13.850Z"
   },
   {
    "duration": 3074,
    "start_time": "2023-04-12T14:55:19.473Z"
   },
   {
    "duration": 110,
    "start_time": "2023-04-12T14:55:22.552Z"
   },
   {
    "duration": 1502,
    "start_time": "2023-04-12T14:55:22.665Z"
   },
   {
    "duration": 3383,
    "start_time": "2023-04-12T14:55:24.169Z"
   },
   {
    "duration": 101,
    "start_time": "2023-04-12T14:55:27.554Z"
   },
   {
    "duration": 727,
    "start_time": "2023-04-12T14:55:27.657Z"
   },
   {
    "duration": 2568,
    "start_time": "2023-04-12T14:55:28.387Z"
   },
   {
    "duration": 10,
    "start_time": "2023-04-12T14:55:30.956Z"
   },
   {
    "duration": 2090,
    "start_time": "2023-04-12T14:55:30.971Z"
   },
   {
    "duration": 1004,
    "start_time": "2023-04-12T14:55:33.064Z"
   },
   {
    "duration": 191,
    "start_time": "2023-04-12T14:55:34.070Z"
   },
   {
    "duration": 103,
    "start_time": "2023-04-12T14:55:34.264Z"
   },
   {
    "duration": 1009,
    "start_time": "2023-04-12T14:55:34.370Z"
   },
   {
    "duration": 118,
    "start_time": "2023-04-12T14:55:35.451Z"
   },
   {
    "duration": 2671,
    "start_time": "2023-04-12T14:55:35.571Z"
   },
   {
    "duration": 713,
    "start_time": "2023-04-12T14:55:38.244Z"
   },
   {
    "duration": 1683,
    "start_time": "2023-04-12T14:55:38.960Z"
   },
   {
    "duration": 1907,
    "start_time": "2023-04-12T14:55:40.644Z"
   },
   {
    "duration": 547,
    "start_time": "2023-04-12T14:55:42.557Z"
   },
   {
    "duration": 2321,
    "start_time": "2023-04-12T14:55:43.145Z"
   },
   {
    "duration": 6,
    "start_time": "2023-04-12T14:55:45.468Z"
   },
   {
    "duration": 789,
    "start_time": "2023-04-12T15:02:19.605Z"
   },
   {
    "duration": 25949,
    "start_time": "2023-04-12T15:02:20.396Z"
   },
   {
    "duration": 21,
    "start_time": "2023-04-12T15:02:46.347Z"
   },
   {
    "duration": 786,
    "start_time": "2023-04-12T15:02:46.371Z"
   },
   {
    "duration": 2288,
    "start_time": "2023-04-12T15:02:47.159Z"
   },
   {
    "duration": 2697,
    "start_time": "2023-04-12T15:02:49.450Z"
   },
   {
    "duration": 205,
    "start_time": "2023-04-12T15:02:52.149Z"
   },
   {
    "duration": 2,
    "start_time": "2023-04-12T15:02:52.356Z"
   },
   {
    "duration": 36,
    "start_time": "2023-04-12T15:02:52.360Z"
   },
   {
    "duration": 29,
    "start_time": "2023-04-12T15:02:52.399Z"
   },
   {
    "duration": 2530,
    "start_time": "2023-04-12T15:02:52.430Z"
   },
   {
    "duration": 938,
    "start_time": "2023-04-12T15:02:54.962Z"
   },
   {
    "duration": 104,
    "start_time": "2023-04-12T15:02:55.941Z"
   },
   {
    "duration": 95,
    "start_time": "2023-04-12T15:02:56.047Z"
   },
   {
    "duration": 1902,
    "start_time": "2023-04-12T15:02:56.143Z"
   },
   {
    "duration": 1105,
    "start_time": "2023-04-12T15:02:58.048Z"
   },
   {
    "duration": 3787,
    "start_time": "2023-04-12T15:02:59.156Z"
   },
   {
    "duration": 154,
    "start_time": "2023-04-12T15:03:02.945Z"
   },
   {
    "duration": 0,
    "start_time": "2023-04-12T15:03:03.102Z"
   },
   {
    "duration": 0,
    "start_time": "2023-04-12T15:03:03.103Z"
   },
   {
    "duration": 0,
    "start_time": "2023-04-12T15:03:03.104Z"
   },
   {
    "duration": 0,
    "start_time": "2023-04-12T15:03:03.106Z"
   },
   {
    "duration": 0,
    "start_time": "2023-04-12T15:03:03.107Z"
   },
   {
    "duration": 0,
    "start_time": "2023-04-12T15:03:03.108Z"
   },
   {
    "duration": 0,
    "start_time": "2023-04-12T15:03:03.109Z"
   },
   {
    "duration": 0,
    "start_time": "2023-04-12T15:03:03.111Z"
   },
   {
    "duration": 0,
    "start_time": "2023-04-12T15:03:03.111Z"
   },
   {
    "duration": 0,
    "start_time": "2023-04-12T15:03:03.113Z"
   },
   {
    "duration": 0,
    "start_time": "2023-04-12T15:03:03.114Z"
   },
   {
    "duration": 0,
    "start_time": "2023-04-12T15:03:03.116Z"
   },
   {
    "duration": 0,
    "start_time": "2023-04-12T15:03:03.117Z"
   },
   {
    "duration": 0,
    "start_time": "2023-04-12T15:03:03.118Z"
   },
   {
    "duration": 0,
    "start_time": "2023-04-12T15:03:03.119Z"
   },
   {
    "duration": 0,
    "start_time": "2023-04-12T15:03:03.120Z"
   },
   {
    "duration": 0,
    "start_time": "2023-04-12T15:03:03.121Z"
   },
   {
    "duration": 0,
    "start_time": "2023-04-12T15:03:03.123Z"
   },
   {
    "duration": 0,
    "start_time": "2023-04-12T15:03:03.124Z"
   },
   {
    "duration": 0,
    "start_time": "2023-04-12T15:03:03.125Z"
   },
   {
    "duration": 0,
    "start_time": "2023-04-12T15:03:03.126Z"
   },
   {
    "duration": 0,
    "start_time": "2023-04-12T15:03:03.128Z"
   },
   {
    "duration": 0,
    "start_time": "2023-04-12T15:03:03.129Z"
   },
   {
    "duration": 0,
    "start_time": "2023-04-12T15:03:03.130Z"
   },
   {
    "duration": 1178,
    "start_time": "2023-04-12T15:03:17.068Z"
   },
   {
    "duration": 1627,
    "start_time": "2023-04-12T15:03:20.732Z"
   },
   {
    "duration": 601,
    "start_time": "2023-04-12T15:03:23.389Z"
   },
   {
    "duration": 877,
    "start_time": "2023-04-12T15:04:18.301Z"
   },
   {
    "duration": 1071,
    "start_time": "2023-04-12T15:10:02.679Z"
   },
   {
    "duration": 468,
    "start_time": "2023-04-12T15:10:03.752Z"
   },
   {
    "duration": 4382,
    "start_time": "2023-04-12T15:10:22.870Z"
   },
   {
    "duration": 2399,
    "start_time": "2023-04-12T15:10:27.255Z"
   },
   {
    "duration": 46,
    "start_time": "2023-04-12T15:10:33.349Z"
   },
   {
    "duration": 738,
    "start_time": "2023-04-12T15:10:33.905Z"
   },
   {
    "duration": 2228,
    "start_time": "2023-04-12T15:10:34.730Z"
   },
   {
    "duration": 94,
    "start_time": "2023-04-12T15:10:36.960Z"
   },
   {
    "duration": 499,
    "start_time": "2023-04-12T15:10:37.056Z"
   },
   {
    "duration": 1932,
    "start_time": "2023-04-12T15:10:37.558Z"
   },
   {
    "duration": 6,
    "start_time": "2023-04-12T15:10:39.542Z"
   },
   {
    "duration": 745,
    "start_time": "2023-04-12T15:49:05.502Z"
   },
   {
    "duration": 26215,
    "start_time": "2023-04-12T15:49:06.249Z"
   },
   {
    "duration": 75,
    "start_time": "2023-04-12T15:49:32.467Z"
   },
   {
    "duration": 625,
    "start_time": "2023-04-12T15:49:32.544Z"
   },
   {
    "duration": 1989,
    "start_time": "2023-04-12T15:49:33.171Z"
   },
   {
    "duration": 2803,
    "start_time": "2023-04-12T15:49:35.161Z"
   },
   {
    "duration": 188,
    "start_time": "2023-04-12T15:49:37.966Z"
   },
   {
    "duration": 3,
    "start_time": "2023-04-12T15:49:38.156Z"
   },
   {
    "duration": 16,
    "start_time": "2023-04-12T15:49:38.161Z"
   },
   {
    "duration": 61,
    "start_time": "2023-04-12T15:49:38.181Z"
   },
   {
    "duration": 2398,
    "start_time": "2023-04-12T15:49:38.244Z"
   },
   {
    "duration": 726,
    "start_time": "2023-04-12T15:49:40.644Z"
   },
   {
    "duration": 168,
    "start_time": "2023-04-12T15:49:41.373Z"
   },
   {
    "duration": 97,
    "start_time": "2023-04-12T15:49:41.544Z"
   },
   {
    "duration": 1805,
    "start_time": "2023-04-12T15:49:41.643Z"
   },
   {
    "duration": 1004,
    "start_time": "2023-04-12T15:49:43.451Z"
   },
   {
    "duration": 3893,
    "start_time": "2023-04-12T15:49:44.458Z"
   },
   {
    "duration": 1205,
    "start_time": "2023-04-12T15:49:48.353Z"
   },
   {
    "duration": 1794,
    "start_time": "2023-04-12T15:49:49.560Z"
   },
   {
    "duration": 711,
    "start_time": "2023-04-12T15:49:51.357Z"
   },
   {
    "duration": 4597,
    "start_time": "2023-04-12T15:49:52.070Z"
   },
   {
    "duration": 2082,
    "start_time": "2023-04-12T15:49:56.671Z"
   },
   {
    "duration": 97,
    "start_time": "2023-04-12T15:49:58.755Z"
   },
   {
    "duration": 1031,
    "start_time": "2023-04-12T15:49:58.854Z"
   },
   {
    "duration": 2988,
    "start_time": "2023-04-12T15:49:59.887Z"
   },
   {
    "duration": 64,
    "start_time": "2023-04-12T15:50:02.877Z"
   },
   {
    "duration": 541,
    "start_time": "2023-04-12T15:50:02.943Z"
   },
   {
    "duration": 1526,
    "start_time": "2023-04-12T15:50:03.488Z"
   },
   {
    "duration": 13,
    "start_time": "2023-04-12T15:50:05.040Z"
   },
   {
    "duration": 1815,
    "start_time": "2023-04-12T15:50:05.055Z"
   },
   {
    "duration": 705,
    "start_time": "2023-04-12T15:50:06.872Z"
   },
   {
    "duration": 172,
    "start_time": "2023-04-12T15:50:07.579Z"
   },
   {
    "duration": 93,
    "start_time": "2023-04-12T15:50:07.753Z"
   },
   {
    "duration": 1004,
    "start_time": "2023-04-12T15:50:07.848Z"
   },
   {
    "duration": 104,
    "start_time": "2023-04-12T15:50:08.855Z"
   },
   {
    "duration": 2227,
    "start_time": "2023-04-12T15:50:08.962Z"
   },
   {
    "duration": 713,
    "start_time": "2023-04-12T15:50:11.192Z"
   },
   {
    "duration": 1541,
    "start_time": "2023-04-12T15:50:11.907Z"
   },
   {
    "duration": 1741,
    "start_time": "2023-04-12T15:50:13.450Z"
   },
   {
    "duration": 488,
    "start_time": "2023-04-12T15:50:15.193Z"
   },
   {
    "duration": 1474,
    "start_time": "2023-04-12T15:50:15.683Z"
   },
   {
    "duration": 4,
    "start_time": "2023-04-12T15:50:17.159Z"
   },
   {
    "duration": 323,
    "start_time": "2023-04-12T15:50:43.471Z"
   },
   {
    "duration": 776,
    "start_time": "2023-04-12T15:51:08.400Z"
   },
   {
    "duration": 26398,
    "start_time": "2023-04-12T15:51:09.178Z"
   },
   {
    "duration": 21,
    "start_time": "2023-04-12T15:51:35.642Z"
   },
   {
    "duration": 977,
    "start_time": "2023-04-12T15:51:35.666Z"
   },
   {
    "duration": 2120,
    "start_time": "2023-04-12T15:51:36.646Z"
   },
   {
    "duration": 2718,
    "start_time": "2023-04-12T15:51:38.843Z"
   },
   {
    "duration": 197,
    "start_time": "2023-04-12T15:51:41.563Z"
   },
   {
    "duration": 3,
    "start_time": "2023-04-12T15:51:41.762Z"
   },
   {
    "duration": 4,
    "start_time": "2023-04-12T15:51:41.840Z"
   },
   {
    "duration": 10,
    "start_time": "2023-04-12T15:51:41.847Z"
   },
   {
    "duration": 2258,
    "start_time": "2023-04-12T15:51:41.859Z"
   },
   {
    "duration": 854,
    "start_time": "2023-04-12T15:51:44.119Z"
   },
   {
    "duration": 175,
    "start_time": "2023-04-12T15:51:44.975Z"
   },
   {
    "duration": 88,
    "start_time": "2023-04-12T15:51:45.153Z"
   },
   {
    "duration": 1831,
    "start_time": "2023-04-12T15:51:45.244Z"
   },
   {
    "duration": 1266,
    "start_time": "2023-04-12T15:51:47.077Z"
   },
   {
    "duration": 4216,
    "start_time": "2023-04-12T15:51:48.346Z"
   },
   {
    "duration": 1515,
    "start_time": "2023-04-12T15:51:52.565Z"
   },
   {
    "duration": 1975,
    "start_time": "2023-04-12T15:51:54.082Z"
   },
   {
    "duration": 805,
    "start_time": "2023-04-12T15:51:56.060Z"
   },
   {
    "duration": 688,
    "start_time": "2023-04-12T15:51:56.866Z"
   },
   {
    "duration": 4802,
    "start_time": "2023-04-12T15:51:57.556Z"
   },
   {
    "duration": 2197,
    "start_time": "2023-04-12T15:52:02.360Z"
   },
   {
    "duration": 93,
    "start_time": "2023-04-12T15:52:04.558Z"
   },
   {
    "duration": 1094,
    "start_time": "2023-04-12T15:52:04.654Z"
   },
   {
    "duration": 2997,
    "start_time": "2023-04-12T15:52:05.750Z"
   },
   {
    "duration": 30,
    "start_time": "2023-04-12T15:52:08.748Z"
   },
   {
    "duration": 534,
    "start_time": "2023-04-12T15:52:08.844Z"
   },
   {
    "duration": 1594,
    "start_time": "2023-04-12T15:52:09.379Z"
   },
   {
    "duration": 5,
    "start_time": "2023-04-12T15:52:10.974Z"
   },
   {
    "duration": 1864,
    "start_time": "2023-04-12T15:52:10.981Z"
   },
   {
    "duration": 817,
    "start_time": "2023-04-12T15:52:12.847Z"
   },
   {
    "duration": 180,
    "start_time": "2023-04-12T15:52:13.667Z"
   },
   {
    "duration": 34,
    "start_time": "2023-04-12T15:52:13.848Z"
   },
   {
    "duration": 736,
    "start_time": "2023-04-12T15:52:13.941Z"
   },
   {
    "duration": 99,
    "start_time": "2023-04-12T15:52:14.742Z"
   },
   {
    "duration": 2422,
    "start_time": "2023-04-12T15:52:14.843Z"
   },
   {
    "duration": 577,
    "start_time": "2023-04-12T15:52:17.267Z"
   },
   {
    "duration": 1529,
    "start_time": "2023-04-12T15:52:17.846Z"
   },
   {
    "duration": 1581,
    "start_time": "2023-04-12T15:52:19.377Z"
   },
   {
    "duration": 574,
    "start_time": "2023-04-12T15:52:20.960Z"
   },
   {
    "duration": 1926,
    "start_time": "2023-04-12T15:52:21.536Z"
   },
   {
    "duration": 5,
    "start_time": "2023-04-12T15:52:23.464Z"
   },
   {
    "duration": 8,
    "start_time": "2023-04-12T16:00:43.882Z"
   },
   {
    "duration": 704,
    "start_time": "2023-04-12T16:06:11.881Z"
   },
   {
    "duration": 26053,
    "start_time": "2023-04-12T16:06:12.587Z"
   },
   {
    "duration": 17,
    "start_time": "2023-04-12T16:06:38.643Z"
   },
   {
    "duration": 705,
    "start_time": "2023-04-12T16:06:38.662Z"
   },
   {
    "duration": 2291,
    "start_time": "2023-04-12T16:06:39.369Z"
   },
   {
    "duration": 2504,
    "start_time": "2023-04-12T16:06:41.741Z"
   },
   {
    "duration": 203,
    "start_time": "2023-04-12T16:06:44.247Z"
   },
   {
    "duration": 3,
    "start_time": "2023-04-12T16:06:44.452Z"
   },
   {
    "duration": 84,
    "start_time": "2023-04-12T16:06:44.457Z"
   },
   {
    "duration": 3,
    "start_time": "2023-04-12T16:06:44.545Z"
   },
   {
    "duration": 2509,
    "start_time": "2023-04-12T16:06:44.550Z"
   },
   {
    "duration": 892,
    "start_time": "2023-04-12T16:06:47.061Z"
   },
   {
    "duration": 114,
    "start_time": "2023-04-12T16:06:47.955Z"
   },
   {
    "duration": 72,
    "start_time": "2023-04-12T16:06:48.071Z"
   },
   {
    "duration": 97,
    "start_time": "2023-04-12T16:06:48.145Z"
   },
   {
    "duration": 1619,
    "start_time": "2023-04-12T16:06:48.245Z"
   },
   {
    "duration": 1093,
    "start_time": "2023-04-12T16:06:49.866Z"
   },
   {
    "duration": 3994,
    "start_time": "2023-04-12T16:06:50.961Z"
   },
   {
    "duration": 1288,
    "start_time": "2023-04-12T16:06:54.958Z"
   },
   {
    "duration": 1894,
    "start_time": "2023-04-12T16:06:56.248Z"
   },
   {
    "duration": 612,
    "start_time": "2023-04-12T16:06:58.144Z"
   },
   {
    "duration": 649,
    "start_time": "2023-04-12T16:06:58.758Z"
   },
   {
    "duration": 4538,
    "start_time": "2023-04-12T16:06:59.409Z"
   },
   {
    "duration": 2296,
    "start_time": "2023-04-12T16:07:03.949Z"
   },
   {
    "duration": 105,
    "start_time": "2023-04-12T16:07:06.247Z"
   },
   {
    "duration": 1037,
    "start_time": "2023-04-12T16:07:06.354Z"
   },
   {
    "duration": 2691,
    "start_time": "2023-04-12T16:07:07.394Z"
   },
   {
    "duration": 32,
    "start_time": "2023-04-12T16:07:10.141Z"
   },
   {
    "duration": 579,
    "start_time": "2023-04-12T16:07:10.175Z"
   },
   {
    "duration": 1495,
    "start_time": "2023-04-12T16:07:10.756Z"
   },
   {
    "duration": 6,
    "start_time": "2023-04-12T16:07:12.253Z"
   },
   {
    "duration": 1683,
    "start_time": "2023-04-12T16:07:12.260Z"
   },
   {
    "duration": 729,
    "start_time": "2023-04-12T16:07:13.945Z"
   },
   {
    "duration": 115,
    "start_time": "2023-04-12T16:07:14.742Z"
   },
   {
    "duration": 96,
    "start_time": "2023-04-12T16:07:14.859Z"
   },
   {
    "duration": 810,
    "start_time": "2023-04-12T16:07:14.957Z"
   },
   {
    "duration": 104,
    "start_time": "2023-04-12T16:07:15.769Z"
   },
   {
    "duration": 1996,
    "start_time": "2023-04-12T16:07:15.874Z"
   },
   {
    "duration": 569,
    "start_time": "2023-04-12T16:07:17.872Z"
   },
   {
    "duration": 1283,
    "start_time": "2023-04-12T16:07:18.444Z"
   },
   {
    "duration": 1453,
    "start_time": "2023-04-12T16:07:19.740Z"
   },
   {
    "duration": 551,
    "start_time": "2023-04-12T16:07:21.195Z"
   },
   {
    "duration": 1608,
    "start_time": "2023-04-12T16:07:21.748Z"
   },
   {
    "duration": 10,
    "start_time": "2023-04-12T16:07:23.358Z"
   },
   {
    "duration": 870,
    "start_time": "2023-04-12T16:08:43.928Z"
   },
   {
    "duration": 25758,
    "start_time": "2023-04-12T16:08:44.800Z"
   },
   {
    "duration": 17,
    "start_time": "2023-04-12T16:09:10.560Z"
   },
   {
    "duration": 688,
    "start_time": "2023-04-12T16:09:10.579Z"
   },
   {
    "duration": 2086,
    "start_time": "2023-04-12T16:09:11.269Z"
   },
   {
    "duration": 2608,
    "start_time": "2023-04-12T16:09:13.358Z"
   },
   {
    "duration": 201,
    "start_time": "2023-04-12T16:09:15.968Z"
   },
   {
    "duration": 70,
    "start_time": "2023-04-12T16:09:16.171Z"
   },
   {
    "duration": 7,
    "start_time": "2023-04-12T16:09:16.243Z"
   },
   {
    "duration": 5,
    "start_time": "2023-04-12T16:09:16.252Z"
   },
   {
    "duration": 2202,
    "start_time": "2023-04-12T16:09:16.259Z"
   },
   {
    "duration": 980,
    "start_time": "2023-04-12T16:09:18.463Z"
   },
   {
    "duration": 105,
    "start_time": "2023-04-12T16:09:19.445Z"
   },
   {
    "duration": 10,
    "start_time": "2023-04-12T16:09:19.556Z"
   },
   {
    "duration": 95,
    "start_time": "2023-04-12T16:09:19.568Z"
   },
   {
    "duration": 1577,
    "start_time": "2023-04-12T16:09:19.666Z"
   },
   {
    "duration": 1119,
    "start_time": "2023-04-12T16:09:21.245Z"
   },
   {
    "duration": 3685,
    "start_time": "2023-04-12T16:09:22.366Z"
   },
   {
    "duration": 1014,
    "start_time": "2023-04-12T16:09:26.053Z"
   },
   {
    "duration": 1808,
    "start_time": "2023-04-12T16:09:27.069Z"
   },
   {
    "duration": 715,
    "start_time": "2023-04-12T16:09:28.941Z"
   },
   {
    "duration": 726,
    "start_time": "2023-04-12T16:09:29.658Z"
   },
   {
    "duration": 3987,
    "start_time": "2023-04-12T16:09:30.386Z"
   },
   {
    "duration": 2681,
    "start_time": "2023-04-12T16:09:34.375Z"
   },
   {
    "duration": 104,
    "start_time": "2023-04-12T16:09:37.058Z"
   },
   {
    "duration": 999,
    "start_time": "2023-04-12T16:09:37.164Z"
   },
   {
    "duration": 2693,
    "start_time": "2023-04-12T16:09:38.165Z"
   },
   {
    "duration": 94,
    "start_time": "2023-04-12T16:09:40.861Z"
   },
   {
    "duration": 593,
    "start_time": "2023-04-12T16:09:40.957Z"
   },
   {
    "duration": 1707,
    "start_time": "2023-04-12T16:09:41.553Z"
   },
   {
    "duration": 8,
    "start_time": "2023-04-12T16:09:43.262Z"
   },
   {
    "duration": 1695,
    "start_time": "2023-04-12T16:09:43.272Z"
   },
   {
    "duration": 773,
    "start_time": "2023-04-12T16:09:44.969Z"
   },
   {
    "duration": 124,
    "start_time": "2023-04-12T16:09:45.744Z"
   },
   {
    "duration": 99,
    "start_time": "2023-04-12T16:09:45.870Z"
   },
   {
    "duration": 906,
    "start_time": "2023-04-12T16:09:45.971Z"
   },
   {
    "duration": 93,
    "start_time": "2023-04-12T16:09:46.878Z"
   },
   {
    "duration": 2000,
    "start_time": "2023-04-12T16:09:46.974Z"
   },
   {
    "duration": 598,
    "start_time": "2023-04-12T16:09:48.976Z"
   },
   {
    "duration": 1369,
    "start_time": "2023-04-12T16:09:49.576Z"
   },
   {
    "duration": 1634,
    "start_time": "2023-04-12T16:09:50.950Z"
   },
   {
    "duration": 577,
    "start_time": "2023-04-12T16:09:52.587Z"
   },
   {
    "duration": 1691,
    "start_time": "2023-04-12T16:09:53.166Z"
   },
   {
    "duration": 11,
    "start_time": "2023-04-12T16:09:54.859Z"
   },
   {
    "duration": 711,
    "start_time": "2023-04-12T16:12:00.382Z"
   },
   {
    "duration": 25681,
    "start_time": "2023-04-12T16:12:01.095Z"
   },
   {
    "duration": 78,
    "start_time": "2023-04-12T16:12:26.779Z"
   },
   {
    "duration": 691,
    "start_time": "2023-04-12T16:12:26.860Z"
   },
   {
    "duration": 2018,
    "start_time": "2023-04-12T16:12:27.553Z"
   },
   {
    "duration": 2495,
    "start_time": "2023-04-12T16:12:29.573Z"
   },
   {
    "duration": 187,
    "start_time": "2023-04-12T16:12:32.071Z"
   },
   {
    "duration": 3,
    "start_time": "2023-04-12T16:12:32.260Z"
   },
   {
    "duration": 77,
    "start_time": "2023-04-12T16:12:32.265Z"
   },
   {
    "duration": 16,
    "start_time": "2023-04-12T16:12:32.346Z"
   },
   {
    "duration": 2395,
    "start_time": "2023-04-12T16:12:32.365Z"
   },
   {
    "duration": 795,
    "start_time": "2023-04-12T16:12:34.762Z"
   },
   {
    "duration": 115,
    "start_time": "2023-04-12T16:12:35.559Z"
   },
   {
    "duration": 96,
    "start_time": "2023-04-12T16:12:35.676Z"
   },
   {
    "duration": 1697,
    "start_time": "2023-04-12T16:12:35.773Z"
   },
   {
    "duration": 599,
    "start_time": "2023-04-12T16:12:37.472Z"
   },
   {
    "duration": 3903,
    "start_time": "2023-04-12T16:12:38.073Z"
   },
   {
    "duration": 1334,
    "start_time": "2023-04-12T16:12:42.043Z"
   },
   {
    "duration": 1805,
    "start_time": "2023-04-12T16:12:43.442Z"
   },
   {
    "duration": 5009,
    "start_time": "2023-04-12T16:12:45.249Z"
   },
   {
    "duration": 2415,
    "start_time": "2023-04-12T16:12:50.261Z"
   },
   {
    "duration": 102,
    "start_time": "2023-04-12T16:12:52.678Z"
   },
   {
    "duration": 1104,
    "start_time": "2023-04-12T16:12:52.782Z"
   },
   {
    "duration": 2584,
    "start_time": "2023-04-12T16:12:53.888Z"
   },
   {
    "duration": 85,
    "start_time": "2023-04-12T16:12:56.474Z"
   },
   {
    "duration": 787,
    "start_time": "2023-04-12T16:12:56.561Z"
   },
   {
    "duration": 1902,
    "start_time": "2023-04-12T16:12:57.350Z"
   },
   {
    "duration": 5,
    "start_time": "2023-04-12T16:12:59.258Z"
   },
   {
    "duration": 1724,
    "start_time": "2023-04-12T16:12:59.265Z"
   },
   {
    "duration": 723,
    "start_time": "2023-04-12T16:13:01.041Z"
   },
   {
    "duration": 187,
    "start_time": "2023-04-12T16:13:01.765Z"
   },
   {
    "duration": 30,
    "start_time": "2023-04-12T16:13:01.954Z"
   },
   {
    "duration": 871,
    "start_time": "2023-04-12T16:13:01.986Z"
   },
   {
    "duration": 98,
    "start_time": "2023-04-12T16:13:02.859Z"
   },
   {
    "duration": 2303,
    "start_time": "2023-04-12T16:13:02.959Z"
   },
   {
    "duration": 590,
    "start_time": "2023-04-12T16:13:05.264Z"
   },
   {
    "duration": 1542,
    "start_time": "2023-04-12T16:13:05.856Z"
   },
   {
    "duration": 1521,
    "start_time": "2023-04-12T16:13:07.440Z"
   },
   {
    "duration": 603,
    "start_time": "2023-04-12T16:13:08.963Z"
   },
   {
    "duration": 1616,
    "start_time": "2023-04-12T16:13:09.568Z"
   },
   {
    "duration": 6,
    "start_time": "2023-04-12T16:13:11.186Z"
   },
   {
    "duration": 755,
    "start_time": "2023-04-13T08:37:36.180Z"
   },
   {
    "duration": 19418,
    "start_time": "2023-04-13T08:37:38.823Z"
   },
   {
    "duration": 9067,
    "start_time": "2023-04-13T08:38:38.047Z"
   },
   {
    "duration": 16,
    "start_time": "2023-04-13T08:38:48.054Z"
   },
   {
    "duration": 502,
    "start_time": "2023-04-13T08:38:48.919Z"
   },
   {
    "duration": 1702,
    "start_time": "2023-04-13T08:38:50.411Z"
   },
   {
    "duration": 88,
    "start_time": "2023-04-13T08:38:58.171Z"
   },
   {
    "duration": 2047,
    "start_time": "2023-04-13T08:39:03.572Z"
   },
   {
    "duration": 1023,
    "start_time": "2023-04-13T08:39:15.373Z"
   },
   {
    "duration": 26,
    "start_time": "2023-04-13T08:39:17.215Z"
   },
   {
    "duration": 3,
    "start_time": "2023-04-13T08:39:23.576Z"
   },
   {
    "duration": 2547,
    "start_time": "2023-04-13T08:39:39.580Z"
   },
   {
    "duration": 2286,
    "start_time": "2023-04-13T08:39:42.322Z"
   },
   {
    "duration": 566,
    "start_time": "2023-04-13T08:40:27.743Z"
   },
   {
    "duration": 5,
    "start_time": "2023-04-13T08:40:30.526Z"
   },
   {
    "duration": 135,
    "start_time": "2023-04-13T08:40:31.774Z"
   },
   {
    "duration": 451,
    "start_time": "2023-04-13T08:40:32.675Z"
   },
   {
    "duration": 369,
    "start_time": "2023-04-13T08:40:36.031Z"
   },
   {
    "duration": 18,
    "start_time": "2023-04-13T08:40:37.200Z"
   },
   {
    "duration": 3,
    "start_time": "2023-04-13T08:40:38.515Z"
   },
   {
    "duration": 1248,
    "start_time": "2023-04-13T08:40:41.051Z"
   },
   {
    "duration": 764,
    "start_time": "2023-04-13T08:40:43.048Z"
   },
   {
    "duration": 297,
    "start_time": "2023-04-13T08:40:46.017Z"
   },
   {
    "duration": 58,
    "start_time": "2023-04-13T08:40:46.939Z"
   },
   {
    "duration": 1629,
    "start_time": "2023-04-13T08:40:47.681Z"
   },
   {
    "duration": 95,
    "start_time": "2023-04-13T08:40:49.323Z"
   },
   {
    "duration": 3749,
    "start_time": "2023-04-13T08:40:51.648Z"
   },
   {
    "duration": 604,
    "start_time": "2023-04-13T08:40:55.400Z"
   },
   {
    "duration": 1785,
    "start_time": "2023-04-13T08:40:58.546Z"
   },
   {
    "duration": 1889,
    "start_time": "2023-04-13T08:41:14.527Z"
   },
   {
    "duration": 579,
    "start_time": "2023-04-13T08:41:16.418Z"
   },
   {
    "duration": 1661,
    "start_time": "2023-04-13T08:41:18.842Z"
   },
   {
    "duration": 4,
    "start_time": "2023-04-13T08:41:20.505Z"
   },
   {
    "duration": 6,
    "start_time": "2023-04-13T08:41:53.861Z"
   },
   {
    "duration": 4,
    "start_time": "2023-04-13T08:41:57.623Z"
   }
  ],
  "colab": {
   "name": "PySparkSprint.ipynb",
   "provenance": []
  },
  "kernelspec": {
   "display_name": "Python 3 (ipykernel)",
   "language": "python",
   "name": "python3"
  },
  "language_info": {
   "codemirror_mode": {
    "name": "ipython",
    "version": 3
   },
   "file_extension": ".py",
   "mimetype": "text/x-python",
   "name": "python",
   "nbconvert_exporter": "python",
   "pygments_lexer": "ipython3",
   "version": "3.11.2"
  },
  "toc": {
   "base_numbering": 1,
   "nav_menu": {},
   "number_sections": true,
   "sideBar": true,
   "skip_h1_title": true,
   "title_cell": "Table of Contents",
   "title_sidebar": "Contents",
   "toc_cell": false,
   "toc_position": {},
   "toc_section_display": true,
   "toc_window_display": true
  }
 },
 "nbformat": 4,
 "nbformat_minor": 5
}
