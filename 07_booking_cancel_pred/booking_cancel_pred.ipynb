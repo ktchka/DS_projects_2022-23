{
 "cells": [
  {
   "cell_type": "markdown",
   "metadata": {},
   "source": [
    "# Predicting customer churn in a \"like-for-like\" hotel chain"
   ]
  },
  {
   "cell_type": "markdown",
   "metadata": {},
   "source": [
    "\n",
    "**Project description:** The customer of this research is a hotel chain \"As a guest\". In order to attract customers, the hotel chain added to its website the possibility to book a room without prepayment. However, if the customer canceled the reservation, the company suffered losses. The hotel staff could, for example, purchase groceries for the guest's arrival or simply not have time to find another client. To solve this problem, we need to develop a system that predicts the abandonment of a reservation. If the model shows that the reservation will be canceled, the customer is asked to pay a deposit. The deposit amount is 80% of the room rate. The money will be deducted from the customer's account if they do cancel the reservation.\n",
    "\n",
    "**Business Model and Other Data:**\n",
    "\n",
    "The main business metric for any hotel chain is its profit. A hotel's profit is the difference between the cost of a room for all nights and the cost of a one-time service: both in preparing the room and the guest's stay. There are several types of rooms in a hotel. Depending on the type of room, a cost per night is assigned. There are also cleaning costs. If the client has rented a room for a long time, the room is cleaned every two days. The cost of the hotel rooms:\n",
    "\n",
    "Category A: per night - 1,000, single service - 400;\n",
    "Category B: per night - 800, single service - 350;\n",
    "Category C: per night - 600, single service - 350;\n",
    "Category D: per night - 550, single service - 150;\n",
    "Category E: per night - 500, single service - 150;\n",
    "Category F: 450 per night, one-time service - 150;\n",
    "Category G: per night - 350, single service - 150;\n",
    "category H: per night - 300, single service - 100.\n",
    "\n",
    "The hotel price policy uses seasonal coefficients: in spring and fall the prices increase by 20%, in summer - by 40%. The budget for the development of the forecasting system is 400 000. It should be taken into account that the implementation of the model should pay off. The development costs should be less than the revenue that the system will bring to the company.\n",
    "\n",
    "**Algorithm of work:**\n",
    "\n",
    "1. Introduction\n",
    "2. data review and preprocessing\n",
    "3. Building the existing business model of the hotel\n",
    "4. Development of an unreliable customer model\n",
    "5. Let's describe the portrait of an \"unreliable\" customer\n",
    "6. Calculating the profit of model implementation\n",
    "7. General conclusion\n",
    "\n",
    "**Data dictionary**\n",
    "Known:\n",
    "\n",
    "- ADR - average daily occupancy;\n",
    "- Adults - number of adult guests;\n",
    "- Agent - agent through whom the reservation was made;\n",
    "- AssignedRoomType - room type;\n",
    "- Babies - number of infants;\n",
    "- BookingChanges - number of changes of booking parameters;\n",
    "- Children - number of children from 3 to 14 years old;\n",
    "- CompanyID - ID of the company or legal entity responsible for the booking.\n",
    "- Country - nationality of the guest;\n",
    "- CustomerType - type of customer:\n",
    "    Contract - contract with a legal entity;\n",
    "    Group - group check-in;\n",
    "    Transient - not related to contract or group check-in;\n",
    "    Transient-party - not associated with a contract or group check-in, but associated with a reservation of type Transient.\n",
    "- DaysInWaitingList - how many days the order has been waiting for confirmation;\n",
    "- DistributionChannel - the distribution channel of the order;\n",
    "- IsCanceled - canceled order;\n",
    "- IsRepeatedGuest - an indication that the guest is booking for the second time;\n",
    "- LeadTime - number of days between booking date and arrival date;\n",
    "- Meal - order options:\n",
    "    SC - no additional options;\n",
    "    BB - breakfast included;\n",
    "    HB - breakfast and lunch included;\n",
    "    FB - breakfast, lunch and dinner included.\n",
    "- PreviousBookingsNotCanceled - number of confirmed orders at the client;\n",
    "- PreviousCancellations - number of canceled orders at the customer;\n",
    "- RequiredCardParkingSpaces - the need for car parking space;\n",
    "- ReservedRoomType - type of room booked;\n",
    "- StaysInWeekendNights - number of nights on weekends;\n",
    "- StaysInWeekNights - number of nights on weekdays;\n",
    "- TotalOfSpecialRequests - number of special check-ins.\n",
    "\n",
    "**Target attribute:**\n",
    "\n",
    "IsCanceled - canceled order;"
   ]
  },
  {
   "cell_type": "markdown",
   "metadata": {},
   "source": [
    "## Step 1. Open the data files"
   ]
  },
  {
   "cell_type": "code",
   "execution_count": 1,
   "metadata": {},
   "outputs": [],
   "source": [
    "import pandas as pd\n",
    "import matplotlib.pyplot as plt\n",
    "import seaborn as sns\n",
    "import numpy as np\n",
    "\n",
    "from sklearn.preprocessing import OneHotEncoder, OrdinalEncoder, MinMaxScaler, StandardScaler, Normalizer, RobustScaler\n",
    "from sklearn.compose import ColumnTransformer\n",
    "from sklearn.model_selection import GridSearchCV, cross_val_score\n",
    "\n",
    "from sklearn.linear_model import SGDClassifier, LogisticRegression\n",
    "from sklearn.dummy import DummyClassifier\n",
    "from sklearn.ensemble import RandomForestClassifier\n",
    "from sklearn.tree import DecisionTreeClassifier\n",
    "from sklearn.svm import LinearSVC\n",
    "from sklearn.metrics import f1_score, roc_curve, roc_auc_score\n"
   ]
  },
  {
   "cell_type": "code",
   "execution_count": 2,
   "metadata": {},
   "outputs": [],
   "source": [
    "train = pd.read_csv('https://code.s3.yandex.net/datasets/hotel_train.csv')\n",
    "test = pd.read_csv('https://code.s3.yandex.net/datasets/hotel_test.csv')"
   ]
  },
  {
   "cell_type": "code",
   "execution_count": 3,
   "metadata": {},
   "outputs": [
    {
     "name": "stdout",
     "output_type": "stream",
     "text": [
      "Размер обучающей выборки: (65229, 25)\n",
      "Размер тестовой выборки: (32412, 25)\n"
     ]
    }
   ],
   "source": [
    "#Let's look at the sample sizes\n",
    "print(f'Размер обучающей выборки: {train.shape}')\n",
    "print(f'Размер тестовой выборки: {test.shape}')\n"
   ]
  },
  {
   "cell_type": "code",
   "execution_count": 4,
   "metadata": {},
   "outputs": [
    {
     "data": {
      "text/html": [
       "<div>\n",
       "<style scoped>\n",
       "    .dataframe tbody tr th:only-of-type {\n",
       "        vertical-align: middle;\n",
       "    }\n",
       "\n",
       "    .dataframe tbody tr th {\n",
       "        vertical-align: top;\n",
       "    }\n",
       "\n",
       "    .dataframe thead th {\n",
       "        text-align: right;\n",
       "    }\n",
       "</style>\n",
       "<table border=\"1\" class=\"dataframe\">\n",
       "  <thead>\n",
       "    <tr style=\"text-align: right;\">\n",
       "      <th></th>\n",
       "      <th>id</th>\n",
       "      <th>is_canceled</th>\n",
       "      <th>lead_time</th>\n",
       "      <th>arrival_date_year</th>\n",
       "      <th>arrival_date_month</th>\n",
       "      <th>arrival_date_week_number</th>\n",
       "      <th>arrival_date_day_of_month</th>\n",
       "      <th>stays_in_weekend_nights</th>\n",
       "      <th>stays_in_week_nights</th>\n",
       "      <th>adults</th>\n",
       "      <th>...</th>\n",
       "      <th>is_repeated_guest</th>\n",
       "      <th>previous_cancellations</th>\n",
       "      <th>previous_bookings_not_canceled</th>\n",
       "      <th>reserved_room_type</th>\n",
       "      <th>booking_changes</th>\n",
       "      <th>days_in_waiting_list</th>\n",
       "      <th>customer_type</th>\n",
       "      <th>required_car_parking_spaces</th>\n",
       "      <th>total_of_special_requests</th>\n",
       "      <th>total_nights</th>\n",
       "    </tr>\n",
       "  </thead>\n",
       "  <tbody>\n",
       "    <tr>\n",
       "      <th>0</th>\n",
       "      <td>0</td>\n",
       "      <td>0</td>\n",
       "      <td>7.0</td>\n",
       "      <td>2015</td>\n",
       "      <td>July</td>\n",
       "      <td>27</td>\n",
       "      <td>1</td>\n",
       "      <td>0</td>\n",
       "      <td>1</td>\n",
       "      <td>1.0</td>\n",
       "      <td>...</td>\n",
       "      <td>0</td>\n",
       "      <td>0</td>\n",
       "      <td>0</td>\n",
       "      <td>A</td>\n",
       "      <td>0</td>\n",
       "      <td>0</td>\n",
       "      <td>Transient</td>\n",
       "      <td>0</td>\n",
       "      <td>0</td>\n",
       "      <td>1</td>\n",
       "    </tr>\n",
       "    <tr>\n",
       "      <th>1</th>\n",
       "      <td>1</td>\n",
       "      <td>0</td>\n",
       "      <td>14.0</td>\n",
       "      <td>2015</td>\n",
       "      <td>July</td>\n",
       "      <td>27</td>\n",
       "      <td>1</td>\n",
       "      <td>0</td>\n",
       "      <td>2</td>\n",
       "      <td>2.0</td>\n",
       "      <td>...</td>\n",
       "      <td>0</td>\n",
       "      <td>0</td>\n",
       "      <td>0</td>\n",
       "      <td>A</td>\n",
       "      <td>0</td>\n",
       "      <td>0</td>\n",
       "      <td>Transient</td>\n",
       "      <td>0</td>\n",
       "      <td>1</td>\n",
       "      <td>2</td>\n",
       "    </tr>\n",
       "    <tr>\n",
       "      <th>2</th>\n",
       "      <td>2</td>\n",
       "      <td>0</td>\n",
       "      <td>0.0</td>\n",
       "      <td>2015</td>\n",
       "      <td>July</td>\n",
       "      <td>27</td>\n",
       "      <td>1</td>\n",
       "      <td>0</td>\n",
       "      <td>2</td>\n",
       "      <td>2.0</td>\n",
       "      <td>...</td>\n",
       "      <td>0</td>\n",
       "      <td>0</td>\n",
       "      <td>0</td>\n",
       "      <td>C</td>\n",
       "      <td>0</td>\n",
       "      <td>0</td>\n",
       "      <td>Transient</td>\n",
       "      <td>0</td>\n",
       "      <td>0</td>\n",
       "      <td>2</td>\n",
       "    </tr>\n",
       "    <tr>\n",
       "      <th>3</th>\n",
       "      <td>3</td>\n",
       "      <td>0</td>\n",
       "      <td>9.0</td>\n",
       "      <td>2015</td>\n",
       "      <td>July</td>\n",
       "      <td>27</td>\n",
       "      <td>1</td>\n",
       "      <td>0</td>\n",
       "      <td>2</td>\n",
       "      <td>2.0</td>\n",
       "      <td>...</td>\n",
       "      <td>0</td>\n",
       "      <td>0</td>\n",
       "      <td>0</td>\n",
       "      <td>C</td>\n",
       "      <td>0</td>\n",
       "      <td>0</td>\n",
       "      <td>Transient</td>\n",
       "      <td>0</td>\n",
       "      <td>1</td>\n",
       "      <td>2</td>\n",
       "    </tr>\n",
       "    <tr>\n",
       "      <th>4</th>\n",
       "      <td>4</td>\n",
       "      <td>1</td>\n",
       "      <td>85.0</td>\n",
       "      <td>2015</td>\n",
       "      <td>July</td>\n",
       "      <td>27</td>\n",
       "      <td>1</td>\n",
       "      <td>0</td>\n",
       "      <td>3</td>\n",
       "      <td>2.0</td>\n",
       "      <td>...</td>\n",
       "      <td>0</td>\n",
       "      <td>0</td>\n",
       "      <td>0</td>\n",
       "      <td>A</td>\n",
       "      <td>0</td>\n",
       "      <td>0</td>\n",
       "      <td>Transient</td>\n",
       "      <td>0</td>\n",
       "      <td>1</td>\n",
       "      <td>3</td>\n",
       "    </tr>\n",
       "  </tbody>\n",
       "</table>\n",
       "<p>5 rows × 25 columns</p>\n",
       "</div>"
      ],
      "text/plain": [
       "   id  is_canceled  lead_time  arrival_date_year arrival_date_month  \\\n",
       "0   0            0        7.0               2015               July   \n",
       "1   1            0       14.0               2015               July   \n",
       "2   2            0        0.0               2015               July   \n",
       "3   3            0        9.0               2015               July   \n",
       "4   4            1       85.0               2015               July   \n",
       "\n",
       "   arrival_date_week_number  arrival_date_day_of_month  \\\n",
       "0                        27                          1   \n",
       "1                        27                          1   \n",
       "2                        27                          1   \n",
       "3                        27                          1   \n",
       "4                        27                          1   \n",
       "\n",
       "   stays_in_weekend_nights  stays_in_week_nights  adults  ...  \\\n",
       "0                        0                     1     1.0  ...   \n",
       "1                        0                     2     2.0  ...   \n",
       "2                        0                     2     2.0  ...   \n",
       "3                        0                     2     2.0  ...   \n",
       "4                        0                     3     2.0  ...   \n",
       "\n",
       "   is_repeated_guest  previous_cancellations previous_bookings_not_canceled  \\\n",
       "0                  0                       0                              0   \n",
       "1                  0                       0                              0   \n",
       "2                  0                       0                              0   \n",
       "3                  0                       0                              0   \n",
       "4                  0                       0                              0   \n",
       "\n",
       "  reserved_room_type booking_changes  days_in_waiting_list  customer_type  \\\n",
       "0   A                              0                     0      Transient   \n",
       "1   A                              0                     0      Transient   \n",
       "2   C                              0                     0      Transient   \n",
       "3   C                              0                     0      Transient   \n",
       "4   A                              0                     0      Transient   \n",
       "\n",
       "   required_car_parking_spaces total_of_special_requests  total_nights  \n",
       "0                            0                         0             1  \n",
       "1                            0                         1             2  \n",
       "2                            0                         0             2  \n",
       "3                            0                         1             2  \n",
       "4                            0                         1             3  \n",
       "\n",
       "[5 rows x 25 columns]"
      ]
     },
     "execution_count": 4,
     "metadata": {},
     "output_type": "execute_result"
    }
   ],
   "source": [
    "train.head()"
   ]
  },
  {
   "cell_type": "code",
   "execution_count": 5,
   "metadata": {},
   "outputs": [
    {
     "data": {
      "text/html": [
       "<div>\n",
       "<style scoped>\n",
       "    .dataframe tbody tr th:only-of-type {\n",
       "        vertical-align: middle;\n",
       "    }\n",
       "\n",
       "    .dataframe tbody tr th {\n",
       "        vertical-align: top;\n",
       "    }\n",
       "\n",
       "    .dataframe thead th {\n",
       "        text-align: right;\n",
       "    }\n",
       "</style>\n",
       "<table border=\"1\" class=\"dataframe\">\n",
       "  <thead>\n",
       "    <tr style=\"text-align: right;\">\n",
       "      <th></th>\n",
       "      <th>id</th>\n",
       "      <th>is_canceled</th>\n",
       "      <th>lead_time</th>\n",
       "      <th>arrival_date_year</th>\n",
       "      <th>arrival_date_month</th>\n",
       "      <th>arrival_date_week_number</th>\n",
       "      <th>arrival_date_day_of_month</th>\n",
       "      <th>stays_in_weekend_nights</th>\n",
       "      <th>stays_in_week_nights</th>\n",
       "      <th>adults</th>\n",
       "      <th>...</th>\n",
       "      <th>is_repeated_guest</th>\n",
       "      <th>previous_cancellations</th>\n",
       "      <th>previous_bookings_not_canceled</th>\n",
       "      <th>reserved_room_type</th>\n",
       "      <th>booking_changes</th>\n",
       "      <th>days_in_waiting_list</th>\n",
       "      <th>customer_type</th>\n",
       "      <th>required_car_parking_spaces</th>\n",
       "      <th>total_of_special_requests</th>\n",
       "      <th>total_nights</th>\n",
       "    </tr>\n",
       "  </thead>\n",
       "  <tbody>\n",
       "    <tr>\n",
       "      <th>0</th>\n",
       "      <td>6086</td>\n",
       "      <td>1</td>\n",
       "      <td>74.0</td>\n",
       "      <td>2017</td>\n",
       "      <td>January</td>\n",
       "      <td>1</td>\n",
       "      <td>1</td>\n",
       "      <td>1</td>\n",
       "      <td>0</td>\n",
       "      <td>2.0</td>\n",
       "      <td>...</td>\n",
       "      <td>0</td>\n",
       "      <td>0</td>\n",
       "      <td>0</td>\n",
       "      <td>A</td>\n",
       "      <td>0</td>\n",
       "      <td>0</td>\n",
       "      <td>Transient</td>\n",
       "      <td>0</td>\n",
       "      <td>0</td>\n",
       "      <td>1</td>\n",
       "    </tr>\n",
       "    <tr>\n",
       "      <th>1</th>\n",
       "      <td>6087</td>\n",
       "      <td>1</td>\n",
       "      <td>62.0</td>\n",
       "      <td>2017</td>\n",
       "      <td>January</td>\n",
       "      <td>1</td>\n",
       "      <td>1</td>\n",
       "      <td>2</td>\n",
       "      <td>2</td>\n",
       "      <td>2.0</td>\n",
       "      <td>...</td>\n",
       "      <td>0</td>\n",
       "      <td>0</td>\n",
       "      <td>0</td>\n",
       "      <td>A</td>\n",
       "      <td>0</td>\n",
       "      <td>0</td>\n",
       "      <td>Transient</td>\n",
       "      <td>0</td>\n",
       "      <td>1</td>\n",
       "      <td>4</td>\n",
       "    </tr>\n",
       "    <tr>\n",
       "      <th>2</th>\n",
       "      <td>6088</td>\n",
       "      <td>1</td>\n",
       "      <td>62.0</td>\n",
       "      <td>2017</td>\n",
       "      <td>January</td>\n",
       "      <td>1</td>\n",
       "      <td>1</td>\n",
       "      <td>2</td>\n",
       "      <td>2</td>\n",
       "      <td>2.0</td>\n",
       "      <td>...</td>\n",
       "      <td>0</td>\n",
       "      <td>0</td>\n",
       "      <td>0</td>\n",
       "      <td>A</td>\n",
       "      <td>0</td>\n",
       "      <td>0</td>\n",
       "      <td>Transient</td>\n",
       "      <td>0</td>\n",
       "      <td>1</td>\n",
       "      <td>4</td>\n",
       "    </tr>\n",
       "    <tr>\n",
       "      <th>3</th>\n",
       "      <td>6089</td>\n",
       "      <td>1</td>\n",
       "      <td>71.0</td>\n",
       "      <td>2017</td>\n",
       "      <td>January</td>\n",
       "      <td>1</td>\n",
       "      <td>1</td>\n",
       "      <td>2</td>\n",
       "      <td>2</td>\n",
       "      <td>1.0</td>\n",
       "      <td>...</td>\n",
       "      <td>0</td>\n",
       "      <td>0</td>\n",
       "      <td>0</td>\n",
       "      <td>A</td>\n",
       "      <td>0</td>\n",
       "      <td>0</td>\n",
       "      <td>Transient</td>\n",
       "      <td>0</td>\n",
       "      <td>1</td>\n",
       "      <td>4</td>\n",
       "    </tr>\n",
       "    <tr>\n",
       "      <th>4</th>\n",
       "      <td>6090</td>\n",
       "      <td>1</td>\n",
       "      <td>172.0</td>\n",
       "      <td>2017</td>\n",
       "      <td>January</td>\n",
       "      <td>1</td>\n",
       "      <td>1</td>\n",
       "      <td>2</td>\n",
       "      <td>5</td>\n",
       "      <td>2.0</td>\n",
       "      <td>...</td>\n",
       "      <td>0</td>\n",
       "      <td>0</td>\n",
       "      <td>0</td>\n",
       "      <td>A</td>\n",
       "      <td>0</td>\n",
       "      <td>0</td>\n",
       "      <td>Transient</td>\n",
       "      <td>0</td>\n",
       "      <td>0</td>\n",
       "      <td>7</td>\n",
       "    </tr>\n",
       "  </tbody>\n",
       "</table>\n",
       "<p>5 rows × 25 columns</p>\n",
       "</div>"
      ],
      "text/plain": [
       "     id  is_canceled  lead_time  arrival_date_year arrival_date_month  \\\n",
       "0  6086            1       74.0               2017            January   \n",
       "1  6087            1       62.0               2017            January   \n",
       "2  6088            1       62.0               2017            January   \n",
       "3  6089            1       71.0               2017            January   \n",
       "4  6090            1      172.0               2017            January   \n",
       "\n",
       "   arrival_date_week_number  arrival_date_day_of_month  \\\n",
       "0                         1                          1   \n",
       "1                         1                          1   \n",
       "2                         1                          1   \n",
       "3                         1                          1   \n",
       "4                         1                          1   \n",
       "\n",
       "   stays_in_weekend_nights  stays_in_week_nights  adults  ...  \\\n",
       "0                        1                     0     2.0  ...   \n",
       "1                        2                     2     2.0  ...   \n",
       "2                        2                     2     2.0  ...   \n",
       "3                        2                     2     1.0  ...   \n",
       "4                        2                     5     2.0  ...   \n",
       "\n",
       "   is_repeated_guest  previous_cancellations previous_bookings_not_canceled  \\\n",
       "0                  0                       0                              0   \n",
       "1                  0                       0                              0   \n",
       "2                  0                       0                              0   \n",
       "3                  0                       0                              0   \n",
       "4                  0                       0                              0   \n",
       "\n",
       "  reserved_room_type booking_changes  days_in_waiting_list  customer_type  \\\n",
       "0   A                              0                     0      Transient   \n",
       "1   A                              0                     0      Transient   \n",
       "2   A                              0                     0      Transient   \n",
       "3   A                              0                     0      Transient   \n",
       "4   A                              0                     0      Transient   \n",
       "\n",
       "   required_car_parking_spaces total_of_special_requests  total_nights  \n",
       "0                            0                         0             1  \n",
       "1                            0                         1             4  \n",
       "2                            0                         1             4  \n",
       "3                            0                         1             4  \n",
       "4                            0                         0             7  \n",
       "\n",
       "[5 rows x 25 columns]"
      ]
     },
     "execution_count": 5,
     "metadata": {},
     "output_type": "execute_result"
    }
   ],
   "source": [
    "test.head()"
   ]
  },
  {
   "cell_type": "code",
   "execution_count": 6,
   "metadata": {},
   "outputs": [
    {
     "name": "stdout",
     "output_type": "stream",
     "text": [
      "==== Обучающая выборка ====\n",
      "<class 'pandas.core.frame.DataFrame'>\n",
      "RangeIndex: 65229 entries, 0 to 65228\n",
      "Data columns (total 25 columns):\n",
      " #   Column                          Non-Null Count  Dtype  \n",
      "---  ------                          --------------  -----  \n",
      " 0   id                              65229 non-null  int64  \n",
      " 1   is_canceled                     65229 non-null  int64  \n",
      " 2   lead_time                       65229 non-null  float64\n",
      " 3   arrival_date_year               65229 non-null  int64  \n",
      " 4   arrival_date_month              65229 non-null  object \n",
      " 5   arrival_date_week_number        65229 non-null  int64  \n",
      " 6   arrival_date_day_of_month       65229 non-null  int64  \n",
      " 7   stays_in_weekend_nights         65229 non-null  int64  \n",
      " 8   stays_in_week_nights            65229 non-null  int64  \n",
      " 9   adults                          65229 non-null  float64\n",
      " 10  children                        65229 non-null  float64\n",
      " 11  babies                          65229 non-null  float64\n",
      " 12  meal                            65229 non-null  object \n",
      " 13  country                         65229 non-null  object \n",
      " 14  distribution_channel            65229 non-null  object \n",
      " 15  is_repeated_guest               65229 non-null  int64  \n",
      " 16  previous_cancellations          65229 non-null  int64  \n",
      " 17  previous_bookings_not_canceled  65229 non-null  int64  \n",
      " 18  reserved_room_type              65229 non-null  object \n",
      " 19  booking_changes                 65229 non-null  int64  \n",
      " 20  days_in_waiting_list            65229 non-null  int64  \n",
      " 21  customer_type                   65229 non-null  object \n",
      " 22  required_car_parking_spaces     65229 non-null  int64  \n",
      " 23  total_of_special_requests       65229 non-null  int64  \n",
      " 24  total_nights                    65229 non-null  int64  \n",
      "dtypes: float64(4), int64(15), object(6)\n",
      "memory usage: 12.4+ MB\n",
      "None\n",
      "Количество дубликатов: 0\n",
      "==== Тестовая выборка ====\n",
      "<class 'pandas.core.frame.DataFrame'>\n",
      "RangeIndex: 32412 entries, 0 to 32411\n",
      "Data columns (total 25 columns):\n",
      " #   Column                          Non-Null Count  Dtype  \n",
      "---  ------                          --------------  -----  \n",
      " 0   id                              32412 non-null  int64  \n",
      " 1   is_canceled                     32412 non-null  int64  \n",
      " 2   lead_time                       32412 non-null  float64\n",
      " 3   arrival_date_year               32412 non-null  int64  \n",
      " 4   arrival_date_month              32412 non-null  object \n",
      " 5   arrival_date_week_number        32412 non-null  int64  \n",
      " 6   arrival_date_day_of_month       32412 non-null  int64  \n",
      " 7   stays_in_weekend_nights         32412 non-null  int64  \n",
      " 8   stays_in_week_nights            32412 non-null  int64  \n",
      " 9   adults                          32412 non-null  float64\n",
      " 10  children                        32412 non-null  float64\n",
      " 11  babies                          32412 non-null  float64\n",
      " 12  meal                            32412 non-null  object \n",
      " 13  country                         32412 non-null  object \n",
      " 14  distribution_channel            32412 non-null  object \n",
      " 15  is_repeated_guest               32412 non-null  int64  \n",
      " 16  previous_cancellations          32412 non-null  int64  \n",
      " 17  previous_bookings_not_canceled  32412 non-null  int64  \n",
      " 18  reserved_room_type              32412 non-null  object \n",
      " 19  booking_changes                 32412 non-null  int64  \n",
      " 20  days_in_waiting_list            32412 non-null  int64  \n",
      " 21  customer_type                   32412 non-null  object \n",
      " 22  required_car_parking_spaces     32412 non-null  int64  \n",
      " 23  total_of_special_requests       32412 non-null  int64  \n",
      " 24  total_nights                    32412 non-null  int64  \n",
      "dtypes: float64(4), int64(15), object(6)\n",
      "memory usage: 6.2+ MB\n",
      "None\n",
      "Количество дубликатов: 0\n"
     ]
    }
   ],
   "source": [
    "print('==== Обучающая выборка ====')\n",
    "print(train.info())\n",
    "print('Количество дубликатов:', sum(train.duplicated()))\n",
    "print('==== Тестовая выборка ====')\n",
    "print(test.info())\n",
    "print('Количество дубликатов:', sum(test.duplicated()))"
   ]
  },
  {
   "cell_type": "code",
   "execution_count": 7,
   "metadata": {},
   "outputs": [
    {
     "name": "stdout",
     "output_type": "stream",
     "text": [
      "==== Обучающая выборка ====\n",
      "Количество дубликатов: 21377\n",
      "==== Тестовая выборка ====\n",
      "Количество дубликатов: 7717\n"
     ]
    }
   ],
   "source": [
    "print('==== Обучающая выборка ====')\n",
    "print('Количество дубликатов:', sum(train.drop('id',axis=1).duplicated()))\n",
    "print('==== Тестовая выборка ====')\n",
    "print('Количество дубликатов:', sum(test.drop('id',axis=1).duplicated()))"
   ]
  },
  {
   "cell_type": "markdown",
   "metadata": {},
   "source": [
    "## Step 2: Pre-processing and exploratory data analysis"
   ]
  },
  {
   "cell_type": "markdown",
   "metadata": {},
   "source": [
    "### Pre-processing"
   ]
  },
  {
   "cell_type": "code",
   "execution_count": 8,
   "metadata": {},
   "outputs": [
    {
     "data": {
      "text/plain": [
       "id                                0.0\n",
       "is_canceled                       0.0\n",
       "lead_time                         0.0\n",
       "arrival_date_year                 0.0\n",
       "arrival_date_month                0.0\n",
       "arrival_date_week_number          0.0\n",
       "arrival_date_day_of_month         0.0\n",
       "stays_in_weekend_nights           0.0\n",
       "stays_in_week_nights              0.0\n",
       "adults                            0.0\n",
       "children                          0.0\n",
       "babies                            0.0\n",
       "meal                              0.0\n",
       "country                           0.0\n",
       "distribution_channel              0.0\n",
       "is_repeated_guest                 0.0\n",
       "previous_cancellations            0.0\n",
       "previous_bookings_not_canceled    0.0\n",
       "reserved_room_type                0.0\n",
       "booking_changes                   0.0\n",
       "days_in_waiting_list              0.0\n",
       "customer_type                     0.0\n",
       "required_car_parking_spaces       0.0\n",
       "total_of_special_requests         0.0\n",
       "total_nights                      0.0\n",
       "dtype: float64"
      ]
     },
     "execution_count": 8,
     "metadata": {},
     "output_type": "execute_result"
    }
   ],
   "source": [
    "round(train.isnull().mean()*100,2) "
   ]
  },
  {
   "cell_type": "code",
   "execution_count": 9,
   "metadata": {},
   "outputs": [
    {
     "data": {
      "text/plain": [
       "id                                0.0\n",
       "is_canceled                       0.0\n",
       "lead_time                         0.0\n",
       "arrival_date_year                 0.0\n",
       "arrival_date_month                0.0\n",
       "arrival_date_week_number          0.0\n",
       "arrival_date_day_of_month         0.0\n",
       "stays_in_weekend_nights           0.0\n",
       "stays_in_week_nights              0.0\n",
       "adults                            0.0\n",
       "children                          0.0\n",
       "babies                            0.0\n",
       "meal                              0.0\n",
       "country                           0.0\n",
       "distribution_channel              0.0\n",
       "is_repeated_guest                 0.0\n",
       "previous_cancellations            0.0\n",
       "previous_bookings_not_canceled    0.0\n",
       "reserved_room_type                0.0\n",
       "booking_changes                   0.0\n",
       "days_in_waiting_list              0.0\n",
       "customer_type                     0.0\n",
       "required_car_parking_spaces       0.0\n",
       "total_of_special_requests         0.0\n",
       "total_nights                      0.0\n",
       "dtype: float64"
      ]
     },
     "execution_count": 9,
     "metadata": {},
     "output_type": "execute_result"
    }
   ],
   "source": [
    "round(test.isnull().mean()*100,2) "
   ]
  },
  {
   "cell_type": "markdown",
   "metadata": {},
   "source": [
    "No duplicates or missing values detected"
   ]
  },
  {
   "cell_type": "markdown",
   "metadata": {},
   "source": [
    "In the columns lead_time, adults, children, babies, change the data type from real float64 to integer int64."
   ]
  },
  {
   "cell_type": "code",
   "execution_count": 10,
   "metadata": {},
   "outputs": [],
   "source": [
    "train[['lead_time', 'adults', 'children', 'babies']] = train[\n",
    "    ['lead_time', 'adults', 'children', 'babies']\n",
    "].astype('int')"
   ]
  },
  {
   "cell_type": "markdown",
   "metadata": {},
   "source": [
    "**Check** implicit duplicates"
   ]
  },
  {
   "cell_type": "code",
   "execution_count": 11,
   "metadata": {},
   "outputs": [],
   "source": [
    "categ_cols = [\n",
    "    'arrival_date_month', 'country', 'meal', \n",
    "    'distribution_channel', 'reserved_room_type', \n",
    "    'customer_type'\n",
    "]"
   ]
  },
  {
   "cell_type": "code",
   "execution_count": 12,
   "metadata": {},
   "outputs": [
    {
     "name": "stdout",
     "output_type": "stream",
     "text": [
      "arrival_date_month: ['April', 'August', 'December', 'February', 'January', 'July', 'June', 'March', 'May', 'November', 'October', 'September']\n",
      "\n",
      "country: ['ABW', 'AGO', 'ALB', 'AND', 'ARE', 'ARG', 'ARM', 'ATA', 'AUS', 'AUT', 'AZE', 'BDI', 'BEL', 'BEN', 'BFA', 'BGD', 'BGR', 'BHR', 'BIH', 'BLR', 'BOL', 'BRA', 'BRB', 'BWA', 'CHE', 'CHL', 'CHN', 'CIV', 'CMR', 'CN', 'COL', 'CPV', 'CRI', 'CUB', 'CYM', 'CYP', 'CZE', 'DEU', 'DMA', 'DNK', 'DOM', 'DZA', 'ECU', 'EGY', 'ESP', 'EST', 'ETH', 'FIN', 'FRA', 'GAB', 'GBR', 'GEO', 'GGY', 'GIB', 'GLP', 'GNB', 'GRC', 'GUY', 'HKG', 'HND', 'HRV', 'HUN', 'IDN', 'IMN', 'IND', 'IRL', 'IRN', 'IRQ', 'ISL', 'ISR', 'ITA', 'JAM', 'JEY', 'JOR', 'JPN', 'KAZ', 'KEN', 'KHM', 'KNA', 'KOR', 'KWT', 'LBN', 'LBY', 'LCA', 'LIE', 'LKA', 'LTU', 'LUX', 'LVA', 'MAC', 'MAR', 'MCO', 'MDV', 'MEX', 'MKD', 'MLI', 'MLT', 'MMR', 'MNE', 'MOZ', 'MUS', 'MWI', 'MYS', 'NAM', 'NGA', 'NIC', 'NLD', 'NOR', 'NZL', 'OMN', 'PAK', 'PAN', 'PER', 'PHL', 'PLW', 'POL', 'PRI', 'PRT', 'PRY', 'PYF', 'QAT', 'ROU', 'RUS', 'RWA', 'SAU', 'SEN', 'SGP', 'SLV', 'SMR', 'SRB', 'STP', 'SUR', 'SVK', 'SVN', 'SWE', 'SYC', 'SYR', 'THA', 'TJK', 'TMP', 'TUN', 'TUR', 'TWN', 'TZA', 'UGA', 'UKR', 'URY', 'USA', 'UZB', 'VEN', 'VGB', 'VNM', 'ZAF', 'ZMB', 'ZWE']\n",
      "\n",
      "meal: ['BB       ', 'FB       ', 'HB       ', 'SC', 'SC       ']\n",
      "\n",
      "distribution_channel: ['Corporate', 'Direct', 'GDS', 'TA/TO']\n",
      "\n",
      "reserved_room_type: ['A               ', 'B               ', 'C               ', 'D               ', 'E               ', 'F               ', 'G               ']\n",
      "\n",
      "customer_type: ['Contract', 'Group', 'Transient', 'Transient-Party']\n",
      "\n"
     ]
    }
   ],
   "source": [
    "for col in categ_cols:\n",
    "    print(col, sorted(train[col].unique()), sep=': ', end='\\n\\n')"
   ]
  },
  {
   "cell_type": "markdown",
   "metadata": {},
   "source": [
    "Let's remove empty characters at the end of the string in the `meal`,`reserved_room_type` columns"
   ]
  },
  {
   "cell_type": "code",
   "execution_count": 13,
   "metadata": {},
   "outputs": [
    {
     "name": "stdout",
     "output_type": "stream",
     "text": [
      "['BB' 'FB' 'HB' 'SC']\n",
      "['A' 'C' 'D' 'E' 'G' 'F' 'B']\n"
     ]
    }
   ],
   "source": [
    "for col in ['meal','reserved_room_type']:\n",
    "    train[col] = train[col].str.strip()\n",
    "    print(train[col].unique())"
   ]
  },
  {
   "cell_type": "code",
   "execution_count": 14,
   "metadata": {},
   "outputs": [
    {
     "data": {
      "text/html": [
       "<div>\n",
       "<style scoped>\n",
       "    .dataframe tbody tr th:only-of-type {\n",
       "        vertical-align: middle;\n",
       "    }\n",
       "\n",
       "    .dataframe tbody tr th {\n",
       "        vertical-align: top;\n",
       "    }\n",
       "\n",
       "    .dataframe thead th {\n",
       "        text-align: right;\n",
       "    }\n",
       "</style>\n",
       "<table border=\"1\" class=\"dataframe\">\n",
       "  <thead>\n",
       "    <tr style=\"text-align: right;\">\n",
       "      <th></th>\n",
       "      <th>id</th>\n",
       "      <th>is_canceled</th>\n",
       "      <th>lead_time</th>\n",
       "      <th>arrival_date_year</th>\n",
       "      <th>arrival_date_week_number</th>\n",
       "      <th>arrival_date_day_of_month</th>\n",
       "      <th>stays_in_weekend_nights</th>\n",
       "      <th>stays_in_week_nights</th>\n",
       "      <th>adults</th>\n",
       "      <th>children</th>\n",
       "      <th>babies</th>\n",
       "      <th>is_repeated_guest</th>\n",
       "      <th>previous_cancellations</th>\n",
       "      <th>previous_bookings_not_canceled</th>\n",
       "      <th>booking_changes</th>\n",
       "      <th>days_in_waiting_list</th>\n",
       "      <th>required_car_parking_spaces</th>\n",
       "      <th>total_of_special_requests</th>\n",
       "      <th>total_nights</th>\n",
       "    </tr>\n",
       "  </thead>\n",
       "  <tbody>\n",
       "    <tr>\n",
       "      <th>count</th>\n",
       "      <td>65229.000000</td>\n",
       "      <td>65229.000000</td>\n",
       "      <td>65229.000000</td>\n",
       "      <td>65229.000000</td>\n",
       "      <td>65229.000000</td>\n",
       "      <td>65229.000000</td>\n",
       "      <td>65229.000000</td>\n",
       "      <td>65229.000000</td>\n",
       "      <td>65229.000000</td>\n",
       "      <td>65229.000000</td>\n",
       "      <td>65229.000000</td>\n",
       "      <td>65229.000000</td>\n",
       "      <td>65229.000000</td>\n",
       "      <td>65229.000000</td>\n",
       "      <td>65229.000000</td>\n",
       "      <td>65229.000000</td>\n",
       "      <td>65229.000000</td>\n",
       "      <td>65229.000000</td>\n",
       "      <td>65229.000000</td>\n",
       "    </tr>\n",
       "    <tr>\n",
       "      <th>mean</th>\n",
       "      <td>43544.069172</td>\n",
       "      <td>0.368609</td>\n",
       "      <td>96.337917</td>\n",
       "      <td>2015.719021</td>\n",
       "      <td>31.339772</td>\n",
       "      <td>15.847813</td>\n",
       "      <td>0.825185</td>\n",
       "      <td>2.224793</td>\n",
       "      <td>1.836576</td>\n",
       "      <td>0.074890</td>\n",
       "      <td>0.007236</td>\n",
       "      <td>0.027151</td>\n",
       "      <td>0.128915</td>\n",
       "      <td>0.107713</td>\n",
       "      <td>0.194269</td>\n",
       "      <td>3.334422</td>\n",
       "      <td>0.056647</td>\n",
       "      <td>0.512763</td>\n",
       "      <td>3.049978</td>\n",
       "    </tr>\n",
       "    <tr>\n",
       "      <th>std</th>\n",
       "      <td>25614.858971</td>\n",
       "      <td>0.482431</td>\n",
       "      <td>96.127545</td>\n",
       "      <td>0.449481</td>\n",
       "      <td>13.464024</td>\n",
       "      <td>8.748182</td>\n",
       "      <td>0.853477</td>\n",
       "      <td>1.354992</td>\n",
       "      <td>0.480245</td>\n",
       "      <td>0.334243</td>\n",
       "      <td>0.098790</td>\n",
       "      <td>0.162523</td>\n",
       "      <td>0.965326</td>\n",
       "      <td>1.326638</td>\n",
       "      <td>0.593838</td>\n",
       "      <td>18.239606</td>\n",
       "      <td>0.232094</td>\n",
       "      <td>0.752590</td>\n",
       "      <td>1.738108</td>\n",
       "    </tr>\n",
       "    <tr>\n",
       "      <th>min</th>\n",
       "      <td>0.000000</td>\n",
       "      <td>0.000000</td>\n",
       "      <td>0.000000</td>\n",
       "      <td>2015.000000</td>\n",
       "      <td>1.000000</td>\n",
       "      <td>1.000000</td>\n",
       "      <td>0.000000</td>\n",
       "      <td>0.000000</td>\n",
       "      <td>0.000000</td>\n",
       "      <td>0.000000</td>\n",
       "      <td>0.000000</td>\n",
       "      <td>0.000000</td>\n",
       "      <td>0.000000</td>\n",
       "      <td>0.000000</td>\n",
       "      <td>0.000000</td>\n",
       "      <td>0.000000</td>\n",
       "      <td>0.000000</td>\n",
       "      <td>0.000000</td>\n",
       "      <td>1.000000</td>\n",
       "    </tr>\n",
       "    <tr>\n",
       "      <th>25%</th>\n",
       "      <td>19108.000000</td>\n",
       "      <td>0.000000</td>\n",
       "      <td>17.000000</td>\n",
       "      <td>2015.000000</td>\n",
       "      <td>21.000000</td>\n",
       "      <td>8.000000</td>\n",
       "      <td>0.000000</td>\n",
       "      <td>1.000000</td>\n",
       "      <td>2.000000</td>\n",
       "      <td>0.000000</td>\n",
       "      <td>0.000000</td>\n",
       "      <td>0.000000</td>\n",
       "      <td>0.000000</td>\n",
       "      <td>0.000000</td>\n",
       "      <td>0.000000</td>\n",
       "      <td>0.000000</td>\n",
       "      <td>0.000000</td>\n",
       "      <td>0.000000</td>\n",
       "      <td>2.000000</td>\n",
       "    </tr>\n",
       "    <tr>\n",
       "      <th>50%</th>\n",
       "      <td>40554.000000</td>\n",
       "      <td>0.000000</td>\n",
       "      <td>64.000000</td>\n",
       "      <td>2016.000000</td>\n",
       "      <td>34.000000</td>\n",
       "      <td>16.000000</td>\n",
       "      <td>1.000000</td>\n",
       "      <td>2.000000</td>\n",
       "      <td>2.000000</td>\n",
       "      <td>0.000000</td>\n",
       "      <td>0.000000</td>\n",
       "      <td>0.000000</td>\n",
       "      <td>0.000000</td>\n",
       "      <td>0.000000</td>\n",
       "      <td>0.000000</td>\n",
       "      <td>0.000000</td>\n",
       "      <td>0.000000</td>\n",
       "      <td>0.000000</td>\n",
       "      <td>3.000000</td>\n",
       "    </tr>\n",
       "    <tr>\n",
       "      <th>75%</th>\n",
       "      <td>67414.000000</td>\n",
       "      <td>1.000000</td>\n",
       "      <td>151.000000</td>\n",
       "      <td>2016.000000</td>\n",
       "      <td>42.000000</td>\n",
       "      <td>23.000000</td>\n",
       "      <td>2.000000</td>\n",
       "      <td>3.000000</td>\n",
       "      <td>2.000000</td>\n",
       "      <td>0.000000</td>\n",
       "      <td>0.000000</td>\n",
       "      <td>0.000000</td>\n",
       "      <td>0.000000</td>\n",
       "      <td>0.000000</td>\n",
       "      <td>0.000000</td>\n",
       "      <td>0.000000</td>\n",
       "      <td>0.000000</td>\n",
       "      <td>1.000000</td>\n",
       "      <td>4.000000</td>\n",
       "    </tr>\n",
       "    <tr>\n",
       "      <th>max</th>\n",
       "      <td>84121.000000</td>\n",
       "      <td>1.000000</td>\n",
       "      <td>374.000000</td>\n",
       "      <td>2016.000000</td>\n",
       "      <td>53.000000</td>\n",
       "      <td>31.000000</td>\n",
       "      <td>4.000000</td>\n",
       "      <td>6.000000</td>\n",
       "      <td>4.000000</td>\n",
       "      <td>3.000000</td>\n",
       "      <td>10.000000</td>\n",
       "      <td>1.000000</td>\n",
       "      <td>26.000000</td>\n",
       "      <td>58.000000</td>\n",
       "      <td>17.000000</td>\n",
       "      <td>259.000000</td>\n",
       "      <td>3.000000</td>\n",
       "      <td>5.000000</td>\n",
       "      <td>10.000000</td>\n",
       "    </tr>\n",
       "  </tbody>\n",
       "</table>\n",
       "</div>"
      ],
      "text/plain": [
       "                 id   is_canceled     lead_time  arrival_date_year  \\\n",
       "count  65229.000000  65229.000000  65229.000000       65229.000000   \n",
       "mean   43544.069172      0.368609     96.337917        2015.719021   \n",
       "std    25614.858971      0.482431     96.127545           0.449481   \n",
       "min        0.000000      0.000000      0.000000        2015.000000   \n",
       "25%    19108.000000      0.000000     17.000000        2015.000000   \n",
       "50%    40554.000000      0.000000     64.000000        2016.000000   \n",
       "75%    67414.000000      1.000000    151.000000        2016.000000   \n",
       "max    84121.000000      1.000000    374.000000        2016.000000   \n",
       "\n",
       "       arrival_date_week_number  arrival_date_day_of_month  \\\n",
       "count              65229.000000               65229.000000   \n",
       "mean                  31.339772                  15.847813   \n",
       "std                   13.464024                   8.748182   \n",
       "min                    1.000000                   1.000000   \n",
       "25%                   21.000000                   8.000000   \n",
       "50%                   34.000000                  16.000000   \n",
       "75%                   42.000000                  23.000000   \n",
       "max                   53.000000                  31.000000   \n",
       "\n",
       "       stays_in_weekend_nights  stays_in_week_nights        adults  \\\n",
       "count             65229.000000          65229.000000  65229.000000   \n",
       "mean                  0.825185              2.224793      1.836576   \n",
       "std                   0.853477              1.354992      0.480245   \n",
       "min                   0.000000              0.000000      0.000000   \n",
       "25%                   0.000000              1.000000      2.000000   \n",
       "50%                   1.000000              2.000000      2.000000   \n",
       "75%                   2.000000              3.000000      2.000000   \n",
       "max                   4.000000              6.000000      4.000000   \n",
       "\n",
       "           children        babies  is_repeated_guest  previous_cancellations  \\\n",
       "count  65229.000000  65229.000000       65229.000000            65229.000000   \n",
       "mean       0.074890      0.007236           0.027151                0.128915   \n",
       "std        0.334243      0.098790           0.162523                0.965326   \n",
       "min        0.000000      0.000000           0.000000                0.000000   \n",
       "25%        0.000000      0.000000           0.000000                0.000000   \n",
       "50%        0.000000      0.000000           0.000000                0.000000   \n",
       "75%        0.000000      0.000000           0.000000                0.000000   \n",
       "max        3.000000     10.000000           1.000000               26.000000   \n",
       "\n",
       "       previous_bookings_not_canceled  booking_changes  days_in_waiting_list  \\\n",
       "count                    65229.000000     65229.000000          65229.000000   \n",
       "mean                         0.107713         0.194269              3.334422   \n",
       "std                          1.326638         0.593838             18.239606   \n",
       "min                          0.000000         0.000000              0.000000   \n",
       "25%                          0.000000         0.000000              0.000000   \n",
       "50%                          0.000000         0.000000              0.000000   \n",
       "75%                          0.000000         0.000000              0.000000   \n",
       "max                         58.000000        17.000000            259.000000   \n",
       "\n",
       "       required_car_parking_spaces  total_of_special_requests  total_nights  \n",
       "count                 65229.000000               65229.000000  65229.000000  \n",
       "mean                      0.056647                   0.512763      3.049978  \n",
       "std                       0.232094                   0.752590      1.738108  \n",
       "min                       0.000000                   0.000000      1.000000  \n",
       "25%                       0.000000                   0.000000      2.000000  \n",
       "50%                       0.000000                   0.000000      3.000000  \n",
       "75%                       0.000000                   1.000000      4.000000  \n",
       "max                       3.000000                   5.000000     10.000000  "
      ]
     },
     "execution_count": 14,
     "metadata": {},
     "output_type": "execute_result"
    }
   ],
   "source": [
    "train.describe()"
   ]
  },
  {
   "cell_type": "code",
   "execution_count": 15,
   "metadata": {},
   "outputs": [
    {
     "data": {
      "text/plain": [
       "array([ 0,  1,  2, 10,  9])"
      ]
     },
     "execution_count": 15,
     "metadata": {},
     "output_type": "execute_result"
    }
   ],
   "source": [
    "train['babies'].unique()"
   ]
  },
  {
   "cell_type": "code",
   "execution_count": 16,
   "metadata": {},
   "outputs": [
    {
     "data": {
      "text/plain": [
       "2"
      ]
     },
     "execution_count": 16,
     "metadata": {},
     "output_type": "execute_result"
    }
   ],
   "source": [
    "train.query('babies > 2')['babies'].count()"
   ]
  },
  {
   "cell_type": "markdown",
   "metadata": {},
   "source": [
    "10 and 9 are outliers, get rid of them."
   ]
  },
  {
   "cell_type": "code",
   "execution_count": 17,
   "metadata": {},
   "outputs": [],
   "source": [
    "train = train.query('babies <= 2').reset_index(drop=True)"
   ]
  },
  {
   "cell_type": "code",
   "execution_count": 18,
   "metadata": {},
   "outputs": [
    {
     "name": "stdout",
     "output_type": "stream",
     "text": [
      "0    64777\n",
      "1      447\n",
      "2        3\n",
      "Name: babies, dtype: int64\n",
      "----------------------------\n",
      "0.0    32237\n",
      "1.0      171\n",
      "2.0        4\n",
      "Name: babies, dtype: int64\n"
     ]
    }
   ],
   "source": [
    "print(train['babies'].value_counts())\n",
    "print('----------------------------')\n",
    "print(test['babies'].value_counts())"
   ]
  },
  {
   "cell_type": "code",
   "execution_count": 19,
   "metadata": {},
   "outputs": [],
   "source": [
    "train.loc[train['babies']==2, 'babies'] = 1\n",
    "test.loc[test['babies']==2, 'babies'] = 1\n",
    "\n",
    "train = train.rename(columns={'babies':'has_babies'})\n",
    "test = test.rename(columns={'babies':'has_babies'})\n"
   ]
  },
  {
   "cell_type": "markdown",
   "metadata": {},
   "source": [
    "processed and renamed the feature\n"
   ]
  },
  {
   "cell_type": "markdown",
   "metadata": {},
   "source": [
    "Let's check the data in the test dataset"
   ]
  },
  {
   "cell_type": "code",
   "execution_count": 20,
   "metadata": {},
   "outputs": [
    {
     "name": "stdout",
     "output_type": "stream",
     "text": [
      "arrival_date_month: ['April', 'August', 'February', 'January', 'July', 'June', 'March', 'May']\n",
      "\n",
      "country: ['ABW', 'AGO', 'ALB', 'AND', 'ARE', 'ARG', 'ASM', 'ATA', 'ATF', 'AUS', 'AUT', 'AZE', 'BEL', 'BEN', 'BGD', 'BGR', 'BHR', 'BHS', 'BIH', 'BLR', 'BRA', 'CAF', 'CHE', 'CHL', 'CHN', 'CIV', 'CMR', 'CN', 'COL', 'CPV', 'CRI', 'CUB', 'CYP', 'CZE', 'DEU', 'DNK', 'DOM', 'DZA', 'ECU', 'EGY', 'ESP', 'EST', 'ETH', 'FIN', 'FJI', 'FRA', 'FRO', 'GAB', 'GBR', 'GHA', 'GIB', 'GNB', 'GRC', 'GTM', 'HKG', 'HRV', 'HUN', 'IDN', 'IMN', 'IND', 'IRL', 'IRN', 'IRQ', 'ISL', 'ISR', 'ITA', 'JAM', 'JEY', 'JOR', 'JPN', 'KAZ', 'KEN', 'KIR', 'KOR', 'KWT', 'LAO', 'LBN', 'LBY', 'LIE', 'LKA', 'LTU', 'LUX', 'LVA', 'MAC', 'MAR', 'MCO', 'MDG', 'MDV', 'MEX', 'MLT', 'MNE', 'MOZ', 'MRT', 'MUS', 'MYS', 'MYT', 'NCL', 'NGA', 'NLD', 'NOR', 'NPL', 'NZL', 'PAK', 'PAN', 'PER', 'PHL', 'POL', 'PRI', 'PRT', 'PRY', 'QAT', 'ROU', 'RUS', 'SAU', 'SDN', 'SEN', 'SGP', 'SLE', 'SLV', 'SRB', 'STP', 'SUR', 'SVK', 'SVN', 'SWE', 'SYC', 'SYR', 'TGO', 'THA', 'TJK', 'TUN', 'TUR', 'TWN', 'TZA', 'UKR', 'UMI', 'URY', 'USA', 'UZB', 'VEN', 'VNM', 'ZAF', 'ZWE']\n",
      "\n",
      "meal: ['BB       ', 'FB       ', 'HB       ', 'SC', 'SC       ']\n",
      "\n",
      "distribution_channel: ['Corporate', 'Direct', 'GDS', 'TA/TO']\n",
      "\n",
      "reserved_room_type: ['A               ', 'B               ', 'C               ', 'D               ', 'E               ', 'F               ', 'G               ']\n",
      "\n",
      "customer_type: ['Contract', 'Group', 'Transient', 'Transient-Party']\n",
      "\n"
     ]
    }
   ],
   "source": [
    "for col in categ_cols:\n",
    "    print(col, sorted(test[col].unique()), sep=': ', end='\\n\\n')"
   ]
  },
  {
   "cell_type": "markdown",
   "metadata": {},
   "source": [
    "Some columns also contain empty characters at the end of the row, let's get rid of them"
   ]
  },
  {
   "cell_type": "code",
   "execution_count": 21,
   "metadata": {},
   "outputs": [],
   "source": [
    "for col in ['meal','reserved_room_type']:\n",
    "    test[col] = test[col].str.strip()"
   ]
  },
  {
   "cell_type": "markdown",
   "metadata": {},
   "source": [
    "Let's remove the uninformative columns: 'id', 'arrival_date_week_number'"
   ]
  },
  {
   "cell_type": "code",
   "execution_count": 22,
   "metadata": {},
   "outputs": [],
   "source": [
    "columns1 = ['id', 'arrival_date_week_number']\n",
    "\n",
    "test = test.drop(columns=columns1, axis=1)\n",
    "train = train.drop(columns=columns1, axis=1)"
   ]
  },
  {
   "cell_type": "markdown",
   "metadata": {},
   "source": [
    "### Exploratory analysis"
   ]
  },
  {
   "cell_type": "markdown",
   "metadata": {},
   "source": [
    "Let's look at the distribution of target attributes"
   ]
  },
  {
   "cell_type": "code",
   "execution_count": 23,
   "metadata": {},
   "outputs": [
    {
     "data": {
      "text/plain": [
       "<seaborn.axisgrid.FacetGrid at 0x7f03bb727370>"
      ]
     },
     "execution_count": 23,
     "metadata": {},
     "output_type": "execute_result"
    },
    {
     "data": {
      "image/png": "[encoded data removed]",
      "text/plain": [
       "<Figure size 360x360 with 1 Axes>"
      ]
     },
     "metadata": {
      "needs_background": "light"
     },
     "output_type": "display_data"
    }
   ],
   "source": [
    "\n",
    "sns.catplot(data=test, x='is_canceled', kind='count')"
   ]
  },
  {
   "cell_type": "code",
   "execution_count": 24,
   "metadata": {},
   "outputs": [
    {
     "data": {
      "text/plain": [
       "<seaborn.axisgrid.FacetGrid at 0x7f043e2c0460>"
      ]
     },
     "execution_count": 24,
     "metadata": {},
     "output_type": "execute_result"
    },
    {
     "data": {
      "image/png": "[encoded data removed]",
      "text/plain": [
       "<Figure size 360x360 with 1 Axes>"
      ]
     },
     "metadata": {
      "needs_background": "light"
     },
     "output_type": "display_data"
    }
   ],
   "source": [
    "sns.catplot(data=train, x='is_canceled', kind='count')"
   ]
  },
  {
   "cell_type": "markdown",
   "metadata": {},
   "source": [
    "For convenience, let's group the attributes"
   ]
  },
  {
   "cell_type": "code",
   "execution_count": 25,
   "metadata": {},
   "outputs": [],
   "source": [
    "# Categorical\n",
    "categorical = ['distribution_channel', 'customer_type', 'reserved_room_type','meal','country']\n",
    "\n",
    "# Numeric\n",
    "numeric = ['lead_time', 'previous_cancellations', 'previous_bookings_not_canceled',\n",
    "           'booking_changes', 'days_in_waiting_list']\n",
    "\n",
    "# Real numbers, with a small number of unique values\n",
    "numeric_cat = ['stays_in_weekend_nights', 'stays_in_week_nights', 'adults', 'children',\n",
    "               'required_car_parking_spaces', 'total_of_special_requests', 'total_nights']\n",
    "\n",
    "# Boolean values\n",
    "bools = ['is_canceled', 'is_repeated_guest', 'has_babies']\n",
    "\n",
    "# Time and date\n",
    "date_time = ['arrival_date_year', 'arrival_date_month',  'arrival_date_day_of_month']"
   ]
  },
  {
   "cell_type": "code",
   "execution_count": 26,
   "metadata": {},
   "outputs": [
    {
     "name": "stdout",
     "output_type": "stream",
     "text": [
      "Распределение distribution_channel в обучающем TA/TO        54453\n",
      "Direct        6853\n",
      "Corporate     3822\n",
      "GDS             99\n",
      "Name: distribution_channel, dtype: int64\n",
      "Распределение distribution_channel в тестовом TA/TO        27083\n",
      "Direct        3642\n",
      "Corporate     1602\n",
      "GDS             85\n",
      "Name: distribution_channel, dtype: int64\n",
      "Распределение customer_type в обучающем Transient          45492\n",
      "Transient-Party    16702\n",
      "Contract            2746\n",
      "Group                287\n",
      "Name: customer_type, dtype: int64\n",
      "Распределение customer_type в тестовом Transient          27461\n",
      "Transient-Party     4427\n",
      "Contract             359\n",
      "Group                165\n",
      "Name: customer_type, dtype: int64\n",
      "Распределение reserved_room_type в обучающем A    50500\n",
      "D     9386\n",
      "E     2448\n",
      "F     1213\n",
      "B      860\n",
      "G      592\n",
      "C      228\n",
      "Name: reserved_room_type, dtype: int64\n",
      "Распределение reserved_room_type в тестовом A    23471\n",
      "D     6123\n",
      "E     1644\n",
      "F      503\n",
      "G      278\n",
      "C      201\n",
      "B      192\n",
      "Name: reserved_room_type, dtype: int64\n",
      "Распределение meal в обучающем BB    51695\n",
      "HB     7292\n",
      "SC     5789\n",
      "FB      451\n",
      "Name: meal, dtype: int64\n",
      "Распределение meal в тестовом BB    24684\n",
      "SC     5293\n",
      "HB     2399\n",
      "FB       36\n",
      "Name: meal, dtype: int64\n",
      "Распределение country в обучающем PRT    28830\n",
      "FRA     5974\n",
      "GBR     5108\n",
      "ESP     4900\n",
      "DEU     3887\n",
      "       ...  \n",
      "BEN        1\n",
      "HND        1\n",
      "MMR        1\n",
      "ZWE        1\n",
      "UGA        1\n",
      "Name: country, Length: 155, dtype: int64\n",
      "Распределение country в тестовом PRT    9887\n",
      "GBR    3927\n",
      "FRA    3477\n",
      "DEU    2378\n",
      "ESP    1932\n",
      "       ... \n",
      "STP       1\n",
      "ATA       1\n",
      "SLV       1\n",
      "SDN       1\n",
      "ATF       1\n",
      "Name: country, Length: 143, dtype: int64\n"
     ]
    },
    {
     "data": {
      "image/png": "[encoded data removed]",
      "text/plain": [
       "<Figure size 360x360 with 1 Axes>"
      ]
     },
     "metadata": {
      "needs_background": "light"
     },
     "output_type": "display_data"
    },
    {
     "data": {
      "image/png": "[encoded data removed]",
      "text/plain": [
       "<Figure size 360x360 with 1 Axes>"
      ]
     },
     "metadata": {
      "needs_background": "light"
     },
     "output_type": "display_data"
    },
    {
     "data": {
      "image/png": "[encoded data removed]",
      "text/plain": [
       "<Figure size 360x360 with 1 Axes>"
      ]
     },
     "metadata": {
      "needs_background": "light"
     },
     "output_type": "display_data"
    },
    {
     "data": {
      "image/png": "[encoded data removed]",
      "text/plain": [
       "<Figure size 360x360 with 1 Axes>"
      ]
     },
     "metadata": {
      "needs_background": "light"
     },
     "output_type": "display_data"
    },
    {
     "data": {
      "image/png": "[encoded data removed]",
      "text/plain": [
       "<Figure size 360x360 with 1 Axes>"
      ]
     },
     "metadata": {
      "needs_background": "light"
     },
     "output_type": "display_data"
    },
    {
     "data": {
      "image/png": "[encoded data removed]",
      "text/plain": [
       "<Figure size 360x360 with 1 Axes>"
      ]
     },
     "metadata": {
      "needs_background": "light"
     },
     "output_type": "display_data"
    },
    {
     "data": {
      "image/png": "[encoded data removed]",
      "text/plain": [
       "<Figure size 360x360 with 1 Axes>"
      ]
     },
     "metadata": {
      "needs_background": "light"
     },
     "output_type": "display_data"
    },
    {
     "data": {
      "image/png": "[encoded data removed]",
      "text/plain": [
       "<Figure size 360x360 with 1 Axes>"
      ]
     },
     "metadata": {
      "needs_background": "light"
     },
     "output_type": "display_data"
    },
    {
     "data": {
      "image/png": "[encoded data removed]",
      "text/plain": [
       "<Figure size 360x360 with 1 Axes>"
      ]
     },
     "metadata": {
      "needs_background": "light"
     },
     "output_type": "display_data"
    },
    {
     "data": {
      "image/png": "[encoded data removed]",
      "text/plain": [
       "<Figure size 360x360 with 1 Axes>"
      ]
     },
     "metadata": {
      "needs_background": "light"
     },
     "output_type": "display_data"
    }
   ],
   "source": [
    "for column in categorical:\n",
    "    \n",
    "    sns.catplot(data=train, x=column, kind='count')\n",
    "    print(f'Распределение {column} в обучающем',train[column].value_counts())\n",
    "    sns.catplot(data=test, x=column, kind='count')\n",
    "    print(f'Распределение {column} в тестовом',test[column].value_counts())\n",
    "\n",
    "\n",
    "    "
   ]
  },
  {
   "cell_type": "code",
   "execution_count": 27,
   "metadata": {},
   "outputs": [
    {
     "data": {
      "image/png": "[encoded data removed]",
      "text/plain": [
       "<Figure size 864x216 with 2 Axes>"
      ]
     },
     "metadata": {
      "needs_background": "light"
     },
     "output_type": "display_data"
    },
    {
     "data": {
      "image/png": "[encoded data removed]",
      "text/plain": [
       "<Figure size 864x216 with 2 Axes>"
      ]
     },
     "metadata": {
      "needs_background": "light"
     },
     "output_type": "display_data"
    },
    {
     "data": {
      "image/png": "[encoded data removed]",
      "text/plain": [
       "<Figure size 864x216 with 2 Axes>"
      ]
     },
     "metadata": {
      "needs_background": "light"
     },
     "output_type": "display_data"
    },
    {
     "data": {
      "image/png": "[encoded data removed]",
      "text/plain": [
       "<Figure size 864x216 with 2 Axes>"
      ]
     },
     "metadata": {
      "needs_background": "light"
     },
     "output_type": "display_data"
    },
    {
     "data": {
      "image/png": "[encoded data removed]",
      "text/plain": [
       "<Figure size 864x216 with 2 Axes>"
      ]
     },
     "metadata": {
      "needs_background": "light"
     },
     "output_type": "display_data"
    }
   ],
   "source": [
    "for col in train[categorical].columns:\n",
    "    fig,ax = plt.subplots(1,2,figsize=(12,3))\n",
    "    plt.suptitle(col)\n",
    "\n",
    "    train[categorical][col][train['is_canceled']==1].value_counts(ascending=True)[:10].plot(kind='barh', ax=ax[0], title='canceled')\n",
    "    train[categorical][col][train['is_canceled']==0].value_counts(ascending=True)[:10].plot(kind='barh', ax=ax[1], title='not canceled')\n"
   ]
  },
  {
   "cell_type": "markdown",
   "metadata": {},
   "source": [
    "The ratio of categorical attributes is approximately the same in both datasets. No dependencies could be identified.\n",
    "\n"
   ]
  },
  {
   "cell_type": "code",
   "execution_count": 28,
   "metadata": {},
   "outputs": [
    {
     "data": {
      "text/html": [
       "<div>\n",
       "<style scoped>\n",
       "    .dataframe tbody tr th:only-of-type {\n",
       "        vertical-align: middle;\n",
       "    }\n",
       "\n",
       "    .dataframe tbody tr th {\n",
       "        vertical-align: top;\n",
       "    }\n",
       "\n",
       "    .dataframe thead th {\n",
       "        text-align: right;\n",
       "    }\n",
       "</style>\n",
       "<table border=\"1\" class=\"dataframe\">\n",
       "  <thead>\n",
       "    <tr style=\"text-align: right;\">\n",
       "      <th></th>\n",
       "      <th>lead_time</th>\n",
       "      <th>previous_cancellations</th>\n",
       "      <th>previous_bookings_not_canceled</th>\n",
       "      <th>booking_changes</th>\n",
       "      <th>days_in_waiting_list</th>\n",
       "    </tr>\n",
       "  </thead>\n",
       "  <tbody>\n",
       "    <tr>\n",
       "      <th>count</th>\n",
       "      <td>65227.000000</td>\n",
       "      <td>65227.000000</td>\n",
       "      <td>65227.000000</td>\n",
       "      <td>65227.000000</td>\n",
       "      <td>65227.000000</td>\n",
       "    </tr>\n",
       "    <tr>\n",
       "      <th>mean</th>\n",
       "      <td>96.340135</td>\n",
       "      <td>0.128919</td>\n",
       "      <td>0.107716</td>\n",
       "      <td>0.194245</td>\n",
       "      <td>3.334524</td>\n",
       "    </tr>\n",
       "    <tr>\n",
       "      <th>std</th>\n",
       "      <td>96.128157</td>\n",
       "      <td>0.965340</td>\n",
       "      <td>1.326658</td>\n",
       "      <td>0.593830</td>\n",
       "      <td>18.239876</td>\n",
       "    </tr>\n",
       "    <tr>\n",
       "      <th>min</th>\n",
       "      <td>0.000000</td>\n",
       "      <td>0.000000</td>\n",
       "      <td>0.000000</td>\n",
       "      <td>0.000000</td>\n",
       "      <td>0.000000</td>\n",
       "    </tr>\n",
       "    <tr>\n",
       "      <th>25%</th>\n",
       "      <td>17.000000</td>\n",
       "      <td>0.000000</td>\n",
       "      <td>0.000000</td>\n",
       "      <td>0.000000</td>\n",
       "      <td>0.000000</td>\n",
       "    </tr>\n",
       "    <tr>\n",
       "      <th>50%</th>\n",
       "      <td>64.000000</td>\n",
       "      <td>0.000000</td>\n",
       "      <td>0.000000</td>\n",
       "      <td>0.000000</td>\n",
       "      <td>0.000000</td>\n",
       "    </tr>\n",
       "    <tr>\n",
       "      <th>75%</th>\n",
       "      <td>151.000000</td>\n",
       "      <td>0.000000</td>\n",
       "      <td>0.000000</td>\n",
       "      <td>0.000000</td>\n",
       "      <td>0.000000</td>\n",
       "    </tr>\n",
       "    <tr>\n",
       "      <th>max</th>\n",
       "      <td>374.000000</td>\n",
       "      <td>26.000000</td>\n",
       "      <td>58.000000</td>\n",
       "      <td>17.000000</td>\n",
       "      <td>259.000000</td>\n",
       "    </tr>\n",
       "  </tbody>\n",
       "</table>\n",
       "</div>"
      ],
      "text/plain": [
       "          lead_time  previous_cancellations  previous_bookings_not_canceled  \\\n",
       "count  65227.000000            65227.000000                    65227.000000   \n",
       "mean      96.340135                0.128919                        0.107716   \n",
       "std       96.128157                0.965340                        1.326658   \n",
       "min        0.000000                0.000000                        0.000000   \n",
       "25%       17.000000                0.000000                        0.000000   \n",
       "50%       64.000000                0.000000                        0.000000   \n",
       "75%      151.000000                0.000000                        0.000000   \n",
       "max      374.000000               26.000000                       58.000000   \n",
       "\n",
       "       booking_changes  days_in_waiting_list  \n",
       "count     65227.000000          65227.000000  \n",
       "mean          0.194245              3.334524  \n",
       "std           0.593830             18.239876  \n",
       "min           0.000000              0.000000  \n",
       "25%           0.000000              0.000000  \n",
       "50%           0.000000              0.000000  \n",
       "75%           0.000000              0.000000  \n",
       "max          17.000000            259.000000  "
      ]
     },
     "execution_count": 28,
     "metadata": {},
     "output_type": "execute_result"
    }
   ],
   "source": [
    "train[numeric].describe()"
   ]
  },
  {
   "cell_type": "code",
   "execution_count": 29,
   "metadata": {},
   "outputs": [
    {
     "data": {
      "text/plain": [
       "array([[<AxesSubplot:title={'center':'lead_time'}>,\n",
       "        <AxesSubplot:title={'center':'previous_cancellations'}>],\n",
       "       [<AxesSubplot:title={'center':'previous_bookings_not_canceled'}>,\n",
       "        <AxesSubplot:title={'center':'booking_changes'}>],\n",
       "       [<AxesSubplot:title={'center':'days_in_waiting_list'}>,\n",
       "        <AxesSubplot:>]], dtype=object)"
      ]
     },
     "execution_count": 29,
     "metadata": {},
     "output_type": "execute_result"
    },
    {
     "data": {
      "image/png": "[encoded data removed]",
      "text/plain": [
       "<Figure size 1080x720 with 6 Axes>"
      ]
     },
     "metadata": {
      "needs_background": "light"
     },
     "output_type": "display_data"
    }
   ],
   "source": [
    "train[numeric].hist(bins=50, figsize=(15,10))"
   ]
  },
  {
   "cell_type": "code",
   "execution_count": 30,
   "metadata": {},
   "outputs": [
    {
     "data": {
      "text/html": [
       "<div>\n",
       "<style scoped>\n",
       "    .dataframe tbody tr th:only-of-type {\n",
       "        vertical-align: middle;\n",
       "    }\n",
       "\n",
       "    .dataframe tbody tr th {\n",
       "        vertical-align: top;\n",
       "    }\n",
       "\n",
       "    .dataframe thead th {\n",
       "        text-align: right;\n",
       "    }\n",
       "</style>\n",
       "<table border=\"1\" class=\"dataframe\">\n",
       "  <thead>\n",
       "    <tr style=\"text-align: right;\">\n",
       "      <th>is_canceled</th>\n",
       "      <th>0</th>\n",
       "      <th>1</th>\n",
       "    </tr>\n",
       "  </thead>\n",
       "  <tbody>\n",
       "    <tr>\n",
       "      <th>lead_time</th>\n",
       "      <td>72.238958</td>\n",
       "      <td>137.621070</td>\n",
       "    </tr>\n",
       "    <tr>\n",
       "      <th>previous_cancellations</th>\n",
       "      <td>0.016050</td>\n",
       "      <td>0.322243</td>\n",
       "    </tr>\n",
       "    <tr>\n",
       "      <th>previous_bookings_not_canceled</th>\n",
       "      <td>0.153898</td>\n",
       "      <td>0.028614</td>\n",
       "    </tr>\n",
       "    <tr>\n",
       "      <th>booking_changes</th>\n",
       "      <td>0.259087</td>\n",
       "      <td>0.083181</td>\n",
       "    </tr>\n",
       "    <tr>\n",
       "      <th>days_in_waiting_list</th>\n",
       "      <td>2.277493</td>\n",
       "      <td>5.145026</td>\n",
       "    </tr>\n",
       "  </tbody>\n",
       "</table>\n",
       "</div>"
      ],
      "text/plain": [
       "is_canceled                             0           1\n",
       "lead_time                       72.238958  137.621070\n",
       "previous_cancellations           0.016050    0.322243\n",
       "previous_bookings_not_canceled   0.153898    0.028614\n",
       "booking_changes                  0.259087    0.083181\n",
       "days_in_waiting_list             2.277493    5.145026"
      ]
     },
     "execution_count": 30,
     "metadata": {},
     "output_type": "execute_result"
    }
   ],
   "source": [
    "train[numeric].join(train['is_canceled']).groupby('is_canceled').mean().T"
   ]
  },
  {
   "cell_type": "code",
   "execution_count": 31,
   "metadata": {},
   "outputs": [],
   "source": [
    "numerical = test.drop(columns=[*categorical, 'arrival_date_year','arrival_date_month'], axis=1)"
   ]
  },
  {
   "cell_type": "code",
   "execution_count": 32,
   "metadata": {},
   "outputs": [
    {
     "data": {
      "text/plain": [
       "<AxesSubplot:>"
      ]
     },
     "execution_count": 32,
     "metadata": {},
     "output_type": "execute_result"
    },
    {
     "data": {
      "image/png": "[encoded data removed]",
      "text/plain": [
       "<Figure size 2160x1440 with 2 Axes>"
      ]
     },
     "metadata": {
      "needs_background": "light"
     },
     "output_type": "display_data"
    }
   ],
   "source": [
    "plt.figure(figsize=(30,20))\n",
    "sns.heatmap(numerical.corr().round(2),annot=True,square=True)\n"
   ]
  },
  {
   "cell_type": "markdown",
   "metadata": {},
   "source": [
    "We see a positive correlation between lead_time and is_cancelled. And a negative correlation between is_cancelled and total_of_special_requests\n",
    "\n",
    "For guests who canceled their reservation:\n",
    "\n",
    "* The average number of days between booking date and arrival date is almost twice as high (132.7 days)\n",
    "* 20 times higher average number of previous cancellations\n",
    "* 10 times lower average number of previous confirmed reservations\n",
    "* 2.6 times lower average number of changes in booking parameters.\n",
    "* 2 times longer on average their order was waiting for confirmation"
   ]
  },
  {
   "cell_type": "code",
   "execution_count": 33,
   "metadata": {},
   "outputs": [
    {
     "data": {
      "text/plain": [
       "array([[<AxesSubplot:title={'center':'stays_in_weekend_nights'}>,\n",
       "        <AxesSubplot:title={'center':'stays_in_week_nights'}>,\n",
       "        <AxesSubplot:title={'center':'adults'}>],\n",
       "       [<AxesSubplot:title={'center':'children'}>,\n",
       "        <AxesSubplot:title={'center':'required_car_parking_spaces'}>,\n",
       "        <AxesSubplot:title={'center':'total_of_special_requests'}>],\n",
       "       [<AxesSubplot:title={'center':'total_nights'}>, <AxesSubplot:>,\n",
       "        <AxesSubplot:>]], dtype=object)"
      ]
     },
     "execution_count": 33,
     "metadata": {},
     "output_type": "execute_result"
    },
    {
     "data": {
      "image/png": "[encoded data removed]",
      "text/plain": [
       "<Figure size 1080x720 with 9 Axes>"
      ]
     },
     "metadata": {
      "needs_background": "light"
     },
     "output_type": "display_data"
    }
   ],
   "source": [
    "train[numeric_cat].hist(bins=10, figsize=(15,10))"
   ]
  },
  {
   "cell_type": "code",
   "execution_count": 34,
   "metadata": {},
   "outputs": [
    {
     "data": {
      "text/html": [
       "<div>\n",
       "<style scoped>\n",
       "    .dataframe tbody tr th:only-of-type {\n",
       "        vertical-align: middle;\n",
       "    }\n",
       "\n",
       "    .dataframe tbody tr th {\n",
       "        vertical-align: top;\n",
       "    }\n",
       "\n",
       "    .dataframe thead th {\n",
       "        text-align: right;\n",
       "    }\n",
       "</style>\n",
       "<table border=\"1\" class=\"dataframe\">\n",
       "  <thead>\n",
       "    <tr style=\"text-align: right;\">\n",
       "      <th>is_canceled</th>\n",
       "      <th>0</th>\n",
       "      <th>1</th>\n",
       "    </tr>\n",
       "  </thead>\n",
       "  <tbody>\n",
       "    <tr>\n",
       "      <th>stays_in_weekend_nights</th>\n",
       "      <td>0.834155</td>\n",
       "      <td>0.809807</td>\n",
       "    </tr>\n",
       "    <tr>\n",
       "      <th>stays_in_week_nights</th>\n",
       "      <td>2.213802</td>\n",
       "      <td>2.243678</td>\n",
       "    </tr>\n",
       "    <tr>\n",
       "      <th>adults</th>\n",
       "      <td>1.820023</td>\n",
       "      <td>1.864956</td>\n",
       "    </tr>\n",
       "    <tr>\n",
       "      <th>children</th>\n",
       "      <td>0.079426</td>\n",
       "      <td>0.067127</td>\n",
       "    </tr>\n",
       "    <tr>\n",
       "      <th>required_car_parking_spaces</th>\n",
       "      <td>0.089721</td>\n",
       "      <td>0.000000</td>\n",
       "    </tr>\n",
       "    <tr>\n",
       "      <th>total_of_special_requests</th>\n",
       "      <td>0.660588</td>\n",
       "      <td>0.259566</td>\n",
       "    </tr>\n",
       "    <tr>\n",
       "      <th>total_nights</th>\n",
       "      <td>3.047957</td>\n",
       "      <td>3.053485</td>\n",
       "    </tr>\n",
       "  </tbody>\n",
       "</table>\n",
       "</div>"
      ],
      "text/plain": [
       "is_canceled                         0         1\n",
       "stays_in_weekend_nights      0.834155  0.809807\n",
       "stays_in_week_nights         2.213802  2.243678\n",
       "adults                       1.820023  1.864956\n",
       "children                     0.079426  0.067127\n",
       "required_car_parking_spaces  0.089721  0.000000\n",
       "total_of_special_requests    0.660588  0.259566\n",
       "total_nights                 3.047957  3.053485"
      ]
     },
     "execution_count": 34,
     "metadata": {},
     "output_type": "execute_result"
    }
   ],
   "source": [
    "train[numeric_cat].join(train['is_canceled']).groupby('is_canceled').mean().T"
   ]
  },
  {
   "cell_type": "markdown",
   "metadata": {},
   "source": [
    "Customers who canceled their reservations have mostly\n",
    "\n",
    "* No request for a parking space\n",
    "* No children under 3 years old\n",
    "* The average number of special marks is 2 times less."
   ]
  },
  {
   "cell_type": "code",
   "execution_count": 35,
   "metadata": {},
   "outputs": [
    {
     "data": {
      "text/plain": [
       "array([[<AxesSubplot:title={'center':'arrival_date_year'}>,\n",
       "        <AxesSubplot:title={'center':'arrival_date_day_of_month'}>]],\n",
       "      dtype=object)"
      ]
     },
     "execution_count": 35,
     "metadata": {},
     "output_type": "execute_result"
    },
    {
     "data": {
      "image/png": "[encoded data removed]",
      "text/plain": [
       "<Figure size 1080x720 with 2 Axes>"
      ]
     },
     "metadata": {
      "needs_background": "light"
     },
     "output_type": "display_data"
    }
   ],
   "source": [
    "train[date_time].hist(bins=20, figsize=(15,10))"
   ]
  },
  {
   "cell_type": "code",
   "execution_count": 36,
   "metadata": {},
   "outputs": [
    {
     "data": {
      "text/plain": [
       "<AxesSubplot:>"
      ]
     },
     "execution_count": 36,
     "metadata": {},
     "output_type": "execute_result"
    },
    {
     "data": {
      "image/png": "[encoded data removed]",
      "text/plain": [
       "<Figure size 1080x360 with 1 Axes>"
      ]
     },
     "metadata": {
      "needs_background": "light"
     },
     "output_type": "display_data"
    }
   ],
   "source": [
    "train['arrival_date_month'].hist(figsize=(15,5))\n"
   ]
  },
  {
   "cell_type": "code",
   "execution_count": 37,
   "metadata": {},
   "outputs": [
    {
     "data": {
      "image/png": "[encoded data removed]",
      "text/plain": [
       "<Figure size 864x216 with 2 Axes>"
      ]
     },
     "metadata": {
      "needs_background": "light"
     },
     "output_type": "display_data"
    },
    {
     "data": {
      "image/png": "[encoded data removed]",
      "text/plain": [
       "<Figure size 864x216 with 2 Axes>"
      ]
     },
     "metadata": {
      "needs_background": "light"
     },
     "output_type": "display_data"
    },
    {
     "data": {
      "image/png": "[encoded data removed]",
      "text/plain": [
       "<Figure size 864x216 with 2 Axes>"
      ]
     },
     "metadata": {
      "needs_background": "light"
     },
     "output_type": "display_data"
    }
   ],
   "source": [
    "for col in train[date_time].columns:\n",
    "    fig,ax = plt.subplots(1,2, figsize=(12,3))\n",
    "    plt.suptitle(col)\n",
    "  \n",
    "    train[date_time][col][train['is_canceled']==1].value_counts(ascending=True)[:10].plot(kind='barh',ax=ax[0], title='cancelled')\n",
    "    train[date_time][col][train['is_canceled']==0].value_counts(ascending=True)[:10].plot(kind='barh',ax=ax[1], title='not cancelled')\n"
   ]
  },
  {
   "cell_type": "markdown",
   "metadata": {},
   "source": [
    "The dependence has not been revealed.\n",
    "\n",
    "The arrival_date_year attribute cannot tell us anything about seasonal trends and is hardly useful for predicting the client's behavior in the future. Let's remove it"
   ]
  },
  {
   "cell_type": "code",
   "execution_count": 38,
   "metadata": {},
   "outputs": [],
   "source": [
    "test = test.drop(columns='arrival_date_year', axis=1)\n",
    "train = train.drop(columns='arrival_date_year', axis=1)"
   ]
  },
  {
   "cell_type": "markdown",
   "metadata": {},
   "source": [
    "### Withdrawal\n",
    "\n",
    "Guests who canceled their reservations have:\n",
    "\n",
    "* The average number of days between booking date and arrival date is almost twice as long (132.7 days)\n",
    "* 20 times higher average number of previous cancellations\n",
    "* 10 times lower average number of previous confirmed reservations\n",
    "* 2.5 times lower average number of changes in booking parameters\n",
    "* Twice as long on average a reservation waited for confirmation\n",
    "* No request for a parking space\n",
    "* No children under 3 years old\n",
    "* Average number of special marks is 2 times lower"
   ]
  },
  {
   "cell_type": "code",
   "execution_count": 39,
   "metadata": {},
   "outputs": [
    {
     "name": "stdout",
     "output_type": "stream",
     "text": [
      "2    141\n",
      "0     15\n",
      "3      8\n",
      "1      2\n",
      "Name: children, dtype: int64\n",
      "2.0    58\n",
      "0.0     7\n",
      "3.0     2\n",
      "1.0     2\n",
      "Name: children, dtype: int64\n"
     ]
    }
   ],
   "source": [
    "print(train.loc[train['adults']==0, 'children'].value_counts())\n",
    "print(test.loc[test['adults']==0, 'children'].value_counts())\n"
   ]
  },
  {
   "cell_type": "markdown",
   "metadata": {},
   "source": [
    " Indeed it appears that we have records where there are 0 adults and 0 children (who checked in then?) and 1 to 3 children. Let's take them out.\n"
   ]
  },
  {
   "cell_type": "code",
   "execution_count": 40,
   "metadata": {},
   "outputs": [],
   "source": [
    "train = train.query('adults > 0')\n",
    "test = test.query('adults > 0')\n"
   ]
  },
  {
   "cell_type": "code",
   "execution_count": 41,
   "metadata": {},
   "outputs": [
    {
     "name": "stdout",
     "output_type": "stream",
     "text": [
      "Series([], Name: children, dtype: int64)\n",
      "Series([], Name: children, dtype: int64)\n"
     ]
    }
   ],
   "source": [
    "print(train.loc[train['adults']==0, 'children'].value_counts())\n",
    "print(test.loc[test['adults']==0, 'children'].value_counts())"
   ]
  },
  {
   "cell_type": "code",
   "execution_count": 42,
   "metadata": {},
   "outputs": [
    {
     "name": "stdout",
     "output_type": "stream",
     "text": [
      "is_canceled                       0\n",
      "lead_time                         0\n",
      "arrival_date_month                0\n",
      "arrival_date_day_of_month         0\n",
      "stays_in_weekend_nights           0\n",
      "stays_in_week_nights              0\n",
      "adults                            0\n",
      "children                          0\n",
      "has_babies                        0\n",
      "meal                              0\n",
      "country                           0\n",
      "distribution_channel              0\n",
      "is_repeated_guest                 0\n",
      "previous_cancellations            0\n",
      "previous_bookings_not_canceled    0\n",
      "reserved_room_type                0\n",
      "booking_changes                   0\n",
      "days_in_waiting_list              0\n",
      "customer_type                     0\n",
      "required_car_parking_spaces       0\n",
      "total_of_special_requests         0\n",
      "total_nights                      0\n",
      "dtype: int64\n"
     ]
    }
   ],
   "source": [
    "print(train[train['total_nights'] != (train['stays_in_week_nights']+train['stays_in_weekend_nights'])].count())"
   ]
  },
  {
   "cell_type": "markdown",
   "metadata": {},
   "source": [
    "We found that total_nights contains the number of full nights, so the columns `stays_in_week_nights` and `stays_in_weekend_nights` are not needed. Let's remove them\n"
   ]
  },
  {
   "cell_type": "code",
   "execution_count": 43,
   "metadata": {},
   "outputs": [],
   "source": [
    "test = test.drop(['stays_in_week_nights','stays_in_weekend_nights'], axis=1)\n",
    "train = train.drop(['stays_in_week_nights','stays_in_weekend_nights'], axis=1)\n"
   ]
  },
  {
   "cell_type": "markdown",
   "metadata": {},
   "source": [
    "## Step 3: Formulate an ML problem based on a business problem"
   ]
  },
  {
   "cell_type": "markdown",
   "metadata": {},
   "source": [
    "Create dictionaries for revenues and costs and make them into dfs\n"
   ]
  },
  {
   "cell_type": "code",
   "execution_count": 44,
   "metadata": {},
   "outputs": [],
   "source": [
    "room_profit = {'room_type'   : ['A', 'B', 'C', 'D', 'E', 'F', 'G', 'H'],\n",
    "               'room_profit' : [1000, 800, 600, 550, 500, 450, 350, 300],\n",
    "               'room_expense': [400,  350, 350, 150, 150, 150, 150, 100]}\n",
    "\n",
    "season_ratio = {'season_month'  : ['June', 'July', 'August', 'September', 'October', 'November', 'December',\n",
    "                                   'January', 'February', 'March', 'April', 'May' ],\n",
    "                'season_ratio' :  [1.4, 1.4, 1.4, 1.2, 1.2, 1.2, 1, 1, 1, 1.2, 1.2, 1.2]}"
   ]
  },
  {
   "cell_type": "code",
   "execution_count": 45,
   "metadata": {},
   "outputs": [],
   "source": [
    "rp_df = pd.DataFrame(room_profit)\n",
    "sr_df = pd.DataFrame(season_ratio)"
   ]
  },
  {
   "cell_type": "code",
   "execution_count": 46,
   "metadata": {
    "scrolled": true
   },
   "outputs": [
    {
     "data": {
      "text/html": [
       "<div>\n",
       "<style scoped>\n",
       "    .dataframe tbody tr th:only-of-type {\n",
       "        vertical-align: middle;\n",
       "    }\n",
       "\n",
       "    .dataframe tbody tr th {\n",
       "        vertical-align: top;\n",
       "    }\n",
       "\n",
       "    .dataframe thead th {\n",
       "        text-align: right;\n",
       "    }\n",
       "</style>\n",
       "<table border=\"1\" class=\"dataframe\">\n",
       "  <thead>\n",
       "    <tr style=\"text-align: right;\">\n",
       "      <th></th>\n",
       "      <th>room_type</th>\n",
       "      <th>room_profit</th>\n",
       "      <th>room_expense</th>\n",
       "    </tr>\n",
       "  </thead>\n",
       "  <tbody>\n",
       "    <tr>\n",
       "      <th>0</th>\n",
       "      <td>A</td>\n",
       "      <td>1000</td>\n",
       "      <td>400</td>\n",
       "    </tr>\n",
       "    <tr>\n",
       "      <th>1</th>\n",
       "      <td>B</td>\n",
       "      <td>800</td>\n",
       "      <td>350</td>\n",
       "    </tr>\n",
       "    <tr>\n",
       "      <th>2</th>\n",
       "      <td>C</td>\n",
       "      <td>600</td>\n",
       "      <td>350</td>\n",
       "    </tr>\n",
       "    <tr>\n",
       "      <th>3</th>\n",
       "      <td>D</td>\n",
       "      <td>550</td>\n",
       "      <td>150</td>\n",
       "    </tr>\n",
       "    <tr>\n",
       "      <th>4</th>\n",
       "      <td>E</td>\n",
       "      <td>500</td>\n",
       "      <td>150</td>\n",
       "    </tr>\n",
       "    <tr>\n",
       "      <th>5</th>\n",
       "      <td>F</td>\n",
       "      <td>450</td>\n",
       "      <td>150</td>\n",
       "    </tr>\n",
       "    <tr>\n",
       "      <th>6</th>\n",
       "      <td>G</td>\n",
       "      <td>350</td>\n",
       "      <td>150</td>\n",
       "    </tr>\n",
       "    <tr>\n",
       "      <th>7</th>\n",
       "      <td>H</td>\n",
       "      <td>300</td>\n",
       "      <td>100</td>\n",
       "    </tr>\n",
       "  </tbody>\n",
       "</table>\n",
       "</div>"
      ],
      "text/plain": [
       "  room_type  room_profit  room_expense\n",
       "0         A         1000           400\n",
       "1         B          800           350\n",
       "2         C          600           350\n",
       "3         D          550           150\n",
       "4         E          500           150\n",
       "5         F          450           150\n",
       "6         G          350           150\n",
       "7         H          300           100"
      ]
     },
     "execution_count": 46,
     "metadata": {},
     "output_type": "execute_result"
    }
   ],
   "source": [
    "rp_df"
   ]
  },
  {
   "cell_type": "code",
   "execution_count": 47,
   "metadata": {},
   "outputs": [
    {
     "data": {
      "text/html": [
       "<div>\n",
       "<style scoped>\n",
       "    .dataframe tbody tr th:only-of-type {\n",
       "        vertical-align: middle;\n",
       "    }\n",
       "\n",
       "    .dataframe tbody tr th {\n",
       "        vertical-align: top;\n",
       "    }\n",
       "\n",
       "    .dataframe thead th {\n",
       "        text-align: right;\n",
       "    }\n",
       "</style>\n",
       "<table border=\"1\" class=\"dataframe\">\n",
       "  <thead>\n",
       "    <tr style=\"text-align: right;\">\n",
       "      <th></th>\n",
       "      <th>room_type</th>\n",
       "      <th>room_profit</th>\n",
       "      <th>room_expense</th>\n",
       "    </tr>\n",
       "  </thead>\n",
       "  <tbody>\n",
       "    <tr>\n",
       "      <th>0</th>\n",
       "      <td>A</td>\n",
       "      <td>1000</td>\n",
       "      <td>400</td>\n",
       "    </tr>\n",
       "    <tr>\n",
       "      <th>1</th>\n",
       "      <td>B</td>\n",
       "      <td>800</td>\n",
       "      <td>350</td>\n",
       "    </tr>\n",
       "    <tr>\n",
       "      <th>2</th>\n",
       "      <td>C</td>\n",
       "      <td>600</td>\n",
       "      <td>350</td>\n",
       "    </tr>\n",
       "    <tr>\n",
       "      <th>3</th>\n",
       "      <td>D</td>\n",
       "      <td>550</td>\n",
       "      <td>150</td>\n",
       "    </tr>\n",
       "    <tr>\n",
       "      <th>4</th>\n",
       "      <td>E</td>\n",
       "      <td>500</td>\n",
       "      <td>150</td>\n",
       "    </tr>\n",
       "    <tr>\n",
       "      <th>5</th>\n",
       "      <td>F</td>\n",
       "      <td>450</td>\n",
       "      <td>150</td>\n",
       "    </tr>\n",
       "    <tr>\n",
       "      <th>6</th>\n",
       "      <td>G</td>\n",
       "      <td>350</td>\n",
       "      <td>150</td>\n",
       "    </tr>\n",
       "    <tr>\n",
       "      <th>7</th>\n",
       "      <td>H</td>\n",
       "      <td>300</td>\n",
       "      <td>100</td>\n",
       "    </tr>\n",
       "  </tbody>\n",
       "</table>\n",
       "</div>"
      ],
      "text/plain": [
       "  room_type  room_profit  room_expense\n",
       "0         A         1000           400\n",
       "1         B          800           350\n",
       "2         C          600           350\n",
       "3         D          550           150\n",
       "4         E          500           150\n",
       "5         F          450           150\n",
       "6         G          350           150\n",
       "7         H          300           100"
      ]
     },
     "execution_count": 47,
     "metadata": {},
     "output_type": "execute_result"
    }
   ],
   "source": [
    "rp_df"
   ]
  },
  {
   "cell_type": "code",
   "execution_count": 48,
   "metadata": {},
   "outputs": [
    {
     "data": {
      "text/html": [
       "<div>\n",
       "<style scoped>\n",
       "    .dataframe tbody tr th:only-of-type {\n",
       "        vertical-align: middle;\n",
       "    }\n",
       "\n",
       "    .dataframe tbody tr th {\n",
       "        vertical-align: top;\n",
       "    }\n",
       "\n",
       "    .dataframe thead th {\n",
       "        text-align: right;\n",
       "    }\n",
       "</style>\n",
       "<table border=\"1\" class=\"dataframe\">\n",
       "  <thead>\n",
       "    <tr style=\"text-align: right;\">\n",
       "      <th></th>\n",
       "      <th>is_canceled</th>\n",
       "      <th>lead_time</th>\n",
       "      <th>arrival_date_month</th>\n",
       "      <th>arrival_date_day_of_month</th>\n",
       "      <th>adults</th>\n",
       "      <th>children</th>\n",
       "      <th>has_babies</th>\n",
       "      <th>meal</th>\n",
       "      <th>country</th>\n",
       "      <th>distribution_channel</th>\n",
       "      <th>...</th>\n",
       "      <th>reserved_room_type</th>\n",
       "      <th>booking_changes</th>\n",
       "      <th>days_in_waiting_list</th>\n",
       "      <th>customer_type</th>\n",
       "      <th>required_car_parking_spaces</th>\n",
       "      <th>total_of_special_requests</th>\n",
       "      <th>total_nights</th>\n",
       "      <th>room_profit</th>\n",
       "      <th>room_expense</th>\n",
       "      <th>season_ratio</th>\n",
       "    </tr>\n",
       "  </thead>\n",
       "  <tbody>\n",
       "    <tr>\n",
       "      <th>0</th>\n",
       "      <td>0</td>\n",
       "      <td>7</td>\n",
       "      <td>July</td>\n",
       "      <td>1</td>\n",
       "      <td>1</td>\n",
       "      <td>0</td>\n",
       "      <td>0</td>\n",
       "      <td>BB</td>\n",
       "      <td>GBR</td>\n",
       "      <td>Direct</td>\n",
       "      <td>...</td>\n",
       "      <td>A</td>\n",
       "      <td>0</td>\n",
       "      <td>0</td>\n",
       "      <td>Transient</td>\n",
       "      <td>0</td>\n",
       "      <td>0</td>\n",
       "      <td>1</td>\n",
       "      <td>1000</td>\n",
       "      <td>400</td>\n",
       "      <td>1.4</td>\n",
       "    </tr>\n",
       "    <tr>\n",
       "      <th>1</th>\n",
       "      <td>0</td>\n",
       "      <td>14</td>\n",
       "      <td>July</td>\n",
       "      <td>1</td>\n",
       "      <td>2</td>\n",
       "      <td>0</td>\n",
       "      <td>0</td>\n",
       "      <td>BB</td>\n",
       "      <td>GBR</td>\n",
       "      <td>TA/TO</td>\n",
       "      <td>...</td>\n",
       "      <td>A</td>\n",
       "      <td>0</td>\n",
       "      <td>0</td>\n",
       "      <td>Transient</td>\n",
       "      <td>0</td>\n",
       "      <td>1</td>\n",
       "      <td>2</td>\n",
       "      <td>1000</td>\n",
       "      <td>400</td>\n",
       "      <td>1.4</td>\n",
       "    </tr>\n",
       "    <tr>\n",
       "      <th>2</th>\n",
       "      <td>0</td>\n",
       "      <td>0</td>\n",
       "      <td>July</td>\n",
       "      <td>1</td>\n",
       "      <td>2</td>\n",
       "      <td>0</td>\n",
       "      <td>0</td>\n",
       "      <td>BB</td>\n",
       "      <td>PRT</td>\n",
       "      <td>Direct</td>\n",
       "      <td>...</td>\n",
       "      <td>C</td>\n",
       "      <td>0</td>\n",
       "      <td>0</td>\n",
       "      <td>Transient</td>\n",
       "      <td>0</td>\n",
       "      <td>0</td>\n",
       "      <td>2</td>\n",
       "      <td>600</td>\n",
       "      <td>350</td>\n",
       "      <td>1.4</td>\n",
       "    </tr>\n",
       "    <tr>\n",
       "      <th>3</th>\n",
       "      <td>0</td>\n",
       "      <td>9</td>\n",
       "      <td>July</td>\n",
       "      <td>1</td>\n",
       "      <td>2</td>\n",
       "      <td>0</td>\n",
       "      <td>0</td>\n",
       "      <td>FB</td>\n",
       "      <td>PRT</td>\n",
       "      <td>Direct</td>\n",
       "      <td>...</td>\n",
       "      <td>C</td>\n",
       "      <td>0</td>\n",
       "      <td>0</td>\n",
       "      <td>Transient</td>\n",
       "      <td>0</td>\n",
       "      <td>1</td>\n",
       "      <td>2</td>\n",
       "      <td>600</td>\n",
       "      <td>350</td>\n",
       "      <td>1.4</td>\n",
       "    </tr>\n",
       "    <tr>\n",
       "      <th>4</th>\n",
       "      <td>1</td>\n",
       "      <td>85</td>\n",
       "      <td>July</td>\n",
       "      <td>1</td>\n",
       "      <td>2</td>\n",
       "      <td>0</td>\n",
       "      <td>0</td>\n",
       "      <td>BB</td>\n",
       "      <td>PRT</td>\n",
       "      <td>TA/TO</td>\n",
       "      <td>...</td>\n",
       "      <td>A</td>\n",
       "      <td>0</td>\n",
       "      <td>0</td>\n",
       "      <td>Transient</td>\n",
       "      <td>0</td>\n",
       "      <td>1</td>\n",
       "      <td>3</td>\n",
       "      <td>1000</td>\n",
       "      <td>400</td>\n",
       "      <td>1.4</td>\n",
       "    </tr>\n",
       "  </tbody>\n",
       "</table>\n",
       "<p>5 rows × 23 columns</p>\n",
       "</div>"
      ],
      "text/plain": [
       "   is_canceled  lead_time arrival_date_month  arrival_date_day_of_month  \\\n",
       "0            0          7               July                          1   \n",
       "1            0         14               July                          1   \n",
       "2            0          0               July                          1   \n",
       "3            0          9               July                          1   \n",
       "4            1         85               July                          1   \n",
       "\n",
       "   adults  children  has_babies meal country distribution_channel  ...  \\\n",
       "0       1         0           0   BB     GBR               Direct  ...   \n",
       "1       2         0           0   BB     GBR                TA/TO  ...   \n",
       "2       2         0           0   BB     PRT               Direct  ...   \n",
       "3       2         0           0   FB     PRT               Direct  ...   \n",
       "4       2         0           0   BB     PRT                TA/TO  ...   \n",
       "\n",
       "   reserved_room_type  booking_changes  days_in_waiting_list customer_type  \\\n",
       "0                   A                0                     0     Transient   \n",
       "1                   A                0                     0     Transient   \n",
       "2                   C                0                     0     Transient   \n",
       "3                   C                0                     0     Transient   \n",
       "4                   A                0                     0     Transient   \n",
       "\n",
       "   required_car_parking_spaces  total_of_special_requests total_nights  \\\n",
       "0                            0                          0            1   \n",
       "1                            0                          1            2   \n",
       "2                            0                          0            2   \n",
       "3                            0                          1            2   \n",
       "4                            0                          1            3   \n",
       "\n",
       "   room_profit  room_expense  season_ratio  \n",
       "0         1000           400           1.4  \n",
       "1         1000           400           1.4  \n",
       "2          600           350           1.4  \n",
       "3          600           350           1.4  \n",
       "4         1000           400           1.4  \n",
       "\n",
       "[5 rows x 23 columns]"
      ]
     },
     "execution_count": 48,
     "metadata": {},
     "output_type": "execute_result"
    }
   ],
   "source": [
    "profit_df = train.join(rp_df.set_index('room_type'), on='reserved_room_type', how='left')\\\n",
    "                 .join(sr_df.set_index('season_month'), on='arrival_date_month', how='left')\n",
    "\n",
    "profit_df.head()"
   ]
  },
  {
   "cell_type": "markdown",
   "metadata": {},
   "source": [
    "Calculate the revenue from each order"
   ]
  },
  {
   "cell_type": "code",
   "execution_count": 49,
   "metadata": {},
   "outputs": [],
   "source": [
    "profit_df['income'] = profit_df['total_nights'] * profit_df['room_profit'] * profit_df['season_ratio']"
   ]
  },
  {
   "cell_type": "markdown",
   "metadata": {},
   "source": [
    "Let's calculate the total number of cleanings at the time of the order"
   ]
  },
  {
   "cell_type": "code",
   "execution_count": 50,
   "metadata": {},
   "outputs": [],
   "source": [
    "profit_df['num_clean'] = 1 + profit_df['total_nights'].apply(lambda x: 1 if x==1 else np.ceil(x/2))"
   ]
  },
  {
   "cell_type": "code",
   "execution_count": 51,
   "metadata": {},
   "outputs": [
    {
     "data": {
      "text/html": [
       "<div>\n",
       "<style scoped>\n",
       "    .dataframe tbody tr th:only-of-type {\n",
       "        vertical-align: middle;\n",
       "    }\n",
       "\n",
       "    .dataframe tbody tr th {\n",
       "        vertical-align: top;\n",
       "    }\n",
       "\n",
       "    .dataframe thead th {\n",
       "        text-align: right;\n",
       "    }\n",
       "</style>\n",
       "<table border=\"1\" class=\"dataframe\">\n",
       "  <thead>\n",
       "    <tr style=\"text-align: right;\">\n",
       "      <th></th>\n",
       "      <th>is_canceled</th>\n",
       "      <th>lead_time</th>\n",
       "      <th>arrival_date_month</th>\n",
       "      <th>arrival_date_day_of_month</th>\n",
       "      <th>adults</th>\n",
       "      <th>children</th>\n",
       "      <th>has_babies</th>\n",
       "      <th>meal</th>\n",
       "      <th>country</th>\n",
       "      <th>distribution_channel</th>\n",
       "      <th>...</th>\n",
       "      <th>days_in_waiting_list</th>\n",
       "      <th>customer_type</th>\n",
       "      <th>required_car_parking_spaces</th>\n",
       "      <th>total_of_special_requests</th>\n",
       "      <th>total_nights</th>\n",
       "      <th>room_profit</th>\n",
       "      <th>room_expense</th>\n",
       "      <th>season_ratio</th>\n",
       "      <th>income</th>\n",
       "      <th>num_clean</th>\n",
       "    </tr>\n",
       "  </thead>\n",
       "  <tbody>\n",
       "    <tr>\n",
       "      <th>0</th>\n",
       "      <td>0</td>\n",
       "      <td>7</td>\n",
       "      <td>July</td>\n",
       "      <td>1</td>\n",
       "      <td>1</td>\n",
       "      <td>0</td>\n",
       "      <td>0</td>\n",
       "      <td>BB</td>\n",
       "      <td>GBR</td>\n",
       "      <td>Direct</td>\n",
       "      <td>...</td>\n",
       "      <td>0</td>\n",
       "      <td>Transient</td>\n",
       "      <td>0</td>\n",
       "      <td>0</td>\n",
       "      <td>1</td>\n",
       "      <td>1000</td>\n",
       "      <td>400</td>\n",
       "      <td>1.4</td>\n",
       "      <td>1400.0</td>\n",
       "      <td>2.0</td>\n",
       "    </tr>\n",
       "    <tr>\n",
       "      <th>1</th>\n",
       "      <td>0</td>\n",
       "      <td>14</td>\n",
       "      <td>July</td>\n",
       "      <td>1</td>\n",
       "      <td>2</td>\n",
       "      <td>0</td>\n",
       "      <td>0</td>\n",
       "      <td>BB</td>\n",
       "      <td>GBR</td>\n",
       "      <td>TA/TO</td>\n",
       "      <td>...</td>\n",
       "      <td>0</td>\n",
       "      <td>Transient</td>\n",
       "      <td>0</td>\n",
       "      <td>1</td>\n",
       "      <td>2</td>\n",
       "      <td>1000</td>\n",
       "      <td>400</td>\n",
       "      <td>1.4</td>\n",
       "      <td>2800.0</td>\n",
       "      <td>2.0</td>\n",
       "    </tr>\n",
       "    <tr>\n",
       "      <th>2</th>\n",
       "      <td>0</td>\n",
       "      <td>0</td>\n",
       "      <td>July</td>\n",
       "      <td>1</td>\n",
       "      <td>2</td>\n",
       "      <td>0</td>\n",
       "      <td>0</td>\n",
       "      <td>BB</td>\n",
       "      <td>PRT</td>\n",
       "      <td>Direct</td>\n",
       "      <td>...</td>\n",
       "      <td>0</td>\n",
       "      <td>Transient</td>\n",
       "      <td>0</td>\n",
       "      <td>0</td>\n",
       "      <td>2</td>\n",
       "      <td>600</td>\n",
       "      <td>350</td>\n",
       "      <td>1.4</td>\n",
       "      <td>1680.0</td>\n",
       "      <td>2.0</td>\n",
       "    </tr>\n",
       "    <tr>\n",
       "      <th>3</th>\n",
       "      <td>0</td>\n",
       "      <td>9</td>\n",
       "      <td>July</td>\n",
       "      <td>1</td>\n",
       "      <td>2</td>\n",
       "      <td>0</td>\n",
       "      <td>0</td>\n",
       "      <td>FB</td>\n",
       "      <td>PRT</td>\n",
       "      <td>Direct</td>\n",
       "      <td>...</td>\n",
       "      <td>0</td>\n",
       "      <td>Transient</td>\n",
       "      <td>0</td>\n",
       "      <td>1</td>\n",
       "      <td>2</td>\n",
       "      <td>600</td>\n",
       "      <td>350</td>\n",
       "      <td>1.4</td>\n",
       "      <td>1680.0</td>\n",
       "      <td>2.0</td>\n",
       "    </tr>\n",
       "    <tr>\n",
       "      <th>4</th>\n",
       "      <td>1</td>\n",
       "      <td>85</td>\n",
       "      <td>July</td>\n",
       "      <td>1</td>\n",
       "      <td>2</td>\n",
       "      <td>0</td>\n",
       "      <td>0</td>\n",
       "      <td>BB</td>\n",
       "      <td>PRT</td>\n",
       "      <td>TA/TO</td>\n",
       "      <td>...</td>\n",
       "      <td>0</td>\n",
       "      <td>Transient</td>\n",
       "      <td>0</td>\n",
       "      <td>1</td>\n",
       "      <td>3</td>\n",
       "      <td>1000</td>\n",
       "      <td>400</td>\n",
       "      <td>1.4</td>\n",
       "      <td>4200.0</td>\n",
       "      <td>3.0</td>\n",
       "    </tr>\n",
       "  </tbody>\n",
       "</table>\n",
       "<p>5 rows × 25 columns</p>\n",
       "</div>"
      ],
      "text/plain": [
       "   is_canceled  lead_time arrival_date_month  arrival_date_day_of_month  \\\n",
       "0            0          7               July                          1   \n",
       "1            0         14               July                          1   \n",
       "2            0          0               July                          1   \n",
       "3            0          9               July                          1   \n",
       "4            1         85               July                          1   \n",
       "\n",
       "   adults  children  has_babies meal country distribution_channel  ...  \\\n",
       "0       1         0           0   BB     GBR               Direct  ...   \n",
       "1       2         0           0   BB     GBR                TA/TO  ...   \n",
       "2       2         0           0   BB     PRT               Direct  ...   \n",
       "3       2         0           0   FB     PRT               Direct  ...   \n",
       "4       2         0           0   BB     PRT                TA/TO  ...   \n",
       "\n",
       "   days_in_waiting_list  customer_type  required_car_parking_spaces  \\\n",
       "0                     0      Transient                            0   \n",
       "1                     0      Transient                            0   \n",
       "2                     0      Transient                            0   \n",
       "3                     0      Transient                            0   \n",
       "4                     0      Transient                            0   \n",
       "\n",
       "  total_of_special_requests  total_nights  room_profit room_expense  \\\n",
       "0                         0             1         1000          400   \n",
       "1                         1             2         1000          400   \n",
       "2                         0             2          600          350   \n",
       "3                         1             2          600          350   \n",
       "4                         1             3         1000          400   \n",
       "\n",
       "   season_ratio  income  num_clean  \n",
       "0           1.4  1400.0        2.0  \n",
       "1           1.4  2800.0        2.0  \n",
       "2           1.4  1680.0        2.0  \n",
       "3           1.4  1680.0        2.0  \n",
       "4           1.4  4200.0        3.0  \n",
       "\n",
       "[5 rows x 25 columns]"
      ]
     },
     "execution_count": 51,
     "metadata": {},
     "output_type": "execute_result"
    }
   ],
   "source": [
    "profit_df.head()"
   ]
  },
  {
   "cell_type": "markdown",
   "metadata": {},
   "source": [
    "Now let's calculate the cost per order, the total revenue from the business and the average profit of the order"
   ]
  },
  {
   "cell_type": "code",
   "execution_count": 52,
   "metadata": {},
   "outputs": [],
   "source": [
    "# per-order charges\n",
    "profit_df.loc[profit_df['is_canceled']==1, 'expense'] = profit_df['room_expense'] * profit_df['season_ratio'] + profit_df['room_profit']\n",
    "profit_df.loc[profit_df['is_canceled']==0, 'expense'] = profit_df['room_expense'] * profit_df['num_clean']"
   ]
  },
  {
   "cell_type": "code",
   "execution_count": 53,
   "metadata": {},
   "outputs": [
    {
     "data": {
      "text/plain": [
       "60.84585"
      ]
     },
     "execution_count": 53,
     "metadata": {},
     "output_type": "execute_result"
    }
   ],
   "source": [
    " # total income\n",
    "income = profit_df[profit_df['is_canceled']==0]['income'].sum()\n",
    "expense = profit_df['expense'].sum()\n",
    "\n",
    "profit = (income - expense)/1000000\n",
    "profit"
   ]
  },
  {
   "cell_type": "code",
   "execution_count": 54,
   "metadata": {},
   "outputs": [
    {
     "data": {
      "text/plain": [
       "935.212339189376"
      ]
     },
     "execution_count": 54,
     "metadata": {},
     "output_type": "execute_result"
    }
   ],
   "source": [
    "# average revenue per order\n",
    "profit_mean = profit/len(train)*1000000\n",
    "profit_mean"
   ]
  },
  {
   "cell_type": "markdown",
   "metadata": {},
   "source": [
    " #### Conclusion\n",
    " - total revenue of the current business plan is 61 mln rubles \n",
    " - the current business model allows you to receive an average of 936 rubles per order"
   ]
  },
  {
   "cell_type": "markdown",
   "metadata": {},
   "source": [
    "## Step 4: Develop an ML model"
   ]
  },
  {
   "cell_type": "markdown",
   "metadata": {},
   "source": [
    "I will use scaling for quantitative features, and use one-hot encoding for categorical features. I will also check classes for imbalance.\n",
    "\n",
    "To select the best hyperparameters I will use GridSearch\n",
    "\n",
    "I will use DecisionTree,RandomForest for training."
   ]
  },
  {
   "cell_type": "code",
   "execution_count": 55,
   "metadata": {},
   "outputs": [],
   "source": [
    "features_train = train.drop(['is_canceled'], axis=1)\n",
    "target_train = train['is_canceled']\n",
    "\n",
    "features_test = test.drop(['is_canceled'], axis=1)\n",
    "target_test = test['is_canceled']"
   ]
  },
  {
   "cell_type": "code",
   "execution_count": 56,
   "metadata": {},
   "outputs": [
    {
     "data": {
      "text/plain": [
       "Index(['lead_time', 'arrival_date_month', 'arrival_date_day_of_month',\n",
       "       'adults', 'children', 'has_babies', 'meal', 'country',\n",
       "       'distribution_channel', 'is_repeated_guest', 'previous_cancellations',\n",
       "       'previous_bookings_not_canceled', 'reserved_room_type',\n",
       "       'booking_changes', 'days_in_waiting_list', 'customer_type',\n",
       "       'required_car_parking_spaces', 'total_of_special_requests',\n",
       "       'total_nights'],\n",
       "      dtype='object')"
      ]
     },
     "execution_count": 56,
     "metadata": {},
     "output_type": "execute_result"
    }
   ],
   "source": [
    "features_train.columns"
   ]
  },
  {
   "cell_type": "code",
   "execution_count": 62,
   "metadata": {},
   "outputs": [],
   "source": [
    "# list of quantitative columns\n",
    "numeric = [\n",
    "    'lead_time', 'arrival_date_day_of_month', \n",
    "     'adults', 'children', 'has_babies', 'previous_cancellations',\n",
    "    'previous_bookings_not_canceled', 'booking_changes', 'days_in_waiting_list',\n",
    "    'required_car_parking_spaces', 'total_of_special_requests', 'total_nights'\n",
    "]"
   ]
  },
  {
   "cell_type": "code",
   "execution_count": 63,
   "metadata": {},
   "outputs": [],
   "source": [
    " # scaling attributes\n",
    "scaler = StandardScaler()\n",
    "scaler.fit(features_train[numeric])\n",
    "features_train[numeric] = scaler.transform(features_train[numeric])\n",
    "features_test[numeric] = scaler.transform(features_test[numeric])"
   ]
  },
  {
   "cell_type": "code",
   "execution_count": 64,
   "metadata": {},
   "outputs": [
    {
     "name": "stdout",
     "output_type": "stream",
     "text": [
      "(23996, 20)\n",
      "----------------\n",
      "(41065, 20)\n"
     ]
    }
   ],
   "source": [
    "# пChecking classes for imbalance \n",
    "print(train.query('is_canceled==1').shape)\n",
    "print('----------------')\n",
    "print(train.query('is_canceled == 0').shape)"
   ]
  },
  {
   "cell_type": "markdown",
   "metadata": {},
   "source": [
    "There is an imbalance, so I will set the weight parameter class_weight=balanced"
   ]
  },
  {
   "cell_type": "code",
   "execution_count": 65,
   "metadata": {},
   "outputs": [
    {
     "data": {
      "text/plain": [
       "array([[0., 1., 0., ..., 0., 0., 0.],\n",
       "       [0., 0., 0., ..., 0., 0., 0.],\n",
       "       [0., 1., 0., ..., 0., 0., 0.],\n",
       "       ...,\n",
       "       [0., 0., 0., ..., 0., 0., 0.],\n",
       "       [0., 0., 0., ..., 0., 0., 0.],\n",
       "       [0., 0., 0., ..., 0., 0., 0.]])"
      ]
     },
     "execution_count": 65,
     "metadata": {},
     "output_type": "execute_result"
    }
   ],
   "source": [
    "# convert categorical attributes into quantitative attributes\n",
    "catcols = [*categorical, 'arrival_date_month']\n",
    "\n",
    "ftrain_encoder = features_train.loc[:]\n",
    "\n",
    "encoder = OneHotEncoder(handle_unknown='ignore')\n",
    "encoder.fit(ftrain_encoder[catcols])\n",
    "ftrain_encoded = encoder.transform(ftrain_encoder[catcols]).toarray()\n",
    "\n",
    "ftrain_encoded"
   ]
  },
  {
   "cell_type": "code",
   "execution_count": 66,
   "metadata": {},
   "outputs": [
    {
     "data": {
      "text/html": [
       "<div>\n",
       "<style scoped>\n",
       "    .dataframe tbody tr th:only-of-type {\n",
       "        vertical-align: middle;\n",
       "    }\n",
       "\n",
       "    .dataframe tbody tr th {\n",
       "        vertical-align: top;\n",
       "    }\n",
       "\n",
       "    .dataframe thead th {\n",
       "        text-align: right;\n",
       "    }\n",
       "</style>\n",
       "<table border=\"1\" class=\"dataframe\">\n",
       "  <thead>\n",
       "    <tr style=\"text-align: right;\">\n",
       "      <th></th>\n",
       "      <th>distribution_channel_Corporate</th>\n",
       "      <th>distribution_channel_Direct</th>\n",
       "      <th>distribution_channel_GDS</th>\n",
       "      <th>distribution_channel_TA/TO</th>\n",
       "      <th>customer_type_Contract</th>\n",
       "      <th>customer_type_Group</th>\n",
       "      <th>customer_type_Transient</th>\n",
       "      <th>customer_type_Transient-Party</th>\n",
       "      <th>reserved_room_type_A</th>\n",
       "      <th>reserved_room_type_B</th>\n",
       "      <th>...</th>\n",
       "      <th>arrival_date_month_December</th>\n",
       "      <th>arrival_date_month_February</th>\n",
       "      <th>arrival_date_month_January</th>\n",
       "      <th>arrival_date_month_July</th>\n",
       "      <th>arrival_date_month_June</th>\n",
       "      <th>arrival_date_month_March</th>\n",
       "      <th>arrival_date_month_May</th>\n",
       "      <th>arrival_date_month_November</th>\n",
       "      <th>arrival_date_month_October</th>\n",
       "      <th>arrival_date_month_September</th>\n",
       "    </tr>\n",
       "  </thead>\n",
       "  <tbody>\n",
       "    <tr>\n",
       "      <th>0</th>\n",
       "      <td>0.0</td>\n",
       "      <td>1.0</td>\n",
       "      <td>0.0</td>\n",
       "      <td>0.0</td>\n",
       "      <td>0.0</td>\n",
       "      <td>0.0</td>\n",
       "      <td>1.0</td>\n",
       "      <td>0.0</td>\n",
       "      <td>1.0</td>\n",
       "      <td>0.0</td>\n",
       "      <td>...</td>\n",
       "      <td>0.0</td>\n",
       "      <td>0.0</td>\n",
       "      <td>0.0</td>\n",
       "      <td>1.0</td>\n",
       "      <td>0.0</td>\n",
       "      <td>0.0</td>\n",
       "      <td>0.0</td>\n",
       "      <td>0.0</td>\n",
       "      <td>0.0</td>\n",
       "      <td>0.0</td>\n",
       "    </tr>\n",
       "    <tr>\n",
       "      <th>1</th>\n",
       "      <td>0.0</td>\n",
       "      <td>0.0</td>\n",
       "      <td>0.0</td>\n",
       "      <td>1.0</td>\n",
       "      <td>0.0</td>\n",
       "      <td>0.0</td>\n",
       "      <td>1.0</td>\n",
       "      <td>0.0</td>\n",
       "      <td>1.0</td>\n",
       "      <td>0.0</td>\n",
       "      <td>...</td>\n",
       "      <td>0.0</td>\n",
       "      <td>0.0</td>\n",
       "      <td>0.0</td>\n",
       "      <td>1.0</td>\n",
       "      <td>0.0</td>\n",
       "      <td>0.0</td>\n",
       "      <td>0.0</td>\n",
       "      <td>0.0</td>\n",
       "      <td>0.0</td>\n",
       "      <td>0.0</td>\n",
       "    </tr>\n",
       "    <tr>\n",
       "      <th>2</th>\n",
       "      <td>0.0</td>\n",
       "      <td>1.0</td>\n",
       "      <td>0.0</td>\n",
       "      <td>0.0</td>\n",
       "      <td>0.0</td>\n",
       "      <td>0.0</td>\n",
       "      <td>1.0</td>\n",
       "      <td>0.0</td>\n",
       "      <td>0.0</td>\n",
       "      <td>0.0</td>\n",
       "      <td>...</td>\n",
       "      <td>0.0</td>\n",
       "      <td>0.0</td>\n",
       "      <td>0.0</td>\n",
       "      <td>1.0</td>\n",
       "      <td>0.0</td>\n",
       "      <td>0.0</td>\n",
       "      <td>0.0</td>\n",
       "      <td>0.0</td>\n",
       "      <td>0.0</td>\n",
       "      <td>0.0</td>\n",
       "    </tr>\n",
       "    <tr>\n",
       "      <th>3</th>\n",
       "      <td>0.0</td>\n",
       "      <td>1.0</td>\n",
       "      <td>0.0</td>\n",
       "      <td>0.0</td>\n",
       "      <td>0.0</td>\n",
       "      <td>0.0</td>\n",
       "      <td>1.0</td>\n",
       "      <td>0.0</td>\n",
       "      <td>0.0</td>\n",
       "      <td>0.0</td>\n",
       "      <td>...</td>\n",
       "      <td>0.0</td>\n",
       "      <td>0.0</td>\n",
       "      <td>0.0</td>\n",
       "      <td>1.0</td>\n",
       "      <td>0.0</td>\n",
       "      <td>0.0</td>\n",
       "      <td>0.0</td>\n",
       "      <td>0.0</td>\n",
       "      <td>0.0</td>\n",
       "      <td>0.0</td>\n",
       "    </tr>\n",
       "    <tr>\n",
       "      <th>4</th>\n",
       "      <td>0.0</td>\n",
       "      <td>0.0</td>\n",
       "      <td>0.0</td>\n",
       "      <td>1.0</td>\n",
       "      <td>0.0</td>\n",
       "      <td>0.0</td>\n",
       "      <td>1.0</td>\n",
       "      <td>0.0</td>\n",
       "      <td>1.0</td>\n",
       "      <td>0.0</td>\n",
       "      <td>...</td>\n",
       "      <td>0.0</td>\n",
       "      <td>0.0</td>\n",
       "      <td>0.0</td>\n",
       "      <td>1.0</td>\n",
       "      <td>0.0</td>\n",
       "      <td>0.0</td>\n",
       "      <td>0.0</td>\n",
       "      <td>0.0</td>\n",
       "      <td>0.0</td>\n",
       "      <td>0.0</td>\n",
       "    </tr>\n",
       "  </tbody>\n",
       "</table>\n",
       "<p>5 rows × 186 columns</p>\n",
       "</div>"
      ],
      "text/plain": [
       "   distribution_channel_Corporate  distribution_channel_Direct  \\\n",
       "0                             0.0                          1.0   \n",
       "1                             0.0                          0.0   \n",
       "2                             0.0                          1.0   \n",
       "3                             0.0                          1.0   \n",
       "4                             0.0                          0.0   \n",
       "\n",
       "   distribution_channel_GDS  distribution_channel_TA/TO  \\\n",
       "0                       0.0                         0.0   \n",
       "1                       0.0                         1.0   \n",
       "2                       0.0                         0.0   \n",
       "3                       0.0                         0.0   \n",
       "4                       0.0                         1.0   \n",
       "\n",
       "   customer_type_Contract  customer_type_Group  customer_type_Transient  \\\n",
       "0                     0.0                  0.0                      1.0   \n",
       "1                     0.0                  0.0                      1.0   \n",
       "2                     0.0                  0.0                      1.0   \n",
       "3                     0.0                  0.0                      1.0   \n",
       "4                     0.0                  0.0                      1.0   \n",
       "\n",
       "   customer_type_Transient-Party  reserved_room_type_A  reserved_room_type_B  \\\n",
       "0                            0.0                   1.0                   0.0   \n",
       "1                            0.0                   1.0                   0.0   \n",
       "2                            0.0                   0.0                   0.0   \n",
       "3                            0.0                   0.0                   0.0   \n",
       "4                            0.0                   1.0                   0.0   \n",
       "\n",
       "   ...  arrival_date_month_December  arrival_date_month_February  \\\n",
       "0  ...                          0.0                          0.0   \n",
       "1  ...                          0.0                          0.0   \n",
       "2  ...                          0.0                          0.0   \n",
       "3  ...                          0.0                          0.0   \n",
       "4  ...                          0.0                          0.0   \n",
       "\n",
       "   arrival_date_month_January  arrival_date_month_July  \\\n",
       "0                         0.0                      1.0   \n",
       "1                         0.0                      1.0   \n",
       "2                         0.0                      1.0   \n",
       "3                         0.0                      1.0   \n",
       "4                         0.0                      1.0   \n",
       "\n",
       "   arrival_date_month_June  arrival_date_month_March  arrival_date_month_May  \\\n",
       "0                      0.0                       0.0                     0.0   \n",
       "1                      0.0                       0.0                     0.0   \n",
       "2                      0.0                       0.0                     0.0   \n",
       "3                      0.0                       0.0                     0.0   \n",
       "4                      0.0                       0.0                     0.0   \n",
       "\n",
       "   arrival_date_month_November  arrival_date_month_October  \\\n",
       "0                          0.0                         0.0   \n",
       "1                          0.0                         0.0   \n",
       "2                          0.0                         0.0   \n",
       "3                          0.0                         0.0   \n",
       "4                          0.0                         0.0   \n",
       "\n",
       "   arrival_date_month_September  \n",
       "0                           0.0  \n",
       "1                           0.0  \n",
       "2                           0.0  \n",
       "3                           0.0  \n",
       "4                           0.0  \n",
       "\n",
       "[5 rows x 186 columns]"
      ]
     },
     "execution_count": 66,
     "metadata": {},
     "output_type": "execute_result"
    }
   ],
   "source": [
    "features_train_df = pd.DataFrame(\n",
    "    ftrain_encoded,\n",
    "    columns=encoder.get_feature_names(catcols),\n",
    "    index=features_train.index\n",
    ")\n",
    "features_train_df.head()"
   ]
  },
  {
   "cell_type": "code",
   "execution_count": 67,
   "metadata": {},
   "outputs": [
    {
     "data": {
      "text/html": [
       "<div>\n",
       "<style scoped>\n",
       "    .dataframe tbody tr th:only-of-type {\n",
       "        vertical-align: middle;\n",
       "    }\n",
       "\n",
       "    .dataframe tbody tr th {\n",
       "        vertical-align: top;\n",
       "    }\n",
       "\n",
       "    .dataframe thead th {\n",
       "        text-align: right;\n",
       "    }\n",
       "</style>\n",
       "<table border=\"1\" class=\"dataframe\">\n",
       "  <thead>\n",
       "    <tr style=\"text-align: right;\">\n",
       "      <th></th>\n",
       "      <th>lead_time</th>\n",
       "      <th>arrival_date_day_of_month</th>\n",
       "      <th>adults</th>\n",
       "      <th>children</th>\n",
       "      <th>has_babies</th>\n",
       "      <th>is_repeated_guest</th>\n",
       "      <th>previous_cancellations</th>\n",
       "      <th>previous_bookings_not_canceled</th>\n",
       "      <th>booking_changes</th>\n",
       "      <th>days_in_waiting_list</th>\n",
       "      <th>required_car_parking_spaces</th>\n",
       "      <th>total_of_special_requests</th>\n",
       "      <th>total_nights</th>\n",
       "    </tr>\n",
       "  </thead>\n",
       "  <tbody>\n",
       "    <tr>\n",
       "      <th>0</th>\n",
       "      <td>-0.928977</td>\n",
       "      <td>-1.696877</td>\n",
       "      <td>-1.783139</td>\n",
       "      <td>-0.219336</td>\n",
       "      <td>-0.083175</td>\n",
       "      <td>0</td>\n",
       "      <td>-0.133707</td>\n",
       "      <td>-0.081287</td>\n",
       "      <td>-0.326674</td>\n",
       "      <td>-0.183057</td>\n",
       "      <td>-0.244332</td>\n",
       "      <td>-0.680536</td>\n",
       "      <td>-1.178757</td>\n",
       "    </tr>\n",
       "    <tr>\n",
       "      <th>1</th>\n",
       "      <td>-0.856193</td>\n",
       "      <td>-1.696877</td>\n",
       "      <td>0.336436</td>\n",
       "      <td>-0.219336</td>\n",
       "      <td>-0.083175</td>\n",
       "      <td>0</td>\n",
       "      <td>-0.133707</td>\n",
       "      <td>-0.081287</td>\n",
       "      <td>-0.326674</td>\n",
       "      <td>-0.183057</td>\n",
       "      <td>-0.244332</td>\n",
       "      <td>0.649323</td>\n",
       "      <td>-0.603486</td>\n",
       "    </tr>\n",
       "    <tr>\n",
       "      <th>2</th>\n",
       "      <td>-1.001761</td>\n",
       "      <td>-1.696877</td>\n",
       "      <td>0.336436</td>\n",
       "      <td>-0.219336</td>\n",
       "      <td>-0.083175</td>\n",
       "      <td>0</td>\n",
       "      <td>-0.133707</td>\n",
       "      <td>-0.081287</td>\n",
       "      <td>-0.326674</td>\n",
       "      <td>-0.183057</td>\n",
       "      <td>-0.244332</td>\n",
       "      <td>-0.680536</td>\n",
       "      <td>-0.603486</td>\n",
       "    </tr>\n",
       "    <tr>\n",
       "      <th>3</th>\n",
       "      <td>-0.908181</td>\n",
       "      <td>-1.696877</td>\n",
       "      <td>0.336436</td>\n",
       "      <td>-0.219336</td>\n",
       "      <td>-0.083175</td>\n",
       "      <td>0</td>\n",
       "      <td>-0.133707</td>\n",
       "      <td>-0.081287</td>\n",
       "      <td>-0.326674</td>\n",
       "      <td>-0.183057</td>\n",
       "      <td>-0.244332</td>\n",
       "      <td>0.649323</td>\n",
       "      <td>-0.603486</td>\n",
       "    </tr>\n",
       "    <tr>\n",
       "      <th>4</th>\n",
       "      <td>-0.117955</td>\n",
       "      <td>-1.696877</td>\n",
       "      <td>0.336436</td>\n",
       "      <td>-0.219336</td>\n",
       "      <td>-0.083175</td>\n",
       "      <td>0</td>\n",
       "      <td>-0.133707</td>\n",
       "      <td>-0.081287</td>\n",
       "      <td>-0.326674</td>\n",
       "      <td>-0.183057</td>\n",
       "      <td>-0.244332</td>\n",
       "      <td>0.649323</td>\n",
       "      <td>-0.028215</td>\n",
       "    </tr>\n",
       "  </tbody>\n",
       "</table>\n",
       "</div>"
      ],
      "text/plain": [
       "   lead_time  arrival_date_day_of_month    adults  children  has_babies  \\\n",
       "0  -0.928977                  -1.696877 -1.783139 -0.219336   -0.083175   \n",
       "1  -0.856193                  -1.696877  0.336436 -0.219336   -0.083175   \n",
       "2  -1.001761                  -1.696877  0.336436 -0.219336   -0.083175   \n",
       "3  -0.908181                  -1.696877  0.336436 -0.219336   -0.083175   \n",
       "4  -0.117955                  -1.696877  0.336436 -0.219336   -0.083175   \n",
       "\n",
       "   is_repeated_guest  previous_cancellations  previous_bookings_not_canceled  \\\n",
       "0                  0               -0.133707                       -0.081287   \n",
       "1                  0               -0.133707                       -0.081287   \n",
       "2                  0               -0.133707                       -0.081287   \n",
       "3                  0               -0.133707                       -0.081287   \n",
       "4                  0               -0.133707                       -0.081287   \n",
       "\n",
       "   booking_changes  days_in_waiting_list  required_car_parking_spaces  \\\n",
       "0        -0.326674             -0.183057                    -0.244332   \n",
       "1        -0.326674             -0.183057                    -0.244332   \n",
       "2        -0.326674             -0.183057                    -0.244332   \n",
       "3        -0.326674             -0.183057                    -0.244332   \n",
       "4        -0.326674             -0.183057                    -0.244332   \n",
       "\n",
       "   total_of_special_requests  total_nights  \n",
       "0                  -0.680536     -1.178757  \n",
       "1                   0.649323     -0.603486  \n",
       "2                  -0.680536     -0.603486  \n",
       "3                   0.649323     -0.603486  \n",
       "4                   0.649323     -0.028215  "
      ]
     },
     "execution_count": 67,
     "metadata": {},
     "output_type": "execute_result"
    }
   ],
   "source": [
    "features_train_drop_cat = features_train.drop(catcols, axis=1)\n",
    "features_train_drop_cat.head()"
   ]
  },
  {
   "cell_type": "code",
   "execution_count": 68,
   "metadata": {},
   "outputs": [
    {
     "data": {
      "text/html": [
       "<div>\n",
       "<style scoped>\n",
       "    .dataframe tbody tr th:only-of-type {\n",
       "        vertical-align: middle;\n",
       "    }\n",
       "\n",
       "    .dataframe tbody tr th {\n",
       "        vertical-align: top;\n",
       "    }\n",
       "\n",
       "    .dataframe thead th {\n",
       "        text-align: right;\n",
       "    }\n",
       "</style>\n",
       "<table border=\"1\" class=\"dataframe\">\n",
       "  <thead>\n",
       "    <tr style=\"text-align: right;\">\n",
       "      <th></th>\n",
       "      <th>lead_time</th>\n",
       "      <th>arrival_date_day_of_month</th>\n",
       "      <th>adults</th>\n",
       "      <th>children</th>\n",
       "      <th>has_babies</th>\n",
       "      <th>is_repeated_guest</th>\n",
       "      <th>previous_cancellations</th>\n",
       "      <th>previous_bookings_not_canceled</th>\n",
       "      <th>booking_changes</th>\n",
       "      <th>days_in_waiting_list</th>\n",
       "      <th>...</th>\n",
       "      <th>arrival_date_month_December</th>\n",
       "      <th>arrival_date_month_February</th>\n",
       "      <th>arrival_date_month_January</th>\n",
       "      <th>arrival_date_month_July</th>\n",
       "      <th>arrival_date_month_June</th>\n",
       "      <th>arrival_date_month_March</th>\n",
       "      <th>arrival_date_month_May</th>\n",
       "      <th>arrival_date_month_November</th>\n",
       "      <th>arrival_date_month_October</th>\n",
       "      <th>arrival_date_month_September</th>\n",
       "    </tr>\n",
       "  </thead>\n",
       "  <tbody>\n",
       "    <tr>\n",
       "      <th>0</th>\n",
       "      <td>-0.928977</td>\n",
       "      <td>-1.696877</td>\n",
       "      <td>-1.783139</td>\n",
       "      <td>-0.219336</td>\n",
       "      <td>-0.083175</td>\n",
       "      <td>0</td>\n",
       "      <td>-0.133707</td>\n",
       "      <td>-0.081287</td>\n",
       "      <td>-0.326674</td>\n",
       "      <td>-0.183057</td>\n",
       "      <td>...</td>\n",
       "      <td>0.0</td>\n",
       "      <td>0.0</td>\n",
       "      <td>0.0</td>\n",
       "      <td>1.0</td>\n",
       "      <td>0.0</td>\n",
       "      <td>0.0</td>\n",
       "      <td>0.0</td>\n",
       "      <td>0.0</td>\n",
       "      <td>0.0</td>\n",
       "      <td>0.0</td>\n",
       "    </tr>\n",
       "    <tr>\n",
       "      <th>1</th>\n",
       "      <td>-0.856193</td>\n",
       "      <td>-1.696877</td>\n",
       "      <td>0.336436</td>\n",
       "      <td>-0.219336</td>\n",
       "      <td>-0.083175</td>\n",
       "      <td>0</td>\n",
       "      <td>-0.133707</td>\n",
       "      <td>-0.081287</td>\n",
       "      <td>-0.326674</td>\n",
       "      <td>-0.183057</td>\n",
       "      <td>...</td>\n",
       "      <td>0.0</td>\n",
       "      <td>0.0</td>\n",
       "      <td>0.0</td>\n",
       "      <td>1.0</td>\n",
       "      <td>0.0</td>\n",
       "      <td>0.0</td>\n",
       "      <td>0.0</td>\n",
       "      <td>0.0</td>\n",
       "      <td>0.0</td>\n",
       "      <td>0.0</td>\n",
       "    </tr>\n",
       "    <tr>\n",
       "      <th>2</th>\n",
       "      <td>-1.001761</td>\n",
       "      <td>-1.696877</td>\n",
       "      <td>0.336436</td>\n",
       "      <td>-0.219336</td>\n",
       "      <td>-0.083175</td>\n",
       "      <td>0</td>\n",
       "      <td>-0.133707</td>\n",
       "      <td>-0.081287</td>\n",
       "      <td>-0.326674</td>\n",
       "      <td>-0.183057</td>\n",
       "      <td>...</td>\n",
       "      <td>0.0</td>\n",
       "      <td>0.0</td>\n",
       "      <td>0.0</td>\n",
       "      <td>1.0</td>\n",
       "      <td>0.0</td>\n",
       "      <td>0.0</td>\n",
       "      <td>0.0</td>\n",
       "      <td>0.0</td>\n",
       "      <td>0.0</td>\n",
       "      <td>0.0</td>\n",
       "    </tr>\n",
       "    <tr>\n",
       "      <th>3</th>\n",
       "      <td>-0.908181</td>\n",
       "      <td>-1.696877</td>\n",
       "      <td>0.336436</td>\n",
       "      <td>-0.219336</td>\n",
       "      <td>-0.083175</td>\n",
       "      <td>0</td>\n",
       "      <td>-0.133707</td>\n",
       "      <td>-0.081287</td>\n",
       "      <td>-0.326674</td>\n",
       "      <td>-0.183057</td>\n",
       "      <td>...</td>\n",
       "      <td>0.0</td>\n",
       "      <td>0.0</td>\n",
       "      <td>0.0</td>\n",
       "      <td>1.0</td>\n",
       "      <td>0.0</td>\n",
       "      <td>0.0</td>\n",
       "      <td>0.0</td>\n",
       "      <td>0.0</td>\n",
       "      <td>0.0</td>\n",
       "      <td>0.0</td>\n",
       "    </tr>\n",
       "    <tr>\n",
       "      <th>4</th>\n",
       "      <td>-0.117955</td>\n",
       "      <td>-1.696877</td>\n",
       "      <td>0.336436</td>\n",
       "      <td>-0.219336</td>\n",
       "      <td>-0.083175</td>\n",
       "      <td>0</td>\n",
       "      <td>-0.133707</td>\n",
       "      <td>-0.081287</td>\n",
       "      <td>-0.326674</td>\n",
       "      <td>-0.183057</td>\n",
       "      <td>...</td>\n",
       "      <td>0.0</td>\n",
       "      <td>0.0</td>\n",
       "      <td>0.0</td>\n",
       "      <td>1.0</td>\n",
       "      <td>0.0</td>\n",
       "      <td>0.0</td>\n",
       "      <td>0.0</td>\n",
       "      <td>0.0</td>\n",
       "      <td>0.0</td>\n",
       "      <td>0.0</td>\n",
       "    </tr>\n",
       "  </tbody>\n",
       "</table>\n",
       "<p>5 rows × 199 columns</p>\n",
       "</div>"
      ],
      "text/plain": [
       "   lead_time  arrival_date_day_of_month    adults  children  has_babies  \\\n",
       "0  -0.928977                  -1.696877 -1.783139 -0.219336   -0.083175   \n",
       "1  -0.856193                  -1.696877  0.336436 -0.219336   -0.083175   \n",
       "2  -1.001761                  -1.696877  0.336436 -0.219336   -0.083175   \n",
       "3  -0.908181                  -1.696877  0.336436 -0.219336   -0.083175   \n",
       "4  -0.117955                  -1.696877  0.336436 -0.219336   -0.083175   \n",
       "\n",
       "   is_repeated_guest  previous_cancellations  previous_bookings_not_canceled  \\\n",
       "0                  0               -0.133707                       -0.081287   \n",
       "1                  0               -0.133707                       -0.081287   \n",
       "2                  0               -0.133707                       -0.081287   \n",
       "3                  0               -0.133707                       -0.081287   \n",
       "4                  0               -0.133707                       -0.081287   \n",
       "\n",
       "   booking_changes  days_in_waiting_list  ...  arrival_date_month_December  \\\n",
       "0        -0.326674             -0.183057  ...                          0.0   \n",
       "1        -0.326674             -0.183057  ...                          0.0   \n",
       "2        -0.326674             -0.183057  ...                          0.0   \n",
       "3        -0.326674             -0.183057  ...                          0.0   \n",
       "4        -0.326674             -0.183057  ...                          0.0   \n",
       "\n",
       "   arrival_date_month_February  arrival_date_month_January  \\\n",
       "0                          0.0                         0.0   \n",
       "1                          0.0                         0.0   \n",
       "2                          0.0                         0.0   \n",
       "3                          0.0                         0.0   \n",
       "4                          0.0                         0.0   \n",
       "\n",
       "   arrival_date_month_July  arrival_date_month_June  arrival_date_month_March  \\\n",
       "0                      1.0                      0.0                       0.0   \n",
       "1                      1.0                      0.0                       0.0   \n",
       "2                      1.0                      0.0                       0.0   \n",
       "3                      1.0                      0.0                       0.0   \n",
       "4                      1.0                      0.0                       0.0   \n",
       "\n",
       "   arrival_date_month_May  arrival_date_month_November  \\\n",
       "0                     0.0                          0.0   \n",
       "1                     0.0                          0.0   \n",
       "2                     0.0                          0.0   \n",
       "3                     0.0                          0.0   \n",
       "4                     0.0                          0.0   \n",
       "\n",
       "   arrival_date_month_October  arrival_date_month_September  \n",
       "0                         0.0                           0.0  \n",
       "1                         0.0                           0.0  \n",
       "2                         0.0                           0.0  \n",
       "3                         0.0                           0.0  \n",
       "4                         0.0                           0.0  \n",
       "\n",
       "[5 rows x 199 columns]"
      ]
     },
     "execution_count": 68,
     "metadata": {},
     "output_type": "execute_result"
    }
   ],
   "source": [
    "features_train_ohe = pd.concat((features_train_drop_cat,features_train_df), axis=1)\n",
    "features_train_ohe.head()"
   ]
  },
  {
   "cell_type": "code",
   "execution_count": 69,
   "metadata": {},
   "outputs": [
    {
     "data": {
      "text/plain": [
       "array([[0., 0., 0., ..., 0., 0., 0.],\n",
       "       [0., 0., 0., ..., 0., 0., 0.],\n",
       "       [0., 0., 0., ..., 0., 0., 0.],\n",
       "       ...,\n",
       "       [0., 0., 0., ..., 0., 0., 0.],\n",
       "       [0., 0., 0., ..., 0., 0., 0.],\n",
       "       [0., 0., 0., ..., 0., 0., 0.]])"
      ]
     },
     "execution_count": 69,
     "metadata": {},
     "output_type": "execute_result"
    }
   ],
   "source": [
    "# do the same for the test sample\n",
    "ftest_encoder = features_test.loc[:]\n",
    "\n",
    "features_test_enc = encoder.transform(ftest_encoder[catcols]).toarray()\n",
    "features_test_enc"
   ]
  },
  {
   "cell_type": "code",
   "execution_count": 70,
   "metadata": {},
   "outputs": [
    {
     "data": {
      "text/html": [
       "<div>\n",
       "<style scoped>\n",
       "    .dataframe tbody tr th:only-of-type {\n",
       "        vertical-align: middle;\n",
       "    }\n",
       "\n",
       "    .dataframe tbody tr th {\n",
       "        vertical-align: top;\n",
       "    }\n",
       "\n",
       "    .dataframe thead th {\n",
       "        text-align: right;\n",
       "    }\n",
       "</style>\n",
       "<table border=\"1\" class=\"dataframe\">\n",
       "  <thead>\n",
       "    <tr style=\"text-align: right;\">\n",
       "      <th></th>\n",
       "      <th>distribution_channel_Corporate</th>\n",
       "      <th>distribution_channel_Direct</th>\n",
       "      <th>distribution_channel_GDS</th>\n",
       "      <th>distribution_channel_TA/TO</th>\n",
       "      <th>customer_type_Contract</th>\n",
       "      <th>customer_type_Group</th>\n",
       "      <th>customer_type_Transient</th>\n",
       "      <th>customer_type_Transient-Party</th>\n",
       "      <th>reserved_room_type_A</th>\n",
       "      <th>reserved_room_type_B</th>\n",
       "      <th>...</th>\n",
       "      <th>arrival_date_month_December</th>\n",
       "      <th>arrival_date_month_February</th>\n",
       "      <th>arrival_date_month_January</th>\n",
       "      <th>arrival_date_month_July</th>\n",
       "      <th>arrival_date_month_June</th>\n",
       "      <th>arrival_date_month_March</th>\n",
       "      <th>arrival_date_month_May</th>\n",
       "      <th>arrival_date_month_November</th>\n",
       "      <th>arrival_date_month_October</th>\n",
       "      <th>arrival_date_month_September</th>\n",
       "    </tr>\n",
       "  </thead>\n",
       "  <tbody>\n",
       "    <tr>\n",
       "      <th>0</th>\n",
       "      <td>0.0</td>\n",
       "      <td>0.0</td>\n",
       "      <td>0.0</td>\n",
       "      <td>1.0</td>\n",
       "      <td>0.0</td>\n",
       "      <td>0.0</td>\n",
       "      <td>1.0</td>\n",
       "      <td>0.0</td>\n",
       "      <td>1.0</td>\n",
       "      <td>0.0</td>\n",
       "      <td>...</td>\n",
       "      <td>0.0</td>\n",
       "      <td>0.0</td>\n",
       "      <td>1.0</td>\n",
       "      <td>0.0</td>\n",
       "      <td>0.0</td>\n",
       "      <td>0.0</td>\n",
       "      <td>0.0</td>\n",
       "      <td>0.0</td>\n",
       "      <td>0.0</td>\n",
       "      <td>0.0</td>\n",
       "    </tr>\n",
       "    <tr>\n",
       "      <th>1</th>\n",
       "      <td>0.0</td>\n",
       "      <td>0.0</td>\n",
       "      <td>0.0</td>\n",
       "      <td>1.0</td>\n",
       "      <td>0.0</td>\n",
       "      <td>0.0</td>\n",
       "      <td>1.0</td>\n",
       "      <td>0.0</td>\n",
       "      <td>1.0</td>\n",
       "      <td>0.0</td>\n",
       "      <td>...</td>\n",
       "      <td>0.0</td>\n",
       "      <td>0.0</td>\n",
       "      <td>1.0</td>\n",
       "      <td>0.0</td>\n",
       "      <td>0.0</td>\n",
       "      <td>0.0</td>\n",
       "      <td>0.0</td>\n",
       "      <td>0.0</td>\n",
       "      <td>0.0</td>\n",
       "      <td>0.0</td>\n",
       "    </tr>\n",
       "    <tr>\n",
       "      <th>2</th>\n",
       "      <td>0.0</td>\n",
       "      <td>0.0</td>\n",
       "      <td>0.0</td>\n",
       "      <td>1.0</td>\n",
       "      <td>0.0</td>\n",
       "      <td>0.0</td>\n",
       "      <td>1.0</td>\n",
       "      <td>0.0</td>\n",
       "      <td>1.0</td>\n",
       "      <td>0.0</td>\n",
       "      <td>...</td>\n",
       "      <td>0.0</td>\n",
       "      <td>0.0</td>\n",
       "      <td>1.0</td>\n",
       "      <td>0.0</td>\n",
       "      <td>0.0</td>\n",
       "      <td>0.0</td>\n",
       "      <td>0.0</td>\n",
       "      <td>0.0</td>\n",
       "      <td>0.0</td>\n",
       "      <td>0.0</td>\n",
       "    </tr>\n",
       "    <tr>\n",
       "      <th>3</th>\n",
       "      <td>0.0</td>\n",
       "      <td>0.0</td>\n",
       "      <td>0.0</td>\n",
       "      <td>1.0</td>\n",
       "      <td>0.0</td>\n",
       "      <td>0.0</td>\n",
       "      <td>1.0</td>\n",
       "      <td>0.0</td>\n",
       "      <td>1.0</td>\n",
       "      <td>0.0</td>\n",
       "      <td>...</td>\n",
       "      <td>0.0</td>\n",
       "      <td>0.0</td>\n",
       "      <td>1.0</td>\n",
       "      <td>0.0</td>\n",
       "      <td>0.0</td>\n",
       "      <td>0.0</td>\n",
       "      <td>0.0</td>\n",
       "      <td>0.0</td>\n",
       "      <td>0.0</td>\n",
       "      <td>0.0</td>\n",
       "    </tr>\n",
       "    <tr>\n",
       "      <th>4</th>\n",
       "      <td>0.0</td>\n",
       "      <td>0.0</td>\n",
       "      <td>0.0</td>\n",
       "      <td>1.0</td>\n",
       "      <td>0.0</td>\n",
       "      <td>0.0</td>\n",
       "      <td>1.0</td>\n",
       "      <td>0.0</td>\n",
       "      <td>1.0</td>\n",
       "      <td>0.0</td>\n",
       "      <td>...</td>\n",
       "      <td>0.0</td>\n",
       "      <td>0.0</td>\n",
       "      <td>1.0</td>\n",
       "      <td>0.0</td>\n",
       "      <td>0.0</td>\n",
       "      <td>0.0</td>\n",
       "      <td>0.0</td>\n",
       "      <td>0.0</td>\n",
       "      <td>0.0</td>\n",
       "      <td>0.0</td>\n",
       "    </tr>\n",
       "  </tbody>\n",
       "</table>\n",
       "<p>5 rows × 186 columns</p>\n",
       "</div>"
      ],
      "text/plain": [
       "   distribution_channel_Corporate  distribution_channel_Direct  \\\n",
       "0                             0.0                          0.0   \n",
       "1                             0.0                          0.0   \n",
       "2                             0.0                          0.0   \n",
       "3                             0.0                          0.0   \n",
       "4                             0.0                          0.0   \n",
       "\n",
       "   distribution_channel_GDS  distribution_channel_TA/TO  \\\n",
       "0                       0.0                         1.0   \n",
       "1                       0.0                         1.0   \n",
       "2                       0.0                         1.0   \n",
       "3                       0.0                         1.0   \n",
       "4                       0.0                         1.0   \n",
       "\n",
       "   customer_type_Contract  customer_type_Group  customer_type_Transient  \\\n",
       "0                     0.0                  0.0                      1.0   \n",
       "1                     0.0                  0.0                      1.0   \n",
       "2                     0.0                  0.0                      1.0   \n",
       "3                     0.0                  0.0                      1.0   \n",
       "4                     0.0                  0.0                      1.0   \n",
       "\n",
       "   customer_type_Transient-Party  reserved_room_type_A  reserved_room_type_B  \\\n",
       "0                            0.0                   1.0                   0.0   \n",
       "1                            0.0                   1.0                   0.0   \n",
       "2                            0.0                   1.0                   0.0   \n",
       "3                            0.0                   1.0                   0.0   \n",
       "4                            0.0                   1.0                   0.0   \n",
       "\n",
       "   ...  arrival_date_month_December  arrival_date_month_February  \\\n",
       "0  ...                          0.0                          0.0   \n",
       "1  ...                          0.0                          0.0   \n",
       "2  ...                          0.0                          0.0   \n",
       "3  ...                          0.0                          0.0   \n",
       "4  ...                          0.0                          0.0   \n",
       "\n",
       "   arrival_date_month_January  arrival_date_month_July  \\\n",
       "0                         1.0                      0.0   \n",
       "1                         1.0                      0.0   \n",
       "2                         1.0                      0.0   \n",
       "3                         1.0                      0.0   \n",
       "4                         1.0                      0.0   \n",
       "\n",
       "   arrival_date_month_June  arrival_date_month_March  arrival_date_month_May  \\\n",
       "0                      0.0                       0.0                     0.0   \n",
       "1                      0.0                       0.0                     0.0   \n",
       "2                      0.0                       0.0                     0.0   \n",
       "3                      0.0                       0.0                     0.0   \n",
       "4                      0.0                       0.0                     0.0   \n",
       "\n",
       "   arrival_date_month_November  arrival_date_month_October  \\\n",
       "0                          0.0                         0.0   \n",
       "1                          0.0                         0.0   \n",
       "2                          0.0                         0.0   \n",
       "3                          0.0                         0.0   \n",
       "4                          0.0                         0.0   \n",
       "\n",
       "   arrival_date_month_September  \n",
       "0                           0.0  \n",
       "1                           0.0  \n",
       "2                           0.0  \n",
       "3                           0.0  \n",
       "4                           0.0  \n",
       "\n",
       "[5 rows x 186 columns]"
      ]
     },
     "execution_count": 70,
     "metadata": {},
     "output_type": "execute_result"
    }
   ],
   "source": [
    "features_test_df = pd.DataFrame(\n",
    "    features_test_enc,\n",
    "    columns=encoder.get_feature_names(catcols),\n",
    "    index=features_test.index\n",
    ")\n",
    "\n",
    "features_test_df.head()"
   ]
  },
  {
   "cell_type": "code",
   "execution_count": 71,
   "metadata": {},
   "outputs": [
    {
     "data": {
      "text/html": [
       "<div>\n",
       "<style scoped>\n",
       "    .dataframe tbody tr th:only-of-type {\n",
       "        vertical-align: middle;\n",
       "    }\n",
       "\n",
       "    .dataframe tbody tr th {\n",
       "        vertical-align: top;\n",
       "    }\n",
       "\n",
       "    .dataframe thead th {\n",
       "        text-align: right;\n",
       "    }\n",
       "</style>\n",
       "<table border=\"1\" class=\"dataframe\">\n",
       "  <thead>\n",
       "    <tr style=\"text-align: right;\">\n",
       "      <th></th>\n",
       "      <th>lead_time</th>\n",
       "      <th>arrival_date_day_of_month</th>\n",
       "      <th>adults</th>\n",
       "      <th>children</th>\n",
       "      <th>has_babies</th>\n",
       "      <th>is_repeated_guest</th>\n",
       "      <th>previous_cancellations</th>\n",
       "      <th>previous_bookings_not_canceled</th>\n",
       "      <th>booking_changes</th>\n",
       "      <th>days_in_waiting_list</th>\n",
       "      <th>required_car_parking_spaces</th>\n",
       "      <th>total_of_special_requests</th>\n",
       "      <th>total_nights</th>\n",
       "    </tr>\n",
       "  </thead>\n",
       "  <tbody>\n",
       "    <tr>\n",
       "      <th>0</th>\n",
       "      <td>-0.232330</td>\n",
       "      <td>-1.696877</td>\n",
       "      <td>0.336436</td>\n",
       "      <td>-0.219336</td>\n",
       "      <td>-0.083175</td>\n",
       "      <td>0</td>\n",
       "      <td>-0.133707</td>\n",
       "      <td>-0.081287</td>\n",
       "      <td>-0.326674</td>\n",
       "      <td>-0.183057</td>\n",
       "      <td>-0.244332</td>\n",
       "      <td>-0.680536</td>\n",
       "      <td>-1.178757</td>\n",
       "    </tr>\n",
       "    <tr>\n",
       "      <th>1</th>\n",
       "      <td>-0.357102</td>\n",
       "      <td>-1.696877</td>\n",
       "      <td>0.336436</td>\n",
       "      <td>-0.219336</td>\n",
       "      <td>-0.083175</td>\n",
       "      <td>0</td>\n",
       "      <td>-0.133707</td>\n",
       "      <td>-0.081287</td>\n",
       "      <td>-0.326674</td>\n",
       "      <td>-0.183057</td>\n",
       "      <td>-0.244332</td>\n",
       "      <td>0.649323</td>\n",
       "      <td>0.547056</td>\n",
       "    </tr>\n",
       "    <tr>\n",
       "      <th>2</th>\n",
       "      <td>-0.357102</td>\n",
       "      <td>-1.696877</td>\n",
       "      <td>0.336436</td>\n",
       "      <td>-0.219336</td>\n",
       "      <td>-0.083175</td>\n",
       "      <td>0</td>\n",
       "      <td>-0.133707</td>\n",
       "      <td>-0.081287</td>\n",
       "      <td>-0.326674</td>\n",
       "      <td>-0.183057</td>\n",
       "      <td>-0.244332</td>\n",
       "      <td>0.649323</td>\n",
       "      <td>0.547056</td>\n",
       "    </tr>\n",
       "    <tr>\n",
       "      <th>3</th>\n",
       "      <td>-0.263523</td>\n",
       "      <td>-1.696877</td>\n",
       "      <td>-1.783139</td>\n",
       "      <td>-0.219336</td>\n",
       "      <td>-0.083175</td>\n",
       "      <td>0</td>\n",
       "      <td>-0.133707</td>\n",
       "      <td>-0.081287</td>\n",
       "      <td>-0.326674</td>\n",
       "      <td>-0.183057</td>\n",
       "      <td>-0.244332</td>\n",
       "      <td>0.649323</td>\n",
       "      <td>0.547056</td>\n",
       "    </tr>\n",
       "    <tr>\n",
       "      <th>4</th>\n",
       "      <td>0.786647</td>\n",
       "      <td>-1.696877</td>\n",
       "      <td>0.336436</td>\n",
       "      <td>-0.219336</td>\n",
       "      <td>-0.083175</td>\n",
       "      <td>0</td>\n",
       "      <td>-0.133707</td>\n",
       "      <td>-0.081287</td>\n",
       "      <td>-0.326674</td>\n",
       "      <td>-0.183057</td>\n",
       "      <td>-0.244332</td>\n",
       "      <td>-0.680536</td>\n",
       "      <td>2.272869</td>\n",
       "    </tr>\n",
       "  </tbody>\n",
       "</table>\n",
       "</div>"
      ],
      "text/plain": [
       "   lead_time  arrival_date_day_of_month    adults  children  has_babies  \\\n",
       "0  -0.232330                  -1.696877  0.336436 -0.219336   -0.083175   \n",
       "1  -0.357102                  -1.696877  0.336436 -0.219336   -0.083175   \n",
       "2  -0.357102                  -1.696877  0.336436 -0.219336   -0.083175   \n",
       "3  -0.263523                  -1.696877 -1.783139 -0.219336   -0.083175   \n",
       "4   0.786647                  -1.696877  0.336436 -0.219336   -0.083175   \n",
       "\n",
       "   is_repeated_guest  previous_cancellations  previous_bookings_not_canceled  \\\n",
       "0                  0               -0.133707                       -0.081287   \n",
       "1                  0               -0.133707                       -0.081287   \n",
       "2                  0               -0.133707                       -0.081287   \n",
       "3                  0               -0.133707                       -0.081287   \n",
       "4                  0               -0.133707                       -0.081287   \n",
       "\n",
       "   booking_changes  days_in_waiting_list  required_car_parking_spaces  \\\n",
       "0        -0.326674             -0.183057                    -0.244332   \n",
       "1        -0.326674             -0.183057                    -0.244332   \n",
       "2        -0.326674             -0.183057                    -0.244332   \n",
       "3        -0.326674             -0.183057                    -0.244332   \n",
       "4        -0.326674             -0.183057                    -0.244332   \n",
       "\n",
       "   total_of_special_requests  total_nights  \n",
       "0                  -0.680536     -1.178757  \n",
       "1                   0.649323      0.547056  \n",
       "2                   0.649323      0.547056  \n",
       "3                   0.649323      0.547056  \n",
       "4                  -0.680536      2.272869  "
      ]
     },
     "execution_count": 71,
     "metadata": {},
     "output_type": "execute_result"
    }
   ],
   "source": [
    "features_test_drop_cat = features_test.drop(catcols, axis=1)\n",
    "features_test_drop_cat.head()"
   ]
  },
  {
   "cell_type": "code",
   "execution_count": 72,
   "metadata": {},
   "outputs": [
    {
     "data": {
      "text/html": [
       "<div>\n",
       "<style scoped>\n",
       "    .dataframe tbody tr th:only-of-type {\n",
       "        vertical-align: middle;\n",
       "    }\n",
       "\n",
       "    .dataframe tbody tr th {\n",
       "        vertical-align: top;\n",
       "    }\n",
       "\n",
       "    .dataframe thead th {\n",
       "        text-align: right;\n",
       "    }\n",
       "</style>\n",
       "<table border=\"1\" class=\"dataframe\">\n",
       "  <thead>\n",
       "    <tr style=\"text-align: right;\">\n",
       "      <th></th>\n",
       "      <th>lead_time</th>\n",
       "      <th>arrival_date_day_of_month</th>\n",
       "      <th>adults</th>\n",
       "      <th>children</th>\n",
       "      <th>has_babies</th>\n",
       "      <th>is_repeated_guest</th>\n",
       "      <th>previous_cancellations</th>\n",
       "      <th>previous_bookings_not_canceled</th>\n",
       "      <th>booking_changes</th>\n",
       "      <th>days_in_waiting_list</th>\n",
       "      <th>...</th>\n",
       "      <th>arrival_date_month_December</th>\n",
       "      <th>arrival_date_month_February</th>\n",
       "      <th>arrival_date_month_January</th>\n",
       "      <th>arrival_date_month_July</th>\n",
       "      <th>arrival_date_month_June</th>\n",
       "      <th>arrival_date_month_March</th>\n",
       "      <th>arrival_date_month_May</th>\n",
       "      <th>arrival_date_month_November</th>\n",
       "      <th>arrival_date_month_October</th>\n",
       "      <th>arrival_date_month_September</th>\n",
       "    </tr>\n",
       "  </thead>\n",
       "  <tbody>\n",
       "    <tr>\n",
       "      <th>0</th>\n",
       "      <td>-0.232330</td>\n",
       "      <td>-1.696877</td>\n",
       "      <td>0.336436</td>\n",
       "      <td>-0.219336</td>\n",
       "      <td>-0.083175</td>\n",
       "      <td>0</td>\n",
       "      <td>-0.133707</td>\n",
       "      <td>-0.081287</td>\n",
       "      <td>-0.326674</td>\n",
       "      <td>-0.183057</td>\n",
       "      <td>...</td>\n",
       "      <td>0.0</td>\n",
       "      <td>0.0</td>\n",
       "      <td>1.0</td>\n",
       "      <td>0.0</td>\n",
       "      <td>0.0</td>\n",
       "      <td>0.0</td>\n",
       "      <td>0.0</td>\n",
       "      <td>0.0</td>\n",
       "      <td>0.0</td>\n",
       "      <td>0.0</td>\n",
       "    </tr>\n",
       "    <tr>\n",
       "      <th>1</th>\n",
       "      <td>-0.357102</td>\n",
       "      <td>-1.696877</td>\n",
       "      <td>0.336436</td>\n",
       "      <td>-0.219336</td>\n",
       "      <td>-0.083175</td>\n",
       "      <td>0</td>\n",
       "      <td>-0.133707</td>\n",
       "      <td>-0.081287</td>\n",
       "      <td>-0.326674</td>\n",
       "      <td>-0.183057</td>\n",
       "      <td>...</td>\n",
       "      <td>0.0</td>\n",
       "      <td>0.0</td>\n",
       "      <td>1.0</td>\n",
       "      <td>0.0</td>\n",
       "      <td>0.0</td>\n",
       "      <td>0.0</td>\n",
       "      <td>0.0</td>\n",
       "      <td>0.0</td>\n",
       "      <td>0.0</td>\n",
       "      <td>0.0</td>\n",
       "    </tr>\n",
       "    <tr>\n",
       "      <th>2</th>\n",
       "      <td>-0.357102</td>\n",
       "      <td>-1.696877</td>\n",
       "      <td>0.336436</td>\n",
       "      <td>-0.219336</td>\n",
       "      <td>-0.083175</td>\n",
       "      <td>0</td>\n",
       "      <td>-0.133707</td>\n",
       "      <td>-0.081287</td>\n",
       "      <td>-0.326674</td>\n",
       "      <td>-0.183057</td>\n",
       "      <td>...</td>\n",
       "      <td>0.0</td>\n",
       "      <td>0.0</td>\n",
       "      <td>1.0</td>\n",
       "      <td>0.0</td>\n",
       "      <td>0.0</td>\n",
       "      <td>0.0</td>\n",
       "      <td>0.0</td>\n",
       "      <td>0.0</td>\n",
       "      <td>0.0</td>\n",
       "      <td>0.0</td>\n",
       "    </tr>\n",
       "    <tr>\n",
       "      <th>3</th>\n",
       "      <td>-0.263523</td>\n",
       "      <td>-1.696877</td>\n",
       "      <td>-1.783139</td>\n",
       "      <td>-0.219336</td>\n",
       "      <td>-0.083175</td>\n",
       "      <td>0</td>\n",
       "      <td>-0.133707</td>\n",
       "      <td>-0.081287</td>\n",
       "      <td>-0.326674</td>\n",
       "      <td>-0.183057</td>\n",
       "      <td>...</td>\n",
       "      <td>0.0</td>\n",
       "      <td>0.0</td>\n",
       "      <td>1.0</td>\n",
       "      <td>0.0</td>\n",
       "      <td>0.0</td>\n",
       "      <td>0.0</td>\n",
       "      <td>0.0</td>\n",
       "      <td>0.0</td>\n",
       "      <td>0.0</td>\n",
       "      <td>0.0</td>\n",
       "    </tr>\n",
       "    <tr>\n",
       "      <th>4</th>\n",
       "      <td>0.786647</td>\n",
       "      <td>-1.696877</td>\n",
       "      <td>0.336436</td>\n",
       "      <td>-0.219336</td>\n",
       "      <td>-0.083175</td>\n",
       "      <td>0</td>\n",
       "      <td>-0.133707</td>\n",
       "      <td>-0.081287</td>\n",
       "      <td>-0.326674</td>\n",
       "      <td>-0.183057</td>\n",
       "      <td>...</td>\n",
       "      <td>0.0</td>\n",
       "      <td>0.0</td>\n",
       "      <td>1.0</td>\n",
       "      <td>0.0</td>\n",
       "      <td>0.0</td>\n",
       "      <td>0.0</td>\n",
       "      <td>0.0</td>\n",
       "      <td>0.0</td>\n",
       "      <td>0.0</td>\n",
       "      <td>0.0</td>\n",
       "    </tr>\n",
       "  </tbody>\n",
       "</table>\n",
       "<p>5 rows × 199 columns</p>\n",
       "</div>"
      ],
      "text/plain": [
       "   lead_time  arrival_date_day_of_month    adults  children  has_babies  \\\n",
       "0  -0.232330                  -1.696877  0.336436 -0.219336   -0.083175   \n",
       "1  -0.357102                  -1.696877  0.336436 -0.219336   -0.083175   \n",
       "2  -0.357102                  -1.696877  0.336436 -0.219336   -0.083175   \n",
       "3  -0.263523                  -1.696877 -1.783139 -0.219336   -0.083175   \n",
       "4   0.786647                  -1.696877  0.336436 -0.219336   -0.083175   \n",
       "\n",
       "   is_repeated_guest  previous_cancellations  previous_bookings_not_canceled  \\\n",
       "0                  0               -0.133707                       -0.081287   \n",
       "1                  0               -0.133707                       -0.081287   \n",
       "2                  0               -0.133707                       -0.081287   \n",
       "3                  0               -0.133707                       -0.081287   \n",
       "4                  0               -0.133707                       -0.081287   \n",
       "\n",
       "   booking_changes  days_in_waiting_list  ...  arrival_date_month_December  \\\n",
       "0        -0.326674             -0.183057  ...                          0.0   \n",
       "1        -0.326674             -0.183057  ...                          0.0   \n",
       "2        -0.326674             -0.183057  ...                          0.0   \n",
       "3        -0.326674             -0.183057  ...                          0.0   \n",
       "4        -0.326674             -0.183057  ...                          0.0   \n",
       "\n",
       "   arrival_date_month_February  arrival_date_month_January  \\\n",
       "0                          0.0                         1.0   \n",
       "1                          0.0                         1.0   \n",
       "2                          0.0                         1.0   \n",
       "3                          0.0                         1.0   \n",
       "4                          0.0                         1.0   \n",
       "\n",
       "   arrival_date_month_July  arrival_date_month_June  arrival_date_month_March  \\\n",
       "0                      0.0                      0.0                       0.0   \n",
       "1                      0.0                      0.0                       0.0   \n",
       "2                      0.0                      0.0                       0.0   \n",
       "3                      0.0                      0.0                       0.0   \n",
       "4                      0.0                      0.0                       0.0   \n",
       "\n",
       "   arrival_date_month_May  arrival_date_month_November  \\\n",
       "0                     0.0                          0.0   \n",
       "1                     0.0                          0.0   \n",
       "2                     0.0                          0.0   \n",
       "3                     0.0                          0.0   \n",
       "4                     0.0                          0.0   \n",
       "\n",
       "   arrival_date_month_October  arrival_date_month_September  \n",
       "0                         0.0                           0.0  \n",
       "1                         0.0                           0.0  \n",
       "2                         0.0                           0.0  \n",
       "3                         0.0                           0.0  \n",
       "4                         0.0                           0.0  \n",
       "\n",
       "[5 rows x 199 columns]"
      ]
     },
     "execution_count": 72,
     "metadata": {},
     "output_type": "execute_result"
    }
   ],
   "source": [
    "features_test_ohe = pd.concat((features_test_drop_cat, features_test_df), axis=1)\n",
    "features_test_ohe.head()"
   ]
  },
  {
   "cell_type": "markdown",
   "metadata": {},
   "source": [
    "Обучим RandomForest и DecisionTree"
   ]
  },
  {
   "cell_type": "markdown",
   "metadata": {},
   "source": [
    " Let's choose the metric for the task: f1_score. In this task we care about both the completeness of the model's predictions (it is important that the model can recognize as many customers who canceled the reservation as possible) and its accuracy (it is important that among those customers that the model marked as unreliable, as many as possible would actually be unreliable).\n"
   ]
  },
  {
   "cell_type": "code",
   "execution_count": 73,
   "metadata": {},
   "outputs": [],
   "source": [
    "random_forest = RandomForestClassifier(random_state=123, class_weight='balanced')"
   ]
  },
  {
   "cell_type": "code",
   "execution_count": 74,
   "metadata": {},
   "outputs": [],
   "source": [
    "params = {\n",
    "    'n_estimators': [75,100,125],\n",
    "    'max_depth': [10,16,20],\n",
    "    'max_features': [3,5,7]\n",
    "}"
   ]
  },
  {
   "cell_type": "code",
   "execution_count": 75,
   "metadata": {},
   "outputs": [
    {
     "name": "stdout",
     "output_type": "stream",
     "text": [
      "Fitting 8 folds for each of 27 candidates, totalling 216 fits\n",
      "CPU times: user 10min 9s, sys: 16.4 s, total: 10min 25s\n",
      "Wall time: 10min 26s\n"
     ]
    },
    {
     "data": {
      "text/plain": [
       "GridSearchCV(cv=8,\n",
       "             estimator=RandomForestClassifier(class_weight='balanced',\n",
       "                                              random_state=123),\n",
       "             n_jobs=-1,\n",
       "             param_grid={'max_depth': [10, 16, 20], 'max_features': [3, 5, 7],\n",
       "                         'n_estimators': [75, 100, 125]},\n",
       "             scoring='f1', verbose=1)"
      ]
     },
     "execution_count": 75,
     "metadata": {},
     "output_type": "execute_result"
    }
   ],
   "source": [
    "%%time\n",
    "grid = GridSearchCV(random_forest, params,n_jobs=-1, verbose=1,cv=8, scoring='f1')\n",
    "grid.fit(features_train_ohe, target_train)"
   ]
  },
  {
   "cell_type": "code",
   "execution_count": 76,
   "metadata": {},
   "outputs": [
    {
     "data": {
      "text/plain": [
       "{'max_depth': 10, 'max_features': 5, 'n_estimators': 125}"
      ]
     },
     "execution_count": 76,
     "metadata": {},
     "output_type": "execute_result"
    }
   ],
   "source": [
    "grid.best_params_"
   ]
  },
  {
   "cell_type": "code",
   "execution_count": 77,
   "metadata": {},
   "outputs": [
    {
     "data": {
      "text/plain": [
       "0.6166609061804125"
      ]
     },
     "execution_count": 77,
     "metadata": {},
     "output_type": "execute_result"
    }
   ],
   "source": [
    "grid.best_score_"
   ]
  },
  {
   "cell_type": "code",
   "execution_count": 78,
   "metadata": {},
   "outputs": [],
   "source": [
    "# DecisionTree\n",
    "\n",
    "decision_tree = DecisionTreeClassifier(random_state=123, class_weight='balanced')"
   ]
  },
  {
   "cell_type": "code",
   "execution_count": 79,
   "metadata": {},
   "outputs": [],
   "source": [
    "parames = {\n",
    "    'max_depth':[10,16,19],\n",
    "    'min_samples_split': [2,3,4],\n",
    "    'min_samples_leaf': [2,3,4]\n",
    "}"
   ]
  },
  {
   "cell_type": "code",
   "execution_count": 80,
   "metadata": {},
   "outputs": [
    {
     "name": "stdout",
     "output_type": "stream",
     "text": [
      "CPU times: user 1min 57s, sys: 13 s, total: 2min 10s\n",
      "Wall time: 2min 10s\n"
     ]
    },
    {
     "data": {
      "text/plain": [
       "GridSearchCV(cv=8,\n",
       "             estimator=DecisionTreeClassifier(class_weight='balanced',\n",
       "                                              random_state=123),\n",
       "             n_jobs=-1,\n",
       "             param_grid={'max_depth': [10, 16, 19],\n",
       "                         'min_samples_leaf': [2, 3, 4],\n",
       "                         'min_samples_split': [2, 3, 4]},\n",
       "             scoring='f1')"
      ]
     },
     "execution_count": 80,
     "metadata": {},
     "output_type": "execute_result"
    }
   ],
   "source": [
    "%%time\n",
    "grid = GridSearchCV(decision_tree, parames, n_jobs=-1, cv=8, scoring='f1')\n",
    "grid.fit(features_train_ohe, target_train)"
   ]
  },
  {
   "cell_type": "code",
   "execution_count": 81,
   "metadata": {
    "scrolled": true
   },
   "outputs": [
    {
     "data": {
      "text/plain": [
       "{'max_depth': 10, 'min_samples_leaf': 2, 'min_samples_split': 2}"
      ]
     },
     "execution_count": 81,
     "metadata": {},
     "output_type": "execute_result"
    }
   ],
   "source": [
    "grid.best_params_"
   ]
  },
  {
   "cell_type": "code",
   "execution_count": 82,
   "metadata": {},
   "outputs": [
    {
     "data": {
      "text/plain": [
       "0.573836926279961"
      ]
     },
     "execution_count": 82,
     "metadata": {},
     "output_type": "execute_result"
    }
   ],
   "source": [
    "grid.best_score_"
   ]
  },
  {
   "cell_type": "markdown",
   "metadata": {},
   "source": [
    "**Conclusion:** the best quality score for random forest is 0.61"
   ]
  },
  {
   "cell_type": "code",
   "execution_count": 83,
   "metadata": {},
   "outputs": [
    {
     "name": "stdout",
     "output_type": "stream",
     "text": [
      "F1-мера для модели случайного леса на тестовой выборке: 0.6312090874085483\n"
     ]
    }
   ],
   "source": [
    "# тестовая выборка\n",
    "rf_model = RandomForestClassifier(\n",
    "    max_depth=10,\n",
    "    n_estimators=125,\n",
    "    max_features=5,\n",
    "    class_weight='balanced',\n",
    "    random_state=123,\n",
    "    n_jobs=-1)\n",
    "\n",
    "rf_model.fit(features_train_ohe, target_train)\n",
    "\n",
    "predictions_rf = rf_model.predict(features_test_ohe)\n",
    "f1_score_rf = f1_score(target_test, predictions_rf)\n",
    "\n",
    "print(\"F1-мера для модели случайного леса на тестовой выборке:\", f1_score_rf)\n"
   ]
  },
  {
   "cell_type": "markdown",
   "metadata": {},
   "source": [
    "Conclusion: thus, the random forest model is selected to predict customer churn. It shows a key metric F1-measure equal to 0.639 with an average model quality score of ~0.63.\n",
    "\n",
    "Just in case, let's look at the AUC-ROc to see how different the model is from the random model"
   ]
  },
  {
   "cell_type": "code",
   "execution_count": 84,
   "metadata": {},
   "outputs": [
    {
     "data": {
      "text/plain": [
       "0.8330313479275617"
      ]
     },
     "execution_count": 84,
     "metadata": {},
     "output_type": "execute_result"
    }
   ],
   "source": [
    "auc_roc_decision_tree = roc_auc_score(target_test, rf_model.predict_proba(features_test_ohe)[:,1])\n",
    "auc_roc_decision_tree"
   ]
  },
  {
   "cell_type": "markdown",
   "metadata": {},
   "source": [
    "**Conclusion:** Quality metric above 0.5 means trained model predicts better than random model"
   ]
  },
  {
   "cell_type": "code",
   "execution_count": 85,
   "metadata": {},
   "outputs": [],
   "source": [
    "test['predicted'] = predictions_rf"
   ]
  },
  {
   "cell_type": "code",
   "execution_count": 86,
   "metadata": {},
   "outputs": [
    {
     "data": {
      "text/plain": [
       "array(['A', 'E', 'G', 'D', 'F', 'C', 'B'], dtype=object)"
      ]
     },
     "execution_count": 86,
     "metadata": {},
     "output_type": "execute_result"
    }
   ],
   "source": [
    "test['reserved_room_type'].unique()"
   ]
  },
  {
   "cell_type": "code",
   "execution_count": 87,
   "metadata": {},
   "outputs": [],
   "source": [
    "profit = test.join(rp_df.set_index('room_type'), on='reserved_room_type', how='left')\\\n",
    "             .join(sr_df.set_index('season_month'), on='arrival_date_month', how='left')\n",
    "\n",
    "profit['total_expense'] = profit['total_nights'].apply(lambda x: 1 if x==1 else np.ceil(x/2))*profit['room_expense']\n"
   ]
  },
  {
   "cell_type": "code",
   "execution_count": 88,
   "metadata": {},
   "outputs": [
    {
     "name": "stdout",
     "output_type": "stream",
     "text": [
      "<class 'pandas.core.frame.DataFrame'>\n",
      "Int64Index: 32343 entries, 0 to 32411\n",
      "Data columns (total 25 columns):\n",
      " #   Column                          Non-Null Count  Dtype  \n",
      "---  ------                          --------------  -----  \n",
      " 0   is_canceled                     32343 non-null  int64  \n",
      " 1   lead_time                       32343 non-null  float64\n",
      " 2   arrival_date_month              32343 non-null  object \n",
      " 3   arrival_date_day_of_month       32343 non-null  int64  \n",
      " 4   adults                          32343 non-null  float64\n",
      " 5   children                        32343 non-null  float64\n",
      " 6   has_babies                      32343 non-null  float64\n",
      " 7   meal                            32343 non-null  object \n",
      " 8   country                         32343 non-null  object \n",
      " 9   distribution_channel            32343 non-null  object \n",
      " 10  is_repeated_guest               32343 non-null  int64  \n",
      " 11  previous_cancellations          32343 non-null  int64  \n",
      " 12  previous_bookings_not_canceled  32343 non-null  int64  \n",
      " 13  reserved_room_type              32343 non-null  object \n",
      " 14  booking_changes                 32343 non-null  int64  \n",
      " 15  days_in_waiting_list            32343 non-null  int64  \n",
      " 16  customer_type                   32343 non-null  object \n",
      " 17  required_car_parking_spaces     32343 non-null  int64  \n",
      " 18  total_of_special_requests       32343 non-null  int64  \n",
      " 19  total_nights                    32343 non-null  int64  \n",
      " 20  predicted                       32343 non-null  int64  \n",
      " 21  room_profit                     32343 non-null  int64  \n",
      " 22  room_expense                    32343 non-null  int64  \n",
      " 23  season_ratio                    32343 non-null  float64\n",
      " 24  total_expense                   32343 non-null  float64\n",
      "dtypes: float64(6), int64(13), object(6)\n",
      "memory usage: 6.4+ MB\n"
     ]
    }
   ],
   "source": [
    "profit.info()"
   ]
  },
  {
   "cell_type": "code",
   "execution_count": 89,
   "metadata": {},
   "outputs": [],
   "source": [
    "def calc_profit(row):\n",
    "    room_price = row['room_profit']\n",
    "    seasonal = row['season_ratio']\n",
    "    total_nights =  row['total_nights']\n",
    "    \n",
    "    if row['predicted'] == 1 and row['is_canceled'] ==1:\n",
    "        return (room_price*seasonal)*0.8 - row['room_expense']\n",
    "    elif row['predicted'] == 0 and row['is_canceled'] == 1:\n",
    "        return row['room_expense']+ seasonal*room_price\n",
    "    else:\n",
    "        revenue = total_nights * room_price * seasonal\n",
    "        return revenue - row['total_expense']\n",
    "    \n",
    "profit['profit_predicted'] = profit.apply(calc_profit, axis=1)"
   ]
  },
  {
   "cell_type": "code",
   "execution_count": 90,
   "metadata": {},
   "outputs": [
    {
     "name": "stdout",
     "output_type": "stream",
     "text": [
      "Прибыль с внедрением модели: 64.937392\n"
     ]
    }
   ],
   "source": [
    "\n",
    "\n",
    "print('Прибыль с внедрением модели:', profit['profit_predicted'].sum()/1000000 )\n",
    "\n"
   ]
  },
  {
   "cell_type": "code",
   "execution_count": 92,
   "metadata": {},
   "outputs": [
    {
     "name": "stdout",
     "output_type": "stream",
     "text": [
      "Прибыль без внедрения модели: 37.83331\n"
     ]
    }
   ],
   "source": [
    "profit.loc[profit['is_canceled']==0,'income_no_ml'] = (profit['total_nights'] * profit['room_profit'] * profit['season_ratio'])-profit['total_expense']\n",
    "profit.loc[profit['is_canceled']==1,'income_no_ml'] = -profit['room_expense'] - profit['room_profit']\n",
    "\n",
    "print('Прибыль без внедрения модели:', profit['income_no_ml'].sum()/1000000)\n"
   ]
  },
  {
   "cell_type": "markdown",
   "metadata": {},
   "source": [
    "**Conclusion:** implementation of the model will help generate ~30 million in additional revenue"
   ]
  },
  {
   "cell_type": "markdown",
   "metadata": {},
   "source": [
    "## Step 5: Describe the profile of an \"unreliable\" client"
   ]
  },
  {
   "cell_type": "markdown",
   "metadata": {},
   "source": [
    "Based on the obtained model, let's make a portrait of an unreliable client. First, let's consider the significance of the attributes"
   ]
  },
  {
   "cell_type": "code",
   "execution_count": 93,
   "metadata": {},
   "outputs": [
    {
     "data": {
      "image/png": "[encoded data removed]",
      "text/plain": [
       "<Figure size 432x288 with 1 Axes>"
      ]
     },
     "metadata": {
      "needs_background": "light"
     },
     "output_type": "display_data"
    }
   ],
   "source": [
    "test_ohe_cols = features_test_ohe.columns\n",
    "f_i = list(zip(test_ohe_cols,rf_model.feature_importances_))[:10]\n",
    "f_i.sort(key = lambda x : x[1])\n",
    "plt.barh([x[0] for x in f_i],[x[1] for x in f_i])\n",
    "\n",
    "plt.show()"
   ]
  },
  {
   "cell_type": "markdown",
   "metadata": {},
   "source": [
    "The most significant attributes were\n",
    "- number of canceled orders from the customer\n",
    "- number of days between booking date and arrival date\n",
    "- number of nights on weekdays\n",
    "- number of confirmed bookings with the customer\n",
    "- number of adult guests\n",
    "\n",
    "Let's see exactly how these values affect the cancellation of bookings."
   ]
  },
  {
   "cell_type": "code",
   "execution_count": 94,
   "metadata": {},
   "outputs": [
    {
     "data": {
      "text/plain": [
       "<AxesSubplot:>"
      ]
     },
     "execution_count": 94,
     "metadata": {},
     "output_type": "execute_result"
    },
    {
     "data": {
      "image/png": "[encoded data removed]",
      "text/plain": [
       "<Figure size 432x288 with 1 Axes>"
      ]
     },
     "metadata": {
      "needs_background": "light"
     },
     "output_type": "display_data"
    }
   ],
   "source": [
    "test.loc[test['is_canceled']==1,'lead_time'].value_counts()[:10].plot(kind='bar')"
   ]
  },
  {
   "cell_type": "markdown",
   "metadata": {},
   "source": [
    "Most cancellations are observed for the 56 day mark between the booking date and arrival date"
   ]
  },
  {
   "cell_type": "code",
   "execution_count": 95,
   "metadata": {},
   "outputs": [
    {
     "data": {
      "text/plain": [
       "<AxesSubplot:>"
      ]
     },
     "execution_count": 95,
     "metadata": {},
     "output_type": "execute_result"
    },
    {
     "data": {
      "image/png": "[encoded data removed]",
      "text/plain": [
       "<Figure size 432x288 with 1 Axes>"
      ]
     },
     "metadata": {
      "needs_background": "light"
     },
     "output_type": "display_data"
    }
   ],
   "source": [
    "test.loc[test['is_canceled']==1,'adults'].value_counts().plot(kind='bar')"
   ]
  },
  {
   "cell_type": "code",
   "execution_count": 96,
   "metadata": {},
   "outputs": [
    {
     "data": {
      "text/plain": [
       "<AxesSubplot:>"
      ]
     },
     "execution_count": 96,
     "metadata": {},
     "output_type": "execute_result"
    },
    {
     "data": {
      "image/png": "[encoded data removed]",
      "text/plain": [
       "<Figure size 432x288 with 1 Axes>"
      ]
     },
     "metadata": {
      "needs_background": "light"
     },
     "output_type": "display_data"
    }
   ],
   "source": [
    "test.loc[test['is_canceled']==1,'children'].value_counts().plot(kind='bar')"
   ]
  },
  {
   "cell_type": "code",
   "execution_count": 98,
   "metadata": {},
   "outputs": [
    {
     "data": {
      "text/plain": [
       "<AxesSubplot:>"
      ]
     },
     "execution_count": 98,
     "metadata": {},
     "output_type": "execute_result"
    },
    {
     "data": {
      "image/png": "[encoded data removed]",
      "text/plain": [
       "<Figure size 432x288 with 1 Axes>"
      ]
     },
     "metadata": {
      "needs_background": "light"
     },
     "output_type": "display_data"
    }
   ],
   "source": [
    "test.loc[test['is_canceled']==1,'booking_changes'].value_counts().plot(kind='bar')"
   ]
  },
  {
   "cell_type": "code",
   "execution_count": 99,
   "metadata": {},
   "outputs": [
    {
     "data": {
      "text/plain": [
       "<AxesSubplot:>"
      ]
     },
     "execution_count": 99,
     "metadata": {},
     "output_type": "execute_result"
    },
    {
     "data": {
      "image/png": "[encoded data removed]",
      "text/plain": [
       "<Figure size 432x288 with 1 Axes>"
      ]
     },
     "metadata": {
      "needs_background": "light"
     },
     "output_type": "display_data"
    }
   ],
   "source": [
    "test.loc[test['is_canceled']==1,'reserved_room_type'].value_counts().plot(kind='bar')\n"
   ]
  },
  {
   "cell_type": "code",
   "execution_count": 103,
   "metadata": {},
   "outputs": [
    {
     "data": {
      "text/plain": [
       "<AxesSubplot:>"
      ]
     },
     "execution_count": 103,
     "metadata": {},
     "output_type": "execute_result"
    },
    {
     "data": {
      "image/png": "[encoded data removed]",
      "text/plain": [
       "<Figure size 432x288 with 1 Axes>"
      ]
     },
     "metadata": {
      "needs_background": "light"
     },
     "output_type": "display_data"
    }
   ],
   "source": [
    "test.loc[test['is_canceled']==1,'previous_cancellations'].value_counts().plot(kind='bar')\n"
   ]
  },
  {
   "cell_type": "code",
   "execution_count": 107,
   "metadata": {},
   "outputs": [
    {
     "data": {
      "text/plain": [
       "<AxesSubplot:>"
      ]
     },
     "execution_count": 107,
     "metadata": {},
     "output_type": "execute_result"
    },
    {
     "data": {
      "image/png": "[encoded data removed]",
      "text/plain": [
       "<Figure size 432x288 with 1 Axes>"
      ]
     },
     "metadata": {
      "needs_background": "light"
     },
     "output_type": "display_data"
    }
   ],
   "source": [
    "test.loc[test['is_canceled']==1,'previous_bookings_not_canceled'].value_counts().plot(kind='bar')\n"
   ]
  },
  {
   "cell_type": "code",
   "execution_count": 109,
   "metadata": {},
   "outputs": [
    {
     "data": {
      "text/plain": [
       "<AxesSubplot:>"
      ]
     },
     "execution_count": 109,
     "metadata": {},
     "output_type": "execute_result"
    },
    {
     "data": {
      "image/png": "[encoded data removed]",
      "text/plain": [
       "<Figure size 432x288 with 1 Axes>"
      ]
     },
     "metadata": {
      "needs_background": "light"
     },
     "output_type": "display_data"
    }
   ],
   "source": [
    "test.loc[test['is_canceled']==1,'days_in_waiting_list'].value_counts()[:10].plot(kind='bar')\n"
   ]
  },
  {
   "cell_type": "markdown",
   "metadata": {},
   "source": [
    "More cancellations for 2 and 3 night stays"
   ]
  },
  {
   "cell_type": "markdown",
   "metadata": {},
   "source": [
    "The portrait of a client who is considered 'unreliable' is as follows: the client plans to stay from 1 to 3 days inclusive and books the most expensive class 'A' room for two people and no children."
   ]
  },
  {
   "cell_type": "markdown",
   "metadata": {},
   "source": [
    "## Step 6. Write a general conclusion"
   ]
  },
  {
   "cell_type": "markdown",
   "metadata": {},
   "source": [
    "Two ML models were trained to solve the problem and the best one, a random forest model with hyperparameters, was selected based on the results of cross-validation:\n",
    "\n",
    "On the test data, the model showed a value of F1-measure metric equal to 0.6199. \n",
    "\n",
    "Calculated business metric: Profit after implementing the model is 18 million more than profit without implementing churn prediction system.\n",
    "\n",
    "Portrait of an \"unreliable\" customer for the customer: the customer books the most expensive room category (\"A\") for two people, without children, planning to stay from 1 to 3 days inclusive."
   ]
  }
 ],
 "metadata": {
  "ExecuteTimeLog": [
   {
    "duration": 454,
    "start_time": "2022-11-22T15:31:55.055Z"
   },
   {
    "duration": 842,
    "start_time": "2022-11-22T15:31:56.109Z"
   },
   {
    "duration": 8,
    "start_time": "2022-11-22T15:32:13.925Z"
   },
   {
    "duration": 123,
    "start_time": "2022-11-22T15:36:03.225Z"
   },
   {
    "duration": 945,
    "start_time": "2022-11-22T15:40:58.665Z"
   },
   {
    "duration": 74,
    "start_time": "2022-11-22T15:41:48.800Z"
   },
   {
    "duration": 3928,
    "start_time": "2022-11-22T15:41:54.458Z"
   },
   {
    "duration": 24,
    "start_time": "2022-11-22T15:42:17.107Z"
   },
   {
    "duration": 16,
    "start_time": "2022-11-22T15:42:31.462Z"
   },
   {
    "duration": 1294,
    "start_time": "2022-11-24T16:02:17.733Z"
   },
   {
    "duration": 840,
    "start_time": "2022-11-24T16:02:19.029Z"
   },
   {
    "duration": 5,
    "start_time": "2022-11-24T16:02:19.871Z"
   },
   {
    "duration": 111,
    "start_time": "2022-11-24T16:02:19.878Z"
   },
   {
    "duration": 22,
    "start_time": "2022-11-24T16:02:19.991Z"
   },
   {
    "duration": 12,
    "start_time": "2022-11-24T16:02:20.015Z"
   },
   {
    "duration": 4,
    "start_time": "2022-11-24T16:04:20.097Z"
   },
   {
    "duration": 4,
    "start_time": "2022-11-24T16:13:43.697Z"
   },
   {
    "duration": 91,
    "start_time": "2022-11-24T16:14:19.546Z"
   },
   {
    "duration": 9,
    "start_time": "2022-11-24T16:14:28.881Z"
   },
   {
    "duration": 3782,
    "start_time": "2022-11-24T16:14:39.677Z"
   },
   {
    "duration": 4,
    "start_time": "2022-11-24T16:15:32.477Z"
   },
   {
    "duration": 3935,
    "start_time": "2022-11-24T16:15:35.306Z"
   },
   {
    "duration": 5,
    "start_time": "2022-11-24T16:15:46.876Z"
   },
   {
    "duration": 249,
    "start_time": "2022-11-24T16:15:49.046Z"
   },
   {
    "duration": 4,
    "start_time": "2022-11-24T16:15:58.527Z"
   },
   {
    "duration": 3791,
    "start_time": "2022-11-24T16:16:00.165Z"
   },
   {
    "duration": 4,
    "start_time": "2022-11-24T16:16:20.153Z"
   },
   {
    "duration": 291,
    "start_time": "2022-11-24T16:16:22.246Z"
   },
   {
    "duration": 5,
    "start_time": "2022-11-24T16:16:40.238Z"
   },
   {
    "duration": 3726,
    "start_time": "2022-11-24T16:16:42.946Z"
   },
   {
    "duration": 5,
    "start_time": "2022-11-24T16:16:59.496Z"
   },
   {
    "duration": 3899,
    "start_time": "2022-11-24T16:17:02.527Z"
   },
   {
    "duration": 1761,
    "start_time": "2022-11-24T16:18:03.206Z"
   },
   {
    "duration": 6964,
    "start_time": "2022-11-24T16:18:18.874Z"
   },
   {
    "duration": 1585,
    "start_time": "2022-11-24T16:20:24.834Z"
   },
   {
    "duration": 205,
    "start_time": "2022-11-24T16:20:32.837Z"
   },
   {
    "duration": 12,
    "start_time": "2022-11-24T16:20:41.776Z"
   },
   {
    "duration": 182,
    "start_time": "2022-11-24T16:22:59.478Z"
   },
   {
    "duration": 356,
    "start_time": "2022-11-24T16:23:30.475Z"
   },
   {
    "duration": 1472,
    "start_time": "2022-11-24T16:25:01.139Z"
   },
   {
    "duration": 563,
    "start_time": "2022-11-24T16:25:36.227Z"
   },
   {
    "duration": 367,
    "start_time": "2022-11-24T16:25:51.776Z"
   },
   {
    "duration": 177,
    "start_time": "2022-11-24T16:26:25.926Z"
   },
   {
    "duration": 300,
    "start_time": "2022-11-24T16:26:33.299Z"
   },
   {
    "duration": 3,
    "start_time": "2022-11-24T16:30:54.766Z"
   },
   {
    "duration": 1399,
    "start_time": "2022-11-24T16:31:54.636Z"
   },
   {
    "duration": 14,
    "start_time": "2022-11-24T16:32:15.365Z"
   },
   {
    "duration": 1544,
    "start_time": "2022-11-24T16:32:22.096Z"
   },
   {
    "duration": 3811,
    "start_time": "2022-11-24T16:32:55.827Z"
   },
   {
    "duration": 3753,
    "start_time": "2022-11-24T16:34:05.966Z"
   },
   {
    "duration": 3717,
    "start_time": "2022-11-24T16:34:33.037Z"
   },
   {
    "duration": 359,
    "start_time": "2022-11-24T16:35:32.291Z"
   },
   {
    "duration": 3423,
    "start_time": "2022-11-24T16:40:45.726Z"
   },
   {
    "duration": 3571,
    "start_time": "2022-11-24T16:41:44.226Z"
   },
   {
    "duration": 117,
    "start_time": "2022-11-24T16:45:03.035Z"
   },
   {
    "duration": 2827,
    "start_time": "2022-11-24T16:46:17.726Z"
   },
   {
    "duration": 538,
    "start_time": "2022-11-24T16:49:26.137Z"
   },
   {
    "duration": 3017,
    "start_time": "2022-11-24T16:49:35.286Z"
   },
   {
    "duration": 2916,
    "start_time": "2022-11-24T16:49:57.806Z"
   },
   {
    "duration": 9,
    "start_time": "2022-11-24T16:55:39.586Z"
   },
   {
    "duration": 8,
    "start_time": "2022-11-24T16:55:47.346Z"
   },
   {
    "duration": 84,
    "start_time": "2022-11-24T16:56:30.368Z"
   },
   {
    "duration": 7,
    "start_time": "2022-11-24T16:56:53.617Z"
   },
   {
    "duration": 6,
    "start_time": "2022-11-24T16:56:58.887Z"
   },
   {
    "duration": 48,
    "start_time": "2022-11-24T16:57:35.016Z"
   },
   {
    "duration": 43,
    "start_time": "2022-11-24T16:58:06.729Z"
   },
   {
    "duration": 528,
    "start_time": "2022-11-24T16:58:23.577Z"
   },
   {
    "duration": 689,
    "start_time": "2022-11-24T16:58:45.868Z"
   },
   {
    "duration": 1186,
    "start_time": "2022-11-24T17:00:35.749Z"
   },
   {
    "duration": 6,
    "start_time": "2022-11-24T17:01:20.377Z"
   },
   {
    "duration": 4,
    "start_time": "2022-11-24T17:01:28.287Z"
   },
   {
    "duration": 32,
    "start_time": "2022-11-24T17:01:32.166Z"
   },
   {
    "duration": 6,
    "start_time": "2022-11-24T17:01:43.136Z"
   },
   {
    "duration": 503,
    "start_time": "2022-11-24T17:01:56.037Z"
   },
   {
    "duration": 1092,
    "start_time": "2022-11-24T17:02:04.269Z"
   },
   {
    "duration": 5,
    "start_time": "2022-11-24T17:02:50.756Z"
   },
   {
    "duration": 544,
    "start_time": "2022-11-24T17:02:52.573Z"
   },
   {
    "duration": 3542,
    "start_time": "2022-11-24T17:02:58.166Z"
   },
   {
    "duration": 19,
    "start_time": "2022-11-24T17:05:11.028Z"
   },
   {
    "duration": 19,
    "start_time": "2022-11-24T17:06:16.797Z"
   },
   {
    "duration": 3,
    "start_time": "2022-11-24T17:17:13.646Z"
   },
   {
    "duration": 5,
    "start_time": "2022-11-24T17:17:19.006Z"
   },
   {
    "duration": 526,
    "start_time": "2022-11-24T17:17:23.246Z"
   },
   {
    "duration": 3356,
    "start_time": "2022-11-24T17:18:22.538Z"
   },
   {
    "duration": 3,
    "start_time": "2022-11-24T17:19:08.877Z"
   },
   {
    "duration": 5,
    "start_time": "2022-11-24T17:19:12.746Z"
   },
   {
    "duration": 529,
    "start_time": "2022-11-24T17:19:15.196Z"
   },
   {
    "duration": 5893,
    "start_time": "2022-11-24T17:19:19.646Z"
   },
   {
    "duration": 10,
    "start_time": "2022-11-24T17:19:52.386Z"
   },
   {
    "duration": 462,
    "start_time": "2022-11-24T17:20:17.456Z"
   },
   {
    "duration": 164,
    "start_time": "2022-11-24T17:21:14.346Z"
   },
   {
    "duration": 56,
    "start_time": "2023-01-24T13:48:41.839Z"
   },
   {
    "duration": 40,
    "start_time": "2023-01-24T13:49:08.083Z"
   },
   {
    "duration": 1238,
    "start_time": "2023-01-24T13:54:20.589Z"
   },
   {
    "duration": 786,
    "start_time": "2023-01-24T13:54:21.829Z"
   },
   {
    "duration": 4,
    "start_time": "2023-01-24T13:54:22.617Z"
   },
   {
    "duration": 25,
    "start_time": "2023-01-24T13:54:22.623Z"
   },
   {
    "duration": 19,
    "start_time": "2023-01-24T13:54:22.649Z"
   },
   {
    "duration": 124,
    "start_time": "2023-01-24T13:54:22.669Z"
   },
   {
    "duration": 26,
    "start_time": "2023-01-24T13:54:22.794Z"
   },
   {
    "duration": 32,
    "start_time": "2023-01-24T13:54:22.822Z"
   },
   {
    "duration": 7,
    "start_time": "2023-01-24T13:54:22.856Z"
   },
   {
    "duration": 11,
    "start_time": "2023-01-24T13:54:22.867Z"
   },
   {
    "duration": 102,
    "start_time": "2023-01-24T13:54:22.880Z"
   },
   {
    "duration": 0,
    "start_time": "2023-01-24T13:54:22.984Z"
   },
   {
    "duration": 0,
    "start_time": "2023-01-24T13:54:22.986Z"
   },
   {
    "duration": 0,
    "start_time": "2023-01-24T13:54:22.987Z"
   },
   {
    "duration": 0,
    "start_time": "2023-01-24T13:54:22.988Z"
   },
   {
    "duration": 0,
    "start_time": "2023-01-24T13:54:22.989Z"
   },
   {
    "duration": 0,
    "start_time": "2023-01-24T13:54:22.990Z"
   },
   {
    "duration": 0,
    "start_time": "2023-01-24T13:54:22.991Z"
   },
   {
    "duration": 0,
    "start_time": "2023-01-24T13:54:22.992Z"
   },
   {
    "duration": 0,
    "start_time": "2023-01-24T13:54:22.993Z"
   },
   {
    "duration": 0,
    "start_time": "2023-01-24T13:54:22.993Z"
   },
   {
    "duration": 0,
    "start_time": "2023-01-24T13:54:22.995Z"
   },
   {
    "duration": 0,
    "start_time": "2023-01-24T13:54:22.996Z"
   },
   {
    "duration": 0,
    "start_time": "2023-01-24T13:54:22.997Z"
   },
   {
    "duration": 0,
    "start_time": "2023-01-24T13:54:22.998Z"
   },
   {
    "duration": 0,
    "start_time": "2023-01-24T13:54:22.999Z"
   },
   {
    "duration": 0,
    "start_time": "2023-01-24T13:54:23.000Z"
   },
   {
    "duration": 0,
    "start_time": "2023-01-24T13:54:23.001Z"
   },
   {
    "duration": 21,
    "start_time": "2023-01-24T13:54:33.384Z"
   },
   {
    "duration": 43,
    "start_time": "2023-01-24T13:54:36.565Z"
   },
   {
    "duration": 83,
    "start_time": "2023-01-24T13:54:37.183Z"
   },
   {
    "duration": 4,
    "start_time": "2023-01-24T13:54:37.691Z"
   },
   {
    "duration": 9,
    "start_time": "2023-01-24T13:54:38.227Z"
   },
   {
    "duration": 21,
    "start_time": "2023-01-24T13:54:39.425Z"
   },
   {
    "duration": 68,
    "start_time": "2023-01-24T13:54:39.979Z"
   },
   {
    "duration": 12,
    "start_time": "2023-01-24T13:54:40.488Z"
   },
   {
    "duration": 14,
    "start_time": "2023-01-24T13:54:45.553Z"
   },
   {
    "duration": 22,
    "start_time": "2023-01-24T13:54:52.687Z"
   },
   {
    "duration": 14,
    "start_time": "2023-01-24T13:54:55.074Z"
   },
   {
    "duration": 327,
    "start_time": "2023-01-24T13:55:23.327Z"
   },
   {
    "duration": 325,
    "start_time": "2023-01-24T13:55:26.424Z"
   },
   {
    "duration": 3,
    "start_time": "2023-01-24T13:56:34.402Z"
   },
   {
    "duration": 7649,
    "start_time": "2023-01-24T13:56:41.595Z"
   },
   {
    "duration": 26,
    "start_time": "2023-01-24T13:58:21.519Z"
   },
   {
    "duration": 879,
    "start_time": "2023-01-24T13:58:33.234Z"
   },
   {
    "duration": 4,
    "start_time": "2023-01-24T13:58:59.676Z"
   },
   {
    "duration": 513,
    "start_time": "2023-01-24T13:59:04.783Z"
   },
   {
    "duration": 1014,
    "start_time": "2023-01-24T15:20:06.086Z"
   },
   {
    "duration": 15,
    "start_time": "2023-01-24T15:30:15.481Z"
   },
   {
    "duration": 20,
    "start_time": "2023-01-24T15:30:22.365Z"
   },
   {
    "duration": 8,
    "start_time": "2023-01-24T15:31:29.561Z"
   },
   {
    "duration": 539,
    "start_time": "2023-01-24T15:31:52.953Z"
   },
   {
    "duration": 935,
    "start_time": "2023-01-24T15:34:01.855Z"
   },
   {
    "duration": 23,
    "start_time": "2023-01-24T15:34:17.837Z"
   },
   {
    "duration": 9,
    "start_time": "2023-01-24T15:34:49.658Z"
   },
   {
    "duration": 4,
    "start_time": "2023-01-24T15:35:16.920Z"
   },
   {
    "duration": 289,
    "start_time": "2023-01-24T15:35:21.496Z"
   },
   {
    "duration": 10,
    "start_time": "2023-01-24T15:35:35.772Z"
   },
   {
    "duration": 177,
    "start_time": "2023-01-24T15:35:39.361Z"
   },
   {
    "duration": 652,
    "start_time": "2023-01-24T15:36:39.089Z"
   },
   {
    "duration": 10,
    "start_time": "2023-01-24T15:37:20.604Z"
   },
   {
    "duration": 1293,
    "start_time": "2023-01-25T09:06:02.852Z"
   },
   {
    "duration": 613,
    "start_time": "2023-01-25T09:06:04.148Z"
   },
   {
    "duration": 3,
    "start_time": "2023-01-25T09:06:04.764Z"
   },
   {
    "duration": 32,
    "start_time": "2023-01-25T09:06:04.770Z"
   },
   {
    "duration": 19,
    "start_time": "2023-01-25T09:06:04.804Z"
   },
   {
    "duration": 137,
    "start_time": "2023-01-25T09:06:04.825Z"
   },
   {
    "duration": 21,
    "start_time": "2023-01-25T09:06:04.964Z"
   },
   {
    "duration": 26,
    "start_time": "2023-01-25T09:06:04.986Z"
   },
   {
    "duration": 13,
    "start_time": "2023-01-25T09:06:05.013Z"
   },
   {
    "duration": 3,
    "start_time": "2023-01-25T09:06:05.028Z"
   },
   {
    "duration": 48,
    "start_time": "2023-01-25T09:06:05.033Z"
   },
   {
    "duration": 55,
    "start_time": "2023-01-25T09:06:05.083Z"
   },
   {
    "duration": 104,
    "start_time": "2023-01-25T09:06:05.139Z"
   },
   {
    "duration": 5,
    "start_time": "2023-01-25T09:06:05.245Z"
   },
   {
    "duration": 23,
    "start_time": "2023-01-25T09:06:05.252Z"
   },
   {
    "duration": 29,
    "start_time": "2023-01-25T09:06:05.276Z"
   },
   {
    "duration": 12,
    "start_time": "2023-01-25T09:06:05.307Z"
   },
   {
    "duration": 34,
    "start_time": "2023-01-25T09:06:05.321Z"
   },
   {
    "duration": 14,
    "start_time": "2023-01-25T09:06:05.357Z"
   },
   {
    "duration": 354,
    "start_time": "2023-01-25T09:06:05.373Z"
   },
   {
    "duration": 320,
    "start_time": "2023-01-25T09:06:05.729Z"
   },
   {
    "duration": 4,
    "start_time": "2023-01-25T09:06:06.050Z"
   },
   {
    "duration": 7929,
    "start_time": "2023-01-25T09:06:06.056Z"
   },
   {
    "duration": 1307,
    "start_time": "2023-01-25T09:06:13.987Z"
   },
   {
    "duration": 32,
    "start_time": "2023-01-25T09:06:15.295Z"
   },
   {
    "duration": 852,
    "start_time": "2023-01-25T09:06:15.328Z"
   },
   {
    "duration": 22,
    "start_time": "2023-01-25T09:06:16.182Z"
   },
   {
    "duration": 4,
    "start_time": "2023-01-25T09:06:16.208Z"
   },
   {
    "duration": 523,
    "start_time": "2023-01-25T09:06:16.214Z"
   },
   {
    "duration": 997,
    "start_time": "2023-01-25T09:06:16.739Z"
   },
   {
    "duration": 26,
    "start_time": "2023-01-25T09:06:17.738Z"
   },
   {
    "duration": 330,
    "start_time": "2023-01-25T09:06:17.765Z"
   },
   {
    "duration": 189,
    "start_time": "2023-01-25T09:06:18.097Z"
   },
   {
    "duration": 742,
    "start_time": "2023-01-25T09:06:18.288Z"
   },
   {
    "duration": 11,
    "start_time": "2023-01-25T09:06:19.032Z"
   },
   {
    "duration": 5,
    "start_time": "2023-01-25T09:06:28.661Z"
   },
   {
    "duration": 4,
    "start_time": "2023-01-25T09:06:36.697Z"
   },
   {
    "duration": 7,
    "start_time": "2023-01-25T09:06:51.930Z"
   },
   {
    "duration": 8,
    "start_time": "2023-01-25T09:07:00.173Z"
   },
   {
    "duration": 56,
    "start_time": "2023-01-25T09:07:19.628Z"
   },
   {
    "duration": 5,
    "start_time": "2023-01-25T09:07:46.804Z"
   },
   {
    "duration": 390,
    "start_time": "2023-01-25T09:08:08.960Z"
   },
   {
    "duration": 2,
    "start_time": "2023-01-25T09:08:35.162Z"
   },
   {
    "duration": 73,
    "start_time": "2023-01-25T09:08:41.044Z"
   },
   {
    "duration": 20,
    "start_time": "2023-01-25T09:08:58.143Z"
   },
   {
    "duration": 10,
    "start_time": "2023-01-25T09:09:28.357Z"
   },
   {
    "duration": 29,
    "start_time": "2023-01-25T09:09:51.457Z"
   },
   {
    "duration": 10,
    "start_time": "2023-01-25T09:10:19.174Z"
   },
   {
    "duration": 5,
    "start_time": "2023-01-25T09:10:24.944Z"
   },
   {
    "duration": 1878,
    "start_time": "2023-01-26T16:48:29.909Z"
   },
   {
    "duration": 970,
    "start_time": "2023-01-26T16:48:31.790Z"
   },
   {
    "duration": 5,
    "start_time": "2023-01-26T16:48:32.763Z"
   },
   {
    "duration": 47,
    "start_time": "2023-01-26T16:48:32.770Z"
   },
   {
    "duration": 28,
    "start_time": "2023-01-26T16:48:32.823Z"
   },
   {
    "duration": 184,
    "start_time": "2023-01-26T16:48:32.854Z"
   },
   {
    "duration": 42,
    "start_time": "2023-01-26T16:48:33.046Z"
   },
   {
    "duration": 47,
    "start_time": "2023-01-26T16:48:33.091Z"
   },
   {
    "duration": 8,
    "start_time": "2023-01-26T16:48:33.143Z"
   },
   {
    "duration": 7,
    "start_time": "2023-01-26T16:48:33.153Z"
   },
   {
    "duration": 43,
    "start_time": "2023-01-26T16:48:33.161Z"
   },
   {
    "duration": 75,
    "start_time": "2023-01-26T16:48:33.206Z"
   },
   {
    "duration": 114,
    "start_time": "2023-01-26T16:48:33.283Z"
   },
   {
    "duration": 10,
    "start_time": "2023-01-26T16:48:33.401Z"
   },
   {
    "duration": 23,
    "start_time": "2023-01-26T16:48:33.413Z"
   },
   {
    "duration": 52,
    "start_time": "2023-01-26T16:48:33.438Z"
   },
   {
    "duration": 18,
    "start_time": "2023-01-26T16:48:33.492Z"
   },
   {
    "duration": 63,
    "start_time": "2023-01-26T16:48:33.512Z"
   },
   {
    "duration": 27,
    "start_time": "2023-01-26T16:48:33.577Z"
   },
   {
    "duration": 352,
    "start_time": "2023-01-26T16:48:33.606Z"
   },
   {
    "duration": 388,
    "start_time": "2023-01-26T16:48:33.959Z"
   },
   {
    "duration": 5,
    "start_time": "2023-01-26T16:48:34.353Z"
   },
   {
    "duration": 9128,
    "start_time": "2023-01-26T16:48:34.361Z"
   },
   {
    "duration": 1684,
    "start_time": "2023-01-26T16:48:43.490Z"
   },
   {
    "duration": 47,
    "start_time": "2023-01-26T16:48:45.177Z"
   },
   {
    "duration": 1029,
    "start_time": "2023-01-26T16:48:45.226Z"
   },
   {
    "duration": 25,
    "start_time": "2023-01-26T16:48:46.257Z"
   },
   {
    "duration": 5,
    "start_time": "2023-01-26T16:48:46.285Z"
   },
   {
    "duration": 775,
    "start_time": "2023-01-26T16:48:46.292Z"
   },
   {
    "duration": 946,
    "start_time": "2023-01-26T16:48:47.070Z"
   },
   {
    "duration": 31,
    "start_time": "2023-01-26T16:48:48.018Z"
   },
   {
    "duration": 429,
    "start_time": "2023-01-26T16:48:48.052Z"
   },
   {
    "duration": 232,
    "start_time": "2023-01-26T16:48:48.483Z"
   },
   {
    "duration": 948,
    "start_time": "2023-01-26T16:48:48.725Z"
   },
   {
    "duration": 13,
    "start_time": "2023-01-26T16:48:49.676Z"
   },
   {
    "duration": 7,
    "start_time": "2023-01-26T16:48:49.690Z"
   },
   {
    "duration": 25,
    "start_time": "2023-01-26T16:48:49.699Z"
   },
   {
    "duration": 34,
    "start_time": "2023-01-26T16:48:49.732Z"
   },
   {
    "duration": 13,
    "start_time": "2023-01-26T16:48:49.769Z"
   },
   {
    "duration": 63,
    "start_time": "2023-01-26T16:48:49.784Z"
   },
   {
    "duration": 6,
    "start_time": "2023-01-26T16:48:49.852Z"
   },
   {
    "duration": 98,
    "start_time": "2023-01-26T16:48:49.860Z"
   },
   {
    "duration": 21,
    "start_time": "2023-01-26T16:48:49.960Z"
   },
   {
    "duration": 12,
    "start_time": "2023-01-26T16:48:49.984Z"
   },
   {
    "duration": 49,
    "start_time": "2023-01-26T16:48:49.998Z"
   },
   {
    "duration": 7,
    "start_time": "2023-01-26T16:48:50.049Z"
   },
   {
    "duration": 15,
    "start_time": "2023-01-26T16:49:36.714Z"
   },
   {
    "duration": 6,
    "start_time": "2023-01-26T16:49:45.552Z"
   },
   {
    "duration": 4,
    "start_time": "2023-01-26T16:49:53.780Z"
   },
   {
    "duration": 435,
    "start_time": "2023-01-26T16:50:14.781Z"
   },
   {
    "duration": 115,
    "start_time": "2023-01-26T16:50:24.167Z"
   },
   {
    "duration": 21,
    "start_time": "2023-01-26T16:50:31.976Z"
   },
   {
    "duration": 24,
    "start_time": "2023-01-26T16:51:18.154Z"
   },
   {
    "duration": 278,
    "start_time": "2023-01-26T16:51:45.489Z"
   },
   {
    "duration": 31,
    "start_time": "2023-01-26T16:51:53.807Z"
   },
   {
    "duration": 33,
    "start_time": "2023-01-26T16:52:05.197Z"
   },
   {
    "duration": 198,
    "start_time": "2023-01-26T16:52:12.856Z"
   },
   {
    "duration": 63,
    "start_time": "2023-01-26T16:52:20.708Z"
   },
   {
    "duration": 31,
    "start_time": "2023-01-26T16:52:44.322Z"
   },
   {
    "duration": 307,
    "start_time": "2023-01-26T16:52:58.968Z"
   },
   {
    "duration": 137,
    "start_time": "2023-01-26T16:53:04.422Z"
   },
   {
    "duration": 46,
    "start_time": "2023-01-26T16:53:18.448Z"
   },
   {
    "duration": 29,
    "start_time": "2023-01-26T16:53:25.243Z"
   },
   {
    "duration": 109,
    "start_time": "2023-01-26T16:53:31.166Z"
   },
   {
    "duration": 3,
    "start_time": "2023-01-26T16:54:12.465Z"
   },
   {
    "duration": 11,
    "start_time": "2023-01-26T16:54:18.042Z"
   },
   {
    "duration": 742869,
    "start_time": "2023-01-26T16:54:31.280Z"
   },
   {
    "duration": 5,
    "start_time": "2023-01-26T17:13:25.362Z"
   },
   {
    "duration": 18,
    "start_time": "2023-01-26T17:13:34.306Z"
   },
   {
    "duration": 13,
    "start_time": "2023-01-26T17:13:57.866Z"
   },
   {
    "duration": 4,
    "start_time": "2023-01-26T17:14:03.983Z"
   },
   {
    "duration": 4,
    "start_time": "2023-01-26T17:14:16.253Z"
   },
   {
    "duration": 187935,
    "start_time": "2023-01-26T17:14:21.977Z"
   },
   {
    "duration": 1557,
    "start_time": "2023-01-28T14:51:10.963Z"
   },
   {
    "duration": 1174,
    "start_time": "2023-01-28T14:51:12.522Z"
   },
   {
    "duration": 3,
    "start_time": "2023-01-28T14:51:13.698Z"
   },
   {
    "duration": 40,
    "start_time": "2023-01-28T14:51:13.704Z"
   },
   {
    "duration": 21,
    "start_time": "2023-01-28T14:51:13.746Z"
   },
   {
    "duration": 140,
    "start_time": "2023-01-28T14:51:13.769Z"
   },
   {
    "duration": 21,
    "start_time": "2023-01-28T14:51:13.911Z"
   },
   {
    "duration": 15,
    "start_time": "2023-01-28T14:51:13.934Z"
   },
   {
    "duration": 26,
    "start_time": "2023-01-28T14:51:13.950Z"
   },
   {
    "duration": 11,
    "start_time": "2023-01-28T14:51:13.979Z"
   },
   {
    "duration": 54,
    "start_time": "2023-01-28T14:51:13.992Z"
   },
   {
    "duration": 43,
    "start_time": "2023-01-28T14:51:14.048Z"
   },
   {
    "duration": 96,
    "start_time": "2023-01-28T14:51:14.093Z"
   },
   {
    "duration": 4,
    "start_time": "2023-01-28T14:51:14.190Z"
   },
   {
    "duration": 28,
    "start_time": "2023-01-28T14:51:14.195Z"
   },
   {
    "duration": 47,
    "start_time": "2023-01-28T14:51:14.225Z"
   },
   {
    "duration": 21,
    "start_time": "2023-01-28T14:51:14.273Z"
   },
   {
    "duration": 43,
    "start_time": "2023-01-28T14:51:14.295Z"
   },
   {
    "duration": 36,
    "start_time": "2023-01-28T14:51:14.340Z"
   },
   {
    "duration": 316,
    "start_time": "2023-01-28T14:51:14.377Z"
   },
   {
    "duration": 306,
    "start_time": "2023-01-28T14:51:14.694Z"
   },
   {
    "duration": 3,
    "start_time": "2023-01-28T14:51:15.001Z"
   },
   {
    "duration": 7820,
    "start_time": "2023-01-28T14:51:15.006Z"
   },
   {
    "duration": 1226,
    "start_time": "2023-01-28T14:51:22.828Z"
   },
   {
    "duration": 42,
    "start_time": "2023-01-28T14:51:24.056Z"
   },
   {
    "duration": 895,
    "start_time": "2023-01-28T14:51:24.101Z"
   },
   {
    "duration": 18,
    "start_time": "2023-01-28T14:51:24.998Z"
   },
   {
    "duration": 5,
    "start_time": "2023-01-28T14:51:25.021Z"
   },
   {
    "duration": 696,
    "start_time": "2023-01-28T14:51:25.027Z"
   },
   {
    "duration": 954,
    "start_time": "2023-01-28T14:51:25.725Z"
   },
   {
    "duration": 20,
    "start_time": "2023-01-28T14:51:26.681Z"
   },
   {
    "duration": 283,
    "start_time": "2023-01-28T14:51:26.702Z"
   },
   {
    "duration": 212,
    "start_time": "2023-01-28T14:51:26.987Z"
   },
   {
    "duration": 766,
    "start_time": "2023-01-28T14:51:27.201Z"
   },
   {
    "duration": 15,
    "start_time": "2023-01-28T14:51:27.969Z"
   },
   {
    "duration": 17,
    "start_time": "2023-01-28T14:51:27.986Z"
   },
   {
    "duration": 13,
    "start_time": "2023-01-28T14:51:28.005Z"
   },
   {
    "duration": 19,
    "start_time": "2023-01-28T14:51:28.020Z"
   },
   {
    "duration": 11,
    "start_time": "2023-01-28T14:51:28.041Z"
   },
   {
    "duration": 59,
    "start_time": "2023-01-28T14:51:28.054Z"
   },
   {
    "duration": 5,
    "start_time": "2023-01-28T14:51:28.116Z"
   },
   {
    "duration": 81,
    "start_time": "2023-01-28T14:51:28.123Z"
   },
   {
    "duration": 19,
    "start_time": "2023-01-28T14:51:28.206Z"
   },
   {
    "duration": 10,
    "start_time": "2023-01-28T14:51:28.226Z"
   },
   {
    "duration": 45,
    "start_time": "2023-01-28T14:51:28.237Z"
   },
   {
    "duration": 4,
    "start_time": "2023-01-28T14:51:28.284Z"
   },
   {
    "duration": 15,
    "start_time": "2023-01-28T14:51:28.290Z"
   },
   {
    "duration": 7,
    "start_time": "2023-01-28T14:51:28.306Z"
   },
   {
    "duration": 6,
    "start_time": "2023-01-28T14:51:28.314Z"
   },
   {
    "duration": 215,
    "start_time": "2023-01-28T14:51:28.321Z"
   },
   {
    "duration": 14,
    "start_time": "2023-01-28T14:51:28.538Z"
   },
   {
    "duration": 192,
    "start_time": "2023-01-28T14:51:28.554Z"
   },
   {
    "duration": 23,
    "start_time": "2023-01-28T14:51:28.747Z"
   },
   {
    "duration": 35,
    "start_time": "2023-01-28T14:51:28.771Z"
   },
   {
    "duration": 197,
    "start_time": "2023-01-28T14:51:28.808Z"
   },
   {
    "duration": 106,
    "start_time": "2023-01-28T14:51:29.006Z"
   },
   {
    "duration": 24,
    "start_time": "2023-01-28T14:51:29.114Z"
   },
   {
    "duration": 26,
    "start_time": "2023-01-28T14:51:29.139Z"
   },
   {
    "duration": 115,
    "start_time": "2023-01-28T14:51:29.167Z"
   },
   {
    "duration": 2,
    "start_time": "2023-01-28T14:51:29.284Z"
   },
   {
    "duration": 10,
    "start_time": "2023-01-28T14:51:29.288Z"
   },
   {
    "duration": 650586,
    "start_time": "2023-01-28T14:51:29.299Z"
   },
   {
    "duration": 8,
    "start_time": "2023-01-28T15:02:19.889Z"
   },
   {
    "duration": 22,
    "start_time": "2023-01-28T15:02:19.899Z"
   },
   {
    "duration": 9,
    "start_time": "2023-01-28T15:02:19.924Z"
   },
   {
    "duration": 150555,
    "start_time": "2023-01-28T15:02:19.936Z"
   },
   {
    "duration": 205,
    "start_time": "2023-01-28T15:13:22.777Z"
   },
   {
    "duration": 4,
    "start_time": "2023-01-28T15:13:57.681Z"
   },
   {
    "duration": 1004,
    "start_time": "2023-01-28T15:14:05.027Z"
   },
   {
    "duration": 53672,
    "start_time": "2023-01-28T15:14:35.758Z"
   },
   {
    "duration": 4,
    "start_time": "2023-01-28T15:16:49.824Z"
   },
   {
    "duration": 5,
    "start_time": "2023-01-28T15:19:01.745Z"
   },
   {
    "duration": 56,
    "start_time": "2023-01-28T15:19:17.726Z"
   },
   {
    "duration": 12003,
    "start_time": "2023-01-28T15:19:27.127Z"
   },
   {
    "duration": 3041,
    "start_time": "2023-01-28T15:23:05.954Z"
   },
   {
    "duration": 4,
    "start_time": "2023-01-28T15:23:37.970Z"
   },
   {
    "duration": 2963,
    "start_time": "2023-01-28T15:23:44.987Z"
   },
   {
    "duration": 10,
    "start_time": "2023-01-28T15:25:43.257Z"
   },
   {
    "duration": 607,
    "start_time": "2023-01-28T15:25:55.368Z"
   },
   {
    "duration": 21,
    "start_time": "2023-01-28T15:26:10.317Z"
   },
   {
    "duration": 510,
    "start_time": "2023-01-28T15:27:34.774Z"
   },
   {
    "duration": 429,
    "start_time": "2023-01-28T15:27:54.797Z"
   },
   {
    "duration": 19,
    "start_time": "2023-01-28T15:39:52.487Z"
   },
   {
    "duration": 6,
    "start_time": "2023-01-28T15:40:17.734Z"
   },
   {
    "duration": 14,
    "start_time": "2023-01-28T15:41:52.858Z"
   },
   {
    "duration": 10,
    "start_time": "2023-01-28T15:41:59.803Z"
   },
   {
    "duration": 5,
    "start_time": "2023-01-28T15:42:05.525Z"
   },
   {
    "duration": 29,
    "start_time": "2023-01-28T15:44:30.704Z"
   },
   {
    "duration": 15,
    "start_time": "2023-01-28T15:46:35.891Z"
   },
   {
    "duration": 9,
    "start_time": "2023-01-28T15:47:00.189Z"
   },
   {
    "duration": 13,
    "start_time": "2023-01-28T15:47:09.095Z"
   },
   {
    "duration": 49,
    "start_time": "2023-01-28T15:47:45.193Z"
   },
   {
    "duration": 10,
    "start_time": "2023-01-28T15:47:57.579Z"
   },
   {
    "duration": 22,
    "start_time": "2023-01-28T15:49:31.456Z"
   },
   {
    "duration": 22,
    "start_time": "2023-01-28T15:49:36.450Z"
   },
   {
    "duration": 10,
    "start_time": "2023-01-28T15:50:49.624Z"
   },
   {
    "duration": 21,
    "start_time": "2023-01-28T15:50:52.763Z"
   },
   {
    "duration": 9,
    "start_time": "2023-01-28T15:51:19.012Z"
   },
   {
    "duration": 17,
    "start_time": "2023-01-28T15:51:26.071Z"
   },
   {
    "duration": 15,
    "start_time": "2023-01-28T15:52:12.581Z"
   },
   {
    "duration": 18,
    "start_time": "2023-01-28T15:52:57.970Z"
   },
   {
    "duration": 11,
    "start_time": "2023-01-28T15:53:14.925Z"
   },
   {
    "duration": 8,
    "start_time": "2023-01-28T15:53:21.671Z"
   },
   {
    "duration": 17,
    "start_time": "2023-01-28T15:55:18.600Z"
   },
   {
    "duration": 22,
    "start_time": "2023-01-28T15:55:22.830Z"
   },
   {
    "duration": 46,
    "start_time": "2023-01-28T15:57:29.497Z"
   },
   {
    "duration": 17,
    "start_time": "2023-01-28T15:58:28.359Z"
   },
   {
    "duration": 21,
    "start_time": "2023-01-28T15:58:33.003Z"
   },
   {
    "duration": 16,
    "start_time": "2023-01-28T16:17:12.745Z"
   },
   {
    "duration": 34,
    "start_time": "2023-01-28T16:17:21.125Z"
   },
   {
    "duration": 777,
    "start_time": "2023-01-28T16:18:13.130Z"
   },
   {
    "duration": 749,
    "start_time": "2023-01-28T16:18:26.589Z"
   },
   {
    "duration": 5,
    "start_time": "2023-01-28T16:19:22.073Z"
   },
   {
    "duration": 60,
    "start_time": "2023-01-28T16:21:30.556Z"
   },
   {
    "duration": 53,
    "start_time": "2023-01-28T16:21:33.908Z"
   },
   {
    "duration": 4,
    "start_time": "2023-01-28T16:21:38.042Z"
   },
   {
    "duration": 739,
    "start_time": "2023-01-28T16:22:06.222Z"
   },
   {
    "duration": 5,
    "start_time": "2023-01-28T16:22:08.283Z"
   },
   {
    "duration": 665,
    "start_time": "2023-01-28T16:24:40.722Z"
   },
   {
    "duration": 5,
    "start_time": "2023-01-28T16:24:45.105Z"
   },
   {
    "duration": 714,
    "start_time": "2023-01-28T16:26:40.952Z"
   },
   {
    "duration": 37,
    "start_time": "2023-01-28T16:27:32.568Z"
   },
   {
    "duration": 34,
    "start_time": "2023-01-28T16:28:35.378Z"
   },
   {
    "duration": 706,
    "start_time": "2023-01-28T16:29:15.708Z"
   },
   {
    "duration": 4,
    "start_time": "2023-01-28T16:29:18.084Z"
   },
   {
    "duration": 44,
    "start_time": "2023-01-28T16:30:52.135Z"
   },
   {
    "duration": 41,
    "start_time": "2023-01-28T16:31:25.200Z"
   },
   {
    "duration": 52,
    "start_time": "2023-01-28T16:31:41.246Z"
   },
   {
    "duration": 63,
    "start_time": "2023-01-28T16:31:46.074Z"
   },
   {
    "duration": 64,
    "start_time": "2023-01-28T16:31:49.567Z"
   },
   {
    "duration": 719,
    "start_time": "2023-01-28T16:32:13.322Z"
   },
   {
    "duration": 7,
    "start_time": "2023-01-28T16:35:23.817Z"
   },
   {
    "duration": 8,
    "start_time": "2023-01-28T16:35:48.903Z"
   },
   {
    "duration": 6,
    "start_time": "2023-01-28T16:36:05.311Z"
   },
   {
    "duration": 665,
    "start_time": "2023-01-28T16:36:26.452Z"
   },
   {
    "duration": 43,
    "start_time": "2023-01-28T16:36:28.174Z"
   },
   {
    "duration": 6,
    "start_time": "2023-01-28T16:36:31.403Z"
   },
   {
    "duration": 1826,
    "start_time": "2023-01-29T15:04:29.179Z"
   },
   {
    "duration": 1009,
    "start_time": "2023-01-29T15:04:31.009Z"
   },
   {
    "duration": 5,
    "start_time": "2023-01-29T15:04:32.020Z"
   },
   {
    "duration": 83,
    "start_time": "2023-01-29T15:04:32.027Z"
   },
   {
    "duration": 26,
    "start_time": "2023-01-29T15:04:32.113Z"
   },
   {
    "duration": 230,
    "start_time": "2023-01-29T15:04:32.141Z"
   },
   {
    "duration": 45,
    "start_time": "2023-01-29T15:04:32.384Z"
   },
   {
    "duration": 53,
    "start_time": "2023-01-29T15:04:32.431Z"
   },
   {
    "duration": 9,
    "start_time": "2023-01-29T15:04:32.486Z"
   },
   {
    "duration": 5,
    "start_time": "2023-01-29T15:04:32.497Z"
   },
   {
    "duration": 34,
    "start_time": "2023-01-29T15:04:32.505Z"
   },
   {
    "duration": 86,
    "start_time": "2023-01-29T15:04:32.541Z"
   },
   {
    "duration": 110,
    "start_time": "2023-01-29T15:04:32.630Z"
   },
   {
    "duration": 16,
    "start_time": "2023-01-29T15:04:32.751Z"
   },
   {
    "duration": 14,
    "start_time": "2023-01-29T15:04:32.769Z"
   },
   {
    "duration": 20,
    "start_time": "2023-01-29T15:04:32.785Z"
   },
   {
    "duration": 15,
    "start_time": "2023-01-29T15:04:32.806Z"
   },
   {
    "duration": 37,
    "start_time": "2023-01-29T15:04:32.822Z"
   },
   {
    "duration": 14,
    "start_time": "2023-01-29T15:04:32.866Z"
   },
   {
    "duration": 385,
    "start_time": "2023-01-29T15:04:32.882Z"
   },
   {
    "duration": 362,
    "start_time": "2023-01-29T15:04:33.273Z"
   },
   {
    "duration": 22,
    "start_time": "2023-01-29T15:04:33.637Z"
   },
   {
    "duration": 8644,
    "start_time": "2023-01-29T15:04:33.664Z"
   },
   {
    "duration": 1190,
    "start_time": "2023-01-29T15:04:42.310Z"
   },
   {
    "duration": 50,
    "start_time": "2023-01-29T15:04:43.502Z"
   },
   {
    "duration": 953,
    "start_time": "2023-01-29T15:04:43.554Z"
   },
   {
    "duration": 18,
    "start_time": "2023-01-29T15:04:44.509Z"
   },
   {
    "duration": 5,
    "start_time": "2023-01-29T15:04:44.528Z"
   },
   {
    "duration": 718,
    "start_time": "2023-01-29T15:04:44.551Z"
   },
   {
    "duration": 945,
    "start_time": "2023-01-29T15:04:45.271Z"
   },
   {
    "duration": 33,
    "start_time": "2023-01-29T15:04:46.219Z"
   },
   {
    "duration": 415,
    "start_time": "2023-01-29T15:04:46.256Z"
   },
   {
    "duration": 257,
    "start_time": "2023-01-29T15:04:46.681Z"
   },
   {
    "duration": 962,
    "start_time": "2023-01-29T15:04:46.941Z"
   },
   {
    "duration": 12,
    "start_time": "2023-01-29T15:04:47.904Z"
   },
   {
    "duration": 7,
    "start_time": "2023-01-29T15:04:47.917Z"
   },
   {
    "duration": 7,
    "start_time": "2023-01-29T15:04:47.925Z"
   },
   {
    "duration": 29,
    "start_time": "2023-01-29T15:04:47.934Z"
   },
   {
    "duration": 9,
    "start_time": "2023-01-29T15:04:47.965Z"
   },
   {
    "duration": 53,
    "start_time": "2023-01-29T15:04:47.975Z"
   },
   {
    "duration": 5,
    "start_time": "2023-01-29T15:04:48.034Z"
   },
   {
    "duration": 69,
    "start_time": "2023-01-29T15:04:48.057Z"
   },
   {
    "duration": 27,
    "start_time": "2023-01-29T15:04:48.128Z"
   },
   {
    "duration": 13,
    "start_time": "2023-01-29T15:04:48.163Z"
   },
   {
    "duration": 24,
    "start_time": "2023-01-29T15:04:48.178Z"
   },
   {
    "duration": 4,
    "start_time": "2023-01-29T15:04:48.204Z"
   },
   {
    "duration": 14,
    "start_time": "2023-01-29T15:04:48.210Z"
   },
   {
    "duration": 33,
    "start_time": "2023-01-29T15:04:48.226Z"
   },
   {
    "duration": 19,
    "start_time": "2023-01-29T15:04:48.260Z"
   },
   {
    "duration": 258,
    "start_time": "2023-01-29T15:04:48.281Z"
   },
   {
    "duration": 27,
    "start_time": "2023-01-29T15:04:48.541Z"
   },
   {
    "duration": 221,
    "start_time": "2023-01-29T15:04:48.569Z"
   },
   {
    "duration": 28,
    "start_time": "2023-01-29T15:04:48.792Z"
   },
   {
    "duration": 49,
    "start_time": "2023-01-29T15:04:48.822Z"
   },
   {
    "duration": 196,
    "start_time": "2023-01-29T15:04:48.873Z"
   },
   {
    "duration": 142,
    "start_time": "2023-01-29T15:04:49.071Z"
   },
   {
    "duration": 25,
    "start_time": "2023-01-29T15:04:49.214Z"
   },
   {
    "duration": 69,
    "start_time": "2023-01-29T15:04:49.249Z"
   },
   {
    "duration": 108,
    "start_time": "2023-01-29T15:04:49.319Z"
   },
   {
    "duration": 3,
    "start_time": "2023-01-29T15:04:49.429Z"
   },
   {
    "duration": 10,
    "start_time": "2023-01-29T15:04:49.433Z"
   },
   {
    "duration": 687360,
    "start_time": "2023-01-29T15:04:49.444Z"
   },
   {
    "duration": 4,
    "start_time": "2023-01-29T15:16:16.806Z"
   },
   {
    "duration": 6,
    "start_time": "2023-01-29T15:16:16.811Z"
   },
   {
    "duration": 10,
    "start_time": "2023-01-29T15:16:16.818Z"
   },
   {
    "duration": 135438,
    "start_time": "2023-01-29T15:16:16.829Z"
   },
   {
    "duration": 5,
    "start_time": "2023-01-29T15:18:32.269Z"
   },
   {
    "duration": 51924,
    "start_time": "2023-01-29T15:18:32.275Z"
   },
   {
    "duration": 11842,
    "start_time": "2023-01-29T15:19:24.201Z"
   },
   {
    "duration": 3029,
    "start_time": "2023-01-29T15:19:36.045Z"
   },
   {
    "duration": 410,
    "start_time": "2023-01-29T15:19:39.076Z"
   },
   {
    "duration": 3,
    "start_time": "2023-01-29T15:19:39.488Z"
   },
   {
    "duration": 12,
    "start_time": "2023-01-29T15:19:39.493Z"
   },
   {
    "duration": 24,
    "start_time": "2023-01-29T15:19:39.507Z"
   },
   {
    "duration": 31,
    "start_time": "2023-01-29T15:19:39.532Z"
   },
   {
    "duration": 638,
    "start_time": "2023-01-29T15:19:39.565Z"
   },
   {
    "duration": 44,
    "start_time": "2023-01-29T15:19:40.204Z"
   },
   {
    "duration": 17,
    "start_time": "2023-01-29T15:19:40.252Z"
   },
   {
    "duration": 48,
    "start_time": "2023-01-29T15:22:28.573Z"
   },
   {
    "duration": 11,
    "start_time": "2023-01-29T15:22:35.924Z"
   },
   {
    "duration": 27,
    "start_time": "2023-01-29T15:22:39.853Z"
   },
   {
    "duration": 895,
    "start_time": "2023-01-29T15:24:08.885Z"
   },
   {
    "duration": 65,
    "start_time": "2023-01-29T15:24:10.593Z"
   },
   {
    "duration": 31,
    "start_time": "2023-01-29T15:24:13.476Z"
   },
   {
    "duration": 76,
    "start_time": "2023-01-29T15:25:14.004Z"
   },
   {
    "duration": 11,
    "start_time": "2023-01-29T15:25:20.377Z"
   },
   {
    "duration": 10,
    "start_time": "2023-01-29T15:25:41.593Z"
   },
   {
    "duration": 20,
    "start_time": "2023-01-29T15:26:12.145Z"
   },
   {
    "duration": 92,
    "start_time": "2023-01-29T15:26:25.804Z"
   },
   {
    "duration": 1674,
    "start_time": "2023-01-29T15:26:35.370Z"
   },
   {
    "duration": 1048,
    "start_time": "2023-01-29T15:26:37.046Z"
   },
   {
    "duration": 4,
    "start_time": "2023-01-29T15:26:38.097Z"
   },
   {
    "duration": 36,
    "start_time": "2023-01-29T15:26:38.103Z"
   },
   {
    "duration": 33,
    "start_time": "2023-01-29T15:26:38.143Z"
   },
   {
    "duration": 150,
    "start_time": "2023-01-29T15:26:38.177Z"
   },
   {
    "duration": 50,
    "start_time": "2023-01-29T15:26:38.328Z"
   },
   {
    "duration": 23,
    "start_time": "2023-01-29T15:26:38.380Z"
   },
   {
    "duration": 8,
    "start_time": "2023-01-29T15:26:38.407Z"
   },
   {
    "duration": 15,
    "start_time": "2023-01-29T15:26:38.417Z"
   },
   {
    "duration": 51,
    "start_time": "2023-01-29T15:26:38.434Z"
   },
   {
    "duration": 92,
    "start_time": "2023-01-29T15:26:38.487Z"
   },
   {
    "duration": 102,
    "start_time": "2023-01-29T15:26:38.582Z"
   },
   {
    "duration": 6,
    "start_time": "2023-01-29T15:26:38.690Z"
   },
   {
    "duration": 17,
    "start_time": "2023-01-29T15:26:38.698Z"
   },
   {
    "duration": 52,
    "start_time": "2023-01-29T15:26:38.717Z"
   },
   {
    "duration": 21,
    "start_time": "2023-01-29T15:26:38.771Z"
   },
   {
    "duration": 41,
    "start_time": "2023-01-29T15:26:38.794Z"
   },
   {
    "duration": 26,
    "start_time": "2023-01-29T15:26:38.837Z"
   },
   {
    "duration": 360,
    "start_time": "2023-01-29T15:26:38.873Z"
   },
   {
    "duration": 347,
    "start_time": "2023-01-29T15:26:39.235Z"
   },
   {
    "duration": 4,
    "start_time": "2023-01-29T15:26:39.583Z"
   },
   {
    "duration": 9702,
    "start_time": "2023-01-29T15:26:39.588Z"
   },
   {
    "duration": 1422,
    "start_time": "2023-01-29T15:26:49.292Z"
   },
   {
    "duration": 41,
    "start_time": "2023-01-29T15:26:50.716Z"
   },
   {
    "duration": 1046,
    "start_time": "2023-01-29T15:26:50.759Z"
   },
   {
    "duration": 21,
    "start_time": "2023-01-29T15:26:51.807Z"
   },
   {
    "duration": 5,
    "start_time": "2023-01-29T15:26:51.830Z"
   },
   {
    "duration": 780,
    "start_time": "2023-01-29T15:26:51.837Z"
   },
   {
    "duration": 1029,
    "start_time": "2023-01-29T15:26:52.618Z"
   },
   {
    "duration": 31,
    "start_time": "2023-01-29T15:26:53.649Z"
   },
   {
    "duration": 406,
    "start_time": "2023-01-29T15:26:53.682Z"
   },
   {
    "duration": 223,
    "start_time": "2023-01-29T15:26:54.089Z"
   },
   {
    "duration": 956,
    "start_time": "2023-01-29T15:26:54.313Z"
   },
   {
    "duration": 19,
    "start_time": "2023-01-29T15:26:55.272Z"
   },
   {
    "duration": 21,
    "start_time": "2023-01-29T15:26:55.297Z"
   },
   {
    "duration": 12,
    "start_time": "2023-01-29T15:26:55.320Z"
   },
   {
    "duration": 11,
    "start_time": "2023-01-29T15:26:55.334Z"
   },
   {
    "duration": 59,
    "start_time": "2023-01-29T15:26:55.347Z"
   },
   {
    "duration": 114,
    "start_time": "2023-01-29T15:26:55.408Z"
   },
   {
    "duration": 5,
    "start_time": "2023-01-29T15:26:55.528Z"
   },
   {
    "duration": 106,
    "start_time": "2023-01-29T15:26:55.535Z"
   },
   {
    "duration": 25,
    "start_time": "2023-01-29T15:26:55.643Z"
   },
   {
    "duration": 36,
    "start_time": "2023-01-29T15:26:55.670Z"
   },
   {
    "duration": 28,
    "start_time": "2023-01-29T15:26:55.708Z"
   },
   {
    "duration": 7,
    "start_time": "2023-01-29T15:26:55.737Z"
   },
   {
    "duration": 57,
    "start_time": "2023-01-29T15:26:55.746Z"
   },
   {
    "duration": 5,
    "start_time": "2023-01-29T15:26:55.805Z"
   },
   {
    "duration": 22,
    "start_time": "2023-01-29T15:26:55.812Z"
   },
   {
    "duration": 340,
    "start_time": "2023-01-29T15:26:55.836Z"
   },
   {
    "duration": 22,
    "start_time": "2023-01-29T15:26:56.178Z"
   },
   {
    "duration": 321,
    "start_time": "2023-01-29T15:26:56.202Z"
   },
   {
    "duration": 35,
    "start_time": "2023-01-29T15:26:56.524Z"
   },
   {
    "duration": 63,
    "start_time": "2023-01-29T15:26:56.560Z"
   },
   {
    "duration": 217,
    "start_time": "2023-01-29T15:26:56.627Z"
   },
   {
    "duration": 144,
    "start_time": "2023-01-29T15:26:56.846Z"
   },
   {
    "duration": 22,
    "start_time": "2023-01-29T15:26:56.992Z"
   },
   {
    "duration": 35,
    "start_time": "2023-01-29T15:26:57.016Z"
   },
   {
    "duration": 135,
    "start_time": "2023-01-29T15:26:57.052Z"
   },
   {
    "duration": 4,
    "start_time": "2023-01-29T15:26:57.189Z"
   },
   {
    "duration": 13,
    "start_time": "2023-01-29T15:26:57.195Z"
   },
   {
    "duration": 727950,
    "start_time": "2023-01-29T15:26:57.210Z"
   },
   {
    "duration": 4,
    "start_time": "2023-01-29T15:39:05.164Z"
   },
   {
    "duration": 6,
    "start_time": "2023-01-29T15:39:05.170Z"
   },
   {
    "duration": 5,
    "start_time": "2023-01-29T15:39:05.178Z"
   },
   {
    "duration": 132333,
    "start_time": "2023-01-29T15:39:05.185Z"
   },
   {
    "duration": 4,
    "start_time": "2023-01-29T15:41:17.519Z"
   },
   {
    "duration": 52647,
    "start_time": "2023-01-29T15:41:17.525Z"
   },
   {
    "duration": 12436,
    "start_time": "2023-01-29T15:42:10.174Z"
   },
   {
    "duration": 3207,
    "start_time": "2023-01-29T15:42:22.612Z"
   },
   {
    "duration": 424,
    "start_time": "2023-01-29T15:42:25.821Z"
   },
   {
    "duration": 18,
    "start_time": "2023-01-29T15:42:26.249Z"
   },
   {
    "duration": 14,
    "start_time": "2023-01-29T15:42:26.268Z"
   },
   {
    "duration": 22,
    "start_time": "2023-01-29T15:42:26.284Z"
   },
   {
    "duration": 25,
    "start_time": "2023-01-29T15:42:26.308Z"
   },
   {
    "duration": 782,
    "start_time": "2023-01-29T15:42:26.335Z"
   },
   {
    "duration": 56,
    "start_time": "2023-01-29T15:42:27.119Z"
   },
   {
    "duration": 8,
    "start_time": "2023-01-29T15:42:27.177Z"
   },
   {
    "duration": 668,
    "start_time": "2023-01-29T15:44:53.127Z"
   },
   {
    "duration": 44,
    "start_time": "2023-01-29T15:44:55.374Z"
   },
   {
    "duration": 9,
    "start_time": "2023-01-29T15:45:13.938Z"
   },
   {
    "duration": 44,
    "start_time": "2023-01-29T15:45:39.268Z"
   },
   {
    "duration": 8,
    "start_time": "2023-01-29T15:45:43.296Z"
   },
   {
    "duration": 40,
    "start_time": "2023-01-29T15:46:11.475Z"
   },
   {
    "duration": 11,
    "start_time": "2023-01-29T15:46:18.896Z"
   },
   {
    "duration": 12,
    "start_time": "2023-01-29T15:46:45.576Z"
   },
   {
    "duration": 43,
    "start_time": "2023-01-29T15:48:14.382Z"
   },
   {
    "duration": 11,
    "start_time": "2023-01-29T15:48:17.755Z"
   },
   {
    "duration": 50,
    "start_time": "2023-01-29T15:49:41.701Z"
   },
   {
    "duration": 834,
    "start_time": "2023-01-29T15:50:32.293Z"
   },
   {
    "duration": 69,
    "start_time": "2023-01-29T15:50:46.310Z"
   },
   {
    "duration": 653,
    "start_time": "2023-01-29T15:50:52.306Z"
   },
   {
    "duration": 55,
    "start_time": "2023-01-29T15:51:13.544Z"
   },
   {
    "duration": 4,
    "start_time": "2023-01-29T15:51:17.691Z"
   },
   {
    "duration": 714,
    "start_time": "2023-01-29T15:51:35.014Z"
   },
   {
    "duration": 679,
    "start_time": "2023-01-29T15:51:45.434Z"
   },
   {
    "duration": 5,
    "start_time": "2023-01-29T15:51:47.633Z"
   },
   {
    "duration": 684,
    "start_time": "2023-01-29T15:52:07.637Z"
   },
   {
    "duration": 12,
    "start_time": "2023-01-29T15:52:17.018Z"
   },
   {
    "duration": 5,
    "start_time": "2023-01-29T15:53:16.575Z"
   },
   {
    "duration": 10,
    "start_time": "2023-01-29T15:53:43.149Z"
   },
   {
    "duration": 10,
    "start_time": "2023-01-29T15:54:43.091Z"
   },
   {
    "duration": 9,
    "start_time": "2023-01-29T15:55:31.989Z"
   },
   {
    "duration": 28,
    "start_time": "2023-01-29T15:56:58.875Z"
   },
   {
    "duration": 26,
    "start_time": "2023-01-29T15:57:39.665Z"
   },
   {
    "duration": 41,
    "start_time": "2023-01-29T15:57:45.148Z"
   },
   {
    "duration": 30,
    "start_time": "2023-01-29T15:58:15.869Z"
   },
   {
    "duration": 5,
    "start_time": "2023-01-29T16:05:47.875Z"
   },
   {
    "duration": 11,
    "start_time": "2023-01-29T16:05:58.384Z"
   },
   {
    "duration": 6,
    "start_time": "2023-01-29T16:06:03.368Z"
   },
   {
    "duration": 12,
    "start_time": "2023-01-29T16:06:41.390Z"
   },
   {
    "duration": 677,
    "start_time": "2023-01-29T16:06:53.985Z"
   },
   {
    "duration": 22,
    "start_time": "2023-01-29T16:07:02.155Z"
   },
   {
    "duration": 10,
    "start_time": "2023-01-29T16:07:46.838Z"
   },
   {
    "duration": 203,
    "start_time": "2023-01-29T16:07:54.253Z"
   },
   {
    "duration": 9,
    "start_time": "2023-01-29T16:10:44.347Z"
   },
   {
    "duration": 14,
    "start_time": "2023-01-29T16:10:49.794Z"
   },
   {
    "duration": 3138,
    "start_time": "2023-01-29T16:11:02.120Z"
   },
   {
    "duration": 150,
    "start_time": "2023-01-29T16:11:21.364Z"
   },
   {
    "duration": 37,
    "start_time": "2023-01-29T16:13:44.157Z"
   },
   {
    "duration": 13,
    "start_time": "2023-01-29T16:16:35.651Z"
   },
   {
    "duration": 3,
    "start_time": "2023-01-29T16:17:14.803Z"
   },
   {
    "duration": 893,
    "start_time": "2023-01-29T16:18:15.093Z"
   },
   {
    "duration": 674,
    "start_time": "2023-01-29T16:18:29.185Z"
   },
   {
    "duration": 706,
    "start_time": "2023-01-29T16:18:58.816Z"
   },
   {
    "duration": 6,
    "start_time": "2023-01-29T16:19:19.251Z"
   },
   {
    "duration": 48,
    "start_time": "2023-01-29T16:19:53.206Z"
   },
   {
    "duration": 713,
    "start_time": "2023-01-29T16:19:56.911Z"
   },
   {
    "duration": 6,
    "start_time": "2023-01-29T16:20:08.587Z"
   },
   {
    "duration": 8,
    "start_time": "2023-01-29T16:21:06.319Z"
   },
   {
    "duration": 7,
    "start_time": "2023-01-29T16:21:48.044Z"
   },
   {
    "duration": 47,
    "start_time": "2023-01-29T16:22:38.905Z"
   },
   {
    "duration": 8,
    "start_time": "2023-01-29T16:22:41.359Z"
   },
   {
    "duration": 7,
    "start_time": "2023-01-29T16:22:45.849Z"
   },
   {
    "duration": 10,
    "start_time": "2023-01-29T16:23:03.161Z"
   },
   {
    "duration": 134,
    "start_time": "2023-01-29T16:24:48.949Z"
   },
   {
    "duration": 259,
    "start_time": "2023-01-29T16:24:56.228Z"
   },
   {
    "duration": 701,
    "start_time": "2023-01-29T16:25:37.580Z"
   },
   {
    "duration": 99,
    "start_time": "2023-01-29T16:25:46.194Z"
   },
   {
    "duration": 150,
    "start_time": "2023-01-29T16:25:54.790Z"
   },
   {
    "duration": 153,
    "start_time": "2023-01-29T16:26:20.704Z"
   },
   {
    "duration": 95,
    "start_time": "2023-01-29T16:26:25.585Z"
   },
   {
    "duration": 790,
    "start_time": "2023-01-29T16:27:04.104Z"
   },
   {
    "duration": 111,
    "start_time": "2023-01-29T16:27:17.171Z"
   },
   {
    "duration": 105,
    "start_time": "2023-01-29T16:29:07.351Z"
   },
   {
    "duration": 730,
    "start_time": "2023-01-29T16:29:40.612Z"
   },
   {
    "duration": 105,
    "start_time": "2023-01-29T16:30:12.048Z"
   },
   {
    "duration": 104,
    "start_time": "2023-01-29T16:32:03.906Z"
   },
   {
    "duration": 1678,
    "start_time": "2023-01-30T16:23:03.436Z"
   },
   {
    "duration": 663,
    "start_time": "2023-01-30T16:23:05.117Z"
   },
   {
    "duration": 4,
    "start_time": "2023-01-30T16:23:05.782Z"
   },
   {
    "duration": 56,
    "start_time": "2023-01-30T16:23:05.788Z"
   },
   {
    "duration": 18,
    "start_time": "2023-01-30T16:23:05.845Z"
   },
   {
    "duration": 139,
    "start_time": "2023-01-30T16:23:05.865Z"
   },
   {
    "duration": 25,
    "start_time": "2023-01-30T16:23:06.006Z"
   },
   {
    "duration": 19,
    "start_time": "2023-01-30T16:23:06.052Z"
   },
   {
    "duration": 17,
    "start_time": "2023-01-30T16:23:06.072Z"
   },
   {
    "duration": 11,
    "start_time": "2023-01-30T16:23:06.092Z"
   },
   {
    "duration": 28,
    "start_time": "2023-01-30T16:23:06.104Z"
   },
   {
    "duration": 59,
    "start_time": "2023-01-30T16:23:06.134Z"
   },
   {
    "duration": 111,
    "start_time": "2023-01-30T16:23:06.195Z"
   },
   {
    "duration": 5,
    "start_time": "2023-01-30T16:23:06.308Z"
   },
   {
    "duration": 20,
    "start_time": "2023-01-30T16:23:06.315Z"
   },
   {
    "duration": 36,
    "start_time": "2023-01-30T16:23:06.337Z"
   },
   {
    "duration": 18,
    "start_time": "2023-01-30T16:23:06.375Z"
   },
   {
    "duration": 36,
    "start_time": "2023-01-30T16:23:06.394Z"
   },
   {
    "duration": 22,
    "start_time": "2023-01-30T16:23:06.432Z"
   },
   {
    "duration": 331,
    "start_time": "2023-01-30T16:23:06.455Z"
   },
   {
    "duration": 318,
    "start_time": "2023-01-30T16:23:06.787Z"
   },
   {
    "duration": 4,
    "start_time": "2023-01-30T16:23:07.106Z"
   },
   {
    "duration": 8155,
    "start_time": "2023-01-30T16:23:07.111Z"
   },
   {
    "duration": 1142,
    "start_time": "2023-01-30T16:23:15.268Z"
   },
   {
    "duration": 29,
    "start_time": "2023-01-30T16:23:16.412Z"
   },
   {
    "duration": 848,
    "start_time": "2023-01-30T16:23:16.443Z"
   },
   {
    "duration": 22,
    "start_time": "2023-01-30T16:23:17.293Z"
   },
   {
    "duration": 188,
    "start_time": "2023-01-30T16:23:17.321Z"
   },
   {
    "duration": 545,
    "start_time": "2023-01-30T16:23:17.510Z"
   },
   {
    "duration": 825,
    "start_time": "2023-01-30T16:23:18.057Z"
   },
   {
    "duration": 20,
    "start_time": "2023-01-30T16:23:18.884Z"
   },
   {
    "duration": 319,
    "start_time": "2023-01-30T16:23:18.906Z"
   },
   {
    "duration": 192,
    "start_time": "2023-01-30T16:23:19.227Z"
   },
   {
    "duration": 850,
    "start_time": "2023-01-30T16:23:19.421Z"
   },
   {
    "duration": 11,
    "start_time": "2023-01-30T16:23:20.273Z"
   },
   {
    "duration": 5,
    "start_time": "2023-01-30T16:23:20.285Z"
   },
   {
    "duration": 12,
    "start_time": "2023-01-30T16:23:20.292Z"
   },
   {
    "duration": 15,
    "start_time": "2023-01-30T16:23:20.305Z"
   },
   {
    "duration": 20,
    "start_time": "2023-01-30T16:23:20.322Z"
   },
   {
    "duration": 75,
    "start_time": "2023-01-30T16:23:20.344Z"
   },
   {
    "duration": 5,
    "start_time": "2023-01-30T16:23:20.421Z"
   },
   {
    "duration": 67,
    "start_time": "2023-01-30T16:23:20.427Z"
   },
   {
    "duration": 18,
    "start_time": "2023-01-30T16:23:20.496Z"
   },
   {
    "duration": 118,
    "start_time": "2023-01-30T16:23:20.515Z"
   },
   {
    "duration": 0,
    "start_time": "2023-01-30T16:23:20.635Z"
   },
   {
    "duration": 0,
    "start_time": "2023-01-30T16:23:20.636Z"
   },
   {
    "duration": 0,
    "start_time": "2023-01-30T16:23:20.637Z"
   },
   {
    "duration": 0,
    "start_time": "2023-01-30T16:23:20.639Z"
   },
   {
    "duration": 0,
    "start_time": "2023-01-30T16:23:20.653Z"
   },
   {
    "duration": 0,
    "start_time": "2023-01-30T16:23:20.654Z"
   },
   {
    "duration": 0,
    "start_time": "2023-01-30T16:23:20.656Z"
   },
   {
    "duration": 0,
    "start_time": "2023-01-30T16:23:20.657Z"
   },
   {
    "duration": 0,
    "start_time": "2023-01-30T16:23:20.658Z"
   },
   {
    "duration": 0,
    "start_time": "2023-01-30T16:23:20.659Z"
   },
   {
    "duration": 0,
    "start_time": "2023-01-30T16:23:20.660Z"
   },
   {
    "duration": 0,
    "start_time": "2023-01-30T16:23:20.661Z"
   },
   {
    "duration": 0,
    "start_time": "2023-01-30T16:23:20.663Z"
   },
   {
    "duration": 1,
    "start_time": "2023-01-30T16:23:20.663Z"
   },
   {
    "duration": 0,
    "start_time": "2023-01-30T16:23:20.665Z"
   },
   {
    "duration": 0,
    "start_time": "2023-01-30T16:23:20.666Z"
   },
   {
    "duration": 0,
    "start_time": "2023-01-30T16:23:20.667Z"
   },
   {
    "duration": 0,
    "start_time": "2023-01-30T16:23:20.668Z"
   },
   {
    "duration": 0,
    "start_time": "2023-01-30T16:23:20.669Z"
   },
   {
    "duration": 0,
    "start_time": "2023-01-30T16:23:20.669Z"
   },
   {
    "duration": 0,
    "start_time": "2023-01-30T16:23:20.670Z"
   },
   {
    "duration": 0,
    "start_time": "2023-01-30T16:23:20.671Z"
   },
   {
    "duration": 0,
    "start_time": "2023-01-30T16:23:20.672Z"
   },
   {
    "duration": 0,
    "start_time": "2023-01-30T16:23:20.673Z"
   },
   {
    "duration": 0,
    "start_time": "2023-01-30T16:23:20.674Z"
   },
   {
    "duration": 0,
    "start_time": "2023-01-30T16:23:20.675Z"
   },
   {
    "duration": 0,
    "start_time": "2023-01-30T16:23:20.676Z"
   },
   {
    "duration": 0,
    "start_time": "2023-01-30T16:23:20.677Z"
   },
   {
    "duration": 0,
    "start_time": "2023-01-30T16:23:20.678Z"
   },
   {
    "duration": 0,
    "start_time": "2023-01-30T16:23:20.679Z"
   },
   {
    "duration": 0,
    "start_time": "2023-01-30T16:23:20.679Z"
   },
   {
    "duration": 0,
    "start_time": "2023-01-30T16:23:20.680Z"
   },
   {
    "duration": 0,
    "start_time": "2023-01-30T16:23:20.681Z"
   },
   {
    "duration": 0,
    "start_time": "2023-01-30T16:23:20.682Z"
   },
   {
    "duration": 0,
    "start_time": "2023-01-30T16:23:20.683Z"
   },
   {
    "duration": 0,
    "start_time": "2023-01-30T16:23:20.684Z"
   },
   {
    "duration": 0,
    "start_time": "2023-01-30T16:23:20.685Z"
   },
   {
    "duration": 0,
    "start_time": "2023-01-30T16:23:20.686Z"
   },
   {
    "duration": 0,
    "start_time": "2023-01-30T16:23:20.687Z"
   },
   {
    "duration": 0,
    "start_time": "2023-01-30T16:23:20.688Z"
   },
   {
    "duration": 10,
    "start_time": "2023-01-30T16:24:06.564Z"
   },
   {
    "duration": 26,
    "start_time": "2023-01-30T16:24:08.954Z"
   },
   {
    "duration": 5,
    "start_time": "2023-01-30T16:24:11.258Z"
   },
   {
    "duration": 14,
    "start_time": "2023-01-30T16:24:34.450Z"
   },
   {
    "duration": 4,
    "start_time": "2023-01-30T16:24:35.569Z"
   },
   {
    "duration": 3,
    "start_time": "2023-01-30T16:24:36.304Z"
   },
   {
    "duration": 223,
    "start_time": "2023-01-30T16:24:37.068Z"
   },
   {
    "duration": 19,
    "start_time": "2023-01-30T16:24:37.670Z"
   },
   {
    "duration": 204,
    "start_time": "2023-01-30T16:24:38.819Z"
   },
   {
    "duration": 26,
    "start_time": "2023-01-30T16:24:39.375Z"
   },
   {
    "duration": 21,
    "start_time": "2023-01-30T16:24:40.008Z"
   },
   {
    "duration": 183,
    "start_time": "2023-01-30T16:24:40.558Z"
   },
   {
    "duration": 112,
    "start_time": "2023-01-30T16:24:41.108Z"
   },
   {
    "duration": 23,
    "start_time": "2023-01-30T16:24:41.667Z"
   },
   {
    "duration": 19,
    "start_time": "2023-01-30T16:24:42.693Z"
   },
   {
    "duration": 101,
    "start_time": "2023-01-30T16:24:43.352Z"
   },
   {
    "duration": 2,
    "start_time": "2023-01-30T16:24:47.122Z"
   },
   {
    "duration": 3,
    "start_time": "2023-01-30T16:24:50.439Z"
   },
   {
    "duration": 644045,
    "start_time": "2023-01-30T16:24:52.513Z"
   },
   {
    "duration": 4,
    "start_time": "2023-01-30T16:37:55.741Z"
   },
   {
    "duration": 3,
    "start_time": "2023-01-30T16:37:56.628Z"
   },
   {
    "duration": 3,
    "start_time": "2023-01-30T16:38:00.601Z"
   },
   {
    "duration": 146506,
    "start_time": "2023-01-30T16:38:01.690Z"
   },
   {
    "duration": 4,
    "start_time": "2023-01-30T16:41:38.345Z"
   },
   {
    "duration": 54758,
    "start_time": "2023-01-30T16:41:39.240Z"
   },
   {
    "duration": 12944,
    "start_time": "2023-01-30T16:42:34.001Z"
   },
   {
    "duration": 3392,
    "start_time": "2023-01-30T16:43:15.523Z"
   },
   {
    "duration": 405,
    "start_time": "2023-01-30T16:45:38.799Z"
   },
   {
    "duration": 4,
    "start_time": "2023-01-30T16:45:40.822Z"
   },
   {
    "duration": 5,
    "start_time": "2023-01-30T16:45:41.534Z"
   },
   {
    "duration": 51,
    "start_time": "2023-01-30T16:45:42.490Z"
   },
   {
    "duration": 22,
    "start_time": "2023-01-30T16:45:43.383Z"
   },
   {
    "duration": 728,
    "start_time": "2023-01-30T16:45:44.357Z"
   },
   {
    "duration": 4,
    "start_time": "2023-01-30T16:45:48.476Z"
   },
   {
    "duration": 10,
    "start_time": "2023-01-30T16:45:52.267Z"
   },
   {
    "duration": 1663,
    "start_time": "2023-01-31T13:18:36.958Z"
   },
   {
    "duration": 569,
    "start_time": "2023-01-31T13:18:39.706Z"
   },
   {
    "duration": 5,
    "start_time": "2023-01-31T13:18:41.100Z"
   },
   {
    "duration": 30,
    "start_time": "2023-01-31T13:18:42.119Z"
   },
   {
    "duration": 26,
    "start_time": "2023-01-31T13:18:43.046Z"
   },
   {
    "duration": 134,
    "start_time": "2023-01-31T13:18:44.112Z"
   },
   {
    "duration": 134,
    "start_time": "2023-01-31T13:19:15.340Z"
   },
   {
    "duration": 90,
    "start_time": "2023-01-31T13:19:40.796Z"
   },
   {
    "duration": 23,
    "start_time": "2023-01-31T13:20:37.742Z"
   },
   {
    "duration": 14,
    "start_time": "2023-01-31T13:20:38.982Z"
   },
   {
    "duration": 11,
    "start_time": "2023-01-31T13:20:41.643Z"
   },
   {
    "duration": 4,
    "start_time": "2023-01-31T13:20:43.707Z"
   },
   {
    "duration": 23,
    "start_time": "2023-01-31T13:20:45.079Z"
   },
   {
    "duration": 69,
    "start_time": "2023-01-31T13:20:47.815Z"
   },
   {
    "duration": 105,
    "start_time": "2023-01-31T13:20:50.497Z"
   },
   {
    "duration": 5,
    "start_time": "2023-01-31T13:21:04.994Z"
   },
   {
    "duration": 8,
    "start_time": "2023-01-31T13:21:05.989Z"
   },
   {
    "duration": 22,
    "start_time": "2023-01-31T13:21:09.578Z"
   },
   {
    "duration": 158,
    "start_time": "2023-01-31T13:21:49.608Z"
   },
   {
    "duration": 7,
    "start_time": "2023-01-31T13:21:55.240Z"
   },
   {
    "duration": 7,
    "start_time": "2023-01-31T13:22:16.777Z"
   },
   {
    "duration": 18,
    "start_time": "2023-01-31T13:24:45.300Z"
   },
   {
    "duration": 14,
    "start_time": "2023-01-31T13:25:23.996Z"
   },
   {
    "duration": 36,
    "start_time": "2023-01-31T13:25:26.428Z"
   },
   {
    "duration": 18,
    "start_time": "2023-01-31T13:25:27.447Z"
   },
   {
    "duration": 346,
    "start_time": "2023-01-31T13:25:30.259Z"
   },
   {
    "duration": 312,
    "start_time": "2023-01-31T13:25:31.849Z"
   },
   {
    "duration": 5,
    "start_time": "2023-01-31T13:26:05.767Z"
   },
   {
    "duration": 8469,
    "start_time": "2023-01-31T13:26:06.941Z"
   },
   {
    "duration": 1309,
    "start_time": "2023-01-31T13:26:30.079Z"
   },
   {
    "duration": 30,
    "start_time": "2023-01-31T13:26:43.079Z"
   },
   {
    "duration": 919,
    "start_time": "2023-01-31T13:26:43.844Z"
   },
   {
    "duration": 19,
    "start_time": "2023-01-31T13:26:45.358Z"
   },
   {
    "duration": 5,
    "start_time": "2023-01-31T13:26:49.943Z"
   },
   {
    "duration": 2091,
    "start_time": "2023-01-31T13:28:11.980Z"
   },
   {
    "duration": 1971,
    "start_time": "2023-01-31T13:28:20.815Z"
   },
   {
    "duration": 1991,
    "start_time": "2023-01-31T13:28:32.550Z"
   },
   {
    "duration": 2541,
    "start_time": "2023-01-31T13:28:40.250Z"
   },
   {
    "duration": 1966,
    "start_time": "2023-01-31T13:28:53.946Z"
   },
   {
    "duration": 986,
    "start_time": "2023-01-31T13:29:48.918Z"
   },
   {
    "duration": 26,
    "start_time": "2023-01-31T13:29:49.906Z"
   },
   {
    "duration": 309,
    "start_time": "2023-01-31T13:29:53.515Z"
   },
   {
    "duration": 207,
    "start_time": "2023-01-31T13:29:54.540Z"
   },
   {
    "duration": 791,
    "start_time": "2023-01-31T13:29:55.471Z"
   },
   {
    "duration": 12,
    "start_time": "2023-01-31T13:29:58.491Z"
   },
   {
    "duration": 14,
    "start_time": "2023-01-31T13:32:38.116Z"
   },
   {
    "duration": 7,
    "start_time": "2023-01-31T13:32:45.019Z"
   },
   {
    "duration": 28,
    "start_time": "2023-01-31T13:33:13.165Z"
   },
   {
    "duration": 8,
    "start_time": "2023-01-31T13:34:08.934Z"
   },
   {
    "duration": 8,
    "start_time": "2023-01-31T13:34:16.940Z"
   },
   {
    "duration": 10,
    "start_time": "2023-01-31T13:35:57.040Z"
   },
   {
    "duration": 21,
    "start_time": "2023-01-31T13:37:11.002Z"
   },
   {
    "duration": 8,
    "start_time": "2023-01-31T13:37:13.344Z"
   },
   {
    "duration": 7,
    "start_time": "2023-01-31T13:39:22.975Z"
   },
   {
    "duration": 14,
    "start_time": "2023-01-31T13:42:07.354Z"
   },
   {
    "duration": 5,
    "start_time": "2023-01-31T13:42:15.109Z"
   },
   {
    "duration": 5,
    "start_time": "2023-01-31T13:42:15.610Z"
   },
   {
    "duration": 9,
    "start_time": "2023-01-31T13:42:17.099Z"
   },
   {
    "duration": 9,
    "start_time": "2023-01-31T13:42:18.892Z"
   },
   {
    "duration": 47,
    "start_time": "2023-01-31T13:42:19.844Z"
   },
   {
    "duration": 5,
    "start_time": "2023-01-31T13:42:21.670Z"
   },
   {
    "duration": 75,
    "start_time": "2023-01-31T13:42:24.019Z"
   },
   {
    "duration": 24,
    "start_time": "2023-01-31T13:42:25.414Z"
   },
   {
    "duration": 15,
    "start_time": "2023-01-31T13:42:28.915Z"
   },
   {
    "duration": 26,
    "start_time": "2023-01-31T13:42:29.654Z"
   },
   {
    "duration": 20,
    "start_time": "2023-01-31T13:42:30.825Z"
   },
   {
    "duration": 12,
    "start_time": "2023-01-31T13:44:33.644Z"
   },
   {
    "duration": 5,
    "start_time": "2023-01-31T13:44:35.383Z"
   },
   {
    "duration": 3,
    "start_time": "2023-01-31T13:44:36.866Z"
   },
   {
    "duration": 1574,
    "start_time": "2023-02-01T13:43:59.634Z"
   },
   {
    "duration": 873,
    "start_time": "2023-02-01T13:44:02.946Z"
   },
   {
    "duration": 5,
    "start_time": "2023-02-01T13:44:03.821Z"
   },
   {
    "duration": 25,
    "start_time": "2023-02-01T13:44:04.482Z"
   },
   {
    "duration": 35,
    "start_time": "2023-02-01T13:44:04.970Z"
   },
   {
    "duration": 137,
    "start_time": "2023-02-01T13:44:05.429Z"
   },
   {
    "duration": 96,
    "start_time": "2023-02-01T13:44:06.613Z"
   },
   {
    "duration": 21,
    "start_time": "2023-02-01T13:44:08.131Z"
   },
   {
    "duration": 15,
    "start_time": "2023-02-01T13:44:08.484Z"
   },
   {
    "duration": 9,
    "start_time": "2023-02-01T13:44:10.985Z"
   },
   {
    "duration": 3,
    "start_time": "2023-02-01T13:44:11.993Z"
   },
   {
    "duration": 34,
    "start_time": "2023-02-01T13:44:12.586Z"
   },
   {
    "duration": 59,
    "start_time": "2023-02-01T13:44:14.586Z"
   },
   {
    "duration": 93,
    "start_time": "2023-02-01T13:44:15.486Z"
   },
   {
    "duration": 5,
    "start_time": "2023-02-01T13:44:16.830Z"
   },
   {
    "duration": 10,
    "start_time": "2023-02-01T13:44:17.428Z"
   },
   {
    "duration": 22,
    "start_time": "2023-02-01T13:44:18.461Z"
   },
   {
    "duration": 8,
    "start_time": "2023-02-01T13:44:19.400Z"
   },
   {
    "duration": 14,
    "start_time": "2023-02-01T13:44:20.402Z"
   },
   {
    "duration": 15,
    "start_time": "2023-02-01T13:44:22.325Z"
   },
   {
    "duration": 25,
    "start_time": "2023-02-01T13:44:23.823Z"
   },
   {
    "duration": 15,
    "start_time": "2023-02-01T13:44:25.062Z"
   },
   {
    "duration": 359,
    "start_time": "2023-02-01T13:44:27.782Z"
   },
   {
    "duration": 374,
    "start_time": "2023-02-01T13:44:28.244Z"
   },
   {
    "duration": 4,
    "start_time": "2023-02-01T13:44:30.140Z"
   },
   {
    "duration": 8752,
    "start_time": "2023-02-01T13:44:30.845Z"
   },
   {
    "duration": 1179,
    "start_time": "2023-02-01T13:44:39.599Z"
   },
   {
    "duration": 37,
    "start_time": "2023-02-01T13:44:40.779Z"
   },
   {
    "duration": 998,
    "start_time": "2023-02-01T13:44:40.819Z"
   },
   {
    "duration": 26,
    "start_time": "2023-02-01T13:44:41.819Z"
   },
   {
    "duration": 7,
    "start_time": "2023-02-01T13:44:41.847Z"
   },
   {
    "duration": 2309,
    "start_time": "2023-02-01T13:44:41.856Z"
   },
   {
    "duration": 915,
    "start_time": "2023-02-01T13:44:55.543Z"
   },
   {
    "duration": 39,
    "start_time": "2023-02-01T13:44:56.461Z"
   },
   {
    "duration": 337,
    "start_time": "2023-02-01T13:44:56.799Z"
   },
   {
    "duration": 206,
    "start_time": "2023-02-01T13:44:57.286Z"
   },
   {
    "duration": 903,
    "start_time": "2023-02-01T13:44:57.637Z"
   },
   {
    "duration": 11,
    "start_time": "2023-02-01T13:44:58.542Z"
   },
   {
    "duration": 10,
    "start_time": "2023-02-01T13:45:01.645Z"
   },
   {
    "duration": 22,
    "start_time": "2023-02-01T13:45:02.929Z"
   },
   {
    "duration": 7,
    "start_time": "2023-02-01T13:45:03.705Z"
   },
   {
    "duration": 6,
    "start_time": "2023-02-01T13:45:04.678Z"
   },
   {
    "duration": 12,
    "start_time": "2023-02-01T13:45:07.789Z"
   },
   {
    "duration": 5,
    "start_time": "2023-02-01T13:45:21.224Z"
   },
   {
    "duration": 4,
    "start_time": "2023-02-01T13:45:21.686Z"
   },
   {
    "duration": 10,
    "start_time": "2023-02-01T13:45:22.586Z"
   },
   {
    "duration": 8,
    "start_time": "2023-02-01T13:45:22.997Z"
   },
   {
    "duration": 48,
    "start_time": "2023-02-01T13:45:23.413Z"
   },
   {
    "duration": 5,
    "start_time": "2023-02-01T13:45:24.290Z"
   },
   {
    "duration": 73,
    "start_time": "2023-02-01T13:45:25.145Z"
   },
   {
    "duration": 28,
    "start_time": "2023-02-01T13:45:25.885Z"
   },
   {
    "duration": 13,
    "start_time": "2023-02-01T13:45:26.785Z"
   },
   {
    "duration": 26,
    "start_time": "2023-02-01T13:45:27.786Z"
   },
   {
    "duration": 4,
    "start_time": "2023-02-01T13:45:28.343Z"
   },
   {
    "duration": 12,
    "start_time": "2023-02-01T14:38:31.385Z"
   },
   {
    "duration": 4,
    "start_time": "2023-02-01T14:38:31.983Z"
   },
   {
    "duration": 2,
    "start_time": "2023-02-01T14:38:32.584Z"
   },
   {
    "duration": 121,
    "start_time": "2023-02-01T14:38:33.171Z"
   },
   {
    "duration": 19,
    "start_time": "2023-02-01T14:38:33.784Z"
   },
   {
    "duration": 2,
    "start_time": "2023-02-01T14:39:24.829Z"
   },
   {
    "duration": 13,
    "start_time": "2023-02-01T14:39:25.777Z"
   },
   {
    "duration": 3,
    "start_time": "2023-02-01T14:39:42.251Z"
   },
   {
    "duration": 191,
    "start_time": "2023-02-01T14:39:43.685Z"
   },
   {
    "duration": 16,
    "start_time": "2023-02-01T14:39:44.945Z"
   },
   {
    "duration": 206,
    "start_time": "2023-02-01T14:39:46.828Z"
   },
   {
    "duration": 25,
    "start_time": "2023-02-01T14:39:48.379Z"
   },
   {
    "duration": 18,
    "start_time": "2023-02-01T14:39:49.081Z"
   },
   {
    "duration": 222,
    "start_time": "2023-02-01T14:39:49.754Z"
   },
   {
    "duration": 103,
    "start_time": "2023-02-01T14:39:50.471Z"
   },
   {
    "duration": 25,
    "start_time": "2023-02-01T14:39:51.225Z"
   },
   {
    "duration": 18,
    "start_time": "2023-02-01T14:39:51.844Z"
   },
   {
    "duration": 121,
    "start_time": "2023-02-01T14:39:52.672Z"
   },
   {
    "duration": 3,
    "start_time": "2023-02-01T14:39:57.016Z"
   },
   {
    "duration": 3,
    "start_time": "2023-02-01T14:39:59.515Z"
   },
   {
    "duration": 626355,
    "start_time": "2023-02-01T14:40:01.137Z"
   },
   {
    "duration": 4,
    "start_time": "2023-02-01T14:50:53.601Z"
   },
   {
    "duration": 4,
    "start_time": "2023-02-01T14:50:55.288Z"
   },
   {
    "duration": 3,
    "start_time": "2023-02-01T14:51:34.535Z"
   },
   {
    "duration": 3,
    "start_time": "2023-02-01T14:51:36.430Z"
   },
   {
    "duration": 130886,
    "start_time": "2023-02-01T14:51:37.598Z"
   },
   {
    "duration": 5,
    "start_time": "2023-02-01T14:54:29.307Z"
   },
   {
    "duration": 3,
    "start_time": "2023-02-01T14:54:30.845Z"
   },
   {
    "duration": 3063,
    "start_time": "2023-02-01T14:55:49.314Z"
   },
   {
    "duration": 449,
    "start_time": "2023-02-01T14:56:05.904Z"
   },
   {
    "duration": 3,
    "start_time": "2023-02-01T14:56:31.294Z"
   },
   {
    "duration": 5,
    "start_time": "2023-02-01T14:56:31.918Z"
   },
   {
    "duration": 49,
    "start_time": "2023-02-01T14:56:32.630Z"
   },
   {
    "duration": 19,
    "start_time": "2023-02-01T14:56:33.395Z"
   },
   {
    "duration": 708,
    "start_time": "2023-02-01T14:56:36.558Z"
   },
   {
    "duration": 4,
    "start_time": "2023-02-01T14:56:37.268Z"
   },
   {
    "duration": 56,
    "start_time": "2023-02-01T14:56:38.118Z"
   },
   {
    "duration": 12,
    "start_time": "2023-02-01T14:58:24.993Z"
   },
   {
    "duration": 157,
    "start_time": "2023-02-01T14:58:44.503Z"
   },
   {
    "duration": 280,
    "start_time": "2023-02-01T14:58:56.244Z"
   },
   {
    "duration": 112,
    "start_time": "2023-02-01T14:58:59.119Z"
   },
   {
    "duration": 114,
    "start_time": "2023-02-01T14:59:00.557Z"
   },
   {
    "duration": 903,
    "start_time": "2023-02-01T14:59:02.609Z"
   },
   {
    "duration": 125,
    "start_time": "2023-02-01T14:59:25.900Z"
   },
   {
    "duration": 115,
    "start_time": "2023-02-01T14:59:56.513Z"
   },
   {
    "duration": 1126,
    "start_time": "2023-02-01T15:00:13.608Z"
   },
   {
    "duration": 114,
    "start_time": "2023-02-01T15:00:25.404Z"
   },
   {
    "duration": 135,
    "start_time": "2023-02-01T15:00:32.801Z"
   },
   {
    "duration": 111,
    "start_time": "2023-02-01T15:00:38.641Z"
   },
   {
    "duration": 864,
    "start_time": "2023-02-01T15:01:06.153Z"
   },
   {
    "duration": 149,
    "start_time": "2023-02-01T15:01:15.615Z"
   },
   {
    "duration": 530,
    "start_time": "2023-02-01T15:01:20.903Z"
   },
   {
    "duration": 144,
    "start_time": "2023-02-01T15:01:24.633Z"
   },
   {
    "duration": 780,
    "start_time": "2023-02-01T15:01:45.301Z"
   },
   {
    "duration": 135,
    "start_time": "2023-02-01T15:01:59.809Z"
   }
  ],
  "kernelspec": {
   "display_name": "Python 3 (ipykernel)",
   "language": "python",
   "name": "python3"
  },
  "language_info": {
   "codemirror_mode": {
    "name": "ipython",
    "version": 3
   },
   "file_extension": ".py",
   "mimetype": "text/x-python",
   "name": "python",
   "nbconvert_exporter": "python",
   "pygments_lexer": "ipython3",
   "version": "3.11.2"
  },
  "toc": {
   "base_numbering": 1,
   "nav_menu": {},
   "number_sections": true,
   "sideBar": true,
   "skip_h1_title": true,
   "title_cell": "Table of Contents",
   "title_sidebar": "Contents",
   "toc_cell": false,
   "toc_position": {},
   "toc_section_display": true,
   "toc_window_display": false
  }
 },
 "nbformat": 4,
 "nbformat_minor": 2
}
