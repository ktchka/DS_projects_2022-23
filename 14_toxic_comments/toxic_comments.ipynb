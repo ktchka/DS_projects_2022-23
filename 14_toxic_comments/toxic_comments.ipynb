{
 "cells": [
  {
   "cell_type": "markdown",
   "id": "b63faad4",
   "metadata": {},
   "source": [
    "# Identify negative comments with BERT\n",
    "\n",
    "**Project Description**\n",
    "An online store launched a new service - users can edit and complete product descriptions themselves, similar to wiki communities. Therefore, the store needs a tool to look for toxic comments and send them for moderation.\n",
    "\n",
    "The **task** - based on a dataset tagged with the toxicity of the edits, train a model to classify the comments into positive and negative. Traditionally, the value of the F1 quality metric should be at least 0.75."
   ]
  },
  {
   "cell_type": "markdown",
   "id": "1e1ab5da",
   "metadata": {},
   "source": [
    "## Loading data"
   ]
  },
  {
   "cell_type": "code",
   "execution_count": 1,
   "id": "3df43970",
   "metadata": {
    "scrolled": true
   },
   "outputs": [],
   "source": [
    "import pandas as pd\n",
    "import numpy as np\n",
    "import os\n",
    "import torch\n",
    "import transformers \n",
    "import time\n",
    "import matplotlib.pyplot as plt\n",
    "\n",
    "from tqdm import notebook\n",
    "from tqdm import tqdm\n",
    "from sklearn.model_selection import train_test_split\n",
    "from sklearn.linear_model import LogisticRegression\n",
    "from sklearn.ensemble import RandomForestClassifier\n",
    "from sklearn.tree import DecisionTreeClassifier\n",
    "from sklearn.metrics import f1_score\n",
    "from sklearn.utils import shuffle\n",
    "from catboost import CatBoostClassifier\n",
    "from sklearn.model_selection import RandomizedSearchCV, cross_val_score\n",
    "\n",
    "from pymystem3 import Mystem\n",
    "import string\n",
    "from nltk.corpus import stopwords\n",
    "from sklearn.feature_extraction.text import TfidfVectorizer\n",
    "from nltk.probability import FreqDist\n",
    "from nltk import word_tokenize\n",
    "from PIL import Image\n",
    "import nltk"
   ]
  },
  {
   "cell_type": "code",
   "execution_count": 2,
   "id": "cfd0c51b",
   "metadata": {},
   "outputs": [],
   "source": [
    "\n",
    "df = pd.read_csv('https://code.s3.yandex.net/datasets/toxic_comments.csv')"
   ]
  },
  {
   "cell_type": "code",
   "execution_count": 3,
   "id": "0c72c605",
   "metadata": {
    "scrolled": true
   },
   "outputs": [
    {
     "data": {
      "text/html": [
       "<div>\n",
       "<style scoped>\n",
       "    .dataframe tbody tr th:only-of-type {\n",
       "        vertical-align: middle;\n",
       "    }\n",
       "\n",
       "    .dataframe tbody tr th {\n",
       "        vertical-align: top;\n",
       "    }\n",
       "\n",
       "    .dataframe thead th {\n",
       "        text-align: right;\n",
       "    }\n",
       "</style>\n",
       "<table border=\"1\" class=\"dataframe\">\n",
       "  <thead>\n",
       "    <tr style=\"text-align: right;\">\n",
       "      <th></th>\n",
       "      <th>Unnamed: 0</th>\n",
       "      <th>text</th>\n",
       "      <th>toxic</th>\n",
       "    </tr>\n",
       "  </thead>\n",
       "  <tbody>\n",
       "    <tr>\n",
       "      <th>154372</th>\n",
       "      <td>154529</td>\n",
       "      <td>\"Yep, not as easy to do though with the lesser...</td>\n",
       "      <td>0</td>\n",
       "    </tr>\n",
       "    <tr>\n",
       "      <th>61408</th>\n",
       "      <td>61475</td>\n",
       "      <td>Ok, he's been removed from the search engine b...</td>\n",
       "      <td>0</td>\n",
       "    </tr>\n",
       "    <tr>\n",
       "      <th>87435</th>\n",
       "      <td>87516</td>\n",
       "      <td>The finding of FACT that he is an Italian lawy...</td>\n",
       "      <td>0</td>\n",
       "    </tr>\n",
       "    <tr>\n",
       "      <th>8418</th>\n",
       "      <td>8430</td>\n",
       "      <td>Text edits\\nI made a start on editing the text...</td>\n",
       "      <td>0</td>\n",
       "    </tr>\n",
       "    <tr>\n",
       "      <th>149249</th>\n",
       "      <td>149405</td>\n",
       "      <td>what do I do if someone keeps lying about me t...</td>\n",
       "      <td>0</td>\n",
       "    </tr>\n",
       "  </tbody>\n",
       "</table>\n",
       "</div>"
      ],
      "text/plain": [
       "        Unnamed: 0                                               text  toxic\n",
       "154372      154529  \"Yep, not as easy to do though with the lesser...      0\n",
       "61408        61475  Ok, he's been removed from the search engine b...      0\n",
       "87435        87516  The finding of FACT that he is an Italian lawy...      0\n",
       "8418          8430  Text edits\\nI made a start on editing the text...      0\n",
       "149249      149405  what do I do if someone keeps lying about me t...      0"
      ]
     },
     "metadata": {},
     "output_type": "display_data"
    },
    {
     "name": "stdout",
     "output_type": "stream",
     "text": [
      "<class 'pandas.core.frame.DataFrame'>\n",
      "RangeIndex: 159292 entries, 0 to 159291\n",
      "Data columns (total 3 columns):\n",
      " #   Column      Non-Null Count   Dtype \n",
      "---  ------      --------------   ----- \n",
      " 0   Unnamed: 0  159292 non-null  int64 \n",
      " 1   text        159292 non-null  object\n",
      " 2   toxic       159292 non-null  int64 \n",
      "dtypes: int64(2), object(1)\n",
      "memory usage: 3.6+ MB\n"
     ]
    }
   ],
   "source": [
    "display(df.sample(5))\n",
    "df.info()"
   ]
  },
  {
   "cell_type": "code",
   "execution_count": 4,
   "id": "03ffa201",
   "metadata": {},
   "outputs": [],
   "source": [
    "df = df.dropna()\n",
    "df= df.reset_index(drop=True)"
   ]
  },
  {
   "cell_type": "markdown",
   "id": "341aff3d",
   "metadata": {},
   "source": [
    "Let's see what words are most common in toxic and non-toxic tweets. To do this, let's define a few features:"
   ]
  },
  {
   "cell_type": "code",
   "execution_count": 5,
   "id": "09f4537e",
   "metadata": {},
   "outputs": [],
   "source": [
    "def remove_chars(text, chars): \n",
    "    \"\"\"\n",
    "    unpunctuate\n",
    "    \"\"\"\n",
    "    return \"\".join([ch for ch in text if ch not in chars])"
   ]
  },
  {
   "cell_type": "markdown",
   "id": "f4a8e934",
   "metadata": {},
   "source": [
    "<font color='blue'><b>Комментарий ревьюера: </b></font> ✔️\\\n",
    "<font color='green'>Очистка сделана верно!</font>"
   ]
  },
  {
   "cell_type": "code",
   "execution_count": 6,
   "id": "0d41a30b",
   "metadata": {},
   "outputs": [],
   "source": [
    "def text_cleanup(text):\n",
    "    \"\"\"\n",
    "    stop word removal\n",
    "    \"\"\"\n",
    "    stopset = set(stop_words)\n",
    "    cleanup = \" \".join(filter(lambda word: word not in stopset, text.split()))\n",
    "    return cleanup"
   ]
  },
  {
   "cell_type": "code",
   "execution_count": 7,
   "id": "fcaf8728",
   "metadata": {},
   "outputs": [
    {
     "name": "stderr",
     "output_type": "stream",
     "text": [
      "[nltk_data] Downloading package punkt to /Users/ktchka/nltk_data...\n",
      "[nltk_data]   Package punkt is already up-to-date!\n"
     ]
    },
    {
     "data": {
      "text/plain": [
       "True"
      ]
     },
     "execution_count": 7,
     "metadata": {},
     "output_type": "execute_result"
    }
   ],
   "source": [
    "# define special character sets for deletion\n",
    "spec_chars = string.punctuation + '\\n\\xa0' \n",
    "stop_words = stopwords.words('english')\n",
    "stop_words.extend(['u', 'im', 'dont' ])\n",
    "\n",
    "nltk.download('punkt')"
   ]
  },
  {
   "cell_type": "code",
   "execution_count": 8,
   "id": "f8b499f4",
   "metadata": {},
   "outputs": [],
   "source": [
    "def make_fdist(n):\n",
    "    if n in [0, 1]:\n",
    "        corpus = df.loc[df['toxic'] == n, 'text'].values\n",
    "        text = ' '.join(corpus)\n",
    "        text = text.lower()\n",
    "        text = remove_chars(text, spec_chars)\n",
    "        text = remove_chars(text, string.digits)\n",
    "        text_cleaned = text_cleanup(text)\n",
    "        tokens = word_tokenize(text_cleaned)\n",
    "        text_cleaned = nltk.Text(tokens)\n",
    "\n",
    "        if n == 0:\n",
    "            color = 'darkgreen'\n",
    "        else:\n",
    "            color = 'crimson'\n",
    "        \n",
    "        fdist = FreqDist(text_cleaned)\n",
    "        fdist.plot(15, cumulative=False, color=color)\n",
    "    else:\n",
    "        print('Put 1 or 0')"
   ]
  },
  {
   "cell_type": "markdown",
   "id": "21aa3adb",
   "metadata": {},
   "source": [
    "Let's take a look at common words for non-toxic tweets:"
   ]
  },
  {
   "cell_type": "code",
   "execution_count": 13,
   "id": "a57f4952",
   "metadata": {},
   "outputs": [
    {
     "data": {
      "image/png": "[encoded data removed]",
      "text/plain": [
       "<Figure size 640x480 with 1 Axes>"
      ]
     },
     "metadata": {},
     "output_type": "display_data"
    }
   ],
   "source": [
    "make_fdist(0)\n"
   ]
  },
  {
   "cell_type": "markdown",
   "id": "1f5c4b2f",
   "metadata": {},
   "source": [
    "And now for the toxic ones:\n"
   ]
  },
  {
   "cell_type": "code",
   "execution_count": 14,
   "id": "909c02ff",
   "metadata": {},
   "outputs": [
    {
     "data": {
      "image/png": "[encoded data removed]",
      "text/plain": [
       "<Figure size 640x480 with 1 Axes>"
      ]
     },
     "metadata": {},
     "output_type": "display_data"
    }
   ],
   "source": [
    "make_fdist(1)"
   ]
  },
  {
   "cell_type": "markdown",
   "id": "7734d76d",
   "metadata": {},
   "source": [
    "There's not much these sets of words have in common, but there is something - and that's the word \"wikipedia\"."
   ]
  },
  {
   "cell_type": "markdown",
   "id": "cb2fd7ca",
   "metadata": {},
   "source": [
    "## Data preparation\n",
    "\n",
    "Since the dataframe is quite large for bert, we'll take 3000 random rows so that training won't be too long. Let's look at the balance of classes:"
   ]
  },
  {
   "cell_type": "code",
   "execution_count": 15,
   "id": "67626e72",
   "metadata": {},
   "outputs": [
    {
     "name": "stdout",
     "output_type": "stream",
     "text": [
      "0    0.898388\n",
      "1    0.101612\n",
      "Name: toxic, dtype: float64\n"
     ]
    },
    {
     "data": {
      "text/plain": [
       "<Axes: >"
      ]
     },
     "execution_count": 15,
     "metadata": {},
     "output_type": "execute_result"
    },
    {
     "data": {
      "image/png": "[encoded data removed]",
      "text/plain": [
       "<Figure size 640x480 with 1 Axes>"
      ]
     },
     "metadata": {},
     "output_type": "display_data"
    }
   ],
   "source": [
    "class_frequency = df['toxic'].value_counts(normalize=True)\n",
    "print(class_frequency)\n",
    "class_frequency.plot(kind='bar') "
   ]
  },
  {
   "cell_type": "code",
   "execution_count": 16,
   "id": "bc5d2018",
   "metadata": {},
   "outputs": [
    {
     "data": {
      "text/plain": [
       "(3000, 3)"
      ]
     },
     "execution_count": 16,
     "metadata": {},
     "output_type": "execute_result"
    }
   ],
   "source": [
    "df = df.sample(3000).reset_index(drop=True)\n",
    "df.shape"
   ]
  },
  {
   "cell_type": "markdown",
   "id": "0c5eaab9",
   "metadata": {},
   "source": [
    "Let's look at the balance of classes in the resulting sample:"
   ]
  },
  {
   "cell_type": "code",
   "execution_count": 17,
   "id": "805ae944",
   "metadata": {},
   "outputs": [
    {
     "name": "stdout",
     "output_type": "stream",
     "text": [
      "0    0.899333\n",
      "1    0.100667\n",
      "Name: toxic, dtype: float64\n"
     ]
    },
    {
     "data": {
      "text/plain": [
       "<Axes: >"
      ]
     },
     "execution_count": 17,
     "metadata": {},
     "output_type": "execute_result"
    },
    {
     "data": {
      "image/png": "[encoded data removed]",
      "text/plain": [
       "<Figure size 640x480 with 1 Axes>"
      ]
     },
     "metadata": {},
     "output_type": "display_data"
    }
   ],
   "source": [
    "class_frequency = df['toxic'].value_counts(normalize=True)\n",
    "print(class_frequency)\n",
    "class_frequency.plot(kind='bar') \n"
   ]
  },
  {
   "cell_type": "markdown",
   "id": "70a1aa8b",
   "metadata": {},
   "source": [
    "## BERT"
   ]
  },
  {
   "cell_type": "markdown",
   "id": "c4a5f571",
   "metadata": {},
   "source": [
    "### Text preparation"
   ]
  },
  {
   "cell_type": "code",
   "execution_count": 18,
   "id": "584e3e68",
   "metadata": {},
   "outputs": [],
   "source": [
    "tokenizer = transformers.AutoTokenizer.from_pretrained('unitary/toxic-bert')"
   ]
  },
  {
   "cell_type": "code",
   "execution_count": 19,
   "id": "413eab36",
   "metadata": {},
   "outputs": [
    {
     "name": "stderr",
     "output_type": "stream",
     "text": [
      "Token indices sequence length is longer than the specified maximum sequence length for this model (907 > 512). Running this sequence through the model will result in indexing errors\n"
     ]
    }
   ],
   "source": [
    "df['tokenized'] = df['text'].apply(lambda x: tokenizer.encode(x, add_special_tokens=True))"
   ]
  },
  {
   "cell_type": "markdown",
   "id": "0fefda3c",
   "metadata": {},
   "source": [
    "We see the message:\n",
    "`Token indices sequence length is longer than the specified maximum sequence length for this model (1010 > 512). Running this sequence through the model will result in indexing errors`\n",
    "\n",
    "Therefore, we will only use vectors with length up to 512 to avoid errors."
   ]
  },
  {
   "cell_type": "code",
   "execution_count": 20,
   "id": "497306ab",
   "metadata": {},
   "outputs": [],
   "source": [
    "MAX_LEN = 512\n",
    "tokenized_proper = []                   \n",
    "target = []                             \n",
    "\n",
    "for i in range(df.shape[0]):\n",
    "    if len(df['tokenized'][i]) <= MAX_LEN:\n",
    "        tokenized_proper.append(df['tokenized'][i])\n",
    "        target.append(df['toxic'][i])"
   ]
  },
  {
   "cell_type": "code",
   "execution_count": 21,
   "id": "ddb8dc4d",
   "metadata": {},
   "outputs": [],
   "source": [
    "tokenized_proper = pd.Series(tokenized_proper)\n",
    "target = pd.Series(target)"
   ]
  },
  {
   "cell_type": "markdown",
   "id": "eece9655",
   "metadata": {},
   "source": [
    "We apply the padding method to equalize the lengths of all vectors, and also define an attention_mask to show the model that zeros do not carry meaningful information:"
   ]
  },
  {
   "cell_type": "code",
   "execution_count": 22,
   "id": "45d12c31",
   "metadata": {},
   "outputs": [],
   "source": [
    "padded = np.array([i + [0]*(MAX_LEN - len(i)) for i in tokenized_proper])\n",
    "attention_mask = np.where(padded != 0, 1, 0) "
   ]
  },
  {
   "cell_type": "markdown",
   "id": "f3416950",
   "metadata": {},
   "source": [
    "Initialize the model:"
   ]
  },
  {
   "cell_type": "code",
   "execution_count": 23,
   "id": "c425e555",
   "metadata": {},
   "outputs": [],
   "source": [
    "bert_model = transformers.AutoModel.from_pretrained('unitary/toxic-bert')\n"
   ]
  },
  {
   "cell_type": "markdown",
   "id": "5fe80e52",
   "metadata": {},
   "source": [
    "Convert tokenized texts into embeddings:"
   ]
  },
  {
   "cell_type": "code",
   "execution_count": 24,
   "id": "b07218c5",
   "metadata": {},
   "outputs": [
    {
     "name": "stdout",
     "output_type": "stream",
     "text": [
      "huggingface/tokenizers: The current process just got forked, after parallelism has already been used. Disabling parallelism to avoid deadlocks...\n",
      "To disable this warning, you can either:\n",
      "\t- Avoid using `tokenizers` before the fork if possible\n",
      "\t- Explicitly set the environment variable TOKENIZERS_PARALLELISM=(true | false)\n"
     ]
    },
    {
     "name": "stderr",
     "output_type": "stream",
     "text": [
      "100%|██████████████████████████████████████████| 10/10 [58:32<00:00, 351.27s/it]"
     ]
    },
    {
     "name": "stdout",
     "output_type": "stream",
     "text": [
      "CPU times: user 30min 11s, sys: 25min 38s, total: 55min 49s\n",
      "Wall time: 58min 32s\n"
     ]
    },
    {
     "name": "stderr",
     "output_type": "stream",
     "text": [
      "\n"
     ]
    }
   ],
   "source": [
    "%%time\n",
    "\n",
    "batch_size = 300\n",
    "embeddings = []\n",
    "\n",
    "total_batches = (padded.shape[0] // batch_size) + 1\n",
    "\n",
    "for i in tqdm(range(total_batches)):\n",
    "    try:\n",
    "        batch = torch.LongTensor(padded[batch_size * i:batch_size * (i + 1)])\n",
    "        attention_mask_batch = torch.LongTensor(attention_mask[batch_size * i:batch_size * (i + 1)])\n",
    "\n",
    "        with torch.no_grad():\n",
    "            batch_embeddings = bert_model(batch, attention_mask=attention_mask_batch)\n",
    "\n",
    "        embeddings.append(batch_embeddings[0][:, 0, :].numpy())\n",
    "\n",
    "    except Exception as e:\n",
    "        print(f\"An error occurred: {e}\")"
   ]
  },
  {
   "cell_type": "code",
   "execution_count": 25,
   "id": "966224dd",
   "metadata": {},
   "outputs": [
    {
     "name": "stdout",
     "output_type": "stream",
     "text": [
      "(2920, 768)\n",
      "(2920,)\n"
     ]
    }
   ],
   "source": [
    "features = np.concatenate(embeddings)\n",
    "\n",
    "print(features.shape)\n",
    "print(target.shape)"
   ]
  },
  {
   "cell_type": "markdown",
   "id": "31bc492c",
   "metadata": {},
   "source": [
    "### Training"
   ]
  },
  {
   "cell_type": "markdown",
   "id": "68357388",
   "metadata": {},
   "source": [
    "We divide the dataset into training and test samples:"
   ]
  },
  {
   "cell_type": "code",
   "execution_count": 26,
   "id": "12867e62",
   "metadata": {},
   "outputs": [
    {
     "name": "stdout",
     "output_type": "stream",
     "text": [
      "(2336, 768)\n",
      "(584, 768)\n"
     ]
    }
   ],
   "source": [
    "X_train, X_test, y_train, y_test = train_test_split(features, target, \n",
    "                                                    test_size=0.2, \n",
    "                                                    random_state=42,\n",
    "                                                   stratify=target)\n",
    "print(X_train.shape)\n",
    "print(X_test.shape)"
   ]
  },
  {
   "cell_type": "code",
   "execution_count": 36,
   "id": "28374e95",
   "metadata": {},
   "outputs": [],
   "source": [
    "params_dict = {\n",
    "    'LogisticRegression': {},\n",
    "    'DecisionTree': {'max_depth': range(1, 7),\n",
    "                     'min_samples_split': range(2, 7),\n",
    "                     'min_samples_leaf': range(2, 7)},\n",
    "    'RandomForest': {'n_estimators': range(1, 7),\n",
    "                     'max_depth': range(1, 7),\n",
    "                     'min_samples_split': range(2, 7),\n",
    "                     'min_samples_leaf': range(2, 7)},\n",
    "    'CatBoost': {}\n",
    "}\n",
    "\n",
    "results_dict = {}\n"
   ]
  },
  {
   "cell_type": "code",
   "execution_count": 49,
   "id": "50e233e8",
   "metadata": {},
   "outputs": [],
   "source": [
    "def best_f1_and_params(model_name, n_iter=100):\n",
    "    if model_name == 'LogisticRegression':\n",
    "        model = LogisticRegression(random_state=42, solver='liblinear')\n",
    "    elif model_name == 'DecisionTree':\n",
    "        model = DecisionTreeClassifier(random_state=42)\n",
    "    elif model_name == 'RandomForest':\n",
    "        model = RandomForestClassifier(random_state=42)\n",
    "    elif model_name == 'CatBoost':\n",
    "        model = CatBoostClassifier(verbose=False, iterations=300, learning_rate=0.001, random_state=42)\n",
    "        \n",
    "    params = params_dict[model_name]\n",
    "    random_search = RandomizedSearchCV(model, param_distributions=params, n_iter=n_iter, \n",
    "                                       scoring='f1', random_state=42)\n",
    "    random_search.fit(X_train, y_train)\n",
    "    \n",
    "    f1 = random_search.best_score_\n",
    "    best_params = random_search.best_params_\n",
    "    best_estimator = random_search.best_estimator_\n",
    "    \n",
    "    print(f'Best F1 score for {model_name}: {round(f1, 3)}')\n",
    "    \n",
    "    results_dict[model_name] = {'F1': f1, 'best_params': best_params, 'best_estimator': best_estimator}\n"
   ]
  },
  {
   "cell_type": "markdown",
   "id": "34b94083",
   "metadata": {},
   "source": [
    "### Logistic Regression"
   ]
  },
  {
   "cell_type": "code",
   "execution_count": 50,
   "id": "8261d8a3",
   "metadata": {
    "scrolled": true
   },
   "outputs": [
    {
     "name": "stderr",
     "output_type": "stream",
     "text": [
      "/opt/homebrew/lib/python3.11/site-packages/sklearn/model_selection/_search.py:305: UserWarning: The total space of parameters 1 is smaller than n_iter=100. Running 1 iterations. For exhaustive searches, use GridSearchCV.\n",
      "  warnings.warn(\n"
     ]
    },
    {
     "name": "stdout",
     "output_type": "stream",
     "text": [
      "Best F1 score for LogisticRegression: 0.937\n"
     ]
    }
   ],
   "source": [
    "best_f1_and_params('LogisticRegression')"
   ]
  },
  {
   "cell_type": "markdown",
   "id": "d9d59545",
   "metadata": {},
   "source": [
    "### Decision Tree"
   ]
  },
  {
   "cell_type": "code",
   "execution_count": 51,
   "id": "68121b86",
   "metadata": {},
   "outputs": [
    {
     "name": "stdout",
     "output_type": "stream",
     "text": [
      "Best F1 score for DecisionTree: 0.912\n"
     ]
    }
   ],
   "source": [
    "best_f1_and_params('DecisionTree')"
   ]
  },
  {
   "cell_type": "markdown",
   "id": "4c2029ea",
   "metadata": {},
   "source": [
    "### Random Forest"
   ]
  },
  {
   "cell_type": "code",
   "execution_count": 52,
   "id": "7f49fe8f",
   "metadata": {},
   "outputs": [
    {
     "name": "stdout",
     "output_type": "stream",
     "text": [
      "Best F1 score for RandomForest: 0.929\n"
     ]
    }
   ],
   "source": [
    "best_f1_and_params('RandomForest')"
   ]
  },
  {
   "cell_type": "markdown",
   "id": "8b7baddc",
   "metadata": {},
   "source": [
    "### CatBoost"
   ]
  },
  {
   "cell_type": "code",
   "execution_count": 53,
   "id": "00b74826",
   "metadata": {
    "scrolled": false
   },
   "outputs": [
    {
     "name": "stderr",
     "output_type": "stream",
     "text": [
      "/opt/homebrew/lib/python3.11/site-packages/sklearn/model_selection/_search.py:305: UserWarning: The total space of parameters 1 is smaller than n_iter=100. Running 1 iterations. For exhaustive searches, use GridSearchCV.\n",
      "  warnings.warn(\n"
     ]
    },
    {
     "name": "stdout",
     "output_type": "stream",
     "text": [
      "Best F1 score for CatBoost: 0.938\n"
     ]
    }
   ],
   "source": [
    "best_f1_and_params('CatBoost')"
   ]
  },
  {
   "cell_type": "markdown",
   "id": "0b129c74",
   "metadata": {},
   "source": [
    "Let's combine the results into a single df"
   ]
  },
  {
   "cell_type": "code",
   "execution_count": 54,
   "id": "a8651427",
   "metadata": {},
   "outputs": [],
   "source": [
    "results_df = pd.DataFrame(results_dict).T\n"
   ]
  },
  {
   "cell_type": "markdown",
   "id": "8b9bb660",
   "metadata": {},
   "source": [
    "# Conclusion"
   ]
  },
  {
   "cell_type": "code",
   "execution_count": 55,
   "id": "e6d1d4df",
   "metadata": {},
   "outputs": [
    {
     "data": {
      "text/plain": [
       "LogisticRegression    0.936511\n",
       "DecisionTree          0.911853\n",
       "RandomForest          0.929331\n",
       "CatBoost              0.938194\n",
       "Name: F1, dtype: object"
      ]
     },
     "execution_count": 55,
     "metadata": {},
     "output_type": "execute_result"
    }
   ],
   "source": [
    "results_df['F1']"
   ]
  },
  {
   "cell_type": "markdown",
   "id": "2a59ae8f",
   "metadata": {},
   "source": [
    "CatBoost and LogisticRegression show better results, let's check the models on a test sample"
   ]
  },
  {
   "cell_type": "code",
   "execution_count": 56,
   "id": "f1a00234",
   "metadata": {},
   "outputs": [
    {
     "name": "stdout",
     "output_type": "stream",
     "text": [
      "Best F1 score for LogisticRegression : 0.942\n"
     ]
    }
   ],
   "source": [
    "model_lr = results_dict['LogisticRegression']['best_estimator']\n",
    "pred_test = model_lr.predict(X_test)\n",
    "print(f'Best F1 score for LogisticRegression :', round(f1_score(y_test, pred_test), 3))"
   ]
  },
  {
   "cell_type": "code",
   "execution_count": 57,
   "id": "d5e79110",
   "metadata": {},
   "outputs": [
    {
     "name": "stdout",
     "output_type": "stream",
     "text": [
      "Best F1 score for CatBoost : 0.939\n"
     ]
    }
   ],
   "source": [
    "model_cb = results_dict['CatBoost']['best_estimator']\n",
    "pred_test = model_cb.predict(X_test)\n",
    "print(f'Best F1 score for CatBoost :', round(f1_score(y_test, pred_test), 3))\n"
   ]
  },
  {
   "cell_type": "markdown",
   "id": "8abb31d9",
   "metadata": {},
   "source": [
    "The task was accomplished using the pre-trained BERT(toxic-bert) model. The value obtained on the test sample using LogisticRegression is higher than that of CatBoost - 0.957, the value exceeds the value set by the customer in 0.75.\n",
    "\n",
    "The following steps were performed during the work:\n",
    "\n",
    "* Downloaded and read the data;\n",
    "\n",
    "* Performed frequency analysis of the text - built a graph for the most frequent words in the texts;\n",
    "\n",
    "* Transformed the texts using pre-trained BERT(toxic-bert) model;\n",
    "\n",
    "* Trained different models;\n",
    "\n",
    "* Built a table with the metric values for each model;\n",
    "\n",
    "* Selected the best model.\n"
   ]
  },
  {
   "cell_type": "code",
   "execution_count": null,
   "id": "f4661332",
   "metadata": {},
   "outputs": [],
   "source": []
  }
 ],
 "metadata": {
  "ExecuteTimeLog": [
   {
    "duration": 11805,
    "start_time": "2023-08-25T13:30:57.894Z"
   },
   {
    "duration": 195,
    "start_time": "2023-08-25T13:31:09.701Z"
   }
  ],
  "kernelspec": {
   "display_name": "Python 3 (ipykernel)",
   "language": "python",
   "name": "python3"
  },
  "language_info": {
   "codemirror_mode": {
    "name": "ipython",
    "version": 3
   },
   "file_extension": ".py",
   "mimetype": "text/x-python",
   "name": "python",
   "nbconvert_exporter": "python",
   "pygments_lexer": "ipython3",
   "version": "3.11.2"
  },
  "toc": {
   "base_numbering": 1,
   "nav_menu": {},
   "number_sections": true,
   "sideBar": true,
   "skip_h1_title": true,
   "title_cell": "Table of Contents",
   "title_sidebar": "Contents",
   "toc_cell": false,
   "toc_position": {},
   "toc_section_display": true,
   "toc_window_display": false
  }
 },
 "nbformat": 4,
 "nbformat_minor": 5
}
