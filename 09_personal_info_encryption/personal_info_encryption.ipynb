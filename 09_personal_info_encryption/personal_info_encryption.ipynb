{
 "cells": [
  {
   "cell_type": "markdown",
   "metadata": {},
   "source": [
    "# Protection of customers' personal data"
   ]
  },
  {
   "cell_type": "markdown",
   "metadata": {},
   "source": [
    "You need to protect the data of your customers at Flood Insurance Company. Develop such a method of data conversion that it would be difficult to recover personal information from it. Justify the correctness of its work.\n",
    "\n",
    "You need to protect the data so that the quality of machine learning models does not deteriorate during transformation. It is not necessary to select the best model."
   ]
  },
  {
   "cell_type": "markdown",
   "metadata": {},
   "source": [
    "## Loading data"
   ]
  },
  {
   "cell_type": "code",
   "execution_count": 23,
   "metadata": {},
   "outputs": [],
   "source": [
    "import pandas as pd\n",
    "import numpy as np\n",
    "import seaborn as sns\n",
    "import matplotlib.pyplot as plt\n",
    "\n",
    "from random import random\n",
    "from sklearn.model_selection import train_test_split\n",
    "from sklearn.linear_model import LinearRegression\n",
    "from sklearn.metrics import r2_score"
   ]
  },
  {
   "cell_type": "code",
   "execution_count": 24,
   "metadata": {},
   "outputs": [
    {
     "name": "stdout",
     "output_type": "stream",
     "text": [
      "<class 'pandas.core.frame.DataFrame'>\n",
      "RangeIndex: 5000 entries, 0 to 4999\n",
      "Data columns (total 5 columns):\n",
      " #   Column             Non-Null Count  Dtype  \n",
      "---  ------             --------------  -----  \n",
      " 0   Пол                5000 non-null   int64  \n",
      " 1   Возраст            5000 non-null   float64\n",
      " 2   Зарплата           5000 non-null   float64\n",
      " 3   Члены семьи        5000 non-null   int64  \n",
      " 4   Страховые выплаты  5000 non-null   int64  \n",
      "dtypes: float64(2), int64(3)\n",
      "memory usage: 195.4 KB\n"
     ]
    }
   ],
   "source": [
    "df = pd.read_csv('https://code.s3.yandex.net/datasets/insurance.csv')\n",
    "df.info()"
   ]
  },
  {
   "cell_type": "code",
   "execution_count": 25,
   "metadata": {},
   "outputs": [],
   "source": [
    "def displayGeneralDataInfo(data):\n",
    "    \"\"\"\n",
    "    Function for outputting general information\n",
    "    data - data(dataframes)\n",
    "    \"\"\"\n",
    "    print(\"Выведем первые 5 строк таблицы.\")\n",
    "    print()\n",
    "    # first 5 lines output \n",
    "    display(data.head())\n",
    "    print(\"Выведем общую информацию \")\n",
    "    print()\n",
    "    # general information output\n",
    "    display(data.info())\n",
    "    print(\"Посмотрим на значения, распределения в нашем DataFrame.\")\n",
    "    print()\n",
    "    # output values, distributions in our DataFrame.\n",
    "    display(data.describe().T)\n",
    "    print(\"Посмотрим на корреляцию.\")\n",
    "    print()\n",
    "    # correlation output\n",
    "    display(data.corr())\n",
    "    print()\n"
   ]
  },
  {
   "cell_type": "code",
   "execution_count": 26,
   "metadata": {},
   "outputs": [
    {
     "name": "stdout",
     "output_type": "stream",
     "text": [
      "Выведем первые 5 строк таблицы.\n",
      "\n"
     ]
    },
    {
     "data": {
      "text/html": [
       "<div>\n",
       "<style scoped>\n",
       "    .dataframe tbody tr th:only-of-type {\n",
       "        vertical-align: middle;\n",
       "    }\n",
       "\n",
       "    .dataframe tbody tr th {\n",
       "        vertical-align: top;\n",
       "    }\n",
       "\n",
       "    .dataframe thead th {\n",
       "        text-align: right;\n",
       "    }\n",
       "</style>\n",
       "<table border=\"1\" class=\"dataframe\">\n",
       "  <thead>\n",
       "    <tr style=\"text-align: right;\">\n",
       "      <th></th>\n",
       "      <th>Пол</th>\n",
       "      <th>Возраст</th>\n",
       "      <th>Зарплата</th>\n",
       "      <th>Члены семьи</th>\n",
       "      <th>Страховые выплаты</th>\n",
       "    </tr>\n",
       "  </thead>\n",
       "  <tbody>\n",
       "    <tr>\n",
       "      <th>0</th>\n",
       "      <td>1</td>\n",
       "      <td>41.0</td>\n",
       "      <td>49600.0</td>\n",
       "      <td>1</td>\n",
       "      <td>0</td>\n",
       "    </tr>\n",
       "    <tr>\n",
       "      <th>1</th>\n",
       "      <td>0</td>\n",
       "      <td>46.0</td>\n",
       "      <td>38000.0</td>\n",
       "      <td>1</td>\n",
       "      <td>1</td>\n",
       "    </tr>\n",
       "    <tr>\n",
       "      <th>2</th>\n",
       "      <td>0</td>\n",
       "      <td>29.0</td>\n",
       "      <td>21000.0</td>\n",
       "      <td>0</td>\n",
       "      <td>0</td>\n",
       "    </tr>\n",
       "    <tr>\n",
       "      <th>3</th>\n",
       "      <td>0</td>\n",
       "      <td>21.0</td>\n",
       "      <td>41700.0</td>\n",
       "      <td>2</td>\n",
       "      <td>0</td>\n",
       "    </tr>\n",
       "    <tr>\n",
       "      <th>4</th>\n",
       "      <td>1</td>\n",
       "      <td>28.0</td>\n",
       "      <td>26100.0</td>\n",
       "      <td>0</td>\n",
       "      <td>0</td>\n",
       "    </tr>\n",
       "  </tbody>\n",
       "</table>\n",
       "</div>"
      ],
      "text/plain": [
       "   Пол  Возраст  Зарплата  Члены семьи  Страховые выплаты\n",
       "0    1     41.0   49600.0            1                  0\n",
       "1    0     46.0   38000.0            1                  1\n",
       "2    0     29.0   21000.0            0                  0\n",
       "3    0     21.0   41700.0            2                  0\n",
       "4    1     28.0   26100.0            0                  0"
      ]
     },
     "metadata": {},
     "output_type": "display_data"
    },
    {
     "name": "stdout",
     "output_type": "stream",
     "text": [
      "Выведем общую информацию \n",
      "\n",
      "<class 'pandas.core.frame.DataFrame'>\n",
      "RangeIndex: 5000 entries, 0 to 4999\n",
      "Data columns (total 5 columns):\n",
      " #   Column             Non-Null Count  Dtype  \n",
      "---  ------             --------------  -----  \n",
      " 0   Пол                5000 non-null   int64  \n",
      " 1   Возраст            5000 non-null   float64\n",
      " 2   Зарплата           5000 non-null   float64\n",
      " 3   Члены семьи        5000 non-null   int64  \n",
      " 4   Страховые выплаты  5000 non-null   int64  \n",
      "dtypes: float64(2), int64(3)\n",
      "memory usage: 195.4 KB\n"
     ]
    },
    {
     "data": {
      "text/plain": [
       "None"
      ]
     },
     "metadata": {},
     "output_type": "display_data"
    },
    {
     "name": "stdout",
     "output_type": "stream",
     "text": [
      "Посмотрим на значения, распределения в нашем DataFrame.\n",
      "\n"
     ]
    },
    {
     "data": {
      "text/html": [
       "<div>\n",
       "<style scoped>\n",
       "    .dataframe tbody tr th:only-of-type {\n",
       "        vertical-align: middle;\n",
       "    }\n",
       "\n",
       "    .dataframe tbody tr th {\n",
       "        vertical-align: top;\n",
       "    }\n",
       "\n",
       "    .dataframe thead th {\n",
       "        text-align: right;\n",
       "    }\n",
       "</style>\n",
       "<table border=\"1\" class=\"dataframe\">\n",
       "  <thead>\n",
       "    <tr style=\"text-align: right;\">\n",
       "      <th></th>\n",
       "      <th>count</th>\n",
       "      <th>mean</th>\n",
       "      <th>std</th>\n",
       "      <th>min</th>\n",
       "      <th>25%</th>\n",
       "      <th>50%</th>\n",
       "      <th>75%</th>\n",
       "      <th>max</th>\n",
       "    </tr>\n",
       "  </thead>\n",
       "  <tbody>\n",
       "    <tr>\n",
       "      <th>Пол</th>\n",
       "      <td>5000.0</td>\n",
       "      <td>0.4990</td>\n",
       "      <td>0.500049</td>\n",
       "      <td>0.0</td>\n",
       "      <td>0.0</td>\n",
       "      <td>0.0</td>\n",
       "      <td>1.0</td>\n",
       "      <td>1.0</td>\n",
       "    </tr>\n",
       "    <tr>\n",
       "      <th>Возраст</th>\n",
       "      <td>5000.0</td>\n",
       "      <td>30.9528</td>\n",
       "      <td>8.440807</td>\n",
       "      <td>18.0</td>\n",
       "      <td>24.0</td>\n",
       "      <td>30.0</td>\n",
       "      <td>37.0</td>\n",
       "      <td>65.0</td>\n",
       "    </tr>\n",
       "    <tr>\n",
       "      <th>Зарплата</th>\n",
       "      <td>5000.0</td>\n",
       "      <td>39916.3600</td>\n",
       "      <td>9900.083569</td>\n",
       "      <td>5300.0</td>\n",
       "      <td>33300.0</td>\n",
       "      <td>40200.0</td>\n",
       "      <td>46600.0</td>\n",
       "      <td>79000.0</td>\n",
       "    </tr>\n",
       "    <tr>\n",
       "      <th>Члены семьи</th>\n",
       "      <td>5000.0</td>\n",
       "      <td>1.1942</td>\n",
       "      <td>1.091387</td>\n",
       "      <td>0.0</td>\n",
       "      <td>0.0</td>\n",
       "      <td>1.0</td>\n",
       "      <td>2.0</td>\n",
       "      <td>6.0</td>\n",
       "    </tr>\n",
       "    <tr>\n",
       "      <th>Страховые выплаты</th>\n",
       "      <td>5000.0</td>\n",
       "      <td>0.1480</td>\n",
       "      <td>0.463183</td>\n",
       "      <td>0.0</td>\n",
       "      <td>0.0</td>\n",
       "      <td>0.0</td>\n",
       "      <td>0.0</td>\n",
       "      <td>5.0</td>\n",
       "    </tr>\n",
       "  </tbody>\n",
       "</table>\n",
       "</div>"
      ],
      "text/plain": [
       "                    count        mean          std     min      25%      50%  \\\n",
       "Пол                5000.0      0.4990     0.500049     0.0      0.0      0.0   \n",
       "Возраст            5000.0     30.9528     8.440807    18.0     24.0     30.0   \n",
       "Зарплата           5000.0  39916.3600  9900.083569  5300.0  33300.0  40200.0   \n",
       "Члены семьи        5000.0      1.1942     1.091387     0.0      0.0      1.0   \n",
       "Страховые выплаты  5000.0      0.1480     0.463183     0.0      0.0      0.0   \n",
       "\n",
       "                       75%      max  \n",
       "Пол                    1.0      1.0  \n",
       "Возраст               37.0     65.0  \n",
       "Зарплата           46600.0  79000.0  \n",
       "Члены семьи            2.0      6.0  \n",
       "Страховые выплаты      0.0      5.0  "
      ]
     },
     "metadata": {},
     "output_type": "display_data"
    },
    {
     "name": "stdout",
     "output_type": "stream",
     "text": [
      "Посмотрим на корреляцию.\n",
      "\n"
     ]
    },
    {
     "data": {
      "text/html": [
       "<div>\n",
       "<style scoped>\n",
       "    .dataframe tbody tr th:only-of-type {\n",
       "        vertical-align: middle;\n",
       "    }\n",
       "\n",
       "    .dataframe tbody tr th {\n",
       "        vertical-align: top;\n",
       "    }\n",
       "\n",
       "    .dataframe thead th {\n",
       "        text-align: right;\n",
       "    }\n",
       "</style>\n",
       "<table border=\"1\" class=\"dataframe\">\n",
       "  <thead>\n",
       "    <tr style=\"text-align: right;\">\n",
       "      <th></th>\n",
       "      <th>Пол</th>\n",
       "      <th>Возраст</th>\n",
       "      <th>Зарплата</th>\n",
       "      <th>Члены семьи</th>\n",
       "      <th>Страховые выплаты</th>\n",
       "    </tr>\n",
       "  </thead>\n",
       "  <tbody>\n",
       "    <tr>\n",
       "      <th>Пол</th>\n",
       "      <td>1.000000</td>\n",
       "      <td>0.002074</td>\n",
       "      <td>0.014910</td>\n",
       "      <td>-0.008991</td>\n",
       "      <td>0.010140</td>\n",
       "    </tr>\n",
       "    <tr>\n",
       "      <th>Возраст</th>\n",
       "      <td>0.002074</td>\n",
       "      <td>1.000000</td>\n",
       "      <td>-0.019093</td>\n",
       "      <td>-0.006692</td>\n",
       "      <td>0.651030</td>\n",
       "    </tr>\n",
       "    <tr>\n",
       "      <th>Зарплата</th>\n",
       "      <td>0.014910</td>\n",
       "      <td>-0.019093</td>\n",
       "      <td>1.000000</td>\n",
       "      <td>-0.030296</td>\n",
       "      <td>-0.014963</td>\n",
       "    </tr>\n",
       "    <tr>\n",
       "      <th>Члены семьи</th>\n",
       "      <td>-0.008991</td>\n",
       "      <td>-0.006692</td>\n",
       "      <td>-0.030296</td>\n",
       "      <td>1.000000</td>\n",
       "      <td>-0.036290</td>\n",
       "    </tr>\n",
       "    <tr>\n",
       "      <th>Страховые выплаты</th>\n",
       "      <td>0.010140</td>\n",
       "      <td>0.651030</td>\n",
       "      <td>-0.014963</td>\n",
       "      <td>-0.036290</td>\n",
       "      <td>1.000000</td>\n",
       "    </tr>\n",
       "  </tbody>\n",
       "</table>\n",
       "</div>"
      ],
      "text/plain": [
       "                        Пол   Возраст  Зарплата  Члены семьи  \\\n",
       "Пол                1.000000  0.002074  0.014910    -0.008991   \n",
       "Возраст            0.002074  1.000000 -0.019093    -0.006692   \n",
       "Зарплата           0.014910 -0.019093  1.000000    -0.030296   \n",
       "Члены семьи       -0.008991 -0.006692 -0.030296     1.000000   \n",
       "Страховые выплаты  0.010140  0.651030 -0.014963    -0.036290   \n",
       "\n",
       "                   Страховые выплаты  \n",
       "Пол                         0.010140  \n",
       "Возраст                     0.651030  \n",
       "Зарплата                   -0.014963  \n",
       "Члены семьи                -0.036290  \n",
       "Страховые выплаты           1.000000  "
      ]
     },
     "metadata": {},
     "output_type": "display_data"
    },
    {
     "name": "stdout",
     "output_type": "stream",
     "text": [
      "\n"
     ]
    }
   ],
   "source": [
    "displayGeneralDataInfo(df)\n"
   ]
  },
  {
   "cell_type": "markdown",
   "metadata": {},
   "source": [
    "- There are no missing values. \n",
    "- There are no negative values.\n",
    "- The columns are capitalized. It is necessary to convert the columns to the same case for further work.\n",
    "\n",
    "Let's look at the distributions in the data. Let's write a function to display the distribution. Set the parameters for displaying the graphs"
   ]
  },
  {
   "cell_type": "code",
   "execution_count": 27,
   "metadata": {},
   "outputs": [],
   "source": [
    "%matplotlib inline\n",
    "small, medium, large = 14, 16, 22\n",
    "params = {'figure.figsize':   (14, 5),\n",
    "          'figure.titlesize': medium,\n",
    "          'legend.fontsize':  small,\n",
    "          'axes.titlesize':   small,\n",
    "          'axes.labelsize':   small,\n",
    "          'xtick.labelsize':  small,\n",
    "          'ytick.labelsize':  small,\n",
    "          'legend.loc':       'best'}\n",
    "plt.rcParams.update(params)"
   ]
  },
  {
   "cell_type": "code",
   "execution_count": 28,
   "metadata": {},
   "outputs": [],
   "source": [
    "def dataDistribution(df,column,title):\n",
    "    \"\"\"\n",
    "    The function outputs the distributions in the data\n",
    "    df - dataframe\n",
    "    column - column\n",
    "    title - title\n",
    "    x_label - name of x-axis\n",
    "    y_label - y-axis name\n",
    "    \"\"\"\n",
    "    sns.kdeplot(data=df[column], label=column, shade=True)\n",
    "    plt.title(title)\n",
    "    plt.legend()\n",
    "    plt.show()"
   ]
  },
  {
   "cell_type": "code",
   "execution_count": 29,
   "metadata": {},
   "outputs": [
    {
     "data": {
      "image/png": "[encoded data removed]",
      "text/plain": [
       "<Figure size 1008x360 with 1 Axes>"
      ]
     },
     "metadata": {
      "needs_background": "light"
     },
     "output_type": "display_data"
    }
   ],
   "source": [
    "dataDistribution(df, 'Возраст', \"Распределение возраста\")\n"
   ]
  },
  {
   "cell_type": "markdown",
   "metadata": {},
   "source": [
    "Most values are in the range of 20 to 35-40 years."
   ]
  },
  {
   "cell_type": "code",
   "execution_count": 30,
   "metadata": {},
   "outputs": [
    {
     "data": {
      "image/png": "[encoded data removed]",
      "text/plain": [
       "<Figure size 1008x360 with 1 Axes>"
      ]
     },
     "metadata": {
      "needs_background": "light"
     },
     "output_type": "display_data"
    }
   ],
   "source": [
    "dataDistribution(df, 'Зарплата', \"Распределение зарплаты\")\n"
   ]
  },
  {
   "cell_type": "markdown",
   "metadata": {},
   "source": [
    "The distribution is normal. On average, the client receives about 40000 rubles. Most of the values are in the range from 25 to 55 thousand rubles.\n",
    "\n"
   ]
  },
  {
   "cell_type": "code",
   "execution_count": 31,
   "metadata": {},
   "outputs": [
    {
     "data": {
      "image/png": "[encoded data removed]",
      "text/plain": [
       "<Figure size 1008x360 with 1 Axes>"
      ]
     },
     "metadata": {
      "needs_background": "light"
     },
     "output_type": "display_data"
    }
   ],
   "source": [
    "dataDistribution(df, 'Члены семьи', \"Распределение количества членов семьи\")\n"
   ]
  },
  {
   "cell_type": "markdown",
   "metadata": {},
   "source": [
    "        Most clients either have no family or have a partner but no children.\n",
    "\n"
   ]
  },
  {
   "cell_type": "code",
   "execution_count": 32,
   "metadata": {},
   "outputs": [
    {
     "data": {
      "image/png": "[encoded data removed]",
      "text/plain": [
       "<Figure size 1008x360 with 1 Axes>"
      ]
     },
     "metadata": {
      "needs_background": "light"
     },
     "output_type": "display_data"
    }
   ],
   "source": [
    "dataDistribution(df, 'Страховые выплаты', \"Распределение страховых выплат\")\n"
   ]
  },
  {
   "cell_type": "markdown",
   "metadata": {},
   "source": [
    "    Most clients don't have insurance benefits.\n",
    "\n"
   ]
  },
  {
   "cell_type": "markdown",
   "metadata": {},
   "source": [
    "**Conclusion:**\n",
    "- Age: Most values range from 20 to 35-40 years old.\n",
    "- Salary: We see a normal distribution. On average, the client receives about 40000 rubles. Most values are in the range of 25 to 55 thousand rubles.\n",
    "- Family members: Most clients do not have a family or have a family but without children.\n",
    "- Insurance payments: Most clients have no insurance payments.\n",
    "\n",
    "It can be concluded that the signs are distributed without outliers and anomalies. Next, let's look at the interrelation of attributes:\n",
    "\n",
    "\n"
   ]
  },
  {
   "cell_type": "code",
   "execution_count": 33,
   "metadata": {},
   "outputs": [
    {
     "data": {
      "image/png": "[encoded data removed]",
      "text/plain": [
       "<Figure size 504x504 with 2 Axes>"
      ]
     },
     "metadata": {
      "needs_background": "light"
     },
     "output_type": "display_data"
    }
   ],
   "source": [
    "fig, ax = plt.subplots(figsize=(7,7)) \n",
    "sns.heatmap(df.corr(),annot = True, fmt = '.2g', ax=ax, square=True)\n",
    "plt.title('Взаимосвязь признаков')\n",
    "plt.show() "
   ]
  },
  {
   "cell_type": "code",
   "execution_count": 34,
   "metadata": {},
   "outputs": [
    {
     "data": {
      "text/plain": [
       "0.6510300979467255"
      ]
     },
     "execution_count": 34,
     "metadata": {},
     "output_type": "execute_result"
    }
   ],
   "source": [
    "df['Страховые выплаты'].corr(df['Возраст'])\n"
   ]
  },
  {
   "cell_type": "markdown",
   "metadata": {},
   "source": [
    "It can be concluded that the target attribute is most influenced by the age of the client - the correlation coefficient is 0.65"
   ]
  },
  {
   "cell_type": "markdown",
   "metadata": {},
   "source": [
    "Let's lowercase the names of the columns"
   ]
  },
  {
   "cell_type": "code",
   "execution_count": 35,
   "metadata": {},
   "outputs": [
    {
     "data": {
      "text/plain": [
       "Index(['пол', 'возраст', 'зарплата', 'члены семьи', 'страховые выплаты'], dtype='object')"
      ]
     },
     "execution_count": 35,
     "metadata": {},
     "output_type": "execute_result"
    }
   ],
   "source": [
    "df.columns = df.columns.str.lower()\n",
    "df.columns"
   ]
  },
  {
   "cell_type": "markdown",
   "metadata": {},
   "source": [
    "Check the data for duplicates"
   ]
  },
  {
   "cell_type": "code",
   "execution_count": 36,
   "metadata": {},
   "outputs": [
    {
     "data": {
      "text/plain": [
       "153"
      ]
     },
     "execution_count": 36,
     "metadata": {},
     "output_type": "execute_result"
    }
   ],
   "source": [
    "df.duplicated().sum()\n"
   ]
  },
  {
   "cell_type": "markdown",
   "metadata": {},
   "source": [
    "We'll remove 153 duplicates"
   ]
  },
  {
   "cell_type": "code",
   "execution_count": 37,
   "metadata": {},
   "outputs": [],
   "source": [
    "df = df.drop_duplicates().reset_index(drop=True)\n"
   ]
  },
  {
   "cell_type": "markdown",
   "metadata": {},
   "source": [
    "Let's see how many properties we have left.\n",
    "\n"
   ]
  },
  {
   "cell_type": "code",
   "execution_count": 38,
   "metadata": {},
   "outputs": [
    {
     "name": "stdout",
     "output_type": "stream",
     "text": [
      "Количество обьектов: 4847\n"
     ]
    }
   ],
   "source": [
    "print(f'Количество обьектов: {df.shape[0]}')\n"
   ]
  },
  {
   "cell_type": "markdown",
   "metadata": {},
   "source": [
    "## Matrix multiplication"
   ]
  },
  {
   "cell_type": "markdown",
   "metadata": {},
   "source": [
    "Denotations:\n",
    "\n",
    "- $X$ - feature matrix (zero column consists of units)\n",
    "\n",
    "- $y$ - vector of target attribute\n",
    "\n",
    "- $P$ - matrix by which the signs are multiplied\n",
    "\n",
    "- $w$ - vector of linear regression weights (zero element is equal to the shift)"
   ]
  },
  {
   "cell_type": "markdown",
   "metadata": {},
   "source": [
    "Predictions:\n",
    "\n",
    "$$\n",
    "a = Xw\n",
    "$$\n",
    "\n",
    "Learning Objective:\n",
    "\n",
    "$$\n",
    "w = \\arg\\min_w MSE(Xw, y)\n",
    "$$\n",
    "\n",
    "Learning Formula:\n",
    "\n",
    "$$\n",
    "w = (X^T X)^{-1} X^T y\n",
    "$$"
   ]
  },
  {
   "cell_type": "markdown",
   "metadata": {},
   "source": [
    "**Answer:** when multiplied by a reversible matrix, the quality of the model will not change - the value of the metric remains the same.\n",
    "\n",
    "**Rationale:** \n",
    "Let $X$ be a feature matrix of dimension $(n, m)$ and a target feature vector $y$ of dimension $(n, 1)$. Let $w$ be a vector of linear regression weights of dimension $(m, 1)$.\n",
    "\n",
    "Then the predictions $a$ of the linear regression model can be computed as:\n",
    "a=Xw\n",
    "\n",
    "If we multiply matrix $X$ by some reversible matrix $P$ on the left side, we get a new matrix $X' = PX$\n",
    "\n",
    "If we replace matrix $X$ by $X'$ in the formula for weights $w$, we get a new formula for weights $w'$:\n",
    "\n",
    "\\begin{aligned}\n",
    "w' &= ((PX)^T(PX))^{-1}(PX)^Ty \\\n",
    "&= (X^TP^TPX)^{-1}X^TP^Ty \\\n",
    "&= (X^TX)^{-1}(P^T)^{-1}P^TX^Ty \\\n",
    "&= w\n",
    "\\end{aligned}\n",
    "\n",
    "The last equality is true because $(P^T)^{-1}P^T = I$, where $I$ is a unit matrix. Thus, when multiplied by a reversible matrix, the quality of the model will not change and the value of the metric will remain the same.\n"
   ]
  },
  {
   "cell_type": "markdown",
   "metadata": {},
   "source": [
    "**Rationale:**\n",
    "\n",
    "Properties used:\n",
    "$$\n",
    "(AB)^T=B^T A^T\n",
    "$$\n",
    "$$\n",
    "(AB)^{-1} = B^{-1} A^{-1}\n",
    "$$\n",
    "$$\n",
    "A A^{-1} = A^{-1} A = E\n",
    "$$\n",
    "$$\n",
    "AE = EA = A\n",
    "$$\n",
    "Proof:\n",
    "$$\n",
    "a = Xw = XEw = XPP^{-1}w = (XP)P^{-1}w = (XP)w'\n",
    "$$\n",
    "\\\n",
    "It is required to prove that the predictions will not change, we have  $a =  Xw$,   $a' = X'w'$\n",
    "\\\n",
    "\\\n",
    "$$\n",
    "    w = (X^T X)^{-1} X^T y\n",
    "$$\n",
    "\\\n",
    "$$\n",
    "w' = ((XP)^T XP)^{-1} (XP)^T y\n",
    "$$\n",
    "$$\n",
    "w' = (P^T (X^T X) P)^{-1} (XP)^T y\n",
    "$$\n",
    "$$\n",
    "w' = (P^T (X^T X) P)^{-1} P^T X^T y\n",
    "$$\n",
    "$$\n",
    "w' = P^{-1}(X^TX)^{-1}(P^T)^{-1}P^T X^T y\n",
    "$$\n",
    "Since the matrix is reversible, the product $(P^T)^{-1} P^T$ is equal to the unit matrix:\n",
    "$$\n",
    "w' = P^{-1}(X^TX)^{-1} X^T y\n",
    "$$\n",
    "$$\n",
    "w' = P^{-1} w\n",
    "$$\n",
    "We then substitute the new value into the formula to find the predictions:\n",
    "$$\n",
    "a' = (XP)wp = XPP^{-1}w\n",
    "$$\n",
    "$$\n",
    "a' = Xw = a\n",
    "$$"
   ]
  },
  {
   "cell_type": "markdown",
   "metadata": {},
   "source": [
    "## Conversion Algorithm"
   ]
  },
  {
   "cell_type": "markdown",
   "metadata": {},
   "source": [
    "**Algorithm**\n",
    "\n",
    "- create a random matrix;\n",
    "- check it for reversibility;\n",
    "- multiply the features by the resulting matrix;\n",
    "- find the R2 metric on the original and transformed data and compare them with each other."
   ]
  },
  {
   "cell_type": "markdown",
   "metadata": {},
   "source": [
    "**Rationale**.\n",
    "\n",
    "multiplication of the feature matrix by a reversible matrix will not change the linear dependence between the features and the target feature, as it will simply be a change of basis in the feature space.\n",
    "\n",
    "Thus, if the original feature matrix was linearly dependent and did not satisfy the reversibility condition, then the resulting feature matrix will also be linearly dependent. If the original feature matrix was linearly independent, then the resulting feature matrix will also be linearly independent.\n",
    "\n",
    "It follows that the metric R2 on the original and transformed data should be the same, since the linear dependence of the attributes and the target attribute will not change."
   ]
  },
  {
   "cell_type": "markdown",
   "metadata": {},
   "source": [
    "## Checking the algorithm"
   ]
  },
  {
   "cell_type": "markdown",
   "metadata": {},
   "source": [
    "We divide the data into training and test samples and define the features:\n",
    "\n"
   ]
  },
  {
   "cell_type": "code",
   "execution_count": 39,
   "metadata": {},
   "outputs": [],
   "source": [
    "df_train, df_test = train_test_split(df, test_size=0.4, random_state=12345)\n"
   ]
  },
  {
   "cell_type": "code",
   "execution_count": 41,
   "metadata": {},
   "outputs": [],
   "source": [
    "features_test_init = df_test.drop(['страховые выплаты'], axis=1)\n",
    "target_test = df_test['страховые выплаты']\n",
    "\n",
    "features_train_init = df_train.drop(['страховые выплаты'], axis=1)\n",
    "target_train = df_train['страховые выплаты']"
   ]
  },
  {
   "cell_type": "markdown",
   "metadata": {},
   "source": [
    "Train the linear regression model on the original data and find the value of the R2 metric:\n",
    "\n"
   ]
  },
  {
   "cell_type": "code",
   "execution_count": 42,
   "metadata": {},
   "outputs": [],
   "source": [
    "model = LinearRegression() \n",
    "model.fit(features_train_init, target_train) \n",
    "predictions_test = model.predict(features_test_init) \n",
    "r2_init = r2_score(target_test, predictions_test)"
   ]
  },
  {
   "cell_type": "markdown",
   "metadata": {},
   "source": [
    "Next, we will create a reversible matrix with dimensionality equal to the number of features. For this purpose, we will generate random matrices until we obtain a matrix with a non-zero determinant:"
   ]
  },
  {
   "cell_type": "code",
   "execution_count": 43,
   "metadata": {},
   "outputs": [],
   "source": [
    "det = 0\n",
    "while det == 0:\n",
    "    random_matrix = np.random.randint(500, size=(features_test_init.shape[1], features_test_init.shape[1]))\n",
    "    det = np.linalg.det(random_matrix) "
   ]
  },
  {
   "cell_type": "markdown",
   "metadata": {},
   "source": [
    "Let's multiply the signs by the generated random matrix:\n",
    "\n"
   ]
  },
  {
   "cell_type": "code",
   "execution_count": 44,
   "metadata": {},
   "outputs": [
    {
     "data": {
      "text/html": [
       "<div>\n",
       "<style scoped>\n",
       "    .dataframe tbody tr th:only-of-type {\n",
       "        vertical-align: middle;\n",
       "    }\n",
       "\n",
       "    .dataframe tbody tr th {\n",
       "        vertical-align: top;\n",
       "    }\n",
       "\n",
       "    .dataframe thead th {\n",
       "        text-align: right;\n",
       "    }\n",
       "</style>\n",
       "<table border=\"1\" class=\"dataframe\">\n",
       "  <thead>\n",
       "    <tr style=\"text-align: right;\">\n",
       "      <th></th>\n",
       "      <th>0</th>\n",
       "      <th>1</th>\n",
       "      <th>2</th>\n",
       "      <th>3</th>\n",
       "    </tr>\n",
       "  </thead>\n",
       "  <tbody>\n",
       "    <tr>\n",
       "      <th>1321</th>\n",
       "      <td>618166.0</td>\n",
       "      <td>11236600.0</td>\n",
       "      <td>16811978.0</td>\n",
       "      <td>11147318.0</td>\n",
       "    </tr>\n",
       "    <tr>\n",
       "      <th>3767</th>\n",
       "      <td>863021.0</td>\n",
       "      <td>15688298.0</td>\n",
       "      <td>23472598.0</td>\n",
       "      <td>15563605.0</td>\n",
       "    </tr>\n",
       "    <tr>\n",
       "      <th>166</th>\n",
       "      <td>447692.0</td>\n",
       "      <td>8073040.0</td>\n",
       "      <td>12081012.0</td>\n",
       "      <td>8012064.0</td>\n",
       "    </tr>\n",
       "    <tr>\n",
       "      <th>2935</th>\n",
       "      <td>258981.0</td>\n",
       "      <td>4598778.0</td>\n",
       "      <td>6885654.0</td>\n",
       "      <td>4568293.0</td>\n",
       "    </tr>\n",
       "    <tr>\n",
       "      <th>423</th>\n",
       "      <td>366946.0</td>\n",
       "      <td>6551232.0</td>\n",
       "      <td>9807514.0</td>\n",
       "      <td>6505894.0</td>\n",
       "    </tr>\n",
       "  </tbody>\n",
       "</table>\n",
       "</div>"
      ],
      "text/plain": [
       "             0           1           2           3\n",
       "1321  618166.0  11236600.0  16811978.0  11147318.0\n",
       "3767  863021.0  15688298.0  23472598.0  15563605.0\n",
       "166   447692.0   8073040.0  12081012.0   8012064.0\n",
       "2935  258981.0   4598778.0   6885654.0   4568293.0\n",
       "423   366946.0   6551232.0   9807514.0   6505894.0"
      ]
     },
     "execution_count": 44,
     "metadata": {},
     "output_type": "execute_result"
    }
   ],
   "source": [
    "features_test_conv = features_test_init.dot(random_matrix)\n",
    "features_train_conv = features_train_init.dot(random_matrix)\n",
    "features_test_conv.head()"
   ]
  },
  {
   "cell_type": "markdown",
   "metadata": {},
   "source": [
    "You can decipher the data by multiplying by the inverse of the matrix created and rounding the values:\n",
    "\n"
   ]
  },
  {
   "cell_type": "code",
   "execution_count": 45,
   "metadata": {},
   "outputs": [
    {
     "data": {
      "text/html": [
       "<div>\n",
       "<style scoped>\n",
       "    .dataframe tbody tr th:only-of-type {\n",
       "        vertical-align: middle;\n",
       "    }\n",
       "\n",
       "    .dataframe tbody tr th {\n",
       "        vertical-align: top;\n",
       "    }\n",
       "\n",
       "    .dataframe thead th {\n",
       "        text-align: right;\n",
       "    }\n",
       "</style>\n",
       "<table border=\"1\" class=\"dataframe\">\n",
       "  <thead>\n",
       "    <tr style=\"text-align: right;\">\n",
       "      <th></th>\n",
       "      <th>0</th>\n",
       "      <th>1</th>\n",
       "      <th>2</th>\n",
       "      <th>3</th>\n",
       "    </tr>\n",
       "  </thead>\n",
       "  <tbody>\n",
       "    <tr>\n",
       "      <th>1321</th>\n",
       "      <td>1.0</td>\n",
       "      <td>23.0</td>\n",
       "      <td>47200.0</td>\n",
       "      <td>-0.0</td>\n",
       "    </tr>\n",
       "    <tr>\n",
       "      <th>3767</th>\n",
       "      <td>1.0</td>\n",
       "      <td>32.0</td>\n",
       "      <td>65900.0</td>\n",
       "      <td>-0.0</td>\n",
       "    </tr>\n",
       "    <tr>\n",
       "      <th>166</th>\n",
       "      <td>1.0</td>\n",
       "      <td>33.0</td>\n",
       "      <td>33900.0</td>\n",
       "      <td>2.0</td>\n",
       "    </tr>\n",
       "    <tr>\n",
       "      <th>2935</th>\n",
       "      <td>0.0</td>\n",
       "      <td>39.0</td>\n",
       "      <td>19300.0</td>\n",
       "      <td>2.0</td>\n",
       "    </tr>\n",
       "    <tr>\n",
       "      <th>423</th>\n",
       "      <td>-0.0</td>\n",
       "      <td>46.0</td>\n",
       "      <td>27500.0</td>\n",
       "      <td>2.0</td>\n",
       "    </tr>\n",
       "  </tbody>\n",
       "</table>\n",
       "</div>"
      ],
      "text/plain": [
       "        0     1        2    3\n",
       "1321  1.0  23.0  47200.0 -0.0\n",
       "3767  1.0  32.0  65900.0 -0.0\n",
       "166   1.0  33.0  33900.0  2.0\n",
       "2935  0.0  39.0  19300.0  2.0\n",
       "423  -0.0  46.0  27500.0  2.0"
      ]
     },
     "execution_count": 45,
     "metadata": {},
     "output_type": "execute_result"
    }
   ],
   "source": [
    "np.round(features_test_conv.dot(np.linalg.inv(random_matrix))).head()\n"
   ]
  },
  {
   "cell_type": "markdown",
   "metadata": {},
   "source": [
    "We train a linear regression model on the transformed data and compare the value of the R2 metric:\n",
    "\n"
   ]
  },
  {
   "cell_type": "code",
   "execution_count": 47,
   "metadata": {},
   "outputs": [
    {
     "name": "stdout",
     "output_type": "stream",
     "text": [
      "R2 модели на исходных данных:        0.42726613438114014\n",
      "R2 модели на преобразованных данных: 0.4272661343811538\n",
      "Pазница: 1.3655743202889425e-14\n"
     ]
    }
   ],
   "source": [
    "model = LinearRegression() \n",
    "model.fit(features_train_conv, target_train) \n",
    "predictions_test = model.predict(features_test_conv) \n",
    "r2_conv = r2_score(target_test, predictions_test)\n",
    "print('R2 модели на исходных данных:       ', r2_conv)\n",
    "print('R2 модели на преобразованных данных:', r2_init)\n",
    "print('Pазница:', r2_init-r2_conv)"
   ]
  },
  {
   "cell_type": "markdown",
   "metadata": {},
   "source": [
    "The values of the R2 metric are almost the same, and the quality of the regression does not change.\n",
    "\n"
   ]
  },
  {
   "cell_type": "markdown",
   "metadata": {},
   "source": [
    "**Conclusion**\n",
    "\n",
    "According to the results of the conducted research, we can conclude that the proposed algorithm fulfills the set task - when multiplying the feature matrix by a random reversible matrix, visually the data is distorted, but the quality of regression does not change."
   ]
  }
 ],
 "metadata": {
  "ExecuteTimeLog": [
   {
    "duration": 1866,
    "start_time": "2023-05-03T06:59:11.805Z"
   },
   {
    "duration": 133,
    "start_time": "2023-05-03T06:59:42.409Z"
   },
   {
    "duration": 19,
    "start_time": "2023-05-03T06:59:59.188Z"
   },
   {
    "duration": 6,
    "start_time": "2023-05-03T07:01:18.304Z"
   },
   {
    "duration": 60,
    "start_time": "2023-05-03T07:01:30.868Z"
   },
   {
    "duration": 6,
    "start_time": "2023-05-03T07:03:00.491Z"
   },
   {
    "duration": 3,
    "start_time": "2023-05-03T07:03:52.879Z"
   },
   {
    "duration": 199,
    "start_time": "2023-05-03T07:04:06.661Z"
   },
   {
    "duration": 8,
    "start_time": "2023-05-03T07:04:29.710Z"
   },
   {
    "duration": 226,
    "start_time": "2023-05-03T07:04:31.505Z"
   },
   {
    "duration": 157,
    "start_time": "2023-05-03T07:05:39.768Z"
   },
   {
    "duration": 12,
    "start_time": "2023-05-03T07:05:43.106Z"
   },
   {
    "duration": 210,
    "start_time": "2023-05-03T07:05:48.165Z"
   },
   {
    "duration": 12,
    "start_time": "2023-05-03T07:06:51.231Z"
   },
   {
    "duration": 234,
    "start_time": "2023-05-03T07:06:55.867Z"
   },
   {
    "duration": 366,
    "start_time": "2023-05-03T07:08:25.855Z"
   },
   {
    "duration": 7,
    "start_time": "2023-05-03T07:11:03.610Z"
   },
   {
    "duration": 9,
    "start_time": "2023-05-03T07:12:02.035Z"
   },
   {
    "duration": 11,
    "start_time": "2023-05-03T07:12:34.717Z"
   },
   {
    "duration": 4,
    "start_time": "2023-05-03T07:13:02.656Z"
   },
   {
    "duration": 503,
    "start_time": "2023-05-03T07:14:13.440Z"
   },
   {
    "duration": 1598,
    "start_time": "2023-05-03T07:14:27.540Z"
   },
   {
    "duration": 4,
    "start_time": "2023-05-03T07:14:33.161Z"
   },
   {
    "duration": 39,
    "start_time": "2023-05-03T07:14:33.701Z"
   },
   {
    "duration": 5,
    "start_time": "2023-05-03T07:14:34.628Z"
   },
   {
    "duration": 66,
    "start_time": "2023-05-03T07:14:35.342Z"
   },
   {
    "duration": 7,
    "start_time": "2023-05-03T07:14:37.232Z"
   },
   {
    "duration": 4,
    "start_time": "2023-05-03T07:14:37.942Z"
   },
   {
    "duration": 197,
    "start_time": "2023-05-03T07:14:38.622Z"
   },
   {
    "duration": 230,
    "start_time": "2023-05-03T07:14:39.768Z"
   },
   {
    "duration": 210,
    "start_time": "2023-05-03T07:14:41.115Z"
   },
   {
    "duration": 256,
    "start_time": "2023-05-03T07:14:42.371Z"
   },
   {
    "duration": 409,
    "start_time": "2023-05-03T07:14:44.324Z"
   },
   {
    "duration": 6,
    "start_time": "2023-05-03T07:14:45.762Z"
   },
   {
    "duration": 11,
    "start_time": "2023-05-03T07:15:13.480Z"
   },
   {
    "duration": 11,
    "start_time": "2023-05-03T07:15:14.728Z"
   },
   {
    "duration": 6,
    "start_time": "2023-05-03T07:15:15.706Z"
   },
   {
    "duration": 4,
    "start_time": "2023-05-03T07:15:16.759Z"
   },
   {
    "duration": 5,
    "start_time": "2023-05-03T07:34:16.263Z"
   },
   {
    "duration": 15,
    "start_time": "2023-05-03T07:34:33.538Z"
   },
   {
    "duration": 5,
    "start_time": "2023-05-03T07:35:03.373Z"
   },
   {
    "duration": 9,
    "start_time": "2023-05-03T07:35:24.819Z"
   },
   {
    "duration": 3,
    "start_time": "2023-05-03T07:35:48.101Z"
   },
   {
    "duration": 13,
    "start_time": "2023-05-03T07:36:25.029Z"
   },
   {
    "duration": 32,
    "start_time": "2023-05-03T07:36:47.489Z"
   },
   {
    "duration": 154,
    "start_time": "2023-05-03T07:36:54.875Z"
   },
   {
    "duration": 12,
    "start_time": "2023-05-03T07:37:04.813Z"
   }
  ],
  "kernelspec": {
   "display_name": "Python 3 (ipykernel)",
   "language": "python",
   "name": "python3"
  },
  "language_info": {
   "codemirror_mode": {
    "name": "ipython",
    "version": 3
   },
   "file_extension": ".py",
   "mimetype": "text/x-python",
   "name": "python",
   "nbconvert_exporter": "python",
   "pygments_lexer": "ipython3",
   "version": "3.11.2"
  },
  "toc": {
   "base_numbering": 1,
   "nav_menu": {},
   "number_sections": true,
   "sideBar": true,
   "skip_h1_title": true,
   "title_cell": "Содержание",
   "title_sidebar": "Contents",
   "toc_cell": true,
   "toc_position": {},
   "toc_section_display": true,
   "toc_window_display": true
  }
 },
 "nbformat": 4,
 "nbformat_minor": 2
}
