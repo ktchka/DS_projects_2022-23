{
 "cells": [
  {
   "cell_type": "markdown",
   "metadata": {
    "id": "sIfNaMOxgFyK"
   },
   "source": [
    "## Survey of Russian film distribution data\n",
    "\n"
   ]
  },
  {
   "cell_type": "markdown",
   "metadata": {},
   "source": [
    "Objective: to study the Russian film distribution market and identify current trends. Pay attention to films that have received state support. Try to answer the question of how interesting such films are to the viewer.\n",
    "\n",
    "**To do this, we will:**\n",
    "\n",
    "** Examine general information\n",
    "* Pre-process the data: fill in the blanks, list data types, handle outliers.\n",
    "* Add the columns we need to analyze.\n",
    "* ¶¶ Conduct an exploratory analysis ¶¶ \n",
    "* Research films that have received government support.\n",
    "\n",
    "\n",
    "**Data Description**\n",
    "\n",
    "The `mkrf_movies` table contains information from the rental certificate registry. One movie can have several rental certificates.\n",
    "\n",
    "- `title` - title of the movie;\n",
    "- `puNumber` - number of rental certificate;\n",
    "- `show_start_date` - premiere date of the movie;\n",
    "- `type` - type of the movie;\n",
    "- `film_studio` - production studio;\n",
    "- `production_country` - production country;\n",
    "- `director` - director;\n",
    "- `producer` - producer;\n",
    "- `age_restriction` - age category;\n",
    "- `refundable_support` _-_ amount of refundable government support funds;\n",
    "- `nonrefundable_support` _-_ amount of non-refundable state support funds;\n",
    "- `financing_source` _-_ the source of public funding;\n",
    "- `budget` _-_ the total budget of the movie;\n",
    "- `ratings` _-_ the movie's rating on MoviePoetry;\n",
    "- `genres` _-_ the genre of the movie.\n",
    "\n",
    "The `budget` column already includes the full amount of government support. The data in this column is only for those films that received state support.\n",
    "\n",
    "Table `mkrf_shows` contains information about film screenings in Russian cinemas.\n",
    "\n",
    "- `puNumber` - number of the rental certificate;\n",
    "- `box_office` - box office receipts in rubles.\n",
    "\n"
   ]
  },
  {
   "cell_type": "markdown",
   "metadata": {
    "id": "3bSlkCsbgFyL"
   },
   "source": [
    "### Step 1: Open the data files and merge them into a single dataframe. \n",
    "\n",
    "Merge the data so that all objects from the `mkrf_movies` dataset are included in the resulting dataframe. \n"
   ]
  },
  {
   "cell_type": "code",
   "execution_count": 1,
   "metadata": {
    "id": "dw87FlzMgFyM"
   },
   "outputs": [],
   "source": [
    "import pandas as pd\n",
    "import matplotlib.pyplot as plt\n",
    "import seaborn as sns"
   ]
  },
  {
   "cell_type": "code",
   "execution_count": 2,
   "metadata": {},
   "outputs": [
    {
     "name": "stdout",
     "output_type": "stream",
     "text": [
      "<class 'pandas.core.frame.DataFrame'>\n",
      "RangeIndex: 7486 entries, 0 to 7485\n",
      "Data columns (total 15 columns):\n",
      " #   Column                 Non-Null Count  Dtype  \n",
      "---  ------                 --------------  -----  \n",
      " 0   title                  7486 non-null   object \n",
      " 1   puNumber               7486 non-null   object \n",
      " 2   show_start_date        7486 non-null   object \n",
      " 3   type                   7486 non-null   object \n",
      " 4   film_studio            7468 non-null   object \n",
      " 5   production_country     7484 non-null   object \n",
      " 6   director               7477 non-null   object \n",
      " 7   producer               6918 non-null   object \n",
      " 8   age_restriction        7486 non-null   object \n",
      " 9   refundable_support     332 non-null    float64\n",
      " 10  nonrefundable_support  332 non-null    float64\n",
      " 11  budget                 332 non-null    float64\n",
      " 12  financing_source       332 non-null    object \n",
      " 13  ratings                6519 non-null   object \n",
      " 14  genres                 6510 non-null   object \n",
      "dtypes: float64(3), object(12)\n",
      "memory usage: 877.4+ KB\n"
     ]
    }
   ],
   "source": [
    "movies_df = pd.read_csv('https://code.s3.yandex.net/datasets/mkrf_movies.csv')\n",
    "movies_df.info()"
   ]
  },
  {
   "cell_type": "markdown",
   "metadata": {},
   "source": [
    "We will merge by column `puNumber` - number of rental license. To do this, first replace the word \"no\" in the column with 0 and then change the data type to int64"
   ]
  },
  {
   "cell_type": "code",
   "execution_count": 3,
   "metadata": {},
   "outputs": [],
   "source": [
    "movies_df.loc[movies_df['puNumber']=='нет', 'puNumber'] = 0 \n",
    "movies_df['puNumber'] = movies_df['puNumber'].astype('int64')"
   ]
  },
  {
   "cell_type": "code",
   "execution_count": 4,
   "metadata": {},
   "outputs": [
    {
     "name": "stdout",
     "output_type": "stream",
     "text": [
      "<class 'pandas.core.frame.DataFrame'>\n",
      "RangeIndex: 3158 entries, 0 to 3157\n",
      "Data columns (total 2 columns):\n",
      " #   Column      Non-Null Count  Dtype  \n",
      "---  ------      --------------  -----  \n",
      " 0   puNumber    3158 non-null   int64  \n",
      " 1   box_office  3158 non-null   float64\n",
      "dtypes: float64(1), int64(1)\n",
      "memory usage: 49.5 KB\n"
     ]
    }
   ],
   "source": [
    "shows_df = pd.read_csv('/datasets/mkrf_shows.csv')\n",
    "shows_df.info()"
   ]
  },
  {
   "cell_type": "code",
   "execution_count": 84,
   "metadata": {},
   "outputs": [],
   "source": [
    "df = movies_df.merge(shows_df, on='puNumber', how='left')\n"
   ]
  },
  {
   "cell_type": "code",
   "execution_count": 85,
   "metadata": {},
   "outputs": [
    {
     "data": {
      "text/html": [
       "<div>\n",
       "<style scoped>\n",
       "    .dataframe tbody tr th:only-of-type {\n",
       "        vertical-align: middle;\n",
       "    }\n",
       "\n",
       "    .dataframe tbody tr th {\n",
       "        vertical-align: top;\n",
       "    }\n",
       "\n",
       "    .dataframe thead th {\n",
       "        text-align: right;\n",
       "    }\n",
       "</style>\n",
       "<table border=\"1\" class=\"dataframe\">\n",
       "  <thead>\n",
       "    <tr style=\"text-align: right;\">\n",
       "      <th></th>\n",
       "      <th>title</th>\n",
       "      <th>puNumber</th>\n",
       "      <th>show_start_date</th>\n",
       "      <th>type</th>\n",
       "      <th>film_studio</th>\n",
       "      <th>production_country</th>\n",
       "      <th>director</th>\n",
       "      <th>producer</th>\n",
       "      <th>age_restriction</th>\n",
       "      <th>refundable_support</th>\n",
       "      <th>nonrefundable_support</th>\n",
       "      <th>budget</th>\n",
       "      <th>financing_source</th>\n",
       "      <th>ratings</th>\n",
       "      <th>genres</th>\n",
       "      <th>box_office</th>\n",
       "    </tr>\n",
       "  </thead>\n",
       "  <tbody>\n",
       "    <tr>\n",
       "      <th>0</th>\n",
       "      <td>Открытый простор</td>\n",
       "      <td>221048915</td>\n",
       "      <td>2015-11-27T12:00:00.000Z</td>\n",
       "      <td>Художественный</td>\n",
       "      <td>Тачстоун Пикчерз, Кобальт Пикчерз, Бикон Пикче...</td>\n",
       "      <td>США</td>\n",
       "      <td>Кевин Костнер</td>\n",
       "      <td>Дэвид Валдес, Кевин Костнер, Джейк Эбертс</td>\n",
       "      <td>«18+» - запрещено для детей</td>\n",
       "      <td>NaN</td>\n",
       "      <td>NaN</td>\n",
       "      <td>NaN</td>\n",
       "      <td>NaN</td>\n",
       "      <td>7.2</td>\n",
       "      <td>боевик,драма,мелодрама</td>\n",
       "      <td>NaN</td>\n",
       "    </tr>\n",
       "    <tr>\n",
       "      <th>1</th>\n",
       "      <td>Особо важное задание</td>\n",
       "      <td>111013716</td>\n",
       "      <td>2016-09-13T12:00:00.000Z</td>\n",
       "      <td>Художественный</td>\n",
       "      <td>Киностудия \"Мосфильм\"</td>\n",
       "      <td>СССР</td>\n",
       "      <td>Е.Матвеев</td>\n",
       "      <td>NaN</td>\n",
       "      <td>«6+» - для детей старше 6 лет</td>\n",
       "      <td>NaN</td>\n",
       "      <td>NaN</td>\n",
       "      <td>NaN</td>\n",
       "      <td>NaN</td>\n",
       "      <td>6.6</td>\n",
       "      <td>драма,военный</td>\n",
       "      <td>NaN</td>\n",
       "    </tr>\n",
       "    <tr>\n",
       "      <th>2</th>\n",
       "      <td>Особо опасен</td>\n",
       "      <td>221038416</td>\n",
       "      <td>2016-10-10T12:00:00.000Z</td>\n",
       "      <td>Художественный</td>\n",
       "      <td>Юниверсал Пикчерз, Кикстарт Продакшнз, Марк Пл...</td>\n",
       "      <td>США</td>\n",
       "      <td>Тимур Бекмамбетов</td>\n",
       "      <td>Джим Лемли, Джейсон Нетер, Марк Е.Платт, Яйн Смит</td>\n",
       "      <td>«18+» - запрещено для детей</td>\n",
       "      <td>NaN</td>\n",
       "      <td>NaN</td>\n",
       "      <td>NaN</td>\n",
       "      <td>NaN</td>\n",
       "      <td>6.8</td>\n",
       "      <td>фантастика,боевик,триллер</td>\n",
       "      <td>NaN</td>\n",
       "    </tr>\n",
       "    <tr>\n",
       "      <th>3</th>\n",
       "      <td>Особо опасен</td>\n",
       "      <td>221026916</td>\n",
       "      <td>2016-06-10T12:00:00.000Z</td>\n",
       "      <td>Художественный</td>\n",
       "      <td>Юниверсал Пикчерз, Кикстарт Продакшнз, Марк Пл...</td>\n",
       "      <td>США</td>\n",
       "      <td>Тимур Бекмамбетов</td>\n",
       "      <td>Джим Лемли, Джейсон Нетер, Марк Е.Платт, Яйн Смит</td>\n",
       "      <td>«18+» - запрещено для детей</td>\n",
       "      <td>NaN</td>\n",
       "      <td>NaN</td>\n",
       "      <td>NaN</td>\n",
       "      <td>NaN</td>\n",
       "      <td>6.8</td>\n",
       "      <td>фантастика,боевик,триллер</td>\n",
       "      <td>NaN</td>\n",
       "    </tr>\n",
       "    <tr>\n",
       "      <th>4</th>\n",
       "      <td>Особо опасен</td>\n",
       "      <td>221030815</td>\n",
       "      <td>2015-07-29T12:00:00.000Z</td>\n",
       "      <td>Художественный</td>\n",
       "      <td>Юниверсал Пикчерз, Кикстарт Продакшнз, Марк Пл...</td>\n",
       "      <td>США</td>\n",
       "      <td>Тимур Бекмамбетов</td>\n",
       "      <td>Джим Лемли, Джейсон Нетер, Марк Е.Платт, Яйн Смит</td>\n",
       "      <td>«18+» - запрещено для детей</td>\n",
       "      <td>NaN</td>\n",
       "      <td>NaN</td>\n",
       "      <td>NaN</td>\n",
       "      <td>NaN</td>\n",
       "      <td>6.8</td>\n",
       "      <td>фантастика,боевик,триллер</td>\n",
       "      <td>NaN</td>\n",
       "    </tr>\n",
       "  </tbody>\n",
       "</table>\n",
       "</div>"
      ],
      "text/plain": [
       "                  title   puNumber           show_start_date            type  \\\n",
       "0      Открытый простор  221048915  2015-11-27T12:00:00.000Z  Художественный   \n",
       "1  Особо важное задание  111013716  2016-09-13T12:00:00.000Z  Художественный   \n",
       "2          Особо опасен  221038416  2016-10-10T12:00:00.000Z  Художественный   \n",
       "3          Особо опасен  221026916  2016-06-10T12:00:00.000Z  Художественный   \n",
       "4          Особо опасен  221030815  2015-07-29T12:00:00.000Z  Художественный   \n",
       "\n",
       "                                         film_studio production_country  \\\n",
       "0  Тачстоун Пикчерз, Кобальт Пикчерз, Бикон Пикче...                США   \n",
       "1                              Киностудия \"Мосфильм\"               СССР   \n",
       "2  Юниверсал Пикчерз, Кикстарт Продакшнз, Марк Пл...                США   \n",
       "3  Юниверсал Пикчерз, Кикстарт Продакшнз, Марк Пл...                США   \n",
       "4  Юниверсал Пикчерз, Кикстарт Продакшнз, Марк Пл...                США   \n",
       "\n",
       "            director                                           producer  \\\n",
       "0      Кевин Костнер          Дэвид Валдес, Кевин Костнер, Джейк Эбертс   \n",
       "1          Е.Матвеев                                                NaN   \n",
       "2  Тимур Бекмамбетов  Джим Лемли, Джейсон Нетер, Марк Е.Платт, Яйн Смит   \n",
       "3  Тимур Бекмамбетов  Джим Лемли, Джейсон Нетер, Марк Е.Платт, Яйн Смит   \n",
       "4  Тимур Бекмамбетов  Джим Лемли, Джейсон Нетер, Марк Е.Платт, Яйн Смит   \n",
       "\n",
       "                 age_restriction  refundable_support  nonrefundable_support  \\\n",
       "0    «18+» - запрещено для детей                 NaN                    NaN   \n",
       "1  «6+» - для детей старше 6 лет                 NaN                    NaN   \n",
       "2    «18+» - запрещено для детей                 NaN                    NaN   \n",
       "3    «18+» - запрещено для детей                 NaN                    NaN   \n",
       "4    «18+» - запрещено для детей                 NaN                    NaN   \n",
       "\n",
       "   budget financing_source ratings                     genres  box_office  \n",
       "0     NaN              NaN     7.2     боевик,драма,мелодрама         NaN  \n",
       "1     NaN              NaN     6.6              драма,военный         NaN  \n",
       "2     NaN              NaN     6.8  фантастика,боевик,триллер         NaN  \n",
       "3     NaN              NaN     6.8  фантастика,боевик,триллер         NaN  \n",
       "4     NaN              NaN     6.8  фантастика,боевик,триллер         NaN  "
      ]
     },
     "execution_count": 85,
     "metadata": {},
     "output_type": "execute_result"
    }
   ],
   "source": [
    "df.head()"
   ]
  },
  {
   "cell_type": "code",
   "execution_count": 7,
   "metadata": {},
   "outputs": [
    {
     "name": "stdout",
     "output_type": "stream",
     "text": [
      "<class 'pandas.core.frame.DataFrame'>\n",
      "Int64Index: 7486 entries, 0 to 7485\n",
      "Data columns (total 16 columns):\n",
      " #   Column                 Non-Null Count  Dtype  \n",
      "---  ------                 --------------  -----  \n",
      " 0   title                  7486 non-null   object \n",
      " 1   puNumber               7486 non-null   int64  \n",
      " 2   show_start_date        7486 non-null   object \n",
      " 3   type                   7486 non-null   object \n",
      " 4   film_studio            7468 non-null   object \n",
      " 5   production_country     7484 non-null   object \n",
      " 6   director               7477 non-null   object \n",
      " 7   producer               6918 non-null   object \n",
      " 8   age_restriction        7486 non-null   object \n",
      " 9   refundable_support     332 non-null    float64\n",
      " 10  nonrefundable_support  332 non-null    float64\n",
      " 11  budget                 332 non-null    float64\n",
      " 12  financing_source       332 non-null    object \n",
      " 13  ratings                6519 non-null   object \n",
      " 14  genres                 6510 non-null   object \n",
      " 15  box_office             3158 non-null   float64\n",
      "dtypes: float64(4), int64(1), object(11)\n",
      "memory usage: 994.2+ KB\n"
     ]
    }
   ],
   "source": [
    "df.info()"
   ]
  },
  {
   "cell_type": "markdown",
   "metadata": {},
   "source": [
    "\n",
    "The number of rows in the resulting dataset matches the source ('budget'). It means that the result is correct.\n",
    "    \n",
    "When the number of rows does not match: if we choose the wrong join method. For example, if we choose right, the resulting dataset will include all values from the 'right' dataset, so about 4000 rows of the left one will be cut off.\n"
   ]
  },
  {
   "cell_type": "code",
   "execution_count": 8,
   "metadata": {},
   "outputs": [],
   "source": [
    "pd.options.display.float_format = '{:,.2f}'.format"
   ]
  },
  {
   "cell_type": "markdown",
   "metadata": {
    "id": "KLDGpPG0gFyM"
   },
   "source": [
    "### Step 2: Data preprocessing"
   ]
  },
  {
   "cell_type": "markdown",
   "metadata": {
    "id": "ssWwKXsxgFyO"
   },
   "source": [
    "#### Step 2.1. Check the data types\n",
    "\n",
    "- Check the data types in the dataframe and convert them where necessary."
   ]
  },
  {
   "cell_type": "code",
   "execution_count": 9,
   "metadata": {
    "id": "kVGSplJOgFyO"
   },
   "outputs": [
    {
     "name": "stdout",
     "output_type": "stream",
     "text": [
      "<class 'pandas.core.frame.DataFrame'>\n",
      "Int64Index: 7486 entries, 0 to 7485\n",
      "Data columns (total 16 columns):\n",
      " #   Column                 Non-Null Count  Dtype  \n",
      "---  ------                 --------------  -----  \n",
      " 0   title                  7486 non-null   object \n",
      " 1   puNumber               7486 non-null   int64  \n",
      " 2   show_start_date        7486 non-null   object \n",
      " 3   type                   7486 non-null   object \n",
      " 4   film_studio            7468 non-null   object \n",
      " 5   production_country     7484 non-null   object \n",
      " 6   director               7477 non-null   object \n",
      " 7   producer               6918 non-null   object \n",
      " 8   age_restriction        7486 non-null   object \n",
      " 9   refundable_support     332 non-null    float64\n",
      " 10  nonrefundable_support  332 non-null    float64\n",
      " 11  budget                 332 non-null    float64\n",
      " 12  financing_source       332 non-null    object \n",
      " 13  ratings                6519 non-null   object \n",
      " 14  genres                 6510 non-null   object \n",
      " 15  box_office             3158 non-null   float64\n",
      "dtypes: float64(4), int64(1), object(11)\n",
      "memory usage: 994.2+ KB\n"
     ]
    }
   ],
   "source": [
    "df.info()"
   ]
  },
  {
   "cell_type": "markdown",
   "metadata": {},
   "source": [
    "Let's change the data type of the following columns:\n",
    "* show_start_date to datetime\n",
    "* ratings to float32\n",
    "* refundable_support, nonrefundable_support, budget, box_office to float32 to save memory\n",
    "* puNumber on int32 to save memory"
   ]
  },
  {
   "cell_type": "code",
   "execution_count": 87,
   "metadata": {},
   "outputs": [],
   "source": [
    "df['show_start_date'] = pd.to_datetime(df['show_start_date'], format=\"%Y-%m-%dT%H:%M:%S.%fZ\")"
   ]
  },
  {
   "cell_type": "code",
   "execution_count": 88,
   "metadata": {},
   "outputs": [
    {
     "data": {
      "text/plain": [
       "0   2015-11-27 12:00:00\n",
       "1   2016-09-13 12:00:00\n",
       "2   2016-10-10 12:00:00\n",
       "3   2016-06-10 12:00:00\n",
       "4   2015-07-29 12:00:00\n",
       "Name: show_start_date, dtype: datetime64[ns]"
      ]
     },
     "execution_count": 88,
     "metadata": {},
     "output_type": "execute_result"
    }
   ],
   "source": [
    "df['show_start_date'].head()"
   ]
  },
  {
   "cell_type": "code",
   "execution_count": 12,
   "metadata": {},
   "outputs": [],
   "source": [
    "float_cols = [ 'refundable_support', 'nonrefundable_support', 'budget', 'box_office']\n",
    "for col in float_cols:\n",
    "    df[col] = df[col].astype('float32')\n"
   ]
  },
  {
   "cell_type": "code",
   "execution_count": 13,
   "metadata": {},
   "outputs": [
    {
     "data": {
      "text/plain": [
       "6.6    312\n",
       "6.7    308\n",
       "6.8    261\n",
       "7.2    252\n",
       "6.2    243\n",
       "      ... \n",
       "64%      1\n",
       "1.0      1\n",
       "89%      1\n",
       "8.9      1\n",
       "9.2      1\n",
       "Name: ratings, Length: 94, dtype: int64"
      ]
     },
     "execution_count": 13,
     "metadata": {},
     "output_type": "execute_result"
    }
   ],
   "source": [
    "df['ratings'].value_counts()"
   ]
  },
  {
   "cell_type": "code",
   "execution_count": 14,
   "metadata": {},
   "outputs": [],
   "source": [
    "for i in df['ratings']:\n",
    "    if '%' in str(i):\n",
    "        #df.loc[i,df['ratings']] = int(i[:-1])/10\n",
    "        n = int(i[:-1])/10\n",
    "        df.loc[df['ratings']==i, 'ratings'] = n"
   ]
  },
  {
   "cell_type": "code",
   "execution_count": 15,
   "metadata": {},
   "outputs": [
    {
     "data": {
      "text/plain": [
       "967"
      ]
     },
     "execution_count": 15,
     "metadata": {},
     "output_type": "execute_result"
    }
   ],
   "source": [
    "df['ratings'].isna().sum()"
   ]
  },
  {
   "cell_type": "markdown",
   "metadata": {},
   "source": [
    "In our analysis, we will discard ratings equal to 0 and 10. So we will replace the missing values in the rating column with 0 and then change the data type."
   ]
  },
  {
   "cell_type": "code",
   "execution_count": 16,
   "metadata": {},
   "outputs": [],
   "source": [
    "df['ratings'] = df['ratings'].fillna(0).astype('float32')"
   ]
  },
  {
   "cell_type": "markdown",
   "metadata": {
    "id": "i0MOLbF-gFyP"
   },
   "source": [
    "#### Step 2.2 Examine the gaps in the dataframe\n",
    "\n",
    "- Explain why you filled in the gaps in a certain way or why you did not."
   ]
  },
  {
   "cell_type": "code",
   "execution_count": 17,
   "metadata": {
    "id": "8MJD_lkngFyP"
   },
   "outputs": [
    {
     "data": {
      "text/plain": [
       "<seaborn.axisgrid.FacetGrid at 0x7fdfb2903f70>"
      ]
     },
     "execution_count": 17,
     "metadata": {},
     "output_type": "execute_result"
    },
    {
     "data": {
      "text/plain": [
       "<Figure size 720x432 with 0 Axes>"
      ]
     },
     "metadata": {},
     "output_type": "display_data"
    },
    {
     "data": {
      "image/png": "[encoded data removed]",
      "text/plain": [
       "<Figure size 511.25x360 with 1 Axes>"
      ]
     },
     "metadata": {
      "needs_background": "light"
     },
     "output_type": "display_data"
    }
   ],
   "source": [
    "plt.figure(figsize=(10,6))\n",
    "sns.displot(\n",
    "    data=df.isna().melt(value_name=\"missing\"),\n",
    "    y=\"variable\",\n",
    "    hue=\"missing\",\n",
    "    multiple=\"fill\",\n",
    "    aspect=1.25\n",
    ")"
   ]
  },
  {
   "cell_type": "code",
   "execution_count": 18,
   "metadata": {},
   "outputs": [
    {
     "data": {
      "text/plain": [
       "title                    0.00\n",
       "puNumber                 0.00\n",
       "show_start_date          0.00\n",
       "type                     0.00\n",
       "film_studio              0.24\n",
       "production_country       0.03\n",
       "director                 0.12\n",
       "producer                 7.59\n",
       "age_restriction          0.00\n",
       "refundable_support      95.57\n",
       "nonrefundable_support   95.57\n",
       "budget                  95.57\n",
       "financing_source        95.57\n",
       "ratings                  0.00\n",
       "genres                  13.04\n",
       "box_office              57.81\n",
       "dtype: float64"
      ]
     },
     "execution_count": 18,
     "metadata": {},
     "output_type": "execute_result"
    }
   ],
   "source": [
    "round(df.isnull().mean()*100,2) "
   ]
  },
  {
   "cell_type": "markdown",
   "metadata": {},
   "source": [
    "**Detected data omissions in the following columns :**\n",
    "\n",
    "* `refundable_support, nonrefundable_support, budget, financing_source` - columns related to government support. Since the budget column contains data only for those films that received state support, missing data will mean that the film did not receive funding. Bottom line: leave out the blanks\n",
    "* `box_office` - fees in rubles. We have no sources from which we could fill in the blanks, so we leave them as they are\n",
    "* `producer, genres` - we also leave them as they are.\n",
    "* steel columns the share of omissions is small and will not affect the results of the analysis\n",
    "\n"
   ]
  },
  {
   "cell_type": "markdown",
   "metadata": {
    "id": "4c6k1t9ygFyQ"
   },
   "source": [
    "#### Step 2.3 Examine duplicates in the dataframe\n",
    "- Examine whether there are duplicates in the dataframe. Describe the reasons that may have influenced the occurrence of duplicates."
   ]
  },
  {
   "cell_type": "code",
   "execution_count": 19,
   "metadata": {
    "id": "aKck8RIdgFyQ"
   },
   "outputs": [
    {
     "data": {
      "text/plain": [
       "0"
      ]
     },
     "execution_count": 19,
     "metadata": {},
     "output_type": "execute_result"
    }
   ],
   "source": [
    "df.duplicated().sum()"
   ]
  },
  {
   "cell_type": "markdown",
   "metadata": {},
   "source": [
    "No complete duplicates were found. Let's check implicit duplicates."
   ]
  },
  {
   "cell_type": "code",
   "execution_count": 20,
   "metadata": {},
   "outputs": [
    {
     "data": {
      "text/html": [
       "<div>\n",
       "<style scoped>\n",
       "    .dataframe tbody tr th:only-of-type {\n",
       "        vertical-align: middle;\n",
       "    }\n",
       "\n",
       "    .dataframe tbody tr th {\n",
       "        vertical-align: top;\n",
       "    }\n",
       "\n",
       "    .dataframe thead th {\n",
       "        text-align: right;\n",
       "    }\n",
       "</style>\n",
       "<table border=\"1\" class=\"dataframe\">\n",
       "  <thead>\n",
       "    <tr style=\"text-align: right;\">\n",
       "      <th></th>\n",
       "      <th>index</th>\n",
       "      <th>count</th>\n",
       "    </tr>\n",
       "  </thead>\n",
       "  <tbody>\n",
       "    <tr>\n",
       "      <th>0</th>\n",
       "      <td>День святого Валентина_</td>\n",
       "      <td>5</td>\n",
       "    </tr>\n",
       "    <tr>\n",
       "      <th>1</th>\n",
       "      <td>Начало_</td>\n",
       "      <td>4</td>\n",
       "    </tr>\n",
       "    <tr>\n",
       "      <th>2</th>\n",
       "      <td>Шерлок Холмс</td>\n",
       "      <td>4</td>\n",
       "    </tr>\n",
       "    <tr>\n",
       "      <th>3</th>\n",
       "      <td>Химера</td>\n",
       "      <td>4</td>\n",
       "    </tr>\n",
       "    <tr>\n",
       "      <th>4</th>\n",
       "      <td>Безумцы</td>\n",
       "      <td>4</td>\n",
       "    </tr>\n",
       "    <tr>\n",
       "      <th>...</th>\n",
       "      <td>...</td>\n",
       "      <td>...</td>\n",
       "    </tr>\n",
       "    <tr>\n",
       "      <th>553</th>\n",
       "      <td>Отчаянная домохозяйка</td>\n",
       "      <td>2</td>\n",
       "    </tr>\n",
       "    <tr>\n",
       "      <th>554</th>\n",
       "      <td>Пуленепробиваемый.</td>\n",
       "      <td>2</td>\n",
       "    </tr>\n",
       "    <tr>\n",
       "      <th>555</th>\n",
       "      <td>Оружейный барон</td>\n",
       "      <td>2</td>\n",
       "    </tr>\n",
       "    <tr>\n",
       "      <th>556</th>\n",
       "      <td>Сейчас самое время</td>\n",
       "      <td>2</td>\n",
       "    </tr>\n",
       "    <tr>\n",
       "      <th>557</th>\n",
       "      <td>Соседи. На тропе войны</td>\n",
       "      <td>2</td>\n",
       "    </tr>\n",
       "  </tbody>\n",
       "</table>\n",
       "<p>558 rows × 2 columns</p>\n",
       "</div>"
      ],
      "text/plain": [
       "                       index  count\n",
       "0    День святого Валентина_      5\n",
       "1                    Начало_      4\n",
       "2               Шерлок Холмс      4\n",
       "3                     Химера      4\n",
       "4                    Безумцы      4\n",
       "..                       ...    ...\n",
       "553    Отчаянная домохозяйка      2\n",
       "554       Пуленепробиваемый.      2\n",
       "555          Оружейный барон      2\n",
       "556       Сейчас самое время      2\n",
       "557   Соседи. На тропе войны      2\n",
       "\n",
       "[558 rows x 2 columns]"
      ]
     },
     "execution_count": 20,
     "metadata": {},
     "output_type": "execute_result"
    }
   ],
   "source": [
    "dup_df = df['title'].value_counts().reset_index(name=\"count\").query(\"count >= 2\")\n",
    "dup_df"
   ]
  },
  {
   "cell_type": "code",
   "execution_count": 21,
   "metadata": {},
   "outputs": [
    {
     "data": {
      "text/html": [
       "<div>\n",
       "<style scoped>\n",
       "    .dataframe tbody tr th:only-of-type {\n",
       "        vertical-align: middle;\n",
       "    }\n",
       "\n",
       "    .dataframe tbody tr th {\n",
       "        vertical-align: top;\n",
       "    }\n",
       "\n",
       "    .dataframe thead th {\n",
       "        text-align: right;\n",
       "    }\n",
       "</style>\n",
       "<table border=\"1\" class=\"dataframe\">\n",
       "  <thead>\n",
       "    <tr style=\"text-align: right;\">\n",
       "      <th></th>\n",
       "      <th>title</th>\n",
       "      <th>puNumber</th>\n",
       "      <th>show_start_date</th>\n",
       "      <th>type</th>\n",
       "      <th>film_studio</th>\n",
       "      <th>production_country</th>\n",
       "      <th>director</th>\n",
       "      <th>producer</th>\n",
       "      <th>age_restriction</th>\n",
       "      <th>refundable_support</th>\n",
       "      <th>nonrefundable_support</th>\n",
       "      <th>budget</th>\n",
       "      <th>financing_source</th>\n",
       "      <th>ratings</th>\n",
       "      <th>genres</th>\n",
       "      <th>box_office</th>\n",
       "    </tr>\n",
       "  </thead>\n",
       "  <tbody>\n",
       "    <tr>\n",
       "      <th>3614</th>\n",
       "      <td>Три сестры</td>\n",
       "      <td>111004417</td>\n",
       "      <td>2017-06-09 12:00:00</td>\n",
       "      <td>Художественный</td>\n",
       "      <td>ООО \"РТВ\", АО \"ТПО \"Киностудия им. М.Горького\"...</td>\n",
       "      <td>Россия</td>\n",
       "      <td>Ю.Грымов</td>\n",
       "      <td>Ю.Грымов, С.Зернов</td>\n",
       "      <td>«16+» - для детей старше 16 лет</td>\n",
       "      <td>0.00</td>\n",
       "      <td>25,000,000.00</td>\n",
       "      <td>37,878,788.00</td>\n",
       "      <td>Министерство культуры</td>\n",
       "      <td>0.00</td>\n",
       "      <td>NaN</td>\n",
       "      <td>1,067,649.00</td>\n",
       "    </tr>\n",
       "    <tr>\n",
       "      <th>5829</th>\n",
       "      <td>Прощаться не будем</td>\n",
       "      <td>111003418</td>\n",
       "      <td>2018-06-21 12:00:00</td>\n",
       "      <td>Художественный</td>\n",
       "      <td>ООО \"РФГ Корп\", ООО \"Студия \"МОСТ\"</td>\n",
       "      <td>Россия</td>\n",
       "      <td>П.Дроздов</td>\n",
       "      <td>А.Петрухин</td>\n",
       "      <td>«6+» - для детей старше 6 лет</td>\n",
       "      <td>0.00</td>\n",
       "      <td>35,000,000.00</td>\n",
       "      <td>109,814,240.00</td>\n",
       "      <td>Министерство культуры</td>\n",
       "      <td>5.80</td>\n",
       "      <td>военный,драма,история</td>\n",
       "      <td>5,539,973.00</td>\n",
       "    </tr>\n",
       "    <tr>\n",
       "      <th>6898</th>\n",
       "      <td>Мысленный волк</td>\n",
       "      <td>111007419</td>\n",
       "      <td>2019-06-09 12:00:00</td>\n",
       "      <td>Художественный</td>\n",
       "      <td>ООО \"САГА\"</td>\n",
       "      <td>Россия</td>\n",
       "      <td>Валерия Гай Германика</td>\n",
       "      <td>А.Савельев, А.Васильев, Валерия Гай Германика</td>\n",
       "      <td>«16+» - для детей старше 16 лет</td>\n",
       "      <td>0.00</td>\n",
       "      <td>30,000,000.00</td>\n",
       "      <td>48,000,000.00</td>\n",
       "      <td>Министерство культуры</td>\n",
       "      <td>5.30</td>\n",
       "      <td>фэнтези,драма,фильм-нуар</td>\n",
       "      <td>2,258,384.00</td>\n",
       "    </tr>\n",
       "    <tr>\n",
       "      <th>7322</th>\n",
       "      <td>Успех</td>\n",
       "      <td>111018519</td>\n",
       "      <td>2019-11-04 12:00:00</td>\n",
       "      <td>Художественный</td>\n",
       "      <td>ООО \"Кинодом\"</td>\n",
       "      <td>Россия</td>\n",
       "      <td>П.Руминов</td>\n",
       "      <td>С.Бобза, Г.Малков, В.Поляков, М.Кучмент</td>\n",
       "      <td>«12+» - для детей старше 12 лет</td>\n",
       "      <td>5,000,000.00</td>\n",
       "      <td>20,000,000.00</td>\n",
       "      <td>75,000,000.00</td>\n",
       "      <td>Фонд кино</td>\n",
       "      <td>7.80</td>\n",
       "      <td>драма</td>\n",
       "      <td>3,181,218.00</td>\n",
       "    </tr>\n",
       "    <tr>\n",
       "      <th>7474</th>\n",
       "      <td>Вторжение</td>\n",
       "      <td>111022519</td>\n",
       "      <td>2019-12-23 12:00:00</td>\n",
       "      <td>Художественный</td>\n",
       "      <td>ООО \"Арт Пикчерс Студия\", ООО \"Водород 2011\"</td>\n",
       "      <td>Россия</td>\n",
       "      <td>Ф.Бондарчук</td>\n",
       "      <td>Ф.Бондарчук, М.Врубель, А.Андрющенко, Д.Рудовский</td>\n",
       "      <td>«12+» - для детей старше 12 лет</td>\n",
       "      <td>100,000,000.00</td>\n",
       "      <td>400,000,000.00</td>\n",
       "      <td>944,000,000.00</td>\n",
       "      <td>Фонд кино</td>\n",
       "      <td>5.70</td>\n",
       "      <td>фантастика,боевик</td>\n",
       "      <td>NaN</td>\n",
       "    </tr>\n",
       "  </tbody>\n",
       "</table>\n",
       "</div>"
      ],
      "text/plain": [
       "                   title   puNumber     show_start_date             type  \\\n",
       "3614          Три сестры  111004417 2017-06-09 12:00:00   Художественный   \n",
       "5829  Прощаться не будем  111003418 2018-06-21 12:00:00   Художественный   \n",
       "6898      Мысленный волк  111007419 2019-06-09 12:00:00   Художественный   \n",
       "7322               Успех  111018519 2019-11-04 12:00:00   Художественный   \n",
       "7474           Вторжение  111022519 2019-12-23 12:00:00   Художественный   \n",
       "\n",
       "                                            film_studio production_country  \\\n",
       "3614  ООО \"РТВ\", АО \"ТПО \"Киностудия им. М.Горького\"...             Россия   \n",
       "5829                 ООО \"РФГ Корп\", ООО \"Студия \"МОСТ\"             Россия   \n",
       "6898                                         ООО \"САГА\"             Россия   \n",
       "7322                                      ООО \"Кинодом\"             Россия   \n",
       "7474       ООО \"Арт Пикчерс Студия\", ООО \"Водород 2011\"             Россия   \n",
       "\n",
       "                   director  \\\n",
       "3614               Ю.Грымов   \n",
       "5829              П.Дроздов   \n",
       "6898  Валерия Гай Германика   \n",
       "7322              П.Руминов   \n",
       "7474            Ф.Бондарчук   \n",
       "\n",
       "                                               producer  \\\n",
       "3614                                 Ю.Грымов, С.Зернов   \n",
       "5829                                         А.Петрухин   \n",
       "6898      А.Савельев, А.Васильев, Валерия Гай Германика   \n",
       "7322            С.Бобза, Г.Малков, В.Поляков, М.Кучмент   \n",
       "7474  Ф.Бондарчук, М.Врубель, А.Андрющенко, Д.Рудовский   \n",
       "\n",
       "                      age_restriction  refundable_support  \\\n",
       "3614  «16+» - для детей старше 16 лет                0.00   \n",
       "5829    «6+» - для детей старше 6 лет                0.00   \n",
       "6898  «16+» - для детей старше 16 лет                0.00   \n",
       "7322  «12+» - для детей старше 12 лет        5,000,000.00   \n",
       "7474  «12+» - для детей старше 12 лет      100,000,000.00   \n",
       "\n",
       "      nonrefundable_support         budget       financing_source  ratings  \\\n",
       "3614          25,000,000.00  37,878,788.00  Министерство культуры     0.00   \n",
       "5829          35,000,000.00 109,814,240.00  Министерство культуры     5.80   \n",
       "6898          30,000,000.00  48,000,000.00  Министерство культуры     5.30   \n",
       "7322          20,000,000.00  75,000,000.00              Фонд кино     7.80   \n",
       "7474         400,000,000.00 944,000,000.00              Фонд кино     5.70   \n",
       "\n",
       "                        genres   box_office  \n",
       "3614                       NaN 1,067,649.00  \n",
       "5829     военный,драма,история 5,539,973.00  \n",
       "6898  фэнтези,драма,фильм-нуар 2,258,384.00  \n",
       "7322                     драма 3,181,218.00  \n",
       "7474         фантастика,боевик          NaN  "
      ]
     },
     "execution_count": 21,
     "metadata": {},
     "output_type": "execute_result"
    }
   ],
   "source": [
    "df.query('title in @dup_df[\"index\"] and budget.notnull()')"
   ]
  },
  {
   "cell_type": "markdown",
   "metadata": {},
   "source": [
    "The same films were shown at different times - they have a different number of the distribution license. Only 5 films have a budget, the rest do not fall under the terms of the analysis. \n"
   ]
  },
  {
   "cell_type": "markdown",
   "metadata": {
    "id": "52fOPrEBgFyQ"
   },
   "source": [
    "#### Step 2.4. Examine the categorical values\n",
    "\n",
    "- See the common problem found in almost all categorical columns;\n",
    "- Fix the problematic values in the `type` field.\n",
    "\n"
   ]
  },
  {
   "cell_type": "code",
   "execution_count": 22,
   "metadata": {
    "id": "PnXKIVdFgFyR"
   },
   "outputs": [
    {
     "data": {
      "text/plain": [
       "Художественный                4520\n",
       " Художественный               1389\n",
       "Анимационный                   828\n",
       "Прочие                         406\n",
       "Документальный                 288\n",
       "Научно-популярный               53\n",
       "Музыкально-развлекательный       1\n",
       " Анимационный                    1\n",
       "Name: type, dtype: int64"
      ]
     },
     "execution_count": 22,
     "metadata": {},
     "output_type": "execute_result"
    }
   ],
   "source": [
    "df['type'].value_counts()"
   ]
  },
  {
   "cell_type": "markdown",
   "metadata": {},
   "source": [
    "We see several values with a space at the beginning of the string. let's fix it"
   ]
  },
  {
   "cell_type": "code",
   "execution_count": 23,
   "metadata": {},
   "outputs": [],
   "source": [
    "df['type'] = df['type'].str.strip()"
   ]
  },
  {
   "cell_type": "code",
   "execution_count": 24,
   "metadata": {},
   "outputs": [
    {
     "data": {
      "text/plain": [
       "Художественный                5909\n",
       "Анимационный                   829\n",
       "Прочие                         406\n",
       "Документальный                 288\n",
       "Научно-популярный               53\n",
       "Музыкально-развлекательный       1\n",
       "Name: type, dtype: int64"
      ]
     },
     "execution_count": 24,
     "metadata": {},
     "output_type": "execute_result"
    }
   ],
   "source": [
    "df['type'].value_counts()"
   ]
  },
  {
   "cell_type": "code",
   "execution_count": 25,
   "metadata": {},
   "outputs": [
    {
     "data": {
      "text/html": [
       "<div>\n",
       "<style scoped>\n",
       "    .dataframe tbody tr th:only-of-type {\n",
       "        vertical-align: middle;\n",
       "    }\n",
       "\n",
       "    .dataframe tbody tr th {\n",
       "        vertical-align: top;\n",
       "    }\n",
       "\n",
       "    .dataframe thead th {\n",
       "        text-align: right;\n",
       "    }\n",
       "</style>\n",
       "<table border=\"1\" class=\"dataframe\">\n",
       "  <thead>\n",
       "    <tr style=\"text-align: right;\">\n",
       "      <th></th>\n",
       "      <th>index</th>\n",
       "      <th>count</th>\n",
       "    </tr>\n",
       "  </thead>\n",
       "  <tbody>\n",
       "    <tr>\n",
       "      <th>0</th>\n",
       "      <td>Киностудия \"Мосфильм\"</td>\n",
       "      <td>341</td>\n",
       "    </tr>\n",
       "    <tr>\n",
       "      <th>1</th>\n",
       "      <td>ООО \"Мульт в кино\"</td>\n",
       "      <td>57</td>\n",
       "    </tr>\n",
       "    <tr>\n",
       "      <th>2</th>\n",
       "      <td>Анимаккорд Лтд</td>\n",
       "      <td>23</td>\n",
       "    </tr>\n",
       "    <tr>\n",
       "      <th>3</th>\n",
       "      <td>ООО \"Мульт в кино\"</td>\n",
       "      <td>18</td>\n",
       "    </tr>\n",
       "    <tr>\n",
       "      <th>4</th>\n",
       "      <td>ФГУП \"ТПО \"Киностудия \"Союзмультфильм\"</td>\n",
       "      <td>16</td>\n",
       "    </tr>\n",
       "    <tr>\n",
       "      <th>5</th>\n",
       "      <td>ООО \"ТаББаК\"</td>\n",
       "      <td>15</td>\n",
       "    </tr>\n",
       "    <tr>\n",
       "      <th>6</th>\n",
       "      <td>Р А И Синема</td>\n",
       "      <td>14</td>\n",
       "    </tr>\n",
       "    <tr>\n",
       "      <th>7</th>\n",
       "      <td>ООО \"Студия анимационного кино \"Мельница\"</td>\n",
       "      <td>14</td>\n",
       "    </tr>\n",
       "    <tr>\n",
       "      <th>8</th>\n",
       "      <td>Опус Арте</td>\n",
       "      <td>14</td>\n",
       "    </tr>\n",
       "    <tr>\n",
       "      <th>9</th>\n",
       "      <td>ООО \"Кинокомпания \"СТВ\"</td>\n",
       "      <td>13</td>\n",
       "    </tr>\n",
       "    <tr>\n",
       "      <th>10</th>\n",
       "      <td>Пиксар Анимейшн Студиос, Уолт Дисней Пикчерз</td>\n",
       "      <td>13</td>\n",
       "    </tr>\n",
       "    <tr>\n",
       "      <th>11</th>\n",
       "      <td>ЗАО \"Аэроплан\"</td>\n",
       "      <td>12</td>\n",
       "    </tr>\n",
       "    <tr>\n",
       "      <th>12</th>\n",
       "      <td>Уолт Дисней Пикчерз</td>\n",
       "      <td>11</td>\n",
       "    </tr>\n",
       "    <tr>\n",
       "      <th>13</th>\n",
       "      <td>Уорнер Бразерс</td>\n",
       "      <td>10</td>\n",
       "    </tr>\n",
       "    <tr>\n",
       "      <th>14</th>\n",
       "      <td>ООО \"Стар Медиа Дистрибьюшн\"</td>\n",
       "      <td>10</td>\n",
       "    </tr>\n",
       "    <tr>\n",
       "      <th>15</th>\n",
       "      <td>Свердловская киностудия</td>\n",
       "      <td>10</td>\n",
       "    </tr>\n",
       "    <tr>\n",
       "      <th>16</th>\n",
       "      <td>ООО \"Продюсерский центр ЕРАЛАШ\"</td>\n",
       "      <td>10</td>\n",
       "    </tr>\n",
       "    <tr>\n",
       "      <th>17</th>\n",
       "      <td>ОАО \"ТПО \"Санкт-Петербургская студия документа...</td>\n",
       "      <td>10</td>\n",
       "    </tr>\n",
       "  </tbody>\n",
       "</table>\n",
       "</div>"
      ],
      "text/plain": [
       "                                                index  count\n",
       "0                               Киностудия \"Мосфильм\"    341\n",
       "1                                  ООО \"Мульт в кино\"     57\n",
       "2                                      Анимаккорд Лтд     23\n",
       "3                                 ООО \"Мульт в кино\"      18\n",
       "4              ФГУП \"ТПО \"Киностудия \"Союзмультфильм\"     16\n",
       "5                                        ООО \"ТаББаК\"     15\n",
       "6                                        Р А И Синема     14\n",
       "7           ООО \"Студия анимационного кино \"Мельница\"     14\n",
       "8                                           Опус Арте     14\n",
       "9                             ООО \"Кинокомпания \"СТВ\"     13\n",
       "10       Пиксар Анимейшн Студиос, Уолт Дисней Пикчерз     13\n",
       "11                                     ЗАО \"Аэроплан\"     12\n",
       "12                                Уолт Дисней Пикчерз     11\n",
       "13                                     Уорнер Бразерс     10\n",
       "14                       ООО \"Стар Медиа Дистрибьюшн\"     10\n",
       "15                            Свердловская киностудия     10\n",
       "16                    ООО \"Продюсерский центр ЕРАЛАШ\"     10\n",
       "17  ОАО \"ТПО \"Санкт-Петербургская студия документа...     10"
      ]
     },
     "execution_count": 25,
     "metadata": {},
     "output_type": "execute_result"
    }
   ],
   "source": [
    "df['film_studio'].value_counts().reset_index(name=\"count\").query(\"count >= 10\")"
   ]
  },
  {
   "cell_type": "code",
   "execution_count": 26,
   "metadata": {},
   "outputs": [],
   "source": [
    "df['film_studio'] = df['film_studio'].str.strip()"
   ]
  },
  {
   "cell_type": "code",
   "execution_count": 27,
   "metadata": {},
   "outputs": [
    {
     "data": {
      "text/plain": [
       "США                                                                                       2172\n",
       "Россия                                                                                    1821\n",
       "СССР                                                                                       347\n",
       "Франция                                                                                    301\n",
       "Великобритания                                                                             257\n",
       "                                                                                          ... \n",
       "Великобритания-США-Германия-КНР                                                              1\n",
       "Испания - Швейцария - Великобритания - Германия - Новая Зеландия - Нидерланды - Канада       1\n",
       "Россия - Германия - Украина                                                                  1\n",
       "Бельгия - Нидерланды - Франция                                                               1\n",
       "Франция-Великобритания-Чехия                                                                 1\n",
       "Name: production_country, Length: 950, dtype: int64"
      ]
     },
     "execution_count": 27,
     "metadata": {},
     "output_type": "execute_result"
    }
   ],
   "source": [
    "df['production_country'].value_counts()"
   ]
  },
  {
   "cell_type": "markdown",
   "metadata": {},
   "source": [
    "In the country column, enumerations are indicated with a comma and a dash. Let's harmonize the format"
   ]
  },
  {
   "cell_type": "code",
   "execution_count": 28,
   "metadata": {},
   "outputs": [],
   "source": [
    "df['production_country'] = df['production_country'].str.replace(' -',',').str.replace('-',', ')"
   ]
  },
  {
   "cell_type": "code",
   "execution_count": 29,
   "metadata": {},
   "outputs": [
    {
     "data": {
      "text/plain": [
       "США                             2172\n",
       "Россия                          1821\n",
       "СССР                             347\n",
       "Франция                          301\n",
       "Великобритания                   257\n",
       "                                ... \n",
       "США, Германия, Нидерланды          1\n",
       "Исландия, Ирландия, Германия       1\n",
       "СССР, Финляндия                    1\n",
       "Франция, Бельгия, Испания          1\n",
       "США, ЮАР, Гонконг                  1\n",
       "Name: production_country, Length: 835, dtype: int64"
      ]
     },
     "execution_count": 29,
     "metadata": {},
     "output_type": "execute_result"
    }
   ],
   "source": [
    "df['production_country'].value_counts()"
   ]
  },
  {
   "cell_type": "code",
   "execution_count": 30,
   "metadata": {},
   "outputs": [
    {
     "data": {
      "text/plain": [
       "драма                            476\n",
       "комедия                          352\n",
       "мелодрама,комедия                222\n",
       "драма,мелодрама,комедия          189\n",
       "драма,мелодрама                  183\n",
       "                                ... \n",
       "комедия,приключения,криминал       1\n",
       "фэнтези,боевик,криминал            1\n",
       "драма,фантастика,ужасы             1\n",
       "приключения,триллер,биография      1\n",
       "мелодрама,драма,фэнтези            1\n",
       "Name: genres, Length: 742, dtype: int64"
      ]
     },
     "execution_count": 30,
     "metadata": {},
     "output_type": "execute_result"
    }
   ],
   "source": [
    "df['genres'].value_counts()"
   ]
  },
  {
   "cell_type": "code",
   "execution_count": 31,
   "metadata": {},
   "outputs": [
    {
     "data": {
      "text/plain": [
       "Министерство культуры               164\n",
       "Фонд кино                           146\n",
       "Министерство культуры, Фонд кино     22\n",
       "Name: financing_source, dtype: int64"
      ]
     },
     "execution_count": 31,
     "metadata": {},
     "output_type": "execute_result"
    }
   ],
   "source": [
    "df['financing_source'].value_counts()"
   ]
  },
  {
   "cell_type": "markdown",
   "metadata": {},
   "source": [
    "The problem is in the categorical columns: several additional genres are specified in one cell at once. For ease of analysis, it is worth separating one main genre into a separate column."
   ]
  },
  {
   "cell_type": "markdown",
   "metadata": {
    "id": "XFSN5lrEgFyR"
   },
   "source": [
    "#### Step 2.5. Check the quantitative values\n",
    "\n",
    "- Check if any suspicious data is found in such columns. What is the best way to deal with such data?\n"
   ]
  },
  {
   "cell_type": "code",
   "execution_count": 32,
   "metadata": {
    "id": "YbzClBxagFyS"
   },
   "outputs": [
    {
     "name": "stdout",
     "output_type": "stream",
     "text": [
      "<class 'pandas.core.frame.DataFrame'>\n",
      "Int64Index: 7486 entries, 0 to 7485\n",
      "Data columns (total 16 columns):\n",
      " #   Column                 Non-Null Count  Dtype         \n",
      "---  ------                 --------------  -----         \n",
      " 0   title                  7486 non-null   object        \n",
      " 1   puNumber               7486 non-null   int64         \n",
      " 2   show_start_date        7486 non-null   datetime64[ns]\n",
      " 3   type                   7486 non-null   object        \n",
      " 4   film_studio            7468 non-null   object        \n",
      " 5   production_country     7484 non-null   object        \n",
      " 6   director               7477 non-null   object        \n",
      " 7   producer               6918 non-null   object        \n",
      " 8   age_restriction        7486 non-null   object        \n",
      " 9   refundable_support     332 non-null    float32       \n",
      " 10  nonrefundable_support  332 non-null    float32       \n",
      " 11  budget                 332 non-null    float32       \n",
      " 12  financing_source       332 non-null    object        \n",
      " 13  ratings                7486 non-null   float32       \n",
      " 14  genres                 6510 non-null   object        \n",
      " 15  box_office             3158 non-null   float32       \n",
      "dtypes: datetime64[ns](1), float32(5), int64(1), object(9)\n",
      "memory usage: 848.0+ KB\n"
     ]
    }
   ],
   "source": [
    "df.info()"
   ]
  },
  {
   "cell_type": "code",
   "execution_count": 33,
   "metadata": {},
   "outputs": [
    {
     "data": {
      "text/html": [
       "<div>\n",
       "<style scoped>\n",
       "    .dataframe tbody tr th:only-of-type {\n",
       "        vertical-align: middle;\n",
       "    }\n",
       "\n",
       "    .dataframe tbody tr th {\n",
       "        vertical-align: top;\n",
       "    }\n",
       "\n",
       "    .dataframe thead th {\n",
       "        text-align: right;\n",
       "    }\n",
       "</style>\n",
       "<table border=\"1\" class=\"dataframe\">\n",
       "  <thead>\n",
       "    <tr style=\"text-align: right;\">\n",
       "      <th></th>\n",
       "      <th>puNumber</th>\n",
       "      <th>refundable_support</th>\n",
       "      <th>nonrefundable_support</th>\n",
       "      <th>budget</th>\n",
       "      <th>ratings</th>\n",
       "      <th>box_office</th>\n",
       "    </tr>\n",
       "  </thead>\n",
       "  <tbody>\n",
       "    <tr>\n",
       "      <th>count</th>\n",
       "      <td>7,486.00</td>\n",
       "      <td>332.00</td>\n",
       "      <td>332.00</td>\n",
       "      <td>332.00</td>\n",
       "      <td>7,486.00</td>\n",
       "      <td>3,158.00</td>\n",
       "    </tr>\n",
       "    <tr>\n",
       "      <th>mean</th>\n",
       "      <td>135,178,527.64</td>\n",
       "      <td>11,864,457.00</td>\n",
       "      <td>48,980,984.00</td>\n",
       "      <td>127,229,720.00</td>\n",
       "      <td>5.65</td>\n",
       "      <td>76,478,696.00</td>\n",
       "    </tr>\n",
       "    <tr>\n",
       "      <th>std</th>\n",
       "      <td>38,382,177.41</td>\n",
       "      <td>24,916,554.00</td>\n",
       "      <td>59,980,116.00</td>\n",
       "      <td>188,588,336.00</td>\n",
       "      <td>2.41</td>\n",
       "      <td>240,353,120.00</td>\n",
       "    </tr>\n",
       "    <tr>\n",
       "      <th>min</th>\n",
       "      <td>0.00</td>\n",
       "      <td>0.00</td>\n",
       "      <td>0.00</td>\n",
       "      <td>0.00</td>\n",
       "      <td>0.00</td>\n",
       "      <td>0.00</td>\n",
       "    </tr>\n",
       "    <tr>\n",
       "      <th>25%</th>\n",
       "      <td>112,025,043.00</td>\n",
       "      <td>0.00</td>\n",
       "      <td>25,000,000.00</td>\n",
       "      <td>42,000,000.00</td>\n",
       "      <td>5.40</td>\n",
       "      <td>86,239.00</td>\n",
       "    </tr>\n",
       "    <tr>\n",
       "      <th>50%</th>\n",
       "      <td>121,015,464.50</td>\n",
       "      <td>0.00</td>\n",
       "      <td>30,000,000.00</td>\n",
       "      <td>68,649,920.00</td>\n",
       "      <td>6.40</td>\n",
       "      <td>2,327,987.50</td>\n",
       "    </tr>\n",
       "    <tr>\n",
       "      <th>75%</th>\n",
       "      <td>124,003,313.75</td>\n",
       "      <td>15,000,000.00</td>\n",
       "      <td>40,375,000.00</td>\n",
       "      <td>141,985,312.00</td>\n",
       "      <td>7.20</td>\n",
       "      <td>23,979,672.00</td>\n",
       "    </tr>\n",
       "    <tr>\n",
       "      <th>max</th>\n",
       "      <td>231,001,111.00</td>\n",
       "      <td>180,000,000.00</td>\n",
       "      <td>400,000,000.00</td>\n",
       "      <td>2,305,074,176.00</td>\n",
       "      <td>9.90</td>\n",
       "      <td>3,073,568,768.00</td>\n",
       "    </tr>\n",
       "  </tbody>\n",
       "</table>\n",
       "</div>"
      ],
      "text/plain": [
       "            puNumber  refundable_support  nonrefundable_support  \\\n",
       "count       7,486.00              332.00                 332.00   \n",
       "mean  135,178,527.64       11,864,457.00          48,980,984.00   \n",
       "std    38,382,177.41       24,916,554.00          59,980,116.00   \n",
       "min             0.00                0.00                   0.00   \n",
       "25%   112,025,043.00                0.00          25,000,000.00   \n",
       "50%   121,015,464.50                0.00          30,000,000.00   \n",
       "75%   124,003,313.75       15,000,000.00          40,375,000.00   \n",
       "max   231,001,111.00      180,000,000.00         400,000,000.00   \n",
       "\n",
       "                budget  ratings       box_office  \n",
       "count           332.00 7,486.00         3,158.00  \n",
       "mean    127,229,720.00     5.65    76,478,696.00  \n",
       "std     188,588,336.00     2.41   240,353,120.00  \n",
       "min               0.00     0.00             0.00  \n",
       "25%      42,000,000.00     5.40        86,239.00  \n",
       "50%      68,649,920.00     6.40     2,327,987.50  \n",
       "75%     141,985,312.00     7.20    23,979,672.00  \n",
       "max   2,305,074,176.00     9.90 3,073,568,768.00  "
      ]
     },
     "execution_count": 33,
     "metadata": {},
     "output_type": "execute_result"
    }
   ],
   "source": [
    "df.describe()"
   ]
  },
  {
   "cell_type": "code",
   "execution_count": 34,
   "metadata": {},
   "outputs": [
    {
     "data": {
      "text/plain": [
       "<AxesSubplot:>"
      ]
     },
     "execution_count": 34,
     "metadata": {},
     "output_type": "execute_result"
    },
    {
     "data": {
      "image/png": "[encoded data removed]",
      "text/plain": [
       "<Figure size 432x288 with 1 Axes>"
      ]
     },
     "metadata": {
      "needs_background": "light"
     },
     "output_type": "display_data"
    }
   ],
   "source": [
    "df.query('ratings>0')['ratings'].hist(bins=20)"
   ]
  },
  {
   "cell_type": "markdown",
   "metadata": {},
   "source": [
    "No outliers"
   ]
  },
  {
   "cell_type": "markdown",
   "metadata": {},
   "source": [
    "Let's make a separate dataset for movies that received a budget. See how the columns `refundable_support', 'nonrefundable_support', 'financing_source', 'budget' are related and if there are any outliers."
   ]
  },
  {
   "cell_type": "markdown",
   "metadata": {},
   "source": [
    "The budget consists of refundable and non-refundable funds and additional sources of funding for which we do not have data. Therefore, where there is no budget, we cannot fill in the gaps with the amount of non-refundable and refundable funds."
   ]
  },
  {
   "cell_type": "code",
   "execution_count": 35,
   "metadata": {},
   "outputs": [
    {
     "data": {
      "text/plain": [
       "16"
      ]
     },
     "execution_count": 35,
     "metadata": {},
     "output_type": "execute_result"
    }
   ],
   "source": [
    "df.query('nonrefundable_support > budget')['budget'].count()"
   ]
  },
  {
   "cell_type": "markdown",
   "metadata": {},
   "source": [
    "Filming a movie starts at 5 million rubles. The most expensive Russian movie had a budget of $50 million (~3033750000 rubles). Let's see if there are any abnormal values in the budget."
   ]
  },
  {
   "cell_type": "code",
   "execution_count": 36,
   "metadata": {},
   "outputs": [],
   "source": [
    "budget_df = df.query('budget.notnull()')"
   ]
  },
  {
   "cell_type": "code",
   "execution_count": 37,
   "metadata": {},
   "outputs": [
    {
     "data": {
      "text/plain": [
       "(array([-0.6, -0.4, -0.2,  0. ,  0.2,  0.4,  0.6]),\n",
       " [Text(0, 0, ''),\n",
       "  Text(0, 0, ''),\n",
       "  Text(0, 0, ''),\n",
       "  Text(0, 0, ''),\n",
       "  Text(0, 0, ''),\n",
       "  Text(0, 0, ''),\n",
       "  Text(0, 0, '')])"
      ]
     },
     "execution_count": 37,
     "metadata": {},
     "output_type": "execute_result"
    },
    {
     "data": {
      "image/png": "[encoded data removed]",
      "text/plain": [
       "<Figure size 432x288 with 1 Axes>"
      ]
     },
     "metadata": {
      "needs_background": "light"
     },
     "output_type": "display_data"
    }
   ],
   "source": [
    "budget_df.query('budget<=5000000')['budget'].hist(bins=30)\n",
    "plt.ticklabel_format(useOffset=False, style='plain')\n",
    "plt.xticks(rotation = 45)"
   ]
  },
  {
   "cell_type": "code",
   "execution_count": 38,
   "metadata": {},
   "outputs": [
    {
     "data": {
      "text/plain": [
       "(array([0.00e+00, 2.50e+08, 5.00e+08, 7.50e+08, 1.00e+09, 1.25e+09,\n",
       "        1.50e+09, 1.75e+09, 2.00e+09, 2.25e+09, 2.50e+09]),\n",
       " [Text(0, 0, ''),\n",
       "  Text(0, 0, ''),\n",
       "  Text(0, 0, ''),\n",
       "  Text(0, 0, ''),\n",
       "  Text(0, 0, ''),\n",
       "  Text(0, 0, ''),\n",
       "  Text(0, 0, ''),\n",
       "  Text(0, 0, ''),\n",
       "  Text(0, 0, ''),\n",
       "  Text(0, 0, ''),\n",
       "  Text(0, 0, '')])"
      ]
     },
     "execution_count": 38,
     "metadata": {},
     "output_type": "execute_result"
    },
    {
     "data": {
      "image/png": "[encoded data removed]",
      "text/plain": [
       "<Figure size 432x288 with 1 Axes>"
      ]
     },
     "metadata": {
      "needs_background": "light"
     },
     "output_type": "display_data"
    }
   ],
   "source": [
    "budget_df.query('budget>300000000')['budget'].hist(bins=30)\n",
    "plt.ticklabel_format(useOffset=False, style='plain')\n",
    "plt.xticks(rotation = 45)"
   ]
  },
  {
   "cell_type": "markdown",
   "metadata": {},
   "source": [
    "At first glance, there's no problem, but let's look at the most expensive movies up close"
   ]
  },
  {
   "cell_type": "code",
   "execution_count": 39,
   "metadata": {},
   "outputs": [
    {
     "data": {
      "text/html": [
       "<div>\n",
       "<style scoped>\n",
       "    .dataframe tbody tr th:only-of-type {\n",
       "        vertical-align: middle;\n",
       "    }\n",
       "\n",
       "    .dataframe tbody tr th {\n",
       "        vertical-align: top;\n",
       "    }\n",
       "\n",
       "    .dataframe thead th {\n",
       "        text-align: right;\n",
       "    }\n",
       "</style>\n",
       "<table border=\"1\" class=\"dataframe\">\n",
       "  <thead>\n",
       "    <tr style=\"text-align: right;\">\n",
       "      <th></th>\n",
       "      <th>title</th>\n",
       "      <th>puNumber</th>\n",
       "      <th>show_start_date</th>\n",
       "      <th>type</th>\n",
       "      <th>film_studio</th>\n",
       "      <th>production_country</th>\n",
       "      <th>director</th>\n",
       "      <th>producer</th>\n",
       "      <th>age_restriction</th>\n",
       "      <th>refundable_support</th>\n",
       "      <th>nonrefundable_support</th>\n",
       "      <th>budget</th>\n",
       "      <th>financing_source</th>\n",
       "      <th>ratings</th>\n",
       "      <th>genres</th>\n",
       "      <th>box_office</th>\n",
       "    </tr>\n",
       "  </thead>\n",
       "  <tbody>\n",
       "    <tr>\n",
       "      <th>7114</th>\n",
       "      <td>Тайна Печати Дракона</td>\n",
       "      <td>111012819</td>\n",
       "      <td>2019-09-12 12:00:00</td>\n",
       "      <td>Художественный</td>\n",
       "      <td>ООО \"Кинокомпания \"СТВ\"; ООО \"РФГ Корп\"; ООО \"...</td>\n",
       "      <td>Россия, Китай</td>\n",
       "      <td>О.Степченко</td>\n",
       "      <td>С.Сельянов, А.Петрухин</td>\n",
       "      <td>«6+» - для детей старше 6 лет</td>\n",
       "      <td>180000000.0</td>\n",
       "      <td>90000000.0</td>\n",
       "      <td>2305074176.0</td>\n",
       "      <td>Фонд кино</td>\n",
       "      <td>5.8</td>\n",
       "      <td>приключения,фэнтези</td>\n",
       "      <td>333597056.0</td>\n",
       "    </tr>\n",
       "    <tr>\n",
       "      <th>5437</th>\n",
       "      <td>Матильда</td>\n",
       "      <td>111005717</td>\n",
       "      <td>2017-08-17 12:00:00</td>\n",
       "      <td>Художественный</td>\n",
       "      <td>ООО \"ТПО \"РОК\", ООО \"Матильда\"</td>\n",
       "      <td>Россия</td>\n",
       "      <td>А.Учитель</td>\n",
       "      <td>А.Учитель, А.Достман, В.Винокур</td>\n",
       "      <td>«16+» - для детей старше 16 лет</td>\n",
       "      <td>110000000.0</td>\n",
       "      <td>190000000.0</td>\n",
       "      <td>1032905984.0</td>\n",
       "      <td>Фонд кино</td>\n",
       "      <td>7.7</td>\n",
       "      <td>фэнтези,комедия,семейный</td>\n",
       "      <td>511775552.0</td>\n",
       "    </tr>\n",
       "    <tr>\n",
       "      <th>7464</th>\n",
       "      <td>Союз спасения</td>\n",
       "      <td>111022019</td>\n",
       "      <td>2019-12-26 12:00:00</td>\n",
       "      <td>Художественный</td>\n",
       "      <td>ЗАО \"Дирекция кино\"</td>\n",
       "      <td>Россия</td>\n",
       "      <td>А.Кравчук</td>\n",
       "      <td>А.Максимов, К.Эрнст</td>\n",
       "      <td>«12+» - для детей старше 12 лет</td>\n",
       "      <td>100000000.0</td>\n",
       "      <td>400000000.0</td>\n",
       "      <td>980000000.0</td>\n",
       "      <td>Фонд кино</td>\n",
       "      <td>6.0</td>\n",
       "      <td>история,биография,драма</td>\n",
       "      <td>717703168.0</td>\n",
       "    </tr>\n",
       "    <tr>\n",
       "      <th>7474</th>\n",
       "      <td>Вторжение</td>\n",
       "      <td>111022519</td>\n",
       "      <td>2019-12-23 12:00:00</td>\n",
       "      <td>Художественный</td>\n",
       "      <td>ООО \"Арт Пикчерс Студия\", ООО \"Водород 2011\"</td>\n",
       "      <td>Россия</td>\n",
       "      <td>Ф.Бондарчук</td>\n",
       "      <td>Ф.Бондарчук, М.Врубель, А.Андрющенко, Д.Рудовский</td>\n",
       "      <td>«12+» - для детей старше 12 лет</td>\n",
       "      <td>100000000.0</td>\n",
       "      <td>400000000.0</td>\n",
       "      <td>944000000.0</td>\n",
       "      <td>Фонд кино</td>\n",
       "      <td>5.7</td>\n",
       "      <td>фантастика,боевик</td>\n",
       "      <td>NaN</td>\n",
       "    </tr>\n",
       "    <tr>\n",
       "      <th>7171</th>\n",
       "      <td>Грех</td>\n",
       "      <td>111014419</td>\n",
       "      <td>2019-08-31 12:00:00</td>\n",
       "      <td>Художественный</td>\n",
       "      <td>НО Фонд Андрея Кончаловского по поддержке кино...</td>\n",
       "      <td>Россия, Италия</td>\n",
       "      <td>А.Михалков (псевдоним А.Кончаловский)</td>\n",
       "      <td>НО Фонд Андрея Кончаловского по поддержке кино...</td>\n",
       "      <td>«16+» - для детей старше 16 лет</td>\n",
       "      <td>0.0</td>\n",
       "      <td>60000000.0</td>\n",
       "      <td>779941952.0</td>\n",
       "      <td>Министерство культуры</td>\n",
       "      <td>6.9</td>\n",
       "      <td>драма,биография,история</td>\n",
       "      <td>54243204.0</td>\n",
       "    </tr>\n",
       "    <tr>\n",
       "      <th>3351</th>\n",
       "      <td>Дуэлянт</td>\n",
       "      <td>111015416</td>\n",
       "      <td>2016-09-14 12:00:00</td>\n",
       "      <td>Художественный</td>\n",
       "      <td>ООО \"Нон-Стоп Продакшн\"</td>\n",
       "      <td>Россия</td>\n",
       "      <td>А.Мизгирев</td>\n",
       "      <td>А.Роднянский, С.Мелькумов</td>\n",
       "      <td>«16+» - для детей старше 16 лет</td>\n",
       "      <td>150000000.0</td>\n",
       "      <td>300000000.0</td>\n",
       "      <td>684200512.0</td>\n",
       "      <td>Фонд кино</td>\n",
       "      <td>6.6</td>\n",
       "      <td>драма</td>\n",
       "      <td>364285152.0</td>\n",
       "    </tr>\n",
       "    <tr>\n",
       "      <th>2920</th>\n",
       "      <td>Экипаж .</td>\n",
       "      <td>111005416</td>\n",
       "      <td>2016-03-21 12:00:00</td>\n",
       "      <td>Художественный</td>\n",
       "      <td>ООО \"Студия \"ТРИТЭ\" Никиты Михалкова\"</td>\n",
       "      <td>Россия</td>\n",
       "      <td>Н.Лебедев</td>\n",
       "      <td>Л.Верещагин, А.Златопольский, Н.Михалков, ООО ...</td>\n",
       "      <td>«6+» - для детей старше 6 лет</td>\n",
       "      <td>50000000.0</td>\n",
       "      <td>392104480.0</td>\n",
       "      <td>635283840.0</td>\n",
       "      <td>Фонд кино</td>\n",
       "      <td>7.6</td>\n",
       "      <td>драма,триллер,приключения</td>\n",
       "      <td>1402255360.0</td>\n",
       "    </tr>\n",
       "    <tr>\n",
       "      <th>5653</th>\n",
       "      <td>Движение вверх</td>\n",
       "      <td>111011817</td>\n",
       "      <td>2017-12-21 12:00:00</td>\n",
       "      <td>Художественный</td>\n",
       "      <td>ООО \"Студия \"ТРИТЭ\" Никиты Михалкова\"</td>\n",
       "      <td>Россия</td>\n",
       "      <td>А.Мегердичев</td>\n",
       "      <td>Л.Верещагин, А.Златопольский, Н.Михалков, ООО ...</td>\n",
       "      <td>«6+» - для детей старше 6 лет</td>\n",
       "      <td>0.0</td>\n",
       "      <td>400000000.0</td>\n",
       "      <td>590192192.0</td>\n",
       "      <td>Фонд кино</td>\n",
       "      <td>7.5</td>\n",
       "      <td>спорт,драма</td>\n",
       "      <td>2779686144.0</td>\n",
       "    </tr>\n",
       "    <tr>\n",
       "      <th>6549</th>\n",
       "      <td>Т-34</td>\n",
       "      <td>111024918</td>\n",
       "      <td>2018-12-21 12:00:00</td>\n",
       "      <td>Художественный</td>\n",
       "      <td>ООО \"Кинокомпания МАРС-фильм\" по заказу ООО \"М...</td>\n",
       "      <td>Россия</td>\n",
       "      <td>А.Сидоров</td>\n",
       "      <td>А.Златопольский, Р.Дишдишян, Л.Блаватник, Н.Яр...</td>\n",
       "      <td>«12+» - для детей старше 12 лет</td>\n",
       "      <td>60000000.0</td>\n",
       "      <td>120000000.0</td>\n",
       "      <td>563784704.0</td>\n",
       "      <td>Фонд кино</td>\n",
       "      <td>6.5</td>\n",
       "      <td>драма,военный,боевик</td>\n",
       "      <td>2271753984.0</td>\n",
       "    </tr>\n",
       "    <tr>\n",
       "      <th>3255</th>\n",
       "      <td>Время первых (2017)</td>\n",
       "      <td>111001317</td>\n",
       "      <td>2017-02-21 12:00:00</td>\n",
       "      <td>Художественный</td>\n",
       "      <td>ООО \"ТаББаК\", ООО \"Студия Третий Рим\"</td>\n",
       "      <td>Россия</td>\n",
       "      <td>Д.Киселев</td>\n",
       "      <td>Т.Бекмамбетов, Е.Миронов</td>\n",
       "      <td>«6+» - для детей старше 6 лет</td>\n",
       "      <td>75000000.0</td>\n",
       "      <td>175000000.0</td>\n",
       "      <td>528441984.0</td>\n",
       "      <td>Фонд кино</td>\n",
       "      <td>7.5</td>\n",
       "      <td>приключения,триллер,биография</td>\n",
       "      <td>544332288.0</td>\n",
       "    </tr>\n",
       "    <tr>\n",
       "      <th>5569</th>\n",
       "      <td>Легенда о Коловрате</td>\n",
       "      <td>111007617</td>\n",
       "      <td>2017-11-30 12:00:00</td>\n",
       "      <td>Художественный</td>\n",
       "      <td>ООО \"Продюсерский центр ИВАН\"</td>\n",
       "      <td>Россия</td>\n",
       "      <td>И.Шурховецкий</td>\n",
       "      <td>ООО \"Централ Партнершип\",              АО \"Тел...</td>\n",
       "      <td>«12+» - для детей старше 12 лет</td>\n",
       "      <td>100000000.0</td>\n",
       "      <td>250000000.0</td>\n",
       "      <td>500012736.0</td>\n",
       "      <td>Фонд кино</td>\n",
       "      <td>6.4</td>\n",
       "      <td>история,боевик,фэнтези</td>\n",
       "      <td>590405056.0</td>\n",
       "    </tr>\n",
       "    <tr>\n",
       "      <th>2142</th>\n",
       "      <td>Территория</td>\n",
       "      <td>111000515</td>\n",
       "      <td>2015-01-27 12:00:00</td>\n",
       "      <td>Художественный</td>\n",
       "      <td>ООО \"Творческое объединение \"Кинокомпания \"Анд...</td>\n",
       "      <td>Россия</td>\n",
       "      <td>А.Мельник</td>\n",
       "      <td>А.Мельник</td>\n",
       "      <td>«12+» - для детей старше 12 лет</td>\n",
       "      <td>30000000.0</td>\n",
       "      <td>30000000.0</td>\n",
       "      <td>500000000.0</td>\n",
       "      <td>Фонд кино</td>\n",
       "      <td>6.8</td>\n",
       "      <td>детектив,фэнтези,триллер</td>\n",
       "      <td>72578320.0</td>\n",
       "    </tr>\n",
       "    <tr>\n",
       "      <th>6699</th>\n",
       "      <td>Тобол</td>\n",
       "      <td>111002419</td>\n",
       "      <td>2019-02-16 12:00:00</td>\n",
       "      <td>Художественный</td>\n",
       "      <td>ООО Кинокомпания \"Соливс\" по заказу АО \"ВБД Груп\"</td>\n",
       "      <td>Россия</td>\n",
       "      <td>И.Зайцев, О.Урушев</td>\n",
       "      <td>Э.Илоян, В.Шляппо, Д.Жалинский, А.Троцюк, О.Ур...</td>\n",
       "      <td>«16+» - для детей старше 16 лет</td>\n",
       "      <td>0.0</td>\n",
       "      <td>130000000.0</td>\n",
       "      <td>499826560.0</td>\n",
       "      <td>Фонд кино</td>\n",
       "      <td>5.8</td>\n",
       "      <td>история,драма</td>\n",
       "      <td>138162880.0</td>\n",
       "    </tr>\n",
       "    <tr>\n",
       "      <th>5502</th>\n",
       "      <td>Салют-7</td>\n",
       "      <td>111006917</td>\n",
       "      <td>2017-10-01 12:00:00</td>\n",
       "      <td>Художественный</td>\n",
       "      <td>ООО \"Лемон Филмз Студио\"</td>\n",
       "      <td>Россия</td>\n",
       "      <td>К.Шипенко</td>\n",
       "      <td>С.Сельянов, Б.Бакурадзе, А.Златопольский</td>\n",
       "      <td>«12+» - для детей старше 12 лет</td>\n",
       "      <td>0.0</td>\n",
       "      <td>225000000.0</td>\n",
       "      <td>493733952.0</td>\n",
       "      <td>Фонд кино</td>\n",
       "      <td>7.4</td>\n",
       "      <td>драма,приключения,триллер</td>\n",
       "      <td>752679808.0</td>\n",
       "    </tr>\n",
       "    <tr>\n",
       "      <th>6887</th>\n",
       "      <td>Девятая</td>\n",
       "      <td>111007019</td>\n",
       "      <td>2019-09-19 12:00:00</td>\n",
       "      <td>Художественный</td>\n",
       "      <td>ООО \"Нон-Стоп Продакшн\"</td>\n",
       "      <td>Россия</td>\n",
       "      <td>Н.Хомерики</td>\n",
       "      <td>С.Мелькумов, А.Роднянский</td>\n",
       "      <td>«16+» - для детей старше 16 лет</td>\n",
       "      <td>0.0</td>\n",
       "      <td>300000000.0</td>\n",
       "      <td>453704672.0</td>\n",
       "      <td>Фонд кино</td>\n",
       "      <td>5.8</td>\n",
       "      <td>детектив,триллер,криминал</td>\n",
       "      <td>55876888.0</td>\n",
       "    </tr>\n",
       "  </tbody>\n",
       "</table>\n",
       "</div>"
      ],
      "text/plain": [
       "                     title   puNumber     show_start_date            type  \\\n",
       "7114  Тайна Печати Дракона  111012819 2019-09-12 12:00:00  Художественный   \n",
       "5437              Матильда  111005717 2017-08-17 12:00:00  Художественный   \n",
       "7464         Союз спасения  111022019 2019-12-26 12:00:00  Художественный   \n",
       "7474             Вторжение  111022519 2019-12-23 12:00:00  Художественный   \n",
       "7171                  Грех  111014419 2019-08-31 12:00:00  Художественный   \n",
       "3351               Дуэлянт  111015416 2016-09-14 12:00:00  Художественный   \n",
       "2920              Экипаж .  111005416 2016-03-21 12:00:00  Художественный   \n",
       "5653        Движение вверх  111011817 2017-12-21 12:00:00  Художественный   \n",
       "6549                  Т-34  111024918 2018-12-21 12:00:00  Художественный   \n",
       "3255   Время первых (2017)  111001317 2017-02-21 12:00:00  Художественный   \n",
       "5569   Легенда о Коловрате  111007617 2017-11-30 12:00:00  Художественный   \n",
       "2142            Территория  111000515 2015-01-27 12:00:00  Художественный   \n",
       "6699                 Тобол  111002419 2019-02-16 12:00:00  Художественный   \n",
       "5502               Салют-7  111006917 2017-10-01 12:00:00  Художественный   \n",
       "6887               Девятая  111007019 2019-09-19 12:00:00  Художественный   \n",
       "\n",
       "                                            film_studio production_country  \\\n",
       "7114  ООО \"Кинокомпания \"СТВ\"; ООО \"РФГ Корп\"; ООО \"...      Россия, Китай   \n",
       "5437                     ООО \"ТПО \"РОК\", ООО \"Матильда\"             Россия   \n",
       "7464                                ЗАО \"Дирекция кино\"             Россия   \n",
       "7474       ООО \"Арт Пикчерс Студия\", ООО \"Водород 2011\"             Россия   \n",
       "7171  НО Фонд Андрея Кончаловского по поддержке кино...     Россия, Италия   \n",
       "3351                            ООО \"Нон-Стоп Продакшн\"             Россия   \n",
       "2920              ООО \"Студия \"ТРИТЭ\" Никиты Михалкова\"             Россия   \n",
       "5653              ООО \"Студия \"ТРИТЭ\" Никиты Михалкова\"             Россия   \n",
       "6549  ООО \"Кинокомпания МАРС-фильм\" по заказу ООО \"М...             Россия   \n",
       "3255              ООО \"ТаББаК\", ООО \"Студия Третий Рим\"             Россия   \n",
       "5569                      ООО \"Продюсерский центр ИВАН\"             Россия   \n",
       "2142  ООО \"Творческое объединение \"Кинокомпания \"Анд...             Россия   \n",
       "6699  ООО Кинокомпания \"Соливс\" по заказу АО \"ВБД Груп\"             Россия   \n",
       "5502                           ООО \"Лемон Филмз Студио\"             Россия   \n",
       "6887                            ООО \"Нон-Стоп Продакшн\"             Россия   \n",
       "\n",
       "                                   director  \\\n",
       "7114                            О.Степченко   \n",
       "5437                              А.Учитель   \n",
       "7464                              А.Кравчук   \n",
       "7474                            Ф.Бондарчук   \n",
       "7171  А.Михалков (псевдоним А.Кончаловский)   \n",
       "3351                             А.Мизгирев   \n",
       "2920                              Н.Лебедев   \n",
       "5653                           А.Мегердичев   \n",
       "6549                              А.Сидоров   \n",
       "3255                              Д.Киселев   \n",
       "5569                          И.Шурховецкий   \n",
       "2142                              А.Мельник   \n",
       "6699                     И.Зайцев, О.Урушев   \n",
       "5502                              К.Шипенко   \n",
       "6887                             Н.Хомерики   \n",
       "\n",
       "                                               producer  \\\n",
       "7114                             С.Сельянов, А.Петрухин   \n",
       "5437                    А.Учитель, А.Достман, В.Винокур   \n",
       "7464                                А.Максимов, К.Эрнст   \n",
       "7474  Ф.Бондарчук, М.Врубель, А.Андрющенко, Д.Рудовский   \n",
       "7171  НО Фонд Андрея Кончаловского по поддержке кино...   \n",
       "3351                          А.Роднянский, С.Мелькумов   \n",
       "2920  Л.Верещагин, А.Златопольский, Н.Михалков, ООО ...   \n",
       "5653  Л.Верещагин, А.Златопольский, Н.Михалков, ООО ...   \n",
       "6549  А.Златопольский, Р.Дишдишян, Л.Блаватник, Н.Яр...   \n",
       "3255                           Т.Бекмамбетов, Е.Миронов   \n",
       "5569  ООО \"Централ Партнершип\",              АО \"Тел...   \n",
       "2142                                          А.Мельник   \n",
       "6699  Э.Илоян, В.Шляппо, Д.Жалинский, А.Троцюк, О.Ур...   \n",
       "5502           С.Сельянов, Б.Бакурадзе, А.Златопольский   \n",
       "6887                          С.Мелькумов, А.Роднянский   \n",
       "\n",
       "                      age_restriction  refundable_support  \\\n",
       "7114    «6+» - для детей старше 6 лет         180000000.0   \n",
       "5437  «16+» - для детей старше 16 лет         110000000.0   \n",
       "7464  «12+» - для детей старше 12 лет         100000000.0   \n",
       "7474  «12+» - для детей старше 12 лет         100000000.0   \n",
       "7171  «16+» - для детей старше 16 лет                 0.0   \n",
       "3351  «16+» - для детей старше 16 лет         150000000.0   \n",
       "2920    «6+» - для детей старше 6 лет          50000000.0   \n",
       "5653    «6+» - для детей старше 6 лет                 0.0   \n",
       "6549  «12+» - для детей старше 12 лет          60000000.0   \n",
       "3255    «6+» - для детей старше 6 лет          75000000.0   \n",
       "5569  «12+» - для детей старше 12 лет         100000000.0   \n",
       "2142  «12+» - для детей старше 12 лет          30000000.0   \n",
       "6699  «16+» - для детей старше 16 лет                 0.0   \n",
       "5502  «12+» - для детей старше 12 лет                 0.0   \n",
       "6887  «16+» - для детей старше 16 лет                 0.0   \n",
       "\n",
       "      nonrefundable_support       budget       financing_source  ratings  \\\n",
       "7114             90000000.0 2305074176.0              Фонд кино      5.8   \n",
       "5437            190000000.0 1032905984.0              Фонд кино      7.7   \n",
       "7464            400000000.0  980000000.0              Фонд кино      6.0   \n",
       "7474            400000000.0  944000000.0              Фонд кино      5.7   \n",
       "7171             60000000.0  779941952.0  Министерство культуры      6.9   \n",
       "3351            300000000.0  684200512.0              Фонд кино      6.6   \n",
       "2920            392104480.0  635283840.0              Фонд кино      7.6   \n",
       "5653            400000000.0  590192192.0              Фонд кино      7.5   \n",
       "6549            120000000.0  563784704.0              Фонд кино      6.5   \n",
       "3255            175000000.0  528441984.0              Фонд кино      7.5   \n",
       "5569            250000000.0  500012736.0              Фонд кино      6.4   \n",
       "2142             30000000.0  500000000.0              Фонд кино      6.8   \n",
       "6699            130000000.0  499826560.0              Фонд кино      5.8   \n",
       "5502            225000000.0  493733952.0              Фонд кино      7.4   \n",
       "6887            300000000.0  453704672.0              Фонд кино      5.8   \n",
       "\n",
       "                             genres   box_office  \n",
       "7114            приключения,фэнтези  333597056.0  \n",
       "5437       фэнтези,комедия,семейный  511775552.0  \n",
       "7464        история,биография,драма  717703168.0  \n",
       "7474              фантастика,боевик          NaN  \n",
       "7171        драма,биография,история   54243204.0  \n",
       "3351                          драма  364285152.0  \n",
       "2920      драма,триллер,приключения 1402255360.0  \n",
       "5653                    спорт,драма 2779686144.0  \n",
       "6549           драма,военный,боевик 2271753984.0  \n",
       "3255  приключения,триллер,биография  544332288.0  \n",
       "5569         история,боевик,фэнтези  590405056.0  \n",
       "2142       детектив,фэнтези,триллер   72578320.0  \n",
       "6699                  история,драма  138162880.0  \n",
       "5502      драма,приключения,триллер  752679808.0  \n",
       "6887      детектив,триллер,криминал   55876888.0  "
      ]
     },
     "execution_count": 39,
     "metadata": {},
     "output_type": "execute_result"
    }
   ],
   "source": [
    "pd.options.display.float_format = '{:.1f}'.format\n",
    "budget_df.sort_values(by='budget', ascending=False).head(15)\n"
   ]
  },
  {
   "cell_type": "markdown",
   "metadata": {},
   "source": [
    "No problems detected. Let's look at the box office. "
   ]
  },
  {
   "cell_type": "code",
   "execution_count": 40,
   "metadata": {},
   "outputs": [
    {
     "data": {
      "text/plain": [
       "<AxesSubplot:>"
      ]
     },
     "execution_count": 40,
     "metadata": {},
     "output_type": "execute_result"
    },
    {
     "data": {
      "image/png": "[encoded data removed]",
      "text/plain": [
       "<Figure size 432x288 with 1 Axes>"
      ]
     },
     "metadata": {
      "needs_background": "light"
     },
     "output_type": "display_data"
    }
   ],
   "source": [
    "df.query('box_office<10000')['box_office'].hist()"
   ]
  },
  {
   "cell_type": "code",
   "execution_count": 41,
   "metadata": {},
   "outputs": [
    {
     "data": {
      "text/plain": [
       "539"
      ]
     },
     "execution_count": 41,
     "metadata": {},
     "output_type": "execute_result"
    }
   ],
   "source": [
    "df.query('box_office<10000')['box_office'].count()"
   ]
  },
  {
   "cell_type": "markdown",
   "metadata": {},
   "source": [
    "There are 539 records where the fees in rubles amounted to less than 10000. This data looks dubious, so we will not consider it in the study.\n",
    "\n",
    "Let's look at the share of such films among those that received state support."
   ]
  },
  {
   "cell_type": "code",
   "execution_count": 42,
   "metadata": {},
   "outputs": [
    {
     "data": {
      "text/plain": [
       "0.13"
      ]
     },
     "execution_count": 42,
     "metadata": {},
     "output_type": "execute_result"
    }
   ],
   "source": [
    "round(df.query('box_office<10000')['budget'].count()/df['box_office'].count()*100, 2)"
   ]
  },
  {
   "cell_type": "markdown",
   "metadata": {},
   "source": [
    "The percentage of such movies is 13 hundredths of a percent."
   ]
  },
  {
   "cell_type": "markdown",
   "metadata": {
    "id": "Eu6oWp2CgFyS"
   },
   "source": [
    "#### Step 2.6. Add new columns\n",
    "\n",
    "\n"
   ]
  },
  {
   "cell_type": "markdown",
   "metadata": {
    "id": "7GgW-UpAgFyS"
   },
   "source": [
    "- Create a column with information about the year of distribution. Highlight the year from the premiere date of the movie."
   ]
  },
  {
   "cell_type": "code",
   "execution_count": 43,
   "metadata": {
    "id": "I-yd1DkWgFyT"
   },
   "outputs": [],
   "source": [
    "df['show_start_year'] = df['show_start_date'].dt.year"
   ]
  },
  {
   "cell_type": "markdown",
   "metadata": {
    "id": "nFTDLDYOgFyT"
   },
   "source": [
    "- Create two columns: the first and last name of the main director and the main genre of the movie. The columns will contain the first values from the list of directors and genres respectively.\n"
   ]
  },
  {
   "cell_type": "code",
   "execution_count": 44,
   "metadata": {
    "id": "LSbRZKbMgFyU"
   },
   "outputs": [],
   "source": [
    "df['main_genre'] = df['genres'].fillna('нет').str.split(',',n=1,expand=True)[0]\n",
    "df['main_director'] = df['director'].str.split(',',n=1,expand=True)[0]"
   ]
  },
  {
   "cell_type": "code",
   "execution_count": 45,
   "metadata": {
    "scrolled": true
   },
   "outputs": [
    {
     "data": {
      "text/html": [
       "<div>\n",
       "<style scoped>\n",
       "    .dataframe tbody tr th:only-of-type {\n",
       "        vertical-align: middle;\n",
       "    }\n",
       "\n",
       "    .dataframe tbody tr th {\n",
       "        vertical-align: top;\n",
       "    }\n",
       "\n",
       "    .dataframe thead th {\n",
       "        text-align: right;\n",
       "    }\n",
       "</style>\n",
       "<table border=\"1\" class=\"dataframe\">\n",
       "  <thead>\n",
       "    <tr style=\"text-align: right;\">\n",
       "      <th></th>\n",
       "      <th>title</th>\n",
       "      <th>puNumber</th>\n",
       "      <th>show_start_date</th>\n",
       "      <th>type</th>\n",
       "      <th>film_studio</th>\n",
       "      <th>production_country</th>\n",
       "      <th>director</th>\n",
       "      <th>producer</th>\n",
       "      <th>age_restriction</th>\n",
       "      <th>refundable_support</th>\n",
       "      <th>nonrefundable_support</th>\n",
       "      <th>budget</th>\n",
       "      <th>financing_source</th>\n",
       "      <th>ratings</th>\n",
       "      <th>genres</th>\n",
       "      <th>box_office</th>\n",
       "      <th>show_start_year</th>\n",
       "      <th>main_genre</th>\n",
       "      <th>main_director</th>\n",
       "    </tr>\n",
       "  </thead>\n",
       "  <tbody>\n",
       "    <tr>\n",
       "      <th>0</th>\n",
       "      <td>Открытый простор</td>\n",
       "      <td>221048915</td>\n",
       "      <td>2015-11-27 12:00:00</td>\n",
       "      <td>Художественный</td>\n",
       "      <td>Тачстоун Пикчерз, Кобальт Пикчерз, Бикон Пикче...</td>\n",
       "      <td>США</td>\n",
       "      <td>Кевин Костнер</td>\n",
       "      <td>Дэвид Валдес, Кевин Костнер, Джейк Эбертс</td>\n",
       "      <td>«18+» - запрещено для детей</td>\n",
       "      <td>NaN</td>\n",
       "      <td>NaN</td>\n",
       "      <td>NaN</td>\n",
       "      <td>NaN</td>\n",
       "      <td>7.2</td>\n",
       "      <td>боевик,драма,мелодрама</td>\n",
       "      <td>NaN</td>\n",
       "      <td>2015</td>\n",
       "      <td>боевик</td>\n",
       "      <td>Кевин Костнер</td>\n",
       "    </tr>\n",
       "    <tr>\n",
       "      <th>1</th>\n",
       "      <td>Особо важное задание</td>\n",
       "      <td>111013716</td>\n",
       "      <td>2016-09-13 12:00:00</td>\n",
       "      <td>Художественный</td>\n",
       "      <td>Киностудия \"Мосфильм\"</td>\n",
       "      <td>СССР</td>\n",
       "      <td>Е.Матвеев</td>\n",
       "      <td>NaN</td>\n",
       "      <td>«6+» - для детей старше 6 лет</td>\n",
       "      <td>NaN</td>\n",
       "      <td>NaN</td>\n",
       "      <td>NaN</td>\n",
       "      <td>NaN</td>\n",
       "      <td>6.6</td>\n",
       "      <td>драма,военный</td>\n",
       "      <td>NaN</td>\n",
       "      <td>2016</td>\n",
       "      <td>драма</td>\n",
       "      <td>Е.Матвеев</td>\n",
       "    </tr>\n",
       "    <tr>\n",
       "      <th>2</th>\n",
       "      <td>Особо опасен</td>\n",
       "      <td>221038416</td>\n",
       "      <td>2016-10-10 12:00:00</td>\n",
       "      <td>Художественный</td>\n",
       "      <td>Юниверсал Пикчерз, Кикстарт Продакшнз, Марк Пл...</td>\n",
       "      <td>США</td>\n",
       "      <td>Тимур Бекмамбетов</td>\n",
       "      <td>Джим Лемли, Джейсон Нетер, Марк Е.Платт, Яйн Смит</td>\n",
       "      <td>«18+» - запрещено для детей</td>\n",
       "      <td>NaN</td>\n",
       "      <td>NaN</td>\n",
       "      <td>NaN</td>\n",
       "      <td>NaN</td>\n",
       "      <td>6.8</td>\n",
       "      <td>фантастика,боевик,триллер</td>\n",
       "      <td>NaN</td>\n",
       "      <td>2016</td>\n",
       "      <td>фантастика</td>\n",
       "      <td>Тимур Бекмамбетов</td>\n",
       "    </tr>\n",
       "    <tr>\n",
       "      <th>3</th>\n",
       "      <td>Особо опасен</td>\n",
       "      <td>221026916</td>\n",
       "      <td>2016-06-10 12:00:00</td>\n",
       "      <td>Художественный</td>\n",
       "      <td>Юниверсал Пикчерз, Кикстарт Продакшнз, Марк Пл...</td>\n",
       "      <td>США</td>\n",
       "      <td>Тимур Бекмамбетов</td>\n",
       "      <td>Джим Лемли, Джейсон Нетер, Марк Е.Платт, Яйн Смит</td>\n",
       "      <td>«18+» - запрещено для детей</td>\n",
       "      <td>NaN</td>\n",
       "      <td>NaN</td>\n",
       "      <td>NaN</td>\n",
       "      <td>NaN</td>\n",
       "      <td>6.8</td>\n",
       "      <td>фантастика,боевик,триллер</td>\n",
       "      <td>NaN</td>\n",
       "      <td>2016</td>\n",
       "      <td>фантастика</td>\n",
       "      <td>Тимур Бекмамбетов</td>\n",
       "    </tr>\n",
       "    <tr>\n",
       "      <th>4</th>\n",
       "      <td>Особо опасен</td>\n",
       "      <td>221030815</td>\n",
       "      <td>2015-07-29 12:00:00</td>\n",
       "      <td>Художественный</td>\n",
       "      <td>Юниверсал Пикчерз, Кикстарт Продакшнз, Марк Пл...</td>\n",
       "      <td>США</td>\n",
       "      <td>Тимур Бекмамбетов</td>\n",
       "      <td>Джим Лемли, Джейсон Нетер, Марк Е.Платт, Яйн Смит</td>\n",
       "      <td>«18+» - запрещено для детей</td>\n",
       "      <td>NaN</td>\n",
       "      <td>NaN</td>\n",
       "      <td>NaN</td>\n",
       "      <td>NaN</td>\n",
       "      <td>6.8</td>\n",
       "      <td>фантастика,боевик,триллер</td>\n",
       "      <td>NaN</td>\n",
       "      <td>2015</td>\n",
       "      <td>фантастика</td>\n",
       "      <td>Тимур Бекмамбетов</td>\n",
       "    </tr>\n",
       "  </tbody>\n",
       "</table>\n",
       "</div>"
      ],
      "text/plain": [
       "                  title   puNumber     show_start_date            type  \\\n",
       "0      Открытый простор  221048915 2015-11-27 12:00:00  Художественный   \n",
       "1  Особо важное задание  111013716 2016-09-13 12:00:00  Художественный   \n",
       "2          Особо опасен  221038416 2016-10-10 12:00:00  Художественный   \n",
       "3          Особо опасен  221026916 2016-06-10 12:00:00  Художественный   \n",
       "4          Особо опасен  221030815 2015-07-29 12:00:00  Художественный   \n",
       "\n",
       "                                         film_studio production_country  \\\n",
       "0  Тачстоун Пикчерз, Кобальт Пикчерз, Бикон Пикче...                США   \n",
       "1                              Киностудия \"Мосфильм\"               СССР   \n",
       "2  Юниверсал Пикчерз, Кикстарт Продакшнз, Марк Пл...                США   \n",
       "3  Юниверсал Пикчерз, Кикстарт Продакшнз, Марк Пл...                США   \n",
       "4  Юниверсал Пикчерз, Кикстарт Продакшнз, Марк Пл...                США   \n",
       "\n",
       "            director                                           producer  \\\n",
       "0      Кевин Костнер          Дэвид Валдес, Кевин Костнер, Джейк Эбертс   \n",
       "1          Е.Матвеев                                                NaN   \n",
       "2  Тимур Бекмамбетов  Джим Лемли, Джейсон Нетер, Марк Е.Платт, Яйн Смит   \n",
       "3  Тимур Бекмамбетов  Джим Лемли, Джейсон Нетер, Марк Е.Платт, Яйн Смит   \n",
       "4  Тимур Бекмамбетов  Джим Лемли, Джейсон Нетер, Марк Е.Платт, Яйн Смит   \n",
       "\n",
       "                 age_restriction  refundable_support  nonrefundable_support  \\\n",
       "0    «18+» - запрещено для детей                 NaN                    NaN   \n",
       "1  «6+» - для детей старше 6 лет                 NaN                    NaN   \n",
       "2    «18+» - запрещено для детей                 NaN                    NaN   \n",
       "3    «18+» - запрещено для детей                 NaN                    NaN   \n",
       "4    «18+» - запрещено для детей                 NaN                    NaN   \n",
       "\n",
       "   budget financing_source  ratings                     genres  box_office  \\\n",
       "0     NaN              NaN      7.2     боевик,драма,мелодрама         NaN   \n",
       "1     NaN              NaN      6.6              драма,военный         NaN   \n",
       "2     NaN              NaN      6.8  фантастика,боевик,триллер         NaN   \n",
       "3     NaN              NaN      6.8  фантастика,боевик,триллер         NaN   \n",
       "4     NaN              NaN      6.8  фантастика,боевик,триллер         NaN   \n",
       "\n",
       "   show_start_year  main_genre      main_director  \n",
       "0             2015      боевик      Кевин Костнер  \n",
       "1             2016       драма          Е.Матвеев  \n",
       "2             2016  фантастика  Тимур Бекмамбетов  \n",
       "3             2016  фантастика  Тимур Бекмамбетов  \n",
       "4             2015  фантастика  Тимур Бекмамбетов  "
      ]
     },
     "execution_count": 45,
     "metadata": {},
     "output_type": "execute_result"
    }
   ],
   "source": [
    "df.head()"
   ]
  },
  {
   "cell_type": "markdown",
   "metadata": {},
   "source": [
    "Let's create another column with the main studio to make a list of funding recommendations later."
   ]
  },
  {
   "cell_type": "code",
   "execution_count": 46,
   "metadata": {},
   "outputs": [],
   "source": [
    "df['main_studio'] = df['film_studio'].str.split(',',n=1,expand=True)[0]"
   ]
  },
  {
   "cell_type": "markdown",
   "metadata": {
    "id": "1FsCXHwdgFyU"
   },
   "source": [
    "- Calculate how much of the total budget of the movie is government support."
   ]
  },
  {
   "cell_type": "code",
   "execution_count": 47,
   "metadata": {},
   "outputs": [],
   "source": [
    "df['funds_percentage'] = (df['refundable_support']+df['nonrefundable_support'])/df['budget']*100\n",
    "\n",
    "\n",
    "budget_df = df.query('funds_percentage.notnull() and budget>0')\n"
   ]
  },
  {
   "cell_type": "code",
   "execution_count": 48,
   "metadata": {},
   "outputs": [
    {
     "data": {
      "text/plain": [
       "count   315.0\n",
       "mean     51.7\n",
       "std      17.0\n",
       "min       4.4\n",
       "25%      37.3\n",
       "50%      59.2\n",
       "75%      65.7\n",
       "max      78.5\n",
       "Name: funds_percentage, dtype: float64"
      ]
     },
     "execution_count": 48,
     "metadata": {},
     "output_type": "execute_result"
    }
   ],
   "source": [
    "budget_df['funds_percentage'].describe()"
   ]
  },
  {
   "cell_type": "markdown",
   "metadata": {},
   "source": [
    "* Minimum share of state support: ~4%\n",
    "* Average share of state support: ~52%\n",
    "* Maximum share of state support: ~79%"
   ]
  },
  {
   "cell_type": "markdown",
   "metadata": {
    "id": "6t4EukPLgFyV"
   },
   "source": [
    "### Step 3: Conduct an exploratory analysis of the data\n"
   ]
  },
  {
   "cell_type": "markdown",
   "metadata": {
    "id": "vAH8WCzugFyV"
   },
   "source": [
    "- See how many movies were released each year. Note that not all films have the same theatrical release data. Calculate the proportion of films with the specified theatrical release information."
   ]
  },
  {
   "cell_type": "code",
   "execution_count": 49,
   "metadata": {},
   "outputs": [
    {
     "name": "stdout",
     "output_type": "stream",
     "text": [
      "Доля фильмов с указанной информацией о сборах: 42.2\n"
     ]
    }
   ],
   "source": [
    "print('Доля фильмов с указанной информацией о сборах:',round(df['box_office'].count()/df['puNumber'].count()*100, 1))"
   ]
  },
  {
   "cell_type": "code",
   "execution_count": 94,
   "metadata": {},
   "outputs": [
    {
     "name": "stdout",
     "output_type": "stream",
     "text": [
      "Доли фиильмов с указанной информацией о сборах\n",
      "2010 - 10.7%\n",
      "2011 - 17.5%\n",
      "2012 - 21.6%\n",
      "2013 - 29.2%\n",
      "2014 - 34.6%\n",
      "2015 - 66.0%\n",
      "2016 - 64.3%\n",
      "2017 - 70.7%\n",
      "2018 - 53.3%\n",
      "2019 - 57.0%\n"
     ]
    }
   ],
   "source": [
    "print('Доли фиильмов с указанной информацией о сборах')\n",
    "for i in range(2010,2020):\n",
    "    result = df.loc[df['show_start_year']==i, 'box_office'].count()/df.loc[df['show_start_year']==i, 'puNumber'].count()*100\n",
    "    print(f'{i} - {round(result,1)}%')"
   ]
  },
  {
   "cell_type": "markdown",
   "metadata": {},
   "source": [
    "\n",
    "In 2010, the least share of movies with information on fees was 10.7%. \n",
    "After that, the share increased steadily, peaking at 70.7% in 2017\n",
    "In 2018, it dropped to 53%.\n"
   ]
  },
  {
   "cell_type": "code",
   "execution_count": 51,
   "metadata": {},
   "outputs": [
    {
     "name": "stdout",
     "output_type": "stream",
     "text": [
      "Доля фильмов с указанной информацией о годе премьеры: 100.0\n"
     ]
    }
   ],
   "source": [
    "\n",
    "print('Доля фильмов с указанной информацией о годе премьеры:',round(df['show_start_year'].count()/df['puNumber'].count()*100, 1))\n"
   ]
  },
  {
   "cell_type": "code",
   "execution_count": 52,
   "metadata": {},
   "outputs": [
    {
     "data": {
      "text/plain": [
       "<AxesSubplot:>"
      ]
     },
     "execution_count": 52,
     "metadata": {},
     "output_type": "execute_result"
    },
    {
     "data": {
      "image/png": "[encoded data removed]",
      "text/plain": [
       "<Figure size 432x288 with 1 Axes>"
      ]
     },
     "metadata": {
      "needs_background": "light"
     },
     "output_type": "display_data"
    }
   ],
   "source": [
    "years_df = df['show_start_year'].value_counts().sort_index().to_frame()\n",
    "years_df.plot(ylim=(0,1200))\n"
   ]
  },
  {
   "cell_type": "code",
   "execution_count": 53,
   "metadata": {},
   "outputs": [
    {
     "data": {
      "text/html": [
       "<div>\n",
       "<style scoped>\n",
       "    .dataframe tbody tr th:only-of-type {\n",
       "        vertical-align: middle;\n",
       "    }\n",
       "\n",
       "    .dataframe tbody tr th {\n",
       "        vertical-align: top;\n",
       "    }\n",
       "\n",
       "    .dataframe thead th {\n",
       "        text-align: right;\n",
       "    }\n",
       "</style>\n",
       "<table border=\"1\" class=\"dataframe\">\n",
       "  <thead>\n",
       "    <tr style=\"text-align: right;\">\n",
       "      <th></th>\n",
       "      <th>show_start_year</th>\n",
       "    </tr>\n",
       "  </thead>\n",
       "  <tbody>\n",
       "    <tr>\n",
       "      <th>2010</th>\n",
       "      <td>985</td>\n",
       "    </tr>\n",
       "    <tr>\n",
       "      <th>2011</th>\n",
       "      <td>622</td>\n",
       "    </tr>\n",
       "    <tr>\n",
       "      <th>2012</th>\n",
       "      <td>593</td>\n",
       "    </tr>\n",
       "    <tr>\n",
       "      <th>2013</th>\n",
       "      <td>630</td>\n",
       "    </tr>\n",
       "    <tr>\n",
       "      <th>2014</th>\n",
       "      <td>807</td>\n",
       "    </tr>\n",
       "    <tr>\n",
       "      <th>2015</th>\n",
       "      <td>705</td>\n",
       "    </tr>\n",
       "    <tr>\n",
       "      <th>2016</th>\n",
       "      <td>818</td>\n",
       "    </tr>\n",
       "    <tr>\n",
       "      <th>2017</th>\n",
       "      <td>505</td>\n",
       "    </tr>\n",
       "    <tr>\n",
       "      <th>2018</th>\n",
       "      <td>891</td>\n",
       "    </tr>\n",
       "    <tr>\n",
       "      <th>2019</th>\n",
       "      <td>930</td>\n",
       "    </tr>\n",
       "  </tbody>\n",
       "</table>\n",
       "</div>"
      ],
      "text/plain": [
       "      show_start_year\n",
       "2010              985\n",
       "2011              622\n",
       "2012              593\n",
       "2013              630\n",
       "2014              807\n",
       "2015              705\n",
       "2016              818\n",
       "2017              505\n",
       "2018              891\n",
       "2019              930"
      ]
     },
     "execution_count": 53,
     "metadata": {},
     "output_type": "execute_result"
    }
   ],
   "source": [
    "years_df"
   ]
  },
  {
   "cell_type": "code",
   "execution_count": 54,
   "metadata": {},
   "outputs": [
    {
     "name": "stdout",
     "output_type": "stream",
     "text": [
      "True\n"
     ]
    }
   ],
   "source": [
    "year_group=df.groupby('show_start_year')['puNumber'].count()\n",
    "print(year_group.sum()==df['puNumber'].count())"
   ]
  },
  {
   "cell_type": "code",
   "execution_count": 55,
   "metadata": {},
   "outputs": [
    {
     "data": {
      "text/plain": [
       "2010    985\n",
       "2019    930\n",
       "2018    891\n",
       "2016    818\n",
       "2014    807\n",
       "2015    705\n",
       "2013    630\n",
       "2011    622\n",
       "2012    593\n",
       "2017    505\n",
       "Name: show_start_date, dtype: int64"
      ]
     },
     "execution_count": 55,
     "metadata": {},
     "output_type": "execute_result"
    }
   ],
   "source": [
    "df['show_start_date'].dt.year.value_counts()"
   ]
  },
  {
   "cell_type": "markdown",
   "metadata": {},
   "source": [
    "2010 saw the highest number of films released in theaters, 985.\n",
    "Until 2012 followed the first sharp decline to 593 films. \n",
    "In 2016 the figures rose to 818, but 2015 saw the lowest drop to 505 films.\n",
    "After that there was an increase and in 2019 the figures are close to 2010 with 930 movies."
   ]
  },
  {
   "cell_type": "markdown",
   "metadata": {},
   "source": [
    "\n",
    "Minimum dues were in 2013, maximum in 2019\n"
   ]
  },
  {
   "cell_type": "markdown",
   "metadata": {
    "id": "BEOdcIrIgFyW"
   },
   "source": [
    "- Using the summary table, calculate the average and median amount of fees for each year."
   ]
  },
  {
   "cell_type": "code",
   "execution_count": 56,
   "metadata": {
    "id": "tfEhofYvgFyX"
   },
   "outputs": [
    {
     "data": {
      "text/html": [
       "<div>\n",
       "<style scoped>\n",
       "    .dataframe tbody tr th:only-of-type {\n",
       "        vertical-align: middle;\n",
       "    }\n",
       "\n",
       "    .dataframe tbody tr th {\n",
       "        vertical-align: top;\n",
       "    }\n",
       "\n",
       "    .dataframe thead tr th {\n",
       "        text-align: left;\n",
       "    }\n",
       "\n",
       "    .dataframe thead tr:last-of-type th {\n",
       "        text-align: right;\n",
       "    }\n",
       "</style>\n",
       "<table border=\"1\" class=\"dataframe\">\n",
       "  <thead>\n",
       "    <tr>\n",
       "      <th></th>\n",
       "      <th>min</th>\n",
       "      <th>max</th>\n",
       "      <th>mean</th>\n",
       "      <th>median</th>\n",
       "      <th>count</th>\n",
       "    </tr>\n",
       "    <tr>\n",
       "      <th></th>\n",
       "      <th>box_office</th>\n",
       "      <th>box_office</th>\n",
       "      <th>box_office</th>\n",
       "      <th>box_office</th>\n",
       "      <th>box_office</th>\n",
       "    </tr>\n",
       "    <tr>\n",
       "      <th>show_start_year</th>\n",
       "      <th></th>\n",
       "      <th></th>\n",
       "      <th></th>\n",
       "      <th></th>\n",
       "      <th></th>\n",
       "    </tr>\n",
       "  </thead>\n",
       "  <tbody>\n",
       "    <tr>\n",
       "      <th>2010</th>\n",
       "      <td>10685.0</td>\n",
       "      <td>1446400.0</td>\n",
       "      <td>113738.5</td>\n",
       "      <td>23612.5</td>\n",
       "      <td>20</td>\n",
       "    </tr>\n",
       "    <tr>\n",
       "      <th>2011</th>\n",
       "      <td>10320.0</td>\n",
       "      <td>11618085.0</td>\n",
       "      <td>514028.0</td>\n",
       "      <td>42691.0</td>\n",
       "      <td>27</td>\n",
       "    </tr>\n",
       "    <tr>\n",
       "      <th>2012</th>\n",
       "      <td>10310.0</td>\n",
       "      <td>2311220.0</td>\n",
       "      <td>135530.3</td>\n",
       "      <td>30607.5</td>\n",
       "      <td>50</td>\n",
       "    </tr>\n",
       "    <tr>\n",
       "      <th>2013</th>\n",
       "      <td>10135.0</td>\n",
       "      <td>4321638.0</td>\n",
       "      <td>161182.2</td>\n",
       "      <td>33360.0</td>\n",
       "      <td>57</td>\n",
       "    </tr>\n",
       "    <tr>\n",
       "      <th>2014</th>\n",
       "      <td>10345.0</td>\n",
       "      <td>1016410624.0</td>\n",
       "      <td>43427616.0</td>\n",
       "      <td>256320.0</td>\n",
       "      <td>148</td>\n",
       "    </tr>\n",
       "    <tr>\n",
       "      <th>2015</th>\n",
       "      <td>11300.0</td>\n",
       "      <td>1658861440.0</td>\n",
       "      <td>94963424.0</td>\n",
       "      <td>6144303.0</td>\n",
       "      <td>355</td>\n",
       "    </tr>\n",
       "    <tr>\n",
       "      <th>2016</th>\n",
       "      <td>11740.0</td>\n",
       "      <td>2048126080.0</td>\n",
       "      <td>94109352.0</td>\n",
       "      <td>4177689.0</td>\n",
       "      <td>444</td>\n",
       "    </tr>\n",
       "    <tr>\n",
       "      <th>2017</th>\n",
       "      <td>24310.0</td>\n",
       "      <td>2118396160.0</td>\n",
       "      <td>118923104.0</td>\n",
       "      <td>9580738.0</td>\n",
       "      <td>317</td>\n",
       "    </tr>\n",
       "    <tr>\n",
       "      <th>2018</th>\n",
       "      <td>41225.0</td>\n",
       "      <td>1913257984.0</td>\n",
       "      <td>94831344.0</td>\n",
       "      <td>8292672.0</td>\n",
       "      <td>419</td>\n",
       "    </tr>\n",
       "    <tr>\n",
       "      <th>2019</th>\n",
       "      <td>34992.0</td>\n",
       "      <td>2576613888.0</td>\n",
       "      <td>85504424.0</td>\n",
       "      <td>4233888.0</td>\n",
       "      <td>468</td>\n",
       "    </tr>\n",
       "  </tbody>\n",
       "</table>\n",
       "</div>"
      ],
      "text/plain": [
       "                       min          max        mean     median      count\n",
       "                box_office   box_office  box_office box_office box_office\n",
       "show_start_year                                                          \n",
       "2010               10685.0    1446400.0    113738.5    23612.5         20\n",
       "2011               10320.0   11618085.0    514028.0    42691.0         27\n",
       "2012               10310.0    2311220.0    135530.3    30607.5         50\n",
       "2013               10135.0    4321638.0    161182.2    33360.0         57\n",
       "2014               10345.0 1016410624.0  43427616.0   256320.0        148\n",
       "2015               11300.0 1658861440.0  94963424.0  6144303.0        355\n",
       "2016               11740.0 2048126080.0  94109352.0  4177689.0        444\n",
       "2017               24310.0 2118396160.0 118923104.0  9580738.0        317\n",
       "2018               41225.0 1913257984.0  94831344.0  8292672.0        419\n",
       "2019               34992.0 2576613888.0  85504424.0  4233888.0        468"
      ]
     },
     "execution_count": 56,
     "metadata": {},
     "output_type": "execute_result"
    }
   ],
   "source": [
    "box_office_df = df.query('box_office>10000 and budget.isnull()').pivot_table(index='show_start_year', values='box_office', aggfunc=['min','max','mean','median', 'count'])\n",
    "box_office_df\n"
   ]
  },
  {
   "cell_type": "markdown",
   "metadata": {},
   "source": [
    "**For films without government funding:**\n",
    "\n",
    "** Minimum collections were in 2013, maximum in 2019**\n",
    "* Minimum collections rose from 2017 through 2018 with a peak of 41,000, then dropped to 35,000.\n",
    "* Maximum collections began a sharp rise from 2014 and peaked at 2.5 billion in 2019, after a slight dip in 2018.\n",
    "* Median fees started rising in 2014, peaked in 2017 (9.5 million), then went into decline"
   ]
  },
  {
   "cell_type": "markdown",
   "metadata": {},
   "source": [
    "\n",
    "Conclusions about averages and medians:\n",
    "    The big difference is the average is much larger than the median. This makes sense, as in every year there are box office hits that collect at the box office many times more than other movies.\n",
    "    \n"
   ]
  },
  {
   "cell_type": "code",
   "execution_count": 57,
   "metadata": {},
   "outputs": [
    {
     "data": {
      "text/html": [
       "<div>\n",
       "<style scoped>\n",
       "    .dataframe tbody tr th:only-of-type {\n",
       "        vertical-align: middle;\n",
       "    }\n",
       "\n",
       "    .dataframe tbody tr th {\n",
       "        vertical-align: top;\n",
       "    }\n",
       "\n",
       "    .dataframe thead tr th {\n",
       "        text-align: left;\n",
       "    }\n",
       "\n",
       "    .dataframe thead tr:last-of-type th {\n",
       "        text-align: right;\n",
       "    }\n",
       "</style>\n",
       "<table border=\"1\" class=\"dataframe\">\n",
       "  <thead>\n",
       "    <tr>\n",
       "      <th></th>\n",
       "      <th>min</th>\n",
       "      <th>max</th>\n",
       "      <th>mean</th>\n",
       "      <th>median</th>\n",
       "      <th>count</th>\n",
       "    </tr>\n",
       "    <tr>\n",
       "      <th></th>\n",
       "      <th>box_office</th>\n",
       "      <th>box_office</th>\n",
       "      <th>box_office</th>\n",
       "      <th>box_office</th>\n",
       "      <th>box_office</th>\n",
       "    </tr>\n",
       "    <tr>\n",
       "      <th>show_start_year</th>\n",
       "      <th></th>\n",
       "      <th></th>\n",
       "      <th></th>\n",
       "      <th></th>\n",
       "      <th></th>\n",
       "    </tr>\n",
       "  </thead>\n",
       "  <tbody>\n",
       "    <tr>\n",
       "      <th>2013</th>\n",
       "      <td>365353.6</td>\n",
       "      <td>19957032.0</td>\n",
       "      <td>10161193.0</td>\n",
       "      <td>10161193.0</td>\n",
       "      <td>2</td>\n",
       "    </tr>\n",
       "    <tr>\n",
       "      <th>2014</th>\n",
       "      <td>28140.0</td>\n",
       "      <td>393344640.0</td>\n",
       "      <td>63588888.0</td>\n",
       "      <td>5504518.0</td>\n",
       "      <td>16</td>\n",
       "    </tr>\n",
       "    <tr>\n",
       "      <th>2015</th>\n",
       "      <td>19820.0</td>\n",
       "      <td>704928192.0</td>\n",
       "      <td>70552112.0</td>\n",
       "      <td>10166676.0</td>\n",
       "      <td>82</td>\n",
       "    </tr>\n",
       "    <tr>\n",
       "      <th>2016</th>\n",
       "      <td>35897.0</td>\n",
       "      <td>1402255360.0</td>\n",
       "      <td>103079640.0</td>\n",
       "      <td>19027902.0</td>\n",
       "      <td>59</td>\n",
       "    </tr>\n",
       "    <tr>\n",
       "      <th>2017</th>\n",
       "      <td>168512.0</td>\n",
       "      <td>2779686144.0</td>\n",
       "      <td>278591680.0</td>\n",
       "      <td>50451948.0</td>\n",
       "      <td>39</td>\n",
       "    </tr>\n",
       "    <tr>\n",
       "      <th>2018</th>\n",
       "      <td>55685.0</td>\n",
       "      <td>2271753984.0</td>\n",
       "      <td>177394096.0</td>\n",
       "      <td>27023392.0</td>\n",
       "      <td>56</td>\n",
       "    </tr>\n",
       "    <tr>\n",
       "      <th>2019</th>\n",
       "      <td>75850.0</td>\n",
       "      <td>3073568768.0</td>\n",
       "      <td>140160464.0</td>\n",
       "      <td>25977292.0</td>\n",
       "      <td>60</td>\n",
       "    </tr>\n",
       "  </tbody>\n",
       "</table>\n",
       "</div>"
      ],
      "text/plain": [
       "                       min          max        mean     median      count\n",
       "                box_office   box_office  box_office box_office box_office\n",
       "show_start_year                                                          \n",
       "2013              365353.6   19957032.0  10161193.0 10161193.0          2\n",
       "2014               28140.0  393344640.0  63588888.0  5504518.0         16\n",
       "2015               19820.0  704928192.0  70552112.0 10166676.0         82\n",
       "2016               35897.0 1402255360.0 103079640.0 19027902.0         59\n",
       "2017              168512.0 2779686144.0 278591680.0 50451948.0         39\n",
       "2018               55685.0 2271753984.0 177394096.0 27023392.0         56\n",
       "2019               75850.0 3073568768.0 140160464.0 25977292.0         60"
      ]
     },
     "execution_count": 57,
     "metadata": {},
     "output_type": "execute_result"
    }
   ],
   "source": [
    "box_office_rus_df = df.query('box_office>10000 and budget.notnull()').pivot_table(index='show_start_year', values='box_office', aggfunc=['min','max','mean','median', 'count'])\n",
    "\n",
    "box_office_rus_df"
   ]
  },
  {
   "cell_type": "markdown",
   "metadata": {},
   "source": [
    "**For state-financed movies:**\n",
    "\n",
    "* Minimum in 2015 is 19820. Maximum in 2019 is 3 billion\n",
    "* Minimum collections have 2 peaks - 2013 and 2017. \n",
    "* Maximum collections increased steadily until 2017, dropped slightly afterward, but peaked at 3 billion in 2019.\n",
    "* Median peaks in 2017 (50 million), after mdiana went down after that"
   ]
  },
  {
   "cell_type": "markdown",
   "metadata": {
    "id": "G-7qS-N-gFyY"
   },
   "source": [
    "- Examine how the dynamics of the box office changed by year. In which year was the amount of collections the lowest? And the highest?"
   ]
  },
  {
   "cell_type": "code",
   "execution_count": 58,
   "metadata": {
    "id": "jmp-rgg9gFyY"
   },
   "outputs": [
    {
     "data": {
      "text/plain": [
       "<AxesSubplot:xlabel='show_start_year'>"
      ]
     },
     "execution_count": 58,
     "metadata": {},
     "output_type": "execute_result"
    },
    {
     "data": {
      "image/png": "[encoded data removed]",
      "text/plain": [
       "<Figure size 432x288 with 1 Axes>"
      ]
     },
     "metadata": {
      "needs_background": "light"
     },
     "output_type": "display_data"
    }
   ],
   "source": [
    "box_office_df.plot()"
   ]
  },
  {
   "cell_type": "code",
   "execution_count": 59,
   "metadata": {},
   "outputs": [
    {
     "data": {
      "text/plain": [
       "<AxesSubplot:xlabel='show_start_year'>"
      ]
     },
     "execution_count": 59,
     "metadata": {},
     "output_type": "execute_result"
    },
    {
     "data": {
      "image/png": "[encoded data removed]",
      "text/plain": [
       "<Figure size 432x288 with 1 Axes>"
      ]
     },
     "metadata": {
      "needs_background": "light"
     },
     "output_type": "display_data"
    }
   ],
   "source": [
    "box_office_df['min'].plot()"
   ]
  },
  {
   "cell_type": "markdown",
   "metadata": {},
   "source": [
    "**For all movies**\n",
    "\n",
    "* Minimum income skyrocketed 4 times in 2016, followed by a downturn.\n",
    "* Maximum income rose sharply from 2013 to 2017, after which it declined slightly and peaked in 2019"
   ]
  },
  {
   "cell_type": "code",
   "execution_count": 60,
   "metadata": {},
   "outputs": [
    {
     "data": {
      "text/plain": [
       "<AxesSubplot:xlabel='show_start_year'>"
      ]
     },
     "execution_count": 60,
     "metadata": {},
     "output_type": "execute_result"
    },
    {
     "data": {
      "image/png": "[encoded data removed]",
      "text/plain": [
       "<Figure size 432x288 with 1 Axes>"
      ]
     },
     "metadata": {
      "needs_background": "light"
     },
     "output_type": "display_data"
    }
   ],
   "source": [
    "box_office_rus_df.plot()"
   ]
  },
  {
   "cell_type": "code",
   "execution_count": 61,
   "metadata": {},
   "outputs": [
    {
     "data": {
      "text/plain": [
       "<AxesSubplot:xlabel='show_start_year'>"
      ]
     },
     "execution_count": 61,
     "metadata": {},
     "output_type": "execute_result"
    },
    {
     "data": {
      "image/png": "[encoded data removed]",
      "text/plain": [
       "<Figure size 432x288 with 1 Axes>"
      ]
     },
     "metadata": {
      "needs_background": "light"
     },
     "output_type": "display_data"
    }
   ],
   "source": [
    "box_office_rus_df['min'].plot()"
   ]
  },
  {
   "cell_type": "markdown",
   "metadata": {},
   "source": [
    "**For state-financed films**\n",
    "\n",
    "* in 2013 there was a sharp jump in the maximum revenue from theatrical distribution. \n",
    "* Minimum income became less from 2013 to 2014 by 7 times. By 2017 it was up, but lost ground in 2018\n",
    "\n",
    "Curious observation:\n",
    "The minimum box office for Russian films is ~20,000, while even if we consider unfinanced films whose box office is over 10,000, such amount becomes minimum only in 2017."
   ]
  },
  {
   "cell_type": "markdown",
   "metadata": {
    "id": "Ok89WFwJgFyZ"
   },
   "source": [
    "- Determine if the age limit of the audience (\"6+\", \"12+\", \"16+\", \"18+\", etc.) affects the movie's box office receipts from 2015 to 2019? Films with what age limit have grossed the most money at the box office? Does the picture change from year to year? If yes, suggest what this might be related to."
   ]
  },
  {
   "cell_type": "code",
   "execution_count": 62,
   "metadata": {
    "id": "jsSbEqfjgFya"
   },
   "outputs": [
    {
     "data": {
      "text/plain": [
       "«16+» - для детей старше 16 лет           2851\n",
       "«18+» - запрещено для детей               1605\n",
       "«12+» - для детей старше 12 лет           1593\n",
       "«0+» - для любой зрительской аудитории     811\n",
       "«6+» - для детей старше 6 лет              626\n",
       "Name: age_restriction, dtype: int64"
      ]
     },
     "execution_count": 62,
     "metadata": {},
     "output_type": "execute_result"
    }
   ],
   "source": [
    "df['age_restriction'].value_counts()"
   ]
  },
  {
   "cell_type": "code",
   "execution_count": 63,
   "metadata": {},
   "outputs": [
    {
     "data": {
      "text/plain": [
       "<AxesSubplot:ylabel='age_restriction'>"
      ]
     },
     "execution_count": 63,
     "metadata": {},
     "output_type": "execute_result"
    },
    {
     "data": {
      "image/png": "[encoded data removed]",
      "text/plain": [
       "<Figure size 432x288 with 1 Axes>"
      ]
     },
     "metadata": {
      "needs_background": "light"
     },
     "output_type": "display_data"
    }
   ],
   "source": [
    "df.groupby(by='age_restriction')['box_office'].sum().plot(kind='barh')"
   ]
  },
  {
   "cell_type": "code",
   "execution_count": 64,
   "metadata": {},
   "outputs": [
    {
     "data": {
      "text/plain": [
       "<AxesSubplot:xlabel='None-show_start_year', ylabel='age_restriction'>"
      ]
     },
     "execution_count": 64,
     "metadata": {},
     "output_type": "execute_result"
    },
    {
     "data": {
      "image/png": "[encoded data removed]",
      "text/plain": [
       "<Figure size 432x288 with 2 Axes>"
      ]
     },
     "metadata": {
      "needs_background": "light"
     },
     "output_type": "display_data"
    }
   ],
   "source": [
    "restriction_pivot=df.query('2015<=show_start_year<=2019 and budget.isnull()').pivot_table(index='age_restriction',columns='show_start_year', values='box_office', aggfunc=['sum'])\n",
    "sns.heatmap(restriction_pivot, xticklabels=['2015','2016','2017','2018','2019'])"
   ]
  },
  {
   "cell_type": "code",
   "execution_count": 65,
   "metadata": {},
   "outputs": [
    {
     "data": {
      "text/plain": [
       "array([<AxesSubplot:xlabel='None,show_start_year'>,\n",
       "       <AxesSubplot:xlabel='None,show_start_year'>,\n",
       "       <AxesSubplot:xlabel='None,show_start_year'>,\n",
       "       <AxesSubplot:xlabel='None,show_start_year'>,\n",
       "       <AxesSubplot:xlabel='None,show_start_year'>], dtype=object)"
      ]
     },
     "execution_count": 65,
     "metadata": {},
     "output_type": "execute_result"
    },
    {
     "data": {
      "image/png": "[encoded data removed]",
      "text/plain": [
       "<Figure size 720x720 with 5 Axes>"
      ]
     },
     "metadata": {
      "needs_background": "light"
     },
     "output_type": "display_data"
    }
   ],
   "source": [
    "\n",
    "restriction_pivot1 = restriction_pivot.transpose()\n",
    "\n",
    "restriction_pivot1.plot.line(subplots=True,figsize=(10,10), ylim=(0))\n"
   ]
  },
  {
   "cell_type": "markdown",
   "metadata": {},
   "source": [
    "**For films without funding:**\n",
    "\n",
    "* For the time period from 2015 to 2019, 16+ films made the most money at the box office. 12+ movies made the least\n",
    "* In 2017, there was a turning point for all categories:\n",
    "    * Rental movies for all audiences reached a minimum value\n",
    "    * Distribution of movies for kids 12+ started to grow\n",
    "    * Distribution of movies for kids over 16 peaked, followed by a decline\n",
    "    * Distribution of movies banned for children reached a minimum, followed by growth\n",
    "* Movies for kids over 6 and movies banned for kids see an increase in box office money in 2019."
   ]
  },
  {
   "cell_type": "code",
   "execution_count": 66,
   "metadata": {},
   "outputs": [
    {
     "data": {
      "text/plain": [
       "<AxesSubplot:xlabel='None-show_start_year', ylabel='age_restriction'>"
      ]
     },
     "execution_count": 66,
     "metadata": {},
     "output_type": "execute_result"
    },
    {
     "data": {
      "image/png": "[encoded data removed]",
      "text/plain": [
       "<Figure size 432x288 with 2 Axes>"
      ]
     },
     "metadata": {
      "needs_background": "light"
     },
     "output_type": "display_data"
    }
   ],
   "source": [
    "fund_restriction_pivot=df.query('2015<=show_start_year<=2019 and budget.notnull()').pivot_table(index='age_restriction',columns='show_start_year', values='box_office', aggfunc=['sum'])\n",
    "sns.heatmap(fund_restriction_pivot, xticklabels=['2015','2016','2017','2018','2019']\n",
    "           )"
   ]
  },
  {
   "cell_type": "code",
   "execution_count": 67,
   "metadata": {},
   "outputs": [
    {
     "data": {
      "text/plain": [
       "array([<AxesSubplot:xlabel='None,show_start_year'>,\n",
       "       <AxesSubplot:xlabel='None,show_start_year'>,\n",
       "       <AxesSubplot:xlabel='None,show_start_year'>,\n",
       "       <AxesSubplot:xlabel='None,show_start_year'>,\n",
       "       <AxesSubplot:xlabel='None,show_start_year'>], dtype=object)"
      ]
     },
     "execution_count": 67,
     "metadata": {},
     "output_type": "execute_result"
    },
    {
     "data": {
      "image/png": "[encoded data removed]",
      "text/plain": [
       "<Figure size 720x720 with 5 Axes>"
      ]
     },
     "metadata": {
      "needs_background": "light"
     },
     "output_type": "display_data"
    }
   ],
   "source": [
    "fund_restriction_pivot1= fund_restriction_pivot.transpose()\n",
    "fund_restriction_pivot1.plot.line(subplots=True,figsize=(10,10), ylim=(0))\n"
   ]
  },
  {
   "cell_type": "markdown",
   "metadata": {},
   "source": [
    "**For films that have received government funding:**\n",
    "\n",
    "* The highest revenue comes from films in the 12+ category, followed by 6+. Films 0+ and 18+ are the least popular films\n",
    "* 0+ and 18+ films received the least money at the box office.\n",
    "* 12+ films received the most money at the box office\n",
    "* 0+, 16+ and 18+ films started to grow in 2016. The performance of the last 2 deteriorated after 2018. \n",
    "* For 2019, we see an increase in the figures for 18+ and 6+ movies."
   ]
  },
  {
   "cell_type": "markdown",
   "metadata": {},
   "source": [
    "**Conclusion:**\n",
    "\n",
    "There is a difference between the money in the distribution of films without government funding and those with government funding. \n",
    "For the first group, the largest distribution is for films 16+, for the second group - 12+. \n",
    "\n",
    "For both groups, we see a trend towards an increase in the distribution of 18+ films. \n"
   ]
  },
  {
   "cell_type": "markdown",
   "metadata": {},
   "source": [
    "What is associated with the change in revenue depending on the age limit:\n",
    " - Children under 6 are less likely to visit movie theaters due to physiological and mental characteristics\n",
    "- 6 to 12 are more likely to watch cartoons\n",
    " - 12+ category includes many movies for family viewing, when the theater can be visited by the whole family, and therefore more tickets are served, as well as cartoons - that is, the size of the overlap is clearly greater.\n",
    " - 18+ is attended only by adults, so on weekdays during the daytime the halls are not completely filled, as it is standard working hours.\n"
   ]
  },
  {
   "cell_type": "markdown",
   "metadata": {
    "id": "l_Kg6Ku4gFya"
   },
   "source": [
    "### Step 4: Research films that have received government support\n",
    "\n",
    "There are no specific instructions or assignments in this step - look for interesting patterns in the data. Look at how much funding is allocated to support movies. Check to see if such movies have a good return on investment and what their ratings are."
   ]
  },
  {
   "cell_type": "markdown",
   "metadata": {},
   "source": [
    "At this stage, we will cut off films that received more than 1 billion rubles at the box office, as these are obvious outliers that may give incorrect conclusions. It is better to look at them separately."
   ]
  },
  {
   "cell_type": "code",
   "execution_count": 68,
   "metadata": {},
   "outputs": [
    {
     "data": {
      "text/html": [
       "<div>\n",
       "<style scoped>\n",
       "    .dataframe tbody tr th:only-of-type {\n",
       "        vertical-align: middle;\n",
       "    }\n",
       "\n",
       "    .dataframe tbody tr th {\n",
       "        vertical-align: top;\n",
       "    }\n",
       "\n",
       "    .dataframe thead th {\n",
       "        text-align: right;\n",
       "    }\n",
       "</style>\n",
       "<table border=\"1\" class=\"dataframe\">\n",
       "  <thead>\n",
       "    <tr style=\"text-align: right;\">\n",
       "      <th></th>\n",
       "      <th>title</th>\n",
       "      <th>puNumber</th>\n",
       "      <th>show_start_date</th>\n",
       "      <th>type</th>\n",
       "      <th>film_studio</th>\n",
       "      <th>production_country</th>\n",
       "      <th>director</th>\n",
       "      <th>producer</th>\n",
       "      <th>age_restriction</th>\n",
       "      <th>refundable_support</th>\n",
       "      <th>...</th>\n",
       "      <th>budget</th>\n",
       "      <th>financing_source</th>\n",
       "      <th>ratings</th>\n",
       "      <th>genres</th>\n",
       "      <th>box_office</th>\n",
       "      <th>show_start_year</th>\n",
       "      <th>main_genre</th>\n",
       "      <th>main_director</th>\n",
       "      <th>main_studio</th>\n",
       "      <th>funds_percentage</th>\n",
       "    </tr>\n",
       "  </thead>\n",
       "  <tbody>\n",
       "    <tr>\n",
       "      <th>2920</th>\n",
       "      <td>Экипаж .</td>\n",
       "      <td>111005416</td>\n",
       "      <td>2016-03-21 12:00:00</td>\n",
       "      <td>Художественный</td>\n",
       "      <td>ООО \"Студия \"ТРИТЭ\" Никиты Михалкова\"</td>\n",
       "      <td>Россия</td>\n",
       "      <td>Н.Лебедев</td>\n",
       "      <td>Л.Верещагин, А.Златопольский, Н.Михалков, ООО ...</td>\n",
       "      <td>«6+» - для детей старше 6 лет</td>\n",
       "      <td>50000000.0</td>\n",
       "      <td>...</td>\n",
       "      <td>635283840.0</td>\n",
       "      <td>Фонд кино</td>\n",
       "      <td>7.6</td>\n",
       "      <td>драма,триллер,приключения</td>\n",
       "      <td>1402255360.0</td>\n",
       "      <td>2016</td>\n",
       "      <td>драма</td>\n",
       "      <td>Н.Лебедев</td>\n",
       "      <td>ООО \"Студия \"ТРИТЭ\" Никиты Михалкова\"</td>\n",
       "      <td>69.6</td>\n",
       "    </tr>\n",
       "    <tr>\n",
       "      <th>3565</th>\n",
       "      <td>Притяжение (2016)</td>\n",
       "      <td>111018116</td>\n",
       "      <td>2016-12-16 12:00:00</td>\n",
       "      <td>Художественный</td>\n",
       "      <td>ООО \"Водород 2011\",  ООО \"Арт Пикчерс Студия\"</td>\n",
       "      <td>Россия</td>\n",
       "      <td>Ф.Бондарчук</td>\n",
       "      <td>ООО \"Арт Пикчерс Студия\"</td>\n",
       "      <td>«12+» - для детей старше 12 лет</td>\n",
       "      <td>0.0</td>\n",
       "      <td>...</td>\n",
       "      <td>0.0</td>\n",
       "      <td>Фонд кино</td>\n",
       "      <td>5.6</td>\n",
       "      <td>фантастика</td>\n",
       "      <td>1038321472.0</td>\n",
       "      <td>2016</td>\n",
       "      <td>фантастика</td>\n",
       "      <td>Ф.Бондарчук</td>\n",
       "      <td>ООО \"Водород 2011\"</td>\n",
       "      <td>inf</td>\n",
       "    </tr>\n",
       "    <tr>\n",
       "      <th>5505</th>\n",
       "      <td>Последний богатырь</td>\n",
       "      <td>111007017</td>\n",
       "      <td>2017-10-19 12:00:00</td>\n",
       "      <td>Художественный</td>\n",
       "      <td>ООО \"Киностудия \"Слово\" по заказу ООО \"Уолт Ди...</td>\n",
       "      <td>Россия</td>\n",
       "      <td>Д.Дьяченко</td>\n",
       "      <td>Э.Илоян, Д.Жалинский, М.Озкан, А.Троцюк, В.Шляппо</td>\n",
       "      <td>«12+» - для детей старше 12 лет</td>\n",
       "      <td>50000000.0</td>\n",
       "      <td>...</td>\n",
       "      <td>352477568.0</td>\n",
       "      <td>Фонд кино</td>\n",
       "      <td>6.8</td>\n",
       "      <td>комедия,фэнтези,приключения</td>\n",
       "      <td>1655037696.0</td>\n",
       "      <td>2017</td>\n",
       "      <td>комедия</td>\n",
       "      <td>Д.Дьяченко</td>\n",
       "      <td>ООО \"Киностудия \"Слово\" по заказу ООО \"Уолт Ди...</td>\n",
       "      <td>28.4</td>\n",
       "    </tr>\n",
       "    <tr>\n",
       "      <th>5653</th>\n",
       "      <td>Движение вверх</td>\n",
       "      <td>111011817</td>\n",
       "      <td>2017-12-21 12:00:00</td>\n",
       "      <td>Художественный</td>\n",
       "      <td>ООО \"Студия \"ТРИТЭ\" Никиты Михалкова\"</td>\n",
       "      <td>Россия</td>\n",
       "      <td>А.Мегердичев</td>\n",
       "      <td>Л.Верещагин, А.Златопольский, Н.Михалков, ООО ...</td>\n",
       "      <td>«6+» - для детей старше 6 лет</td>\n",
       "      <td>0.0</td>\n",
       "      <td>...</td>\n",
       "      <td>590192192.0</td>\n",
       "      <td>Фонд кино</td>\n",
       "      <td>7.5</td>\n",
       "      <td>спорт,драма</td>\n",
       "      <td>2779686144.0</td>\n",
       "      <td>2017</td>\n",
       "      <td>спорт</td>\n",
       "      <td>А.Мегердичев</td>\n",
       "      <td>ООО \"Студия \"ТРИТЭ\" Никиты Михалкова\"</td>\n",
       "      <td>67.8</td>\n",
       "    </tr>\n",
       "    <tr>\n",
       "      <th>5708</th>\n",
       "      <td>Лёд</td>\n",
       "      <td>111000518</td>\n",
       "      <td>2018-02-01 12:00:00</td>\n",
       "      <td>Художественный</td>\n",
       "      <td>ООО \"Водород 2011\", ООО \"Арт Пикчерс Студия\", ...</td>\n",
       "      <td>Россия</td>\n",
       "      <td>О.Трофим</td>\n",
       "      <td>М.Врубель, А.Андрющенко, Ф.Бондарчук, Д.Рудовс...</td>\n",
       "      <td>«12+» - для детей старше 12 лет</td>\n",
       "      <td>25000000.0</td>\n",
       "      <td>...</td>\n",
       "      <td>148585216.0</td>\n",
       "      <td>Фонд кино</td>\n",
       "      <td>0.0</td>\n",
       "      <td>NaN</td>\n",
       "      <td>1445731840.0</td>\n",
       "      <td>2018</td>\n",
       "      <td>нет</td>\n",
       "      <td>О.Трофим</td>\n",
       "      <td>ООО \"Водород 2011\"</td>\n",
       "      <td>57.2</td>\n",
       "    </tr>\n",
       "    <tr>\n",
       "      <th>6549</th>\n",
       "      <td>Т-34</td>\n",
       "      <td>111024918</td>\n",
       "      <td>2018-12-21 12:00:00</td>\n",
       "      <td>Художественный</td>\n",
       "      <td>ООО \"Кинокомпания МАРС-фильм\" по заказу ООО \"М...</td>\n",
       "      <td>Россия</td>\n",
       "      <td>А.Сидоров</td>\n",
       "      <td>А.Златопольский, Р.Дишдишян, Л.Блаватник, Н.Яр...</td>\n",
       "      <td>«12+» - для детей старше 12 лет</td>\n",
       "      <td>60000000.0</td>\n",
       "      <td>...</td>\n",
       "      <td>563784704.0</td>\n",
       "      <td>Фонд кино</td>\n",
       "      <td>6.5</td>\n",
       "      <td>драма,военный,боевик</td>\n",
       "      <td>2271753984.0</td>\n",
       "      <td>2018</td>\n",
       "      <td>драма</td>\n",
       "      <td>А.Сидоров</td>\n",
       "      <td>ООО \"Кинокомпания МАРС-фильм\" по заказу ООО \"ММЕ\"</td>\n",
       "      <td>31.9</td>\n",
       "    </tr>\n",
       "    <tr>\n",
       "      <th>7456</th>\n",
       "      <td>Холоп</td>\n",
       "      <td>111021719</td>\n",
       "      <td>2019-12-19 12:00:00</td>\n",
       "      <td>Художественный</td>\n",
       "      <td>ООО \"МЕМ-МЕДИА\" по заказу АО \"ВБД Груп\"</td>\n",
       "      <td>Россия</td>\n",
       "      <td>К.Шипенко</td>\n",
       "      <td>Э.Илоян, Д.Жалинский, В.Дусмухаметов, Т.Бадзие...</td>\n",
       "      <td>«12+» - для детей старше 12 лет</td>\n",
       "      <td>25000000.0</td>\n",
       "      <td>...</td>\n",
       "      <td>160000000.0</td>\n",
       "      <td>Фонд кино</td>\n",
       "      <td>6.8</td>\n",
       "      <td>комедия</td>\n",
       "      <td>3073568768.0</td>\n",
       "      <td>2019</td>\n",
       "      <td>комедия</td>\n",
       "      <td>К.Шипенко</td>\n",
       "      <td>ООО \"МЕМ-МЕДИА\" по заказу АО \"ВБД Груп\"</td>\n",
       "      <td>37.5</td>\n",
       "    </tr>\n",
       "  </tbody>\n",
       "</table>\n",
       "<p>7 rows × 21 columns</p>\n",
       "</div>"
      ],
      "text/plain": [
       "                   title   puNumber     show_start_date            type  \\\n",
       "2920            Экипаж .  111005416 2016-03-21 12:00:00  Художественный   \n",
       "3565   Притяжение (2016)  111018116 2016-12-16 12:00:00  Художественный   \n",
       "5505  Последний богатырь  111007017 2017-10-19 12:00:00  Художественный   \n",
       "5653      Движение вверх  111011817 2017-12-21 12:00:00  Художественный   \n",
       "5708                 Лёд  111000518 2018-02-01 12:00:00  Художественный   \n",
       "6549                Т-34  111024918 2018-12-21 12:00:00  Художественный   \n",
       "7456               Холоп  111021719 2019-12-19 12:00:00  Художественный   \n",
       "\n",
       "                                            film_studio production_country  \\\n",
       "2920              ООО \"Студия \"ТРИТЭ\" Никиты Михалкова\"             Россия   \n",
       "3565      ООО \"Водород 2011\",  ООО \"Арт Пикчерс Студия\"             Россия   \n",
       "5505  ООО \"Киностудия \"Слово\" по заказу ООО \"Уолт Ди...             Россия   \n",
       "5653              ООО \"Студия \"ТРИТЭ\" Никиты Михалкова\"             Россия   \n",
       "5708  ООО \"Водород 2011\", ООО \"Арт Пикчерс Студия\", ...             Россия   \n",
       "6549  ООО \"Кинокомпания МАРС-фильм\" по заказу ООО \"М...             Россия   \n",
       "7456            ООО \"МЕМ-МЕДИА\" по заказу АО \"ВБД Груп\"             Россия   \n",
       "\n",
       "          director                                           producer  \\\n",
       "2920     Н.Лебедев  Л.Верещагин, А.Златопольский, Н.Михалков, ООО ...   \n",
       "3565   Ф.Бондарчук                           ООО \"Арт Пикчерс Студия\"   \n",
       "5505    Д.Дьяченко  Э.Илоян, Д.Жалинский, М.Озкан, А.Троцюк, В.Шляппо   \n",
       "5653  А.Мегердичев  Л.Верещагин, А.Златопольский, Н.Михалков, ООО ...   \n",
       "5708      О.Трофим  М.Врубель, А.Андрющенко, Ф.Бондарчук, Д.Рудовс...   \n",
       "6549     А.Сидоров  А.Златопольский, Р.Дишдишян, Л.Блаватник, Н.Яр...   \n",
       "7456     К.Шипенко  Э.Илоян, Д.Жалинский, В.Дусмухаметов, Т.Бадзие...   \n",
       "\n",
       "                      age_restriction  refundable_support  ...      budget  \\\n",
       "2920    «6+» - для детей старше 6 лет          50000000.0  ... 635283840.0   \n",
       "3565  «12+» - для детей старше 12 лет                 0.0  ...         0.0   \n",
       "5505  «12+» - для детей старше 12 лет          50000000.0  ... 352477568.0   \n",
       "5653    «6+» - для детей старше 6 лет                 0.0  ... 590192192.0   \n",
       "5708  «12+» - для детей старше 12 лет          25000000.0  ... 148585216.0   \n",
       "6549  «12+» - для детей старше 12 лет          60000000.0  ... 563784704.0   \n",
       "7456  «12+» - для детей старше 12 лет          25000000.0  ... 160000000.0   \n",
       "\n",
       "      financing_source ratings                       genres   box_office  \\\n",
       "2920         Фонд кино     7.6    драма,триллер,приключения 1402255360.0   \n",
       "3565         Фонд кино     5.6                   фантастика 1038321472.0   \n",
       "5505         Фонд кино     6.8  комедия,фэнтези,приключения 1655037696.0   \n",
       "5653         Фонд кино     7.5                  спорт,драма 2779686144.0   \n",
       "5708         Фонд кино     0.0                          NaN 1445731840.0   \n",
       "6549         Фонд кино     6.5         драма,военный,боевик 2271753984.0   \n",
       "7456         Фонд кино     6.8                      комедия 3073568768.0   \n",
       "\n",
       "      show_start_year  main_genre main_director  \\\n",
       "2920             2016       драма     Н.Лебедев   \n",
       "3565             2016  фантастика   Ф.Бондарчук   \n",
       "5505             2017     комедия    Д.Дьяченко   \n",
       "5653             2017       спорт  А.Мегердичев   \n",
       "5708             2018         нет      О.Трофим   \n",
       "6549             2018       драма     А.Сидоров   \n",
       "7456             2019     комедия     К.Шипенко   \n",
       "\n",
       "                                            main_studio funds_percentage  \n",
       "2920              ООО \"Студия \"ТРИТЭ\" Никиты Михалкова\"             69.6  \n",
       "3565                                 ООО \"Водород 2011\"              inf  \n",
       "5505  ООО \"Киностудия \"Слово\" по заказу ООО \"Уолт Ди...             28.4  \n",
       "5653              ООО \"Студия \"ТРИТЭ\" Никиты Михалкова\"             67.8  \n",
       "5708                                 ООО \"Водород 2011\"             57.2  \n",
       "6549  ООО \"Кинокомпания МАРС-фильм\" по заказу ООО \"ММЕ\"             31.9  \n",
       "7456            ООО \"МЕМ-МЕДИА\" по заказу АО \"ВБД Груп\"             37.5  \n",
       "\n",
       "[7 rows x 21 columns]"
      ]
     },
     "execution_count": 68,
     "metadata": {},
     "output_type": "execute_result"
    }
   ],
   "source": [
    "df.query('budget.notnull() and box_office>1000000000')"
   ]
  },
  {
   "cell_type": "markdown",
   "metadata": {},
   "source": [
    "* All these films are funded by the Cinema Fund.\n",
    "* The directors are different.\n",
    "* The percentage of budget financing from 28 to 70%. \n",
    "* Ratings from 6.5 to 6.8. \n",
    "* Age restrictions 5 of the 7 films are 12+, the remaining two have 6+ age restrictions. \n",
    "* Year of release from 2016 to 2019\n",
    "\n",
    "The formula for a successful movie at the box office cannot be deduced from these data."
   ]
  },
  {
   "cell_type": "code",
   "execution_count": 69,
   "metadata": {
    "id": "W9QKpjUdgFyb"
   },
   "outputs": [],
   "source": [
    "fund_df = df.query('budget.notnull() and box_office<=1000000000')"
   ]
  },
  {
   "cell_type": "code",
   "execution_count": 70,
   "metadata": {},
   "outputs": [
    {
     "data": {
      "text/html": [
       "<div>\n",
       "<style scoped>\n",
       "    .dataframe tbody tr th:only-of-type {\n",
       "        vertical-align: middle;\n",
       "    }\n",
       "\n",
       "    .dataframe tbody tr th {\n",
       "        vertical-align: top;\n",
       "    }\n",
       "\n",
       "    .dataframe thead th {\n",
       "        text-align: right;\n",
       "    }\n",
       "</style>\n",
       "<table border=\"1\" class=\"dataframe\">\n",
       "  <thead>\n",
       "    <tr style=\"text-align: right;\">\n",
       "      <th></th>\n",
       "      <th>title</th>\n",
       "      <th>puNumber</th>\n",
       "      <th>show_start_date</th>\n",
       "      <th>type</th>\n",
       "      <th>film_studio</th>\n",
       "      <th>production_country</th>\n",
       "      <th>director</th>\n",
       "      <th>producer</th>\n",
       "      <th>age_restriction</th>\n",
       "      <th>refundable_support</th>\n",
       "      <th>...</th>\n",
       "      <th>budget</th>\n",
       "      <th>financing_source</th>\n",
       "      <th>ratings</th>\n",
       "      <th>genres</th>\n",
       "      <th>box_office</th>\n",
       "      <th>show_start_year</th>\n",
       "      <th>main_genre</th>\n",
       "      <th>main_director</th>\n",
       "      <th>main_studio</th>\n",
       "      <th>funds_percentage</th>\n",
       "    </tr>\n",
       "  </thead>\n",
       "  <tbody>\n",
       "    <tr>\n",
       "      <th>1281</th>\n",
       "      <td>Пока еще жива</td>\n",
       "      <td>111005313</td>\n",
       "      <td>2013-10-11 12:00:00</td>\n",
       "      <td>Художественный</td>\n",
       "      <td>АНО содействия развитию кинематографии \"Ангел-...</td>\n",
       "      <td>Россия</td>\n",
       "      <td>А.Атанесян</td>\n",
       "      <td>А.Атанесян, М.Бабаханов, Р.Бутко</td>\n",
       "      <td>«16+» - для детей старше 16 лет</td>\n",
       "      <td>0.0</td>\n",
       "      <td>...</td>\n",
       "      <td>79411904.0</td>\n",
       "      <td>Министерство культуры</td>\n",
       "      <td>8.1</td>\n",
       "      <td>драма,мелодрама</td>\n",
       "      <td>365353.6</td>\n",
       "      <td>2013</td>\n",
       "      <td>драма</td>\n",
       "      <td>А.Атанесян</td>\n",
       "      <td>АНО содействия развитию кинематографии \"Ангел-...</td>\n",
       "      <td>33.4</td>\n",
       "    </tr>\n",
       "    <tr>\n",
       "      <th>1448</th>\n",
       "      <td>Бесславные придурки</td>\n",
       "      <td>111003314</td>\n",
       "      <td>2014-03-28 12:00:00</td>\n",
       "      <td>Художественный</td>\n",
       "      <td>ООО \"Компания \"АТК-Студио\"</td>\n",
       "      <td>Россия</td>\n",
       "      <td>А.Якимчук</td>\n",
       "      <td>А.Тютрюмов</td>\n",
       "      <td>«12+» - для детей старше 12 лет</td>\n",
       "      <td>0.0</td>\n",
       "      <td>...</td>\n",
       "      <td>37142856.0</td>\n",
       "      <td>Министерство культуры</td>\n",
       "      <td>0.0</td>\n",
       "      <td>NaN</td>\n",
       "      <td>28140.0</td>\n",
       "      <td>2014</td>\n",
       "      <td>нет</td>\n",
       "      <td>А.Якимчук</td>\n",
       "      <td>ООО \"Компания \"АТК-Студио\"</td>\n",
       "      <td>70.0</td>\n",
       "    </tr>\n",
       "    <tr>\n",
       "      <th>1498</th>\n",
       "      <td>Невидимки</td>\n",
       "      <td>111004213</td>\n",
       "      <td>2013-09-10 12:00:00</td>\n",
       "      <td>Художественный</td>\n",
       "      <td>ООО \"Компания \"РЕАЛ-ДАКОТА\"</td>\n",
       "      <td>Россия</td>\n",
       "      <td>Р.Давлетьяров, С.Комаров</td>\n",
       "      <td>Р.Давлетьяров, А.Котелевский, А.Олейников</td>\n",
       "      <td>«12+» - для детей старше 12 лет</td>\n",
       "      <td>0.0</td>\n",
       "      <td>...</td>\n",
       "      <td>176023488.0</td>\n",
       "      <td>Фонд кино</td>\n",
       "      <td>5.3</td>\n",
       "      <td>комедия,фантастика</td>\n",
       "      <td>19957032.0</td>\n",
       "      <td>2013</td>\n",
       "      <td>комедия</td>\n",
       "      <td>Р.Давлетьяров</td>\n",
       "      <td>ООО \"Компания \"РЕАЛ-ДАКОТА\"</td>\n",
       "      <td>61.3</td>\n",
       "    </tr>\n",
       "    <tr>\n",
       "      <th>1524</th>\n",
       "      <td>БЕРЦЫ</td>\n",
       "      <td>111004314</td>\n",
       "      <td>2014-05-05 12:00:00</td>\n",
       "      <td>Художественный</td>\n",
       "      <td>ООО \"Студия \"Пассажир\"</td>\n",
       "      <td>Россия</td>\n",
       "      <td>Е.Миндадзе (псевдоним Катя Шагалова)</td>\n",
       "      <td>Л.Антонова</td>\n",
       "      <td>«16+» - для детей старше 16 лет</td>\n",
       "      <td>0.0</td>\n",
       "      <td>...</td>\n",
       "      <td>40574140.0</td>\n",
       "      <td>Министерство культуры</td>\n",
       "      <td>4.2</td>\n",
       "      <td>драма</td>\n",
       "      <td>55917.5</td>\n",
       "      <td>2014</td>\n",
       "      <td>драма</td>\n",
       "      <td>Е.Миндадзе (псевдоним Катя Шагалова)</td>\n",
       "      <td>ООО \"Студия \"Пассажир\"</td>\n",
       "      <td>69.0</td>\n",
       "    </tr>\n",
       "    <tr>\n",
       "      <th>1792</th>\n",
       "      <td>Братья Ч</td>\n",
       "      <td>111004414</td>\n",
       "      <td>2014-04-23 12:00:00</td>\n",
       "      <td>Художественный</td>\n",
       "      <td>ООО \"Студия \"Пассажир\"</td>\n",
       "      <td>Россия</td>\n",
       "      <td>М.Угаров</td>\n",
       "      <td>А.Миндадзе, Л.Антонова</td>\n",
       "      <td>«16+» - для детей старше 16 лет</td>\n",
       "      <td>0.0</td>\n",
       "      <td>...</td>\n",
       "      <td>40015120.0</td>\n",
       "      <td>Министерство культуры</td>\n",
       "      <td>6.4</td>\n",
       "      <td>драма</td>\n",
       "      <td>232100.0</td>\n",
       "      <td>2014</td>\n",
       "      <td>драма</td>\n",
       "      <td>М.Угаров</td>\n",
       "      <td>ООО \"Студия \"Пассажир\"</td>\n",
       "      <td>62.5</td>\n",
       "    </tr>\n",
       "  </tbody>\n",
       "</table>\n",
       "<p>5 rows × 21 columns</p>\n",
       "</div>"
      ],
      "text/plain": [
       "                    title   puNumber     show_start_date            type  \\\n",
       "1281        Пока еще жива  111005313 2013-10-11 12:00:00  Художественный   \n",
       "1448  Бесславные придурки  111003314 2014-03-28 12:00:00  Художественный   \n",
       "1498            Невидимки  111004213 2013-09-10 12:00:00  Художественный   \n",
       "1524                БЕРЦЫ  111004314 2014-05-05 12:00:00  Художественный   \n",
       "1792             Братья Ч  111004414 2014-04-23 12:00:00  Художественный   \n",
       "\n",
       "                                            film_studio production_country  \\\n",
       "1281  АНО содействия развитию кинематографии \"Ангел-...             Россия   \n",
       "1448                         ООО \"Компания \"АТК-Студио\"             Россия   \n",
       "1498                        ООО \"Компания \"РЕАЛ-ДАКОТА\"             Россия   \n",
       "1524                             ООО \"Студия \"Пассажир\"             Россия   \n",
       "1792                             ООО \"Студия \"Пассажир\"             Россия   \n",
       "\n",
       "                                  director  \\\n",
       "1281                            А.Атанесян   \n",
       "1448                             А.Якимчук   \n",
       "1498              Р.Давлетьяров, С.Комаров   \n",
       "1524  Е.Миндадзе (псевдоним Катя Шагалова)   \n",
       "1792                              М.Угаров   \n",
       "\n",
       "                                       producer  \\\n",
       "1281           А.Атанесян, М.Бабаханов, Р.Бутко   \n",
       "1448                                 А.Тютрюмов   \n",
       "1498  Р.Давлетьяров, А.Котелевский, А.Олейников   \n",
       "1524                                 Л.Антонова   \n",
       "1792                     А.Миндадзе, Л.Антонова   \n",
       "\n",
       "                      age_restriction  refundable_support  ...      budget  \\\n",
       "1281  «16+» - для детей старше 16 лет                 0.0  ...  79411904.0   \n",
       "1448  «12+» - для детей старше 12 лет                 0.0  ...  37142856.0   \n",
       "1498  «12+» - для детей старше 12 лет                 0.0  ... 176023488.0   \n",
       "1524  «16+» - для детей старше 16 лет                 0.0  ...  40574140.0   \n",
       "1792  «16+» - для детей старше 16 лет                 0.0  ...  40015120.0   \n",
       "\n",
       "           financing_source ratings              genres box_office  \\\n",
       "1281  Министерство культуры     8.1     драма,мелодрама   365353.6   \n",
       "1448  Министерство культуры     0.0                 NaN    28140.0   \n",
       "1498              Фонд кино     5.3  комедия,фантастика 19957032.0   \n",
       "1524  Министерство культуры     4.2               драма    55917.5   \n",
       "1792  Министерство культуры     6.4               драма   232100.0   \n",
       "\n",
       "      show_start_year  main_genre                         main_director  \\\n",
       "1281             2013       драма                            А.Атанесян   \n",
       "1448             2014         нет                             А.Якимчук   \n",
       "1498             2013     комедия                         Р.Давлетьяров   \n",
       "1524             2014       драма  Е.Миндадзе (псевдоним Катя Шагалова)   \n",
       "1792             2014       драма                              М.Угаров   \n",
       "\n",
       "                                            main_studio funds_percentage  \n",
       "1281  АНО содействия развитию кинематографии \"Ангел-...             33.4  \n",
       "1448                         ООО \"Компания \"АТК-Студио\"             70.0  \n",
       "1498                        ООО \"Компания \"РЕАЛ-ДАКОТА\"             61.3  \n",
       "1524                             ООО \"Студия \"Пассажир\"             69.0  \n",
       "1792                             ООО \"Студия \"Пассажир\"             62.5  \n",
       "\n",
       "[5 rows x 21 columns]"
      ]
     },
     "execution_count": 70,
     "metadata": {},
     "output_type": "execute_result"
    }
   ],
   "source": [
    "fund_df.head()"
   ]
  },
  {
   "cell_type": "code",
   "execution_count": 71,
   "metadata": {},
   "outputs": [],
   "source": [
    "def visualise_corr(col1, col2='box_office'):\n",
    "    fund_df.plot(x=col2, y=col1, kind='scatter', alpha=0.3)\n",
    "    plt.ticklabel_format(useOffset=False, style='plain')\n",
    "    plt.xticks(rotation = 45)\n",
    "    \n",
    "    print(f'Корреляция с {col1}:', fund_df[col2].corr(fund_df[col1]))"
   ]
  },
  {
   "cell_type": "code",
   "execution_count": 72,
   "metadata": {},
   "outputs": [
    {
     "name": "stdout",
     "output_type": "stream",
     "text": [
      "Корреляция с nonrefundable_support: 0.4272107332047011\n"
     ]
    },
    {
     "data": {
      "image/png": "[encoded data removed]",
      "text/plain": [
       "<Figure size 432x288 with 1 Axes>"
      ]
     },
     "metadata": {
      "needs_background": "light"
     },
     "output_type": "display_data"
    }
   ],
   "source": [
    "visualise_corr('nonrefundable_support')"
   ]
  },
  {
   "cell_type": "code",
   "execution_count": 73,
   "metadata": {},
   "outputs": [
    {
     "name": "stdout",
     "output_type": "stream",
     "text": [
      "Корреляция с ratings: 0.16374483244101332\n"
     ]
    },
    {
     "data": {
      "image/png": "[encoded data removed]",
      "text/plain": [
       "<Figure size 432x288 with 1 Axes>"
      ]
     },
     "metadata": {
      "needs_background": "light"
     },
     "output_type": "display_data"
    }
   ],
   "source": [
    "visualise_corr('ratings')"
   ]
  },
  {
   "cell_type": "code",
   "execution_count": 74,
   "metadata": {},
   "outputs": [
    {
     "name": "stdout",
     "output_type": "stream",
     "text": [
      "Корреляция с budget: 0.4258576276882038\n"
     ]
    },
    {
     "data": {
      "image/png": "[encoded data removed]",
      "text/plain": [
       "<Figure size 432x288 with 1 Axes>"
      ]
     },
     "metadata": {
      "needs_background": "light"
     },
     "output_type": "display_data"
    }
   ],
   "source": [
    "visualise_corr('budget')"
   ]
  },
  {
   "cell_type": "markdown",
   "metadata": {},
   "source": [
    "Проверим, собирают ли режиссеры, чаще всего получающие гос.финансирование, больше денег в прокате."
   ]
  },
  {
   "cell_type": "code",
   "execution_count": 75,
   "metadata": {},
   "outputs": [
    {
     "name": "stdout",
     "output_type": "stream",
     "text": [
      "Режжисеры, не вошедшие в топ-20 по сборам, получившие больше всего финансирования:\n",
      "Р.Давлетьяров, А.Мизгирев, В.Тодоровский, П.Лунгин, Д.Тюрин, И.Джендубаев, Ф.Дмитриев, В.Саков\n"
     ]
    }
   ],
   "source": [
    "top_directors = fund_df.pivot_table(index='main_director',values='box_office', aggfunc='sum').sort_values(by='box_office', ascending=False).head(20)\n",
    "top_askers = fund_df.pivot_table(index='main_director', values='nonrefundable_support', aggfunc='sum').sort_values(by='nonrefundable_support',ascending=False).head(20)\n",
    "\n",
    "print('Режжисеры, не вошедшие в топ-20 по сборам, получившие больше всего финансирования:')\n",
    "print(*[name for name in top_askers.index if name not in top_directors.index], sep=', ')\n",
    "        "
   ]
  },
  {
   "cell_type": "code",
   "execution_count": 76,
   "metadata": {},
   "outputs": [
    {
     "name": "stdout",
     "output_type": "stream",
     "text": [
      "Режжисеры, вошедшие в топ-20 по сборам, получившие больше всего финансирования:\n",
      "Н.Хомерики, А.Кравчук, С.Андреасян, Д.Козловский, К.Шипенко, И.Шурховецкий, Д.Киселев, Р.Прыгунов, А.Цицилин, А.Учитель, Т.Бекмамбетов, С.Мокрицкий\n"
     ]
    }
   ],
   "source": [
    "print('Режжисеры, вошедшие в топ-20 по сборам, получившие больше всего финансирования:')\n",
    "print(*[name for name in top_askers.index if name in top_directors.index], sep=', ')"
   ]
  },
  {
   "cell_type": "markdown",
   "metadata": {},
   "source": [
    "We see that there is a correlation between budget and money at the box office. This can be explained by the fact that more expensive films look higher quality and are more likely to be seen.\n",
    "\n",
    "We can also see that not all directors who receive the most funding perform well at the box office.\n",
    "\n",
    "For further analysis, let's divide the movies into 2 categories: \n",
    "* unprofitable (budget more money at the box office)\n",
    "* profitable (budget less money at the box office)"
   ]
  },
  {
   "cell_type": "code",
   "execution_count": 77,
   "metadata": {},
   "outputs": [
    {
     "data": {
      "text/plain": [
       "115"
      ]
     },
     "execution_count": 77,
     "metadata": {},
     "output_type": "execute_result"
    }
   ],
   "source": [
    "winners_df = fund_df.query('(box_office>nonrefundable_support+refundable_support) or (box_office>budget)')\n",
    "winners_df['title'].count()"
   ]
  },
  {
   "cell_type": "code",
   "execution_count": 78,
   "metadata": {},
   "outputs": [
    {
     "data": {
      "text/plain": [
       "239"
      ]
     },
     "execution_count": 78,
     "metadata": {},
     "output_type": "execute_result"
    }
   ],
   "source": [
    "losers_df = fund_df.query('(box_office<=nonrefundable_support+refundable_support) or (box_office<=budget)')\n",
    "losers_df['title'].count()"
   ]
  },
  {
   "cell_type": "markdown",
   "metadata": {},
   "source": [
    "We see that for the period from 2015 to 2019. \n",
    "\n",
    "* 115 films that received state funding received more money at the box office than was spent on their creation\n",
    "* 239 films that received state funding received the same amount of money or less than the money spent on making them.\n",
    "\n",
    "Let's try to find the formula for success. Let's check:\n",
    "* Directors\n",
    "* Genres\n",
    "* Studios\n",
    "\n",
    "And make a list of recommendations for funding."
   ]
  },
  {
   "cell_type": "code",
   "execution_count": 79,
   "metadata": {},
   "outputs": [
    {
     "name": "stdout",
     "output_type": "stream",
     "text": [
      "Режиссеры с провальными фильмами\n",
      "\n",
      "\n",
      "Режиссер А.Котт, провалы в прокате 3\n",
      "Режиссер К.Худяков, провалы в прокате 2\n",
      "Режиссер В.Хотиненко, провалы в прокате 2\n",
      "Режиссер А.Темников, провалы в прокате 2\n",
      "Режиссер А.Карпиловский, провалы в прокате 2\n",
      "Режиссер А.Прошкин, провалы в прокате 2\n",
      "Режиссер А.Федорченко, провалы в прокате 2\n",
      "Режиссер И.Твердовский, провалы в прокате 2\n",
      "Режиссер В.Глаголева, провалы в прокате 2\n",
      "Режиссер А.Матисон, провалы в прокате 2\n",
      "Режиссер А.Якимчук, провалы в прокате 2\n",
      "Режиссер П.Лунгин, провалы в прокате 2\n",
      "Режиссер Н.Меркулова, провалы в прокате 2\n"
     ]
    }
   ],
   "source": [
    "winners_directors = winners_df['main_director'].value_counts()\n",
    "losers_directors = losers_df['main_director'].value_counts()\n",
    "\n",
    "print('Режиссеры с провальными фильмами')\n",
    "print('\\n')\n",
    "\n",
    "for name in losers_directors.index:\n",
    "    if name not in winners_directors.index and losers_directors[name]>1:\n",
    "        print(f'Режиссер {name}, провалы в прокате {losers_directors[name]}')\n",
    "        \n"
   ]
  },
  {
   "cell_type": "code",
   "execution_count": 80,
   "metadata": {},
   "outputs": [
    {
     "name": "stdout",
     "output_type": "stream",
     "text": [
      "Режиссеры с провальными и успешными фильмами\n",
      "\n",
      "\n",
      "Режиссер Р.Давлетьяров, провалы в прокате 4, успехи в прокате 1\n",
      "Режиссер С.Андреасян, провалы в прокате 3, успехи в прокате 4\n",
      "Режиссер А.Цицилин, провалы в прокате 2, успехи в прокате 2\n",
      "Режиссер Н.Хомерики, провалы в прокате 2, успехи в прокате 2\n",
      "Режиссер В.Тодоровский, провалы в прокате 2, успехи в прокате 2\n",
      "Режиссер Ф.Дмитриев, провалы в прокате 2, успехи в прокате 1\n",
      "Режиссер М.Волков, провалы в прокате 2, успехи в прокате 2\n",
      "Режиссер А.Аксененко, провалы в прокате 2, успехи в прокате 2\n",
      "Режиссер А.Богуславский, провалы в прокате 2, успехи в прокате 2\n"
     ]
    }
   ],
   "source": [
    "print('Режиссеры с провальными и успешными фильмами')\n",
    "print('\\n')\n",
    "\n",
    "for name in losers_directors.index:\n",
    "    if name in winners_directors.index and losers_directors[name]>1:\n",
    "        print(f'Режиссер {name}, провалы в прокате {losers_directors[name]}, успехи в прокате {winners_directors[name]}')"
   ]
  },
  {
   "cell_type": "code",
   "execution_count": 81,
   "metadata": {},
   "outputs": [
    {
     "name": "stdout",
     "output_type": "stream",
     "text": [
      "Режиссеры с успешными фильмами\n",
      "\n",
      "\n",
      "Режиссер Д.Дьяченко, успехи в прокате 3\n",
      "Режиссер С.Подгаевский, успехи в прокате 2\n",
      "Режиссер Р.Гигинеишвили, успехи в прокате 2\n",
      "Режиссер В.Ровенский, успехи в прокате 2\n",
      "Режиссер Д.Киселев, успехи в прокате 2\n",
      "Режиссер Т.Бекмамбетов, успехи в прокате 2\n",
      "Режиссер Р.Прыгунов, успехи в прокате 2\n",
      "Режиссер Л.Марголин, успехи в прокате 2\n"
     ]
    }
   ],
   "source": [
    "print('Режиссеры с успешными фильмами')\n",
    "print('\\n')\n",
    "\n",
    "for name in winners_directors.index:\n",
    "    if name not in losers_directors.index and winners_directors[name]>1:\n",
    "        print(f'Режиссер {name}, успехи в прокате {winners_directors[name]}')"
   ]
  },
  {
   "cell_type": "markdown",
   "metadata": {},
   "source": [
    "We have compiled a list of directors with exceptionally failed films, the number of which is more than 1. \n",
    "And also directors of the \"gray zone\" - having both failures and successes.\n",
    "\n",
    "Next, let's look at the genres."
   ]
  },
  {
   "cell_type": "code",
   "execution_count": 82,
   "metadata": {},
   "outputs": [
    {
     "name": "stdout",
     "output_type": "stream",
     "text": [
      "Убыточные основные жанры:\n",
      "мюзикл, детский, реальное ТВ\n",
      "\n",
      "\n",
      "Прибыльные основные жанры:\n",
      "мультфильм, семейный, спорт\n"
     ]
    }
   ],
   "source": [
    "winners_genres = winners_df['main_genre'].value_counts()\n",
    "loser_genres = losers_df['main_genre'].value_counts()\n",
    "\n",
    "print('Убыточные основные жанры:')\n",
    "print(*[g for g in loser_genres.index if g not in winners_genres.index], sep=', ')\n",
    "print('\\n')\n",
    "print('Прибыльные основные жанры:')\n",
    "print(*[g for g in winners_genres.index if winners_genres[g]>loser_genres[g]], sep=', ')"
   ]
  },
  {
   "cell_type": "markdown",
   "metadata": {},
   "source": [
    "Let's see which studios put out more unprofitable movies and which studios put out more profitable movies."
   ]
  },
  {
   "cell_type": "code",
   "execution_count": 83,
   "metadata": {},
   "outputs": [
    {
     "name": "stdout",
     "output_type": "stream",
     "text": [
      "Студии, выпускающие исключительно убыточные фильмы\n",
      "ООО \"Продюсерский центр \"Ленфильм\"\n",
      "ООО \"Каро Продакшн\"\n",
      "ООО \"Студия \"Пассажир\"\n",
      "ООО \"Продюсерский Центр \"Хорошо Продакшн\"\n",
      "ООО \"Киностудия \"ВЕРТИКАЛЬ\"\n",
      "ООО \"Нон-Стоп Продакшн\"\n",
      "ООО \"Студия \"СЛОН\"\n",
      "ООО \"Продюсерский центр \"ВГИК-Дебют\"\n",
      "ООО \"Продюсерская компания Александра Литвинова\"\n",
      "ООО \"Артлайт\"\n",
      "АО \"ТПО \"Киностудия им.М.Горького\"\n",
      "ООО \"58\n",
      "ООО \"Телесто-фильм\"\n",
      "ООО \"АРТЛАЙТ\"\n",
      "ООО \"Мастерская Павла Лунгина\"\n",
      "ООО \"РФГ Корп\"\n",
      "ООО \"Компания \"АТК-Студио\"\n",
      "ООО \"Кинокомпания МАРС-фильм\" по заказу ООО \"МАРС МЕДИА ЭНТЕРТЕЙНМЕНТ\"\n",
      "ООО \"Корпорация Русская Фильм Группа\"\n",
      "ФГУП \"Киноконцерн \"Мосфильм\"\n",
      "ООО \"Каргофильм\"\n",
      "ООО \"Студия ТРЕТИЙ РИМ\"\n",
      "ЗАО \"Мотор фильм студия\"\n",
      "ООО \"Компания \"РЕАЛ-ДАКОТА\"\n",
      "ООО \"Русские Золотые Серии\"\n",
      "ООО \"Пан-Атлантик Студио\"\n",
      "\n",
      "\n",
      "Студии, выпускающие исключительно прибыльные фильмы:\n",
      "АО \"ВайТ Медиа\"\n",
      "ООО \"Друг Друга\"\n",
      "ООО \"Ол Медиа Компани\"\n",
      "ООО \"Фреш-Фильм\"\n",
      "ООО \"Киностудия \"Слово\"\n",
      "ООО \"КиноФирма\"\n"
     ]
    }
   ],
   "source": [
    "winner_studio = winners_df['main_studio'].value_counts()\n",
    "loser_studio = losers_df['main_studio'].value_counts()\n",
    "\n",
    "print('Студии, выпускающие исключительно убыточные фильмы')\n",
    "print(*[s for s in loser_studio.index if s not in winner_studio.index and loser_studio[s]>=2], sep='\\n')\n",
    "print('\\n')\n",
    "print('Студии, выпускающие исключительно прибыльные фильмы:')\n",
    "print(*[s for s in winner_studio.index if s not in loser_studio.index and winner_studio[s]>=2], sep='\\n')"
   ]
  },
  {
   "cell_type": "markdown",
   "metadata": {},
   "source": [
    "We will recommend to finance the pictures of the following **directors:**\n",
    "* D.Dyachenko\n",
    "* T.Bekmambetov\n",
    "* S.Podgaevsky\n",
    "* V.Rovensky\n",
    "* R.Prygunov\n",
    "* D.Kiselev\n",
    "* R.Gigineishvili\n",
    "* L.Margolin\n",
    "\n",
    "**Genres:**\n",
    "* cartoon\n",
    "* family\n",
    "* sports\n",
    "\n",
    "**Studios:**\n",
    "* AO \"White Media\"\n",
    "* LLC \"Ol Media Company\"\n",
    "* OOO \"Droog Druga\"\n",
    "* LLC \"Slovo Film Studio\"\n",
    "* LLC \"Fresh-Film\"\n",
    "* KinoFirma LLC"
   ]
  },
  {
   "cell_type": "markdown",
   "metadata": {
    "id": "V2gYwMcPgFyd"
   },
   "source": [
    "### Step 5: Write a general conclusion"
   ]
  },
  {
   "cell_type": "markdown",
   "metadata": {},
   "source": [
    "We processed movie records from 2010 to 2019. We processed missing values, outliers, created new columns and studied the correlation between different parameters of a movie and its return at the box office. As a result, we found out the following.\n",
    "\n",
    "**For the share of state support**\n",
    "* Minimum share of government support: ~4%\n",
    "* Average share of state support: ~52%\n",
    "** Maximum share of state support: ~79%\n",
    "\n",
    "**Film release dynamics**\n",
    "In 2010, 985 films were released. After that there was a decline and an increase. In 2019, the figures are close to 2010 - 930 films.\n",
    "\n",
    "##### Fees \n",
    "**For films without government funding:**\n",
    "* Minimum collections rose from 2017 to 2018 with a peak of 41,000, then dropped to 35,000\n",
    "* Maximum collections began a sharp rise from 2014 and peaked at 2.5 billion in 2019, after a slight dip in 2018.\n",
    "* Median fees started rising in 2014, peaked in 2017 (9.5 million), then went into decline\n",
    "\n",
    "**For movies with government funding:**\n",
    "* Minimum collections have 2 peaks - 2013 and 2017.\n",
    "* Maximum collections increased steadily until 2017, then dropped a bit after that, but s 2019 reached a peak of 3 billion.\n",
    "* Median peaked in 2017 (50 million), after which the median went downward\n",
    "\n",
    "##### Distribution revenue\n",
    "**For all movies**\n",
    "* Minimum revenue soared 4 times in 2016, followed by a downturn.\n",
    "* Maximum revenue rose sharply from 2013 to 2017, after which it declined slightly and peaked in 2019\n",
    "\n",
    "**For movies with government funding**\n",
    "* Maximum revenue from film distribution jumped sharply in 2013.\n",
    "* The minimum income got smaller from 2013 to 2014 by a factor of 7. By 2017 it was up, but lost ground in 2018\n",
    "\n",
    "Curious note: The minimum box office for Russian films is ~20,000, while even if we consider unfinanced films whose box office is over 10,000, such amount becomes minimum only in 2017.\n",
    "\n",
    "##### Fees and age limits\n",
    "**For films without financing:**\n",
    "*For the 2015 through 2019 time period, films 16+ grossed the most money at the box office. 12+ movies made the least\n",
    "* In 2017, there was a turning point for all categories:\n",
    "* Rental movies for all audiences reached a minimum value\n",
    "       * Distribution of movies for kids 12+ started to grow\n",
    "       * Distribution of movies for kids over 16 peaked, followed by a decline\n",
    "       * Distribution of movies banned for children reached a minimum, followed by growth\n",
    "* Movies for kids over 6 and movies banned for kids see an increase in box office money in 2019.\n",
    "\n",
    "**For films that have received government funding:**\n",
    "\n",
    "* The highest revenue comes from films in the 12+ category, followed by 6+. Films 0+ and 18+ are the least popular films\n",
    "* 0+ and 18+ films received the least money at the box office.\n",
    "* 12+ films received the most money at the box office\n",
    "* 0+, 16+ and 18+ films started to grow in 2016. The performance of the last 2 deteriorated after 2018.\n",
    "* For 2019, we can see an increase in the figures for 18+ and 6+ movies.\n",
    "\n",
    "There is a difference between the money at the box office for films without government funding and with government funding. For the first group the biggest distribution for movies 16+, for the second group - 12+.\n",
    "\n",
    "For both groups we see a trend towards an increase in distribution for 18+ films.\n",
    "\n",
    "##### Survey of films with state funding\n",
    "There is a correlation between budget and money at the box office. This can be explained by the fact that films that are more expensive to produce look higher quality and are more likely to be seen.\n",
    "\n",
    "* 115 films that received state funding received more money at the box office than was spent on their production.\n",
    "* 239 films that received government funding received the same amount of money or less than the money they cost to make.\n",
    "\n",
    "Not all directors who receive the most funding do well at the box office.\n",
    "\n",
    "##### Recommendations\n",
    "\n",
    "We will recommend to finance the pictures of the following _directors_:\n",
    "\n",
    "    D.Dyachenko\n",
    "    T.Bekmambetov\n",
    "    S.Podgaevsky\n",
    "    V.Rovensky\n",
    "    R.Prygunov\n",
    "    D.Kiselev\n",
    "    R.Gigineishvili\n",
    "    L.Margolin\n",
    "\n",
    "_Genres:_\n",
    "\n",
    "    cartoon\n",
    "    family\n",
    "    sport\n",
    "\n",
    "_Studios:_\n",
    "\n",
    "    White Media JSC\n",
    "    OOO \"Ol Media Company\"\n",
    "    LLC \"Friend of a Friend\"\n",
    "    LLC \"Film Studio \"Slovo\"\n",
    "    LLC \"Fresh-Film\"\n",
    "    LLC \"KinoFirma\"\n",
    "\n",
    "_Age restrictions:_\n",
    "\n",
    "    \"12+\" - for children over 12 years old\n",
    "    \n",
    "##### Hypotheses for further research on the dependence of fees\n",
    "1. cast and fees\n",
    "2. Promotional costs and fees\n"
   ]
  }
 ],
 "metadata": {
  "ExecuteTimeLog": [
   {
    "duration": 537,
    "start_time": "2021-07-07T10:12:08.634Z"
   },
   {
    "duration": 206,
    "start_time": "2021-07-07T10:12:30.191Z"
   },
   {
    "duration": 227,
    "start_time": "2021-07-07T10:12:33.078Z"
   },
   {
    "duration": 153,
    "start_time": "2021-07-07T10:13:42.146Z"
   },
   {
    "duration": 233,
    "start_time": "2021-07-07T10:30:09.252Z"
   },
   {
    "duration": 19,
    "start_time": "2021-07-07T10:30:15.577Z"
   },
   {
    "duration": 18,
    "start_time": "2021-07-07T10:30:57.348Z"
   },
   {
    "duration": 19,
    "start_time": "2021-07-07T10:31:17.452Z"
   },
   {
    "duration": 21,
    "start_time": "2021-07-07T10:31:32.227Z"
   },
   {
    "duration": 27,
    "start_time": "2021-07-07T10:32:06.588Z"
   },
   {
    "duration": 23,
    "start_time": "2021-07-07T10:32:43.645Z"
   },
   {
    "duration": 24,
    "start_time": "2021-07-07T10:33:06.948Z"
   },
   {
    "duration": 7,
    "start_time": "2021-07-07T10:33:28.558Z"
   },
   {
    "duration": 23,
    "start_time": "2021-07-07T10:33:43.761Z"
   },
   {
    "duration": 28,
    "start_time": "2021-07-07T10:34:13.466Z"
   },
   {
    "duration": 23,
    "start_time": "2021-07-07T10:35:56.187Z"
   },
   {
    "duration": 6,
    "start_time": "2021-07-07T10:36:48.182Z"
   },
   {
    "duration": 14,
    "start_time": "2021-07-07T10:37:49.641Z"
   },
   {
    "duration": 6,
    "start_time": "2021-07-07T10:38:06.694Z"
   },
   {
    "duration": 6,
    "start_time": "2021-07-07T10:38:13.493Z"
   },
   {
    "duration": 19,
    "start_time": "2021-07-07T10:38:44.056Z"
   },
   {
    "duration": 186,
    "start_time": "2021-07-07T10:48:35.618Z"
   },
   {
    "duration": 24,
    "start_time": "2021-07-07T10:48:51.498Z"
   },
   {
    "duration": 20,
    "start_time": "2021-07-07T10:48:59.415Z"
   },
   {
    "duration": 20,
    "start_time": "2021-07-07T10:53:02.195Z"
   },
   {
    "duration": 188,
    "start_time": "2021-07-07T10:54:40.486Z"
   },
   {
    "duration": 115,
    "start_time": "2021-07-07T10:54:52.552Z"
   },
   {
    "duration": 214,
    "start_time": "2021-07-07T10:54:56.354Z"
   },
   {
    "duration": 47,
    "start_time": "2021-07-07T10:54:58.282Z"
   },
   {
    "duration": 217,
    "start_time": "2021-07-07T10:59:16.075Z"
   },
   {
    "duration": 51,
    "start_time": "2021-07-07T10:59:16.243Z"
   },
   {
    "duration": 578,
    "start_time": "2021-07-07T10:59:18.774Z"
   },
   {
    "duration": 161,
    "start_time": "2021-07-07T10:59:21.238Z"
   },
   {
    "duration": 59,
    "start_time": "2021-07-07T10:59:21.453Z"
   },
   {
    "duration": 3,
    "start_time": "2021-07-07T11:02:10.786Z"
   },
   {
    "duration": 13,
    "start_time": "2021-07-07T11:07:07.722Z"
   },
   {
    "duration": 26,
    "start_time": "2021-07-07T11:07:17.958Z"
   },
   {
    "duration": 22,
    "start_time": "2021-07-07T11:08:17.939Z"
   },
   {
    "duration": 212,
    "start_time": "2021-07-07T11:08:19.665Z"
   },
   {
    "duration": 21,
    "start_time": "2021-07-07T11:08:29.945Z"
   },
   {
    "duration": 31,
    "start_time": "2021-07-07T11:08:38.899Z"
   },
   {
    "duration": 23,
    "start_time": "2021-07-07T11:08:54.527Z"
   },
   {
    "duration": 8,
    "start_time": "2021-07-07T11:18:55.974Z"
   },
   {
    "duration": 7,
    "start_time": "2021-07-07T11:19:03.639Z"
   },
   {
    "duration": 7,
    "start_time": "2021-07-07T11:19:06.444Z"
   },
   {
    "duration": 578,
    "start_time": "2021-07-07T12:09:59.576Z"
   },
   {
    "duration": 195,
    "start_time": "2021-07-07T12:10:00.156Z"
   },
   {
    "duration": 115,
    "start_time": "2021-07-07T12:10:00.353Z"
   },
   {
    "duration": 3,
    "start_time": "2021-07-07T12:10:00.470Z"
   },
   {
    "duration": 32,
    "start_time": "2021-07-07T12:10:00.474Z"
   },
   {
    "duration": 23,
    "start_time": "2021-07-07T12:10:00.508Z"
   },
   {
    "duration": 19,
    "start_time": "2021-07-07T12:10:00.533Z"
   },
   {
    "duration": 44,
    "start_time": "2021-07-07T12:10:00.553Z"
   },
   {
    "duration": 7,
    "start_time": "2021-07-07T12:10:00.600Z"
   },
   {
    "duration": 7,
    "start_time": "2021-07-07T12:19:45.761Z"
   },
   {
    "duration": 21,
    "start_time": "2021-07-07T12:21:35.482Z"
   },
   {
    "duration": 21,
    "start_time": "2021-07-07T12:29:23.569Z"
   },
   {
    "duration": 525,
    "start_time": "2021-07-07T12:29:44.542Z"
   },
   {
    "duration": 214,
    "start_time": "2021-07-07T12:29:45.069Z"
   },
   {
    "duration": 92,
    "start_time": "2021-07-07T12:29:45.285Z"
   },
   {
    "duration": 3,
    "start_time": "2021-07-07T12:29:45.379Z"
   },
   {
    "duration": 28,
    "start_time": "2021-07-07T12:29:45.384Z"
   },
   {
    "duration": 23,
    "start_time": "2021-07-07T12:29:45.413Z"
   },
   {
    "duration": 21,
    "start_time": "2021-07-07T12:29:45.437Z"
   },
   {
    "duration": 41,
    "start_time": "2021-07-07T12:29:45.460Z"
   },
   {
    "duration": 7,
    "start_time": "2021-07-07T12:29:45.502Z"
   },
   {
    "duration": 20,
    "start_time": "2021-07-07T12:29:45.511Z"
   },
   {
    "duration": 12,
    "start_time": "2021-07-07T12:34:02.800Z"
   },
   {
    "duration": 7,
    "start_time": "2021-07-07T12:35:10.479Z"
   },
   {
    "duration": 8,
    "start_time": "2021-07-07T12:35:22.440Z"
   },
   {
    "duration": 6,
    "start_time": "2021-07-07T12:35:35.649Z"
   },
   {
    "duration": 6,
    "start_time": "2021-07-07T12:35:43.107Z"
   },
   {
    "duration": 22,
    "start_time": "2021-07-07T12:38:03.029Z"
   },
   {
    "duration": 10,
    "start_time": "2021-07-07T12:38:06.592Z"
   },
   {
    "duration": 563,
    "start_time": "2021-07-07T12:38:46.493Z"
   },
   {
    "duration": 265,
    "start_time": "2021-07-07T12:38:47.058Z"
   },
   {
    "duration": 94,
    "start_time": "2021-07-07T12:38:47.325Z"
   },
   {
    "duration": 3,
    "start_time": "2021-07-07T12:38:47.422Z"
   },
   {
    "duration": 30,
    "start_time": "2021-07-07T12:38:47.427Z"
   },
   {
    "duration": 16,
    "start_time": "2021-07-07T12:38:53.305Z"
   },
   {
    "duration": 10,
    "start_time": "2021-07-07T12:38:53.499Z"
   },
   {
    "duration": 8,
    "start_time": "2021-07-07T12:39:48.161Z"
   },
   {
    "duration": 27,
    "start_time": "2021-07-07T12:41:17.629Z"
   },
   {
    "duration": 17,
    "start_time": "2021-07-07T12:41:17.867Z"
   },
   {
    "duration": 21,
    "start_time": "2021-07-07T12:41:19.310Z"
   },
   {
    "duration": 7,
    "start_time": "2021-07-07T12:41:19.544Z"
   },
   {
    "duration": 20,
    "start_time": "2021-07-07T12:41:20.504Z"
   },
   {
    "duration": 554,
    "start_time": "2021-07-07T12:56:23.696Z"
   },
   {
    "duration": 200,
    "start_time": "2021-07-07T12:56:25.234Z"
   },
   {
    "duration": 119,
    "start_time": "2021-07-07T12:56:25.480Z"
   },
   {
    "duration": 4,
    "start_time": "2021-07-07T12:56:25.762Z"
   },
   {
    "duration": 26,
    "start_time": "2021-07-07T12:56:27.172Z"
   },
   {
    "duration": 12,
    "start_time": "2021-07-07T12:56:29.051Z"
   },
   {
    "duration": 10,
    "start_time": "2021-07-07T12:56:29.291Z"
   },
   {
    "duration": 8,
    "start_time": "2021-07-07T12:56:29.623Z"
   },
   {
    "duration": 28,
    "start_time": "2021-07-07T12:56:32.137Z"
   },
   {
    "duration": 19,
    "start_time": "2021-07-07T12:56:39.785Z"
   },
   {
    "duration": 20,
    "start_time": "2021-07-07T12:56:44.297Z"
   },
   {
    "duration": 7,
    "start_time": "2021-07-07T12:56:45.392Z"
   },
   {
    "duration": 23,
    "start_time": "2021-07-07T12:56:46.615Z"
   },
   {
    "duration": 4,
    "start_time": "2021-07-07T12:57:06.625Z"
   },
   {
    "duration": 32,
    "start_time": "2021-07-07T12:57:36.690Z"
   },
   {
    "duration": 18,
    "start_time": "2021-07-07T12:58:00.149Z"
   },
   {
    "duration": 15,
    "start_time": "2021-07-07T12:59:16.793Z"
   },
   {
    "duration": 7,
    "start_time": "2021-07-07T13:19:22.624Z"
   },
   {
    "duration": 6,
    "start_time": "2021-07-07T14:17:33.527Z"
   },
   {
    "duration": 9,
    "start_time": "2021-07-07T14:17:48.409Z"
   },
   {
    "duration": 8,
    "start_time": "2021-07-07T14:20:13.060Z"
   },
   {
    "duration": 8,
    "start_time": "2021-07-07T14:20:37.957Z"
   },
   {
    "duration": 8,
    "start_time": "2021-07-07T14:20:47.470Z"
   },
   {
    "duration": 9,
    "start_time": "2021-07-07T14:20:54.503Z"
   },
   {
    "duration": 10,
    "start_time": "2021-07-07T14:28:57.763Z"
   },
   {
    "duration": 3,
    "start_time": "2021-07-07T14:30:23.377Z"
   },
   {
    "duration": 3,
    "start_time": "2021-07-07T14:30:36.489Z"
   },
   {
    "duration": 103,
    "start_time": "2021-07-07T14:30:52.351Z"
   },
   {
    "duration": 8,
    "start_time": "2021-07-07T14:30:54.763Z"
   },
   {
    "duration": 8,
    "start_time": "2021-07-07T14:31:29.301Z"
   },
   {
    "duration": 13,
    "start_time": "2021-07-07T14:31:44.516Z"
   },
   {
    "duration": 7,
    "start_time": "2021-07-07T14:33:10.972Z"
   },
   {
    "duration": 11,
    "start_time": "2021-07-07T14:33:27.780Z"
   },
   {
    "duration": 8,
    "start_time": "2021-07-07T14:34:44.588Z"
   },
   {
    "duration": 57,
    "start_time": "2021-07-07T14:35:59.042Z"
   },
   {
    "duration": 3,
    "start_time": "2021-07-07T14:36:28.168Z"
   },
   {
    "duration": 5,
    "start_time": "2021-07-07T14:36:46.254Z"
   },
   {
    "duration": 4,
    "start_time": "2021-07-07T14:36:52.714Z"
   },
   {
    "duration": 3,
    "start_time": "2021-07-07T14:36:56.612Z"
   },
   {
    "duration": 4,
    "start_time": "2021-07-07T14:36:57.049Z"
   },
   {
    "duration": 3,
    "start_time": "2021-07-07T14:39:21.214Z"
   },
   {
    "duration": 7,
    "start_time": "2021-07-07T14:39:52.406Z"
   },
   {
    "duration": 11,
    "start_time": "2021-07-07T14:39:58.576Z"
   },
   {
    "duration": 9,
    "start_time": "2021-07-07T14:40:26.301Z"
   },
   {
    "duration": 10,
    "start_time": "2021-07-07T14:40:31.704Z"
   },
   {
    "duration": 11,
    "start_time": "2021-07-07T14:40:36.249Z"
   },
   {
    "duration": 10,
    "start_time": "2021-07-07T14:40:39.783Z"
   },
   {
    "duration": 9,
    "start_time": "2021-07-07T14:40:48.558Z"
   },
   {
    "duration": 10,
    "start_time": "2021-07-07T14:40:57.143Z"
   },
   {
    "duration": 9,
    "start_time": "2021-07-07T14:41:06.074Z"
   },
   {
    "duration": 4324,
    "start_time": "2021-07-07T14:41:22.004Z"
   },
   {
    "duration": 11,
    "start_time": "2021-07-07T14:41:33.392Z"
   },
   {
    "duration": 9,
    "start_time": "2021-07-07T14:41:39.288Z"
   },
   {
    "duration": 569,
    "start_time": "2021-07-07T14:42:14.387Z"
   },
   {
    "duration": 197,
    "start_time": "2021-07-07T14:42:14.959Z"
   },
   {
    "duration": 84,
    "start_time": "2021-07-07T14:42:16.052Z"
   },
   {
    "duration": 4,
    "start_time": "2021-07-07T14:42:16.900Z"
   },
   {
    "duration": 27,
    "start_time": "2021-07-07T14:42:19.898Z"
   },
   {
    "duration": 12,
    "start_time": "2021-07-07T14:42:21.577Z"
   },
   {
    "duration": 9,
    "start_time": "2021-07-07T14:42:21.813Z"
   },
   {
    "duration": 9,
    "start_time": "2021-07-07T14:42:22.569Z"
   },
   {
    "duration": 29,
    "start_time": "2021-07-07T14:42:25.837Z"
   },
   {
    "duration": 20,
    "start_time": "2021-07-07T14:42:27.003Z"
   },
   {
    "duration": 21,
    "start_time": "2021-07-07T14:42:28.767Z"
   },
   {
    "duration": 7,
    "start_time": "2021-07-07T14:42:29.838Z"
   },
   {
    "duration": 4,
    "start_time": "2021-07-07T14:43:25.493Z"
   },
   {
    "duration": 7,
    "start_time": "2021-07-07T14:43:26.573Z"
   },
   {
    "duration": 10,
    "start_time": "2021-07-07T14:43:31.639Z"
   },
   {
    "duration": 9,
    "start_time": "2021-07-07T14:43:32.046Z"
   },
   {
    "duration": 10,
    "start_time": "2021-07-07T14:43:33.301Z"
   },
   {
    "duration": 12,
    "start_time": "2021-07-07T14:43:33.658Z"
   },
   {
    "duration": 8,
    "start_time": "2021-07-07T14:43:34.552Z"
   },
   {
    "duration": 9,
    "start_time": "2021-07-07T14:43:35.058Z"
   },
   {
    "duration": 12,
    "start_time": "2021-07-07T14:43:35.914Z"
   },
   {
    "duration": 17,
    "start_time": "2021-07-07T14:45:34.368Z"
   },
   {
    "duration": 512,
    "start_time": "2021-07-07T14:51:58.236Z"
   },
   {
    "duration": 223,
    "start_time": "2021-07-07T14:51:58.750Z"
   },
   {
    "duration": 93,
    "start_time": "2021-07-07T14:51:58.977Z"
   },
   {
    "duration": 4,
    "start_time": "2021-07-07T14:51:59.071Z"
   },
   {
    "duration": 37,
    "start_time": "2021-07-07T14:51:59.077Z"
   },
   {
    "duration": 18,
    "start_time": "2021-07-07T14:51:59.116Z"
   },
   {
    "duration": 10,
    "start_time": "2021-07-07T14:51:59.137Z"
   },
   {
    "duration": 8,
    "start_time": "2021-07-07T14:51:59.149Z"
   },
   {
    "duration": 54,
    "start_time": "2021-07-07T14:51:59.158Z"
   },
   {
    "duration": 18,
    "start_time": "2021-07-07T14:51:59.213Z"
   },
   {
    "duration": 22,
    "start_time": "2021-07-07T14:51:59.232Z"
   },
   {
    "duration": 36,
    "start_time": "2021-07-07T14:51:59.255Z"
   },
   {
    "duration": 7,
    "start_time": "2021-07-07T14:51:59.293Z"
   },
   {
    "duration": 10,
    "start_time": "2021-07-07T14:51:59.302Z"
   },
   {
    "duration": 9,
    "start_time": "2021-07-07T14:51:59.313Z"
   },
   {
    "duration": 11,
    "start_time": "2021-07-07T14:51:59.324Z"
   },
   {
    "duration": 8,
    "start_time": "2021-07-07T14:51:59.337Z"
   },
   {
    "duration": 46,
    "start_time": "2021-07-07T14:51:59.347Z"
   },
   {
    "duration": 22,
    "start_time": "2021-07-07T14:51:59.395Z"
   },
   {
    "duration": 24,
    "start_time": "2021-07-07T14:57:32.911Z"
   },
   {
    "duration": 7,
    "start_time": "2021-07-07T14:58:22.070Z"
   },
   {
    "duration": 4,
    "start_time": "2021-07-07T14:59:11.239Z"
   },
   {
    "duration": 25,
    "start_time": "2021-07-07T15:07:22.208Z"
   },
   {
    "duration": 16,
    "start_time": "2021-07-07T15:08:25.560Z"
   },
   {
    "duration": 15,
    "start_time": "2021-07-07T15:08:40.647Z"
   },
   {
    "duration": 14,
    "start_time": "2021-07-07T15:08:46.669Z"
   },
   {
    "duration": 533,
    "start_time": "2021-07-07T15:18:07.440Z"
   },
   {
    "duration": 173,
    "start_time": "2021-07-07T15:18:07.974Z"
   },
   {
    "duration": 84,
    "start_time": "2021-07-07T15:18:08.149Z"
   },
   {
    "duration": 3,
    "start_time": "2021-07-07T15:18:08.235Z"
   },
   {
    "duration": 30,
    "start_time": "2021-07-07T15:18:08.240Z"
   },
   {
    "duration": 22,
    "start_time": "2021-07-07T15:18:08.272Z"
   },
   {
    "duration": 11,
    "start_time": "2021-07-07T15:18:08.295Z"
   },
   {
    "duration": 11,
    "start_time": "2021-07-07T15:18:08.309Z"
   },
   {
    "duration": 40,
    "start_time": "2021-07-07T15:18:08.322Z"
   },
   {
    "duration": 42,
    "start_time": "2021-07-07T15:18:08.364Z"
   },
   {
    "duration": 22,
    "start_time": "2021-07-07T15:18:08.408Z"
   },
   {
    "duration": 5,
    "start_time": "2021-07-07T15:18:08.432Z"
   },
   {
    "duration": 13,
    "start_time": "2021-07-07T15:18:08.439Z"
   },
   {
    "duration": 9,
    "start_time": "2021-07-07T15:18:08.454Z"
   },
   {
    "duration": 32,
    "start_time": "2021-07-07T15:18:08.465Z"
   },
   {
    "duration": 10,
    "start_time": "2021-07-07T15:18:08.501Z"
   },
   {
    "duration": 7,
    "start_time": "2021-07-07T15:18:08.513Z"
   },
   {
    "duration": 11,
    "start_time": "2021-07-07T15:18:08.521Z"
   },
   {
    "duration": 17,
    "start_time": "2021-07-07T15:18:08.534Z"
   },
   {
    "duration": 44,
    "start_time": "2021-07-07T15:18:08.553Z"
   },
   {
    "duration": 22,
    "start_time": "2021-07-07T15:18:08.599Z"
   },
   {
    "duration": 61,
    "start_time": "2021-07-07T15:18:08.622Z"
   },
   {
    "duration": 7,
    "start_time": "2021-07-07T15:18:39.457Z"
   },
   {
    "duration": 5,
    "start_time": "2021-07-07T16:05:17.020Z"
   },
   {
    "duration": 5,
    "start_time": "2021-07-07T16:51:28.794Z"
   },
   {
    "duration": 546,
    "start_time": "2021-07-07T16:52:26.306Z"
   },
   {
    "duration": 203,
    "start_time": "2021-07-07T16:52:27.523Z"
   },
   {
    "duration": 85,
    "start_time": "2021-07-07T16:52:27.736Z"
   },
   {
    "duration": 4,
    "start_time": "2021-07-07T16:52:27.899Z"
   },
   {
    "duration": 25,
    "start_time": "2021-07-07T16:52:28.674Z"
   },
   {
    "duration": 8,
    "start_time": "2021-07-07T16:52:32.956Z"
   },
   {
    "duration": 18,
    "start_time": "2021-07-07T16:52:35.616Z"
   },
   {
    "duration": 6,
    "start_time": "2021-07-07T16:52:36.913Z"
   },
   {
    "duration": 11,
    "start_time": "2021-07-07T16:52:40.258Z"
   },
   {
    "duration": 10,
    "start_time": "2021-07-07T16:52:46.251Z"
   },
   {
    "duration": 8,
    "start_time": "2021-07-07T16:52:47.182Z"
   },
   {
    "duration": 27,
    "start_time": "2021-07-07T16:53:20.391Z"
   },
   {
    "duration": 20,
    "start_time": "2021-07-07T16:53:22.022Z"
   },
   {
    "duration": 23,
    "start_time": "2021-07-07T16:53:23.690Z"
   },
   {
    "duration": 8,
    "start_time": "2021-07-07T16:53:24.261Z"
   },
   {
    "duration": 4,
    "start_time": "2021-07-07T16:53:38.733Z"
   },
   {
    "duration": 7,
    "start_time": "2021-07-07T16:53:40.445Z"
   },
   {
    "duration": 11,
    "start_time": "2021-07-07T16:53:41.348Z"
   },
   {
    "duration": 13,
    "start_time": "2021-07-07T16:53:45.250Z"
   },
   {
    "duration": 12,
    "start_time": "2021-07-07T16:53:45.467Z"
   },
   {
    "duration": 4,
    "start_time": "2021-07-07T16:55:32.704Z"
   },
   {
    "duration": 12,
    "start_time": "2021-07-07T16:55:49.012Z"
   },
   {
    "duration": 18,
    "start_time": "2021-07-07T16:55:49.547Z"
   },
   {
    "duration": 611,
    "start_time": "2021-07-07T16:58:35.156Z"
   },
   {
    "duration": 200,
    "start_time": "2021-07-07T16:58:35.770Z"
   },
   {
    "duration": 86,
    "start_time": "2021-07-07T16:58:35.972Z"
   },
   {
    "duration": 3,
    "start_time": "2021-07-07T16:58:36.060Z"
   },
   {
    "duration": 27,
    "start_time": "2021-07-07T16:58:36.065Z"
   },
   {
    "duration": 8,
    "start_time": "2021-07-07T16:58:36.094Z"
   },
   {
    "duration": 17,
    "start_time": "2021-07-07T16:58:36.103Z"
   },
   {
    "duration": 5,
    "start_time": "2021-07-07T16:58:36.123Z"
   },
   {
    "duration": 11,
    "start_time": "2021-07-07T16:58:36.130Z"
   },
   {
    "duration": 7,
    "start_time": "2021-07-07T16:58:36.143Z"
   },
   {
    "duration": 37,
    "start_time": "2021-07-07T16:58:36.152Z"
   },
   {
    "duration": 27,
    "start_time": "2021-07-07T16:58:36.191Z"
   },
   {
    "duration": 19,
    "start_time": "2021-07-07T16:58:36.219Z"
   },
   {
    "duration": 49,
    "start_time": "2021-07-07T16:58:36.240Z"
   },
   {
    "duration": 6,
    "start_time": "2021-07-07T16:58:36.291Z"
   },
   {
    "duration": 3,
    "start_time": "2021-07-07T16:58:36.299Z"
   },
   {
    "duration": 13,
    "start_time": "2021-07-07T16:58:36.304Z"
   },
   {
    "duration": 10,
    "start_time": "2021-07-07T16:58:36.319Z"
   },
   {
    "duration": 10,
    "start_time": "2021-07-07T16:58:36.331Z"
   },
   {
    "duration": 44,
    "start_time": "2021-07-07T16:58:36.343Z"
   },
   {
    "duration": 4,
    "start_time": "2021-07-07T16:58:36.388Z"
   },
   {
    "duration": 13,
    "start_time": "2021-07-07T16:58:36.394Z"
   },
   {
    "duration": 16,
    "start_time": "2021-07-07T16:58:36.410Z"
   },
   {
    "duration": 8,
    "start_time": "2021-07-07T17:02:31.629Z"
   },
   {
    "duration": 8,
    "start_time": "2021-07-07T17:02:34.308Z"
   },
   {
    "duration": 6,
    "start_time": "2021-07-07T17:05:13.483Z"
   },
   {
    "duration": 17,
    "start_time": "2021-07-07T17:05:20.606Z"
   },
   {
    "duration": 7,
    "start_time": "2021-07-07T17:05:34.638Z"
   },
   {
    "duration": 3,
    "start_time": "2021-07-07T17:06:31.883Z"
   },
   {
    "duration": 570,
    "start_time": "2021-07-07T17:06:37.165Z"
   },
   {
    "duration": 174,
    "start_time": "2021-07-07T17:06:37.737Z"
   },
   {
    "duration": 47,
    "start_time": "2021-07-07T17:06:37.913Z"
   },
   {
    "duration": 3,
    "start_time": "2021-07-07T17:06:37.962Z"
   },
   {
    "duration": 27,
    "start_time": "2021-07-07T17:06:37.967Z"
   },
   {
    "duration": 7,
    "start_time": "2021-07-07T17:06:37.996Z"
   },
   {
    "duration": 16,
    "start_time": "2021-07-07T17:06:38.005Z"
   },
   {
    "duration": 6,
    "start_time": "2021-07-07T17:06:38.024Z"
   },
   {
    "duration": 12,
    "start_time": "2021-07-07T17:06:38.031Z"
   },
   {
    "duration": 41,
    "start_time": "2021-07-07T17:06:38.045Z"
   },
   {
    "duration": 8,
    "start_time": "2021-07-07T17:06:38.088Z"
   },
   {
    "duration": 26,
    "start_time": "2021-07-07T17:06:38.098Z"
   },
   {
    "duration": 17,
    "start_time": "2021-07-07T17:06:38.126Z"
   },
   {
    "duration": 43,
    "start_time": "2021-07-07T17:06:38.144Z"
   },
   {
    "duration": 6,
    "start_time": "2021-07-07T17:06:38.188Z"
   },
   {
    "duration": 5,
    "start_time": "2021-07-07T17:06:38.195Z"
   },
   {
    "duration": 9,
    "start_time": "2021-07-07T17:06:38.201Z"
   },
   {
    "duration": 12,
    "start_time": "2021-07-07T17:06:38.212Z"
   },
   {
    "duration": 11,
    "start_time": "2021-07-07T17:06:38.226Z"
   },
   {
    "duration": 47,
    "start_time": "2021-07-07T17:06:38.239Z"
   },
   {
    "duration": 4,
    "start_time": "2021-07-07T17:06:38.288Z"
   },
   {
    "duration": 13,
    "start_time": "2021-07-07T17:06:38.293Z"
   },
   {
    "duration": 5,
    "start_time": "2021-07-07T17:06:38.309Z"
   },
   {
    "duration": 18,
    "start_time": "2021-07-07T17:06:38.325Z"
   },
   {
    "duration": 20,
    "start_time": "2021-07-07T17:07:02.805Z"
   },
   {
    "duration": 19,
    "start_time": "2021-07-07T17:07:08.527Z"
   },
   {
    "duration": 19,
    "start_time": "2021-07-07T17:07:12.758Z"
   },
   {
    "duration": 22,
    "start_time": "2021-07-07T17:07:17.497Z"
   },
   {
    "duration": 19,
    "start_time": "2021-07-07T17:07:19.645Z"
   },
   {
    "duration": 10,
    "start_time": "2021-07-07T17:07:34.239Z"
   },
   {
    "duration": 17,
    "start_time": "2021-07-07T17:07:54.144Z"
   },
   {
    "duration": 14,
    "start_time": "2021-07-07T17:08:14.357Z"
   },
   {
    "duration": 616,
    "start_time": "2021-07-07T17:08:45.254Z"
   },
   {
    "duration": 178,
    "start_time": "2021-07-07T17:08:45.872Z"
   },
   {
    "duration": 60,
    "start_time": "2021-07-07T17:08:46.054Z"
   },
   {
    "duration": 3,
    "start_time": "2021-07-07T17:08:46.116Z"
   },
   {
    "duration": 26,
    "start_time": "2021-07-07T17:08:46.121Z"
   },
   {
    "duration": 7,
    "start_time": "2021-07-07T17:08:46.149Z"
   },
   {
    "duration": 17,
    "start_time": "2021-07-07T17:08:46.158Z"
   },
   {
    "duration": 14,
    "start_time": "2021-07-07T17:08:46.176Z"
   },
   {
    "duration": 17,
    "start_time": "2021-07-07T17:08:46.193Z"
   },
   {
    "duration": 9,
    "start_time": "2021-07-07T17:08:46.211Z"
   },
   {
    "duration": 21,
    "start_time": "2021-07-07T17:08:46.221Z"
   },
   {
    "duration": 49,
    "start_time": "2021-07-07T17:08:46.244Z"
   },
   {
    "duration": 24,
    "start_time": "2021-07-07T17:08:46.295Z"
   },
   {
    "duration": 22,
    "start_time": "2021-07-07T17:08:46.321Z"
   },
   {
    "duration": 6,
    "start_time": "2021-07-07T17:08:46.345Z"
   },
   {
    "duration": 5,
    "start_time": "2021-07-07T17:08:46.353Z"
   },
   {
    "duration": 13,
    "start_time": "2021-07-07T17:08:46.386Z"
   },
   {
    "duration": 12,
    "start_time": "2021-07-07T17:08:46.402Z"
   },
   {
    "duration": 10,
    "start_time": "2021-07-07T17:08:46.415Z"
   },
   {
    "duration": 7,
    "start_time": "2021-07-07T17:08:46.427Z"
   },
   {
    "duration": 8,
    "start_time": "2021-07-07T17:08:46.435Z"
   },
   {
    "duration": 68,
    "start_time": "2021-07-07T17:08:46.446Z"
   },
   {
    "duration": 13,
    "start_time": "2021-07-07T17:08:46.516Z"
   },
   {
    "duration": 78,
    "start_time": "2021-07-07T17:08:46.530Z"
   },
   {
    "duration": 40,
    "start_time": "2021-07-07T17:09:08.185Z"
   },
   {
    "duration": 16,
    "start_time": "2021-07-07T17:09:19.324Z"
   },
   {
    "duration": 21,
    "start_time": "2021-07-07T17:09:23.290Z"
   },
   {
    "duration": 13,
    "start_time": "2021-07-07T17:09:54.812Z"
   },
   {
    "duration": 13,
    "start_time": "2021-07-07T17:10:02.039Z"
   },
   {
    "duration": 10,
    "start_time": "2021-07-07T17:10:29.632Z"
   },
   {
    "duration": 13,
    "start_time": "2021-07-07T17:10:52.372Z"
   },
   {
    "duration": 13,
    "start_time": "2021-07-07T17:11:17.270Z"
   },
   {
    "duration": 13,
    "start_time": "2021-07-07T17:14:59.284Z"
   },
   {
    "duration": 547,
    "start_time": "2021-07-07T17:18:52.403Z"
   },
   {
    "duration": 163,
    "start_time": "2021-07-07T17:18:52.952Z"
   },
   {
    "duration": 44,
    "start_time": "2021-07-07T17:18:53.117Z"
   },
   {
    "duration": 3,
    "start_time": "2021-07-07T17:18:53.162Z"
   },
   {
    "duration": 26,
    "start_time": "2021-07-07T17:18:53.167Z"
   },
   {
    "duration": 6,
    "start_time": "2021-07-07T17:18:53.195Z"
   },
   {
    "duration": 15,
    "start_time": "2021-07-07T17:18:53.203Z"
   },
   {
    "duration": 5,
    "start_time": "2021-07-07T17:18:53.220Z"
   },
   {
    "duration": 11,
    "start_time": "2021-07-07T17:18:53.228Z"
   },
   {
    "duration": 9,
    "start_time": "2021-07-07T17:18:53.241Z"
   },
   {
    "duration": 41,
    "start_time": "2021-07-07T17:18:53.252Z"
   },
   {
    "duration": 33,
    "start_time": "2021-07-07T17:18:53.295Z"
   },
   {
    "duration": 19,
    "start_time": "2021-07-07T17:18:53.330Z"
   },
   {
    "duration": 49,
    "start_time": "2021-07-07T17:18:53.350Z"
   },
   {
    "duration": 5,
    "start_time": "2021-07-07T17:18:53.401Z"
   },
   {
    "duration": 5,
    "start_time": "2021-07-07T17:18:53.408Z"
   },
   {
    "duration": 11,
    "start_time": "2021-07-07T17:18:53.414Z"
   },
   {
    "duration": 9,
    "start_time": "2021-07-07T17:18:53.427Z"
   },
   {
    "duration": 10,
    "start_time": "2021-07-07T17:18:53.437Z"
   },
   {
    "duration": 39,
    "start_time": "2021-07-07T17:18:53.448Z"
   },
   {
    "duration": 26,
    "start_time": "2021-07-07T17:18:55.799Z"
   },
   {
    "duration": 598,
    "start_time": "2021-07-07T17:20:17.862Z"
   },
   {
    "duration": 161,
    "start_time": "2021-07-07T17:20:18.462Z"
   },
   {
    "duration": 45,
    "start_time": "2021-07-07T17:20:18.626Z"
   },
   {
    "duration": 4,
    "start_time": "2021-07-07T17:20:18.673Z"
   },
   {
    "duration": 38,
    "start_time": "2021-07-07T17:20:26.877Z"
   },
   {
    "duration": 7,
    "start_time": "2021-07-07T17:20:37.405Z"
   },
   {
    "duration": 19,
    "start_time": "2021-07-07T17:20:51.534Z"
   },
   {
    "duration": 5,
    "start_time": "2021-07-07T17:20:57.228Z"
   },
   {
    "duration": 7,
    "start_time": "2021-07-07T17:21:08.235Z"
   },
   {
    "duration": 19,
    "start_time": "2021-07-07T17:21:42.158Z"
   },
   {
    "duration": 14,
    "start_time": "2021-07-07T17:21:50.225Z"
   },
   {
    "duration": 22,
    "start_time": "2021-07-07T17:22:54.104Z"
   },
   {
    "duration": 5,
    "start_time": "2021-07-07T17:22:56.371Z"
   },
   {
    "duration": 14,
    "start_time": "2021-07-07T17:22:58.316Z"
   },
   {
    "duration": 5,
    "start_time": "2021-07-07T17:22:58.493Z"
   },
   {
    "duration": 35,
    "start_time": "2021-07-07T17:22:59.666Z"
   },
   {
    "duration": 6,
    "start_time": "2021-07-07T17:23:02.410Z"
   },
   {
    "duration": 611,
    "start_time": "2021-07-07T17:24:59.664Z"
   },
   {
    "duration": 178,
    "start_time": "2021-07-07T17:25:01.945Z"
   },
   {
    "duration": 47,
    "start_time": "2021-07-07T17:25:02.125Z"
   },
   {
    "duration": 2,
    "start_time": "2021-07-07T17:25:07.903Z"
   },
   {
    "duration": 254,
    "start_time": "2021-07-07T17:25:08.232Z"
   },
   {
    "duration": 182,
    "start_time": "2021-07-07T17:25:08.671Z"
   },
   {
    "duration": 6,
    "start_time": "2021-07-07T17:25:13.104Z"
   },
   {
    "duration": 36,
    "start_time": "2021-07-07T17:25:13.662Z"
   },
   {
    "duration": 7,
    "start_time": "2021-07-07T17:25:14.528Z"
   },
   {
    "duration": 24,
    "start_time": "2021-07-07T17:25:27.982Z"
   },
   {
    "duration": 3,
    "start_time": "2021-07-07T17:25:48.982Z"
   },
   {
    "duration": 165,
    "start_time": "2021-07-07T17:25:48.987Z"
   },
   {
    "duration": 50,
    "start_time": "2021-07-07T17:25:49.154Z"
   },
   {
    "duration": 4,
    "start_time": "2021-07-07T17:25:49.206Z"
   },
   {
    "duration": 26,
    "start_time": "2021-07-07T17:25:49.212Z"
   },
   {
    "duration": 7,
    "start_time": "2021-07-07T17:25:49.240Z"
   },
   {
    "duration": 16,
    "start_time": "2021-07-07T17:25:49.249Z"
   },
   {
    "duration": 22,
    "start_time": "2021-07-07T17:25:49.266Z"
   },
   {
    "duration": 16,
    "start_time": "2021-07-07T17:25:49.291Z"
   },
   {
    "duration": 9,
    "start_time": "2021-07-07T17:25:49.309Z"
   },
   {
    "duration": 7,
    "start_time": "2021-07-07T17:25:49.319Z"
   },
   {
    "duration": 28,
    "start_time": "2021-07-07T17:25:49.328Z"
   },
   {
    "duration": 44,
    "start_time": "2021-07-07T17:25:49.357Z"
   },
   {
    "duration": 22,
    "start_time": "2021-07-07T17:25:49.403Z"
   },
   {
    "duration": 7,
    "start_time": "2021-07-07T17:25:49.427Z"
   },
   {
    "duration": 3,
    "start_time": "2021-07-07T17:25:49.436Z"
   },
   {
    "duration": 44,
    "start_time": "2021-07-07T17:25:49.441Z"
   },
   {
    "duration": 12,
    "start_time": "2021-07-07T17:25:49.488Z"
   },
   {
    "duration": 13,
    "start_time": "2021-07-07T17:25:49.502Z"
   },
   {
    "duration": 10,
    "start_time": "2021-07-07T17:25:49.516Z"
   },
   {
    "duration": 62,
    "start_time": "2021-07-07T17:25:49.527Z"
   },
   {
    "duration": 26,
    "start_time": "2021-07-07T17:26:51.809Z"
   },
   {
    "duration": 26,
    "start_time": "2021-07-07T17:26:55.759Z"
   },
   {
    "duration": 26,
    "start_time": "2021-07-07T17:27:04.501Z"
   },
   {
    "duration": 25,
    "start_time": "2021-07-07T17:28:24.859Z"
   },
   {
    "duration": 21,
    "start_time": "2021-07-07T17:28:55.250Z"
   },
   {
    "duration": 21,
    "start_time": "2021-07-07T17:28:58.885Z"
   },
   {
    "duration": 7,
    "start_time": "2021-07-07T17:45:40.972Z"
   },
   {
    "duration": 13,
    "start_time": "2021-07-07T17:45:42.529Z"
   },
   {
    "duration": 27,
    "start_time": "2021-07-07T17:45:51.026Z"
   },
   {
    "duration": 518,
    "start_time": "2021-07-07T17:46:15.532Z"
   },
   {
    "duration": 235,
    "start_time": "2021-07-07T17:46:16.053Z"
   },
   {
    "duration": 80,
    "start_time": "2021-07-07T17:46:16.292Z"
   },
   {
    "duration": 5,
    "start_time": "2021-07-07T17:46:16.373Z"
   },
   {
    "duration": 26,
    "start_time": "2021-07-07T17:46:16.380Z"
   },
   {
    "duration": 7,
    "start_time": "2021-07-07T17:46:16.408Z"
   },
   {
    "duration": 16,
    "start_time": "2021-07-07T17:46:16.418Z"
   },
   {
    "duration": 5,
    "start_time": "2021-07-07T17:46:16.436Z"
   },
   {
    "duration": 13,
    "start_time": "2021-07-07T17:46:16.442Z"
   },
   {
    "duration": 35,
    "start_time": "2021-07-07T17:46:16.456Z"
   },
   {
    "duration": 8,
    "start_time": "2021-07-07T17:46:16.493Z"
   },
   {
    "duration": 28,
    "start_time": "2021-07-07T17:46:16.502Z"
   },
   {
    "duration": 17,
    "start_time": "2021-07-07T17:46:16.532Z"
   },
   {
    "duration": 44,
    "start_time": "2021-07-07T17:46:16.551Z"
   },
   {
    "duration": 6,
    "start_time": "2021-07-07T17:46:16.597Z"
   },
   {
    "duration": 4,
    "start_time": "2021-07-07T17:46:16.605Z"
   },
   {
    "duration": 9,
    "start_time": "2021-07-07T17:46:16.610Z"
   },
   {
    "duration": 9,
    "start_time": "2021-07-07T17:46:16.621Z"
   },
   {
    "duration": 10,
    "start_time": "2021-07-07T17:46:16.632Z"
   },
   {
    "duration": 43,
    "start_time": "2021-07-07T17:46:16.644Z"
   },
   {
    "duration": 26,
    "start_time": "2021-07-07T17:46:16.689Z"
   },
   {
    "duration": 19,
    "start_time": "2021-07-07T17:46:16.718Z"
   },
   {
    "duration": 8,
    "start_time": "2021-07-07T17:46:16.738Z"
   },
   {
    "duration": 43,
    "start_time": "2021-07-07T17:46:16.747Z"
   },
   {
    "duration": 19,
    "start_time": "2021-07-07T17:46:16.791Z"
   },
   {
    "duration": 9,
    "start_time": "2021-07-07T17:46:16.812Z"
   },
   {
    "duration": 60,
    "start_time": "2021-07-07T17:46:16.822Z"
   },
   {
    "duration": -8,
    "start_time": "2021-07-07T17:46:16.892Z"
   },
   {
    "duration": 12,
    "start_time": "2021-07-07T17:48:47.707Z"
   },
   {
    "duration": 553,
    "start_time": "2021-07-07T18:10:09.350Z"
   },
   {
    "duration": 230,
    "start_time": "2021-07-07T18:10:09.905Z"
   },
   {
    "duration": 97,
    "start_time": "2021-07-07T18:10:10.137Z"
   },
   {
    "duration": 5,
    "start_time": "2021-07-07T18:10:10.236Z"
   },
   {
    "duration": 29,
    "start_time": "2021-07-07T18:10:10.242Z"
   },
   {
    "duration": 7,
    "start_time": "2021-07-07T18:10:10.272Z"
   },
   {
    "duration": 15,
    "start_time": "2021-07-07T18:10:10.281Z"
   },
   {
    "duration": 4,
    "start_time": "2021-07-07T18:10:10.299Z"
   },
   {
    "duration": 14,
    "start_time": "2021-07-07T18:10:10.305Z"
   },
   {
    "duration": 8,
    "start_time": "2021-07-07T18:10:10.321Z"
   },
   {
    "duration": 8,
    "start_time": "2021-07-07T18:10:10.331Z"
   },
   {
    "duration": 56,
    "start_time": "2021-07-07T18:10:10.341Z"
   },
   {
    "duration": 19,
    "start_time": "2021-07-07T18:10:10.399Z"
   },
   {
    "duration": 23,
    "start_time": "2021-07-07T18:10:10.419Z"
   },
   {
    "duration": 6,
    "start_time": "2021-07-07T18:10:10.444Z"
   },
   {
    "duration": 9,
    "start_time": "2021-07-07T18:10:10.451Z"
   },
   {
    "duration": 30,
    "start_time": "2021-07-07T18:10:10.462Z"
   },
   {
    "duration": 9,
    "start_time": "2021-07-07T18:10:10.494Z"
   },
   {
    "duration": 14,
    "start_time": "2021-07-07T18:10:10.505Z"
   },
   {
    "duration": 7,
    "start_time": "2021-07-07T18:10:10.521Z"
   },
   {
    "duration": 26,
    "start_time": "2021-07-07T18:10:10.530Z"
   },
   {
    "duration": 44,
    "start_time": "2021-07-07T18:10:10.558Z"
   },
   {
    "duration": 7,
    "start_time": "2021-07-07T18:10:10.605Z"
   },
   {
    "duration": 11,
    "start_time": "2021-07-07T18:10:10.614Z"
   },
   {
    "duration": 19,
    "start_time": "2021-07-07T18:10:10.626Z"
   },
   {
    "duration": 44,
    "start_time": "2021-07-07T18:10:10.646Z"
   },
   {
    "duration": 516,
    "start_time": "2021-07-07T18:14:00.826Z"
   },
   {
    "duration": 230,
    "start_time": "2021-07-07T18:14:01.344Z"
   },
   {
    "duration": 105,
    "start_time": "2021-07-07T18:14:01.576Z"
   },
   {
    "duration": 5,
    "start_time": "2021-07-07T18:14:01.683Z"
   },
   {
    "duration": 46,
    "start_time": "2021-07-07T18:14:01.690Z"
   },
   {
    "duration": 7,
    "start_time": "2021-07-07T18:14:01.738Z"
   },
   {
    "duration": 20,
    "start_time": "2021-07-07T18:14:01.747Z"
   },
   {
    "duration": 16,
    "start_time": "2021-07-07T18:14:01.769Z"
   },
   {
    "duration": 14,
    "start_time": "2021-07-07T18:14:01.787Z"
   },
   {
    "duration": 15,
    "start_time": "2021-07-07T18:14:01.803Z"
   },
   {
    "duration": 12,
    "start_time": "2021-07-07T18:14:01.820Z"
   },
   {
    "duration": 35,
    "start_time": "2021-07-07T18:14:01.833Z"
   },
   {
    "duration": 31,
    "start_time": "2021-07-07T18:14:01.869Z"
   },
   {
    "duration": 37,
    "start_time": "2021-07-07T18:14:01.902Z"
   },
   {
    "duration": 8,
    "start_time": "2021-07-07T18:14:01.942Z"
   },
   {
    "duration": 16,
    "start_time": "2021-07-07T18:14:01.952Z"
   },
   {
    "duration": 13,
    "start_time": "2021-07-07T18:14:01.970Z"
   },
   {
    "duration": 32,
    "start_time": "2021-07-07T18:14:01.985Z"
   },
   {
    "duration": 11,
    "start_time": "2021-07-07T18:14:02.019Z"
   },
   {
    "duration": 22,
    "start_time": "2021-07-07T18:14:02.031Z"
   },
   {
    "duration": 27,
    "start_time": "2021-07-07T18:14:02.055Z"
   },
   {
    "duration": 18,
    "start_time": "2021-07-07T18:14:02.084Z"
   },
   {
    "duration": 18,
    "start_time": "2021-07-07T18:14:02.106Z"
   },
   {
    "duration": 11,
    "start_time": "2021-07-07T18:14:02.126Z"
   },
   {
    "duration": 21,
    "start_time": "2021-07-07T18:14:02.138Z"
   },
   {
    "duration": 32,
    "start_time": "2021-07-07T18:14:02.161Z"
   },
   {
    "duration": 28,
    "start_time": "2021-07-07T18:14:44.295Z"
   },
   {
    "duration": 6,
    "start_time": "2021-07-07T18:15:05.834Z"
   },
   {
    "duration": 511,
    "start_time": "2021-07-07T18:15:41.541Z"
   },
   {
    "duration": 183,
    "start_time": "2021-07-07T18:15:42.054Z"
   },
   {
    "duration": 50,
    "start_time": "2021-07-07T18:15:42.239Z"
   },
   {
    "duration": 5,
    "start_time": "2021-07-07T18:15:42.291Z"
   },
   {
    "duration": 48,
    "start_time": "2021-07-07T18:15:42.297Z"
   },
   {
    "duration": 8,
    "start_time": "2021-07-07T18:15:42.346Z"
   },
   {
    "duration": 17,
    "start_time": "2021-07-07T18:15:42.356Z"
   },
   {
    "duration": 15,
    "start_time": "2021-07-07T18:15:42.375Z"
   },
   {
    "duration": 12,
    "start_time": "2021-07-07T18:15:42.392Z"
   },
   {
    "duration": 7,
    "start_time": "2021-07-07T18:15:42.406Z"
   },
   {
    "duration": 7,
    "start_time": "2021-07-07T18:15:42.415Z"
   },
   {
    "duration": 29,
    "start_time": "2021-07-07T18:15:42.423Z"
   },
   {
    "duration": 43,
    "start_time": "2021-07-07T18:15:42.453Z"
   },
   {
    "duration": 18,
    "start_time": "2021-07-07T18:15:42.497Z"
   },
   {
    "duration": 6,
    "start_time": "2021-07-07T18:15:42.516Z"
   },
   {
    "duration": 3,
    "start_time": "2021-07-07T18:15:42.523Z"
   },
   {
    "duration": 18,
    "start_time": "2021-07-07T18:15:42.528Z"
   },
   {
    "duration": 10,
    "start_time": "2021-07-07T18:15:42.547Z"
   },
   {
    "duration": 36,
    "start_time": "2021-07-07T18:15:42.559Z"
   },
   {
    "duration": 8,
    "start_time": "2021-07-07T18:15:42.597Z"
   },
   {
    "duration": 28,
    "start_time": "2021-07-07T18:15:42.606Z"
   },
   {
    "duration": 52,
    "start_time": "2021-07-07T18:15:42.635Z"
   },
   {
    "duration": 7,
    "start_time": "2021-07-07T18:15:42.690Z"
   },
   {
    "duration": 10,
    "start_time": "2021-07-07T18:15:42.699Z"
   },
   {
    "duration": 19,
    "start_time": "2021-07-07T18:15:42.711Z"
   },
   {
    "duration": 9,
    "start_time": "2021-07-07T18:15:42.732Z"
   },
   {
    "duration": 5,
    "start_time": "2021-07-07T18:15:42.743Z"
   },
   {
    "duration": 1450,
    "start_time": "2021-07-07T18:15:51.984Z"
   },
   {
    "duration": 161,
    "start_time": "2021-07-07T18:15:53.435Z"
   },
   {
    "duration": 124,
    "start_time": "2021-07-07T18:15:53.598Z"
   },
   {
    "duration": 5,
    "start_time": "2021-07-07T18:15:53.724Z"
   },
   {
    "duration": 34,
    "start_time": "2021-07-07T18:15:53.730Z"
   },
   {
    "duration": 7,
    "start_time": "2021-07-07T18:15:53.765Z"
   },
   {
    "duration": 15,
    "start_time": "2021-07-07T18:15:53.773Z"
   },
   {
    "duration": 5,
    "start_time": "2021-07-07T18:15:53.791Z"
   },
   {
    "duration": 19,
    "start_time": "2021-07-07T18:15:53.798Z"
   },
   {
    "duration": 9,
    "start_time": "2021-07-07T18:15:53.818Z"
   },
   {
    "duration": 19,
    "start_time": "2021-07-07T18:15:53.828Z"
   },
   {
    "duration": 27,
    "start_time": "2021-07-07T18:15:53.848Z"
   },
   {
    "duration": 16,
    "start_time": "2021-07-07T18:15:53.884Z"
   },
   {
    "duration": 29,
    "start_time": "2021-07-07T18:15:53.901Z"
   },
   {
    "duration": 5,
    "start_time": "2021-07-07T18:15:53.932Z"
   },
   {
    "duration": 15,
    "start_time": "2021-07-07T18:15:53.939Z"
   },
   {
    "duration": 13,
    "start_time": "2021-07-07T18:15:53.956Z"
   },
   {
    "duration": 20,
    "start_time": "2021-07-07T18:15:53.971Z"
   },
   {
    "duration": 14,
    "start_time": "2021-07-07T18:15:53.992Z"
   },
   {
    "duration": 9,
    "start_time": "2021-07-07T18:15:54.009Z"
   },
   {
    "duration": 28,
    "start_time": "2021-07-07T18:15:54.020Z"
   },
   {
    "duration": 50,
    "start_time": "2021-07-07T18:15:54.051Z"
   },
   {
    "duration": 8,
    "start_time": "2021-07-07T18:15:54.105Z"
   },
   {
    "duration": 11,
    "start_time": "2021-07-07T18:15:54.115Z"
   },
   {
    "duration": 20,
    "start_time": "2021-07-07T18:15:54.128Z"
   },
   {
    "duration": 13,
    "start_time": "2021-07-07T18:15:54.184Z"
   },
   {
    "duration": 7,
    "start_time": "2021-07-07T18:15:54.199Z"
   },
   {
    "duration": 7,
    "start_time": "2021-07-07T18:17:08.042Z"
   },
   {
    "duration": 8,
    "start_time": "2021-07-07T18:17:21.008Z"
   },
   {
    "duration": 7,
    "start_time": "2021-07-07T18:17:29.003Z"
   },
   {
    "duration": 8,
    "start_time": "2021-07-07T18:17:32.492Z"
   },
   {
    "duration": 9,
    "start_time": "2021-07-07T18:17:41.758Z"
   },
   {
    "duration": 255,
    "start_time": "2021-07-07T18:20:20.897Z"
   },
   {
    "duration": 173,
    "start_time": "2021-07-07T18:20:26.636Z"
   },
   {
    "duration": 7,
    "start_time": "2021-07-07T18:21:47.164Z"
   },
   {
    "duration": 254,
    "start_time": "2021-07-07T18:23:08.703Z"
   },
   {
    "duration": 21,
    "start_time": "2021-07-07T18:23:22.506Z"
   },
   {
    "duration": 315,
    "start_time": "2021-07-07T18:25:54.801Z"
   },
   {
    "duration": 34,
    "start_time": "2021-07-07T18:26:51.817Z"
   },
   {
    "duration": 327,
    "start_time": "2021-07-07T18:26:56.147Z"
   },
   {
    "duration": 342,
    "start_time": "2021-07-07T18:27:15.887Z"
   },
   {
    "duration": 302,
    "start_time": "2021-07-07T18:28:18.569Z"
   },
   {
    "duration": 226,
    "start_time": "2021-07-07T18:29:20.879Z"
   },
   {
    "duration": 207,
    "start_time": "2021-07-07T18:29:58.114Z"
   },
   {
    "duration": 140,
    "start_time": "2021-07-07T18:32:04.372Z"
   },
   {
    "duration": 158,
    "start_time": "2021-07-07T18:32:32.508Z"
   },
   {
    "duration": 145,
    "start_time": "2021-07-07T18:32:41.365Z"
   },
   {
    "duration": 132,
    "start_time": "2021-07-07T18:32:45.199Z"
   },
   {
    "duration": 11,
    "start_time": "2021-07-07T18:35:24.679Z"
   },
   {
    "duration": 268,
    "start_time": "2021-07-07T18:36:16.145Z"
   },
   {
    "duration": 227,
    "start_time": "2021-07-07T18:37:04.918Z"
   },
   {
    "duration": 3,
    "start_time": "2021-07-07T18:37:33.012Z"
   },
   {
    "duration": 671,
    "start_time": "2021-07-07T18:37:38.295Z"
   },
   {
    "duration": 54,
    "start_time": "2021-07-07T18:37:53.406Z"
   },
   {
    "duration": 631,
    "start_time": "2021-07-07T18:37:56.463Z"
   },
   {
    "duration": 19,
    "start_time": "2021-07-07T18:39:40.535Z"
   },
   {
    "duration": 20,
    "start_time": "2021-07-07T18:40:12.236Z"
   },
   {
    "duration": 633,
    "start_time": "2021-07-07T18:42:00.398Z"
   },
   {
    "duration": 218,
    "start_time": "2021-07-07T18:42:01.033Z"
   },
   {
    "duration": 49,
    "start_time": "2021-07-07T18:42:01.253Z"
   },
   {
    "duration": 5,
    "start_time": "2021-07-07T18:42:01.303Z"
   },
   {
    "duration": 27,
    "start_time": "2021-07-07T18:42:01.310Z"
   },
   {
    "duration": 8,
    "start_time": "2021-07-07T18:42:01.339Z"
   },
   {
    "duration": 20,
    "start_time": "2021-07-07T18:42:01.348Z"
   },
   {
    "duration": 6,
    "start_time": "2021-07-07T18:42:01.386Z"
   },
   {
    "duration": 16,
    "start_time": "2021-07-07T18:42:01.394Z"
   },
   {
    "duration": 9,
    "start_time": "2021-07-07T18:42:01.411Z"
   },
   {
    "duration": 11,
    "start_time": "2021-07-07T18:42:01.421Z"
   },
   {
    "duration": 31,
    "start_time": "2021-07-07T18:42:01.434Z"
   },
   {
    "duration": 18,
    "start_time": "2021-07-07T18:42:01.485Z"
   },
   {
    "duration": 23,
    "start_time": "2021-07-07T18:42:01.505Z"
   },
   {
    "duration": 6,
    "start_time": "2021-07-07T18:42:01.530Z"
   },
   {
    "duration": 10,
    "start_time": "2021-07-07T18:42:01.538Z"
   },
   {
    "duration": 13,
    "start_time": "2021-07-07T18:42:01.550Z"
   },
   {
    "duration": 24,
    "start_time": "2021-07-07T18:42:01.564Z"
   },
   {
    "duration": 20,
    "start_time": "2021-07-07T18:42:01.590Z"
   },
   {
    "duration": 8,
    "start_time": "2021-07-07T18:42:01.611Z"
   },
   {
    "duration": 31,
    "start_time": "2021-07-07T18:42:01.620Z"
   },
   {
    "duration": 39,
    "start_time": "2021-07-07T18:42:01.653Z"
   },
   {
    "duration": 8,
    "start_time": "2021-07-07T18:42:01.696Z"
   },
   {
    "duration": 13,
    "start_time": "2021-07-07T18:42:01.705Z"
   },
   {
    "duration": 20,
    "start_time": "2021-07-07T18:42:01.720Z"
   },
   {
    "duration": 12,
    "start_time": "2021-07-07T18:42:01.741Z"
   },
   {
    "duration": 35,
    "start_time": "2021-07-07T18:42:01.755Z"
   },
   {
    "duration": 14,
    "start_time": "2021-07-07T18:42:01.792Z"
   },
   {
    "duration": 188,
    "start_time": "2021-07-07T18:42:01.808Z"
   },
   {
    "duration": 19,
    "start_time": "2021-07-07T18:42:01.998Z"
   },
   {
    "duration": 175,
    "start_time": "2021-07-07T18:42:02.019Z"
   },
   {
    "duration": 134,
    "start_time": "2021-07-07T18:42:02.196Z"
   },
   {
    "duration": 10,
    "start_time": "2021-07-07T18:42:02.331Z"
   },
   {
    "duration": 19,
    "start_time": "2021-07-07T18:42:02.343Z"
   },
   {
    "duration": 628,
    "start_time": "2021-07-07T18:46:30.701Z"
   },
   {
    "duration": 183,
    "start_time": "2021-07-07T18:46:31.331Z"
   },
   {
    "duration": 48,
    "start_time": "2021-07-07T18:46:31.516Z"
   },
   {
    "duration": 5,
    "start_time": "2021-07-07T18:46:31.566Z"
   },
   {
    "duration": 28,
    "start_time": "2021-07-07T18:46:31.572Z"
   },
   {
    "duration": 8,
    "start_time": "2021-07-07T18:46:31.602Z"
   },
   {
    "duration": 19,
    "start_time": "2021-07-07T18:46:31.611Z"
   },
   {
    "duration": 6,
    "start_time": "2021-07-07T18:46:31.633Z"
   },
   {
    "duration": 17,
    "start_time": "2021-07-07T18:46:31.642Z"
   },
   {
    "duration": 10,
    "start_time": "2021-07-07T18:46:31.684Z"
   },
   {
    "duration": 9,
    "start_time": "2021-07-07T18:46:31.695Z"
   },
   {
    "duration": 28,
    "start_time": "2021-07-07T18:46:31.705Z"
   },
   {
    "duration": 18,
    "start_time": "2021-07-07T18:46:31.735Z"
   },
   {
    "duration": 48,
    "start_time": "2021-07-07T18:46:31.755Z"
   },
   {
    "duration": 6,
    "start_time": "2021-07-07T18:46:31.804Z"
   },
   {
    "duration": 4,
    "start_time": "2021-07-07T18:46:31.812Z"
   },
   {
    "duration": 9,
    "start_time": "2021-07-07T18:46:31.817Z"
   },
   {
    "duration": 10,
    "start_time": "2021-07-07T18:46:31.827Z"
   },
   {
    "duration": 12,
    "start_time": "2021-07-07T18:46:31.838Z"
   },
   {
    "duration": 39,
    "start_time": "2021-07-07T18:46:31.851Z"
   },
   {
    "duration": 24,
    "start_time": "2021-07-07T18:46:31.892Z"
   },
   {
    "duration": 15,
    "start_time": "2021-07-07T18:46:31.918Z"
   },
   {
    "duration": 7,
    "start_time": "2021-07-07T18:46:31.936Z"
   },
   {
    "duration": 8,
    "start_time": "2021-07-07T18:46:31.944Z"
   },
   {
    "duration": 19,
    "start_time": "2021-07-07T18:46:31.984Z"
   },
   {
    "duration": 10,
    "start_time": "2021-07-07T18:46:32.004Z"
   },
   {
    "duration": 5,
    "start_time": "2021-07-07T18:46:32.016Z"
   },
   {
    "duration": 9,
    "start_time": "2021-07-07T18:46:32.023Z"
   },
   {
    "duration": 199,
    "start_time": "2021-07-07T18:46:32.033Z"
   },
   {
    "duration": 19,
    "start_time": "2021-07-07T18:46:32.234Z"
   },
   {
    "duration": 159,
    "start_time": "2021-07-07T18:46:32.255Z"
   },
   {
    "duration": 134,
    "start_time": "2021-07-07T18:46:32.416Z"
   },
   {
    "duration": 10,
    "start_time": "2021-07-07T18:46:32.552Z"
   },
   {
    "duration": 34,
    "start_time": "2021-07-07T18:46:32.563Z"
   },
   {
    "duration": 1039,
    "start_time": "2021-07-08T08:41:09.419Z"
   },
   {
    "duration": 333,
    "start_time": "2021-07-08T08:41:10.459Z"
   },
   {
    "duration": 173,
    "start_time": "2021-07-08T08:41:10.794Z"
   },
   {
    "duration": 5,
    "start_time": "2021-07-08T08:41:10.968Z"
   },
   {
    "duration": 25,
    "start_time": "2021-07-08T08:41:10.975Z"
   },
   {
    "duration": 9,
    "start_time": "2021-07-08T08:41:11.002Z"
   },
   {
    "duration": 18,
    "start_time": "2021-07-08T08:41:11.013Z"
   },
   {
    "duration": 6,
    "start_time": "2021-07-08T08:41:11.033Z"
   },
   {
    "duration": 44,
    "start_time": "2021-07-08T08:41:11.042Z"
   },
   {
    "duration": 10,
    "start_time": "2021-07-08T08:41:11.088Z"
   },
   {
    "duration": 9,
    "start_time": "2021-07-08T08:41:11.100Z"
   },
   {
    "duration": 27,
    "start_time": "2021-07-08T08:41:11.111Z"
   },
   {
    "duration": 46,
    "start_time": "2021-07-08T08:41:11.140Z"
   },
   {
    "duration": 17,
    "start_time": "2021-07-08T08:41:11.187Z"
   },
   {
    "duration": 6,
    "start_time": "2021-07-08T08:41:11.206Z"
   },
   {
    "duration": 5,
    "start_time": "2021-07-08T08:41:11.213Z"
   },
   {
    "duration": 10,
    "start_time": "2021-07-08T08:41:11.219Z"
   },
   {
    "duration": 9,
    "start_time": "2021-07-08T08:41:11.230Z"
   },
   {
    "duration": 45,
    "start_time": "2021-07-08T08:41:11.241Z"
   },
   {
    "duration": 7,
    "start_time": "2021-07-08T08:41:11.287Z"
   },
   {
    "duration": 24,
    "start_time": "2021-07-08T08:41:11.296Z"
   },
   {
    "duration": 16,
    "start_time": "2021-07-08T08:41:11.322Z"
   },
   {
    "duration": 7,
    "start_time": "2021-07-08T08:41:11.341Z"
   },
   {
    "duration": 41,
    "start_time": "2021-07-08T08:41:11.349Z"
   },
   {
    "duration": 17,
    "start_time": "2021-07-08T08:41:11.391Z"
   },
   {
    "duration": 9,
    "start_time": "2021-07-08T08:41:11.410Z"
   },
   {
    "duration": 5,
    "start_time": "2021-07-08T08:41:11.421Z"
   },
   {
    "duration": 6,
    "start_time": "2021-07-08T08:41:11.428Z"
   },
   {
    "duration": 198,
    "start_time": "2021-07-08T08:41:11.435Z"
   },
   {
    "duration": 18,
    "start_time": "2021-07-08T08:41:11.635Z"
   },
   {
    "duration": 155,
    "start_time": "2021-07-08T08:41:11.655Z"
   },
   {
    "duration": 138,
    "start_time": "2021-07-08T08:41:11.811Z"
   },
   {
    "duration": 10,
    "start_time": "2021-07-08T08:41:11.950Z"
   },
   {
    "duration": 29,
    "start_time": "2021-07-08T08:41:11.961Z"
   },
   {
    "duration": 171,
    "start_time": "2021-07-08T08:47:44.522Z"
   },
   {
    "duration": 124,
    "start_time": "2021-07-08T08:47:46.872Z"
   },
   {
    "duration": 191,
    "start_time": "2021-07-08T08:47:58.148Z"
   },
   {
    "duration": 191,
    "start_time": "2021-07-08T08:48:07.412Z"
   },
   {
    "duration": 261,
    "start_time": "2021-07-08T08:48:10.385Z"
   },
   {
    "duration": 255,
    "start_time": "2021-07-08T08:48:14.494Z"
   },
   {
    "duration": 219,
    "start_time": "2021-07-08T08:48:22.752Z"
   },
   {
    "duration": 173,
    "start_time": "2021-07-08T08:49:06.395Z"
   },
   {
    "duration": 180,
    "start_time": "2021-07-08T08:49:21.011Z"
   },
   {
    "duration": 6,
    "start_time": "2021-07-08T08:50:31.697Z"
   },
   {
    "duration": 10,
    "start_time": "2021-07-08T08:50:47.394Z"
   },
   {
    "duration": 11,
    "start_time": "2021-07-08T08:53:49.332Z"
   },
   {
    "duration": 171,
    "start_time": "2021-07-08T08:54:28.408Z"
   },
   {
    "duration": 636,
    "start_time": "2021-07-08T09:02:48.385Z"
   },
   {
    "duration": 227,
    "start_time": "2021-07-08T09:02:49.023Z"
   },
   {
    "duration": 104,
    "start_time": "2021-07-08T09:02:49.252Z"
   },
   {
    "duration": 5,
    "start_time": "2021-07-08T09:02:49.358Z"
   },
   {
    "duration": 27,
    "start_time": "2021-07-08T09:02:49.365Z"
   },
   {
    "duration": 8,
    "start_time": "2021-07-08T09:02:49.394Z"
   },
   {
    "duration": 18,
    "start_time": "2021-07-08T09:02:49.404Z"
   },
   {
    "duration": 6,
    "start_time": "2021-07-08T09:02:49.424Z"
   },
   {
    "duration": 11,
    "start_time": "2021-07-08T09:02:49.433Z"
   },
   {
    "duration": 13,
    "start_time": "2021-07-08T09:02:49.485Z"
   },
   {
    "duration": 9,
    "start_time": "2021-07-08T09:02:49.500Z"
   },
   {
    "duration": 38,
    "start_time": "2021-07-08T09:02:49.511Z"
   },
   {
    "duration": 42,
    "start_time": "2021-07-08T09:02:49.551Z"
   },
   {
    "duration": 21,
    "start_time": "2021-07-08T09:02:49.594Z"
   },
   {
    "duration": 6,
    "start_time": "2021-07-08T09:02:49.616Z"
   },
   {
    "duration": 3,
    "start_time": "2021-07-08T09:02:49.623Z"
   },
   {
    "duration": 9,
    "start_time": "2021-07-08T09:02:49.628Z"
   },
   {
    "duration": 52,
    "start_time": "2021-07-08T09:02:49.638Z"
   },
   {
    "duration": 11,
    "start_time": "2021-07-08T09:02:49.692Z"
   },
   {
    "duration": 8,
    "start_time": "2021-07-08T09:02:49.704Z"
   },
   {
    "duration": 27,
    "start_time": "2021-07-08T09:02:49.713Z"
   },
   {
    "duration": 59,
    "start_time": "2021-07-08T09:02:49.741Z"
   },
   {
    "duration": 8,
    "start_time": "2021-07-08T09:02:49.803Z"
   },
   {
    "duration": 14,
    "start_time": "2021-07-08T09:02:49.813Z"
   },
   {
    "duration": 20,
    "start_time": "2021-07-08T09:02:49.829Z"
   },
   {
    "duration": 44,
    "start_time": "2021-07-08T09:02:49.851Z"
   },
   {
    "duration": 14,
    "start_time": "2021-07-08T09:02:49.896Z"
   },
   {
    "duration": 221,
    "start_time": "2021-07-08T09:02:49.912Z"
   },
   {
    "duration": 6,
    "start_time": "2021-07-08T09:02:50.134Z"
   },
   {
    "duration": 206,
    "start_time": "2021-07-08T09:02:50.142Z"
   },
   {
    "duration": 19,
    "start_time": "2021-07-08T09:02:50.350Z"
   },
   {
    "duration": 21,
    "start_time": "2021-07-08T09:02:50.370Z"
   },
   {
    "duration": 20,
    "start_time": "2021-07-08T09:02:50.393Z"
   },
   {
    "duration": 5,
    "start_time": "2021-07-08T09:02:50.414Z"
   },
   {
    "duration": 5,
    "start_time": "2021-07-08T09:03:34.173Z"
   },
   {
    "duration": 6,
    "start_time": "2021-07-08T09:04:49.062Z"
   },
   {
    "duration": 9,
    "start_time": "2021-07-08T09:04:50.118Z"
   },
   {
    "duration": 14,
    "start_time": "2021-07-08T09:04:58.512Z"
   },
   {
    "duration": 9,
    "start_time": "2021-07-08T09:05:10.988Z"
   },
   {
    "duration": 11,
    "start_time": "2021-07-08T09:05:11.743Z"
   },
   {
    "duration": 7,
    "start_time": "2021-07-08T09:05:25.677Z"
   },
   {
    "duration": 13,
    "start_time": "2021-07-08T09:05:47.189Z"
   },
   {
    "duration": 13,
    "start_time": "2021-07-08T09:05:54.755Z"
   },
   {
    "duration": 4,
    "start_time": "2021-07-08T09:06:29.189Z"
   },
   {
    "duration": 244,
    "start_time": "2021-07-08T09:06:29.195Z"
   },
   {
    "duration": 91,
    "start_time": "2021-07-08T09:06:29.441Z"
   },
   {
    "duration": 4,
    "start_time": "2021-07-08T09:06:29.534Z"
   },
   {
    "duration": 28,
    "start_time": "2021-07-08T09:06:29.540Z"
   },
   {
    "duration": 6,
    "start_time": "2021-07-08T09:06:29.570Z"
   },
   {
    "duration": 18,
    "start_time": "2021-07-08T09:06:29.578Z"
   },
   {
    "duration": 5,
    "start_time": "2021-07-08T09:06:29.597Z"
   },
   {
    "duration": 13,
    "start_time": "2021-07-08T09:06:29.605Z"
   },
   {
    "duration": 8,
    "start_time": "2021-07-08T09:06:29.620Z"
   },
   {
    "duration": 7,
    "start_time": "2021-07-08T09:06:29.630Z"
   },
   {
    "duration": 63,
    "start_time": "2021-07-08T09:06:29.639Z"
   },
   {
    "duration": 17,
    "start_time": "2021-07-08T09:06:29.704Z"
   },
   {
    "duration": 20,
    "start_time": "2021-07-08T09:06:29.723Z"
   },
   {
    "duration": 6,
    "start_time": "2021-07-08T09:06:29.745Z"
   },
   {
    "duration": 3,
    "start_time": "2021-07-08T09:06:29.752Z"
   },
   {
    "duration": 7,
    "start_time": "2021-07-08T09:06:29.785Z"
   },
   {
    "duration": 11,
    "start_time": "2021-07-08T09:06:29.794Z"
   },
   {
    "duration": 15,
    "start_time": "2021-07-08T09:06:29.807Z"
   },
   {
    "duration": 8,
    "start_time": "2021-07-08T09:06:29.823Z"
   },
   {
    "duration": 70,
    "start_time": "2021-07-08T09:06:29.832Z"
   },
   {
    "duration": 17,
    "start_time": "2021-07-08T09:06:29.903Z"
   },
   {
    "duration": 9,
    "start_time": "2021-07-08T09:06:29.921Z"
   },
   {
    "duration": 9,
    "start_time": "2021-07-08T09:06:29.932Z"
   },
   {
    "duration": 57,
    "start_time": "2021-07-08T09:06:29.942Z"
   },
   {
    "duration": 11,
    "start_time": "2021-07-08T09:06:30.001Z"
   },
   {
    "duration": 19,
    "start_time": "2021-07-08T09:06:30.016Z"
   },
   {
    "duration": 217,
    "start_time": "2021-07-08T09:06:30.037Z"
   },
   {
    "duration": 6,
    "start_time": "2021-07-08T09:06:30.255Z"
   },
   {
    "duration": 205,
    "start_time": "2021-07-08T09:06:30.263Z"
   },
   {
    "duration": 27,
    "start_time": "2021-07-08T09:06:30.470Z"
   },
   {
    "duration": 11,
    "start_time": "2021-07-08T09:06:30.500Z"
   },
   {
    "duration": 31,
    "start_time": "2021-07-08T09:06:30.513Z"
   },
   {
    "duration": 18,
    "start_time": "2021-07-08T09:06:30.546Z"
   },
   {
    "duration": 11,
    "start_time": "2021-07-08T09:06:30.566Z"
   },
   {
    "duration": 19,
    "start_time": "2021-07-08T09:06:30.579Z"
   },
   {
    "duration": 20,
    "start_time": "2021-07-08T09:06:49.466Z"
   },
   {
    "duration": 9,
    "start_time": "2021-07-08T09:06:51.994Z"
   },
   {
    "duration": 20,
    "start_time": "2021-07-08T09:06:52.273Z"
   },
   {
    "duration": 246,
    "start_time": "2021-07-08T09:10:21.272Z"
   },
   {
    "duration": 84,
    "start_time": "2021-07-08T09:10:21.436Z"
   },
   {
    "duration": 7,
    "start_time": "2021-07-08T09:10:37.608Z"
   },
   {
    "duration": 189,
    "start_time": "2021-07-08T09:10:38.573Z"
   },
   {
    "duration": 185,
    "start_time": "2021-07-08T09:10:53.181Z"
   },
   {
    "duration": 11,
    "start_time": "2021-07-08T09:10:59.549Z"
   },
   {
    "duration": 42,
    "start_time": "2021-07-08T09:10:59.709Z"
   },
   {
    "duration": 12,
    "start_time": "2021-07-08T09:11:02.857Z"
   },
   {
    "duration": 28,
    "start_time": "2021-07-08T09:11:10.062Z"
   },
   {
    "duration": 249,
    "start_time": "2021-07-08T09:11:37.388Z"
   },
   {
    "duration": 232,
    "start_time": "2021-07-08T09:11:49.485Z"
   },
   {
    "duration": 453,
    "start_time": "2021-07-08T09:12:01.546Z"
   },
   {
    "duration": 440,
    "start_time": "2021-07-08T09:12:12.347Z"
   },
   {
    "duration": 213,
    "start_time": "2021-07-08T09:13:32.196Z"
   },
   {
    "duration": 172,
    "start_time": "2021-07-08T09:14:07.400Z"
   },
   {
    "duration": 185,
    "start_time": "2021-07-08T09:14:14.905Z"
   },
   {
    "duration": 209,
    "start_time": "2021-07-08T09:14:40.109Z"
   },
   {
    "duration": 201,
    "start_time": "2021-07-08T09:14:54.506Z"
   },
   {
    "duration": 622,
    "start_time": "2021-07-08T09:18:14.497Z"
   },
   {
    "duration": 220,
    "start_time": "2021-07-08T09:18:15.121Z"
   },
   {
    "duration": 79,
    "start_time": "2021-07-08T09:18:15.343Z"
   },
   {
    "duration": 4,
    "start_time": "2021-07-08T09:18:15.425Z"
   },
   {
    "duration": 24,
    "start_time": "2021-07-08T09:18:15.431Z"
   },
   {
    "duration": 8,
    "start_time": "2021-07-08T09:18:15.457Z"
   },
   {
    "duration": 16,
    "start_time": "2021-07-08T09:18:15.466Z"
   },
   {
    "duration": 5,
    "start_time": "2021-07-08T09:18:15.484Z"
   },
   {
    "duration": 10,
    "start_time": "2021-07-08T09:18:15.493Z"
   },
   {
    "duration": 8,
    "start_time": "2021-07-08T09:18:15.504Z"
   },
   {
    "duration": 7,
    "start_time": "2021-07-08T09:18:15.513Z"
   },
   {
    "duration": 26,
    "start_time": "2021-07-08T09:18:15.522Z"
   },
   {
    "duration": 49,
    "start_time": "2021-07-08T09:18:15.550Z"
   },
   {
    "duration": 21,
    "start_time": "2021-07-08T09:18:15.601Z"
   },
   {
    "duration": 8,
    "start_time": "2021-07-08T09:18:15.624Z"
   },
   {
    "duration": 3,
    "start_time": "2021-07-08T09:18:15.634Z"
   },
   {
    "duration": 8,
    "start_time": "2021-07-08T09:18:15.639Z"
   },
   {
    "duration": 45,
    "start_time": "2021-07-08T09:18:15.649Z"
   },
   {
    "duration": 13,
    "start_time": "2021-07-08T09:18:15.696Z"
   },
   {
    "duration": 10,
    "start_time": "2021-07-08T09:18:15.711Z"
   },
   {
    "duration": 64,
    "start_time": "2021-07-08T09:18:15.722Z"
   },
   {
    "duration": 19,
    "start_time": "2021-07-08T09:18:15.788Z"
   },
   {
    "duration": 9,
    "start_time": "2021-07-08T09:18:15.809Z"
   },
   {
    "duration": 9,
    "start_time": "2021-07-08T09:18:15.820Z"
   },
   {
    "duration": 18,
    "start_time": "2021-07-08T09:18:15.831Z"
   },
   {
    "duration": 43,
    "start_time": "2021-07-08T09:18:15.851Z"
   },
   {
    "duration": 12,
    "start_time": "2021-07-08T09:18:15.897Z"
   },
   {
    "duration": 219,
    "start_time": "2021-07-08T09:18:15.911Z"
   },
   {
    "duration": 8,
    "start_time": "2021-07-08T09:18:16.132Z"
   },
   {
    "duration": 199,
    "start_time": "2021-07-08T09:18:16.141Z"
   },
   {
    "duration": 18,
    "start_time": "2021-07-08T09:18:16.341Z"
   },
   {
    "duration": 24,
    "start_time": "2021-07-08T09:18:16.361Z"
   },
   {
    "duration": 24,
    "start_time": "2021-07-08T09:18:16.387Z"
   },
   {
    "duration": 211,
    "start_time": "2021-07-08T09:18:16.413Z"
   },
   {
    "duration": 18,
    "start_time": "2021-07-08T09:18:16.626Z"
   },
   {
    "duration": 596,
    "start_time": "2021-07-08T10:06:33.623Z"
   },
   {
    "duration": 181,
    "start_time": "2021-07-08T10:06:34.221Z"
   },
   {
    "duration": 176,
    "start_time": "2021-07-08T10:06:34.635Z"
   },
   {
    "duration": 239,
    "start_time": "2021-07-08T10:06:55.572Z"
   },
   {
    "duration": 6,
    "start_time": "2021-07-08T10:06:57.687Z"
   },
   {
    "duration": 4,
    "start_time": "2021-07-08T10:07:03.956Z"
   },
   {
    "duration": 4,
    "start_time": "2021-07-08T10:07:10.376Z"
   },
   {
    "duration": 4,
    "start_time": "2021-07-08T10:17:19.889Z"
   },
   {
    "duration": 3,
    "start_time": "2021-07-08T10:19:19.407Z"
   },
   {
    "duration": 197,
    "start_time": "2021-07-08T10:19:19.412Z"
   },
   {
    "duration": 127,
    "start_time": "2021-07-08T10:19:19.611Z"
   },
   {
    "duration": 4,
    "start_time": "2021-07-08T10:19:19.740Z"
   },
   {
    "duration": 27,
    "start_time": "2021-07-08T10:19:19.746Z"
   },
   {
    "duration": 7,
    "start_time": "2021-07-08T10:19:19.775Z"
   },
   {
    "duration": 30,
    "start_time": "2021-07-08T10:19:19.784Z"
   },
   {
    "duration": 7,
    "start_time": "2021-07-08T10:19:19.817Z"
   },
   {
    "duration": 26,
    "start_time": "2021-07-08T10:19:19.826Z"
   },
   {
    "duration": 18,
    "start_time": "2021-07-08T10:19:19.854Z"
   },
   {
    "duration": 14,
    "start_time": "2021-07-08T10:19:19.874Z"
   },
   {
    "duration": 48,
    "start_time": "2021-07-08T10:19:19.890Z"
   },
   {
    "duration": 17,
    "start_time": "2021-07-08T10:19:19.940Z"
   },
   {
    "duration": 38,
    "start_time": "2021-07-08T10:19:19.959Z"
   },
   {
    "duration": 8,
    "start_time": "2021-07-08T10:19:19.999Z"
   },
   {
    "duration": 15,
    "start_time": "2021-07-08T10:19:20.009Z"
   },
   {
    "duration": 22,
    "start_time": "2021-07-08T10:19:20.026Z"
   },
   {
    "duration": 10,
    "start_time": "2021-07-08T10:19:20.050Z"
   },
   {
    "duration": 10,
    "start_time": "2021-07-08T10:19:20.062Z"
   },
   {
    "duration": 20,
    "start_time": "2021-07-08T10:19:20.073Z"
   },
   {
    "duration": 29,
    "start_time": "2021-07-08T10:19:20.095Z"
   },
   {
    "duration": 17,
    "start_time": "2021-07-08T10:19:20.126Z"
   },
   {
    "duration": 40,
    "start_time": "2021-07-08T10:19:20.146Z"
   },
   {
    "duration": 15,
    "start_time": "2021-07-08T10:19:20.189Z"
   },
   {
    "duration": 19,
    "start_time": "2021-07-08T10:19:20.206Z"
   },
   {
    "duration": 10,
    "start_time": "2021-07-08T10:19:20.226Z"
   },
   {
    "duration": 11,
    "start_time": "2021-07-08T10:19:20.238Z"
   },
   {
    "duration": 297,
    "start_time": "2021-07-08T10:19:20.250Z"
   },
   {
    "duration": 6,
    "start_time": "2021-07-08T10:19:20.549Z"
   },
   {
    "duration": 191,
    "start_time": "2021-07-08T10:19:20.557Z"
   },
   {
    "duration": 19,
    "start_time": "2021-07-08T10:19:20.750Z"
   },
   {
    "duration": 20,
    "start_time": "2021-07-08T10:19:20.771Z"
   },
   {
    "duration": 15,
    "start_time": "2021-07-08T10:19:20.793Z"
   },
   {
    "duration": 222,
    "start_time": "2021-07-08T10:19:20.809Z"
   },
   {
    "duration": 20,
    "start_time": "2021-07-08T10:19:21.033Z"
   },
   {
    "duration": 27,
    "start_time": "2021-07-08T10:45:04.055Z"
   },
   {
    "duration": 8,
    "start_time": "2021-07-08T10:45:08.478Z"
   },
   {
    "duration": 8,
    "start_time": "2021-07-08T10:45:31.982Z"
   },
   {
    "duration": 10,
    "start_time": "2021-07-08T10:46:01.221Z"
   },
   {
    "duration": 17,
    "start_time": "2021-07-08T10:46:40.011Z"
   },
   {
    "duration": 193,
    "start_time": "2021-07-08T10:48:19.471Z"
   },
   {
    "duration": 225,
    "start_time": "2021-07-08T10:49:26.480Z"
   },
   {
    "duration": 204,
    "start_time": "2021-07-08T10:49:59.992Z"
   },
   {
    "duration": 435,
    "start_time": "2021-07-08T10:50:06.779Z"
   },
   {
    "duration": 199,
    "start_time": "2021-07-08T10:50:14.891Z"
   },
   {
    "duration": 204,
    "start_time": "2021-07-08T10:50:18.501Z"
   },
   {
    "duration": 244,
    "start_time": "2021-07-08T10:50:23.359Z"
   },
   {
    "duration": 192,
    "start_time": "2021-07-08T10:50:29.135Z"
   },
   {
    "duration": 218,
    "start_time": "2021-07-08T10:50:33.092Z"
   },
   {
    "duration": 207,
    "start_time": "2021-07-08T10:52:45.381Z"
   },
   {
    "duration": 5,
    "start_time": "2021-07-08T10:53:34.641Z"
   },
   {
    "duration": 196,
    "start_time": "2021-07-08T10:53:41.478Z"
   },
   {
    "duration": 43,
    "start_time": "2021-07-08T10:53:50.335Z"
   },
   {
    "duration": 32,
    "start_time": "2021-07-08T10:53:55.294Z"
   },
   {
    "duration": 55,
    "start_time": "2021-07-08T10:54:09.675Z"
   },
   {
    "duration": 16,
    "start_time": "2021-07-08T10:54:12.260Z"
   },
   {
    "duration": 15,
    "start_time": "2021-07-08T10:54:49.150Z"
   },
   {
    "duration": 20,
    "start_time": "2021-07-08T10:56:07.596Z"
   },
   {
    "duration": 16,
    "start_time": "2021-07-08T10:58:26.276Z"
   },
   {
    "duration": 22,
    "start_time": "2021-07-08T10:59:00.486Z"
   },
   {
    "duration": 18,
    "start_time": "2021-07-08T11:02:09.653Z"
   },
   {
    "duration": 10,
    "start_time": "2021-07-08T11:03:44.331Z"
   },
   {
    "duration": 10,
    "start_time": "2021-07-08T11:03:54.055Z"
   },
   {
    "duration": 12,
    "start_time": "2021-07-08T11:04:41.967Z"
   },
   {
    "duration": 24,
    "start_time": "2021-07-08T11:07:30.732Z"
   },
   {
    "duration": 6,
    "start_time": "2021-07-08T11:07:37.364Z"
   },
   {
    "duration": 16,
    "start_time": "2021-07-08T11:08:01.819Z"
   },
   {
    "duration": 17,
    "start_time": "2021-07-08T11:09:47.488Z"
   },
   {
    "duration": 246,
    "start_time": "2021-07-08T11:10:00.830Z"
   },
   {
    "duration": 18,
    "start_time": "2021-07-08T11:13:55.195Z"
   },
   {
    "duration": 204,
    "start_time": "2021-07-08T11:14:04.951Z"
   },
   {
    "duration": 19,
    "start_time": "2021-07-08T11:15:10.613Z"
   },
   {
    "duration": 680,
    "start_time": "2021-07-08T11:16:25.793Z"
   },
   {
    "duration": 451,
    "start_time": "2021-07-08T11:16:40.313Z"
   },
   {
    "duration": 469,
    "start_time": "2021-07-08T11:17:21.286Z"
   },
   {
    "duration": 20,
    "start_time": "2021-07-08T11:19:12.554Z"
   },
   {
    "duration": 35,
    "start_time": "2021-07-08T11:20:05.484Z"
   },
   {
    "duration": 53,
    "start_time": "2021-07-08T11:21:40.050Z"
   },
   {
    "duration": 13,
    "start_time": "2021-07-08T11:22:26.059Z"
   },
   {
    "duration": 19,
    "start_time": "2021-07-08T11:22:47.419Z"
   },
   {
    "duration": 25,
    "start_time": "2021-07-08T11:23:19.958Z"
   },
   {
    "duration": 29,
    "start_time": "2021-07-08T11:23:25.415Z"
   },
   {
    "duration": 10,
    "start_time": "2021-07-08T11:24:45.138Z"
   },
   {
    "duration": 19,
    "start_time": "2021-07-08T11:24:54.498Z"
   },
   {
    "duration": 12,
    "start_time": "2021-07-08T11:25:32.225Z"
   },
   {
    "duration": 19,
    "start_time": "2021-07-08T11:25:37.092Z"
   },
   {
    "duration": 17,
    "start_time": "2021-07-08T11:25:58.116Z"
   },
   {
    "duration": 15,
    "start_time": "2021-07-08T11:26:02.258Z"
   },
   {
    "duration": 8,
    "start_time": "2021-07-08T11:26:59.682Z"
   },
   {
    "duration": 184,
    "start_time": "2021-07-08T11:27:21.894Z"
   },
   {
    "duration": 8,
    "start_time": "2021-07-08T11:27:23.824Z"
   },
   {
    "duration": 202,
    "start_time": "2021-07-08T11:27:23.962Z"
   },
   {
    "duration": 360,
    "start_time": "2021-07-08T11:28:33.215Z"
   },
   {
    "duration": 231,
    "start_time": "2021-07-08T11:32:05.542Z"
   },
   {
    "duration": 607,
    "start_time": "2021-07-08T11:36:27.854Z"
   },
   {
    "duration": 241,
    "start_time": "2021-07-08T11:36:28.463Z"
   },
   {
    "duration": 67,
    "start_time": "2021-07-08T11:36:28.709Z"
   },
   {
    "duration": 5,
    "start_time": "2021-07-08T11:36:28.778Z"
   },
   {
    "duration": 32,
    "start_time": "2021-07-08T11:36:28.784Z"
   },
   {
    "duration": 11,
    "start_time": "2021-07-08T11:36:28.819Z"
   },
   {
    "duration": 20,
    "start_time": "2021-07-08T11:36:28.834Z"
   },
   {
    "duration": 36,
    "start_time": "2021-07-08T11:36:28.857Z"
   },
   {
    "duration": 16,
    "start_time": "2021-07-08T11:36:28.895Z"
   },
   {
    "duration": 14,
    "start_time": "2021-07-08T11:36:28.913Z"
   },
   {
    "duration": 9,
    "start_time": "2021-07-08T11:36:28.930Z"
   },
   {
    "duration": 55,
    "start_time": "2021-07-08T11:36:28.941Z"
   },
   {
    "duration": 27,
    "start_time": "2021-07-08T11:36:28.999Z"
   },
   {
    "duration": 30,
    "start_time": "2021-07-08T11:36:29.028Z"
   },
   {
    "duration": 31,
    "start_time": "2021-07-08T11:36:29.060Z"
   },
   {
    "duration": 3,
    "start_time": "2021-07-08T11:36:29.093Z"
   },
   {
    "duration": 12,
    "start_time": "2021-07-08T11:36:29.099Z"
   },
   {
    "duration": 11,
    "start_time": "2021-07-08T11:36:29.112Z"
   },
   {
    "duration": 12,
    "start_time": "2021-07-08T11:36:29.125Z"
   },
   {
    "duration": 9,
    "start_time": "2021-07-08T11:36:29.139Z"
   },
   {
    "duration": 31,
    "start_time": "2021-07-08T11:36:29.191Z"
   },
   {
    "duration": 17,
    "start_time": "2021-07-08T11:36:29.226Z"
   },
   {
    "duration": 7,
    "start_time": "2021-07-08T11:36:29.245Z"
   },
   {
    "duration": 10,
    "start_time": "2021-07-08T11:36:29.254Z"
   },
   {
    "duration": 30,
    "start_time": "2021-07-08T11:36:29.292Z"
   },
   {
    "duration": 11,
    "start_time": "2021-07-08T11:36:29.324Z"
   },
   {
    "duration": 11,
    "start_time": "2021-07-08T11:36:29.337Z"
   },
   {
    "duration": 230,
    "start_time": "2021-07-08T11:36:29.349Z"
   },
   {
    "duration": 13,
    "start_time": "2021-07-08T11:36:29.588Z"
   },
   {
    "duration": 205,
    "start_time": "2021-07-08T11:36:29.603Z"
   },
   {
    "duration": 20,
    "start_time": "2021-07-08T11:36:29.810Z"
   },
   {
    "duration": 9,
    "start_time": "2021-07-08T11:36:29.832Z"
   },
   {
    "duration": 16,
    "start_time": "2021-07-08T11:36:29.843Z"
   },
   {
    "duration": 283,
    "start_time": "2021-07-08T11:36:29.861Z"
   },
   {
    "duration": 50,
    "start_time": "2021-07-08T11:36:30.146Z"
   },
   {
    "duration": 14,
    "start_time": "2021-07-08T11:36:30.198Z"
   },
   {
    "duration": 11,
    "start_time": "2021-07-08T11:36:30.214Z"
   },
   {
    "duration": 245,
    "start_time": "2021-07-08T11:36:30.227Z"
   },
   {
    "duration": 439,
    "start_time": "2021-07-08T11:36:30.474Z"
   },
   {
    "duration": 210,
    "start_time": "2021-07-08T11:36:30.915Z"
   },
   {
    "duration": 15,
    "start_time": "2021-07-08T11:36:31.127Z"
   },
   {
    "duration": 17,
    "start_time": "2021-07-08T11:38:20.451Z"
   },
   {
    "duration": 642,
    "start_time": "2021-07-08T11:46:17.881Z"
   },
   {
    "duration": 210,
    "start_time": "2021-07-08T11:46:18.525Z"
   },
   {
    "duration": 104,
    "start_time": "2021-07-08T11:46:18.741Z"
   },
   {
    "duration": 8,
    "start_time": "2021-07-08T11:46:18.847Z"
   },
   {
    "duration": 25,
    "start_time": "2021-07-08T11:46:18.857Z"
   },
   {
    "duration": 14,
    "start_time": "2021-07-08T11:46:18.884Z"
   },
   {
    "duration": 22,
    "start_time": "2021-07-08T11:46:18.900Z"
   },
   {
    "duration": 5,
    "start_time": "2021-07-08T11:46:18.924Z"
   },
   {
    "duration": 13,
    "start_time": "2021-07-08T11:46:18.931Z"
   },
   {
    "duration": 45,
    "start_time": "2021-07-08T11:46:18.946Z"
   },
   {
    "duration": 12,
    "start_time": "2021-07-08T11:46:18.993Z"
   },
   {
    "duration": 38,
    "start_time": "2021-07-08T11:46:19.006Z"
   },
   {
    "duration": 50,
    "start_time": "2021-07-08T11:46:19.046Z"
   },
   {
    "duration": 29,
    "start_time": "2021-07-08T11:46:19.099Z"
   },
   {
    "duration": 7,
    "start_time": "2021-07-08T11:46:19.130Z"
   },
   {
    "duration": 3,
    "start_time": "2021-07-08T11:46:19.139Z"
   },
   {
    "duration": 11,
    "start_time": "2021-07-08T11:46:19.144Z"
   },
   {
    "duration": 40,
    "start_time": "2021-07-08T11:46:19.157Z"
   },
   {
    "duration": 15,
    "start_time": "2021-07-08T11:46:19.199Z"
   },
   {
    "duration": 10,
    "start_time": "2021-07-08T11:46:19.217Z"
   },
   {
    "duration": 68,
    "start_time": "2021-07-08T11:46:19.230Z"
   },
   {
    "duration": 17,
    "start_time": "2021-07-08T11:46:19.301Z"
   },
   {
    "duration": 7,
    "start_time": "2021-07-08T11:46:19.321Z"
   },
   {
    "duration": 11,
    "start_time": "2021-07-08T11:46:19.330Z"
   },
   {
    "duration": 59,
    "start_time": "2021-07-08T11:46:19.343Z"
   },
   {
    "duration": 17,
    "start_time": "2021-07-08T11:46:19.405Z"
   },
   {
    "duration": 16,
    "start_time": "2021-07-08T11:46:19.424Z"
   },
   {
    "duration": 252,
    "start_time": "2021-07-08T11:46:19.443Z"
   },
   {
    "duration": 9,
    "start_time": "2021-07-08T11:46:19.697Z"
   },
   {
    "duration": 224,
    "start_time": "2021-07-08T11:46:19.708Z"
   },
   {
    "duration": 21,
    "start_time": "2021-07-08T11:46:19.934Z"
   },
   {
    "duration": 9,
    "start_time": "2021-07-08T11:46:19.956Z"
   },
   {
    "duration": 32,
    "start_time": "2021-07-08T11:46:19.967Z"
   },
   {
    "duration": 288,
    "start_time": "2021-07-08T11:46:20.004Z"
   },
   {
    "duration": 23,
    "start_time": "2021-07-08T11:46:20.300Z"
   },
   {
    "duration": 11,
    "start_time": "2021-07-08T11:46:20.325Z"
   },
   {
    "duration": 11,
    "start_time": "2021-07-08T11:46:20.339Z"
   },
   {
    "duration": 259,
    "start_time": "2021-07-08T11:46:20.352Z"
   },
   {
    "duration": 438,
    "start_time": "2021-07-08T11:46:20.613Z"
   },
   {
    "duration": 207,
    "start_time": "2021-07-08T11:46:21.054Z"
   },
   {
    "duration": 27,
    "start_time": "2021-07-08T11:46:21.262Z"
   },
   {
    "duration": 19,
    "start_time": "2021-07-08T11:46:21.291Z"
   },
   {
    "duration": 820,
    "start_time": "2021-07-08T11:49:01.655Z"
   },
   {
    "duration": 372,
    "start_time": "2021-07-08T11:49:02.478Z"
   },
   {
    "duration": 98,
    "start_time": "2021-07-08T11:49:02.853Z"
   },
   {
    "duration": 6,
    "start_time": "2021-07-08T11:49:02.953Z"
   },
   {
    "duration": 39,
    "start_time": "2021-07-08T11:49:02.960Z"
   },
   {
    "duration": 9,
    "start_time": "2021-07-08T11:49:03.003Z"
   },
   {
    "duration": 23,
    "start_time": "2021-07-08T11:49:03.014Z"
   },
   {
    "duration": 6,
    "start_time": "2021-07-08T11:49:03.041Z"
   },
   {
    "duration": 20,
    "start_time": "2021-07-08T11:49:03.049Z"
   },
   {
    "duration": 18,
    "start_time": "2021-07-08T11:49:03.084Z"
   },
   {
    "duration": 14,
    "start_time": "2021-07-08T11:49:03.104Z"
   },
   {
    "duration": 39,
    "start_time": "2021-07-08T11:49:03.119Z"
   },
   {
    "duration": 38,
    "start_time": "2021-07-08T11:49:03.160Z"
   },
   {
    "duration": 26,
    "start_time": "2021-07-08T11:49:03.200Z"
   },
   {
    "duration": 7,
    "start_time": "2021-07-08T11:49:03.227Z"
   },
   {
    "duration": 4,
    "start_time": "2021-07-08T11:49:03.236Z"
   },
   {
    "duration": 15,
    "start_time": "2021-07-08T11:49:03.243Z"
   },
   {
    "duration": 21,
    "start_time": "2021-07-08T11:49:03.285Z"
   },
   {
    "duration": 17,
    "start_time": "2021-07-08T11:49:03.309Z"
   },
   {
    "duration": 10,
    "start_time": "2021-07-08T11:49:03.328Z"
   },
   {
    "duration": 65,
    "start_time": "2021-07-08T11:49:03.340Z"
   },
   {
    "duration": 18,
    "start_time": "2021-07-08T11:49:03.407Z"
   },
   {
    "duration": 8,
    "start_time": "2021-07-08T11:49:03.428Z"
   },
   {
    "duration": 15,
    "start_time": "2021-07-08T11:49:03.438Z"
   },
   {
    "duration": 40,
    "start_time": "2021-07-08T11:49:03.455Z"
   },
   {
    "duration": 12,
    "start_time": "2021-07-08T11:49:03.497Z"
   },
   {
    "duration": 29,
    "start_time": "2021-07-08T11:49:03.511Z"
   },
   {
    "duration": 285,
    "start_time": "2021-07-08T11:49:03.542Z"
   },
   {
    "duration": 8,
    "start_time": "2021-07-08T11:49:03.829Z"
   },
   {
    "duration": 227,
    "start_time": "2021-07-08T11:49:03.838Z"
   },
   {
    "duration": 40,
    "start_time": "2021-07-08T11:49:04.066Z"
   },
   {
    "duration": 10,
    "start_time": "2021-07-08T11:49:04.108Z"
   },
   {
    "duration": 26,
    "start_time": "2021-07-08T11:49:04.121Z"
   },
   {
    "duration": 290,
    "start_time": "2021-07-08T11:49:04.149Z"
   },
   {
    "duration": 26,
    "start_time": "2021-07-08T11:49:04.441Z"
   },
   {
    "duration": 31,
    "start_time": "2021-07-08T11:49:04.470Z"
   },
   {
    "duration": 14,
    "start_time": "2021-07-08T11:49:04.503Z"
   },
   {
    "duration": 259,
    "start_time": "2021-07-08T11:49:04.521Z"
   },
   {
    "duration": 480,
    "start_time": "2021-07-08T11:49:04.782Z"
   },
   {
    "duration": 225,
    "start_time": "2021-07-08T11:49:05.264Z"
   },
   {
    "duration": 22,
    "start_time": "2021-07-08T11:49:05.491Z"
   },
   {
    "duration": 24,
    "start_time": "2021-07-08T11:49:05.515Z"
   },
   {
    "duration": 634,
    "start_time": "2021-07-08T11:52:24.960Z"
   },
   {
    "duration": 199,
    "start_time": "2021-07-08T11:52:25.599Z"
   },
   {
    "duration": 106,
    "start_time": "2021-07-08T11:52:25.803Z"
   },
   {
    "duration": 7,
    "start_time": "2021-07-08T11:52:25.911Z"
   },
   {
    "duration": 29,
    "start_time": "2021-07-08T11:52:25.920Z"
   },
   {
    "duration": 7,
    "start_time": "2021-07-08T11:52:25.951Z"
   },
   {
    "duration": 26,
    "start_time": "2021-07-08T11:52:25.961Z"
   },
   {
    "duration": 11,
    "start_time": "2021-07-08T11:52:25.990Z"
   },
   {
    "duration": 29,
    "start_time": "2021-07-08T11:52:26.005Z"
   },
   {
    "duration": 9,
    "start_time": "2021-07-08T11:52:26.036Z"
   },
   {
    "duration": 8,
    "start_time": "2021-07-08T11:52:26.047Z"
   },
   {
    "duration": 63,
    "start_time": "2021-07-08T11:52:26.057Z"
   },
   {
    "duration": 17,
    "start_time": "2021-07-08T11:52:26.122Z"
   },
   {
    "duration": 43,
    "start_time": "2021-07-08T11:52:26.142Z"
   },
   {
    "duration": 17,
    "start_time": "2021-07-08T11:52:26.187Z"
   },
   {
    "duration": 5,
    "start_time": "2021-07-08T11:52:26.206Z"
   },
   {
    "duration": 12,
    "start_time": "2021-07-08T11:52:26.212Z"
   },
   {
    "duration": 11,
    "start_time": "2021-07-08T11:52:26.226Z"
   },
   {
    "duration": 12,
    "start_time": "2021-07-08T11:52:26.238Z"
   },
   {
    "duration": 38,
    "start_time": "2021-07-08T11:52:26.252Z"
   },
   {
    "duration": 40,
    "start_time": "2021-07-08T11:52:26.292Z"
   },
   {
    "duration": 17,
    "start_time": "2021-07-08T11:52:26.336Z"
   },
   {
    "duration": 39,
    "start_time": "2021-07-08T11:52:26.355Z"
   },
   {
    "duration": 11,
    "start_time": "2021-07-08T11:52:26.395Z"
   },
   {
    "duration": 23,
    "start_time": "2021-07-08T11:52:26.408Z"
   },
   {
    "duration": 12,
    "start_time": "2021-07-08T11:52:26.432Z"
   },
   {
    "duration": 41,
    "start_time": "2021-07-08T11:52:26.446Z"
   },
   {
    "duration": 215,
    "start_time": "2021-07-08T11:52:26.493Z"
   },
   {
    "duration": 8,
    "start_time": "2021-07-08T11:52:26.710Z"
   },
   {
    "duration": 228,
    "start_time": "2021-07-08T11:52:26.720Z"
   },
   {
    "duration": 18,
    "start_time": "2021-07-08T11:52:26.950Z"
   },
   {
    "duration": 35,
    "start_time": "2021-07-08T11:52:26.969Z"
   },
   {
    "duration": 23,
    "start_time": "2021-07-08T11:52:27.006Z"
   },
   {
    "duration": 258,
    "start_time": "2021-07-08T11:52:27.030Z"
   },
   {
    "duration": 24,
    "start_time": "2021-07-08T11:52:27.290Z"
   },
   {
    "duration": 12,
    "start_time": "2021-07-08T11:52:27.316Z"
   },
   {
    "duration": 10,
    "start_time": "2021-07-08T11:52:27.329Z"
   },
   {
    "duration": 298,
    "start_time": "2021-07-08T11:52:27.341Z"
   },
   {
    "duration": 436,
    "start_time": "2021-07-08T11:52:27.641Z"
   },
   {
    "duration": 216,
    "start_time": "2021-07-08T11:52:28.079Z"
   },
   {
    "duration": 20,
    "start_time": "2021-07-08T11:52:28.297Z"
   },
   {
    "duration": 17,
    "start_time": "2021-07-08T11:52:28.319Z"
   },
   {
    "duration": 1269,
    "start_time": "2022-08-08T08:22:47.573Z"
   },
   {
    "duration": 308,
    "start_time": "2022-08-08T08:23:38.333Z"
   },
   {
    "duration": 89,
    "start_time": "2022-08-08T08:24:14.371Z"
   },
   {
    "duration": 82,
    "start_time": "2022-08-08T08:24:17.152Z"
   },
   {
    "duration": 106,
    "start_time": "2022-08-08T08:24:57.363Z"
   },
   {
    "duration": 652,
    "start_time": "2022-08-08T08:27:06.742Z"
   },
   {
    "duration": 3,
    "start_time": "2022-08-08T08:27:52.193Z"
   },
   {
    "duration": 26,
    "start_time": "2022-08-08T08:29:56.532Z"
   },
   {
    "duration": 11,
    "start_time": "2022-08-08T08:31:00.773Z"
   },
   {
    "duration": 11,
    "start_time": "2022-08-08T08:31:02.652Z"
   },
   {
    "duration": 16,
    "start_time": "2022-08-08T08:31:06.552Z"
   },
   {
    "duration": 8,
    "start_time": "2022-08-08T08:32:05.830Z"
   },
   {
    "duration": 10,
    "start_time": "2022-08-08T08:32:07.140Z"
   },
   {
    "duration": 17,
    "start_time": "2022-08-08T08:32:13.852Z"
   },
   {
    "duration": 13,
    "start_time": "2022-08-08T08:32:17.842Z"
   },
   {
    "duration": 13,
    "start_time": "2022-08-08T08:32:24.213Z"
   },
   {
    "duration": 21,
    "start_time": "2022-08-08T08:32:26.092Z"
   },
   {
    "duration": 10,
    "start_time": "2022-08-08T08:33:24.482Z"
   },
   {
    "duration": 11,
    "start_time": "2022-08-08T08:33:25.780Z"
   },
   {
    "duration": 17,
    "start_time": "2022-08-08T08:33:30.849Z"
   },
   {
    "duration": 14,
    "start_time": "2022-08-08T08:33:32.380Z"
   },
   {
    "duration": 18,
    "start_time": "2022-08-08T08:33:37.382Z"
   },
   {
    "duration": 18,
    "start_time": "2022-08-08T08:33:38.712Z"
   },
   {
    "duration": 113,
    "start_time": "2022-08-08T08:33:57.423Z"
   },
   {
    "duration": 50,
    "start_time": "2022-08-08T08:34:02.221Z"
   },
   {
    "duration": 14,
    "start_time": "2022-08-08T08:34:09.284Z"
   },
   {
    "duration": 5,
    "start_time": "2022-08-08T08:34:18.013Z"
   },
   {
    "duration": 15,
    "start_time": "2022-08-08T08:34:19.715Z"
   },
   {
    "duration": 8,
    "start_time": "2022-08-08T08:35:54.192Z"
   },
   {
    "duration": 13,
    "start_time": "2022-08-08T08:35:56.825Z"
   },
   {
    "duration": 5,
    "start_time": "2022-08-08T08:36:02.152Z"
   },
   {
    "duration": 8,
    "start_time": "2022-08-08T08:36:06.372Z"
   },
   {
    "duration": 8,
    "start_time": "2022-08-08T08:36:13.872Z"
   },
   {
    "duration": 11,
    "start_time": "2022-08-08T08:36:18.552Z"
   },
   {
    "duration": 888,
    "start_time": "2022-08-08T08:36:33.042Z"
   },
   {
    "duration": 836,
    "start_time": "2022-08-08T08:37:33.181Z"
   },
   {
    "duration": 4,
    "start_time": "2022-08-08T08:37:48.794Z"
   },
   {
    "duration": 7,
    "start_time": "2022-08-08T08:38:15.012Z"
   },
   {
    "duration": 7,
    "start_time": "2022-08-08T08:38:26.232Z"
   },
   {
    "duration": 49,
    "start_time": "2022-08-08T08:38:28.827Z"
   },
   {
    "duration": 14,
    "start_time": "2022-08-08T08:38:37.842Z"
   },
   {
    "duration": 16,
    "start_time": "2022-08-08T08:39:23.140Z"
   },
   {
    "duration": 18,
    "start_time": "2022-08-08T08:39:25.193Z"
   },
   {
    "duration": 14,
    "start_time": "2022-08-08T08:40:49.174Z"
   },
   {
    "duration": 27,
    "start_time": "2022-08-08T08:41:19.453Z"
   },
   {
    "duration": 1035,
    "start_time": "2022-08-08T08:48:30.630Z"
   },
   {
    "duration": 1098,
    "start_time": "2022-08-08T08:48:47.214Z"
   },
   {
    "duration": 1150,
    "start_time": "2022-08-08T08:48:58.183Z"
   },
   {
    "duration": 18,
    "start_time": "2022-08-08T08:51:30.492Z"
   },
   {
    "duration": 6,
    "start_time": "2022-08-08T08:51:46.026Z"
   },
   {
    "duration": 6,
    "start_time": "2022-08-08T08:53:34.693Z"
   },
   {
    "duration": 8,
    "start_time": "2022-08-08T08:53:55.593Z"
   },
   {
    "duration": 13,
    "start_time": "2022-08-08T08:57:41.961Z"
   },
   {
    "duration": 85,
    "start_time": "2022-08-08T08:57:54.342Z"
   },
   {
    "duration": 147,
    "start_time": "2022-08-08T08:58:23.464Z"
   },
   {
    "duration": 31,
    "start_time": "2022-08-08T08:58:44.343Z"
   },
   {
    "duration": 13,
    "start_time": "2022-08-08T08:58:59.278Z"
   },
   {
    "duration": 29,
    "start_time": "2022-08-08T09:00:17.776Z"
   },
   {
    "duration": 1398,
    "start_time": "2022-08-08T09:01:08.312Z"
   },
   {
    "duration": 1499,
    "start_time": "2022-08-08T09:01:21.714Z"
   },
   {
    "duration": 15,
    "start_time": "2022-08-08T09:03:42.134Z"
   },
   {
    "duration": 10,
    "start_time": "2022-08-08T09:03:52.773Z"
   },
   {
    "duration": 13,
    "start_time": "2022-08-08T09:04:55.632Z"
   },
   {
    "duration": 29,
    "start_time": "2022-08-08T09:06:16.430Z"
   },
   {
    "duration": 13,
    "start_time": "2022-08-08T09:07:15.233Z"
   },
   {
    "duration": 7,
    "start_time": "2022-08-08T09:08:11.692Z"
   },
   {
    "duration": 26,
    "start_time": "2022-08-08T09:08:25.286Z"
   },
   {
    "duration": 20,
    "start_time": "2022-08-08T09:08:40.522Z"
   },
   {
    "duration": 774,
    "start_time": "2022-08-08T09:09:10.811Z"
   },
   {
    "duration": 8,
    "start_time": "2022-08-08T09:09:56.152Z"
   },
   {
    "duration": 8,
    "start_time": "2022-08-08T09:11:18.142Z"
   },
   {
    "duration": 9,
    "start_time": "2022-08-08T09:11:40.432Z"
   },
   {
    "duration": 8,
    "start_time": "2022-08-08T09:12:04.220Z"
   },
   {
    "duration": 109,
    "start_time": "2022-08-08T09:12:15.782Z"
   },
   {
    "duration": 67,
    "start_time": "2022-08-08T09:12:20.612Z"
   },
   {
    "duration": 51046,
    "start_time": "2022-08-08T09:13:36.312Z"
   },
   {
    "duration": 410,
    "start_time": "2022-08-08T09:14:59.831Z"
   },
   {
    "duration": 11,
    "start_time": "2022-08-08T09:15:07.441Z"
   },
   {
    "duration": 405,
    "start_time": "2022-08-08T09:16:06.833Z"
   },
   {
    "duration": 348,
    "start_time": "2022-08-08T09:16:21.069Z"
   },
   {
    "duration": 2470,
    "start_time": "2022-08-08T09:17:26.244Z"
   },
   {
    "duration": 7,
    "start_time": "2022-08-08T09:17:41.192Z"
   },
   {
    "duration": 91,
    "start_time": "2022-08-08T09:18:11.445Z"
   },
   {
    "duration": 63,
    "start_time": "2022-08-08T09:18:16.312Z"
   },
   {
    "duration": 7,
    "start_time": "2022-08-08T09:18:19.167Z"
   },
   {
    "duration": 10,
    "start_time": "2022-08-08T09:18:41.067Z"
   },
   {
    "duration": 9,
    "start_time": "2022-08-08T09:18:49.833Z"
   },
   {
    "duration": 59,
    "start_time": "2022-08-08T09:18:55.642Z"
   },
   {
    "duration": 12,
    "start_time": "2022-08-08T09:18:57.565Z"
   },
   {
    "duration": 41,
    "start_time": "2022-08-08T10:43:51.520Z"
   },
   {
    "duration": 17,
    "start_time": "2022-08-08T10:44:09.172Z"
   },
   {
    "duration": 9,
    "start_time": "2022-08-08T10:44:12.491Z"
   },
   {
    "duration": 24,
    "start_time": "2022-08-08T10:44:25.122Z"
   },
   {
    "duration": 13,
    "start_time": "2022-08-08T10:44:27.752Z"
   },
   {
    "duration": 30,
    "start_time": "2022-08-08T10:44:34.122Z"
   },
   {
    "duration": 8,
    "start_time": "2022-08-08T10:44:46.721Z"
   },
   {
    "duration": 51,
    "start_time": "2022-08-08T10:45:36.182Z"
   },
   {
    "duration": 6,
    "start_time": "2022-08-08T10:45:39.821Z"
   },
   {
    "duration": 6,
    "start_time": "2022-08-08T10:45:50.811Z"
   },
   {
    "duration": 5,
    "start_time": "2022-08-08T10:46:25.912Z"
   },
   {
    "duration": 5,
    "start_time": "2022-08-08T10:50:16.042Z"
   },
   {
    "duration": 23,
    "start_time": "2022-08-08T10:50:47.752Z"
   },
   {
    "duration": 1220,
    "start_time": "2022-08-08T10:52:14.223Z"
   },
   {
    "duration": 267,
    "start_time": "2022-08-08T10:52:15.445Z"
   },
   {
    "duration": 7,
    "start_time": "2022-08-08T10:52:15.714Z"
   },
   {
    "duration": 117,
    "start_time": "2022-08-08T10:52:15.723Z"
   },
   {
    "duration": 11,
    "start_time": "2022-08-08T10:52:15.842Z"
   },
   {
    "duration": 39,
    "start_time": "2022-08-08T10:52:15.856Z"
   },
   {
    "duration": 15,
    "start_time": "2022-08-08T10:52:15.896Z"
   },
   {
    "duration": 26,
    "start_time": "2022-08-08T10:52:15.913Z"
   },
   {
    "duration": 41,
    "start_time": "2022-08-08T10:52:15.941Z"
   },
   {
    "duration": 9,
    "start_time": "2022-08-08T10:52:15.983Z"
   },
   {
    "duration": 9,
    "start_time": "2022-08-08T10:52:15.993Z"
   },
   {
    "duration": 26,
    "start_time": "2022-08-08T10:52:16.003Z"
   },
   {
    "duration": 7,
    "start_time": "2022-08-08T10:52:16.031Z"
   },
   {
    "duration": 9,
    "start_time": "2022-08-08T10:52:16.040Z"
   },
   {
    "duration": 1080,
    "start_time": "2022-08-08T10:52:16.051Z"
   },
   {
    "duration": 744,
    "start_time": "2022-08-08T10:52:35.823Z"
   },
   {
    "duration": 13,
    "start_time": "2022-08-08T10:53:22.182Z"
   },
   {
    "duration": 26,
    "start_time": "2022-08-08T11:01:11.334Z"
   },
   {
    "duration": 12,
    "start_time": "2022-08-08T11:02:26.627Z"
   },
   {
    "duration": 120,
    "start_time": "2022-08-08T11:03:08.402Z"
   },
   {
    "duration": 1511,
    "start_time": "2022-08-08T11:03:19.104Z"
   },
   {
    "duration": 9,
    "start_time": "2022-08-08T11:03:47.424Z"
   },
   {
    "duration": 11,
    "start_time": "2022-08-08T11:04:33.394Z"
   },
   {
    "duration": 20,
    "start_time": "2022-08-08T11:04:53.694Z"
   },
   {
    "duration": 19,
    "start_time": "2022-08-08T11:04:58.584Z"
   },
   {
    "duration": 22,
    "start_time": "2022-08-08T11:05:10.824Z"
   },
   {
    "duration": 24,
    "start_time": "2022-08-08T11:05:20.596Z"
   },
   {
    "duration": 69,
    "start_time": "2022-08-08T11:06:10.325Z"
   },
   {
    "duration": 29,
    "start_time": "2022-08-08T11:06:16.147Z"
   },
   {
    "duration": 14,
    "start_time": "2022-08-08T11:12:23.896Z"
   },
   {
    "duration": 99,
    "start_time": "2022-08-08T11:12:37.856Z"
   },
   {
    "duration": 14,
    "start_time": "2022-08-08T11:12:44.772Z"
   },
   {
    "duration": 20,
    "start_time": "2022-08-08T11:12:50.785Z"
   },
   {
    "duration": 47,
    "start_time": "2022-08-08T11:13:04.281Z"
   },
   {
    "duration": 44,
    "start_time": "2022-08-08T11:13:29.797Z"
   },
   {
    "duration": 51,
    "start_time": "2022-08-08T11:13:33.777Z"
   },
   {
    "duration": 63,
    "start_time": "2022-08-08T11:13:44.860Z"
   },
   {
    "duration": 33,
    "start_time": "2022-08-08T11:14:13.184Z"
   },
   {
    "duration": 22,
    "start_time": "2022-08-08T11:16:11.389Z"
   },
   {
    "duration": 18,
    "start_time": "2022-08-08T11:16:37.125Z"
   },
   {
    "duration": 30,
    "start_time": "2022-08-08T11:16:39.576Z"
   },
   {
    "duration": 20,
    "start_time": "2022-08-08T11:16:55.794Z"
   },
   {
    "duration": 35,
    "start_time": "2022-08-08T11:16:58.476Z"
   },
   {
    "duration": 6,
    "start_time": "2022-08-08T11:22:29.308Z"
   },
   {
    "duration": 13,
    "start_time": "2022-08-08T11:22:58.503Z"
   },
   {
    "duration": 30,
    "start_time": "2022-08-08T11:23:46.321Z"
   },
   {
    "duration": 20,
    "start_time": "2022-08-08T11:23:55.307Z"
   },
   {
    "duration": 8,
    "start_time": "2022-08-08T11:25:10.595Z"
   },
   {
    "duration": 7,
    "start_time": "2022-08-08T11:25:21.594Z"
   },
   {
    "duration": 8,
    "start_time": "2022-08-08T11:26:07.085Z"
   },
   {
    "duration": 11,
    "start_time": "2022-08-08T11:27:40.279Z"
   },
   {
    "duration": 9,
    "start_time": "2022-08-08T11:27:50.844Z"
   },
   {
    "duration": 10,
    "start_time": "2022-08-08T11:28:22.526Z"
   },
   {
    "duration": 6,
    "start_time": "2022-08-08T11:28:24.032Z"
   },
   {
    "duration": 13,
    "start_time": "2022-08-08T11:28:41.894Z"
   },
   {
    "duration": 9,
    "start_time": "2022-08-08T11:28:44.223Z"
   },
   {
    "duration": 90,
    "start_time": "2022-08-08T11:29:19.993Z"
   },
   {
    "duration": 7,
    "start_time": "2022-08-08T11:29:23.635Z"
   },
   {
    "duration": 9,
    "start_time": "2022-08-08T11:29:33.044Z"
   },
   {
    "duration": 16,
    "start_time": "2022-08-08T11:29:41.881Z"
   },
   {
    "duration": 10,
    "start_time": "2022-08-08T11:29:44.533Z"
   },
   {
    "duration": 1193,
    "start_time": "2022-08-08T11:30:03.228Z"
   },
   {
    "duration": 101,
    "start_time": "2022-08-08T11:30:04.423Z"
   },
   {
    "duration": 7,
    "start_time": "2022-08-08T11:30:04.526Z"
   },
   {
    "duration": 80,
    "start_time": "2022-08-08T11:30:04.535Z"
   },
   {
    "duration": 13,
    "start_time": "2022-08-08T11:30:04.618Z"
   },
   {
    "duration": 24,
    "start_time": "2022-08-08T11:30:04.633Z"
   },
   {
    "duration": 19,
    "start_time": "2022-08-08T11:30:04.658Z"
   },
   {
    "duration": 27,
    "start_time": "2022-08-08T11:30:04.678Z"
   },
   {
    "duration": 7,
    "start_time": "2022-08-08T11:30:04.707Z"
   },
   {
    "duration": 8,
    "start_time": "2022-08-08T11:30:04.715Z"
   },
   {
    "duration": 9,
    "start_time": "2022-08-08T11:30:04.725Z"
   },
   {
    "duration": 47,
    "start_time": "2022-08-08T11:30:04.735Z"
   },
   {
    "duration": 17,
    "start_time": "2022-08-08T11:30:04.783Z"
   },
   {
    "duration": 6,
    "start_time": "2022-08-08T11:30:04.802Z"
   },
   {
    "duration": 726,
    "start_time": "2022-08-08T11:30:04.809Z"
   },
   {
    "duration": 18,
    "start_time": "2022-08-08T11:30:05.537Z"
   },
   {
    "duration": 29,
    "start_time": "2022-08-08T11:30:05.556Z"
   },
   {
    "duration": 26,
    "start_time": "2022-08-08T11:30:05.588Z"
   },
   {
    "duration": 162,
    "start_time": "2022-08-08T11:30:05.616Z"
   },
   {
    "duration": 6,
    "start_time": "2022-08-08T11:30:05.780Z"
   },
   {
    "duration": 20,
    "start_time": "2022-08-08T11:30:05.788Z"
   },
   {
    "duration": 8,
    "start_time": "2022-08-08T11:30:05.810Z"
   },
   {
    "duration": 19,
    "start_time": "2022-08-08T11:30:05.820Z"
   },
   {
    "duration": 13,
    "start_time": "2022-08-08T11:30:05.841Z"
   },
   {
    "duration": 19,
    "start_time": "2022-08-08T11:30:05.856Z"
   },
   {
    "duration": 27,
    "start_time": "2022-08-08T11:30:05.877Z"
   },
   {
    "duration": 10,
    "start_time": "2022-08-08T11:30:47.689Z"
   },
   {
    "duration": 11,
    "start_time": "2022-08-08T11:31:25.376Z"
   },
   {
    "duration": 8,
    "start_time": "2022-08-08T11:31:43.797Z"
   },
   {
    "duration": 7,
    "start_time": "2022-08-08T11:32:00.629Z"
   },
   {
    "duration": 13,
    "start_time": "2022-08-08T11:34:52.010Z"
   },
   {
    "duration": 170,
    "start_time": "2022-08-08T11:35:26.478Z"
   },
   {
    "duration": 157,
    "start_time": "2022-08-08T11:35:55.547Z"
   },
   {
    "duration": 134,
    "start_time": "2022-08-08T11:39:47.106Z"
   },
   {
    "duration": 288,
    "start_time": "2022-08-08T11:40:21.988Z"
   },
   {
    "duration": 245,
    "start_time": "2022-08-08T11:41:02.529Z"
   },
   {
    "duration": 10,
    "start_time": "2022-08-08T11:42:37.877Z"
   },
   {
    "duration": 17,
    "start_time": "2022-08-08T11:42:55.828Z"
   },
   {
    "duration": 17,
    "start_time": "2022-08-08T11:43:08.536Z"
   },
   {
    "duration": 6,
    "start_time": "2022-08-08T11:44:23.929Z"
   },
   {
    "duration": 22,
    "start_time": "2022-08-08T11:44:46.503Z"
   },
   {
    "duration": 21,
    "start_time": "2022-08-08T11:44:53.092Z"
   },
   {
    "duration": 114,
    "start_time": "2022-08-08T11:50:18.086Z"
   },
   {
    "duration": 9,
    "start_time": "2022-08-08T11:52:44.657Z"
   },
   {
    "duration": 13,
    "start_time": "2022-08-08T11:55:31.578Z"
   },
   {
    "duration": 16,
    "start_time": "2022-08-08T11:55:37.577Z"
   },
   {
    "duration": 6,
    "start_time": "2022-08-08T12:37:55.566Z"
   },
   {
    "duration": 23,
    "start_time": "2022-08-08T12:38:02.926Z"
   },
   {
    "duration": 8,
    "start_time": "2022-08-08T12:38:16.886Z"
   },
   {
    "duration": 38,
    "start_time": "2022-08-08T12:38:18.697Z"
   },
   {
    "duration": 7,
    "start_time": "2022-08-08T12:38:45.526Z"
   },
   {
    "duration": 10,
    "start_time": "2022-08-08T12:38:49.447Z"
   },
   {
    "duration": 7,
    "start_time": "2022-08-08T12:38:58.227Z"
   },
   {
    "duration": 5,
    "start_time": "2022-08-08T12:39:04.705Z"
   },
   {
    "duration": 5,
    "start_time": "2022-08-08T12:39:13.697Z"
   },
   {
    "duration": 5,
    "start_time": "2022-08-08T12:39:36.686Z"
   },
   {
    "duration": 14,
    "start_time": "2022-08-08T12:39:38.677Z"
   },
   {
    "duration": 19,
    "start_time": "2022-08-08T12:40:01.577Z"
   },
   {
    "duration": 7,
    "start_time": "2022-08-08T12:40:14.786Z"
   },
   {
    "duration": 1173,
    "start_time": "2022-08-08T12:40:27.973Z"
   },
   {
    "duration": 102,
    "start_time": "2022-08-08T12:40:29.148Z"
   },
   {
    "duration": 14,
    "start_time": "2022-08-08T12:40:29.251Z"
   },
   {
    "duration": 57,
    "start_time": "2022-08-08T12:40:29.268Z"
   },
   {
    "duration": 12,
    "start_time": "2022-08-08T12:40:29.327Z"
   },
   {
    "duration": 24,
    "start_time": "2022-08-08T12:40:29.340Z"
   },
   {
    "duration": 31,
    "start_time": "2022-08-08T12:40:29.365Z"
   },
   {
    "duration": 12,
    "start_time": "2022-08-08T12:40:29.398Z"
   },
   {
    "duration": 6,
    "start_time": "2022-08-08T12:40:29.412Z"
   },
   {
    "duration": 7,
    "start_time": "2022-08-08T12:40:29.420Z"
   },
   {
    "duration": 10,
    "start_time": "2022-08-08T12:40:29.428Z"
   },
   {
    "duration": 41,
    "start_time": "2022-08-08T12:40:29.439Z"
   },
   {
    "duration": 7,
    "start_time": "2022-08-08T12:40:29.482Z"
   },
   {
    "duration": 6,
    "start_time": "2022-08-08T12:40:29.493Z"
   },
   {
    "duration": 723,
    "start_time": "2022-08-08T12:40:29.501Z"
   },
   {
    "duration": 29,
    "start_time": "2022-08-08T12:40:30.226Z"
   },
   {
    "duration": 21,
    "start_time": "2022-08-08T12:40:30.257Z"
   },
   {
    "duration": 29,
    "start_time": "2022-08-08T12:40:30.280Z"
   },
   {
    "duration": 142,
    "start_time": "2022-08-08T12:40:30.311Z"
   },
   {
    "duration": 8,
    "start_time": "2022-08-08T12:40:30.461Z"
   },
   {
    "duration": 12,
    "start_time": "2022-08-08T12:40:30.471Z"
   },
   {
    "duration": 16,
    "start_time": "2022-08-08T12:40:30.485Z"
   },
   {
    "duration": 26,
    "start_time": "2022-08-08T12:40:30.503Z"
   },
   {
    "duration": 19,
    "start_time": "2022-08-08T12:40:30.531Z"
   },
   {
    "duration": 29,
    "start_time": "2022-08-08T12:40:30.552Z"
   },
   {
    "duration": 12,
    "start_time": "2022-08-08T12:40:30.584Z"
   },
   {
    "duration": 15,
    "start_time": "2022-08-08T12:40:30.599Z"
   },
   {
    "duration": 26,
    "start_time": "2022-08-08T12:40:30.616Z"
   },
   {
    "duration": 29,
    "start_time": "2022-08-08T12:40:30.643Z"
   },
   {
    "duration": 150,
    "start_time": "2022-08-08T12:40:30.675Z"
   },
   {
    "duration": 267,
    "start_time": "2022-08-08T12:40:30.827Z"
   },
   {
    "duration": 13,
    "start_time": "2022-08-08T12:40:31.095Z"
   },
   {
    "duration": 27,
    "start_time": "2022-08-08T12:40:31.109Z"
   },
   {
    "duration": 20,
    "start_time": "2022-08-08T12:40:31.138Z"
   },
   {
    "duration": 21,
    "start_time": "2022-08-08T12:40:31.162Z"
   },
   {
    "duration": 18,
    "start_time": "2022-08-08T12:41:00.278Z"
   },
   {
    "duration": 6,
    "start_time": "2022-08-08T12:43:50.999Z"
   },
   {
    "duration": 7,
    "start_time": "2022-08-08T12:44:21.378Z"
   },
   {
    "duration": 151,
    "start_time": "2022-08-08T12:44:48.860Z"
   },
   {
    "duration": 6,
    "start_time": "2022-08-08T12:44:52.777Z"
   },
   {
    "duration": 6,
    "start_time": "2022-08-08T12:45:03.438Z"
   },
   {
    "duration": 7,
    "start_time": "2022-08-08T12:45:54.578Z"
   },
   {
    "duration": 19,
    "start_time": "2022-08-08T12:46:00.770Z"
   },
   {
    "duration": 5,
    "start_time": "2022-08-08T12:46:09.888Z"
   },
   {
    "duration": 35,
    "start_time": "2022-08-08T12:46:11.991Z"
   },
   {
    "duration": 8,
    "start_time": "2022-08-08T12:47:35.518Z"
   },
   {
    "duration": 6,
    "start_time": "2022-08-08T12:47:48.728Z"
   },
   {
    "duration": 4,
    "start_time": "2022-08-08T12:48:00.919Z"
   },
   {
    "duration": 20,
    "start_time": "2022-08-08T12:48:03.428Z"
   },
   {
    "duration": 14,
    "start_time": "2022-08-08T12:48:40.128Z"
   },
   {
    "duration": 11,
    "start_time": "2022-08-08T12:48:49.238Z"
   },
   {
    "duration": 12,
    "start_time": "2022-08-08T12:50:05.038Z"
   },
   {
    "duration": 5,
    "start_time": "2022-08-08T12:50:27.945Z"
   },
   {
    "duration": 6,
    "start_time": "2022-08-08T12:52:49.218Z"
   },
   {
    "duration": 12,
    "start_time": "2022-08-08T12:52:53.290Z"
   },
   {
    "duration": 18,
    "start_time": "2022-08-08T12:52:55.619Z"
   },
   {
    "duration": 5,
    "start_time": "2022-08-08T12:53:13.439Z"
   },
   {
    "duration": 26,
    "start_time": "2022-08-08T12:53:18.780Z"
   },
   {
    "duration": 11,
    "start_time": "2022-08-08T12:53:56.589Z"
   },
   {
    "duration": 1169,
    "start_time": "2022-08-08T12:54:04.174Z"
   },
   {
    "duration": 131,
    "start_time": "2022-08-08T12:54:05.345Z"
   },
   {
    "duration": 11,
    "start_time": "2022-08-08T12:54:05.478Z"
   },
   {
    "duration": 47,
    "start_time": "2022-08-08T12:54:05.491Z"
   },
   {
    "duration": 11,
    "start_time": "2022-08-08T12:54:05.540Z"
   },
   {
    "duration": 32,
    "start_time": "2022-08-08T12:54:05.553Z"
   },
   {
    "duration": 24,
    "start_time": "2022-08-08T12:54:05.588Z"
   },
   {
    "duration": 20,
    "start_time": "2022-08-08T12:54:05.614Z"
   },
   {
    "duration": 8,
    "start_time": "2022-08-08T12:54:05.654Z"
   },
   {
    "duration": 20,
    "start_time": "2022-08-08T12:54:05.666Z"
   },
   {
    "duration": 10,
    "start_time": "2022-08-08T12:54:05.689Z"
   },
   {
    "duration": 25,
    "start_time": "2022-08-08T12:54:05.701Z"
   },
   {
    "duration": 5,
    "start_time": "2022-08-08T12:54:05.729Z"
   },
   {
    "duration": 8,
    "start_time": "2022-08-08T12:54:05.735Z"
   },
   {
    "duration": 861,
    "start_time": "2022-08-08T12:54:05.745Z"
   },
   {
    "duration": 15,
    "start_time": "2022-08-08T12:54:06.608Z"
   },
   {
    "duration": 33,
    "start_time": "2022-08-08T12:54:06.624Z"
   },
   {
    "duration": 20,
    "start_time": "2022-08-08T12:54:06.659Z"
   },
   {
    "duration": 155,
    "start_time": "2022-08-08T12:54:06.681Z"
   },
   {
    "duration": 7,
    "start_time": "2022-08-08T12:54:06.838Z"
   },
   {
    "duration": 47,
    "start_time": "2022-08-08T12:54:06.846Z"
   },
   {
    "duration": 19,
    "start_time": "2022-08-08T12:54:06.895Z"
   },
   {
    "duration": 17,
    "start_time": "2022-08-08T12:54:06.916Z"
   },
   {
    "duration": 6,
    "start_time": "2022-08-08T12:54:06.934Z"
   },
   {
    "duration": 15,
    "start_time": "2022-08-08T12:54:06.942Z"
   },
   {
    "duration": 48,
    "start_time": "2022-08-08T12:54:06.959Z"
   },
   {
    "duration": 10,
    "start_time": "2022-08-08T12:54:07.009Z"
   },
   {
    "duration": 7,
    "start_time": "2022-08-08T12:54:07.022Z"
   },
   {
    "duration": 18,
    "start_time": "2022-08-08T12:54:07.030Z"
   },
   {
    "duration": 159,
    "start_time": "2022-08-08T12:54:07.049Z"
   },
   {
    "duration": 315,
    "start_time": "2022-08-08T12:54:07.212Z"
   },
   {
    "duration": 7,
    "start_time": "2022-08-08T12:54:07.529Z"
   },
   {
    "duration": 29,
    "start_time": "2022-08-08T12:54:07.538Z"
   },
   {
    "duration": 0,
    "start_time": "2022-08-08T12:54:07.568Z"
   },
   {
    "duration": 0,
    "start_time": "2022-08-08T12:54:07.571Z"
   },
   {
    "duration": 0,
    "start_time": "2022-08-08T12:54:07.572Z"
   },
   {
    "duration": 0,
    "start_time": "2022-08-08T12:54:07.574Z"
   },
   {
    "duration": 8,
    "start_time": "2022-08-08T12:54:35.570Z"
   },
   {
    "duration": 11,
    "start_time": "2022-08-08T12:54:37.601Z"
   },
   {
    "duration": 5,
    "start_time": "2022-08-08T12:54:42.110Z"
   },
   {
    "duration": 17,
    "start_time": "2022-08-08T12:54:47.731Z"
   },
   {
    "duration": 32,
    "start_time": "2022-08-08T12:55:07.168Z"
   },
   {
    "duration": 5,
    "start_time": "2022-08-08T12:55:44.531Z"
   },
   {
    "duration": 12,
    "start_time": "2022-08-08T12:55:45.980Z"
   },
   {
    "duration": 25,
    "start_time": "2022-08-08T12:55:48.478Z"
   },
   {
    "duration": 20,
    "start_time": "2022-08-08T12:56:05.692Z"
   },
   {
    "duration": 12,
    "start_time": "2022-08-08T12:56:38.451Z"
   },
   {
    "duration": 19,
    "start_time": "2022-08-08T12:56:45.090Z"
   },
   {
    "duration": 15,
    "start_time": "2022-08-08T12:57:42.010Z"
   },
   {
    "duration": 19,
    "start_time": "2022-08-08T12:57:50.119Z"
   },
   {
    "duration": 18,
    "start_time": "2022-08-08T12:58:10.089Z"
   },
   {
    "duration": 162,
    "start_time": "2022-08-08T13:04:12.997Z"
   },
   {
    "duration": 143,
    "start_time": "2022-08-08T13:05:55.196Z"
   },
   {
    "duration": 145,
    "start_time": "2022-08-08T13:11:46.846Z"
   },
   {
    "duration": 167,
    "start_time": "2022-08-08T13:11:52.446Z"
   },
   {
    "duration": 37,
    "start_time": "2022-08-08T13:13:22.644Z"
   },
   {
    "duration": 1237,
    "start_time": "2022-08-09T08:25:08.141Z"
   },
   {
    "duration": 219,
    "start_time": "2022-08-09T08:25:09.380Z"
   },
   {
    "duration": 7,
    "start_time": "2022-08-09T08:25:09.600Z"
   },
   {
    "duration": 82,
    "start_time": "2022-08-09T08:25:09.608Z"
   },
   {
    "duration": 12,
    "start_time": "2022-08-09T08:25:09.692Z"
   },
   {
    "duration": 16,
    "start_time": "2022-08-09T08:25:09.706Z"
   },
   {
    "duration": 12,
    "start_time": "2022-08-09T08:25:09.724Z"
   },
   {
    "duration": 11,
    "start_time": "2022-08-09T08:25:09.738Z"
   },
   {
    "duration": 6,
    "start_time": "2022-08-09T08:25:09.750Z"
   },
   {
    "duration": 7,
    "start_time": "2022-08-09T08:25:09.758Z"
   },
   {
    "duration": 8,
    "start_time": "2022-08-09T08:25:09.766Z"
   },
   {
    "duration": 40,
    "start_time": "2022-08-09T08:25:09.775Z"
   },
   {
    "duration": 30,
    "start_time": "2022-08-09T08:25:09.817Z"
   },
   {
    "duration": 14,
    "start_time": "2022-08-09T08:25:09.850Z"
   },
   {
    "duration": 719,
    "start_time": "2022-08-09T08:25:09.865Z"
   },
   {
    "duration": 20,
    "start_time": "2022-08-09T08:25:10.585Z"
   },
   {
    "duration": 16,
    "start_time": "2022-08-09T08:25:10.607Z"
   },
   {
    "duration": 13,
    "start_time": "2022-08-09T08:25:10.625Z"
   },
   {
    "duration": 131,
    "start_time": "2022-08-09T08:25:10.640Z"
   },
   {
    "duration": 5,
    "start_time": "2022-08-09T08:25:10.772Z"
   },
   {
    "duration": 9,
    "start_time": "2022-08-09T08:25:10.778Z"
   },
   {
    "duration": 16,
    "start_time": "2022-08-09T08:25:10.788Z"
   },
   {
    "duration": 24,
    "start_time": "2022-08-09T08:25:10.806Z"
   },
   {
    "duration": 6,
    "start_time": "2022-08-09T08:25:10.832Z"
   },
   {
    "duration": 15,
    "start_time": "2022-08-09T08:25:10.839Z"
   },
   {
    "duration": 8,
    "start_time": "2022-08-09T08:25:10.855Z"
   },
   {
    "duration": 10,
    "start_time": "2022-08-09T08:25:10.864Z"
   },
   {
    "duration": 14,
    "start_time": "2022-08-09T08:25:10.876Z"
   },
   {
    "duration": 19,
    "start_time": "2022-08-09T08:25:10.892Z"
   },
   {
    "duration": 144,
    "start_time": "2022-08-09T08:25:10.913Z"
   },
   {
    "duration": 5,
    "start_time": "2022-08-09T08:25:11.058Z"
   },
   {
    "duration": 14,
    "start_time": "2022-08-09T08:25:11.064Z"
   },
   {
    "duration": 10,
    "start_time": "2022-08-09T08:25:11.079Z"
   },
   {
    "duration": 14,
    "start_time": "2022-08-09T08:25:11.090Z"
   },
   {
    "duration": 21,
    "start_time": "2022-08-09T08:25:11.105Z"
   },
   {
    "duration": 144,
    "start_time": "2022-08-09T08:25:11.127Z"
   },
   {
    "duration": 155,
    "start_time": "2022-08-09T08:25:11.272Z"
   },
   {
    "duration": 35,
    "start_time": "2022-08-09T08:25:11.428Z"
   },
   {
    "duration": 24,
    "start_time": "2022-08-09T08:25:38.523Z"
   },
   {
    "duration": 4,
    "start_time": "2022-08-09T08:27:04.971Z"
   },
   {
    "duration": 18,
    "start_time": "2022-08-09T08:27:14.672Z"
   },
   {
    "duration": 17,
    "start_time": "2022-08-09T08:27:34.791Z"
   },
   {
    "duration": 19,
    "start_time": "2022-08-09T08:36:48.001Z"
   },
   {
    "duration": 11,
    "start_time": "2022-08-09T08:37:07.060Z"
   },
   {
    "duration": 12,
    "start_time": "2022-08-09T08:37:42.621Z"
   },
   {
    "duration": 13,
    "start_time": "2022-08-09T08:37:53.761Z"
   },
   {
    "duration": 95,
    "start_time": "2022-08-09T08:38:00.641Z"
   },
   {
    "duration": 18,
    "start_time": "2022-08-09T08:38:19.703Z"
   },
   {
    "duration": 13,
    "start_time": "2022-08-09T08:38:30.301Z"
   },
   {
    "duration": 13,
    "start_time": "2022-08-09T08:39:00.424Z"
   },
   {
    "duration": 14,
    "start_time": "2022-08-09T08:39:06.035Z"
   },
   {
    "duration": 13,
    "start_time": "2022-08-09T08:39:40.328Z"
   },
   {
    "duration": 13,
    "start_time": "2022-08-09T08:40:05.925Z"
   },
   {
    "duration": 13,
    "start_time": "2022-08-09T08:40:08.640Z"
   },
   {
    "duration": 21,
    "start_time": "2022-08-09T08:40:33.561Z"
   },
   {
    "duration": 18,
    "start_time": "2022-08-09T08:40:37.810Z"
   },
   {
    "duration": 10,
    "start_time": "2022-08-09T08:40:43.827Z"
   },
   {
    "duration": 18,
    "start_time": "2022-08-09T08:40:47.341Z"
   },
   {
    "duration": 16,
    "start_time": "2022-08-09T08:40:56.031Z"
   },
   {
    "duration": 13,
    "start_time": "2022-08-09T08:41:07.524Z"
   },
   {
    "duration": 14,
    "start_time": "2022-08-09T08:41:15.771Z"
   },
   {
    "duration": 867,
    "start_time": "2022-08-09T08:42:40.125Z"
   },
   {
    "duration": 11,
    "start_time": "2022-08-09T08:42:51.131Z"
   },
   {
    "duration": 5,
    "start_time": "2022-08-09T08:42:58.490Z"
   },
   {
    "duration": 127,
    "start_time": "2022-08-09T08:44:26.570Z"
   },
   {
    "duration": 111,
    "start_time": "2022-08-09T08:44:47.092Z"
   },
   {
    "duration": 16,
    "start_time": "2022-08-09T08:44:54.460Z"
   },
   {
    "duration": 1121,
    "start_time": "2022-08-09T09:00:57.860Z"
   },
   {
    "duration": 93,
    "start_time": "2022-08-09T09:00:58.983Z"
   },
   {
    "duration": 7,
    "start_time": "2022-08-09T09:00:59.078Z"
   },
   {
    "duration": 60,
    "start_time": "2022-08-09T09:00:59.086Z"
   },
   {
    "duration": 11,
    "start_time": "2022-08-09T09:00:59.148Z"
   },
   {
    "duration": 21,
    "start_time": "2022-08-09T09:00:59.161Z"
   },
   {
    "duration": 14,
    "start_time": "2022-08-09T09:00:59.184Z"
   },
   {
    "duration": 25,
    "start_time": "2022-08-09T09:00:59.199Z"
   },
   {
    "duration": 9,
    "start_time": "2022-08-09T09:00:59.226Z"
   },
   {
    "duration": 19,
    "start_time": "2022-08-09T09:00:59.237Z"
   },
   {
    "duration": 20,
    "start_time": "2022-08-09T09:00:59.257Z"
   },
   {
    "duration": 39,
    "start_time": "2022-08-09T09:00:59.278Z"
   },
   {
    "duration": 17,
    "start_time": "2022-08-09T09:00:59.318Z"
   },
   {
    "duration": 9,
    "start_time": "2022-08-09T09:00:59.337Z"
   },
   {
    "duration": 767,
    "start_time": "2022-08-09T09:00:59.347Z"
   },
   {
    "duration": 13,
    "start_time": "2022-08-09T09:01:00.116Z"
   },
   {
    "duration": 64,
    "start_time": "2022-08-09T09:01:00.131Z"
   },
   {
    "duration": 17,
    "start_time": "2022-08-09T09:01:00.197Z"
   },
   {
    "duration": 120,
    "start_time": "2022-08-09T09:01:00.220Z"
   },
   {
    "duration": 6,
    "start_time": "2022-08-09T09:01:00.341Z"
   },
   {
    "duration": 25,
    "start_time": "2022-08-09T09:01:00.348Z"
   },
   {
    "duration": 25,
    "start_time": "2022-08-09T09:01:00.374Z"
   },
   {
    "duration": 22,
    "start_time": "2022-08-09T09:01:00.400Z"
   },
   {
    "duration": 49,
    "start_time": "2022-08-09T09:01:00.423Z"
   },
   {
    "duration": 16,
    "start_time": "2022-08-09T09:01:00.474Z"
   },
   {
    "duration": 38,
    "start_time": "2022-08-09T09:01:00.492Z"
   },
   {
    "duration": 20,
    "start_time": "2022-08-09T09:01:00.532Z"
   },
   {
    "duration": 24,
    "start_time": "2022-08-09T09:01:00.555Z"
   },
   {
    "duration": 34,
    "start_time": "2022-08-09T09:01:00.580Z"
   },
   {
    "duration": 144,
    "start_time": "2022-08-09T09:01:00.616Z"
   },
   {
    "duration": 9,
    "start_time": "2022-08-09T09:01:00.762Z"
   },
   {
    "duration": 238,
    "start_time": "2022-08-09T09:01:00.773Z"
   },
   {
    "duration": 0,
    "start_time": "2022-08-09T09:01:01.013Z"
   },
   {
    "duration": 0,
    "start_time": "2022-08-09T09:01:01.014Z"
   },
   {
    "duration": 0,
    "start_time": "2022-08-09T09:01:01.016Z"
   },
   {
    "duration": 0,
    "start_time": "2022-08-09T09:01:01.017Z"
   },
   {
    "duration": 0,
    "start_time": "2022-08-09T09:01:01.018Z"
   },
   {
    "duration": 6,
    "start_time": "2022-08-09T09:02:15.871Z"
   },
   {
    "duration": 150,
    "start_time": "2022-08-09T09:02:18.850Z"
   },
   {
    "duration": 165,
    "start_time": "2022-08-09T09:02:36.740Z"
   },
   {
    "duration": 18,
    "start_time": "2022-08-09T09:02:40.622Z"
   },
   {
    "duration": 4,
    "start_time": "2022-08-09T09:02:44.890Z"
   },
   {
    "duration": 22,
    "start_time": "2022-08-09T09:02:46.831Z"
   },
   {
    "duration": 16,
    "start_time": "2022-08-09T09:02:48.021Z"
   },
   {
    "duration": 14,
    "start_time": "2022-08-09T09:03:02.420Z"
   },
   {
    "duration": 5,
    "start_time": "2022-08-09T09:07:34.520Z"
   },
   {
    "duration": 9,
    "start_time": "2022-08-09T09:08:15.620Z"
   },
   {
    "duration": 6,
    "start_time": "2022-08-09T09:08:47.141Z"
   },
   {
    "duration": 5,
    "start_time": "2022-08-09T09:09:15.591Z"
   },
   {
    "duration": 7,
    "start_time": "2022-08-09T09:09:23.621Z"
   },
   {
    "duration": 8,
    "start_time": "2022-08-09T09:09:49.890Z"
   },
   {
    "duration": 22,
    "start_time": "2022-08-09T09:10:23.040Z"
   },
   {
    "duration": 14,
    "start_time": "2022-08-09T09:10:31.660Z"
   },
   {
    "duration": 9,
    "start_time": "2022-08-09T09:11:13.961Z"
   },
   {
    "duration": 9,
    "start_time": "2022-08-09T09:11:25.881Z"
   },
   {
    "duration": 13,
    "start_time": "2022-08-09T09:11:48.889Z"
   },
   {
    "duration": 19,
    "start_time": "2022-08-09T09:12:08.370Z"
   },
   {
    "duration": 37,
    "start_time": "2022-08-09T09:13:44.841Z"
   },
   {
    "duration": 15,
    "start_time": "2022-08-09T09:14:25.221Z"
   },
   {
    "duration": 30,
    "start_time": "2022-08-09T09:14:40.420Z"
   },
   {
    "duration": 10,
    "start_time": "2022-08-09T09:16:06.842Z"
   },
   {
    "duration": 28,
    "start_time": "2022-08-09T09:16:54.718Z"
   },
   {
    "duration": 9,
    "start_time": "2022-08-09T09:17:13.431Z"
   },
   {
    "duration": 9,
    "start_time": "2022-08-09T09:17:49.115Z"
   },
   {
    "duration": 116090,
    "start_time": "2022-08-09T09:22:33.315Z"
   },
   {
    "duration": 19,
    "start_time": "2022-08-09T09:25:03.863Z"
   },
   {
    "duration": 6,
    "start_time": "2022-08-09T11:14:57.616Z"
   },
   {
    "duration": 8,
    "start_time": "2022-08-09T11:15:58.758Z"
   },
   {
    "duration": 7,
    "start_time": "2022-08-09T11:16:51.520Z"
   },
   {
    "duration": 5,
    "start_time": "2022-08-09T11:16:56.718Z"
   },
   {
    "duration": 4,
    "start_time": "2022-08-09T11:17:04.718Z"
   },
   {
    "duration": 5,
    "start_time": "2022-08-09T11:19:08.058Z"
   },
   {
    "duration": 4,
    "start_time": "2022-08-09T11:19:22.528Z"
   },
   {
    "duration": 5,
    "start_time": "2022-08-09T11:19:26.488Z"
   },
   {
    "duration": 4,
    "start_time": "2022-08-09T11:20:22.008Z"
   },
   {
    "duration": 1040,
    "start_time": "2022-08-09T11:21:45.376Z"
   },
   {
    "duration": 7,
    "start_time": "2022-08-09T11:22:02.808Z"
   },
   {
    "duration": 6,
    "start_time": "2022-08-09T11:22:10.526Z"
   },
   {
    "duration": 107,
    "start_time": "2022-08-09T11:22:28.947Z"
   },
   {
    "duration": 123,
    "start_time": "2022-08-09T11:22:47.927Z"
   },
   {
    "duration": 115,
    "start_time": "2022-08-09T11:23:09.109Z"
   },
   {
    "duration": 136,
    "start_time": "2022-08-09T11:23:17.788Z"
   },
   {
    "duration": 116,
    "start_time": "2022-08-09T11:23:38.018Z"
   },
   {
    "duration": 125,
    "start_time": "2022-08-09T11:23:58.958Z"
   },
   {
    "duration": 11,
    "start_time": "2022-08-09T11:24:10.418Z"
   },
   {
    "duration": 125,
    "start_time": "2022-08-09T11:24:45.308Z"
   },
   {
    "duration": 115,
    "start_time": "2022-08-09T11:25:12.307Z"
   },
   {
    "duration": 127,
    "start_time": "2022-08-09T11:25:29.518Z"
   },
   {
    "duration": 125,
    "start_time": "2022-08-09T11:25:33.978Z"
   },
   {
    "duration": 5,
    "start_time": "2022-08-09T11:25:48.888Z"
   },
   {
    "duration": 4,
    "start_time": "2022-08-09T11:26:07.128Z"
   },
   {
    "duration": 5,
    "start_time": "2022-08-09T11:26:13.028Z"
   },
   {
    "duration": 5,
    "start_time": "2022-08-09T11:26:24.861Z"
   },
   {
    "duration": 11,
    "start_time": "2022-08-09T11:26:37.188Z"
   },
   {
    "duration": 6,
    "start_time": "2022-08-09T11:26:41.728Z"
   },
   {
    "duration": 8,
    "start_time": "2022-08-09T11:26:48.219Z"
   },
   {
    "duration": 833,
    "start_time": "2022-08-09T11:26:52.349Z"
   },
   {
    "duration": 6,
    "start_time": "2022-08-09T11:27:08.209Z"
   },
   {
    "duration": 7,
    "start_time": "2022-08-09T11:27:18.219Z"
   },
   {
    "duration": 8,
    "start_time": "2022-08-09T11:29:14.849Z"
   },
   {
    "duration": 114,
    "start_time": "2022-08-09T11:29:20.270Z"
   },
   {
    "duration": 78,
    "start_time": "2022-08-09T11:30:29.807Z"
   },
   {
    "duration": 104,
    "start_time": "2022-08-09T11:30:57.327Z"
   },
   {
    "duration": 107,
    "start_time": "2022-08-09T11:31:07.319Z"
   },
   {
    "duration": 108,
    "start_time": "2022-08-09T11:31:59.519Z"
   },
   {
    "duration": 110,
    "start_time": "2022-08-09T11:32:08.176Z"
   },
   {
    "duration": 122,
    "start_time": "2022-08-09T11:32:15.909Z"
   },
   {
    "duration": 545,
    "start_time": "2022-08-09T11:35:40.448Z"
   },
   {
    "duration": 5,
    "start_time": "2022-08-09T11:35:47.528Z"
   },
   {
    "duration": 138,
    "start_time": "2022-08-09T11:35:55.179Z"
   },
   {
    "duration": 6,
    "start_time": "2022-08-09T11:35:57.619Z"
   },
   {
    "duration": 5,
    "start_time": "2022-08-09T11:40:15.798Z"
   },
   {
    "duration": 15,
    "start_time": "2022-08-09T11:42:42.709Z"
   },
   {
    "duration": 23,
    "start_time": "2022-08-09T11:42:51.930Z"
   },
   {
    "duration": 115,
    "start_time": "2022-08-09T11:43:43.040Z"
   },
   {
    "duration": 53,
    "start_time": "2022-08-09T11:45:29.119Z"
   },
   {
    "duration": 113,
    "start_time": "2022-08-09T11:45:33.710Z"
   },
   {
    "duration": 31,
    "start_time": "2022-08-09T11:46:44.490Z"
   },
   {
    "duration": 11,
    "start_time": "2022-08-09T11:47:32.073Z"
   },
   {
    "duration": 8,
    "start_time": "2022-08-09T11:47:48.301Z"
   },
   {
    "duration": 7,
    "start_time": "2022-08-09T11:49:31.402Z"
   },
   {
    "duration": 9,
    "start_time": "2022-08-09T11:50:09.061Z"
   },
   {
    "duration": 7,
    "start_time": "2022-08-09T11:50:20.222Z"
   },
   {
    "duration": 7,
    "start_time": "2022-08-09T11:50:37.274Z"
   },
   {
    "duration": 1253,
    "start_time": "2022-08-10T12:35:20.359Z"
   },
   {
    "duration": 209,
    "start_time": "2022-08-10T12:35:21.614Z"
   },
   {
    "duration": 7,
    "start_time": "2022-08-10T12:35:21.825Z"
   },
   {
    "duration": 104,
    "start_time": "2022-08-10T12:35:21.835Z"
   },
   {
    "duration": 10,
    "start_time": "2022-08-10T12:35:21.940Z"
   },
   {
    "duration": 17,
    "start_time": "2022-08-10T12:35:21.952Z"
   },
   {
    "duration": 13,
    "start_time": "2022-08-10T12:35:21.970Z"
   },
   {
    "duration": 17,
    "start_time": "2022-08-10T12:35:21.985Z"
   },
   {
    "duration": 4,
    "start_time": "2022-08-10T12:35:22.004Z"
   },
   {
    "duration": 9,
    "start_time": "2022-08-10T12:35:22.011Z"
   },
   {
    "duration": 10,
    "start_time": "2022-08-10T12:35:22.021Z"
   },
   {
    "duration": 22,
    "start_time": "2022-08-10T12:35:22.032Z"
   },
   {
    "duration": 9,
    "start_time": "2022-08-10T12:35:22.055Z"
   },
   {
    "duration": 8,
    "start_time": "2022-08-10T12:35:22.065Z"
   },
   {
    "duration": 775,
    "start_time": "2022-08-10T12:35:22.074Z"
   },
   {
    "duration": 13,
    "start_time": "2022-08-10T12:35:22.852Z"
   },
   {
    "duration": 23,
    "start_time": "2022-08-10T12:35:22.866Z"
   },
   {
    "duration": 24,
    "start_time": "2022-08-10T12:35:22.890Z"
   },
   {
    "duration": 135,
    "start_time": "2022-08-10T12:35:22.916Z"
   },
   {
    "duration": 5,
    "start_time": "2022-08-10T12:35:23.053Z"
   },
   {
    "duration": 7,
    "start_time": "2022-08-10T12:35:23.060Z"
   },
   {
    "duration": 9,
    "start_time": "2022-08-10T12:35:23.068Z"
   },
   {
    "duration": 18,
    "start_time": "2022-08-10T12:35:23.079Z"
   },
   {
    "duration": 7,
    "start_time": "2022-08-10T12:35:23.111Z"
   },
   {
    "duration": 14,
    "start_time": "2022-08-10T12:35:23.119Z"
   },
   {
    "duration": 8,
    "start_time": "2022-08-10T12:35:23.135Z"
   },
   {
    "duration": 8,
    "start_time": "2022-08-10T12:35:23.144Z"
   },
   {
    "duration": 15,
    "start_time": "2022-08-10T12:35:23.155Z"
   },
   {
    "duration": 22,
    "start_time": "2022-08-10T12:35:23.171Z"
   },
   {
    "duration": 147,
    "start_time": "2022-08-10T12:35:23.195Z"
   },
   {
    "duration": 6,
    "start_time": "2022-08-10T12:35:23.344Z"
   },
   {
    "duration": 12,
    "start_time": "2022-08-10T12:35:23.351Z"
   },
   {
    "duration": 147,
    "start_time": "2022-08-10T12:35:23.364Z"
   },
   {
    "duration": 160,
    "start_time": "2022-08-10T12:35:23.512Z"
   },
   {
    "duration": 16,
    "start_time": "2022-08-10T12:35:23.674Z"
   },
   {
    "duration": 122,
    "start_time": "2022-08-10T12:35:23.692Z"
   },
   {
    "duration": 7,
    "start_time": "2022-08-10T12:35:23.815Z"
   },
   {
    "duration": 15,
    "start_time": "2022-08-10T12:35:23.824Z"
   },
   {
    "duration": 7,
    "start_time": "2022-08-10T12:35:23.841Z"
   },
   {
    "duration": 25,
    "start_time": "2022-08-10T12:35:23.850Z"
   },
   {
    "duration": 41,
    "start_time": "2022-08-10T12:35:23.877Z"
   },
   {
    "duration": 10,
    "start_time": "2022-08-10T12:35:23.919Z"
   },
   {
    "duration": 10,
    "start_time": "2022-08-10T12:35:23.931Z"
   },
   {
    "duration": 9,
    "start_time": "2022-08-10T12:35:23.942Z"
   },
   {
    "duration": 8,
    "start_time": "2022-08-10T12:35:23.952Z"
   },
   {
    "duration": 126,
    "start_time": "2022-08-10T12:35:23.962Z"
   },
   {
    "duration": 6,
    "start_time": "2022-08-10T12:35:24.089Z"
   },
   {
    "duration": 22,
    "start_time": "2022-08-10T12:35:24.110Z"
   },
   {
    "duration": 25,
    "start_time": "2022-08-10T12:37:33.029Z"
   },
   {
    "duration": 26,
    "start_time": "2022-08-10T12:38:15.726Z"
   },
   {
    "duration": 93,
    "start_time": "2022-08-10T12:39:02.789Z"
   },
   {
    "duration": 26,
    "start_time": "2022-08-10T12:39:13.898Z"
   },
   {
    "duration": 166,
    "start_time": "2022-08-10T12:40:30.723Z"
   },
   {
    "duration": 196,
    "start_time": "2022-08-10T12:42:12.534Z"
   },
   {
    "duration": 42,
    "start_time": "2022-08-10T12:44:05.422Z"
   },
   {
    "duration": 29,
    "start_time": "2022-08-10T12:44:20.658Z"
   },
   {
    "duration": 162,
    "start_time": "2022-08-10T12:44:23.938Z"
   },
   {
    "duration": 163,
    "start_time": "2022-08-10T12:44:30.060Z"
   },
   {
    "duration": 29,
    "start_time": "2022-08-10T12:45:45.158Z"
   },
   {
    "duration": 31,
    "start_time": "2022-08-10T12:45:50.523Z"
   },
   {
    "duration": 157,
    "start_time": "2022-08-10T12:45:54.398Z"
   },
   {
    "duration": 170,
    "start_time": "2022-08-10T12:45:59.642Z"
   },
   {
    "duration": 116,
    "start_time": "2022-08-10T12:47:59.328Z"
   },
   {
    "duration": 28,
    "start_time": "2022-08-10T12:49:55.320Z"
   },
   {
    "duration": 29,
    "start_time": "2022-08-10T12:50:04.028Z"
   },
   {
    "duration": 156,
    "start_time": "2022-08-10T12:50:09.039Z"
   },
   {
    "duration": 169,
    "start_time": "2022-08-10T12:50:15.328Z"
   },
   {
    "duration": 123,
    "start_time": "2022-08-10T12:50:19.657Z"
   },
   {
    "duration": 196,
    "start_time": "2022-08-10T12:54:42.777Z"
   },
   {
    "duration": 43,
    "start_time": "2022-08-10T12:56:15.029Z"
   },
   {
    "duration": 136,
    "start_time": "2022-08-10T12:56:22.147Z"
   },
   {
    "duration": 31,
    "start_time": "2022-08-10T12:58:30.356Z"
   },
   {
    "duration": 232,
    "start_time": "2022-08-10T12:58:39.829Z"
   },
   {
    "duration": 133,
    "start_time": "2022-08-10T12:58:44.559Z"
   },
   {
    "duration": 1256,
    "start_time": "2022-08-11T10:34:17.047Z"
   },
   {
    "duration": 223,
    "start_time": "2022-08-11T10:34:18.305Z"
   },
   {
    "duration": 7,
    "start_time": "2022-08-11T10:34:18.529Z"
   },
   {
    "duration": 83,
    "start_time": "2022-08-11T10:34:18.537Z"
   },
   {
    "duration": 10,
    "start_time": "2022-08-11T10:34:18.622Z"
   },
   {
    "duration": 23,
    "start_time": "2022-08-11T10:34:18.634Z"
   },
   {
    "duration": 15,
    "start_time": "2022-08-11T10:34:18.659Z"
   },
   {
    "duration": 13,
    "start_time": "2022-08-11T10:34:18.676Z"
   },
   {
    "duration": 25,
    "start_time": "2022-08-11T10:34:18.690Z"
   },
   {
    "duration": 8,
    "start_time": "2022-08-11T10:34:18.717Z"
   },
   {
    "duration": 16,
    "start_time": "2022-08-11T10:34:18.727Z"
   },
   {
    "duration": 18,
    "start_time": "2022-08-11T10:34:18.745Z"
   },
   {
    "duration": 7,
    "start_time": "2022-08-11T10:34:18.764Z"
   },
   {
    "duration": 5,
    "start_time": "2022-08-11T10:34:18.773Z"
   },
   {
    "duration": 720,
    "start_time": "2022-08-11T10:34:18.780Z"
   },
   {
    "duration": 14,
    "start_time": "2022-08-11T10:34:19.509Z"
   },
   {
    "duration": 21,
    "start_time": "2022-08-11T10:34:19.524Z"
   },
   {
    "duration": 18,
    "start_time": "2022-08-11T10:34:19.546Z"
   },
   {
    "duration": 126,
    "start_time": "2022-08-11T10:34:19.565Z"
   },
   {
    "duration": 6,
    "start_time": "2022-08-11T10:34:19.693Z"
   },
   {
    "duration": 13,
    "start_time": "2022-08-11T10:34:19.700Z"
   },
   {
    "duration": 22,
    "start_time": "2022-08-11T10:34:19.715Z"
   },
   {
    "duration": 31,
    "start_time": "2022-08-11T10:34:19.738Z"
   },
   {
    "duration": 14,
    "start_time": "2022-08-11T10:34:19.770Z"
   },
   {
    "duration": 18,
    "start_time": "2022-08-11T10:34:19.785Z"
   },
   {
    "duration": 10,
    "start_time": "2022-08-11T10:34:19.804Z"
   },
   {
    "duration": 18,
    "start_time": "2022-08-11T10:34:19.815Z"
   },
   {
    "duration": 9,
    "start_time": "2022-08-11T10:34:19.836Z"
   },
   {
    "duration": 31,
    "start_time": "2022-08-11T10:34:19.846Z"
   },
   {
    "duration": 136,
    "start_time": "2022-08-11T10:34:19.878Z"
   },
   {
    "duration": 7,
    "start_time": "2022-08-11T10:34:20.016Z"
   },
   {
    "duration": 18,
    "start_time": "2022-08-11T10:34:20.025Z"
   },
   {
    "duration": 174,
    "start_time": "2022-08-11T10:34:20.045Z"
   },
   {
    "duration": 173,
    "start_time": "2022-08-11T10:34:20.221Z"
   },
   {
    "duration": 22,
    "start_time": "2022-08-11T10:34:20.396Z"
   },
   {
    "duration": 135,
    "start_time": "2022-08-11T10:34:20.419Z"
   },
   {
    "duration": 8,
    "start_time": "2022-08-11T10:34:20.556Z"
   },
   {
    "duration": 20,
    "start_time": "2022-08-11T10:34:20.565Z"
   },
   {
    "duration": 17,
    "start_time": "2022-08-11T10:34:20.587Z"
   },
   {
    "duration": 44,
    "start_time": "2022-08-11T10:34:20.606Z"
   },
   {
    "duration": 34,
    "start_time": "2022-08-11T10:34:20.652Z"
   },
   {
    "duration": 29,
    "start_time": "2022-08-11T10:34:20.687Z"
   },
   {
    "duration": 11,
    "start_time": "2022-08-11T10:34:20.717Z"
   },
   {
    "duration": 24,
    "start_time": "2022-08-11T10:34:20.730Z"
   },
   {
    "duration": 6,
    "start_time": "2022-08-11T10:34:20.756Z"
   },
   {
    "duration": 123,
    "start_time": "2022-08-11T10:34:20.763Z"
   },
   {
    "duration": 5,
    "start_time": "2022-08-11T10:34:20.888Z"
   },
   {
    "duration": 43,
    "start_time": "2022-08-11T10:34:20.895Z"
   },
   {
    "duration": 99,
    "start_time": "2022-08-11T10:34:20.939Z"
   },
   {
    "duration": 181,
    "start_time": "2022-08-11T10:34:21.039Z"
   },
   {
    "duration": 146,
    "start_time": "2022-08-11T10:34:21.221Z"
   },
   {
    "duration": 179,
    "start_time": "2022-08-11T10:34:21.368Z"
   },
   {
    "duration": 176,
    "start_time": "2022-08-11T10:34:21.549Z"
   },
   {
    "duration": 16,
    "start_time": "2022-08-11T10:51:23.315Z"
   },
   {
    "duration": 6,
    "start_time": "2022-08-11T10:51:54.714Z"
   },
   {
    "duration": 6,
    "start_time": "2022-08-11T11:01:05.194Z"
   },
   {
    "duration": 133,
    "start_time": "2022-08-11T11:01:11.280Z"
   },
   {
    "duration": 142,
    "start_time": "2022-08-11T11:02:03.246Z"
   },
   {
    "duration": 131,
    "start_time": "2022-08-11T11:02:43.318Z"
   },
   {
    "duration": 133,
    "start_time": "2022-08-11T11:02:56.356Z"
   },
   {
    "duration": 133,
    "start_time": "2022-08-11T11:03:18.890Z"
   },
   {
    "duration": 350,
    "start_time": "2022-08-11T11:03:26.561Z"
   },
   {
    "duration": 69,
    "start_time": "2022-08-11T11:07:37.318Z"
   },
   {
    "duration": 30,
    "start_time": "2022-08-11T11:07:54.400Z"
   },
   {
    "duration": 28,
    "start_time": "2022-08-11T11:08:02.406Z"
   },
   {
    "duration": 25,
    "start_time": "2022-08-11T11:08:17.279Z"
   },
   {
    "duration": 23,
    "start_time": "2022-08-11T11:09:06.126Z"
   },
   {
    "duration": 15,
    "start_time": "2022-08-11T11:09:31.574Z"
   },
   {
    "duration": 23,
    "start_time": "2022-08-11T11:09:36.926Z"
   },
   {
    "duration": 348,
    "start_time": "2022-08-11T11:10:39.381Z"
   },
   {
    "duration": 308,
    "start_time": "2022-08-11T11:11:34.138Z"
   },
   {
    "duration": 24,
    "start_time": "2022-08-11T11:11:55.502Z"
   },
   {
    "duration": 25,
    "start_time": "2022-08-11T11:12:05.305Z"
   },
   {
    "duration": 300,
    "start_time": "2022-08-11T11:12:19.921Z"
   },
   {
    "duration": 324,
    "start_time": "2022-08-11T11:13:30.397Z"
   },
   {
    "duration": 309,
    "start_time": "2022-08-11T11:13:50.331Z"
   },
   {
    "duration": 344,
    "start_time": "2022-08-11T11:14:06.889Z"
   },
   {
    "duration": 326,
    "start_time": "2022-08-11T11:15:15.633Z"
   },
   {
    "duration": 18,
    "start_time": "2022-08-11T11:17:03.775Z"
   },
   {
    "duration": 962,
    "start_time": "2022-08-11T11:18:29.613Z"
   },
   {
    "duration": 9,
    "start_time": "2022-08-11T11:18:53.852Z"
   },
   {
    "duration": 19,
    "start_time": "2022-08-11T11:19:45.868Z"
   },
   {
    "duration": 101,
    "start_time": "2022-08-11T11:20:47.949Z"
   },
   {
    "duration": 9,
    "start_time": "2022-08-11T11:21:30.205Z"
   },
   {
    "duration": 411,
    "start_time": "2022-08-11T11:21:42.750Z"
   },
   {
    "duration": 8,
    "start_time": "2022-08-11T11:22:56.918Z"
   },
   {
    "duration": 135,
    "start_time": "2022-08-11T11:23:02.674Z"
   },
   {
    "duration": 960,
    "start_time": "2022-08-11T11:24:39.403Z"
   },
   {
    "duration": 1000,
    "start_time": "2022-08-11T11:28:33.421Z"
   },
   {
    "duration": 830,
    "start_time": "2022-08-11T11:28:45.319Z"
   },
   {
    "duration": 2,
    "start_time": "2022-08-11T11:29:07.538Z"
   },
   {
    "duration": 10,
    "start_time": "2022-08-11T11:29:13.215Z"
   },
   {
    "duration": 14,
    "start_time": "2022-08-11T11:29:50.953Z"
   },
   {
    "duration": 4,
    "start_time": "2022-08-11T11:30:21.597Z"
   },
   {
    "duration": 344,
    "start_time": "2022-08-11T11:30:40.459Z"
   },
   {
    "duration": 16,
    "start_time": "2022-08-11T11:31:15.548Z"
   },
   {
    "duration": 21,
    "start_time": "2022-08-11T11:33:33.926Z"
   },
   {
    "duration": 14,
    "start_time": "2022-08-11T11:33:49.043Z"
   },
   {
    "duration": 114,
    "start_time": "2022-08-11T11:34:53.777Z"
   },
   {
    "duration": 199,
    "start_time": "2022-08-11T11:35:06.426Z"
   },
   {
    "duration": 11,
    "start_time": "2022-08-11T11:36:51.623Z"
   },
   {
    "duration": 9,
    "start_time": "2022-08-11T11:37:56.557Z"
   },
   {
    "duration": 11,
    "start_time": "2022-08-11T11:38:01.413Z"
   },
   {
    "duration": 209,
    "start_time": "2022-08-11T11:38:09.379Z"
   },
   {
    "duration": 8,
    "start_time": "2022-08-11T11:39:06.397Z"
   },
   {
    "duration": 207,
    "start_time": "2022-08-11T11:39:31.027Z"
   },
   {
    "duration": 465,
    "start_time": "2022-08-11T11:39:57.919Z"
   },
   {
    "duration": 689,
    "start_time": "2022-08-11T11:41:16.687Z"
   },
   {
    "duration": 450,
    "start_time": "2022-08-11T11:41:24.424Z"
   },
   {
    "duration": 450,
    "start_time": "2022-08-11T11:41:43.541Z"
   },
   {
    "duration": 509,
    "start_time": "2022-08-11T11:42:25.409Z"
   },
   {
    "duration": 92,
    "start_time": "2022-08-11T11:43:15.753Z"
   },
   {
    "duration": 492,
    "start_time": "2022-08-11T11:43:21.696Z"
   },
   {
    "duration": 456,
    "start_time": "2022-08-11T11:43:39.021Z"
   },
   {
    "duration": 477,
    "start_time": "2022-08-11T11:43:59.493Z"
   },
   {
    "duration": 566,
    "start_time": "2022-08-11T11:44:05.829Z"
   },
   {
    "duration": 4,
    "start_time": "2022-08-11T11:45:05.151Z"
   },
   {
    "duration": 383,
    "start_time": "2022-08-11T11:45:24.944Z"
   },
   {
    "duration": 564,
    "start_time": "2022-08-11T11:45:44.810Z"
   },
   {
    "duration": 800,
    "start_time": "2022-08-11T11:46:00.164Z"
   },
   {
    "duration": 590,
    "start_time": "2022-08-11T11:46:59.269Z"
   },
   {
    "duration": 489,
    "start_time": "2022-08-11T11:52:23.851Z"
   },
   {
    "duration": 506,
    "start_time": "2022-08-11T11:52:54.576Z"
   },
   {
    "duration": 471,
    "start_time": "2022-08-11T11:53:53.755Z"
   },
   {
    "duration": 549,
    "start_time": "2022-08-11T11:55:45.089Z"
   },
   {
    "duration": 526,
    "start_time": "2022-08-11T11:56:05.595Z"
   },
   {
    "duration": 566,
    "start_time": "2022-08-11T11:57:15.589Z"
   },
   {
    "duration": 507,
    "start_time": "2022-08-11T11:57:33.266Z"
   },
   {
    "duration": 838,
    "start_time": "2022-08-11T11:59:33.721Z"
   },
   {
    "duration": 510,
    "start_time": "2022-08-11T12:00:32.599Z"
   },
   {
    "duration": 508,
    "start_time": "2022-08-11T12:00:39.083Z"
   },
   {
    "duration": 513,
    "start_time": "2022-08-11T12:00:50.167Z"
   },
   {
    "duration": 364,
    "start_time": "2022-08-11T12:01:39.660Z"
   },
   {
    "duration": 467,
    "start_time": "2022-08-11T12:01:42.267Z"
   },
   {
    "duration": 336,
    "start_time": "2022-08-11T12:02:08.091Z"
   },
   {
    "duration": 346,
    "start_time": "2022-08-11T12:02:41.396Z"
   },
   {
    "duration": 347,
    "start_time": "2022-08-11T12:02:58.720Z"
   },
   {
    "duration": 372,
    "start_time": "2022-08-11T12:03:06.484Z"
   },
   {
    "duration": 487,
    "start_time": "2022-08-11T12:03:12.350Z"
   },
   {
    "duration": 482,
    "start_time": "2022-08-11T12:03:40.223Z"
   },
   {
    "duration": 485,
    "start_time": "2022-08-11T12:09:51.715Z"
   },
   {
    "duration": 362,
    "start_time": "2022-08-11T12:13:30.363Z"
   },
   {
    "duration": 424,
    "start_time": "2022-08-11T12:13:49.969Z"
   },
   {
    "duration": 337,
    "start_time": "2022-08-11T12:14:23.963Z"
   },
   {
    "duration": 7,
    "start_time": "2022-08-11T12:50:10.726Z"
   },
   {
    "duration": 26,
    "start_time": "2022-08-11T12:50:38.636Z"
   },
   {
    "duration": 1406,
    "start_time": "2022-08-12T11:39:07.499Z"
   },
   {
    "duration": 288,
    "start_time": "2022-08-12T11:39:08.907Z"
   },
   {
    "duration": 9,
    "start_time": "2022-08-12T11:39:09.196Z"
   },
   {
    "duration": 98,
    "start_time": "2022-08-12T11:39:09.207Z"
   },
   {
    "duration": 13,
    "start_time": "2022-08-12T11:39:09.307Z"
   },
   {
    "duration": 25,
    "start_time": "2022-08-12T11:39:09.322Z"
   },
   {
    "duration": 16,
    "start_time": "2022-08-12T11:39:09.349Z"
   },
   {
    "duration": 15,
    "start_time": "2022-08-12T11:39:09.367Z"
   },
   {
    "duration": 11,
    "start_time": "2022-08-12T11:39:09.384Z"
   },
   {
    "duration": 8,
    "start_time": "2022-08-12T11:39:09.398Z"
   },
   {
    "duration": 10,
    "start_time": "2022-08-12T11:39:09.408Z"
   },
   {
    "duration": 48,
    "start_time": "2022-08-12T11:39:09.420Z"
   },
   {
    "duration": 8,
    "start_time": "2022-08-12T11:39:09.470Z"
   },
   {
    "duration": 7,
    "start_time": "2022-08-12T11:39:09.480Z"
   },
   {
    "duration": 830,
    "start_time": "2022-08-12T11:39:09.489Z"
   },
   {
    "duration": 15,
    "start_time": "2022-08-12T11:39:10.321Z"
   },
   {
    "duration": 46,
    "start_time": "2022-08-12T11:39:10.338Z"
   },
   {
    "duration": 27,
    "start_time": "2022-08-12T11:39:10.387Z"
   },
   {
    "duration": 160,
    "start_time": "2022-08-12T11:39:10.416Z"
   },
   {
    "duration": 8,
    "start_time": "2022-08-12T11:39:10.578Z"
   },
   {
    "duration": 10,
    "start_time": "2022-08-12T11:39:10.588Z"
   },
   {
    "duration": 9,
    "start_time": "2022-08-12T11:39:10.600Z"
   },
   {
    "duration": 19,
    "start_time": "2022-08-12T11:39:10.611Z"
   },
   {
    "duration": 39,
    "start_time": "2022-08-12T11:39:10.633Z"
   },
   {
    "duration": 12,
    "start_time": "2022-08-12T11:39:10.673Z"
   },
   {
    "duration": 11,
    "start_time": "2022-08-12T11:39:10.687Z"
   },
   {
    "duration": 8,
    "start_time": "2022-08-12T11:39:10.700Z"
   },
   {
    "duration": 20,
    "start_time": "2022-08-12T11:39:10.712Z"
   },
   {
    "duration": 35,
    "start_time": "2022-08-12T11:39:10.733Z"
   },
   {
    "duration": 166,
    "start_time": "2022-08-12T11:39:10.770Z"
   },
   {
    "duration": 8,
    "start_time": "2022-08-12T11:39:10.937Z"
   },
   {
    "duration": 23,
    "start_time": "2022-08-12T11:39:10.947Z"
   },
   {
    "duration": 191,
    "start_time": "2022-08-12T11:39:10.972Z"
   },
   {
    "duration": 183,
    "start_time": "2022-08-12T11:39:11.168Z"
   },
   {
    "duration": 23,
    "start_time": "2022-08-12T11:39:11.353Z"
   },
   {
    "duration": 154,
    "start_time": "2022-08-12T11:39:11.378Z"
   },
   {
    "duration": 8,
    "start_time": "2022-08-12T11:39:11.534Z"
   },
   {
    "duration": 28,
    "start_time": "2022-08-12T11:39:11.543Z"
   },
   {
    "duration": 27,
    "start_time": "2022-08-12T11:39:11.573Z"
   },
   {
    "duration": 33,
    "start_time": "2022-08-12T11:39:11.602Z"
   },
   {
    "duration": 18,
    "start_time": "2022-08-12T11:39:11.636Z"
   },
   {
    "duration": 21,
    "start_time": "2022-08-12T11:39:11.656Z"
   },
   {
    "duration": 16,
    "start_time": "2022-08-12T11:39:11.678Z"
   },
   {
    "duration": 17,
    "start_time": "2022-08-12T11:39:11.696Z"
   },
   {
    "duration": 10,
    "start_time": "2022-08-12T11:39:11.715Z"
   },
   {
    "duration": 214,
    "start_time": "2022-08-12T11:39:11.726Z"
   },
   {
    "duration": 6,
    "start_time": "2022-08-12T11:39:11.942Z"
   },
   {
    "duration": 52,
    "start_time": "2022-08-12T11:39:11.950Z"
   },
   {
    "duration": 33,
    "start_time": "2022-08-12T11:39:12.004Z"
   },
   {
    "duration": 186,
    "start_time": "2022-08-12T11:39:12.039Z"
   },
   {
    "duration": 154,
    "start_time": "2022-08-12T11:39:12.227Z"
   },
   {
    "duration": 201,
    "start_time": "2022-08-12T11:39:12.383Z"
   },
   {
    "duration": 164,
    "start_time": "2022-08-12T11:39:12.587Z"
   },
   {
    "duration": 16,
    "start_time": "2022-08-12T11:39:12.753Z"
   },
   {
    "duration": 164,
    "start_time": "2022-08-12T11:39:12.771Z"
   },
   {
    "duration": 375,
    "start_time": "2022-08-12T11:39:12.937Z"
   },
   {
    "duration": 565,
    "start_time": "2022-08-12T11:39:13.314Z"
   },
   {
    "duration": 336,
    "start_time": "2022-08-12T11:39:13.881Z"
   },
   {
    "duration": 667,
    "start_time": "2022-08-12T11:39:14.219Z"
   },
   {
    "duration": 8,
    "start_time": "2022-08-12T11:39:14.888Z"
   },
   {
    "duration": 21,
    "start_time": "2022-08-12T11:39:14.898Z"
   },
   {
    "duration": 166,
    "start_time": "2022-08-12T11:39:14.921Z"
   },
   {
    "duration": 4,
    "start_time": "2022-08-12T11:49:42.455Z"
   },
   {
    "duration": 202,
    "start_time": "2022-08-12T11:50:04.130Z"
   },
   {
    "duration": 6,
    "start_time": "2022-08-12T11:50:13.270Z"
   },
   {
    "duration": 187,
    "start_time": "2022-08-12T11:50:14.899Z"
   },
   {
    "duration": 4,
    "start_time": "2022-08-12T11:51:09.834Z"
   },
   {
    "duration": 180,
    "start_time": "2022-08-12T11:51:11.169Z"
   },
   {
    "duration": 1436,
    "start_time": "2022-08-12T11:51:51.067Z"
   },
   {
    "duration": 261,
    "start_time": "2022-08-12T11:51:54.464Z"
   },
   {
    "duration": 193,
    "start_time": "2022-08-12T11:53:11.004Z"
   },
   {
    "duration": 24,
    "start_time": "2022-08-12T11:54:48.415Z"
   },
   {
    "duration": 8,
    "start_time": "2022-08-12T11:55:51.136Z"
   },
   {
    "duration": 19,
    "start_time": "2022-08-12T11:55:52.143Z"
   },
   {
    "duration": 4,
    "start_time": "2022-08-12T11:55:55.026Z"
   },
   {
    "duration": 160,
    "start_time": "2022-08-12T11:55:56.991Z"
   },
   {
    "duration": 147,
    "start_time": "2022-08-12T11:56:05.013Z"
   },
   {
    "duration": 143,
    "start_time": "2022-08-12T12:01:53.146Z"
   },
   {
    "duration": 11,
    "start_time": "2022-08-12T12:02:59.706Z"
   },
   {
    "duration": 132,
    "start_time": "2022-08-12T12:04:12.708Z"
   },
   {
    "duration": 6,
    "start_time": "2022-08-12T12:09:57.356Z"
   },
   {
    "duration": 2429,
    "start_time": "2022-08-12T12:10:10.987Z"
   },
   {
    "duration": 2297,
    "start_time": "2022-08-12T12:10:21.277Z"
   },
   {
    "duration": 10,
    "start_time": "2022-08-12T12:12:02.663Z"
   },
   {
    "duration": 16,
    "start_time": "2022-08-12T12:12:07.826Z"
   },
   {
    "duration": 30,
    "start_time": "2022-08-12T12:12:36.282Z"
   },
   {
    "duration": 19,
    "start_time": "2022-08-12T12:12:43.006Z"
   },
   {
    "duration": 19,
    "start_time": "2022-08-12T12:13:17.335Z"
   },
   {
    "duration": 25,
    "start_time": "2022-08-12T12:13:24.893Z"
   },
   {
    "duration": 17,
    "start_time": "2022-08-12T12:13:30.928Z"
   },
   {
    "duration": 18,
    "start_time": "2022-08-12T12:13:45.067Z"
   },
   {
    "duration": 21,
    "start_time": "2022-08-12T12:13:53.458Z"
   },
   {
    "duration": 16,
    "start_time": "2022-08-12T12:14:03.582Z"
   },
   {
    "duration": 11,
    "start_time": "2022-08-12T12:17:02.767Z"
   },
   {
    "duration": 21,
    "start_time": "2022-08-12T12:19:31.975Z"
   },
   {
    "duration": 18,
    "start_time": "2022-08-12T12:20:03.062Z"
   },
   {
    "duration": 1347,
    "start_time": "2022-08-12T12:21:10.684Z"
   },
   {
    "duration": 19,
    "start_time": "2022-08-12T12:21:26.865Z"
   },
   {
    "duration": 19,
    "start_time": "2022-08-12T12:21:34.156Z"
   },
   {
    "duration": 29,
    "start_time": "2022-08-12T12:22:12.094Z"
   },
   {
    "duration": 1577,
    "start_time": "2022-08-12T12:22:32.159Z"
   },
   {
    "duration": 1329,
    "start_time": "2022-08-12T12:22:49.778Z"
   },
   {
    "duration": 1237,
    "start_time": "2022-08-12T12:23:19.297Z"
   },
   {
    "duration": 20,
    "start_time": "2022-08-12T12:23:22.737Z"
   },
   {
    "duration": 96,
    "start_time": "2022-08-12T12:25:42.735Z"
   },
   {
    "duration": 113,
    "start_time": "2022-08-12T12:26:31.991Z"
   },
   {
    "duration": 20,
    "start_time": "2022-08-12T12:26:52.507Z"
   },
   {
    "duration": 20,
    "start_time": "2022-08-12T12:29:57.923Z"
   },
   {
    "duration": 23,
    "start_time": "2022-08-12T12:30:13.558Z"
   },
   {
    "duration": 21,
    "start_time": "2022-08-12T12:30:31.970Z"
   },
   {
    "duration": 20,
    "start_time": "2022-08-12T12:30:37.908Z"
   },
   {
    "duration": 20,
    "start_time": "2022-08-12T12:30:53.584Z"
   },
   {
    "duration": 23,
    "start_time": "2022-08-12T12:31:12.671Z"
   },
   {
    "duration": 5,
    "start_time": "2022-08-12T12:38:08.194Z"
   },
   {
    "duration": 5,
    "start_time": "2022-08-12T12:38:24.900Z"
   },
   {
    "duration": 5,
    "start_time": "2022-08-12T12:38:27.613Z"
   },
   {
    "duration": 19,
    "start_time": "2022-08-12T12:38:57.843Z"
   },
   {
    "duration": 19,
    "start_time": "2022-08-12T12:39:07.702Z"
   },
   {
    "duration": 7,
    "start_time": "2022-08-12T12:42:28.873Z"
   },
   {
    "duration": 40,
    "start_time": "2022-08-12T12:42:35.504Z"
   },
   {
    "duration": 33,
    "start_time": "2022-08-12T12:42:49.047Z"
   },
   {
    "duration": 11,
    "start_time": "2022-08-12T12:42:57.972Z"
   },
   {
    "duration": 8,
    "start_time": "2022-08-12T12:43:05.351Z"
   },
   {
    "duration": 6,
    "start_time": "2022-08-12T12:43:37.579Z"
   },
   {
    "duration": 9,
    "start_time": "2022-08-12T12:43:51.969Z"
   },
   {
    "duration": 9,
    "start_time": "2022-08-12T12:44:58.960Z"
   },
   {
    "duration": 11,
    "start_time": "2022-08-12T12:45:17.379Z"
   },
   {
    "duration": 4,
    "start_time": "2022-08-12T12:51:19.400Z"
   },
   {
    "duration": 8,
    "start_time": "2022-08-12T12:51:23.713Z"
   },
   {
    "duration": 5,
    "start_time": "2022-08-12T12:52:03.048Z"
   },
   {
    "duration": 7,
    "start_time": "2022-08-12T12:52:07.813Z"
   },
   {
    "duration": 20,
    "start_time": "2022-08-12T12:53:23.317Z"
   },
   {
    "duration": 25,
    "start_time": "2022-08-12T12:54:03.910Z"
   },
   {
    "duration": 29,
    "start_time": "2022-08-12T12:54:12.800Z"
   },
   {
    "duration": 38,
    "start_time": "2022-08-12T12:54:30.765Z"
   },
   {
    "duration": 9,
    "start_time": "2022-08-12T12:54:58.964Z"
   },
   {
    "duration": 111,
    "start_time": "2022-08-12T12:56:32.431Z"
   },
   {
    "duration": 75,
    "start_time": "2022-08-12T12:56:42.864Z"
   },
   {
    "duration": 130,
    "start_time": "2022-08-12T12:56:50.814Z"
   },
   {
    "duration": 10,
    "start_time": "2022-08-12T12:56:53.260Z"
   },
   {
    "duration": 10,
    "start_time": "2022-08-12T12:57:14.292Z"
   },
   {
    "duration": 8,
    "start_time": "2022-08-12T12:57:36.918Z"
   },
   {
    "duration": 14,
    "start_time": "2022-08-12T12:58:56.627Z"
   },
   {
    "duration": 6,
    "start_time": "2022-08-12T12:59:23.533Z"
   },
   {
    "duration": 10,
    "start_time": "2022-08-12T13:01:16.158Z"
   },
   {
    "duration": 5,
    "start_time": "2022-08-12T13:01:25.289Z"
   },
   {
    "duration": 5,
    "start_time": "2022-08-12T13:01:36.386Z"
   },
   {
    "duration": 6,
    "start_time": "2022-08-12T13:01:42.925Z"
   },
   {
    "duration": 22,
    "start_time": "2022-08-12T13:09:01.046Z"
   },
   {
    "duration": 8,
    "start_time": "2022-08-12T13:09:14.377Z"
   },
   {
    "duration": 7,
    "start_time": "2022-08-12T13:09:20.831Z"
   },
   {
    "duration": 15,
    "start_time": "2022-08-12T13:09:38.789Z"
   },
   {
    "duration": 5,
    "start_time": "2022-08-12T13:10:05.676Z"
   },
   {
    "duration": 7,
    "start_time": "2022-08-12T13:10:18.525Z"
   },
   {
    "duration": 8,
    "start_time": "2022-08-12T13:10:23.785Z"
   },
   {
    "duration": 6,
    "start_time": "2022-08-12T13:11:49.466Z"
   },
   {
    "duration": 6,
    "start_time": "2022-08-12T13:11:59.557Z"
   },
   {
    "duration": 7,
    "start_time": "2022-08-12T13:12:34.327Z"
   },
   {
    "duration": 6,
    "start_time": "2022-08-12T13:12:39.619Z"
   },
   {
    "duration": 100,
    "start_time": "2022-08-12T13:14:01.622Z"
   },
   {
    "duration": 14,
    "start_time": "2022-08-12T13:14:11.200Z"
   },
   {
    "duration": 13,
    "start_time": "2022-08-12T13:14:15.637Z"
   },
   {
    "duration": 15,
    "start_time": "2022-08-12T13:14:18.866Z"
   },
   {
    "duration": 14,
    "start_time": "2022-08-12T13:14:34.449Z"
   },
   {
    "duration": 7,
    "start_time": "2022-08-12T13:14:38.823Z"
   },
   {
    "duration": 4,
    "start_time": "2022-08-12T13:16:34.014Z"
   },
   {
    "duration": 8,
    "start_time": "2022-08-12T13:16:58.073Z"
   },
   {
    "duration": 9,
    "start_time": "2022-08-12T13:17:10.317Z"
   },
   {
    "duration": 22,
    "start_time": "2022-08-12T13:18:10.080Z"
   },
   {
    "duration": 8,
    "start_time": "2022-08-12T13:18:28.355Z"
   },
   {
    "duration": 7,
    "start_time": "2022-08-12T13:18:49.474Z"
   },
   {
    "duration": 19,
    "start_time": "2022-08-12T13:19:58.360Z"
   },
   {
    "duration": 9,
    "start_time": "2022-08-12T13:20:03.945Z"
   },
   {
    "duration": 9,
    "start_time": "2022-08-12T13:20:31.209Z"
   },
   {
    "duration": 11,
    "start_time": "2022-08-12T13:20:50.869Z"
   },
   {
    "duration": 11,
    "start_time": "2022-08-12T13:23:12.183Z"
   },
   {
    "duration": 1303,
    "start_time": "2022-08-12T13:23:19.424Z"
   },
   {
    "duration": 107,
    "start_time": "2022-08-12T13:23:20.730Z"
   },
   {
    "duration": 10,
    "start_time": "2022-08-12T13:23:20.839Z"
   },
   {
    "duration": 61,
    "start_time": "2022-08-12T13:23:20.852Z"
   },
   {
    "duration": 14,
    "start_time": "2022-08-12T13:23:20.915Z"
   },
   {
    "duration": 21,
    "start_time": "2022-08-12T13:23:20.931Z"
   },
   {
    "duration": 30,
    "start_time": "2022-08-12T13:23:20.953Z"
   },
   {
    "duration": 17,
    "start_time": "2022-08-12T13:23:20.985Z"
   },
   {
    "duration": 13,
    "start_time": "2022-08-12T13:23:21.005Z"
   },
   {
    "duration": 9,
    "start_time": "2022-08-12T13:23:21.021Z"
   },
   {
    "duration": 10,
    "start_time": "2022-08-12T13:23:21.032Z"
   },
   {
    "duration": 43,
    "start_time": "2022-08-12T13:23:21.044Z"
   },
   {
    "duration": 7,
    "start_time": "2022-08-12T13:23:21.090Z"
   },
   {
    "duration": 13,
    "start_time": "2022-08-12T13:23:21.099Z"
   },
   {
    "duration": 886,
    "start_time": "2022-08-12T13:23:21.115Z"
   },
   {
    "duration": 15,
    "start_time": "2022-08-12T13:23:22.003Z"
   },
   {
    "duration": 48,
    "start_time": "2022-08-12T13:23:22.021Z"
   },
   {
    "duration": 20,
    "start_time": "2022-08-12T13:23:22.072Z"
   },
   {
    "duration": 154,
    "start_time": "2022-08-12T13:23:22.094Z"
   },
   {
    "duration": 7,
    "start_time": "2022-08-12T13:23:22.250Z"
   },
   {
    "duration": 7,
    "start_time": "2022-08-12T13:23:22.268Z"
   },
   {
    "duration": 11,
    "start_time": "2022-08-12T13:23:22.277Z"
   },
   {
    "duration": 26,
    "start_time": "2022-08-12T13:23:22.290Z"
   },
   {
    "duration": 11,
    "start_time": "2022-08-12T13:23:22.319Z"
   },
   {
    "duration": 39,
    "start_time": "2022-08-12T13:23:22.333Z"
   },
   {
    "duration": 19,
    "start_time": "2022-08-12T13:23:22.375Z"
   },
   {
    "duration": 9,
    "start_time": "2022-08-12T13:23:22.397Z"
   },
   {
    "duration": 11,
    "start_time": "2022-08-12T13:23:22.411Z"
   },
   {
    "duration": 9,
    "start_time": "2022-08-12T13:23:22.424Z"
   },
   {
    "duration": 18,
    "start_time": "2022-08-12T13:23:22.468Z"
   },
   {
    "duration": 174,
    "start_time": "2022-08-12T13:23:22.487Z"
   },
   {
    "duration": 8,
    "start_time": "2022-08-12T13:23:22.668Z"
   },
   {
    "duration": 9,
    "start_time": "2022-08-12T13:23:22.678Z"
   },
   {
    "duration": 181,
    "start_time": "2022-08-12T13:23:22.689Z"
   },
   {
    "duration": 216,
    "start_time": "2022-08-12T13:23:22.872Z"
   },
   {
    "duration": 27,
    "start_time": "2022-08-12T13:23:23.090Z"
   },
   {
    "duration": 140,
    "start_time": "2022-08-12T13:23:23.119Z"
   },
   {
    "duration": 13,
    "start_time": "2022-08-12T13:23:23.261Z"
   },
   {
    "duration": 11,
    "start_time": "2022-08-12T13:23:23.276Z"
   },
   {
    "duration": 8,
    "start_time": "2022-08-12T13:23:23.289Z"
   },
   {
    "duration": 27,
    "start_time": "2022-08-12T13:23:23.299Z"
   },
   {
    "duration": 40,
    "start_time": "2022-08-12T13:23:23.328Z"
   },
   {
    "duration": 13,
    "start_time": "2022-08-12T13:23:23.370Z"
   },
   {
    "duration": 9,
    "start_time": "2022-08-12T13:23:23.385Z"
   },
   {
    "duration": 19,
    "start_time": "2022-08-12T13:23:23.396Z"
   },
   {
    "duration": 35,
    "start_time": "2022-08-12T13:23:23.418Z"
   },
   {
    "duration": 303,
    "start_time": "2022-08-12T13:23:23.454Z"
   },
   {
    "duration": 11,
    "start_time": "2022-08-12T13:23:23.759Z"
   },
   {
    "duration": 40,
    "start_time": "2022-08-12T13:23:23.771Z"
   },
   {
    "duration": 59,
    "start_time": "2022-08-12T13:23:23.813Z"
   },
   {
    "duration": 199,
    "start_time": "2022-08-12T13:23:23.874Z"
   },
   {
    "duration": 161,
    "start_time": "2022-08-12T13:23:24.074Z"
   },
   {
    "duration": 202,
    "start_time": "2022-08-12T13:23:24.237Z"
   },
   {
    "duration": 164,
    "start_time": "2022-08-12T13:23:24.441Z"
   },
   {
    "duration": 7,
    "start_time": "2022-08-12T13:23:24.606Z"
   },
   {
    "duration": 176,
    "start_time": "2022-08-12T13:23:24.615Z"
   },
   {
    "duration": 352,
    "start_time": "2022-08-12T13:23:24.793Z"
   },
   {
    "duration": 573,
    "start_time": "2022-08-12T13:23:25.146Z"
   },
   {
    "duration": 364,
    "start_time": "2022-08-12T13:23:25.721Z"
   },
   {
    "duration": 739,
    "start_time": "2022-08-12T13:23:26.087Z"
   },
   {
    "duration": 26,
    "start_time": "2022-08-12T13:23:26.828Z"
   },
   {
    "duration": 8,
    "start_time": "2022-08-12T13:23:26.868Z"
   },
   {
    "duration": 21,
    "start_time": "2022-08-12T13:23:26.878Z"
   },
   {
    "duration": 6,
    "start_time": "2022-08-12T13:23:26.901Z"
   },
   {
    "duration": 183,
    "start_time": "2022-08-12T13:23:26.909Z"
   },
   {
    "duration": 159,
    "start_time": "2022-08-12T13:23:27.094Z"
   },
   {
    "duration": 154,
    "start_time": "2022-08-12T13:23:27.255Z"
   },
   {
    "duration": 21,
    "start_time": "2022-08-12T13:23:27.412Z"
   },
   {
    "duration": 6,
    "start_time": "2022-08-12T13:23:27.435Z"
   },
   {
    "duration": 10,
    "start_time": "2022-08-12T13:23:27.467Z"
   },
   {
    "duration": 12,
    "start_time": "2022-08-12T13:23:27.479Z"
   },
   {
    "duration": 18,
    "start_time": "2022-08-12T13:23:27.493Z"
   },
   {
    "duration": 7,
    "start_time": "2022-08-12T13:23:27.512Z"
   },
   {
    "duration": 12,
    "start_time": "2022-08-12T13:23:27.521Z"
   },
   {
    "duration": 36,
    "start_time": "2022-08-12T13:23:27.536Z"
   },
   {
    "duration": 15,
    "start_time": "2022-08-12T13:23:27.574Z"
   },
   {
    "duration": 19,
    "start_time": "2022-08-12T13:25:33.389Z"
   },
   {
    "duration": 51,
    "start_time": "2022-08-12T13:25:38.494Z"
   },
   {
    "duration": 1227,
    "start_time": "2022-08-12T13:26:10.870Z"
   },
   {
    "duration": 103,
    "start_time": "2022-08-12T13:26:12.099Z"
   },
   {
    "duration": 7,
    "start_time": "2022-08-12T13:26:12.204Z"
   },
   {
    "duration": 49,
    "start_time": "2022-08-12T13:26:12.214Z"
   },
   {
    "duration": 12,
    "start_time": "2022-08-12T13:26:12.264Z"
   },
   {
    "duration": 21,
    "start_time": "2022-08-12T13:26:12.278Z"
   },
   {
    "duration": 17,
    "start_time": "2022-08-12T13:26:12.301Z"
   },
   {
    "duration": 15,
    "start_time": "2022-08-12T13:26:12.320Z"
   },
   {
    "duration": 34,
    "start_time": "2022-08-12T13:26:12.337Z"
   },
   {
    "duration": 7,
    "start_time": "2022-08-12T13:26:12.375Z"
   },
   {
    "duration": 10,
    "start_time": "2022-08-12T13:26:12.384Z"
   },
   {
    "duration": 20,
    "start_time": "2022-08-12T13:26:12.396Z"
   },
   {
    "duration": 10,
    "start_time": "2022-08-12T13:26:12.419Z"
   },
   {
    "duration": 12,
    "start_time": "2022-08-12T13:26:12.431Z"
   },
   {
    "duration": 863,
    "start_time": "2022-08-12T13:26:12.445Z"
   },
   {
    "duration": 17,
    "start_time": "2022-08-12T13:26:13.310Z"
   },
   {
    "duration": 20,
    "start_time": "2022-08-12T13:26:13.329Z"
   },
   {
    "duration": 33,
    "start_time": "2022-08-12T13:26:13.350Z"
   },
   {
    "duration": 158,
    "start_time": "2022-08-12T13:26:13.385Z"
   },
   {
    "duration": 8,
    "start_time": "2022-08-12T13:26:13.545Z"
   },
   {
    "duration": 16,
    "start_time": "2022-08-12T13:26:13.555Z"
   },
   {
    "duration": 9,
    "start_time": "2022-08-12T13:26:13.573Z"
   },
   {
    "duration": 20,
    "start_time": "2022-08-12T13:26:13.583Z"
   },
   {
    "duration": 13,
    "start_time": "2022-08-12T13:26:13.605Z"
   },
   {
    "duration": 12,
    "start_time": "2022-08-12T13:26:13.619Z"
   },
   {
    "duration": 41,
    "start_time": "2022-08-12T13:26:13.633Z"
   },
   {
    "duration": 13,
    "start_time": "2022-08-12T13:26:13.676Z"
   },
   {
    "duration": 9,
    "start_time": "2022-08-12T13:26:13.695Z"
   },
   {
    "duration": 8,
    "start_time": "2022-08-12T13:26:13.706Z"
   },
   {
    "duration": 21,
    "start_time": "2022-08-12T13:26:13.717Z"
   },
   {
    "duration": 216,
    "start_time": "2022-08-12T13:26:13.740Z"
   },
   {
    "duration": 11,
    "start_time": "2022-08-12T13:26:13.958Z"
   },
   {
    "duration": 16,
    "start_time": "2022-08-12T13:26:13.971Z"
   },
   {
    "duration": 206,
    "start_time": "2022-08-12T13:26:13.988Z"
   },
   {
    "duration": 187,
    "start_time": "2022-08-12T13:26:14.196Z"
   },
   {
    "duration": 21,
    "start_time": "2022-08-12T13:26:14.385Z"
   },
   {
    "duration": 142,
    "start_time": "2022-08-12T13:26:14.408Z"
   },
   {
    "duration": 18,
    "start_time": "2022-08-12T13:26:14.551Z"
   },
   {
    "duration": 8,
    "start_time": "2022-08-12T13:26:14.571Z"
   },
   {
    "duration": 5,
    "start_time": "2022-08-12T13:26:14.581Z"
   },
   {
    "duration": 28,
    "start_time": "2022-08-12T13:26:14.588Z"
   },
   {
    "duration": 19,
    "start_time": "2022-08-12T13:26:14.618Z"
   },
   {
    "duration": 115,
    "start_time": "2022-08-12T13:26:14.639Z"
   },
   {
    "duration": 18,
    "start_time": "2022-08-12T13:26:14.756Z"
   },
   {
    "duration": 11,
    "start_time": "2022-08-12T13:26:14.776Z"
   },
   {
    "duration": 6,
    "start_time": "2022-08-12T13:26:14.789Z"
   },
   {
    "duration": 18,
    "start_time": "2022-08-12T13:26:14.797Z"
   },
   {
    "duration": 155,
    "start_time": "2022-08-12T13:26:14.817Z"
   },
   {
    "duration": 6,
    "start_time": "2022-08-12T13:26:14.974Z"
   },
   {
    "duration": 38,
    "start_time": "2022-08-12T13:26:14.982Z"
   },
   {
    "duration": 61,
    "start_time": "2022-08-12T13:26:15.022Z"
   },
   {
    "duration": 187,
    "start_time": "2022-08-12T13:26:15.085Z"
   },
   {
    "duration": 179,
    "start_time": "2022-08-12T13:26:15.273Z"
   },
   {
    "duration": 200,
    "start_time": "2022-08-12T13:26:15.454Z"
   },
   {
    "duration": 184,
    "start_time": "2022-08-12T13:26:15.667Z"
   },
   {
    "duration": 9,
    "start_time": "2022-08-12T13:26:15.853Z"
   },
   {
    "duration": 201,
    "start_time": "2022-08-12T13:26:15.868Z"
   },
   {
    "duration": 422,
    "start_time": "2022-08-12T13:26:16.071Z"
   },
   {
    "duration": 664,
    "start_time": "2022-08-12T13:26:16.496Z"
   },
   {
    "duration": 360,
    "start_time": "2022-08-12T13:26:17.167Z"
   },
   {
    "duration": 665,
    "start_time": "2022-08-12T13:26:17.536Z"
   },
   {
    "duration": 30,
    "start_time": "2022-08-12T13:26:18.203Z"
   },
   {
    "duration": 9,
    "start_time": "2022-08-12T13:26:18.235Z"
   },
   {
    "duration": 43,
    "start_time": "2022-08-12T13:26:18.246Z"
   },
   {
    "duration": 7,
    "start_time": "2022-08-12T13:26:18.291Z"
   },
   {
    "duration": 172,
    "start_time": "2022-08-12T13:26:18.299Z"
   },
   {
    "duration": 149,
    "start_time": "2022-08-12T13:26:18.472Z"
   },
   {
    "duration": 152,
    "start_time": "2022-08-12T13:26:18.623Z"
   },
   {
    "duration": 20,
    "start_time": "2022-08-12T13:26:18.777Z"
   },
   {
    "duration": 6,
    "start_time": "2022-08-12T13:26:18.799Z"
   },
   {
    "duration": 11,
    "start_time": "2022-08-12T13:26:18.807Z"
   },
   {
    "duration": 12,
    "start_time": "2022-08-12T13:26:18.820Z"
   },
   {
    "duration": 38,
    "start_time": "2022-08-12T13:26:18.834Z"
   },
   {
    "duration": 6,
    "start_time": "2022-08-12T13:26:18.874Z"
   },
   {
    "duration": 10,
    "start_time": "2022-08-12T13:26:18.882Z"
   },
   {
    "duration": 9,
    "start_time": "2022-08-12T13:26:18.894Z"
   },
   {
    "duration": 13,
    "start_time": "2022-08-12T13:26:18.905Z"
   },
   {
    "duration": 15,
    "start_time": "2022-08-12T13:27:17.896Z"
   },
   {
    "duration": 11,
    "start_time": "2022-08-12T13:27:45.575Z"
   },
   {
    "duration": 10,
    "start_time": "2022-08-12T13:27:58.709Z"
   },
   {
    "duration": 12,
    "start_time": "2022-08-12T13:28:03.880Z"
   },
   {
    "duration": 1235,
    "start_time": "2022-08-12T14:01:36.645Z"
   },
   {
    "duration": 105,
    "start_time": "2022-08-12T14:01:37.882Z"
   },
   {
    "duration": 8,
    "start_time": "2022-08-12T14:01:37.988Z"
   },
   {
    "duration": 47,
    "start_time": "2022-08-12T14:01:37.998Z"
   },
   {
    "duration": 13,
    "start_time": "2022-08-12T14:01:38.048Z"
   },
   {
    "duration": 23,
    "start_time": "2022-08-12T14:01:38.062Z"
   },
   {
    "duration": 18,
    "start_time": "2022-08-12T14:01:38.087Z"
   },
   {
    "duration": 14,
    "start_time": "2022-08-12T14:01:38.107Z"
   },
   {
    "duration": 9,
    "start_time": "2022-08-12T14:01:38.123Z"
   },
   {
    "duration": 39,
    "start_time": "2022-08-12T14:01:38.134Z"
   },
   {
    "duration": 10,
    "start_time": "2022-08-12T14:01:38.176Z"
   },
   {
    "duration": 24,
    "start_time": "2022-08-12T14:01:38.189Z"
   },
   {
    "duration": 5,
    "start_time": "2022-08-12T14:01:38.215Z"
   },
   {
    "duration": 8,
    "start_time": "2022-08-12T14:01:38.223Z"
   },
   {
    "duration": 775,
    "start_time": "2022-08-12T14:01:38.233Z"
   },
   {
    "duration": 14,
    "start_time": "2022-08-12T14:01:39.010Z"
   },
   {
    "duration": 32,
    "start_time": "2022-08-12T14:01:39.027Z"
   },
   {
    "duration": 18,
    "start_time": "2022-08-12T14:01:39.069Z"
   },
   {
    "duration": 147,
    "start_time": "2022-08-12T14:01:39.089Z"
   },
   {
    "duration": 7,
    "start_time": "2022-08-12T14:01:39.238Z"
   },
   {
    "duration": 21,
    "start_time": "2022-08-12T14:01:39.247Z"
   },
   {
    "duration": 7,
    "start_time": "2022-08-12T14:01:39.270Z"
   },
   {
    "duration": 18,
    "start_time": "2022-08-12T14:01:39.279Z"
   },
   {
    "duration": 7,
    "start_time": "2022-08-12T14:01:39.298Z"
   },
   {
    "duration": 13,
    "start_time": "2022-08-12T14:01:39.307Z"
   },
   {
    "duration": 16,
    "start_time": "2022-08-12T14:01:39.323Z"
   },
   {
    "duration": 34,
    "start_time": "2022-08-12T14:01:39.341Z"
   },
   {
    "duration": 14,
    "start_time": "2022-08-12T14:01:39.376Z"
   },
   {
    "duration": 10,
    "start_time": "2022-08-12T14:01:39.392Z"
   },
   {
    "duration": 18,
    "start_time": "2022-08-12T14:01:39.404Z"
   },
   {
    "duration": 198,
    "start_time": "2022-08-12T14:01:39.424Z"
   },
   {
    "duration": 7,
    "start_time": "2022-08-12T14:01:39.624Z"
   },
   {
    "duration": 8,
    "start_time": "2022-08-12T14:01:39.633Z"
   },
   {
    "duration": 187,
    "start_time": "2022-08-12T14:01:39.643Z"
   },
   {
    "duration": 198,
    "start_time": "2022-08-12T14:01:39.832Z"
   },
   {
    "duration": 22,
    "start_time": "2022-08-12T14:01:40.032Z"
   },
   {
    "duration": 140,
    "start_time": "2022-08-12T14:01:40.068Z"
   },
   {
    "duration": 9,
    "start_time": "2022-08-12T14:01:40.210Z"
   },
   {
    "duration": 11,
    "start_time": "2022-08-12T14:01:40.221Z"
   },
   {
    "duration": 6,
    "start_time": "2022-08-12T14:01:40.235Z"
   },
   {
    "duration": 31,
    "start_time": "2022-08-12T14:01:40.268Z"
   },
   {
    "duration": 22,
    "start_time": "2022-08-12T14:01:40.301Z"
   },
   {
    "duration": 22,
    "start_time": "2022-08-12T14:01:40.325Z"
   },
   {
    "duration": 14,
    "start_time": "2022-08-12T14:01:40.368Z"
   },
   {
    "duration": 13,
    "start_time": "2022-08-12T14:01:40.384Z"
   },
   {
    "duration": 9,
    "start_time": "2022-08-12T14:01:40.399Z"
   },
   {
    "duration": 6,
    "start_time": "2022-08-12T14:01:40.410Z"
   },
   {
    "duration": 255,
    "start_time": "2022-08-12T14:01:40.417Z"
   },
   {
    "duration": 7,
    "start_time": "2022-08-12T14:01:40.674Z"
   },
   {
    "duration": 43,
    "start_time": "2022-08-12T14:01:40.683Z"
   },
   {
    "duration": 52,
    "start_time": "2022-08-12T14:01:40.728Z"
   },
   {
    "duration": 196,
    "start_time": "2022-08-12T14:01:40.782Z"
   },
   {
    "duration": 162,
    "start_time": "2022-08-12T14:01:40.980Z"
   },
   {
    "duration": 217,
    "start_time": "2022-08-12T14:01:41.144Z"
   },
   {
    "duration": 174,
    "start_time": "2022-08-12T14:01:41.362Z"
   },
   {
    "duration": 8,
    "start_time": "2022-08-12T14:01:41.538Z"
   },
   {
    "duration": 168,
    "start_time": "2022-08-12T14:01:41.567Z"
   },
   {
    "duration": 374,
    "start_time": "2022-08-12T14:01:41.737Z"
   },
   {
    "duration": 608,
    "start_time": "2022-08-12T14:01:42.113Z"
   },
   {
    "duration": 393,
    "start_time": "2022-08-12T14:01:42.724Z"
   },
   {
    "duration": 710,
    "start_time": "2022-08-12T14:01:43.119Z"
   },
   {
    "duration": 56,
    "start_time": "2022-08-12T14:01:43.831Z"
   },
   {
    "duration": 12,
    "start_time": "2022-08-12T14:01:43.889Z"
   },
   {
    "duration": 30,
    "start_time": "2022-08-12T14:01:43.904Z"
   },
   {
    "duration": 16,
    "start_time": "2022-08-12T14:01:43.936Z"
   },
   {
    "duration": 171,
    "start_time": "2022-08-12T14:01:43.955Z"
   },
   {
    "duration": 181,
    "start_time": "2022-08-12T14:01:44.128Z"
   },
   {
    "duration": 159,
    "start_time": "2022-08-12T14:01:44.311Z"
   },
   {
    "duration": 22,
    "start_time": "2022-08-12T14:01:44.472Z"
   },
   {
    "duration": 8,
    "start_time": "2022-08-12T14:01:44.496Z"
   },
   {
    "duration": 16,
    "start_time": "2022-08-12T14:01:44.506Z"
   },
   {
    "duration": 13,
    "start_time": "2022-08-12T14:01:44.524Z"
   },
   {
    "duration": 37,
    "start_time": "2022-08-12T14:01:44.539Z"
   },
   {
    "duration": 9,
    "start_time": "2022-08-12T14:01:44.578Z"
   },
   {
    "duration": 12,
    "start_time": "2022-08-12T14:01:44.589Z"
   },
   {
    "duration": 11,
    "start_time": "2022-08-12T14:01:44.603Z"
   },
   {
    "duration": 15,
    "start_time": "2022-08-12T14:01:44.617Z"
   },
   {
    "duration": 1172,
    "start_time": "2022-08-15T06:42:23.694Z"
   },
   {
    "duration": 274,
    "start_time": "2022-08-15T06:42:24.867Z"
   },
   {
    "duration": 6,
    "start_time": "2022-08-15T06:42:25.143Z"
   },
   {
    "duration": 105,
    "start_time": "2022-08-15T06:42:25.151Z"
   },
   {
    "duration": 9,
    "start_time": "2022-08-15T06:42:25.257Z"
   },
   {
    "duration": 17,
    "start_time": "2022-08-15T06:42:25.268Z"
   },
   {
    "duration": 12,
    "start_time": "2022-08-15T06:42:25.286Z"
   },
   {
    "duration": 14,
    "start_time": "2022-08-15T06:42:25.299Z"
   },
   {
    "duration": 17,
    "start_time": "2022-08-15T06:42:25.314Z"
   },
   {
    "duration": 17,
    "start_time": "2022-08-15T06:42:25.333Z"
   },
   {
    "duration": 17,
    "start_time": "2022-08-15T06:42:25.351Z"
   },
   {
    "duration": 31,
    "start_time": "2022-08-15T06:42:25.370Z"
   },
   {
    "duration": 24,
    "start_time": "2022-08-15T06:42:25.403Z"
   },
   {
    "duration": 15,
    "start_time": "2022-08-15T06:42:25.428Z"
   },
   {
    "duration": 687,
    "start_time": "2022-08-15T06:42:25.444Z"
   },
   {
    "duration": 10,
    "start_time": "2022-08-15T06:42:26.132Z"
   },
   {
    "duration": 16,
    "start_time": "2022-08-15T06:42:26.154Z"
   },
   {
    "duration": 14,
    "start_time": "2022-08-15T06:42:26.171Z"
   },
   {
    "duration": 119,
    "start_time": "2022-08-15T06:42:26.186Z"
   },
   {
    "duration": 5,
    "start_time": "2022-08-15T06:42:26.306Z"
   },
   {
    "duration": 7,
    "start_time": "2022-08-15T06:42:26.313Z"
   },
   {
    "duration": 7,
    "start_time": "2022-08-15T06:42:26.321Z"
   },
   {
    "duration": 26,
    "start_time": "2022-08-15T06:42:26.330Z"
   },
   {
    "duration": 6,
    "start_time": "2022-08-15T06:42:26.358Z"
   },
   {
    "duration": 12,
    "start_time": "2022-08-15T06:42:26.365Z"
   },
   {
    "duration": 10,
    "start_time": "2022-08-15T06:42:26.379Z"
   },
   {
    "duration": 9,
    "start_time": "2022-08-15T06:42:26.390Z"
   },
   {
    "duration": 9,
    "start_time": "2022-08-15T06:42:26.403Z"
   },
   {
    "duration": 6,
    "start_time": "2022-08-15T06:42:26.413Z"
   },
   {
    "duration": 13,
    "start_time": "2022-08-15T06:42:26.421Z"
   },
   {
    "duration": 127,
    "start_time": "2022-08-15T06:42:26.455Z"
   },
   {
    "duration": 6,
    "start_time": "2022-08-15T06:42:26.584Z"
   },
   {
    "duration": 8,
    "start_time": "2022-08-15T06:42:26.591Z"
   },
   {
    "duration": 166,
    "start_time": "2022-08-15T06:42:26.601Z"
   },
   {
    "duration": 161,
    "start_time": "2022-08-15T06:42:26.768Z"
   },
   {
    "duration": 25,
    "start_time": "2022-08-15T06:42:26.930Z"
   },
   {
    "duration": 114,
    "start_time": "2022-08-15T06:42:26.956Z"
   },
   {
    "duration": 6,
    "start_time": "2022-08-15T06:42:27.071Z"
   },
   {
    "duration": 18,
    "start_time": "2022-08-15T06:42:27.079Z"
   },
   {
    "duration": 13,
    "start_time": "2022-08-15T06:42:27.098Z"
   },
   {
    "duration": 28,
    "start_time": "2022-08-15T06:42:27.112Z"
   },
   {
    "duration": 30,
    "start_time": "2022-08-15T06:42:27.142Z"
   },
   {
    "duration": 89,
    "start_time": "2022-08-15T06:42:27.173Z"
   },
   {
    "duration": 34,
    "start_time": "2022-08-15T06:42:27.264Z"
   },
   {
    "duration": 13,
    "start_time": "2022-08-15T06:42:27.300Z"
   },
   {
    "duration": 24,
    "start_time": "2022-08-15T06:42:27.315Z"
   },
   {
    "duration": 13,
    "start_time": "2022-08-15T06:42:27.342Z"
   },
   {
    "duration": 152,
    "start_time": "2022-08-15T06:42:27.357Z"
   },
   {
    "duration": 6,
    "start_time": "2022-08-15T06:42:27.510Z"
   },
   {
    "duration": 40,
    "start_time": "2022-08-15T06:42:27.517Z"
   },
   {
    "duration": 27,
    "start_time": "2022-08-15T06:42:27.558Z"
   },
   {
    "duration": 157,
    "start_time": "2022-08-15T06:42:27.587Z"
   },
   {
    "duration": 135,
    "start_time": "2022-08-15T06:42:27.746Z"
   },
   {
    "duration": 159,
    "start_time": "2022-08-15T06:42:27.882Z"
   },
   {
    "duration": 133,
    "start_time": "2022-08-15T06:42:28.043Z"
   },
   {
    "duration": 5,
    "start_time": "2022-08-15T06:42:28.178Z"
   },
   {
    "duration": 155,
    "start_time": "2022-08-15T06:42:28.184Z"
   },
   {
    "duration": 318,
    "start_time": "2022-08-15T06:42:28.340Z"
   },
   {
    "duration": 461,
    "start_time": "2022-08-15T06:42:28.660Z"
   },
   {
    "duration": 310,
    "start_time": "2022-08-15T06:42:29.123Z"
   },
   {
    "duration": 524,
    "start_time": "2022-08-15T06:42:29.435Z"
   },
   {
    "duration": 24,
    "start_time": "2022-08-15T06:42:29.961Z"
   },
   {
    "duration": 7,
    "start_time": "2022-08-15T06:42:29.987Z"
   },
   {
    "duration": 21,
    "start_time": "2022-08-15T06:42:29.996Z"
   },
   {
    "duration": 3,
    "start_time": "2022-08-15T06:42:30.019Z"
   },
   {
    "duration": 145,
    "start_time": "2022-08-15T06:42:30.023Z"
   },
   {
    "duration": 114,
    "start_time": "2022-08-15T06:42:30.169Z"
   },
   {
    "duration": 118,
    "start_time": "2022-08-15T06:42:30.285Z"
   },
   {
    "duration": 16,
    "start_time": "2022-08-15T06:42:30.405Z"
   },
   {
    "duration": 14,
    "start_time": "2022-08-15T06:42:30.423Z"
   },
   {
    "duration": 22,
    "start_time": "2022-08-15T06:42:30.438Z"
   },
   {
    "duration": 16,
    "start_time": "2022-08-15T06:42:30.462Z"
   },
   {
    "duration": 11,
    "start_time": "2022-08-15T06:42:30.480Z"
   },
   {
    "duration": 16,
    "start_time": "2022-08-15T06:42:30.492Z"
   },
   {
    "duration": 7,
    "start_time": "2022-08-15T06:42:30.509Z"
   },
   {
    "duration": 13,
    "start_time": "2022-08-15T06:42:30.518Z"
   },
   {
    "duration": 30,
    "start_time": "2022-08-15T06:42:30.533Z"
   },
   {
    "duration": 14,
    "start_time": "2022-08-15T06:43:09.849Z"
   },
   {
    "duration": 6,
    "start_time": "2022-08-15T06:43:54.446Z"
   },
   {
    "duration": 4,
    "start_time": "2022-08-15T06:44:05.945Z"
   },
   {
    "duration": 6,
    "start_time": "2022-08-15T06:44:12.041Z"
   },
   {
    "duration": 9,
    "start_time": "2022-08-15T06:44:35.577Z"
   },
   {
    "duration": 15,
    "start_time": "2022-08-15T06:44:37.142Z"
   },
   {
    "duration": 14,
    "start_time": "2022-08-15T06:44:39.661Z"
   },
   {
    "duration": 10,
    "start_time": "2022-08-15T06:44:52.320Z"
   },
   {
    "duration": 14,
    "start_time": "2022-08-15T06:44:53.842Z"
   },
   {
    "duration": 13,
    "start_time": "2022-08-15T06:44:56.108Z"
   },
   {
    "duration": 10,
    "start_time": "2022-08-15T06:46:07.016Z"
   },
   {
    "duration": 13,
    "start_time": "2022-08-15T06:46:08.811Z"
   },
   {
    "duration": 14,
    "start_time": "2022-08-15T06:46:12.404Z"
   },
   {
    "duration": 13,
    "start_time": "2022-08-15T06:46:47.334Z"
   },
   {
    "duration": 14,
    "start_time": "2022-08-15T06:46:48.840Z"
   },
   {
    "duration": 19,
    "start_time": "2022-08-15T06:46:56.514Z"
   },
   {
    "duration": 2,
    "start_time": "2022-08-15T06:49:45.269Z"
   },
   {
    "duration": 1035,
    "start_time": "2022-08-15T06:49:52.195Z"
   },
   {
    "duration": 88,
    "start_time": "2022-08-15T06:49:53.232Z"
   },
   {
    "duration": 7,
    "start_time": "2022-08-15T06:49:53.321Z"
   },
   {
    "duration": 51,
    "start_time": "2022-08-15T06:49:53.329Z"
   },
   {
    "duration": 9,
    "start_time": "2022-08-15T06:49:53.382Z"
   },
   {
    "duration": 18,
    "start_time": "2022-08-15T06:49:53.392Z"
   },
   {
    "duration": 14,
    "start_time": "2022-08-15T06:49:53.412Z"
   },
   {
    "duration": 2,
    "start_time": "2022-08-15T06:49:53.428Z"
   },
   {
    "duration": 23,
    "start_time": "2022-08-15T06:49:53.432Z"
   },
   {
    "duration": 13,
    "start_time": "2022-08-15T06:49:53.457Z"
   },
   {
    "duration": 11,
    "start_time": "2022-08-15T06:49:53.471Z"
   },
   {
    "duration": 8,
    "start_time": "2022-08-15T06:49:53.483Z"
   },
   {
    "duration": 11,
    "start_time": "2022-08-15T06:49:53.492Z"
   },
   {
    "duration": 20,
    "start_time": "2022-08-15T06:49:53.504Z"
   },
   {
    "duration": 10,
    "start_time": "2022-08-15T06:49:53.526Z"
   },
   {
    "duration": 8,
    "start_time": "2022-08-15T06:49:53.537Z"
   },
   {
    "duration": 621,
    "start_time": "2022-08-15T06:49:53.555Z"
   },
   {
    "duration": 11,
    "start_time": "2022-08-15T06:49:54.178Z"
   },
   {
    "duration": 18,
    "start_time": "2022-08-15T06:49:54.190Z"
   },
   {
    "duration": 14,
    "start_time": "2022-08-15T06:49:54.210Z"
   },
   {
    "duration": 129,
    "start_time": "2022-08-15T06:49:54.226Z"
   },
   {
    "duration": 5,
    "start_time": "2022-08-15T06:49:54.357Z"
   },
   {
    "duration": 7,
    "start_time": "2022-08-15T06:49:54.363Z"
   },
   {
    "duration": 7,
    "start_time": "2022-08-15T06:49:54.372Z"
   },
   {
    "duration": 18,
    "start_time": "2022-08-15T06:49:54.380Z"
   },
   {
    "duration": 6,
    "start_time": "2022-08-15T06:49:54.399Z"
   },
   {
    "duration": 8,
    "start_time": "2022-08-15T06:49:54.406Z"
   },
   {
    "duration": 9,
    "start_time": "2022-08-15T06:49:54.418Z"
   },
   {
    "duration": 31,
    "start_time": "2022-08-15T06:49:54.428Z"
   },
   {
    "duration": 6,
    "start_time": "2022-08-15T06:49:54.461Z"
   },
   {
    "duration": 6,
    "start_time": "2022-08-15T06:49:54.469Z"
   },
   {
    "duration": 14,
    "start_time": "2022-08-15T06:49:54.476Z"
   },
   {
    "duration": 144,
    "start_time": "2022-08-15T06:49:54.491Z"
   },
   {
    "duration": 19,
    "start_time": "2022-08-15T06:49:54.637Z"
   },
   {
    "duration": 21,
    "start_time": "2022-08-15T06:49:54.657Z"
   },
   {
    "duration": 141,
    "start_time": "2022-08-15T06:49:54.680Z"
   },
   {
    "duration": 150,
    "start_time": "2022-08-15T06:49:54.822Z"
   },
   {
    "duration": 18,
    "start_time": "2022-08-15T06:49:54.974Z"
   },
   {
    "duration": 132,
    "start_time": "2022-08-15T06:49:54.994Z"
   },
   {
    "duration": 7,
    "start_time": "2022-08-15T06:49:55.128Z"
   },
   {
    "duration": 18,
    "start_time": "2022-08-15T06:49:55.137Z"
   },
   {
    "duration": 4,
    "start_time": "2022-08-15T06:49:55.157Z"
   },
   {
    "duration": 22,
    "start_time": "2022-08-15T06:49:55.163Z"
   },
   {
    "duration": 16,
    "start_time": "2022-08-15T06:49:55.186Z"
   },
   {
    "duration": 109,
    "start_time": "2022-08-15T06:49:55.204Z"
   },
   {
    "duration": 13,
    "start_time": "2022-08-15T06:49:55.315Z"
   },
   {
    "duration": 10,
    "start_time": "2022-08-15T06:49:55.330Z"
   },
   {
    "duration": 14,
    "start_time": "2022-08-15T06:49:55.341Z"
   },
   {
    "duration": 4,
    "start_time": "2022-08-15T06:49:55.356Z"
   },
   {
    "duration": 120,
    "start_time": "2022-08-15T06:49:55.361Z"
   },
   {
    "duration": 6,
    "start_time": "2022-08-15T06:49:55.482Z"
   },
   {
    "duration": 33,
    "start_time": "2022-08-15T06:49:55.490Z"
   },
   {
    "duration": 44,
    "start_time": "2022-08-15T06:49:55.525Z"
   },
   {
    "duration": 164,
    "start_time": "2022-08-15T06:49:55.570Z"
   },
   {
    "duration": 127,
    "start_time": "2022-08-15T06:49:55.735Z"
   },
   {
    "duration": 170,
    "start_time": "2022-08-15T06:49:55.864Z"
   },
   {
    "duration": 142,
    "start_time": "2022-08-15T06:49:56.035Z"
   },
   {
    "duration": 5,
    "start_time": "2022-08-15T06:49:56.179Z"
   },
   {
    "duration": 158,
    "start_time": "2022-08-15T06:49:56.186Z"
   },
   {
    "duration": 316,
    "start_time": "2022-08-15T06:49:56.346Z"
   },
   {
    "duration": 497,
    "start_time": "2022-08-15T06:49:56.664Z"
   },
   {
    "duration": 333,
    "start_time": "2022-08-15T06:49:57.162Z"
   },
   {
    "duration": 541,
    "start_time": "2022-08-15T06:49:57.497Z"
   },
   {
    "duration": 31,
    "start_time": "2022-08-15T06:49:58.040Z"
   },
   {
    "duration": 7,
    "start_time": "2022-08-15T06:49:58.072Z"
   },
   {
    "duration": 21,
    "start_time": "2022-08-15T06:49:58.080Z"
   },
   {
    "duration": 6,
    "start_time": "2022-08-15T06:49:58.103Z"
   },
   {
    "duration": 146,
    "start_time": "2022-08-15T06:49:58.111Z"
   },
   {
    "duration": 124,
    "start_time": "2022-08-15T06:49:58.258Z"
   },
   {
    "duration": 120,
    "start_time": "2022-08-15T06:49:58.384Z"
   },
   {
    "duration": 22,
    "start_time": "2022-08-15T06:49:58.506Z"
   },
   {
    "duration": 5,
    "start_time": "2022-08-15T06:49:58.529Z"
   },
   {
    "duration": 25,
    "start_time": "2022-08-15T06:49:58.535Z"
   },
   {
    "duration": 13,
    "start_time": "2022-08-15T06:49:58.562Z"
   },
   {
    "duration": 9,
    "start_time": "2022-08-15T06:49:58.577Z"
   },
   {
    "duration": 8,
    "start_time": "2022-08-15T06:49:58.587Z"
   },
   {
    "duration": 8,
    "start_time": "2022-08-15T06:49:58.596Z"
   },
   {
    "duration": 12,
    "start_time": "2022-08-15T06:49:58.605Z"
   },
   {
    "duration": 36,
    "start_time": "2022-08-15T06:49:58.619Z"
   },
   {
    "duration": 9,
    "start_time": "2022-08-15T06:50:39.051Z"
   },
   {
    "duration": 4,
    "start_time": "2022-08-15T06:50:41.331Z"
   },
   {
    "duration": 4,
    "start_time": "2022-08-15T06:50:43.313Z"
   },
   {
    "duration": 9,
    "start_time": "2022-08-15T06:50:50.594Z"
   },
   {
    "duration": 5,
    "start_time": "2022-08-15T06:50:52.558Z"
   },
   {
    "duration": 11,
    "start_time": "2022-08-15T06:51:55.415Z"
   },
   {
    "duration": 4,
    "start_time": "2022-08-15T06:52:06.147Z"
   },
   {
    "duration": 1076,
    "start_time": "2022-08-15T06:52:15.952Z"
   },
   {
    "duration": 85,
    "start_time": "2022-08-15T06:52:17.030Z"
   },
   {
    "duration": 6,
    "start_time": "2022-08-15T06:52:17.116Z"
   },
   {
    "duration": 46,
    "start_time": "2022-08-15T06:52:17.124Z"
   },
   {
    "duration": 9,
    "start_time": "2022-08-15T06:52:17.172Z"
   },
   {
    "duration": 15,
    "start_time": "2022-08-15T06:52:17.182Z"
   },
   {
    "duration": 14,
    "start_time": "2022-08-15T06:52:17.199Z"
   },
   {
    "duration": 2,
    "start_time": "2022-08-15T06:52:17.215Z"
   },
   {
    "duration": 15,
    "start_time": "2022-08-15T06:52:17.219Z"
   },
   {
    "duration": 746,
    "start_time": "2022-08-15T06:52:17.254Z"
   },
   {
    "duration": 0,
    "start_time": "2022-08-15T06:52:18.003Z"
   },
   {
    "duration": 0,
    "start_time": "2022-08-15T06:52:18.005Z"
   },
   {
    "duration": 0,
    "start_time": "2022-08-15T06:52:18.006Z"
   },
   {
    "duration": 0,
    "start_time": "2022-08-15T06:52:18.007Z"
   },
   {
    "duration": 0,
    "start_time": "2022-08-15T06:52:18.009Z"
   },
   {
    "duration": 0,
    "start_time": "2022-08-15T06:52:18.010Z"
   },
   {
    "duration": 0,
    "start_time": "2022-08-15T06:52:18.011Z"
   },
   {
    "duration": 0,
    "start_time": "2022-08-15T06:52:18.012Z"
   },
   {
    "duration": 0,
    "start_time": "2022-08-15T06:52:18.013Z"
   },
   {
    "duration": 0,
    "start_time": "2022-08-15T06:52:18.014Z"
   },
   {
    "duration": 0,
    "start_time": "2022-08-15T06:52:18.015Z"
   },
   {
    "duration": 0,
    "start_time": "2022-08-15T06:52:18.016Z"
   },
   {
    "duration": 0,
    "start_time": "2022-08-15T06:52:18.017Z"
   },
   {
    "duration": 0,
    "start_time": "2022-08-15T06:52:18.018Z"
   },
   {
    "duration": 0,
    "start_time": "2022-08-15T06:52:18.019Z"
   },
   {
    "duration": 0,
    "start_time": "2022-08-15T06:52:18.020Z"
   },
   {
    "duration": 0,
    "start_time": "2022-08-15T06:52:18.021Z"
   },
   {
    "duration": 0,
    "start_time": "2022-08-15T06:52:18.022Z"
   },
   {
    "duration": 0,
    "start_time": "2022-08-15T06:52:18.023Z"
   },
   {
    "duration": 0,
    "start_time": "2022-08-15T06:52:18.023Z"
   },
   {
    "duration": 0,
    "start_time": "2022-08-15T06:52:18.024Z"
   },
   {
    "duration": 0,
    "start_time": "2022-08-15T06:52:18.025Z"
   },
   {
    "duration": 0,
    "start_time": "2022-08-15T06:52:18.026Z"
   },
   {
    "duration": 0,
    "start_time": "2022-08-15T06:52:18.027Z"
   },
   {
    "duration": 0,
    "start_time": "2022-08-15T06:52:18.028Z"
   },
   {
    "duration": 0,
    "start_time": "2022-08-15T06:52:18.029Z"
   },
   {
    "duration": 0,
    "start_time": "2022-08-15T06:52:18.030Z"
   },
   {
    "duration": 1,
    "start_time": "2022-08-15T06:52:18.030Z"
   },
   {
    "duration": 0,
    "start_time": "2022-08-15T06:52:18.032Z"
   },
   {
    "duration": 0,
    "start_time": "2022-08-15T06:52:18.032Z"
   },
   {
    "duration": 0,
    "start_time": "2022-08-15T06:52:18.033Z"
   },
   {
    "duration": 0,
    "start_time": "2022-08-15T06:52:18.034Z"
   },
   {
    "duration": 0,
    "start_time": "2022-08-15T06:52:18.035Z"
   },
   {
    "duration": 0,
    "start_time": "2022-08-15T06:52:18.036Z"
   },
   {
    "duration": 0,
    "start_time": "2022-08-15T06:52:18.037Z"
   },
   {
    "duration": 0,
    "start_time": "2022-08-15T06:52:18.037Z"
   },
   {
    "duration": 0,
    "start_time": "2022-08-15T06:52:18.038Z"
   },
   {
    "duration": 0,
    "start_time": "2022-08-15T06:52:18.039Z"
   },
   {
    "duration": 0,
    "start_time": "2022-08-15T06:52:18.040Z"
   },
   {
    "duration": 0,
    "start_time": "2022-08-15T06:52:18.055Z"
   },
   {
    "duration": 0,
    "start_time": "2022-08-15T06:52:18.056Z"
   },
   {
    "duration": 0,
    "start_time": "2022-08-15T06:52:18.057Z"
   },
   {
    "duration": 0,
    "start_time": "2022-08-15T06:52:18.057Z"
   },
   {
    "duration": 0,
    "start_time": "2022-08-15T06:52:18.059Z"
   },
   {
    "duration": 0,
    "start_time": "2022-08-15T06:52:18.060Z"
   },
   {
    "duration": 0,
    "start_time": "2022-08-15T06:52:18.061Z"
   },
   {
    "duration": 0,
    "start_time": "2022-08-15T06:52:18.062Z"
   },
   {
    "duration": 0,
    "start_time": "2022-08-15T06:52:18.063Z"
   },
   {
    "duration": 0,
    "start_time": "2022-08-15T06:52:18.065Z"
   },
   {
    "duration": 0,
    "start_time": "2022-08-15T06:52:18.066Z"
   },
   {
    "duration": 0,
    "start_time": "2022-08-15T06:52:18.067Z"
   },
   {
    "duration": 0,
    "start_time": "2022-08-15T06:52:18.068Z"
   },
   {
    "duration": 0,
    "start_time": "2022-08-15T06:52:18.069Z"
   },
   {
    "duration": 0,
    "start_time": "2022-08-15T06:52:18.071Z"
   },
   {
    "duration": 0,
    "start_time": "2022-08-15T06:52:18.072Z"
   },
   {
    "duration": 0,
    "start_time": "2022-08-15T06:52:18.073Z"
   },
   {
    "duration": 0,
    "start_time": "2022-08-15T06:52:18.074Z"
   },
   {
    "duration": 1,
    "start_time": "2022-08-15T06:52:18.075Z"
   },
   {
    "duration": 0,
    "start_time": "2022-08-15T06:52:18.077Z"
   },
   {
    "duration": 0,
    "start_time": "2022-08-15T06:52:18.078Z"
   },
   {
    "duration": 0,
    "start_time": "2022-08-15T06:52:18.079Z"
   },
   {
    "duration": 0,
    "start_time": "2022-08-15T06:52:18.080Z"
   },
   {
    "duration": 0,
    "start_time": "2022-08-15T06:52:18.082Z"
   },
   {
    "duration": 0,
    "start_time": "2022-08-15T06:52:18.083Z"
   },
   {
    "duration": 0,
    "start_time": "2022-08-15T06:52:18.085Z"
   },
   {
    "duration": 0,
    "start_time": "2022-08-15T06:52:18.086Z"
   },
   {
    "duration": 0,
    "start_time": "2022-08-15T06:52:18.087Z"
   },
   {
    "duration": 0,
    "start_time": "2022-08-15T06:52:18.088Z"
   },
   {
    "duration": 0,
    "start_time": "2022-08-15T06:52:18.090Z"
   },
   {
    "duration": 0,
    "start_time": "2022-08-15T06:52:18.091Z"
   },
   {
    "duration": 1014,
    "start_time": "2022-08-15T06:52:50.482Z"
   },
   {
    "duration": 1268,
    "start_time": "2022-08-15T06:55:19.209Z"
   },
   {
    "duration": 13,
    "start_time": "2022-08-15T06:57:20.462Z"
   },
   {
    "duration": 1079,
    "start_time": "2022-08-15T06:57:29.136Z"
   },
   {
    "duration": 90,
    "start_time": "2022-08-15T06:57:30.217Z"
   },
   {
    "duration": 6,
    "start_time": "2022-08-15T06:57:30.309Z"
   },
   {
    "duration": 58,
    "start_time": "2022-08-15T06:57:30.317Z"
   },
   {
    "duration": 10,
    "start_time": "2022-08-15T06:57:30.377Z"
   },
   {
    "duration": 22,
    "start_time": "2022-08-15T06:57:30.388Z"
   },
   {
    "duration": 27,
    "start_time": "2022-08-15T06:57:30.412Z"
   },
   {
    "duration": 3,
    "start_time": "2022-08-15T06:57:30.440Z"
   },
   {
    "duration": 16,
    "start_time": "2022-08-15T06:57:30.444Z"
   },
   {
    "duration": 12,
    "start_time": "2022-08-15T06:57:30.461Z"
   },
   {
    "duration": 18,
    "start_time": "2022-08-15T06:57:30.474Z"
   },
   {
    "duration": 6,
    "start_time": "2022-08-15T06:57:30.493Z"
   },
   {
    "duration": 8,
    "start_time": "2022-08-15T06:57:30.500Z"
   },
   {
    "duration": 13,
    "start_time": "2022-08-15T06:57:30.511Z"
   },
   {
    "duration": 42,
    "start_time": "2022-08-15T06:57:30.525Z"
   },
   {
    "duration": 20,
    "start_time": "2022-08-15T06:57:30.568Z"
   },
   {
    "duration": 23,
    "start_time": "2022-08-15T06:57:30.589Z"
   },
   {
    "duration": 715,
    "start_time": "2022-08-15T06:57:30.614Z"
   },
   {
    "duration": 10,
    "start_time": "2022-08-15T06:57:31.330Z"
   },
   {
    "duration": 27,
    "start_time": "2022-08-15T06:57:31.342Z"
   },
   {
    "duration": 16,
    "start_time": "2022-08-15T06:57:31.370Z"
   },
   {
    "duration": 121,
    "start_time": "2022-08-15T06:57:31.387Z"
   },
   {
    "duration": 5,
    "start_time": "2022-08-15T06:57:31.510Z"
   },
   {
    "duration": 17,
    "start_time": "2022-08-15T06:57:31.517Z"
   },
   {
    "duration": 14,
    "start_time": "2022-08-15T06:57:31.535Z"
   },
   {
    "duration": 30,
    "start_time": "2022-08-15T06:57:31.551Z"
   },
   {
    "duration": 7,
    "start_time": "2022-08-15T06:57:31.583Z"
   },
   {
    "duration": 10,
    "start_time": "2022-08-15T06:57:31.591Z"
   },
   {
    "duration": 13,
    "start_time": "2022-08-15T06:57:31.603Z"
   },
   {
    "duration": 8,
    "start_time": "2022-08-15T06:57:31.617Z"
   },
   {
    "duration": 17,
    "start_time": "2022-08-15T06:57:31.626Z"
   },
   {
    "duration": 6,
    "start_time": "2022-08-15T06:57:31.644Z"
   },
   {
    "duration": 18,
    "start_time": "2022-08-15T06:57:31.652Z"
   },
   {
    "duration": 128,
    "start_time": "2022-08-15T06:57:31.671Z"
   },
   {
    "duration": 7,
    "start_time": "2022-08-15T06:57:31.800Z"
   },
   {
    "duration": 9,
    "start_time": "2022-08-15T06:57:31.808Z"
   },
   {
    "duration": 145,
    "start_time": "2022-08-15T06:57:31.818Z"
   },
   {
    "duration": 155,
    "start_time": "2022-08-15T06:57:31.964Z"
   },
   {
    "duration": 16,
    "start_time": "2022-08-15T06:57:32.121Z"
   },
   {
    "duration": 116,
    "start_time": "2022-08-15T06:57:32.139Z"
   },
   {
    "duration": 6,
    "start_time": "2022-08-15T06:57:32.259Z"
   },
   {
    "duration": 7,
    "start_time": "2022-08-15T06:57:32.266Z"
   },
   {
    "duration": 16,
    "start_time": "2022-08-15T06:57:32.274Z"
   },
   {
    "duration": 0,
    "start_time": "2022-08-15T06:57:32.291Z"
   },
   {
    "duration": 0,
    "start_time": "2022-08-15T06:57:32.292Z"
   },
   {
    "duration": 0,
    "start_time": "2022-08-15T06:57:32.293Z"
   },
   {
    "duration": 0,
    "start_time": "2022-08-15T06:57:32.293Z"
   },
   {
    "duration": 0,
    "start_time": "2022-08-15T06:57:32.294Z"
   },
   {
    "duration": 0,
    "start_time": "2022-08-15T06:57:32.295Z"
   },
   {
    "duration": 0,
    "start_time": "2022-08-15T06:57:32.296Z"
   },
   {
    "duration": 0,
    "start_time": "2022-08-15T06:57:32.297Z"
   },
   {
    "duration": 0,
    "start_time": "2022-08-15T06:57:32.298Z"
   },
   {
    "duration": 0,
    "start_time": "2022-08-15T06:57:32.298Z"
   },
   {
    "duration": 0,
    "start_time": "2022-08-15T06:57:32.300Z"
   },
   {
    "duration": 0,
    "start_time": "2022-08-15T06:57:32.301Z"
   },
   {
    "duration": 0,
    "start_time": "2022-08-15T06:57:32.302Z"
   },
   {
    "duration": 0,
    "start_time": "2022-08-15T06:57:32.302Z"
   },
   {
    "duration": 0,
    "start_time": "2022-08-15T06:57:32.303Z"
   },
   {
    "duration": 0,
    "start_time": "2022-08-15T06:57:32.304Z"
   },
   {
    "duration": 0,
    "start_time": "2022-08-15T06:57:32.305Z"
   },
   {
    "duration": 0,
    "start_time": "2022-08-15T06:57:32.306Z"
   },
   {
    "duration": 0,
    "start_time": "2022-08-15T06:57:32.306Z"
   },
   {
    "duration": 0,
    "start_time": "2022-08-15T06:57:32.307Z"
   },
   {
    "duration": 0,
    "start_time": "2022-08-15T06:57:32.308Z"
   },
   {
    "duration": 0,
    "start_time": "2022-08-15T06:57:32.309Z"
   },
   {
    "duration": 0,
    "start_time": "2022-08-15T06:57:32.309Z"
   },
   {
    "duration": 0,
    "start_time": "2022-08-15T06:57:32.310Z"
   },
   {
    "duration": 0,
    "start_time": "2022-08-15T06:57:32.311Z"
   },
   {
    "duration": 0,
    "start_time": "2022-08-15T06:57:32.312Z"
   },
   {
    "duration": 0,
    "start_time": "2022-08-15T06:57:32.354Z"
   },
   {
    "duration": 0,
    "start_time": "2022-08-15T06:57:32.356Z"
   },
   {
    "duration": 0,
    "start_time": "2022-08-15T06:57:32.357Z"
   },
   {
    "duration": 0,
    "start_time": "2022-08-15T06:57:32.358Z"
   },
   {
    "duration": 0,
    "start_time": "2022-08-15T06:57:32.358Z"
   },
   {
    "duration": 0,
    "start_time": "2022-08-15T06:57:32.359Z"
   },
   {
    "duration": 0,
    "start_time": "2022-08-15T06:57:32.360Z"
   },
   {
    "duration": 0,
    "start_time": "2022-08-15T06:57:32.361Z"
   },
   {
    "duration": 0,
    "start_time": "2022-08-15T06:57:32.361Z"
   },
   {
    "duration": 0,
    "start_time": "2022-08-15T06:57:32.362Z"
   },
   {
    "duration": 0,
    "start_time": "2022-08-15T06:57:32.363Z"
   },
   {
    "duration": 22,
    "start_time": "2022-08-15T07:00:05.671Z"
   },
   {
    "duration": 10,
    "start_time": "2022-08-15T07:00:38.828Z"
   },
   {
    "duration": 1026,
    "start_time": "2022-08-15T07:02:08.988Z"
   },
   {
    "duration": 86,
    "start_time": "2022-08-15T07:02:10.016Z"
   },
   {
    "duration": 6,
    "start_time": "2022-08-15T07:02:10.104Z"
   },
   {
    "duration": 47,
    "start_time": "2022-08-15T07:02:10.112Z"
   },
   {
    "duration": 10,
    "start_time": "2022-08-15T07:02:10.160Z"
   },
   {
    "duration": 17,
    "start_time": "2022-08-15T07:02:10.171Z"
   },
   {
    "duration": 14,
    "start_time": "2022-08-15T07:02:10.189Z"
   },
   {
    "duration": 2,
    "start_time": "2022-08-15T07:02:10.205Z"
   },
   {
    "duration": 14,
    "start_time": "2022-08-15T07:02:10.208Z"
   },
   {
    "duration": 35,
    "start_time": "2022-08-15T07:02:10.224Z"
   },
   {
    "duration": 8,
    "start_time": "2022-08-15T07:02:10.261Z"
   },
   {
    "duration": 6,
    "start_time": "2022-08-15T07:02:10.270Z"
   },
   {
    "duration": 9,
    "start_time": "2022-08-15T07:02:10.277Z"
   },
   {
    "duration": 21,
    "start_time": "2022-08-15T07:02:10.288Z"
   },
   {
    "duration": 4,
    "start_time": "2022-08-15T07:02:10.310Z"
   },
   {
    "duration": 7,
    "start_time": "2022-08-15T07:02:10.316Z"
   },
   {
    "duration": 670,
    "start_time": "2022-08-15T07:02:10.325Z"
   },
   {
    "duration": 13,
    "start_time": "2022-08-15T07:02:10.997Z"
   },
   {
    "duration": 30,
    "start_time": "2022-08-15T07:02:11.012Z"
   },
   {
    "duration": 20,
    "start_time": "2022-08-15T07:02:11.044Z"
   },
   {
    "duration": 109,
    "start_time": "2022-08-15T07:02:11.066Z"
   },
   {
    "duration": 6,
    "start_time": "2022-08-15T07:02:11.176Z"
   },
   {
    "duration": 7,
    "start_time": "2022-08-15T07:02:11.183Z"
   },
   {
    "duration": 6,
    "start_time": "2022-08-15T07:02:11.192Z"
   },
   {
    "duration": 14,
    "start_time": "2022-08-15T07:02:11.200Z"
   },
   {
    "duration": 8,
    "start_time": "2022-08-15T07:02:11.216Z"
   },
   {
    "duration": 31,
    "start_time": "2022-08-15T07:02:11.225Z"
   },
   {
    "duration": 10,
    "start_time": "2022-08-15T07:02:11.261Z"
   },
   {
    "duration": 9,
    "start_time": "2022-08-15T07:02:11.273Z"
   },
   {
    "duration": 7,
    "start_time": "2022-08-15T07:02:11.284Z"
   },
   {
    "duration": 6,
    "start_time": "2022-08-15T07:02:11.293Z"
   },
   {
    "duration": 14,
    "start_time": "2022-08-15T07:02:11.301Z"
   },
   {
    "duration": 53,
    "start_time": "2022-08-15T07:02:11.316Z"
   },
   {
    "duration": 133,
    "start_time": "2022-08-15T07:02:11.370Z"
   },
   {
    "duration": 6,
    "start_time": "2022-08-15T07:02:11.504Z"
   },
   {
    "duration": 9,
    "start_time": "2022-08-15T07:02:11.511Z"
   },
   {
    "duration": 150,
    "start_time": "2022-08-15T07:02:11.522Z"
   },
   {
    "duration": 153,
    "start_time": "2022-08-15T07:02:11.674Z"
   },
   {
    "duration": 28,
    "start_time": "2022-08-15T07:02:11.828Z"
   },
   {
    "duration": 116,
    "start_time": "2022-08-15T07:02:11.858Z"
   },
   {
    "duration": 8,
    "start_time": "2022-08-15T07:02:11.975Z"
   },
   {
    "duration": 14,
    "start_time": "2022-08-15T07:02:11.984Z"
   },
   {
    "duration": 4,
    "start_time": "2022-08-15T07:02:12.000Z"
   },
   {
    "duration": 23,
    "start_time": "2022-08-15T07:02:12.006Z"
   },
   {
    "duration": 34,
    "start_time": "2022-08-15T07:02:12.030Z"
   },
   {
    "duration": 75,
    "start_time": "2022-08-15T07:02:12.066Z"
   },
   {
    "duration": 16,
    "start_time": "2022-08-15T07:02:12.143Z"
   },
   {
    "duration": 6,
    "start_time": "2022-08-15T07:02:12.160Z"
   },
   {
    "duration": 5,
    "start_time": "2022-08-15T07:02:12.168Z"
   },
   {
    "duration": 5,
    "start_time": "2022-08-15T07:02:12.175Z"
   },
   {
    "duration": 134,
    "start_time": "2022-08-15T07:02:12.181Z"
   },
   {
    "duration": 6,
    "start_time": "2022-08-15T07:02:12.317Z"
   },
   {
    "duration": 54,
    "start_time": "2022-08-15T07:02:12.325Z"
   },
   {
    "duration": 33,
    "start_time": "2022-08-15T07:02:12.381Z"
   },
   {
    "duration": 171,
    "start_time": "2022-08-15T07:02:12.415Z"
   },
   {
    "duration": 127,
    "start_time": "2022-08-15T07:02:12.588Z"
   },
   {
    "duration": 164,
    "start_time": "2022-08-15T07:02:12.716Z"
   },
   {
    "duration": 137,
    "start_time": "2022-08-15T07:02:12.881Z"
   },
   {
    "duration": 6,
    "start_time": "2022-08-15T07:02:13.019Z"
   },
   {
    "duration": 139,
    "start_time": "2022-08-15T07:02:13.027Z"
   },
   {
    "duration": 294,
    "start_time": "2022-08-15T07:02:13.168Z"
   },
   {
    "duration": 455,
    "start_time": "2022-08-15T07:02:13.464Z"
   },
   {
    "duration": 335,
    "start_time": "2022-08-15T07:02:13.920Z"
   },
   {
    "duration": 587,
    "start_time": "2022-08-15T07:02:14.257Z"
   },
   {
    "duration": 30,
    "start_time": "2022-08-15T07:02:14.846Z"
   },
   {
    "duration": 6,
    "start_time": "2022-08-15T07:02:14.878Z"
   },
   {
    "duration": 21,
    "start_time": "2022-08-15T07:02:14.886Z"
   },
   {
    "duration": 3,
    "start_time": "2022-08-15T07:02:14.909Z"
   },
   {
    "duration": 158,
    "start_time": "2022-08-15T07:02:14.914Z"
   },
   {
    "duration": 118,
    "start_time": "2022-08-15T07:02:15.074Z"
   },
   {
    "duration": 118,
    "start_time": "2022-08-15T07:02:15.193Z"
   },
   {
    "duration": 16,
    "start_time": "2022-08-15T07:02:15.312Z"
   },
   {
    "duration": 4,
    "start_time": "2022-08-15T07:02:15.330Z"
   },
   {
    "duration": 21,
    "start_time": "2022-08-15T07:02:15.335Z"
   },
   {
    "duration": 10,
    "start_time": "2022-08-15T07:02:15.357Z"
   },
   {
    "duration": 20,
    "start_time": "2022-08-15T07:02:15.368Z"
   },
   {
    "duration": 5,
    "start_time": "2022-08-15T07:02:15.389Z"
   },
   {
    "duration": 6,
    "start_time": "2022-08-15T07:02:15.396Z"
   },
   {
    "duration": 7,
    "start_time": "2022-08-15T07:02:15.404Z"
   },
   {
    "duration": 13,
    "start_time": "2022-08-15T07:02:15.412Z"
   },
   {
    "duration": 5,
    "start_time": "2022-08-15T07:06:29.001Z"
   },
   {
    "duration": 8,
    "start_time": "2022-08-15T07:06:46.719Z"
   },
   {
    "duration": 7,
    "start_time": "2022-08-15T07:07:12.715Z"
   },
   {
    "duration": 178,
    "start_time": "2022-08-15T07:10:34.804Z"
   },
   {
    "duration": 15,
    "start_time": "2022-08-15T07:10:43.820Z"
   },
   {
    "duration": 13,
    "start_time": "2022-08-15T07:16:39.062Z"
   },
   {
    "duration": 5,
    "start_time": "2022-08-15T07:19:08.193Z"
   },
   {
    "duration": 10,
    "start_time": "2022-08-15T07:19:34.354Z"
   },
   {
    "duration": 917,
    "start_time": "2022-08-15T07:20:10.720Z"
   },
   {
    "duration": 43,
    "start_time": "2022-08-15T07:25:02.625Z"
   },
   {
    "duration": 41,
    "start_time": "2022-08-15T07:25:57.504Z"
   },
   {
    "duration": 1122,
    "start_time": "2022-08-15T07:46:33.336Z"
   },
   {
    "duration": 86,
    "start_time": "2022-08-15T07:46:34.459Z"
   },
   {
    "duration": 6,
    "start_time": "2022-08-15T07:46:34.547Z"
   },
   {
    "duration": 47,
    "start_time": "2022-08-15T07:46:34.555Z"
   },
   {
    "duration": 9,
    "start_time": "2022-08-15T07:46:34.603Z"
   },
   {
    "duration": 16,
    "start_time": "2022-08-15T07:46:34.614Z"
   },
   {
    "duration": 13,
    "start_time": "2022-08-15T07:46:34.631Z"
   },
   {
    "duration": 2,
    "start_time": "2022-08-15T07:46:34.646Z"
   },
   {
    "duration": 14,
    "start_time": "2022-08-15T07:46:34.650Z"
   },
   {
    "duration": 11,
    "start_time": "2022-08-15T07:46:34.666Z"
   },
   {
    "duration": 7,
    "start_time": "2022-08-15T07:46:34.678Z"
   },
   {
    "duration": 9,
    "start_time": "2022-08-15T07:46:34.686Z"
   },
   {
    "duration": 9,
    "start_time": "2022-08-15T07:46:34.696Z"
   },
   {
    "duration": 18,
    "start_time": "2022-08-15T07:46:34.706Z"
   },
   {
    "duration": 7,
    "start_time": "2022-08-15T07:46:34.725Z"
   },
   {
    "duration": 21,
    "start_time": "2022-08-15T07:46:34.734Z"
   },
   {
    "duration": 611,
    "start_time": "2022-08-15T07:46:34.756Z"
   },
   {
    "duration": 12,
    "start_time": "2022-08-15T07:46:35.369Z"
   },
   {
    "duration": 17,
    "start_time": "2022-08-15T07:46:35.383Z"
   },
   {
    "duration": 13,
    "start_time": "2022-08-15T07:46:35.402Z"
   },
   {
    "duration": 127,
    "start_time": "2022-08-15T07:46:35.416Z"
   },
   {
    "duration": 5,
    "start_time": "2022-08-15T07:46:35.544Z"
   },
   {
    "duration": 5,
    "start_time": "2022-08-15T07:46:35.554Z"
   },
   {
    "duration": 7,
    "start_time": "2022-08-15T07:46:35.560Z"
   },
   {
    "duration": 13,
    "start_time": "2022-08-15T07:46:35.569Z"
   },
   {
    "duration": 5,
    "start_time": "2022-08-15T07:46:35.583Z"
   },
   {
    "duration": 10,
    "start_time": "2022-08-15T07:46:35.590Z"
   },
   {
    "duration": 9,
    "start_time": "2022-08-15T07:46:35.604Z"
   },
   {
    "duration": 6,
    "start_time": "2022-08-15T07:46:35.614Z"
   },
   {
    "duration": 6,
    "start_time": "2022-08-15T07:46:35.621Z"
   },
   {
    "duration": 6,
    "start_time": "2022-08-15T07:46:35.655Z"
   },
   {
    "duration": 13,
    "start_time": "2022-08-15T07:46:35.662Z"
   },
   {
    "duration": 21,
    "start_time": "2022-08-15T07:46:35.676Z"
   },
   {
    "duration": 145,
    "start_time": "2022-08-15T07:46:35.698Z"
   },
   {
    "duration": 14,
    "start_time": "2022-08-15T07:46:35.844Z"
   },
   {
    "duration": 10,
    "start_time": "2022-08-15T07:46:35.859Z"
   },
   {
    "duration": 140,
    "start_time": "2022-08-15T07:46:35.871Z"
   },
   {
    "duration": 145,
    "start_time": "2022-08-15T07:46:36.012Z"
   },
   {
    "duration": 17,
    "start_time": "2022-08-15T07:46:36.158Z"
   },
   {
    "duration": 123,
    "start_time": "2022-08-15T07:46:36.176Z"
   },
   {
    "duration": 6,
    "start_time": "2022-08-15T07:46:36.301Z"
   },
   {
    "duration": 7,
    "start_time": "2022-08-15T07:46:36.308Z"
   },
   {
    "duration": 3,
    "start_time": "2022-08-15T07:46:36.317Z"
   },
   {
    "duration": 35,
    "start_time": "2022-08-15T07:46:36.322Z"
   },
   {
    "duration": 14,
    "start_time": "2022-08-15T07:46:36.359Z"
   },
   {
    "duration": 86,
    "start_time": "2022-08-15T07:46:36.374Z"
   },
   {
    "duration": 10,
    "start_time": "2022-08-15T07:46:36.461Z"
   },
   {
    "duration": 6,
    "start_time": "2022-08-15T07:46:36.473Z"
   },
   {
    "duration": 7,
    "start_time": "2022-08-15T07:46:36.480Z"
   },
   {
    "duration": 19,
    "start_time": "2022-08-15T07:46:36.488Z"
   },
   {
    "duration": 3,
    "start_time": "2022-08-15T07:46:36.508Z"
   },
   {
    "duration": 134,
    "start_time": "2022-08-15T07:46:36.513Z"
   },
   {
    "duration": 6,
    "start_time": "2022-08-15T07:46:36.654Z"
   },
   {
    "duration": 17,
    "start_time": "2022-08-15T07:46:36.661Z"
   },
   {
    "duration": 62,
    "start_time": "2022-08-15T07:46:36.681Z"
   },
   {
    "duration": 41,
    "start_time": "2022-08-15T07:46:36.745Z"
   },
   {
    "duration": 187,
    "start_time": "2022-08-15T07:46:36.788Z"
   },
   {
    "duration": 125,
    "start_time": "2022-08-15T07:46:36.977Z"
   },
   {
    "duration": 185,
    "start_time": "2022-08-15T07:46:37.104Z"
   },
   {
    "duration": 171,
    "start_time": "2022-08-15T07:46:37.292Z"
   },
   {
    "duration": 8,
    "start_time": "2022-08-15T07:46:37.465Z"
   },
   {
    "duration": 147,
    "start_time": "2022-08-15T07:46:37.475Z"
   },
   {
    "duration": 345,
    "start_time": "2022-08-15T07:46:37.624Z"
   },
   {
    "duration": 452,
    "start_time": "2022-08-15T07:46:37.970Z"
   },
   {
    "duration": 313,
    "start_time": "2022-08-15T07:46:38.424Z"
   },
   {
    "duration": 618,
    "start_time": "2022-08-15T07:46:38.738Z"
   },
   {
    "duration": 27,
    "start_time": "2022-08-15T07:46:39.357Z"
   },
   {
    "duration": 8,
    "start_time": "2022-08-15T07:46:39.385Z"
   },
   {
    "duration": 22,
    "start_time": "2022-08-15T07:46:39.394Z"
   },
   {
    "duration": 3,
    "start_time": "2022-08-15T07:46:39.417Z"
   },
   {
    "duration": 167,
    "start_time": "2022-08-15T07:46:39.422Z"
   },
   {
    "duration": 125,
    "start_time": "2022-08-15T07:46:39.591Z"
   },
   {
    "duration": 131,
    "start_time": "2022-08-15T07:46:39.717Z"
   },
   {
    "duration": 16,
    "start_time": "2022-08-15T07:46:39.855Z"
   },
   {
    "duration": 4,
    "start_time": "2022-08-15T07:46:39.873Z"
   },
   {
    "duration": 8,
    "start_time": "2022-08-15T07:46:39.878Z"
   },
   {
    "duration": 13,
    "start_time": "2022-08-15T07:46:39.887Z"
   },
   {
    "duration": 9,
    "start_time": "2022-08-15T07:46:39.902Z"
   },
   {
    "duration": 5,
    "start_time": "2022-08-15T07:46:39.912Z"
   },
   {
    "duration": 37,
    "start_time": "2022-08-15T07:46:39.919Z"
   },
   {
    "duration": 7,
    "start_time": "2022-08-15T07:46:39.958Z"
   },
   {
    "duration": 9,
    "start_time": "2022-08-15T07:46:39.970Z"
   },
   {
    "duration": 55,
    "start_time": "2022-08-16T10:12:38.848Z"
   },
   {
    "duration": 1308,
    "start_time": "2022-08-16T10:12:46.636Z"
   },
   {
    "duration": 292,
    "start_time": "2022-08-16T10:12:47.946Z"
   },
   {
    "duration": 7,
    "start_time": "2022-08-16T10:12:48.240Z"
   },
   {
    "duration": 105,
    "start_time": "2022-08-16T10:12:48.249Z"
   },
   {
    "duration": 12,
    "start_time": "2022-08-16T10:12:48.356Z"
   },
   {
    "duration": 38,
    "start_time": "2022-08-16T10:12:48.372Z"
   },
   {
    "duration": 13,
    "start_time": "2022-08-16T10:12:48.412Z"
   },
   {
    "duration": 13,
    "start_time": "2022-08-16T10:12:48.427Z"
   },
   {
    "duration": 38,
    "start_time": "2022-08-16T10:12:48.442Z"
   },
   {
    "duration": 34,
    "start_time": "2022-08-16T10:12:48.485Z"
   },
   {
    "duration": 5,
    "start_time": "2022-08-16T10:12:48.521Z"
   },
   {
    "duration": 21,
    "start_time": "2022-08-16T10:12:48.528Z"
   },
   {
    "duration": 21,
    "start_time": "2022-08-16T10:12:48.550Z"
   },
   {
    "duration": 34,
    "start_time": "2022-08-16T10:12:48.572Z"
   },
   {
    "duration": 7,
    "start_time": "2022-08-16T10:12:48.608Z"
   },
   {
    "duration": 5,
    "start_time": "2022-08-16T10:12:48.617Z"
   },
   {
    "duration": 766,
    "start_time": "2022-08-16T10:12:48.623Z"
   },
   {
    "duration": 11,
    "start_time": "2022-08-16T10:12:49.391Z"
   },
   {
    "duration": 20,
    "start_time": "2022-08-16T10:12:49.403Z"
   },
   {
    "duration": 16,
    "start_time": "2022-08-16T10:12:49.424Z"
   },
   {
    "duration": 194,
    "start_time": "2022-08-16T10:12:49.442Z"
   },
   {
    "duration": 6,
    "start_time": "2022-08-16T10:12:49.637Z"
   },
   {
    "duration": 7,
    "start_time": "2022-08-16T10:12:49.644Z"
   },
   {
    "duration": 16,
    "start_time": "2022-08-16T10:12:49.653Z"
   },
   {
    "duration": 30,
    "start_time": "2022-08-16T10:12:49.671Z"
   },
   {
    "duration": 6,
    "start_time": "2022-08-16T10:12:49.703Z"
   },
   {
    "duration": 9,
    "start_time": "2022-08-16T10:12:49.710Z"
   },
   {
    "duration": 12,
    "start_time": "2022-08-16T10:12:49.723Z"
   },
   {
    "duration": 8,
    "start_time": "2022-08-16T10:12:49.736Z"
   },
   {
    "duration": 7,
    "start_time": "2022-08-16T10:12:49.745Z"
   },
   {
    "duration": 14,
    "start_time": "2022-08-16T10:12:49.755Z"
   },
   {
    "duration": 33,
    "start_time": "2022-08-16T10:12:49.770Z"
   },
   {
    "duration": 29,
    "start_time": "2022-08-16T10:12:49.805Z"
   },
   {
    "duration": 155,
    "start_time": "2022-08-16T10:12:49.836Z"
   },
   {
    "duration": 8,
    "start_time": "2022-08-16T10:12:49.993Z"
   },
   {
    "duration": 13,
    "start_time": "2022-08-16T10:12:50.002Z"
   },
   {
    "duration": 192,
    "start_time": "2022-08-16T10:12:50.017Z"
   },
   {
    "duration": 175,
    "start_time": "2022-08-16T10:12:50.211Z"
   },
   {
    "duration": 18,
    "start_time": "2022-08-16T10:12:50.388Z"
   },
   {
    "duration": 134,
    "start_time": "2022-08-16T10:12:50.408Z"
   },
   {
    "duration": 7,
    "start_time": "2022-08-16T10:12:50.544Z"
   },
   {
    "duration": 24,
    "start_time": "2022-08-16T10:12:50.553Z"
   },
   {
    "duration": 14,
    "start_time": "2022-08-16T10:12:50.580Z"
   },
   {
    "duration": 26,
    "start_time": "2022-08-16T10:12:50.595Z"
   },
   {
    "duration": 17,
    "start_time": "2022-08-16T10:12:50.623Z"
   },
   {
    "duration": 93,
    "start_time": "2022-08-16T10:12:50.641Z"
   },
   {
    "duration": 13,
    "start_time": "2022-08-16T10:12:50.735Z"
   },
   {
    "duration": 6,
    "start_time": "2022-08-16T10:12:50.750Z"
   },
   {
    "duration": 18,
    "start_time": "2022-08-16T10:12:50.758Z"
   },
   {
    "duration": 19,
    "start_time": "2022-08-16T10:12:50.781Z"
   },
   {
    "duration": 4,
    "start_time": "2022-08-16T10:12:50.801Z"
   },
   {
    "duration": 150,
    "start_time": "2022-08-16T10:12:50.806Z"
   },
   {
    "duration": 9,
    "start_time": "2022-08-16T10:12:50.958Z"
   },
   {
    "duration": 19,
    "start_time": "2022-08-16T10:12:50.969Z"
   },
   {
    "duration": 1242,
    "start_time": "2022-08-16T10:12:50.990Z"
   },
   {
    "duration": 0,
    "start_time": "2022-08-16T10:12:52.233Z"
   },
   {
    "duration": 0,
    "start_time": "2022-08-16T10:12:52.234Z"
   },
   {
    "duration": 0,
    "start_time": "2022-08-16T10:12:52.236Z"
   },
   {
    "duration": 0,
    "start_time": "2022-08-16T10:12:52.237Z"
   },
   {
    "duration": 0,
    "start_time": "2022-08-16T10:12:52.238Z"
   },
   {
    "duration": 0,
    "start_time": "2022-08-16T10:12:52.239Z"
   },
   {
    "duration": 0,
    "start_time": "2022-08-16T10:12:52.240Z"
   },
   {
    "duration": 0,
    "start_time": "2022-08-16T10:12:52.241Z"
   },
   {
    "duration": 0,
    "start_time": "2022-08-16T10:12:52.242Z"
   },
   {
    "duration": 0,
    "start_time": "2022-08-16T10:12:52.243Z"
   },
   {
    "duration": 0,
    "start_time": "2022-08-16T10:12:52.244Z"
   },
   {
    "duration": 0,
    "start_time": "2022-08-16T10:12:52.245Z"
   },
   {
    "duration": 0,
    "start_time": "2022-08-16T10:12:52.246Z"
   },
   {
    "duration": 0,
    "start_time": "2022-08-16T10:12:52.247Z"
   },
   {
    "duration": 0,
    "start_time": "2022-08-16T10:12:52.247Z"
   },
   {
    "duration": 0,
    "start_time": "2022-08-16T10:12:52.249Z"
   },
   {
    "duration": 0,
    "start_time": "2022-08-16T10:12:52.250Z"
   },
   {
    "duration": 0,
    "start_time": "2022-08-16T10:12:52.251Z"
   },
   {
    "duration": 0,
    "start_time": "2022-08-16T10:12:52.252Z"
   },
   {
    "duration": 0,
    "start_time": "2022-08-16T10:12:52.253Z"
   },
   {
    "duration": 0,
    "start_time": "2022-08-16T10:12:52.254Z"
   },
   {
    "duration": 0,
    "start_time": "2022-08-16T10:12:52.255Z"
   },
   {
    "duration": 0,
    "start_time": "2022-08-16T10:12:52.256Z"
   },
   {
    "duration": 0,
    "start_time": "2022-08-16T10:12:52.257Z"
   },
   {
    "duration": 0,
    "start_time": "2022-08-16T10:12:52.258Z"
   },
   {
    "duration": 0,
    "start_time": "2022-08-16T10:12:52.259Z"
   },
   {
    "duration": 0,
    "start_time": "2022-08-16T10:12:52.260Z"
   },
   {
    "duration": 0,
    "start_time": "2022-08-16T10:12:52.261Z"
   },
   {
    "duration": 1243,
    "start_time": "2022-08-16T10:15:16.044Z"
   },
   {
    "duration": 112,
    "start_time": "2022-08-16T10:15:17.291Z"
   },
   {
    "duration": 7,
    "start_time": "2022-08-16T10:15:17.405Z"
   },
   {
    "duration": 50,
    "start_time": "2022-08-16T10:15:17.414Z"
   },
   {
    "duration": 16,
    "start_time": "2022-08-16T10:15:17.466Z"
   },
   {
    "duration": 22,
    "start_time": "2022-08-16T10:15:17.484Z"
   },
   {
    "duration": 19,
    "start_time": "2022-08-16T10:15:17.508Z"
   },
   {
    "duration": 3,
    "start_time": "2022-08-16T10:15:17.528Z"
   },
   {
    "duration": 49,
    "start_time": "2022-08-16T10:15:17.532Z"
   },
   {
    "duration": 13,
    "start_time": "2022-08-16T10:15:17.586Z"
   },
   {
    "duration": 8,
    "start_time": "2022-08-16T10:15:17.601Z"
   },
   {
    "duration": 5,
    "start_time": "2022-08-16T10:15:17.611Z"
   },
   {
    "duration": 7,
    "start_time": "2022-08-16T10:15:17.618Z"
   },
   {
    "duration": 18,
    "start_time": "2022-08-16T10:15:17.626Z"
   },
   {
    "duration": 7,
    "start_time": "2022-08-16T10:15:17.646Z"
   },
   {
    "duration": 26,
    "start_time": "2022-08-16T10:15:17.654Z"
   },
   {
    "duration": 752,
    "start_time": "2022-08-16T10:15:17.682Z"
   },
   {
    "duration": 13,
    "start_time": "2022-08-16T10:15:18.436Z"
   },
   {
    "duration": 37,
    "start_time": "2022-08-16T10:15:18.451Z"
   },
   {
    "duration": 17,
    "start_time": "2022-08-16T10:15:18.489Z"
   },
   {
    "duration": 138,
    "start_time": "2022-08-16T10:15:18.507Z"
   },
   {
    "duration": 6,
    "start_time": "2022-08-16T10:15:18.646Z"
   },
   {
    "duration": 24,
    "start_time": "2022-08-16T10:15:18.653Z"
   },
   {
    "duration": 7,
    "start_time": "2022-08-16T10:15:18.684Z"
   },
   {
    "duration": 18,
    "start_time": "2022-08-16T10:15:18.692Z"
   },
   {
    "duration": 8,
    "start_time": "2022-08-16T10:15:18.711Z"
   },
   {
    "duration": 8,
    "start_time": "2022-08-16T10:15:18.721Z"
   },
   {
    "duration": 10,
    "start_time": "2022-08-16T10:15:18.733Z"
   },
   {
    "duration": 31,
    "start_time": "2022-08-16T10:15:18.744Z"
   },
   {
    "duration": 10,
    "start_time": "2022-08-16T10:15:18.782Z"
   },
   {
    "duration": 8,
    "start_time": "2022-08-16T10:15:18.794Z"
   },
   {
    "duration": 20,
    "start_time": "2022-08-16T10:15:18.804Z"
   },
   {
    "duration": 50,
    "start_time": "2022-08-16T10:15:18.825Z"
   },
   {
    "duration": 149,
    "start_time": "2022-08-16T10:15:18.881Z"
   },
   {
    "duration": 6,
    "start_time": "2022-08-16T10:15:19.032Z"
   },
   {
    "duration": 8,
    "start_time": "2022-08-16T10:15:19.040Z"
   },
   {
    "duration": 186,
    "start_time": "2022-08-16T10:15:19.049Z"
   },
   {
    "duration": 177,
    "start_time": "2022-08-16T10:15:19.236Z"
   },
   {
    "duration": 21,
    "start_time": "2022-08-16T10:15:19.415Z"
   },
   {
    "duration": 150,
    "start_time": "2022-08-16T10:15:19.438Z"
   },
   {
    "duration": 8,
    "start_time": "2022-08-16T10:15:19.590Z"
   },
   {
    "duration": 9,
    "start_time": "2022-08-16T10:15:19.600Z"
   },
   {
    "duration": 6,
    "start_time": "2022-08-16T10:15:19.610Z"
   },
   {
    "duration": 24,
    "start_time": "2022-08-16T10:15:19.618Z"
   },
   {
    "duration": 47,
    "start_time": "2022-08-16T10:15:19.644Z"
   },
   {
    "duration": 103,
    "start_time": "2022-08-16T10:15:19.692Z"
   },
   {
    "duration": 15,
    "start_time": "2022-08-16T10:15:19.796Z"
   },
   {
    "duration": 9,
    "start_time": "2022-08-16T10:15:19.812Z"
   },
   {
    "duration": 6,
    "start_time": "2022-08-16T10:15:19.823Z"
   },
   {
    "duration": 31,
    "start_time": "2022-08-16T10:15:19.831Z"
   },
   {
    "duration": 11,
    "start_time": "2022-08-16T10:15:19.868Z"
   },
   {
    "duration": 136,
    "start_time": "2022-08-16T10:15:19.881Z"
   },
   {
    "duration": 6,
    "start_time": "2022-08-16T10:15:20.019Z"
   },
   {
    "duration": 11,
    "start_time": "2022-08-16T10:15:20.027Z"
   },
   {
    "duration": 53,
    "start_time": "2022-08-16T10:15:20.040Z"
   },
   {
    "duration": 40,
    "start_time": "2022-08-16T10:15:20.095Z"
   },
   {
    "duration": 208,
    "start_time": "2022-08-16T10:15:20.137Z"
   },
   {
    "duration": 157,
    "start_time": "2022-08-16T10:15:20.348Z"
   },
   {
    "duration": 210,
    "start_time": "2022-08-16T10:15:20.506Z"
   },
   {
    "duration": 167,
    "start_time": "2022-08-16T10:15:20.718Z"
   },
   {
    "duration": 8,
    "start_time": "2022-08-16T10:15:20.887Z"
   },
   {
    "duration": 160,
    "start_time": "2022-08-16T10:15:20.897Z"
   },
   {
    "duration": 352,
    "start_time": "2022-08-16T10:15:21.059Z"
   },
   {
    "duration": 552,
    "start_time": "2022-08-16T10:15:21.413Z"
   },
   {
    "duration": 337,
    "start_time": "2022-08-16T10:15:21.969Z"
   },
   {
    "duration": 640,
    "start_time": "2022-08-16T10:15:22.308Z"
   },
   {
    "duration": 40,
    "start_time": "2022-08-16T10:15:22.950Z"
   },
   {
    "duration": 13,
    "start_time": "2022-08-16T10:15:22.992Z"
   },
   {
    "duration": 28,
    "start_time": "2022-08-16T10:15:23.006Z"
   },
   {
    "duration": 11,
    "start_time": "2022-08-16T10:15:23.036Z"
   },
   {
    "duration": 179,
    "start_time": "2022-08-16T10:15:23.049Z"
   },
   {
    "duration": 163,
    "start_time": "2022-08-16T10:15:23.230Z"
   },
   {
    "duration": 144,
    "start_time": "2022-08-16T10:15:23.395Z"
   },
   {
    "duration": 42,
    "start_time": "2022-08-16T10:15:23.541Z"
   },
   {
    "duration": 13,
    "start_time": "2022-08-16T10:15:23.584Z"
   },
   {
    "duration": 11,
    "start_time": "2022-08-16T10:15:23.599Z"
   },
   {
    "duration": 9,
    "start_time": "2022-08-16T10:15:23.612Z"
   },
   {
    "duration": 12,
    "start_time": "2022-08-16T10:15:23.623Z"
   },
   {
    "duration": 12,
    "start_time": "2022-08-16T10:15:23.637Z"
   },
   {
    "duration": 23,
    "start_time": "2022-08-16T10:15:23.650Z"
   },
   {
    "duration": 22,
    "start_time": "2022-08-16T10:15:23.675Z"
   },
   {
    "duration": 14,
    "start_time": "2022-08-16T10:15:23.702Z"
   },
   {
    "duration": 6,
    "start_time": "2022-08-16T10:19:57.514Z"
   },
   {
    "duration": 13,
    "start_time": "2022-08-16T10:20:11.776Z"
   },
   {
    "duration": 11,
    "start_time": "2022-08-16T10:21:11.208Z"
   },
   {
    "duration": 8,
    "start_time": "2022-08-16T10:22:37.139Z"
   },
   {
    "duration": 8,
    "start_time": "2022-08-16T10:22:44.386Z"
   },
   {
    "duration": 1194,
    "start_time": "2022-08-16T10:24:52.111Z"
   },
   {
    "duration": 100,
    "start_time": "2022-08-16T10:24:53.308Z"
   },
   {
    "duration": 8,
    "start_time": "2022-08-16T10:24:53.410Z"
   },
   {
    "duration": 94,
    "start_time": "2022-08-16T10:24:53.421Z"
   },
   {
    "duration": 19,
    "start_time": "2022-08-16T10:24:53.517Z"
   },
   {
    "duration": 34,
    "start_time": "2022-08-16T10:24:53.538Z"
   },
   {
    "duration": 27,
    "start_time": "2022-08-16T10:24:53.580Z"
   },
   {
    "duration": 4,
    "start_time": "2022-08-16T10:24:53.609Z"
   },
   {
    "duration": 20,
    "start_time": "2022-08-16T10:24:53.614Z"
   },
   {
    "duration": 13,
    "start_time": "2022-08-16T10:24:53.638Z"
   },
   {
    "duration": 29,
    "start_time": "2022-08-16T10:24:53.671Z"
   },
   {
    "duration": 11,
    "start_time": "2022-08-16T10:24:53.702Z"
   },
   {
    "duration": 10,
    "start_time": "2022-08-16T10:24:53.715Z"
   },
   {
    "duration": 30,
    "start_time": "2022-08-16T10:24:53.726Z"
   },
   {
    "duration": 16,
    "start_time": "2022-08-16T10:24:53.758Z"
   },
   {
    "duration": 26,
    "start_time": "2022-08-16T10:24:53.776Z"
   },
   {
    "duration": 1004,
    "start_time": "2022-08-16T10:24:53.804Z"
   },
   {
    "duration": 20,
    "start_time": "2022-08-16T10:24:54.811Z"
   },
   {
    "duration": 65,
    "start_time": "2022-08-16T10:24:54.833Z"
   },
   {
    "duration": 25,
    "start_time": "2022-08-16T10:24:54.904Z"
   },
   {
    "duration": 297,
    "start_time": "2022-08-16T10:24:54.932Z"
   },
   {
    "duration": 8,
    "start_time": "2022-08-16T10:24:55.232Z"
   },
   {
    "duration": 31,
    "start_time": "2022-08-16T10:24:55.242Z"
   },
   {
    "duration": 19,
    "start_time": "2022-08-16T10:24:55.275Z"
   },
   {
    "duration": 30,
    "start_time": "2022-08-16T10:24:55.297Z"
   },
   {
    "duration": 10,
    "start_time": "2022-08-16T10:24:55.332Z"
   },
   {
    "duration": 25,
    "start_time": "2022-08-16T10:24:55.345Z"
   },
   {
    "duration": 38,
    "start_time": "2022-08-16T10:24:55.380Z"
   },
   {
    "duration": 16,
    "start_time": "2022-08-16T10:24:55.421Z"
   },
   {
    "duration": 15,
    "start_time": "2022-08-16T10:24:55.440Z"
   },
   {
    "duration": 20,
    "start_time": "2022-08-16T10:24:55.457Z"
   },
   {
    "duration": 54,
    "start_time": "2022-08-16T10:24:55.479Z"
   },
   {
    "duration": 55,
    "start_time": "2022-08-16T10:24:55.536Z"
   },
   {
    "duration": 173,
    "start_time": "2022-08-16T10:24:55.593Z"
   },
   {
    "duration": 10,
    "start_time": "2022-08-16T10:24:55.770Z"
   },
   {
    "duration": 29,
    "start_time": "2022-08-16T10:24:55.782Z"
   },
   {
    "duration": 283,
    "start_time": "2022-08-16T10:24:55.814Z"
   },
   {
    "duration": 273,
    "start_time": "2022-08-16T10:24:56.100Z"
   },
   {
    "duration": 31,
    "start_time": "2022-08-16T10:24:56.376Z"
   },
   {
    "duration": 233,
    "start_time": "2022-08-16T10:24:56.410Z"
   },
   {
    "duration": 12,
    "start_time": "2022-08-16T10:24:56.646Z"
   },
   {
    "duration": 54,
    "start_time": "2022-08-16T10:24:56.661Z"
   },
   {
    "duration": 15,
    "start_time": "2022-08-16T10:24:56.718Z"
   },
   {
    "duration": 77,
    "start_time": "2022-08-16T10:24:56.736Z"
   },
   {
    "duration": 42,
    "start_time": "2022-08-16T10:24:56.817Z"
   },
   {
    "duration": 139,
    "start_time": "2022-08-16T10:24:56.862Z"
   },
   {
    "duration": 27,
    "start_time": "2022-08-16T10:24:57.013Z"
   },
   {
    "duration": 42,
    "start_time": "2022-08-16T10:24:57.043Z"
   },
   {
    "duration": 53,
    "start_time": "2022-08-16T10:24:57.088Z"
   },
   {
    "duration": 33,
    "start_time": "2022-08-16T10:24:57.143Z"
   },
   {
    "duration": 6,
    "start_time": "2022-08-16T10:24:57.178Z"
   },
   {
    "duration": 223,
    "start_time": "2022-08-16T10:24:57.186Z"
   },
   {
    "duration": 9,
    "start_time": "2022-08-16T10:24:57.410Z"
   },
   {
    "duration": 7,
    "start_time": "2022-08-16T10:24:57.422Z"
   },
   {
    "duration": 14,
    "start_time": "2022-08-16T10:24:57.431Z"
   },
   {
    "duration": 77,
    "start_time": "2022-08-16T10:24:57.447Z"
   },
   {
    "duration": 64,
    "start_time": "2022-08-16T10:24:57.527Z"
   },
   {
    "duration": 222,
    "start_time": "2022-08-16T10:24:57.597Z"
   },
   {
    "duration": 206,
    "start_time": "2022-08-16T10:24:57.822Z"
   },
   {
    "duration": 266,
    "start_time": "2022-08-16T10:24:58.031Z"
   },
   {
    "duration": 187,
    "start_time": "2022-08-16T10:24:58.299Z"
   },
   {
    "duration": 6,
    "start_time": "2022-08-16T10:24:58.491Z"
   },
   {
    "duration": 163,
    "start_time": "2022-08-16T10:24:58.499Z"
   },
   {
    "duration": 447,
    "start_time": "2022-08-16T10:24:58.664Z"
   },
   {
    "duration": 674,
    "start_time": "2022-08-16T10:24:59.113Z"
   },
   {
    "duration": 362,
    "start_time": "2022-08-16T10:24:59.789Z"
   },
   {
    "duration": 691,
    "start_time": "2022-08-16T10:25:00.154Z"
   },
   {
    "duration": 46,
    "start_time": "2022-08-16T10:25:00.848Z"
   },
   {
    "duration": 8,
    "start_time": "2022-08-16T10:25:00.897Z"
   },
   {
    "duration": 34,
    "start_time": "2022-08-16T10:25:00.907Z"
   },
   {
    "duration": 22,
    "start_time": "2022-08-16T10:25:00.943Z"
   },
   {
    "duration": 196,
    "start_time": "2022-08-16T10:25:00.967Z"
   },
   {
    "duration": 149,
    "start_time": "2022-08-16T10:25:01.176Z"
   },
   {
    "duration": 172,
    "start_time": "2022-08-16T10:25:01.327Z"
   },
   {
    "duration": 36,
    "start_time": "2022-08-16T10:25:01.501Z"
   },
   {
    "duration": 32,
    "start_time": "2022-08-16T10:25:01.539Z"
   },
   {
    "duration": 70,
    "start_time": "2022-08-16T10:25:01.577Z"
   },
   {
    "duration": 49,
    "start_time": "2022-08-16T10:25:01.649Z"
   },
   {
    "duration": 21,
    "start_time": "2022-08-16T10:25:01.700Z"
   },
   {
    "duration": 22,
    "start_time": "2022-08-16T10:25:01.723Z"
   },
   {
    "duration": 15,
    "start_time": "2022-08-16T10:25:01.747Z"
   },
   {
    "duration": 29,
    "start_time": "2022-08-16T10:25:01.773Z"
   },
   {
    "duration": 42,
    "start_time": "2022-08-16T10:25:01.805Z"
   },
   {
    "duration": 1306,
    "start_time": "2022-08-16T10:40:50.715Z"
   },
   {
    "duration": 205,
    "start_time": "2022-08-16T10:40:52.023Z"
   },
   {
    "duration": 7,
    "start_time": "2022-08-16T10:40:52.229Z"
   },
   {
    "duration": 102,
    "start_time": "2022-08-16T10:40:52.238Z"
   },
   {
    "duration": 11,
    "start_time": "2022-08-16T10:40:52.342Z"
   },
   {
    "duration": 17,
    "start_time": "2022-08-16T10:40:52.354Z"
   },
   {
    "duration": 17,
    "start_time": "2022-08-16T10:40:52.373Z"
   },
   {
    "duration": 2,
    "start_time": "2022-08-16T10:40:52.392Z"
   },
   {
    "duration": 15,
    "start_time": "2022-08-16T10:40:52.396Z"
   },
   {
    "duration": 30,
    "start_time": "2022-08-16T10:40:52.413Z"
   },
   {
    "duration": 5,
    "start_time": "2022-08-16T10:40:52.445Z"
   },
   {
    "duration": 7,
    "start_time": "2022-08-16T10:40:52.452Z"
   },
   {
    "duration": 9,
    "start_time": "2022-08-16T10:40:52.460Z"
   },
   {
    "duration": 19,
    "start_time": "2022-08-16T10:40:52.472Z"
   },
   {
    "duration": 5,
    "start_time": "2022-08-16T10:40:52.493Z"
   },
   {
    "duration": 6,
    "start_time": "2022-08-16T10:40:52.499Z"
   },
   {
    "duration": 803,
    "start_time": "2022-08-16T10:40:52.506Z"
   },
   {
    "duration": 11,
    "start_time": "2022-08-16T10:40:53.311Z"
   },
   {
    "duration": 26,
    "start_time": "2022-08-16T10:40:53.323Z"
   },
   {
    "duration": 15,
    "start_time": "2022-08-16T10:40:53.351Z"
   },
   {
    "duration": 128,
    "start_time": "2022-08-16T10:40:53.367Z"
   },
   {
    "duration": 5,
    "start_time": "2022-08-16T10:40:53.497Z"
   },
   {
    "duration": 10,
    "start_time": "2022-08-16T10:40:53.503Z"
   },
   {
    "duration": 13,
    "start_time": "2022-08-16T10:40:53.515Z"
   },
   {
    "duration": 25,
    "start_time": "2022-08-16T10:40:53.529Z"
   },
   {
    "duration": 6,
    "start_time": "2022-08-16T10:40:53.555Z"
   },
   {
    "duration": 11,
    "start_time": "2022-08-16T10:40:53.562Z"
   },
   {
    "duration": 14,
    "start_time": "2022-08-16T10:40:53.574Z"
   },
   {
    "duration": 21,
    "start_time": "2022-08-16T10:40:53.590Z"
   },
   {
    "duration": 8,
    "start_time": "2022-08-16T10:40:53.612Z"
   },
   {
    "duration": 19,
    "start_time": "2022-08-16T10:40:53.622Z"
   },
   {
    "duration": 17,
    "start_time": "2022-08-16T10:40:53.642Z"
   },
   {
    "duration": 25,
    "start_time": "2022-08-16T10:40:53.660Z"
   },
   {
    "duration": 144,
    "start_time": "2022-08-16T10:40:53.686Z"
   },
   {
    "duration": 7,
    "start_time": "2022-08-16T10:40:53.837Z"
   },
   {
    "duration": 9,
    "start_time": "2022-08-16T10:40:53.846Z"
   },
   {
    "duration": 149,
    "start_time": "2022-08-16T10:40:53.856Z"
   },
   {
    "duration": 158,
    "start_time": "2022-08-16T10:40:54.006Z"
   },
   {
    "duration": 19,
    "start_time": "2022-08-16T10:40:54.165Z"
   },
   {
    "duration": 130,
    "start_time": "2022-08-16T10:40:54.185Z"
   },
   {
    "duration": 18,
    "start_time": "2022-08-16T10:40:54.320Z"
   },
   {
    "duration": 9,
    "start_time": "2022-08-16T10:40:54.340Z"
   },
   {
    "duration": 6,
    "start_time": "2022-08-16T10:40:54.350Z"
   },
   {
    "duration": 24,
    "start_time": "2022-08-16T10:40:54.357Z"
   },
   {
    "duration": 14,
    "start_time": "2022-08-16T10:40:54.382Z"
   },
   {
    "duration": 98,
    "start_time": "2022-08-16T10:40:54.398Z"
   },
   {
    "duration": 19,
    "start_time": "2022-08-16T10:40:54.497Z"
   },
   {
    "duration": 7,
    "start_time": "2022-08-16T10:40:54.517Z"
   },
   {
    "duration": 8,
    "start_time": "2022-08-16T10:40:54.525Z"
   },
   {
    "duration": 16,
    "start_time": "2022-08-16T10:40:54.534Z"
   },
   {
    "duration": 3,
    "start_time": "2022-08-16T10:40:54.551Z"
   },
   {
    "duration": 131,
    "start_time": "2022-08-16T10:40:54.555Z"
   },
   {
    "duration": 5,
    "start_time": "2022-08-16T10:40:54.688Z"
   },
   {
    "duration": 6,
    "start_time": "2022-08-16T10:40:54.694Z"
   },
   {
    "duration": 6,
    "start_time": "2022-08-16T10:40:54.702Z"
   },
   {
    "duration": 51,
    "start_time": "2022-08-16T10:40:54.710Z"
   },
   {
    "duration": 32,
    "start_time": "2022-08-16T10:40:54.763Z"
   },
   {
    "duration": 174,
    "start_time": "2022-08-16T10:40:54.796Z"
   },
   {
    "duration": 134,
    "start_time": "2022-08-16T10:40:54.971Z"
   },
   {
    "duration": 172,
    "start_time": "2022-08-16T10:40:55.107Z"
   },
   {
    "duration": 138,
    "start_time": "2022-08-16T10:40:55.281Z"
   },
   {
    "duration": 6,
    "start_time": "2022-08-16T10:40:55.421Z"
   },
   {
    "duration": 133,
    "start_time": "2022-08-16T10:40:55.437Z"
   },
   {
    "duration": 309,
    "start_time": "2022-08-16T10:40:55.572Z"
   },
   {
    "duration": 485,
    "start_time": "2022-08-16T10:40:55.882Z"
   },
   {
    "duration": 286,
    "start_time": "2022-08-16T10:40:56.369Z"
   },
   {
    "duration": 540,
    "start_time": "2022-08-16T10:40:56.656Z"
   },
   {
    "duration": 24,
    "start_time": "2022-08-16T10:40:57.198Z"
   },
   {
    "duration": 32,
    "start_time": "2022-08-16T10:40:57.223Z"
   },
   {
    "duration": 28,
    "start_time": "2022-08-16T10:40:57.257Z"
   },
   {
    "duration": 11,
    "start_time": "2022-08-16T10:40:57.287Z"
   },
   {
    "duration": 164,
    "start_time": "2022-08-16T10:40:57.299Z"
   },
   {
    "duration": 112,
    "start_time": "2022-08-16T10:40:57.465Z"
   },
   {
    "duration": 119,
    "start_time": "2022-08-16T10:40:57.579Z"
   },
   {
    "duration": 18,
    "start_time": "2022-08-16T10:40:57.699Z"
   },
   {
    "duration": 21,
    "start_time": "2022-08-16T10:40:57.718Z"
   },
   {
    "duration": 26,
    "start_time": "2022-08-16T10:40:57.741Z"
   },
   {
    "duration": 25,
    "start_time": "2022-08-16T10:40:57.768Z"
   },
   {
    "duration": 23,
    "start_time": "2022-08-16T10:40:57.794Z"
   },
   {
    "duration": 34,
    "start_time": "2022-08-16T10:40:57.819Z"
   },
   {
    "duration": 25,
    "start_time": "2022-08-16T10:40:57.854Z"
   },
   {
    "duration": 29,
    "start_time": "2022-08-16T10:40:57.880Z"
   },
   {
    "duration": 34,
    "start_time": "2022-08-16T10:40:57.911Z"
   },
   {
    "duration": 11,
    "start_time": "2022-08-16T10:42:25.340Z"
   },
   {
    "duration": 14,
    "start_time": "2022-08-16T10:42:25.461Z"
   },
   {
    "duration": 2011,
    "start_time": "2022-08-16T10:42:32.337Z"
   },
   {
    "duration": 11,
    "start_time": "2022-08-16T10:43:02.977Z"
   },
   {
    "duration": 5,
    "start_time": "2022-08-16T10:43:04.609Z"
   },
   {
    "duration": 1237,
    "start_time": "2022-08-16T10:43:05.125Z"
   },
   {
    "duration": 4,
    "start_time": "2022-08-16T10:43:57.706Z"
   },
   {
    "duration": 111,
    "start_time": "2022-08-16T10:44:24.040Z"
   },
   {
    "duration": 8,
    "start_time": "2022-08-16T10:47:10.986Z"
   },
   {
    "duration": 20,
    "start_time": "2022-08-16T10:51:07.303Z"
   },
   {
    "duration": 14,
    "start_time": "2022-08-16T10:51:47.202Z"
   }
  ],
  "colab": {
   "name": "DA+. Сборный проект 1. Шаблон (1).ipynb",
   "provenance": []
  },
  "kernelspec": {
   "display_name": "Python 3 (ipykernel)",
   "language": "python",
   "name": "python3"
  },
  "language_info": {
   "codemirror_mode": {
    "name": "ipython",
    "version": 3
   },
   "file_extension": ".py",
   "mimetype": "text/x-python",
   "name": "python",
   "nbconvert_exporter": "python",
   "pygments_lexer": "ipython3",
   "version": "3.11.2"
  },
  "toc": {
   "base_numbering": 1,
   "nav_menu": {},
   "number_sections": true,
   "sideBar": true,
   "skip_h1_title": true,
   "title_cell": "Table of Contents",
   "title_sidebar": "Contents",
   "toc_cell": false,
   "toc_position": {
    "height": "calc(100% - 180px)",
    "left": "10px",
    "top": "150px",
    "width": "375.391px"
   },
   "toc_section_display": true,
   "toc_window_display": false
  }
 },
 "nbformat": 4,
 "nbformat_minor": 1
}
