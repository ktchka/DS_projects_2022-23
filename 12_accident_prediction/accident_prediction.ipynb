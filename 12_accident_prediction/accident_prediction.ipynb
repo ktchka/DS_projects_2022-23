{
 "cells": [
  {
   "cell_type": "markdown",
   "id": "e2efc6c0",
   "metadata": {},
   "source": [
    "# Assessing the feasibility of predicting a crash\n",
    "\n",
    "The objective is to understand whether it is possible to predict the risk of an accident along a selected traffic route based on historical data.Risk is defined as the probability of an accident involving any damage to a vehicle.\n",
    "\n",
    "The study should investigate whether modeling results and factor importance analysis can help answer the questions:\n",
    "\n",
    "- Is it possible to create an adequate driver risk assessment system for auto dispensing?\n",
    "- What other factors need to be considered?\n",
    "- Does the vehicle need to be equipped with any sensors or camera?"
   ]
  },
  {
   "cell_type": "markdown",
   "id": "e716ae14",
   "metadata": {
    "ExecuteTime": {
     "end_time": "2022-05-05T04:58:05.692448Z",
     "start_time": "2022-05-05T04:58:05.688565Z"
    }
   },
   "source": [
    "## Connect to the database. Load sql tables"
   ]
  },
  {
   "cell_type": "code",
   "execution_count": 1,
   "id": "91d7b7f4",
   "metadata": {},
   "outputs": [],
   "source": [
    "import pandas as pd\n",
    "import matplotlib.pyplot as plt\n",
    "import seaborn as sns\n",
    "import numpy as np\n",
    "import sklearn.metrics\n",
    "\n",
    "from sqlalchemy import create_engine\n",
    "from sklearn.compose import ColumnTransformer\n",
    "from sklearn.model_selection import train_test_split, RandomizedSearchCV, GridSearchCV\n",
    "from sklearn.preprocessing import StandardScaler, OneHotEncoder\n",
    "from sklearn.metrics import confusion_matrix, f1_score, roc_auc_score, roc_curve, precision_score, accuracy_score, recall_score, precision_recall_curve\n",
    "from sklearn.tree import DecisionTreeClassifier\n",
    "from sklearn.ensemble import RandomForestClassifier\n",
    "from sklearn.dummy import DummyClassifier\n",
    "from sklearn.feature_selection import SelectFromModel\n",
    "from catboost import CatBoostClassifier"
   ]
  },
  {
   "cell_type": "code",
   "execution_count": 2,
   "id": "7b906441",
   "metadata": {},
   "outputs": [],
   "source": [
    "\n",
    "db_config = {\n",
    "'user': 'praktikum_student', # имя пользователя,\n",
    "'pwd': 'Sdf4$2;d-d30pp', # пароль,\n",
    "'host': 'rc1b-wcoijxj3yxfsf3fs.mdb.yandexcloud.net',\n",
    "'port': 6432, # порт подключения,\n",
    "'db': 'data-science-vehicle-db' # название базы данных,\n",
    "} \n"
   ]
  },
  {
   "cell_type": "code",
   "execution_count": 3,
   "id": "60aa07d2",
   "metadata": {},
   "outputs": [],
   "source": [
    "connection_string = 'postgresql://{}:{}@{}:{}/{}'.format(\n",
    "    db_config['user'],\n",
    "    db_config['pwd'],\n",
    "    db_config['host'],\n",
    "    db_config['port'],\n",
    "    db_config['db'],\n",
    ")"
   ]
  },
  {
   "cell_type": "code",
   "execution_count": 4,
   "id": "a67029a7",
   "metadata": {},
   "outputs": [],
   "source": [
    "engine = create_engine(connection_string) \n"
   ]
  },
  {
   "cell_type": "markdown",
   "id": "5e0ea7ac",
   "metadata": {},
   "source": [
    "## Conduct primary research on the tables"
   ]
  },
  {
   "cell_type": "markdown",
   "id": "469d8933",
   "metadata": {},
   "source": [
    "#### Table case_ids"
   ]
  },
  {
   "cell_type": "code",
   "execution_count": 5,
   "id": "663a5f16",
   "metadata": {},
   "outputs": [
    {
     "data": {
      "text/html": [
       "<div>\n",
       "<style scoped>\n",
       "    .dataframe tbody tr th:only-of-type {\n",
       "        vertical-align: middle;\n",
       "    }\n",
       "\n",
       "    .dataframe tbody tr th {\n",
       "        vertical-align: top;\n",
       "    }\n",
       "\n",
       "    .dataframe thead th {\n",
       "        text-align: right;\n",
       "    }\n",
       "</style>\n",
       "<table border=\"1\" class=\"dataframe\">\n",
       "  <thead>\n",
       "    <tr style=\"text-align: right;\">\n",
       "      <th></th>\n",
       "      <th>case_id</th>\n",
       "      <th>db_year</th>\n",
       "    </tr>\n",
       "  </thead>\n",
       "  <tbody>\n",
       "    <tr>\n",
       "      <th>0</th>\n",
       "      <td>0081715</td>\n",
       "      <td>2021</td>\n",
       "    </tr>\n",
       "    <tr>\n",
       "      <th>1</th>\n",
       "      <td>0726202</td>\n",
       "      <td>2021</td>\n",
       "    </tr>\n",
       "    <tr>\n",
       "      <th>2</th>\n",
       "      <td>3858022</td>\n",
       "      <td>2021</td>\n",
       "    </tr>\n",
       "    <tr>\n",
       "      <th>3</th>\n",
       "      <td>3899441</td>\n",
       "      <td>2021</td>\n",
       "    </tr>\n",
       "    <tr>\n",
       "      <th>4</th>\n",
       "      <td>3899442</td>\n",
       "      <td>2021</td>\n",
       "    </tr>\n",
       "  </tbody>\n",
       "</table>\n",
       "</div>"
      ],
      "text/plain": [
       "   case_id db_year\n",
       "0  0081715    2021\n",
       "1  0726202    2021\n",
       "2  3858022    2021\n",
       "3  3899441    2021\n",
       "4  3899442    2021"
      ]
     },
     "execution_count": 5,
     "metadata": {},
     "output_type": "execute_result"
    }
   ],
   "source": [
    "query = '''\n",
    "\n",
    "SELECT *\n",
    "FROM case_ids\n",
    "LIMIT 5\n",
    "\n",
    "'''\n",
    "\n",
    "case_id_df = pd.read_sql_query(query, con=engine) \n",
    "case_id_df.head()"
   ]
  },
  {
   "cell_type": "markdown",
   "id": "8fc258d5",
   "metadata": {},
   "source": [
    "The table contains a unique case_id, the second column is different from the one presented in the documentation and most likely denotes the year the database was created."
   ]
  },
  {
   "cell_type": "markdown",
   "id": "bce3d951",
   "metadata": {},
   "source": [
    "#### Table vehicles"
   ]
  },
  {
   "cell_type": "code",
   "execution_count": 6,
   "id": "e4d4509f",
   "metadata": {},
   "outputs": [
    {
     "data": {
      "text/html": [
       "<div>\n",
       "<style scoped>\n",
       "    .dataframe tbody tr th:only-of-type {\n",
       "        vertical-align: middle;\n",
       "    }\n",
       "\n",
       "    .dataframe tbody tr th {\n",
       "        vertical-align: top;\n",
       "    }\n",
       "\n",
       "    .dataframe thead th {\n",
       "        text-align: right;\n",
       "    }\n",
       "</style>\n",
       "<table border=\"1\" class=\"dataframe\">\n",
       "  <thead>\n",
       "    <tr style=\"text-align: right;\">\n",
       "      <th></th>\n",
       "      <th>id</th>\n",
       "      <th>case_id</th>\n",
       "      <th>party_number</th>\n",
       "      <th>vehicle_type</th>\n",
       "      <th>vehicle_transmission</th>\n",
       "      <th>vehicle_age</th>\n",
       "    </tr>\n",
       "  </thead>\n",
       "  <tbody>\n",
       "    <tr>\n",
       "      <th>0</th>\n",
       "      <td>1175713</td>\n",
       "      <td>5305032</td>\n",
       "      <td>2</td>\n",
       "      <td>sedan</td>\n",
       "      <td>manual</td>\n",
       "      <td>3</td>\n",
       "    </tr>\n",
       "    <tr>\n",
       "      <th>1</th>\n",
       "      <td>1</td>\n",
       "      <td>3858022</td>\n",
       "      <td>1</td>\n",
       "      <td>sedan</td>\n",
       "      <td>auto</td>\n",
       "      <td>3</td>\n",
       "    </tr>\n",
       "    <tr>\n",
       "      <th>2</th>\n",
       "      <td>1175712</td>\n",
       "      <td>5305030</td>\n",
       "      <td>1</td>\n",
       "      <td>sedan</td>\n",
       "      <td>auto</td>\n",
       "      <td>3</td>\n",
       "    </tr>\n",
       "    <tr>\n",
       "      <th>3</th>\n",
       "      <td>1175717</td>\n",
       "      <td>5305033</td>\n",
       "      <td>3</td>\n",
       "      <td>sedan</td>\n",
       "      <td>auto</td>\n",
       "      <td>5</td>\n",
       "    </tr>\n",
       "    <tr>\n",
       "      <th>4</th>\n",
       "      <td>1175722</td>\n",
       "      <td>5305034</td>\n",
       "      <td>2</td>\n",
       "      <td>sedan</td>\n",
       "      <td>auto</td>\n",
       "      <td>5</td>\n",
       "    </tr>\n",
       "  </tbody>\n",
       "</table>\n",
       "</div>"
      ],
      "text/plain": [
       "        id  case_id  party_number vehicle_type vehicle_transmission  \\\n",
       "0  1175713  5305032             2        sedan               manual   \n",
       "1        1  3858022             1        sedan                 auto   \n",
       "2  1175712  5305030             1        sedan                 auto   \n",
       "3  1175717  5305033             3        sedan                 auto   \n",
       "4  1175722  5305034             2        sedan                 auto   \n",
       "\n",
       "   vehicle_age  \n",
       "0            3  \n",
       "1            3  \n",
       "2            3  \n",
       "3            5  \n",
       "4            5  "
      ]
     },
     "execution_count": 6,
     "metadata": {},
     "output_type": "execute_result"
    }
   ],
   "source": [
    "query = '''\n",
    "\n",
    "SELECT *\n",
    "FROM vehicles\n",
    "LIMIT 5\n",
    "\n",
    "'''\n",
    "\n",
    "vehicles_df = pd.read_sql_query(query, con=engine) \n",
    "vehicles_df"
   ]
  },
  {
   "cell_type": "markdown",
   "id": "213a983d",
   "metadata": {},
   "source": [
    "The table contains data on the vehicles involved in the accident."
   ]
  },
  {
   "cell_type": "markdown",
   "id": "11c1b60b",
   "metadata": {},
   "source": [
    "#### Table parties"
   ]
  },
  {
   "cell_type": "code",
   "execution_count": 7,
   "id": "dbd66ce6",
   "metadata": {},
   "outputs": [
    {
     "data": {
      "text/html": [
       "<div>\n",
       "<style scoped>\n",
       "    .dataframe tbody tr th:only-of-type {\n",
       "        vertical-align: middle;\n",
       "    }\n",
       "\n",
       "    .dataframe tbody tr th {\n",
       "        vertical-align: top;\n",
       "    }\n",
       "\n",
       "    .dataframe thead th {\n",
       "        text-align: right;\n",
       "    }\n",
       "</style>\n",
       "<table border=\"1\" class=\"dataframe\">\n",
       "  <thead>\n",
       "    <tr style=\"text-align: right;\">\n",
       "      <th></th>\n",
       "      <th>id</th>\n",
       "      <th>case_id</th>\n",
       "      <th>party_number</th>\n",
       "      <th>party_type</th>\n",
       "      <th>at_fault</th>\n",
       "      <th>insurance_premium</th>\n",
       "      <th>party_sobriety</th>\n",
       "      <th>party_drug_physical</th>\n",
       "      <th>cellphone_in_use</th>\n",
       "    </tr>\n",
       "  </thead>\n",
       "  <tbody>\n",
       "    <tr>\n",
       "      <th>0</th>\n",
       "      <td>22</td>\n",
       "      <td>3899454</td>\n",
       "      <td>1</td>\n",
       "      <td>road signs</td>\n",
       "      <td>1</td>\n",
       "      <td>29.0</td>\n",
       "      <td>had not been drinking</td>\n",
       "      <td>None</td>\n",
       "      <td>0</td>\n",
       "    </tr>\n",
       "    <tr>\n",
       "      <th>1</th>\n",
       "      <td>23</td>\n",
       "      <td>3899454</td>\n",
       "      <td>2</td>\n",
       "      <td>road signs</td>\n",
       "      <td>0</td>\n",
       "      <td>7.0</td>\n",
       "      <td>had not been drinking</td>\n",
       "      <td>None</td>\n",
       "      <td>0</td>\n",
       "    </tr>\n",
       "    <tr>\n",
       "      <th>2</th>\n",
       "      <td>29</td>\n",
       "      <td>3899462</td>\n",
       "      <td>2</td>\n",
       "      <td>car</td>\n",
       "      <td>0</td>\n",
       "      <td>21.0</td>\n",
       "      <td>had not been drinking</td>\n",
       "      <td>None</td>\n",
       "      <td>0</td>\n",
       "    </tr>\n",
       "    <tr>\n",
       "      <th>3</th>\n",
       "      <td>31</td>\n",
       "      <td>3899465</td>\n",
       "      <td>2</td>\n",
       "      <td>road signs</td>\n",
       "      <td>0</td>\n",
       "      <td>24.0</td>\n",
       "      <td>had not been drinking</td>\n",
       "      <td>None</td>\n",
       "      <td>0</td>\n",
       "    </tr>\n",
       "    <tr>\n",
       "      <th>4</th>\n",
       "      <td>41</td>\n",
       "      <td>3899478</td>\n",
       "      <td>2</td>\n",
       "      <td>road bumper</td>\n",
       "      <td>0</td>\n",
       "      <td>NaN</td>\n",
       "      <td>not applicable</td>\n",
       "      <td>not applicable</td>\n",
       "      <td>0</td>\n",
       "    </tr>\n",
       "  </tbody>\n",
       "</table>\n",
       "</div>"
      ],
      "text/plain": [
       "   id  case_id  party_number   party_type  at_fault  insurance_premium  \\\n",
       "0  22  3899454             1   road signs         1               29.0   \n",
       "1  23  3899454             2   road signs         0                7.0   \n",
       "2  29  3899462             2          car         0               21.0   \n",
       "3  31  3899465             2   road signs         0               24.0   \n",
       "4  41  3899478             2  road bumper         0                NaN   \n",
       "\n",
       "          party_sobriety party_drug_physical  cellphone_in_use  \n",
       "0  had not been drinking                None                 0  \n",
       "1  had not been drinking                None                 0  \n",
       "2  had not been drinking                None                 0  \n",
       "3  had not been drinking                None                 0  \n",
       "4         not applicable      not applicable                 0  "
      ]
     },
     "execution_count": 7,
     "metadata": {},
     "output_type": "execute_result"
    }
   ],
   "source": [
    "query = '''\n",
    "\n",
    "SELECT *\n",
    "FROM parties\n",
    "LIMIT 5\n",
    "\n",
    "'''\n",
    "\n",
    "parties_df = pd.read_sql_query(query, con=engine) \n",
    "parties_df"
   ]
  },
  {
   "cell_type": "markdown",
   "id": "27b19d6a",
   "metadata": {},
   "source": [
    "The table contains a description of the participants in the incident, the column names correspond to the description, but the columns contain the full name instead of a letter abbreviation as indicated in the data description."
   ]
  },
  {
   "cell_type": "markdown",
   "id": "fa78ab1a",
   "metadata": {},
   "source": [
    "#### Table collisions"
   ]
  },
  {
   "cell_type": "code",
   "execution_count": 8,
   "id": "49de24fe",
   "metadata": {},
   "outputs": [
    {
     "data": {
      "text/html": [
       "<div>\n",
       "<style scoped>\n",
       "    .dataframe tbody tr th:only-of-type {\n",
       "        vertical-align: middle;\n",
       "    }\n",
       "\n",
       "    .dataframe tbody tr th {\n",
       "        vertical-align: top;\n",
       "    }\n",
       "\n",
       "    .dataframe thead th {\n",
       "        text-align: right;\n",
       "    }\n",
       "</style>\n",
       "<table border=\"1\" class=\"dataframe\">\n",
       "  <thead>\n",
       "    <tr style=\"text-align: right;\">\n",
       "      <th></th>\n",
       "      <th>case_id</th>\n",
       "      <th>county_city_location</th>\n",
       "      <th>county_location</th>\n",
       "      <th>distance</th>\n",
       "      <th>direction</th>\n",
       "      <th>intersection</th>\n",
       "      <th>weather_1</th>\n",
       "      <th>location_type</th>\n",
       "      <th>collision_damage</th>\n",
       "      <th>party_count</th>\n",
       "      <th>primary_collision_factor</th>\n",
       "      <th>pcf_violation_category</th>\n",
       "      <th>type_of_collision</th>\n",
       "      <th>motor_vehicle_involved_with</th>\n",
       "      <th>road_surface</th>\n",
       "      <th>road_condition_1</th>\n",
       "      <th>lighting</th>\n",
       "      <th>control_device</th>\n",
       "      <th>collision_date</th>\n",
       "      <th>collision_time</th>\n",
       "    </tr>\n",
       "  </thead>\n",
       "  <tbody>\n",
       "    <tr>\n",
       "      <th>0</th>\n",
       "      <td>4083072</td>\n",
       "      <td>1942</td>\n",
       "      <td>los angeles</td>\n",
       "      <td>528.0</td>\n",
       "      <td>north</td>\n",
       "      <td>0</td>\n",
       "      <td>cloudy</td>\n",
       "      <td>highway</td>\n",
       "      <td>small damage</td>\n",
       "      <td>2</td>\n",
       "      <td>vehicle code violation</td>\n",
       "      <td>unsafe lane change</td>\n",
       "      <td>sideswipe</td>\n",
       "      <td>other motor vehicle</td>\n",
       "      <td>wet</td>\n",
       "      <td>normal</td>\n",
       "      <td>daylight</td>\n",
       "      <td>none</td>\n",
       "      <td>2009-01-22</td>\n",
       "      <td>07:25:00</td>\n",
       "    </tr>\n",
       "    <tr>\n",
       "      <th>1</th>\n",
       "      <td>4083075</td>\n",
       "      <td>4313</td>\n",
       "      <td>santa clara</td>\n",
       "      <td>0.0</td>\n",
       "      <td>None</td>\n",
       "      <td>1</td>\n",
       "      <td>clear</td>\n",
       "      <td>None</td>\n",
       "      <td>small damage</td>\n",
       "      <td>1</td>\n",
       "      <td>vehicle code violation</td>\n",
       "      <td>improper passing</td>\n",
       "      <td>hit object</td>\n",
       "      <td>fixed object</td>\n",
       "      <td>dry</td>\n",
       "      <td>normal</td>\n",
       "      <td>dark with street lights</td>\n",
       "      <td>functioning</td>\n",
       "      <td>2009-01-03</td>\n",
       "      <td>02:26:00</td>\n",
       "    </tr>\n",
       "    <tr>\n",
       "      <th>2</th>\n",
       "      <td>4083073</td>\n",
       "      <td>0109</td>\n",
       "      <td>alameda</td>\n",
       "      <td>0.0</td>\n",
       "      <td>None</td>\n",
       "      <td>1</td>\n",
       "      <td>clear</td>\n",
       "      <td>None</td>\n",
       "      <td>scratch</td>\n",
       "      <td>2</td>\n",
       "      <td>vehicle code violation</td>\n",
       "      <td>improper turning</td>\n",
       "      <td>broadside</td>\n",
       "      <td>other motor vehicle</td>\n",
       "      <td>dry</td>\n",
       "      <td>normal</td>\n",
       "      <td>dark with street lights</td>\n",
       "      <td>functioning</td>\n",
       "      <td>2009-01-11</td>\n",
       "      <td>03:32:00</td>\n",
       "    </tr>\n",
       "    <tr>\n",
       "      <th>3</th>\n",
       "      <td>4083077</td>\n",
       "      <td>0109</td>\n",
       "      <td>alameda</td>\n",
       "      <td>0.0</td>\n",
       "      <td>None</td>\n",
       "      <td>1</td>\n",
       "      <td>clear</td>\n",
       "      <td>None</td>\n",
       "      <td>scratch</td>\n",
       "      <td>2</td>\n",
       "      <td>vehicle code violation</td>\n",
       "      <td>automobile right of way</td>\n",
       "      <td>broadside</td>\n",
       "      <td>other motor vehicle</td>\n",
       "      <td>dry</td>\n",
       "      <td>normal</td>\n",
       "      <td>daylight</td>\n",
       "      <td>functioning</td>\n",
       "      <td>2009-01-11</td>\n",
       "      <td>10:35:00</td>\n",
       "    </tr>\n",
       "    <tr>\n",
       "      <th>4</th>\n",
       "      <td>4083087</td>\n",
       "      <td>4313</td>\n",
       "      <td>santa clara</td>\n",
       "      <td>0.0</td>\n",
       "      <td>None</td>\n",
       "      <td>1</td>\n",
       "      <td>clear</td>\n",
       "      <td>None</td>\n",
       "      <td>scratch</td>\n",
       "      <td>2</td>\n",
       "      <td>vehicle code violation</td>\n",
       "      <td>speeding</td>\n",
       "      <td>rear end</td>\n",
       "      <td>other motor vehicle</td>\n",
       "      <td>dry</td>\n",
       "      <td>None</td>\n",
       "      <td>dark with street lights</td>\n",
       "      <td>functioning</td>\n",
       "      <td>2009-01-02</td>\n",
       "      <td>22:43:00</td>\n",
       "    </tr>\n",
       "  </tbody>\n",
       "</table>\n",
       "</div>"
      ],
      "text/plain": [
       "   case_id county_city_location county_location  distance direction  \\\n",
       "0  4083072                 1942     los angeles     528.0     north   \n",
       "1  4083075                 4313     santa clara       0.0      None   \n",
       "2  4083073                 0109         alameda       0.0      None   \n",
       "3  4083077                 0109         alameda       0.0      None   \n",
       "4  4083087                 4313     santa clara       0.0      None   \n",
       "\n",
       "   intersection weather_1 location_type collision_damage  party_count  \\\n",
       "0             0    cloudy       highway     small damage            2   \n",
       "1             1     clear          None     small damage            1   \n",
       "2             1     clear          None          scratch            2   \n",
       "3             1     clear          None          scratch            2   \n",
       "4             1     clear          None          scratch            2   \n",
       "\n",
       "  primary_collision_factor   pcf_violation_category type_of_collision  \\\n",
       "0   vehicle code violation       unsafe lane change         sideswipe   \n",
       "1   vehicle code violation         improper passing        hit object   \n",
       "2   vehicle code violation         improper turning         broadside   \n",
       "3   vehicle code violation  automobile right of way         broadside   \n",
       "4   vehicle code violation                 speeding          rear end   \n",
       "\n",
       "  motor_vehicle_involved_with road_surface road_condition_1  \\\n",
       "0         other motor vehicle          wet           normal   \n",
       "1                fixed object          dry           normal   \n",
       "2         other motor vehicle          dry           normal   \n",
       "3         other motor vehicle          dry           normal   \n",
       "4         other motor vehicle          dry             None   \n",
       "\n",
       "                  lighting control_device collision_date collision_time  \n",
       "0                 daylight           none     2009-01-22       07:25:00  \n",
       "1  dark with street lights    functioning     2009-01-03       02:26:00  \n",
       "2  dark with street lights    functioning     2009-01-11       03:32:00  \n",
       "3                 daylight    functioning     2009-01-11       10:35:00  \n",
       "4  dark with street lights    functioning     2009-01-02       22:43:00  "
      ]
     },
     "execution_count": 8,
     "metadata": {},
     "output_type": "execute_result"
    }
   ],
   "source": [
    "query = '''\n",
    "\n",
    "SELECT *\n",
    "FROM collisions\n",
    "LIMIT 5\n",
    "'''\n",
    "\n",
    "collisions_df = pd.read_sql_query(query, con=engine) \n",
    "collisions_df"
   ]
  },
  {
   "cell_type": "markdown",
   "id": "b7a56145",
   "metadata": {},
   "source": [
    "The table contains information about the incident, the contents of the columns also do not use alphabetic abbreviations.\n",
    "\n",
    "The common key for linking the tables is the case_id field."
   ]
  },
  {
   "cell_type": "markdown",
   "id": "c9a8e7be",
   "metadata": {},
   "source": [
    "## Conduct a statistical analysis of road traffic accident factors"
   ]
  },
  {
   "cell_type": "markdown",
   "id": "9a6e6de2",
   "metadata": {},
   "source": [
    "Let's find out in which months the largest number of accidents occurs. To do this, let's unload the necessary columns from the collisions table, calculate the number of case_id and group them by month."
   ]
  },
  {
   "cell_type": "code",
   "execution_count": 9,
   "id": "974d9448",
   "metadata": {},
   "outputs": [
    {
     "data": {
      "text/html": [
       "<div>\n",
       "<style scoped>\n",
       "    .dataframe tbody tr th:only-of-type {\n",
       "        vertical-align: middle;\n",
       "    }\n",
       "\n",
       "    .dataframe tbody tr th {\n",
       "        vertical-align: top;\n",
       "    }\n",
       "\n",
       "    .dataframe thead th {\n",
       "        text-align: right;\n",
       "    }\n",
       "</style>\n",
       "<table border=\"1\" class=\"dataframe\">\n",
       "  <thead>\n",
       "    <tr style=\"text-align: right;\">\n",
       "      <th></th>\n",
       "      <th>collision_month</th>\n",
       "      <th>case_count</th>\n",
       "    </tr>\n",
       "  </thead>\n",
       "  <tbody>\n",
       "    <tr>\n",
       "      <th>0</th>\n",
       "      <td>1</td>\n",
       "      <td>132044</td>\n",
       "    </tr>\n",
       "    <tr>\n",
       "      <th>1</th>\n",
       "      <td>2</td>\n",
       "      <td>128858</td>\n",
       "    </tr>\n",
       "    <tr>\n",
       "      <th>2</th>\n",
       "      <td>3</td>\n",
       "      <td>139581</td>\n",
       "    </tr>\n",
       "    <tr>\n",
       "      <th>3</th>\n",
       "      <td>4</td>\n",
       "      <td>130180</td>\n",
       "    </tr>\n",
       "    <tr>\n",
       "      <th>4</th>\n",
       "      <td>5</td>\n",
       "      <td>130316</td>\n",
       "    </tr>\n",
       "    <tr>\n",
       "      <th>5</th>\n",
       "      <td>6</td>\n",
       "      <td>102594</td>\n",
       "    </tr>\n",
       "    <tr>\n",
       "      <th>6</th>\n",
       "      <td>7</td>\n",
       "      <td>102227</td>\n",
       "    </tr>\n",
       "    <tr>\n",
       "      <th>7</th>\n",
       "      <td>8</td>\n",
       "      <td>104089</td>\n",
       "    </tr>\n",
       "    <tr>\n",
       "      <th>8</th>\n",
       "      <td>9</td>\n",
       "      <td>105159</td>\n",
       "    </tr>\n",
       "    <tr>\n",
       "      <th>9</th>\n",
       "      <td>10</td>\n",
       "      <td>112237</td>\n",
       "    </tr>\n",
       "    <tr>\n",
       "      <th>10</th>\n",
       "      <td>11</td>\n",
       "      <td>104770</td>\n",
       "    </tr>\n",
       "    <tr>\n",
       "      <th>11</th>\n",
       "      <td>12</td>\n",
       "      <td>107945</td>\n",
       "    </tr>\n",
       "  </tbody>\n",
       "</table>\n",
       "</div>"
      ],
      "text/plain": [
       "    collision_month  case_count\n",
       "0                 1      132044\n",
       "1                 2      128858\n",
       "2                 3      139581\n",
       "3                 4      130180\n",
       "4                 5      130316\n",
       "5                 6      102594\n",
       "6                 7      102227\n",
       "7                 8      104089\n",
       "8                 9      105159\n",
       "9                10      112237\n",
       "10               11      104770\n",
       "11               12      107945"
      ]
     },
     "execution_count": 9,
     "metadata": {},
     "output_type": "execute_result"
    }
   ],
   "source": [
    "query = '''\n",
    "\n",
    "SELECT DISTINCT extract(MONTH FROM cast(collision_date AS date))::int AS collision_month,\n",
    "                count(case_id) AS case_count\n",
    "FROM collisions\n",
    "GROUP BY 1\n",
    "'''\n",
    "coll_count_df = pd.read_sql_query(query, con=engine) \n",
    "coll_count_df"
   ]
  },
  {
   "cell_type": "markdown",
   "id": "294365f7",
   "metadata": {},
   "source": [
    "Visualize the resulting data:"
   ]
  },
  {
   "cell_type": "code",
   "execution_count": 10,
   "id": "055e2886",
   "metadata": {},
   "outputs": [
    {
     "data": {
      "image/png": "[encoded data removed]",
      "text/plain": [
       "<Figure size 1000x600 with 1 Axes>"
      ]
     },
     "metadata": {},
     "output_type": "display_data"
    }
   ],
   "source": [
    "plt.figure(figsize=[10,6])\n",
    "sns.lineplot(data=coll_count_df, x='collision_month', y='case_count', label='Number of road accidents', color='red')\n",
    "plt.legend()\n",
    "plt.title('Number of road accidents by month')\n",
    "plt.xlabel('month')\n",
    "plt.ylabel('Number of road accidents')\n",
    "plt.grid()\n",
    "plt.show()"
   ]
  },
  {
   "cell_type": "markdown",
   "id": "243a3dd3",
   "metadata": {},
   "source": [
    "The highest number of road accidents is observed in the period from January to May, followed by a sharp decline, with the peak in March. Such a surge can be explained by unfavorable weather conditions and road conditions in winter-spring period, or incomplete data for the period from June to December."
   ]
  },
  {
   "cell_type": "markdown",
   "id": "ac9d9b21",
   "metadata": {},
   "source": [
    "### Problem Statement \n",
    "1. Find accidents with more than 4 participants in which the driver was talking on the phone.\n",
    "    - Merge the collisions and parties tables;\n",
    "    - Display on a bar chart the number of accidents with and without phone use.\n",
    "\n",
    "2. Find out the severity of the damage to the vehicle based on the condition of the driver.\n",
    "\n",
    "3. Identify the five counties in which drunk drivers are the most likely to cause an accident at night (23:00 to 05:00) and the average age of the vehicles in those counties\n",
    "    - Combine the tables vehicles, collisions, and parties.\n",
    "    - Output the name of the county, the number of accident perpetrators in descending order, and the average age of the car for each region.\n",
    "\n",
    "4. Output the number of unique id of accidents involving minivans by month.\n",
    "\n",
    "5. Find out the percentage change in the number of bicycle accidents each month from March 1 to October 31, 2011, output the month number, the number of accidents, and the percentage.\n",
    "\n",
    "6. Find out which car with which body type is most likely to be involved in a crash.\n"
   ]
  },
  {
   "cell_type": "markdown",
   "id": "d279ca2c",
   "metadata": {},
   "source": [
    "#### Task 1\n",
    "Let's find out the severity of damage to the vehicle based on the condition of the driver."
   ]
  },
  {
   "cell_type": "code",
   "execution_count": 11,
   "id": "86292ae0",
   "metadata": {},
   "outputs": [
    {
     "data": {
      "text/html": [
       "<div>\n",
       "<style scoped>\n",
       "    .dataframe tbody tr th:only-of-type {\n",
       "        vertical-align: middle;\n",
       "    }\n",
       "\n",
       "    .dataframe tbody tr th {\n",
       "        vertical-align: top;\n",
       "    }\n",
       "\n",
       "    .dataframe thead th {\n",
       "        text-align: right;\n",
       "    }\n",
       "</style>\n",
       "<table border=\"1\" class=\"dataframe\">\n",
       "  <thead>\n",
       "    <tr style=\"text-align: right;\">\n",
       "      <th></th>\n",
       "      <th>collision_damage</th>\n",
       "      <th>party_drug_physical</th>\n",
       "    </tr>\n",
       "  </thead>\n",
       "  <tbody>\n",
       "    <tr>\n",
       "      <th>0</th>\n",
       "      <td>small damage</td>\n",
       "      <td>not applicable</td>\n",
       "    </tr>\n",
       "    <tr>\n",
       "      <th>1</th>\n",
       "      <td>small damage</td>\n",
       "      <td>G</td>\n",
       "    </tr>\n",
       "    <tr>\n",
       "      <th>2</th>\n",
       "      <td>small damage</td>\n",
       "      <td>not applicable</td>\n",
       "    </tr>\n",
       "    <tr>\n",
       "      <th>3</th>\n",
       "      <td>small damage</td>\n",
       "      <td>not applicable</td>\n",
       "    </tr>\n",
       "    <tr>\n",
       "      <th>4</th>\n",
       "      <td>small damage</td>\n",
       "      <td>not applicable</td>\n",
       "    </tr>\n",
       "    <tr>\n",
       "      <th>...</th>\n",
       "      <td>...</td>\n",
       "      <td>...</td>\n",
       "    </tr>\n",
       "    <tr>\n",
       "      <th>402239</th>\n",
       "      <td>small damage</td>\n",
       "      <td>G</td>\n",
       "    </tr>\n",
       "    <tr>\n",
       "      <th>402240</th>\n",
       "      <td>small damage</td>\n",
       "      <td>not applicable</td>\n",
       "    </tr>\n",
       "    <tr>\n",
       "      <th>402241</th>\n",
       "      <td>small damage</td>\n",
       "      <td>not applicable</td>\n",
       "    </tr>\n",
       "    <tr>\n",
       "      <th>402242</th>\n",
       "      <td>small damage</td>\n",
       "      <td>not applicable</td>\n",
       "    </tr>\n",
       "    <tr>\n",
       "      <th>402243</th>\n",
       "      <td>severe damage</td>\n",
       "      <td>not applicable</td>\n",
       "    </tr>\n",
       "  </tbody>\n",
       "</table>\n",
       "<p>402244 rows × 2 columns</p>\n",
       "</div>"
      ],
      "text/plain": [
       "       collision_damage party_drug_physical\n",
       "0          small damage      not applicable\n",
       "1          small damage                   G\n",
       "2          small damage      not applicable\n",
       "3          small damage      not applicable\n",
       "4          small damage      not applicable\n",
       "...                 ...                 ...\n",
       "402239     small damage                   G\n",
       "402240     small damage      not applicable\n",
       "402241     small damage      not applicable\n",
       "402242     small damage      not applicable\n",
       "402243    severe damage      not applicable\n",
       "\n",
       "[402244 rows x 2 columns]"
      ]
     },
     "execution_count": 11,
     "metadata": {},
     "output_type": "execute_result"
    }
   ],
   "source": [
    "query = '''\n",
    "SELECT c.collision_damage,\n",
    "       p.party_drug_physical\n",
    "  FROM collisions AS c\n",
    "       JOIN parties AS p ON c.case_id = p.case_id\n",
    " WHERE p.party_drug_physical IN ('not applicable', 'G');\n",
    "'''\n",
    "\n",
    "condition_df = pd.read_sql_query(query, con=engine)\n",
    "\n",
    "\n",
    "condition_df"
   ]
  },
  {
   "cell_type": "code",
   "execution_count": 13,
   "id": "0fa53459",
   "metadata": {},
   "outputs": [
    {
     "data": {
      "image/png": "[encoded data removed]",
      "text/plain": [
       "<Figure size 640x480 with 1 Axes>"
      ]
     },
     "metadata": {},
     "output_type": "display_data"
    }
   ],
   "source": [
    "\n",
    "damage_categories = ['fatal', 'severe damage', 'middle damage', 'small damage', 'scratch']\n",
    "\n",
    "df_grouped = condition_df.groupby(['party_drug_physical', 'collision_damage']).size().unstack(fill_value=0)\n",
    "\n",
    "df_grouped = df_grouped[damage_categories]\n",
    "\n",
    "\n",
    "df_grouped.plot(kind='bar', stacked=False)\n",
    "\n",
    "plt.title(\"Dependence of accident severity on driver's physical condition (number)\")\n",
    "plt.xlabel('party_drug_physical')\n",
    "plt.ylabel('Count')\n",
    "plt.legend(title='collision_damage')\n",
    "\n",
    "plt.show()\n"
   ]
  },
  {
   "cell_type": "markdown",
   "id": "1e2166c3",
   "metadata": {},
   "source": [
    "In cases where the physical condition is unknown or not applicable - the statistics of the types of damage are very similar. Most crashes end up with minor damage or scratches."
   ]
  },
  {
   "cell_type": "markdown",
   "id": "0c181609",
   "metadata": {},
   "source": [
    "#### Task 2\n",
    "Identify the five counties in which drunk drivers are most frequently involved in crashes at night (23:00 to 05:00), as well as the average age of the vehicles in those counties."
   ]
  },
  {
   "cell_type": "code",
   "execution_count": 14,
   "id": "b11ba93e",
   "metadata": {},
   "outputs": [
    {
     "data": {
      "text/html": [
       "<div>\n",
       "<style scoped>\n",
       "    .dataframe tbody tr th:only-of-type {\n",
       "        vertical-align: middle;\n",
       "    }\n",
       "\n",
       "    .dataframe tbody tr th {\n",
       "        vertical-align: top;\n",
       "    }\n",
       "\n",
       "    .dataframe thead th {\n",
       "        text-align: right;\n",
       "    }\n",
       "</style>\n",
       "<table border=\"1\" class=\"dataframe\">\n",
       "  <thead>\n",
       "    <tr style=\"text-align: right;\">\n",
       "      <th></th>\n",
       "      <th>county_location</th>\n",
       "      <th>case_count</th>\n",
       "      <th>avg_vehicle_age</th>\n",
       "    </tr>\n",
       "  </thead>\n",
       "  <tbody>\n",
       "    <tr>\n",
       "      <th>0</th>\n",
       "      <td>los angeles</td>\n",
       "      <td>10909</td>\n",
       "      <td>4.3</td>\n",
       "    </tr>\n",
       "    <tr>\n",
       "      <th>1</th>\n",
       "      <td>san diego</td>\n",
       "      <td>3116</td>\n",
       "      <td>4.2</td>\n",
       "    </tr>\n",
       "    <tr>\n",
       "      <th>2</th>\n",
       "      <td>orange</td>\n",
       "      <td>3084</td>\n",
       "      <td>4.1</td>\n",
       "    </tr>\n",
       "    <tr>\n",
       "      <th>3</th>\n",
       "      <td>san bernardino</td>\n",
       "      <td>1991</td>\n",
       "      <td>4.2</td>\n",
       "    </tr>\n",
       "    <tr>\n",
       "      <th>4</th>\n",
       "      <td>riverside</td>\n",
       "      <td>1973</td>\n",
       "      <td>4.2</td>\n",
       "    </tr>\n",
       "  </tbody>\n",
       "</table>\n",
       "</div>"
      ],
      "text/plain": [
       "  county_location  case_count  avg_vehicle_age\n",
       "0     los angeles       10909              4.3\n",
       "1       san diego        3116              4.2\n",
       "2          orange        3084              4.1\n",
       "3  san bernardino        1991              4.2\n",
       "4       riverside        1973              4.2"
      ]
     },
     "execution_count": 14,
     "metadata": {},
     "output_type": "execute_result"
    }
   ],
   "source": [
    "query = '''\n",
    "\n",
    "SELECT county_location,\n",
    "       count(c.case_id) AS case_count,\n",
    "       round(avg(v.vehicle_age), 1) AS avg_vehicle_age\n",
    "FROM parties p\n",
    "JOIN collisions c ON c.case_id = p.case_id\n",
    "JOIN vehicles v ON c.case_id = v.case_id\n",
    "WHERE at_fault = 1\n",
    "  AND party_sobriety like '%%had been%%'\n",
    "  AND (extract(HOUR FROM cast(collision_time AS TIME))::int <= 5\n",
    "       OR extract(HOUR FROM cast(collision_time AS TIME))::int >= 23)\n",
    "GROUP BY county_location\n",
    "ORDER BY 2 DESC\n",
    "LIMIT 5\n",
    "\n",
    "'''\n",
    "drunk_df = pd.read_sql_query(query, con=engine) \n",
    "drunk_df"
   ]
  },
  {
   "cell_type": "markdown",
   "id": "7b43a2f7",
   "metadata": {},
   "source": [
    "Los Angeles ranks first, but given a population of 10 million, and for example San Diego County's population of 3 million, the proportions are pretty much the same."
   ]
  },
  {
   "cell_type": "markdown",
   "id": "4d351f95",
   "metadata": {},
   "source": [
    "## Create a model to estimate driver risk"
   ]
  },
  {
   "cell_type": "markdown",
   "id": "58ff3420",
   "metadata": {},
   "source": [
    "### Identifying attributes and uploading data\n",
    "Before creating the model, let's identify the factors affecting the target attribute `at_fault`.\n",
    "\n",
    "Table `vehicles`:\n",
    "\n",
    "- `vehicle_transmission` - autos with an automatic transmission may be more difficult for inexperienced carshare drivers.\n",
    "\n",
    "Table `parties`:\n",
    "\n",
    "- `at_fault` - target attribute;\n",
    "- `cellphone_in_use` - phone use reduces attentiveness;\n",
    "- `party_sobriety` - driver sobriety;\n",
    "\n",
    "Table `collisions`:\n",
    "\n",
    "- `weather_1` - weather;\n",
    "- `intersection` - most often, according to statistics, it is at intersections that accidents occur;\n",
    "- `pcf_violation_category` - the main cause of the accident, identifying the cause will prevent accidents in the future;\n",
    "- `motor_vehicle_involved_with` - additional participants in the accident, identifying the most frequent participants will reduce the number of accidents;\n",
    "- `road_surface` - road surface condition - ice, wet/slippery/dry road;\n",
    "- `control_device` - presence of a control device - unknown factor that may have an impact.\n",
    "- `lighting` - road illumination.\n",
    "\n",
    "With the help of the query we will unload the necessary data into the table. By the condition of the task, we need only data for 2012, where the participant of the accident is a car with damage greater than a scratch."
   ]
  },
  {
   "cell_type": "code",
   "execution_count": 15,
   "id": "ba7b9eb1",
   "metadata": {},
   "outputs": [
    {
     "data": {
      "text/html": [
       "<div>\n",
       "<style scoped>\n",
       "    .dataframe tbody tr th:only-of-type {\n",
       "        vertical-align: middle;\n",
       "    }\n",
       "\n",
       "    .dataframe tbody tr th {\n",
       "        vertical-align: top;\n",
       "    }\n",
       "\n",
       "    .dataframe thead th {\n",
       "        text-align: right;\n",
       "    }\n",
       "</style>\n",
       "<table border=\"1\" class=\"dataframe\">\n",
       "  <thead>\n",
       "    <tr style=\"text-align: right;\">\n",
       "      <th></th>\n",
       "      <th>id</th>\n",
       "      <th>case_id</th>\n",
       "      <th>party_number</th>\n",
       "      <th>party_type</th>\n",
       "      <th>at_fault</th>\n",
       "      <th>insurance_premium</th>\n",
       "      <th>party_sobriety</th>\n",
       "      <th>party_drug_physical</th>\n",
       "      <th>cellphone_in_use</th>\n",
       "      <th>id</th>\n",
       "      <th>...</th>\n",
       "      <th>primary_collision_factor</th>\n",
       "      <th>pcf_violation_category</th>\n",
       "      <th>type_of_collision</th>\n",
       "      <th>motor_vehicle_involved_with</th>\n",
       "      <th>road_surface</th>\n",
       "      <th>road_condition_1</th>\n",
       "      <th>lighting</th>\n",
       "      <th>control_device</th>\n",
       "      <th>collision_date</th>\n",
       "      <th>collision_time</th>\n",
       "    </tr>\n",
       "  </thead>\n",
       "  <tbody>\n",
       "    <tr>\n",
       "      <th>0</th>\n",
       "      <td>2685660</td>\n",
       "      <td>5615920</td>\n",
       "      <td>4</td>\n",
       "      <td>car</td>\n",
       "      <td>0</td>\n",
       "      <td>NaN</td>\n",
       "      <td>impairment unknown</td>\n",
       "      <td>G</td>\n",
       "      <td>0.0</td>\n",
       "      <td>NaN</td>\n",
       "      <td>...</td>\n",
       "      <td>vehicle code violation</td>\n",
       "      <td>speeding</td>\n",
       "      <td>rear end</td>\n",
       "      <td>other motor vehicle</td>\n",
       "      <td>dry</td>\n",
       "      <td>normal</td>\n",
       "      <td>daylight</td>\n",
       "      <td>none</td>\n",
       "      <td>2012-04-20</td>\n",
       "      <td>14:20:00</td>\n",
       "    </tr>\n",
       "    <tr>\n",
       "      <th>1</th>\n",
       "      <td>2451790</td>\n",
       "      <td>5479299</td>\n",
       "      <td>5</td>\n",
       "      <td>car</td>\n",
       "      <td>0</td>\n",
       "      <td>42.0</td>\n",
       "      <td>had not been drinking</td>\n",
       "      <td>None</td>\n",
       "      <td>0.0</td>\n",
       "      <td>NaN</td>\n",
       "      <td>...</td>\n",
       "      <td>vehicle code violation</td>\n",
       "      <td>speeding</td>\n",
       "      <td>rear end</td>\n",
       "      <td>other motor vehicle</td>\n",
       "      <td>dry</td>\n",
       "      <td>normal</td>\n",
       "      <td>dark with no street lights</td>\n",
       "      <td>none</td>\n",
       "      <td>2012-01-05</td>\n",
       "      <td>23:30:00</td>\n",
       "    </tr>\n",
       "    <tr>\n",
       "      <th>2</th>\n",
       "      <td>2501895</td>\n",
       "      <td>5506033</td>\n",
       "      <td>5</td>\n",
       "      <td>car</td>\n",
       "      <td>0</td>\n",
       "      <td>NaN</td>\n",
       "      <td>impairment unknown</td>\n",
       "      <td>G</td>\n",
       "      <td>0.0</td>\n",
       "      <td>NaN</td>\n",
       "      <td>...</td>\n",
       "      <td>vehicle code violation</td>\n",
       "      <td>following too closely</td>\n",
       "      <td>rear end</td>\n",
       "      <td>other motor vehicle</td>\n",
       "      <td>dry</td>\n",
       "      <td>normal</td>\n",
       "      <td>daylight</td>\n",
       "      <td>none</td>\n",
       "      <td>2012-01-27</td>\n",
       "      <td>07:50:00</td>\n",
       "    </tr>\n",
       "    <tr>\n",
       "      <th>3</th>\n",
       "      <td>2566408</td>\n",
       "      <td>5540974</td>\n",
       "      <td>5</td>\n",
       "      <td>car</td>\n",
       "      <td>0</td>\n",
       "      <td>21.0</td>\n",
       "      <td>had not been drinking</td>\n",
       "      <td>None</td>\n",
       "      <td>0.0</td>\n",
       "      <td>1412449.0</td>\n",
       "      <td>...</td>\n",
       "      <td>vehicle code violation</td>\n",
       "      <td>speeding</td>\n",
       "      <td>rear end</td>\n",
       "      <td>other motor vehicle</td>\n",
       "      <td>dry</td>\n",
       "      <td>normal</td>\n",
       "      <td>daylight</td>\n",
       "      <td>none</td>\n",
       "      <td>2012-03-05</td>\n",
       "      <td>14:35:00</td>\n",
       "    </tr>\n",
       "    <tr>\n",
       "      <th>4</th>\n",
       "      <td>2738734</td>\n",
       "      <td>5644968</td>\n",
       "      <td>5</td>\n",
       "      <td>car</td>\n",
       "      <td>0</td>\n",
       "      <td>26.0</td>\n",
       "      <td>had not been drinking</td>\n",
       "      <td>None</td>\n",
       "      <td>NaN</td>\n",
       "      <td>NaN</td>\n",
       "      <td>...</td>\n",
       "      <td>vehicle code violation</td>\n",
       "      <td>traffic signals and signs</td>\n",
       "      <td>broadside</td>\n",
       "      <td>other motor vehicle</td>\n",
       "      <td>dry</td>\n",
       "      <td>normal</td>\n",
       "      <td>daylight</td>\n",
       "      <td>functioning</td>\n",
       "      <td>2012-06-05</td>\n",
       "      <td>18:00:00</td>\n",
       "    </tr>\n",
       "  </tbody>\n",
       "</table>\n",
       "<p>5 rows × 35 columns</p>\n",
       "</div>"
      ],
      "text/plain": [
       "        id  case_id  party_number party_type  at_fault  insurance_premium  \\\n",
       "0  2685660  5615920             4        car         0                NaN   \n",
       "1  2451790  5479299             5        car         0               42.0   \n",
       "2  2501895  5506033             5        car         0                NaN   \n",
       "3  2566408  5540974             5        car         0               21.0   \n",
       "4  2738734  5644968             5        car         0               26.0   \n",
       "\n",
       "          party_sobriety party_drug_physical  cellphone_in_use         id  \\\n",
       "0     impairment unknown                   G               0.0        NaN   \n",
       "1  had not been drinking                None               0.0        NaN   \n",
       "2     impairment unknown                   G               0.0        NaN   \n",
       "3  had not been drinking                None               0.0  1412449.0   \n",
       "4  had not been drinking                None               NaN        NaN   \n",
       "\n",
       "   ... primary_collision_factor     pcf_violation_category type_of_collision  \\\n",
       "0  ...   vehicle code violation                   speeding          rear end   \n",
       "1  ...   vehicle code violation                   speeding          rear end   \n",
       "2  ...   vehicle code violation      following too closely          rear end   \n",
       "3  ...   vehicle code violation                   speeding          rear end   \n",
       "4  ...   vehicle code violation  traffic signals and signs         broadside   \n",
       "\n",
       "  motor_vehicle_involved_with  road_surface road_condition_1  \\\n",
       "0         other motor vehicle           dry           normal   \n",
       "1         other motor vehicle           dry           normal   \n",
       "2         other motor vehicle           dry           normal   \n",
       "3         other motor vehicle           dry           normal   \n",
       "4         other motor vehicle           dry           normal   \n",
       "\n",
       "                     lighting control_device  collision_date collision_time  \n",
       "0                    daylight           none      2012-04-20       14:20:00  \n",
       "1  dark with no street lights           none      2012-01-05       23:30:00  \n",
       "2                    daylight           none      2012-01-27       07:50:00  \n",
       "3                    daylight           none      2012-03-05       14:35:00  \n",
       "4                    daylight    functioning      2012-06-05       18:00:00  \n",
       "\n",
       "[5 rows x 35 columns]"
      ]
     },
     "execution_count": 15,
     "metadata": {},
     "output_type": "execute_result"
    }
   ],
   "source": [
    "query = '''\n",
    "SELECT *\n",
    "  FROM parties AS p\n",
    "       FULL JOIN vehicles AS v ON p.case_id = v.case_id AND p.party_number = v.party_number\n",
    "       FULL JOIN collisions AS c ON p.case_id = c.case_id\n",
    " WHERE p.party_type = 'car'\n",
    "       AND c.collision_damage != 'scratch'\n",
    "       AND c.collision_date BETWEEN '2012-01-01' AND '2012-12-31';\n",
    "'''\n",
    "\n",
    "df = pd.read_sql_query(query, con=engine)\n",
    "\n",
    "df.head()"
   ]
  },
  {
   "cell_type": "code",
   "execution_count": 16,
   "id": "b6335b9f",
   "metadata": {},
   "outputs": [
    {
     "data": {
      "text/plain": [
       "id                             0.000000\n",
       "case_id                        0.000000\n",
       "party_number                   0.000000\n",
       "party_type                     0.000000\n",
       "at_fault                       0.000000\n",
       "insurance_premium              0.102775\n",
       "party_sobriety                 0.018416\n",
       "party_drug_physical            0.872239\n",
       "cellphone_in_use               0.128904\n",
       "id                             0.714241\n",
       "case_id                        0.714241\n",
       "party_number                   0.714241\n",
       "vehicle_type                   0.714241\n",
       "vehicle_transmission           0.718605\n",
       "vehicle_age                    0.722847\n",
       "case_id                        0.000000\n",
       "county_city_location           0.000000\n",
       "county_location                0.000000\n",
       "distance                       0.000000\n",
       "direction                      0.217754\n",
       "intersection                   0.005014\n",
       "weather_1                      0.003323\n",
       "location_type                  0.556196\n",
       "collision_damage               0.000000\n",
       "party_count                    0.000000\n",
       "primary_collision_factor       0.003754\n",
       "pcf_violation_category         0.018614\n",
       "type_of_collision              0.007910\n",
       "motor_vehicle_involved_with    0.004252\n",
       "road_surface                   0.006467\n",
       "road_condition_1               0.005807\n",
       "lighting                       0.003663\n",
       "control_device                 0.004943\n",
       "collision_date                 0.000000\n",
       "collision_time                 0.006975\n",
       "dtype: float64"
      ]
     },
     "execution_count": 16,
     "metadata": {},
     "output_type": "execute_result"
    }
   ],
   "source": [
    "df.isna().sum()/len(df)"
   ]
  },
  {
   "cell_type": "markdown",
   "id": "9068874e",
   "metadata": {},
   "source": [
    "We'll clean the data"
   ]
  },
  {
   "cell_type": "code",
   "execution_count": 17,
   "id": "6537bb10",
   "metadata": {},
   "outputs": [],
   "source": [
    "df.drop(columns=[\n",
    "    'case_id', 'id', 'party_number', 'county_city_location', 'collision_date', 'collision_time', 'party_type'\n",
    "], inplace=True, errors='ignore')"
   ]
  },
  {
   "cell_type": "code",
   "execution_count": 18,
   "id": "9fa58178",
   "metadata": {},
   "outputs": [],
   "source": [
    "df.drop_duplicates(inplace=True, ignore_index=True)\n"
   ]
  },
  {
   "cell_type": "code",
   "execution_count": 19,
   "id": "fee75db9",
   "metadata": {},
   "outputs": [],
   "source": [
    "df.rename(columns={'weather_1':'weather', 'road_condition_1':'road_condition'}, inplace=True)\n"
   ]
  },
  {
   "cell_type": "code",
   "execution_count": 20,
   "id": "3f741125",
   "metadata": {},
   "outputs": [],
   "source": [
    "df.drop(index=df[df['distance'] > df['distance'].quantile(0.99)].index, inplace=True)\n",
    "\n",
    "df.drop(index=df[df['vehicle_age'] > df['vehicle_age'].quantile(0.99)].index, inplace=True)\n",
    "\n",
    "df['direction'] = df['direction'].fillna('unknown')\n",
    "\n",
    "df['location_type'] = df['location_type'].fillna('road')\n",
    "\n",
    "df['primary_collision_factor'] = df['primary_collision_factor'].fillna('unknown')\n",
    "\n",
    "df['pcf_violation_category'] = df['pcf_violation_category'].fillna('unknown')\n",
    "\n",
    "df['party_sobriety'] = df['party_sobriety'].fillna('impairment unknown')\n",
    "\n",
    "df['party_drug_physical'] = df['party_drug_physical'].fillna('impairment unknown')\n",
    "df['party_drug_physical'] = df['party_drug_physical'].replace('G', 'impairment unknown')\n",
    "\n",
    "df.drop(index=df[df['vehicle_type'] == 'other'].index, inplace=True)\n",
    "df['vehicle_type'] = df['vehicle_type'].fillna('unknown')\n",
    "\n",
    "df['vehicle_transmission'] = df['vehicle_transmission'].fillna('unknown')\n",
    "\n",
    "df['cellphone_in_use'] = df['cellphone_in_use'].fillna('unknown')\n",
    "df['cellphone_in_use'] = df['cellphone_in_use'].replace(0, 'no')\n",
    "df['cellphone_in_use'] = df['cellphone_in_use'].replace(1, 'yes')\n",
    "\n",
    "df['intersection'] = df['intersection'].replace(0, 'no')\n",
    "df['intersection'] = df['intersection'].replace(1, 'yes')\n",
    "\n",
    "df.dropna(inplace=True)\n",
    "df.reset_index(drop=True, inplace=True)"
   ]
  },
  {
   "cell_type": "code",
   "execution_count": 21,
   "id": "a2129e6c",
   "metadata": {},
   "outputs": [
    {
     "data": {
      "text/plain": [
       "at_fault                       0.0\n",
       "insurance_premium              0.0\n",
       "party_sobriety                 0.0\n",
       "party_drug_physical            0.0\n",
       "cellphone_in_use               0.0\n",
       "vehicle_type                   0.0\n",
       "vehicle_transmission           0.0\n",
       "vehicle_age                    0.0\n",
       "county_location                0.0\n",
       "distance                       0.0\n",
       "direction                      0.0\n",
       "intersection                   0.0\n",
       "weather                        0.0\n",
       "location_type                  0.0\n",
       "collision_damage               0.0\n",
       "party_count                    0.0\n",
       "primary_collision_factor       0.0\n",
       "pcf_violation_category         0.0\n",
       "type_of_collision              0.0\n",
       "motor_vehicle_involved_with    0.0\n",
       "road_surface                   0.0\n",
       "road_condition                 0.0\n",
       "lighting                       0.0\n",
       "control_device                 0.0\n",
       "dtype: float64"
      ]
     },
     "execution_count": 21,
     "metadata": {},
     "output_type": "execute_result"
    }
   ],
   "source": [
    "df.isna().sum()/len(df)"
   ]
  },
  {
   "cell_type": "code",
   "execution_count": 22,
   "id": "fd3fea97",
   "metadata": {},
   "outputs": [
    {
     "data": {
      "text/plain": [
       "array(['daylight', 'dark with street lights',\n",
       "       'dark with street lights not functioning',\n",
       "       'dark with no street lights', 'dusk or dawn'], dtype=object)"
      ]
     },
     "execution_count": 22,
     "metadata": {},
     "output_type": "execute_result"
    }
   ],
   "source": [
    "df['lighting'].unique() "
   ]
  },
  {
   "cell_type": "markdown",
   "id": "99c9cbf0",
   "metadata": {},
   "source": [
    "To get rid of gaps in the names and too many categories - assign a value of dark to all categories denoting an unlit street."
   ]
  },
  {
   "cell_type": "code",
   "execution_count": 23,
   "id": "7842bde8",
   "metadata": {},
   "outputs": [],
   "source": [
    "def fix_value(cell):\n",
    "    cell = cell.replace(' ', '_')  # function that replaces all spaces with underscores\n",
    "    return cell "
   ]
  },
  {
   "cell_type": "code",
   "execution_count": 24,
   "id": "8f06ad87",
   "metadata": {},
   "outputs": [],
   "source": [
    "df['lighting'] = df['lighting'].apply(lambda x: 'dark' if 'dark' in x else x)\n",
    "df['lighting'] = df['lighting'].apply(fix_value)"
   ]
  },
  {
   "cell_type": "code",
   "execution_count": 25,
   "id": "52138a8b",
   "metadata": {},
   "outputs": [
    {
     "data": {
      "text/plain": [
       "array(['had not been drinking', 'impairment unknown',\n",
       "       'had been drinking, under influence', 'not applicable',\n",
       "       'had been drinking, impairment unknown',\n",
       "       'had been drinking, not under influence'], dtype=object)"
      ]
     },
     "execution_count": 25,
     "metadata": {},
     "output_type": "execute_result"
    }
   ],
   "source": [
    "df['party_sobriety'].unique() "
   ]
  },
  {
   "cell_type": "markdown",
   "id": "acbab609",
   "metadata": {},
   "source": [
    "Let's do the same with the party_sobriety attribute, leaving only the fact whether the participant was intoxicated or not:"
   ]
  },
  {
   "cell_type": "code",
   "execution_count": 26,
   "id": "12633c5c",
   "metadata": {},
   "outputs": [],
   "source": [
    "df['party_sobriety'] = df['party_sobriety'].apply(lambda x: 'sober' if 'had not' in x else x)\n",
    "df['party_sobriety'] = df['party_sobriety'].apply(lambda x: 'drunk' if 'had been' in x else x)\n",
    "df['party_sobriety'] = df['party_sobriety'].apply(lambda x: 'drunk' if 'impairment' in x else x)\n",
    "\n",
    "df['party_sobriety'] = df['party_sobriety'].apply(fix_value)"
   ]
  },
  {
   "cell_type": "markdown",
   "id": "40be4ba8",
   "metadata": {},
   "source": [
    "Next, let's look at the categories of violations."
   ]
  },
  {
   "cell_type": "code",
   "execution_count": 27,
   "id": "ae867624",
   "metadata": {},
   "outputs": [
    {
     "data": {
      "text/plain": [
       "array(['speeding', 'traffic signals and signs', 'automobile right of way',\n",
       "       'other improper driving', 'wrong side of road',\n",
       "       'other hazardous violation', 'improper turning',\n",
       "       'pedestrian violation', 'unsafe lane change', 'dui',\n",
       "       'following too closely', 'unknown', 'improper passing',\n",
       "       'other equipment', 'unsafe starting or backing',\n",
       "       'other than driver (or pedestrian)', 'pedestrian right of way',\n",
       "       'hazardous parking', 'impeding traffic', 'lights', 'brakes',\n",
       "       'fell asleep'], dtype=object)"
      ]
     },
     "execution_count": 27,
     "metadata": {},
     "output_type": "execute_result"
    }
   ],
   "source": [
    "df['pcf_violation_category'].unique() "
   ]
  },
  {
   "cell_type": "markdown",
   "id": "029a6b2e",
   "metadata": {},
   "source": [
    "Here it is possible to combine pedestrian violations into one group, since the objective is to consider the causes of car accidents only. It is also possible to combine technical faults into one category."
   ]
  },
  {
   "cell_type": "code",
   "execution_count": 28,
   "id": "b04c8c8e",
   "metadata": {},
   "outputs": [],
   "source": [
    "df['pcf_violation_category'] = df['pcf_violation_category'].apply(lambda x: 'equipment_fault' if x == 'brakes' \n",
    "                                                                  or x == 'other equipment'\n",
    "                                                                  or x == 'lights' else x)\n",
    "df['pcf_violation_category'] = df['pcf_violation_category'].apply(lambda x: 'pedestrian_involved' if x == 'automobile right of way' \n",
    "                                                                  or x == 'pedestrian violation' \n",
    "                                                                  or x == 'dui' \n",
    "                                                                  or x == 'other than driver (or pedestrian)'  \n",
    "                                                                  or x == 'improper passing' else x)\n",
    "\n",
    "df['pcf_violation_category'] = df['pcf_violation_category'].apply(fix_value)"
   ]
  },
  {
   "cell_type": "code",
   "execution_count": 29,
   "id": "f1403cd3",
   "metadata": {},
   "outputs": [
    {
     "data": {
      "text/plain": [
       "array(['other motor vehicle', 'other object', 'fixed object',\n",
       "       'motor vehicle on other roadway', 'non-collision', 'bicycle',\n",
       "       'parked motor vehicle', 'train', 'animal'], dtype=object)"
      ]
     },
     "execution_count": 29,
     "metadata": {},
     "output_type": "execute_result"
    }
   ],
   "source": [
    "df['motor_vehicle_involved_with'].unique() "
   ]
  },
  {
   "cell_type": "markdown",
   "id": "752bc5b6",
   "metadata": {},
   "source": [
    "Let's combine the values in the column with additional participants in the accident"
   ]
  },
  {
   "cell_type": "code",
   "execution_count": 30,
   "id": "b452625e",
   "metadata": {},
   "outputs": [],
   "source": [
    "df['motor_vehicle_involved_with'] = df['motor_vehicle_involved_with'].apply(lambda x: 'other_vehicle' if x == 'other motor vehicle' \n",
    "                                                                  or x == 'motor vehicle on other roadway' else x)\n",
    "\n",
    "df['motor_vehicle_involved_with'] = df['motor_vehicle_involved_with'].apply(lambda x: 'fixed object' if x == 'parked motor vehicle' else x)\n",
    "df['motor_vehicle_involved_with'] = df['motor_vehicle_involved_with'].apply(fix_value)"
   ]
  },
  {
   "cell_type": "markdown",
   "id": "b54f4186",
   "metadata": {},
   "source": [
    "### Sampling and feature coding"
   ]
  },
  {
   "cell_type": "code",
   "execution_count": 31,
   "id": "7b849a97",
   "metadata": {},
   "outputs": [],
   "source": [
    "X_train, X_test, y_train, y_test = train_test_split(df.drop('at_fault', axis=1), \n",
    "                                                    df['at_fault'], \n",
    "                                                    train_size=0.8, \n",
    "                                                    random_state=42, \n",
    "                                                    shuffle=True,\n",
    "                                                   stratify=df['at_fault']) "
   ]
  },
  {
   "cell_type": "code",
   "execution_count": 32,
   "id": "68686678",
   "metadata": {},
   "outputs": [],
   "source": [
    "categorial = ['party_sobriety', 'party_drug_physical',\n",
    "    'cellphone_in_use', 'vehicle_type', 'vehicle_transmission',\n",
    "    'county_location', 'direction',\n",
    "    'intersection', 'weather', 'location_type',\n",
    "    'collision_damage', 'primary_collision_factor', 'pcf_violation_category',\n",
    "    'type_of_collision', 'motor_vehicle_involved_with', 'road_surface',\n",
    "    'road_condition', 'lighting', 'control_device']\n",
    "\n",
    "numeric =['at_fault', 'insurance_premium', 'distance', 'party_count', 'vehicle_age']"
   ]
  },
  {
   "cell_type": "code",
   "execution_count": 34,
   "id": "236003d9",
   "metadata": {},
   "outputs": [],
   "source": [
    "tmp_train = X_train[categorial]\n",
    "tmp_test= X_test[categorial]\n",
    "\n",
    "\n",
    "encoder_ohe = OneHotEncoder(drop='first')\n",
    "encoder_ohe.fit(X_train[categorial])\n",
    "\n",
    "tmp_train = pd.DataFrame(encoder_ohe.transform(X_train[categorial]).toarray(), \n",
    "                                   columns=encoder_ohe.get_feature_names_out(),\n",
    "                                   index=X_train.index)\n",
    "tmp_test = pd.DataFrame(encoder_ohe.transform(X_test[categorial]).toarray(), \n",
    "                                   columns=encoder_ohe.get_feature_names_out(),\n",
    "                                   index=X_test.index)\n",
    "\n",
    "X_train.drop(categorial, axis=1, inplace=True)\n",
    "X_train = X_train.join(tmp_train)\n",
    "\n",
    "X_test.drop(categorial, axis=1, inplace=True)\n",
    "X_test = X_test.join(tmp_test)"
   ]
  },
  {
   "cell_type": "markdown",
   "id": "b544b6fa",
   "metadata": {},
   "source": [
    "Let's look at the balance of classes:"
   ]
  },
  {
   "cell_type": "code",
   "execution_count": 35,
   "id": "1e7400c2",
   "metadata": {},
   "outputs": [
    {
     "name": "stdout",
     "output_type": "stream",
     "text": [
      "0    0.500292\n",
      "1    0.499708\n",
      "Name: at_fault, dtype: float64\n"
     ]
    },
    {
     "data": {
      "text/plain": [
       "<Axes: >"
      ]
     },
     "execution_count": 35,
     "metadata": {},
     "output_type": "execute_result"
    },
    {
     "data": {
      "image/png": "[encoded data removed]",
      "text/plain": [
       "<Figure size 640x480 with 1 Axes>"
      ]
     },
     "metadata": {},
     "output_type": "display_data"
    }
   ],
   "source": [
    "class_frequency = y_train.value_counts(normalize=True)\n",
    "print(class_frequency)\n",
    "class_frequency.plot(kind='bar')"
   ]
  },
  {
   "cell_type": "code",
   "execution_count": 36,
   "id": "1acedcfa",
   "metadata": {},
   "outputs": [
    {
     "data": {
      "text/plain": [
       "1.0011681105811352"
      ]
     },
     "execution_count": 36,
     "metadata": {},
     "output_type": "execute_result"
    }
   ],
   "source": [
    "class_frequency[0]/class_frequency[1]"
   ]
  },
  {
   "cell_type": "markdown",
   "id": "9a198fde",
   "metadata": {},
   "source": [
    "The classes can be considered balanced, the distribution is close to 50%.\n",
    "\n",
    "When comparing models, we will use precision as the defining metric, because it shows the share of true positive answers.\n",
    "\n",
    "To calculate metrics and plot the graph, let's define the function metrics_func:"
   ]
  },
  {
   "cell_type": "code",
   "execution_count": 37,
   "id": "bc13c4a8",
   "metadata": {},
   "outputs": [],
   "source": [
    "def metrics_func(model):\n",
    "    model.fit(X_train, y_train)\n",
    "    predicted_test = model.predict(X_test)\n",
    "    probabilities_test = model.predict_proba(X_test)\n",
    "    probabilities_one_test = probabilities_test[:, 1]\n",
    "    precision = precision_score(y_test, predicted_test)\n",
    "    recall = recall_score(y_test, predicted_test)\n",
    "    print('Precision:', precision)\n",
    "    print('Recall:', recall)\n",
    "    print('Acuracy score:', accuracy_score(y_test, predicted_test)) \n",
    "    print('F1-score:', f1_score(y_test, predicted_test))\n",
    "    print('AUC-ROC:', roc_auc_score(y_test, probabilities_one_test), '\\n')\n",
    "    print('Confusion matrix:')\n",
    "    print(confusion_matrix(y_test, predicted_test))\n",
    "\n",
    "#  AUC-ROC\n",
    "    fpr, tpr, thresholds = roc_curve(y_test, probabilities_one_test)\n",
    "\n",
    "    plt.figure()\n",
    "\n",
    "    plt.plot([0, 1], [0, 1], linestyle='--')\n",
    "    plt.plot(fpr, tpr)\n",
    "\n",
    "    plt.xlim([0, 1])\n",
    "    plt.ylim([0, 1])\n",
    "    plt.xlabel('False Positive Rate')\n",
    "    plt.ylabel('True Positive Rate')\n",
    "    plt.title('AUC-ROC')\n",
    "    \n",
    "    plt.show()\n",
    "    return precision, predicted_test, probabilities_one_test, model"
   ]
  },
  {
   "cell_type": "markdown",
   "id": "9c58e8ac",
   "metadata": {},
   "source": [
    "### Decision Tree Model"
   ]
  },
  {
   "cell_type": "code",
   "execution_count": 38,
   "id": "759f02be",
   "metadata": {},
   "outputs": [
    {
     "name": "stdout",
     "output_type": "stream",
     "text": [
      "{'min_samples_split': 4, 'min_samples_leaf': 10, 'max_depth': 1}\n"
     ]
    }
   ],
   "source": [
    "params =  {'max_depth': range (1,15, 2),\n",
    "           'min_samples_leaf': range (1,12),\n",
    "           'min_samples_split': range (2,14,2)}\n",
    "           \n",
    "model = DecisionTreeClassifier()\n",
    "\n",
    "grid = RandomizedSearchCV(model,\n",
    "    param_distributions=params, \n",
    "    scoring='precision', \n",
    "    n_jobs=-1, \n",
    "    random_state=12345\n",
    ")\n",
    "\n",
    "grid.fit(X_train, y_train)\n",
    "\n",
    "print(grid.best_params_)\n"
   ]
  },
  {
   "cell_type": "code",
   "execution_count": 39,
   "id": "bc30e4c8",
   "metadata": {},
   "outputs": [
    {
     "name": "stdout",
     "output_type": "stream",
     "text": [
      "Precision: 0.9087947882736156\n",
      "Recall: 0.32593457943925236\n",
      "Acuracy score: 0.6468528066932581\n",
      "F1-score: 0.47979363714531387\n",
      "AUC-ROC: 0.646634410077394 \n",
      "\n",
      "Confusion matrix:\n",
      "[[4975  168]\n",
      " [3462 1674]]\n"
     ]
    },
    {
     "data": {
      "image/png": "[encoded data removed]",
      "text/plain": [
       "<Figure size 640x480 with 1 Axes>"
      ]
     },
     "metadata": {},
     "output_type": "display_data"
    }
   ],
   "source": [
    "precision_dt, predictions_dt, probabilities_dt, model_dt  = metrics_func(DecisionTreeClassifier(max_depth=1, \n",
    "                                                                                             min_samples_split=4, \n",
    "                                                                                             min_samples_leaf=10, \n",
    "                                                                                             random_state=12345,\n",
    "                                                                                             class_weight='balanced'))"
   ]
  },
  {
   "cell_type": "markdown",
   "id": "a4c4f287",
   "metadata": {},
   "source": [
    "### Random Forest Model"
   ]
  },
  {
   "cell_type": "code",
   "execution_count": 40,
   "id": "6635bd66",
   "metadata": {},
   "outputs": [
    {
     "name": "stdout",
     "output_type": "stream",
     "text": [
      "{'n_estimators': 115, 'min_samples_split': 4, 'min_samples_leaf': 6, 'max_depth': 8}\n"
     ]
    }
   ],
   "source": [
    "params =  {'n_estimators': range(10, 155, 15),\n",
    "           'max_depth': range (1,15),\n",
    "           'min_samples_leaf': range (1,8),\n",
    "           'min_samples_split': range (2,10,2)}\n",
    "           \n",
    "model = RandomForestClassifier()\n",
    "\n",
    "grid = RandomizedSearchCV(model,\n",
    "    param_distributions=params, \n",
    "    scoring='precision', \n",
    "    n_jobs=-1, \n",
    "    random_state=12345\n",
    ")\n",
    "\n",
    "grid.fit(X_train, y_train)\n",
    "\n",
    "print(grid.best_params_)"
   ]
  },
  {
   "cell_type": "code",
   "execution_count": 41,
   "id": "623d5cf7",
   "metadata": {},
   "outputs": [
    {
     "name": "stdout",
     "output_type": "stream",
     "text": [
      "Precision: 0.8922969675845243\n",
      "Recall: 0.4984423676012461\n",
      "Acuracy score: 0.7193306741900963\n",
      "F1-score: 0.6396002498438476\n",
      "AUC-ROC: 0.7995006937112598 \n",
      "\n",
      "Confusion matrix:\n",
      "[[4834  309]\n",
      " [2576 2560]]\n"
     ]
    },
    {
     "data": {
      "image/png": "[encoded data removed]",
      "text/plain": [
       "<Figure size 640x480 with 1 Axes>"
      ]
     },
     "metadata": {},
     "output_type": "display_data"
    }
   ],
   "source": [
    "precision_rf, predictions_rf, probabilities_rf, model_rf = metrics_func(RandomForestClassifier(n_estimators=115, \n",
    "                                                                                 max_depth=8, \n",
    "                                                                                 min_samples_split=4, \n",
    "                                                                                 min_samples_leaf=6, \n",
    "                                                                                 random_state=12345,\n",
    "                                                                                 class_weight='balanced'))"
   ]
  },
  {
   "cell_type": "markdown",
   "id": "945347a4",
   "metadata": {},
   "source": [
    "### Catboost"
   ]
  },
  {
   "cell_type": "code",
   "execution_count": 42,
   "id": "426ff56f",
   "metadata": {},
   "outputs": [
    {
     "name": "stderr",
     "output_type": "stream",
     "text": [
      "/opt/homebrew/lib/python3.11/site-packages/joblib/externals/loky/process_executor.py:700: UserWarning: A worker stopped while some jobs were given to the executor. This can be caused by a too short worker timeout or by a memory leak.\n",
      "  warnings.warn(\n"
     ]
    },
    {
     "name": "stdout",
     "output_type": "stream",
     "text": [
      "{'iterations': 2100, 'depth': 1}\n"
     ]
    }
   ],
   "source": [
    "params =  {'iterations': range(100, 2600, 500),\n",
    "           'depth': range (1,15)}\n",
    "           \n",
    "model = CatBoostClassifier(verbose=False)\n",
    "\n",
    "grid = RandomizedSearchCV(model,\n",
    "    param_distributions=params, \n",
    "    scoring='precision', \n",
    "    n_jobs=-1, \n",
    "    random_state=12345\n",
    ")\n",
    "\n",
    "grid.fit(X_train, y_train)\n",
    "\n",
    "print(grid.best_params_)"
   ]
  },
  {
   "cell_type": "code",
   "execution_count": 43,
   "id": "de024e57",
   "metadata": {},
   "outputs": [
    {
     "name": "stdout",
     "output_type": "stream",
     "text": [
      "Precision: 0.8475870494807575\n",
      "Recall: 0.540303738317757\n",
      "Acuracy score: 0.7217628173946882\n",
      "F1-score: 0.6599286563614745\n",
      "AUC-ROC: 0.7906525057801701 \n",
      "\n",
      "Confusion matrix:\n",
      "[[4644  499]\n",
      " [2361 2775]]\n"
     ]
    },
    {
     "data": {
      "image/png": "[encoded data removed]",
      "text/plain": [
       "<Figure size 640x480 with 1 Axes>"
      ]
     },
     "metadata": {},
     "output_type": "display_data"
    }
   ],
   "source": [
    "precision_cb, predictions_cb, probabilities_cb, model_cb = metrics_func(CatBoostClassifier(depth=1,\n",
    "                                                                                        iterations=2100,\n",
    "                                                                                        random_seed=60,\n",
    "                                                                                        learning_rate=0.003, \n",
    "                                                                                        verbose=False))"
   ]
  },
  {
   "cell_type": "markdown",
   "id": "1c23d7d4",
   "metadata": {},
   "source": [
    "## Analyze the importance of road traffic accident factors"
   ]
  },
  {
   "cell_type": "markdown",
   "id": "5cbe81ad",
   "metadata": {},
   "source": [
    "Let's analyze the best model"
   ]
  },
  {
   "cell_type": "code",
   "execution_count": 44,
   "id": "135df0fa",
   "metadata": {},
   "outputs": [
    {
     "data": {
      "text/plain": [
       "array([[4644,  499],\n",
       "       [2361, 2775]])"
      ]
     },
     "execution_count": 44,
     "metadata": {},
     "output_type": "execute_result"
    }
   ],
   "source": [
    "confusion_matrix(y_test, predictions_cb)"
   ]
  },
  {
   "cell_type": "markdown",
   "id": "b780c526",
   "metadata": {},
   "source": [
    "Here, as in the matrices for the other models, we see a high number of false positives and a low number of false negatives - it is better to erroneously predict an emergency than to erroneously fail to predict."
   ]
  },
  {
   "cell_type": "code",
   "execution_count": 45,
   "id": "78a4081e",
   "metadata": {},
   "outputs": [
    {
     "data": {
      "image/png": "[encoded data removed]",
      "text/plain": [
       "<Figure size 640x480 with 1 Axes>"
      ]
     },
     "metadata": {},
     "output_type": "display_data"
    }
   ],
   "source": [
    "precision, recall, thresholds = precision_recall_curve(y_test, probabilities_cb)\n",
    "\n",
    "fig, ax = plt.subplots()\n",
    "ax.plot(recall, precision)\n",
    "\n",
    "ax.set_title('Precision-Recall Curve')\n",
    "ax.set_ylabel('Precision')\n",
    "ax.set_xlabel('Recall')\n",
    "\n",
    "plt.show()"
   ]
  },
  {
   "cell_type": "markdown",
   "id": "ad12ddae",
   "metadata": {},
   "source": [
    "Let's analyze the importance of the main factors affecting the probability of a traffic accident:"
   ]
  },
  {
   "cell_type": "code",
   "execution_count": 46,
   "id": "72d5921f",
   "metadata": {},
   "outputs": [
    {
     "data": {
      "text/plain": [
       "Index(['insurance_premium', 'vehicle_age', 'distance', 'party_count',\n",
       "       'party_sobriety_not_applicable', 'party_sobriety_sober',\n",
       "       'party_drug_physical_impairment unknown',\n",
       "       'party_drug_physical_not applicable',\n",
       "       'party_drug_physical_sleepy/fatigued',\n",
       "       'party_drug_physical_under drug influence', 'cellphone_in_use_unknown',\n",
       "       'cellphone_in_use_yes', 'vehicle_type_sedan',\n",
       "       'vehicle_transmission_manual', 'vehicle_transmission_unknown',\n",
       "       'county_location_alpine', 'county_location_amador',\n",
       "       'county_location_butte', 'primary_collision_factor_other than driver',\n",
       "       'primary_collision_factor_vehicle code violation',\n",
       "       'pcf_violation_category_improper_turning',\n",
       "       'pcf_violation_category_pedestrian_right_of_way',\n",
       "       'type_of_collision_overturned',\n",
       "       'motor_vehicle_involved_with_fixed_object',\n",
       "       'motor_vehicle_involved_with_other_vehicle'],\n",
       "      dtype='object')"
      ]
     },
     "execution_count": 46,
     "metadata": {},
     "output_type": "execute_result"
    }
   ],
   "source": [
    "smf = SelectFromModel(model_cb, threshold=-np.inf, max_features = 25)\n",
    "smf.fit(X_train, y_train)\n",
    "features_index = smf.get_support()\n",
    "features_1 = X_train.columns[features_index]\n",
    "features_1"
   ]
  },
  {
   "cell_type": "markdown",
   "id": "34094837",
   "metadata": {},
   "source": [
    "It is possible to identify the most important factors that influence the likelihood of a traffic accident:\n",
    "\n",
    "- The fact of alcohol intoxication\n",
    "- Collision with an object\n",
    "- Street lighting\n",
    "- Hitting a pedestrian when the pedestrian had the upper hand\n",
    "- Wet road\n",
    "\n"
   ]
  },
  {
   "cell_type": "code",
   "execution_count": 54,
   "id": "5550b342",
   "metadata": {
    "scrolled": true
   },
   "outputs": [
    {
     "data": {
      "image/png": "[encoded data removed]",
      "text/plain": [
       "<Figure size 500x600 with 1 Axes>"
      ]
     },
     "metadata": {},
     "output_type": "display_data"
    }
   ],
   "source": [
    "plt.figure(figsize=[5,6])\n",
    "sns.barplot(x=y_train, y=X_train['party_drug_physical_sleepy/fatigued'], color='crimson')\n",
    "plt.title('Factor and target variable dependence')\n",
    "plt.xlabel('Fact of fault in an accident')\n",
    "plt.ylabel('Factor')\n",
    "plt.grid()\n",
    "plt.show()"
   ]
  },
  {
   "cell_type": "markdown",
   "id": "67c3b48c",
   "metadata": {},
   "source": [
    "Here we have taken the sleepy/fatigued driver status indicator. In order to prevent such incidents, cars should preferably be equipped with an emergency braking system, such as Volvo City Safety.\n",
    "\n",
    "It is also recommended to equip cars with a built-in navigator to warn of speed limits and automatic transmission to increase safety."
   ]
  },
  {
   "cell_type": "markdown",
   "id": "52dbd003",
   "metadata": {},
   "source": [
    "## Conclusions"
   ]
  },
  {
   "cell_type": "markdown",
   "id": "1358e824",
   "metadata": {},
   "source": [
    "A system of driver risk assessment is likely to be developed, but it is worth considering not only external factors, such as road surface condition or street lighting, but also some data concerning the driver himself, such as experience, previous involvement in accidents as a culprit etc. It is also worth taking into account the density of traffic in the future. To increase safety, it is recommended to equip vehicles with emergency braking systems."
   ]
  }
 ],
 "metadata": {
  "ExecuteTimeLog": [
   {
    "duration": 1724,
    "start_time": "2023-07-26T10:34:53.653Z"
   },
   {
    "duration": 3,
    "start_time": "2023-07-26T10:35:11.970Z"
   },
   {
    "duration": 3,
    "start_time": "2023-07-26T10:35:20.634Z"
   },
   {
    "duration": 28972,
    "start_time": "2023-07-26T10:35:28.264Z"
   },
   {
    "duration": 237,
    "start_time": "2023-07-26T10:36:12.764Z"
   },
   {
    "duration": 44,
    "start_time": "2023-07-26T10:37:07.152Z"
   },
   {
    "duration": 49,
    "start_time": "2023-07-26T10:37:40.403Z"
   },
   {
    "duration": 55,
    "start_time": "2023-07-26T10:38:09.016Z"
   },
   {
    "duration": 267,
    "start_time": "2023-07-26T10:38:59.199Z"
   },
   {
    "duration": 205,
    "start_time": "2023-07-26T10:39:32.037Z"
   },
   {
    "duration": 190,
    "start_time": "2023-07-26T10:42:29.242Z"
   },
   {
    "duration": 169,
    "start_time": "2023-07-26T10:42:37.680Z"
   },
   {
    "duration": 524,
    "start_time": "2023-07-26T10:43:22.150Z"
   },
   {
    "duration": 1385,
    "start_time": "2023-07-26T10:46:07.196Z"
   },
   {
    "duration": 88,
    "start_time": "2023-07-26T10:46:17.498Z"
   },
   {
    "duration": 109,
    "start_time": "2023-07-26T10:46:39.568Z"
   },
   {
    "duration": 142,
    "start_time": "2023-07-26T10:46:45.253Z"
   },
   {
    "duration": 21,
    "start_time": "2023-07-26T10:47:04.620Z"
   },
   {
    "duration": 3,
    "start_time": "2023-07-26T10:47:22.913Z"
   },
   {
    "duration": 3,
    "start_time": "2023-07-26T10:47:34.929Z"
   },
   {
    "duration": 55,
    "start_time": "2023-07-26T10:47:47.476Z"
   },
   {
    "duration": 16,
    "start_time": "2023-07-26T10:47:57.732Z"
   },
   {
    "duration": 62,
    "start_time": "2023-07-26T10:48:29.232Z"
   },
   {
    "duration": 21,
    "start_time": "2023-07-26T10:48:50.420Z"
   },
   {
    "duration": 100,
    "start_time": "2023-07-26T10:49:12.755Z"
   },
   {
    "duration": 20,
    "start_time": "2023-07-26T10:49:23.044Z"
   },
   {
    "duration": 59,
    "start_time": "2023-07-26T10:50:51.011Z"
   },
   {
    "duration": 88,
    "start_time": "2023-07-26T10:52:26.489Z"
   },
   {
    "duration": 121,
    "start_time": "2023-07-26T10:52:35.187Z"
   },
   {
    "duration": 3,
    "start_time": "2023-07-26T10:53:00.192Z"
   },
   {
    "duration": 388,
    "start_time": "2023-07-26T10:53:01.126Z"
   },
   {
    "duration": 383,
    "start_time": "2023-07-26T10:55:33.325Z"
   },
   {
    "duration": 339,
    "start_time": "2023-07-26T10:55:37.689Z"
   },
   {
    "duration": 6872,
    "start_time": "2023-07-26T10:57:01.871Z"
   },
   {
    "duration": 400,
    "start_time": "2023-07-26T10:57:10.882Z"
   },
   {
    "duration": 470,
    "start_time": "2023-07-26T10:57:37.832Z"
   },
   {
    "duration": 108,
    "start_time": "2023-07-26T10:58:04.239Z"
   },
   {
    "duration": 5,
    "start_time": "2023-07-26T10:58:20.331Z"
   },
   {
    "duration": 6,
    "start_time": "2023-07-26T10:59:04.627Z"
   },
   {
    "duration": 21769,
    "start_time": "2023-07-26T10:59:28.633Z"
   },
   {
    "duration": 774,
    "start_time": "2023-07-26T10:59:50.404Z"
   },
   {
    "duration": 120808,
    "start_time": "2023-07-26T11:00:55.349Z"
   },
   {
    "duration": 6107,
    "start_time": "2023-07-26T11:02:56.159Z"
   },
   {
    "duration": 1264,
    "start_time": "2023-07-26T11:03:02.267Z"
   },
   {
    "duration": 0,
    "start_time": "2023-07-26T11:03:03.533Z"
   },
   {
    "duration": 0,
    "start_time": "2023-07-26T11:03:03.534Z"
   },
   {
    "duration": 0,
    "start_time": "2023-07-26T11:03:03.535Z"
   },
   {
    "duration": 24,
    "start_time": "2023-07-26T13:16:03.735Z"
   },
   {
    "duration": 4,
    "start_time": "2023-07-26T13:16:09.539Z"
   },
   {
    "duration": 2,
    "start_time": "2023-07-26T13:16:09.832Z"
   },
   {
    "duration": 3,
    "start_time": "2023-07-26T13:16:10.052Z"
   },
   {
    "duration": 4,
    "start_time": "2023-07-26T13:16:10.236Z"
   },
   {
    "duration": 230,
    "start_time": "2023-07-26T13:16:10.763Z"
   },
   {
    "duration": 43,
    "start_time": "2023-07-26T13:16:11.305Z"
   },
   {
    "duration": 47,
    "start_time": "2023-07-26T13:16:11.880Z"
   },
   {
    "duration": 52,
    "start_time": "2023-07-26T13:16:12.398Z"
   },
   {
    "duration": 275,
    "start_time": "2023-07-26T13:16:13.116Z"
   },
   {
    "duration": 181,
    "start_time": "2023-07-26T13:16:13.473Z"
   },
   {
    "duration": 188,
    "start_time": "2023-07-26T13:16:14.247Z"
   },
   {
    "duration": 172,
    "start_time": "2023-07-26T13:16:14.437Z"
   },
   {
    "duration": 537,
    "start_time": "2023-07-26T13:16:15.002Z"
   },
   {
    "duration": 1290,
    "start_time": "2023-07-26T13:16:15.763Z"
   },
   {
    "duration": 91,
    "start_time": "2023-07-26T13:16:17.055Z"
   },
   {
    "duration": 107,
    "start_time": "2023-07-26T13:16:17.148Z"
   },
   {
    "duration": 139,
    "start_time": "2023-07-26T13:16:17.257Z"
   },
   {
    "duration": 27,
    "start_time": "2023-07-26T13:16:17.397Z"
   },
   {
    "duration": 23,
    "start_time": "2023-07-26T13:16:17.426Z"
   },
   {
    "duration": 3,
    "start_time": "2023-07-26T13:16:17.470Z"
   },
   {
    "duration": 53,
    "start_time": "2023-07-26T13:16:17.653Z"
   },
   {
    "duration": 19,
    "start_time": "2023-07-26T13:16:17.842Z"
   },
   {
    "duration": 54,
    "start_time": "2023-07-26T13:16:18.228Z"
   },
   {
    "duration": 21,
    "start_time": "2023-07-26T13:16:18.629Z"
   },
   {
    "duration": 79,
    "start_time": "2023-07-26T13:16:19.433Z"
   },
   {
    "duration": 19,
    "start_time": "2023-07-26T13:16:19.688Z"
   },
   {
    "duration": 55,
    "start_time": "2023-07-26T13:16:20.137Z"
   },
   {
    "duration": 73,
    "start_time": "2023-07-26T13:16:20.672Z"
   },
   {
    "duration": 3,
    "start_time": "2023-07-26T13:16:20.861Z"
   },
   {
    "duration": 467,
    "start_time": "2023-07-26T13:16:21.074Z"
   },
   {
    "duration": 91,
    "start_time": "2023-07-26T13:16:21.772Z"
   },
   {
    "duration": 4,
    "start_time": "2023-07-26T13:16:23.398Z"
   },
   {
    "duration": 6,
    "start_time": "2023-07-26T13:16:23.770Z"
   },
   {
    "duration": 4663,
    "start_time": "2023-07-26T13:16:24.147Z"
   },
   {
    "duration": 327,
    "start_time": "2023-07-26T13:16:28.812Z"
   },
   {
    "duration": 76889,
    "start_time": "2023-07-26T13:16:29.141Z"
   },
   {
    "duration": 3981,
    "start_time": "2023-07-26T13:17:46.032Z"
   },
   {
    "duration": 66660,
    "start_time": "2023-07-26T13:17:50.015Z"
   },
   {
    "duration": 795,
    "start_time": "2023-07-26T13:18:56.677Z"
   },
   {
    "duration": 2722266,
    "start_time": "2023-07-26T13:18:57.475Z"
   },
   {
    "duration": 17014,
    "start_time": "2023-07-26T14:04:19.743Z"
   },
   {
    "duration": 1714,
    "start_time": "2023-07-27T07:37:06.685Z"
   },
   {
    "duration": 3,
    "start_time": "2023-07-27T07:37:09.926Z"
   },
   {
    "duration": 3,
    "start_time": "2023-07-27T07:37:10.300Z"
   },
   {
    "duration": 12721,
    "start_time": "2023-07-27T07:37:10.570Z"
   },
   {
    "duration": 60,
    "start_time": "2023-07-27T07:37:23.293Z"
   },
   {
    "duration": 14,
    "start_time": "2023-07-27T07:37:23.355Z"
   },
   {
    "duration": 42,
    "start_time": "2023-07-27T07:37:23.372Z"
   },
   {
    "duration": 21,
    "start_time": "2023-07-27T07:37:23.416Z"
   },
   {
    "duration": 244,
    "start_time": "2023-07-27T07:37:23.439Z"
   },
   {
    "duration": 206,
    "start_time": "2023-07-27T07:37:23.685Z"
   },
   {
    "duration": 162,
    "start_time": "2023-07-27T07:37:23.893Z"
   },
   {
    "duration": 185,
    "start_time": "2023-07-27T07:37:24.056Z"
   },
   {
    "duration": 500,
    "start_time": "2023-07-27T07:37:24.244Z"
   },
   {
    "duration": 1373,
    "start_time": "2023-07-27T07:37:24.746Z"
   },
   {
    "duration": 118,
    "start_time": "2023-07-27T07:37:26.121Z"
   },
   {
    "duration": 127,
    "start_time": "2023-07-27T07:37:26.241Z"
   },
   {
    "duration": 187,
    "start_time": "2023-07-27T07:37:26.369Z"
   },
   {
    "duration": 35,
    "start_time": "2023-07-27T07:37:26.558Z"
   },
   {
    "duration": 25,
    "start_time": "2023-07-27T07:37:26.595Z"
   },
   {
    "duration": 4,
    "start_time": "2023-07-27T07:37:26.622Z"
   },
   {
    "duration": 83,
    "start_time": "2023-07-27T07:37:26.628Z"
   },
   {
    "duration": 18,
    "start_time": "2023-07-27T07:37:26.713Z"
   },
   {
    "duration": 72,
    "start_time": "2023-07-27T07:37:26.733Z"
   },
   {
    "duration": 32,
    "start_time": "2023-07-27T07:37:26.807Z"
   },
   {
    "duration": 147,
    "start_time": "2023-07-27T07:37:26.840Z"
   },
   {
    "duration": 23,
    "start_time": "2023-07-27T07:37:26.989Z"
   },
   {
    "duration": 82,
    "start_time": "2023-07-27T07:37:27.013Z"
   },
   {
    "duration": 96,
    "start_time": "2023-07-27T07:37:27.097Z"
   },
   {
    "duration": 3,
    "start_time": "2023-07-27T07:37:27.196Z"
   },
   {
    "duration": 578,
    "start_time": "2023-07-27T07:37:27.200Z"
   },
   {
    "duration": 117,
    "start_time": "2023-07-27T07:37:27.782Z"
   },
   {
    "duration": 5,
    "start_time": "2023-07-27T07:37:27.901Z"
   },
   {
    "duration": 8,
    "start_time": "2023-07-27T07:37:27.908Z"
   },
   {
    "duration": 5461,
    "start_time": "2023-07-27T07:37:27.917Z"
   },
   {
    "duration": 301,
    "start_time": "2023-07-27T07:37:33.380Z"
   },
   {
    "duration": 86513,
    "start_time": "2023-07-27T07:37:33.683Z"
   },
   {
    "duration": 4649,
    "start_time": "2023-07-27T07:39:00.198Z"
   },
   {
    "duration": 1904312,
    "start_time": "2023-07-27T07:39:04.848Z"
   },
   {
    "duration": 890,
    "start_time": "2023-07-27T08:10:49.162Z"
   },
   {
    "duration": 3031456,
    "start_time": "2023-07-27T08:10:50.057Z"
   },
   {
    "duration": 18916,
    "start_time": "2023-07-27T09:01:21.514Z"
   },
   {
    "duration": 182,
    "start_time": "2023-07-27T09:01:59.363Z"
   },
   {
    "duration": 21,
    "start_time": "2023-07-27T09:02:09.596Z"
   },
   {
    "duration": 1317,
    "start_time": "2023-07-27T09:02:18.780Z"
   },
   {
    "duration": 14,
    "start_time": "2023-07-27T09:03:42.516Z"
   },
   {
    "duration": 119,
    "start_time": "2023-07-27T09:04:11.496Z"
   },
   {
    "duration": 50325,
    "start_time": "2023-07-27T09:04:39.734Z"
   },
   {
    "duration": 3710,
    "start_time": "2023-07-27T09:06:08.472Z"
   },
   {
    "duration": 2901,
    "start_time": "2023-07-27T09:06:54.554Z"
   },
   {
    "duration": 615,
    "start_time": "2023-07-27T09:07:08.591Z"
   },
   {
    "duration": 1760,
    "start_time": "2023-07-28T05:09:42.859Z"
   },
   {
    "duration": 3,
    "start_time": "2023-07-28T05:09:44.621Z"
   },
   {
    "duration": 13,
    "start_time": "2023-07-28T05:09:44.625Z"
   },
   {
    "duration": 13788,
    "start_time": "2023-07-28T05:09:44.639Z"
   },
   {
    "duration": 60,
    "start_time": "2023-07-28T05:09:58.429Z"
   },
   {
    "duration": 20,
    "start_time": "2023-07-28T05:09:58.491Z"
   },
   {
    "duration": 16,
    "start_time": "2023-07-28T05:09:58.514Z"
   },
   {
    "duration": 22,
    "start_time": "2023-07-28T05:09:58.531Z"
   },
   {
    "duration": 249,
    "start_time": "2023-07-28T05:09:58.554Z"
   },
   {
    "duration": 210,
    "start_time": "2023-07-28T05:09:58.805Z"
   },
   {
    "duration": 160,
    "start_time": "2023-07-28T05:09:59.017Z"
   },
   {
    "duration": 182,
    "start_time": "2023-07-28T05:09:59.184Z"
   },
   {
    "duration": 502,
    "start_time": "2023-07-28T05:09:59.368Z"
   },
   {
    "duration": 1364,
    "start_time": "2023-07-28T05:09:59.877Z"
   },
   {
    "duration": 97,
    "start_time": "2023-07-28T05:10:01.242Z"
   },
   {
    "duration": 196,
    "start_time": "2023-07-28T05:10:01.341Z"
   },
   {
    "duration": 356,
    "start_time": "2023-07-28T05:10:01.539Z"
   },
   {
    "duration": 115,
    "start_time": "2023-07-28T05:10:01.900Z"
   },
   {
    "duration": 50,
    "start_time": "2023-07-28T05:10:02.016Z"
   },
   {
    "duration": 97,
    "start_time": "2023-07-28T05:10:02.067Z"
   },
   {
    "duration": 97,
    "start_time": "2023-07-28T05:10:02.165Z"
   },
   {
    "duration": 30,
    "start_time": "2023-07-28T05:10:02.264Z"
   },
   {
    "duration": 92,
    "start_time": "2023-07-28T05:10:02.297Z"
   },
   {
    "duration": 27,
    "start_time": "2023-07-28T05:10:02.394Z"
   },
   {
    "duration": 91,
    "start_time": "2023-07-28T05:10:02.423Z"
   },
   {
    "duration": 17,
    "start_time": "2023-07-28T05:10:02.516Z"
   },
   {
    "duration": 80,
    "start_time": "2023-07-28T05:10:02.535Z"
   },
   {
    "duration": 71,
    "start_time": "2023-07-28T05:10:02.617Z"
   },
   {
    "duration": 3,
    "start_time": "2023-07-28T05:10:02.695Z"
   },
   {
    "duration": 534,
    "start_time": "2023-07-28T05:10:02.699Z"
   },
   {
    "duration": 103,
    "start_time": "2023-07-28T05:10:03.235Z"
   },
   {
    "duration": 4,
    "start_time": "2023-07-28T05:10:03.340Z"
   },
   {
    "duration": 82,
    "start_time": "2023-07-28T05:10:03.345Z"
   },
   {
    "duration": 5230,
    "start_time": "2023-07-28T05:10:03.428Z"
   },
   {
    "duration": 306,
    "start_time": "2023-07-28T05:10:08.659Z"
   },
   {
    "duration": 87292,
    "start_time": "2023-07-28T05:10:08.967Z"
   },
   {
    "duration": 4785,
    "start_time": "2023-07-28T05:11:36.261Z"
   },
   {
    "duration": 1607534,
    "start_time": "2023-07-28T05:11:41.048Z"
   },
   {
    "duration": 12946,
    "start_time": "2023-07-28T05:38:28.588Z"
   },
   {
    "duration": 3028629,
    "start_time": "2023-07-28T05:38:41.536Z"
   },
   {
    "duration": 18780,
    "start_time": "2023-07-28T06:29:10.169Z"
   },
   {
    "duration": 13,
    "start_time": "2023-07-28T06:29:28.951Z"
   },
   {
    "duration": 144,
    "start_time": "2023-07-28T06:29:28.976Z"
   },
   {
    "duration": 17693,
    "start_time": "2023-07-28T06:29:29.124Z"
   },
   {
    "duration": 648,
    "start_time": "2023-07-28T06:29:46.822Z"
   },
   {
    "duration": 2257,
    "start_time": "2023-07-28T09:06:33.177Z"
   },
   {
    "duration": 3,
    "start_time": "2023-07-28T09:06:35.436Z"
   },
   {
    "duration": 30,
    "start_time": "2023-07-28T09:06:35.441Z"
   },
   {
    "duration": 15286,
    "start_time": "2023-07-28T09:06:35.473Z"
   },
   {
    "duration": 56,
    "start_time": "2023-07-28T09:06:50.761Z"
   },
   {
    "duration": 12,
    "start_time": "2023-07-28T09:06:50.820Z"
   },
   {
    "duration": 15,
    "start_time": "2023-07-28T09:06:50.834Z"
   },
   {
    "duration": 35,
    "start_time": "2023-07-28T09:06:50.851Z"
   },
   {
    "duration": 236,
    "start_time": "2023-07-28T09:06:53.531Z"
   },
   {
    "duration": 196,
    "start_time": "2023-07-28T09:06:55.353Z"
   },
   {
    "duration": 1618,
    "start_time": "2023-07-28T09:08:35.933Z"
   },
   {
    "duration": 146,
    "start_time": "2023-07-28T09:08:54.194Z"
   },
   {
    "duration": 3386,
    "start_time": "2023-07-28T09:10:37.735Z"
   },
   {
    "duration": 290,
    "start_time": "2023-07-28T09:12:16.304Z"
   },
   {
    "duration": 510,
    "start_time": "2023-07-28T09:13:13.805Z"
   },
   {
    "duration": 133,
    "start_time": "2023-07-28T09:14:42.192Z"
   },
   {
    "duration": 137,
    "start_time": "2023-07-28T09:15:27.490Z"
   },
   {
    "duration": 128,
    "start_time": "2023-07-28T09:15:49.809Z"
   },
   {
    "duration": 12862,
    "start_time": "2023-07-28T09:16:55.577Z"
   },
   {
    "duration": 594,
    "start_time": "2023-07-28T09:18:12.812Z"
   },
   {
    "duration": 105,
    "start_time": "2023-07-28T09:19:12.918Z"
   },
   {
    "duration": 1047,
    "start_time": "2023-07-28T09:19:25.577Z"
   },
   {
    "duration": 4,
    "start_time": "2023-07-28T09:19:59.110Z"
   },
   {
    "duration": 54,
    "start_time": "2023-07-28T09:20:38.738Z"
   },
   {
    "duration": 3,
    "start_time": "2023-07-28T09:20:41.348Z"
   },
   {
    "duration": 701,
    "start_time": "2023-07-28T09:20:41.737Z"
   },
   {
    "duration": 0,
    "start_time": "2023-07-28T09:20:42.440Z"
   },
   {
    "duration": 510,
    "start_time": "2023-07-28T09:20:43.109Z"
   },
   {
    "duration": 55,
    "start_time": "2023-07-28T09:20:43.804Z"
   },
   {
    "duration": 428,
    "start_time": "2023-07-28T09:21:57.605Z"
   },
   {
    "duration": 5,
    "start_time": "2023-07-28T09:21:59.918Z"
   },
   {
    "duration": 3,
    "start_time": "2023-07-28T09:22:01.481Z"
   },
   {
    "duration": 5,
    "start_time": "2023-07-28T09:22:01.834Z"
   },
   {
    "duration": 6,
    "start_time": "2023-07-28T09:22:04.374Z"
   },
   {
    "duration": 12,
    "start_time": "2023-07-28T09:22:06.589Z"
   },
   {
    "duration": 5,
    "start_time": "2023-07-28T09:22:08.197Z"
   },
   {
    "duration": 6,
    "start_time": "2023-07-28T09:22:10.225Z"
   },
   {
    "duration": 5,
    "start_time": "2023-07-28T09:22:10.669Z"
   },
   {
    "duration": 6,
    "start_time": "2023-07-28T09:22:12.386Z"
   },
   {
    "duration": 7,
    "start_time": "2023-07-28T09:25:34.338Z"
   },
   {
    "duration": 3,
    "start_time": "2023-07-28T09:25:35.278Z"
   },
   {
    "duration": 17,
    "start_time": "2023-07-28T09:25:40.460Z"
   },
   {
    "duration": 31,
    "start_time": "2023-07-28T09:29:19.649Z"
   },
   {
    "duration": 185,
    "start_time": "2023-07-28T09:29:38.165Z"
   },
   {
    "duration": 4,
    "start_time": "2023-07-28T09:29:41.664Z"
   },
   {
    "duration": 16,
    "start_time": "2023-07-28T09:30:10.721Z"
   },
   {
    "duration": 7,
    "start_time": "2023-07-28T09:30:17.435Z"
   },
   {
    "duration": 5,
    "start_time": "2023-07-28T09:30:18.229Z"
   },
   {
    "duration": 23,
    "start_time": "2023-07-28T09:30:18.721Z"
   },
   {
    "duration": 120,
    "start_time": "2023-07-28T09:30:21.283Z"
   },
   {
    "duration": 5,
    "start_time": "2023-07-28T09:32:46.011Z"
   },
   {
    "duration": 3,
    "start_time": "2023-07-28T09:32:46.449Z"
   },
   {
    "duration": 3,
    "start_time": "2023-07-28T09:32:46.904Z"
   },
   {
    "duration": 3,
    "start_time": "2023-07-28T09:32:47.303Z"
   },
   {
    "duration": 81,
    "start_time": "2023-07-28T09:32:48.602Z"
   },
   {
    "duration": 13,
    "start_time": "2023-07-28T09:32:49.592Z"
   },
   {
    "duration": 15,
    "start_time": "2023-07-28T09:32:50.775Z"
   },
   {
    "duration": 22,
    "start_time": "2023-07-28T09:32:52.168Z"
   },
   {
    "duration": 246,
    "start_time": "2023-07-28T09:32:54.051Z"
   },
   {
    "duration": 179,
    "start_time": "2023-07-28T09:32:54.757Z"
   },
   {
    "duration": 1562,
    "start_time": "2023-07-28T09:32:57.620Z"
   },
   {
    "duration": 306,
    "start_time": "2023-07-28T09:32:59.184Z"
   },
   {
    "duration": 511,
    "start_time": "2023-07-28T09:33:02.945Z"
   },
   {
    "duration": 12091,
    "start_time": "2023-07-28T09:33:05.188Z"
   },
   {
    "duration": 632,
    "start_time": "2023-07-28T09:33:45.469Z"
   },
   {
    "duration": 2315,
    "start_time": "2023-07-28T09:35:20.565Z"
   },
   {
    "duration": 1486,
    "start_time": "2023-07-28T09:35:30.330Z"
   },
   {
    "duration": 2225,
    "start_time": "2023-07-28T09:35:46.974Z"
   },
   {
    "duration": 229,
    "start_time": "2023-07-28T09:36:04.469Z"
   },
   {
    "duration": 32,
    "start_time": "2023-07-28T09:36:09.237Z"
   },
   {
    "duration": 3,
    "start_time": "2023-07-28T09:36:11.059Z"
   },
   {
    "duration": 63,
    "start_time": "2023-07-28T09:36:11.701Z"
   },
   {
    "duration": 25,
    "start_time": "2023-07-28T09:36:12.204Z"
   },
   {
    "duration": 56,
    "start_time": "2023-07-28T09:36:13.432Z"
   },
   {
    "duration": 35,
    "start_time": "2023-07-28T09:36:15.352Z"
   },
   {
    "duration": 100,
    "start_time": "2023-07-28T09:36:17.578Z"
   },
   {
    "duration": 28,
    "start_time": "2023-07-28T09:36:18.265Z"
   },
   {
    "duration": 63,
    "start_time": "2023-07-28T09:36:20.972Z"
   },
   {
    "duration": 175,
    "start_time": "2023-07-28T09:36:22.843Z"
   },
   {
    "duration": 3,
    "start_time": "2023-07-28T09:36:23.504Z"
   },
   {
    "duration": 15,
    "start_time": "2023-07-28T09:36:37.257Z"
   },
   {
    "duration": 5,
    "start_time": "2023-07-28T09:37:09.613Z"
   },
   {
    "duration": 3,
    "start_time": "2023-07-28T09:37:09.896Z"
   },
   {
    "duration": 3,
    "start_time": "2023-07-28T09:37:10.122Z"
   },
   {
    "duration": 4,
    "start_time": "2023-07-28T09:37:10.313Z"
   },
   {
    "duration": 42,
    "start_time": "2023-07-28T09:37:10.838Z"
   },
   {
    "duration": 12,
    "start_time": "2023-07-28T09:37:11.352Z"
   },
   {
    "duration": 14,
    "start_time": "2023-07-28T09:37:11.863Z"
   },
   {
    "duration": 23,
    "start_time": "2023-07-28T09:37:13.204Z"
   },
   {
    "duration": 245,
    "start_time": "2023-07-28T09:37:14.572Z"
   },
   {
    "duration": 175,
    "start_time": "2023-07-28T09:37:14.895Z"
   },
   {
    "duration": 1696,
    "start_time": "2023-07-28T09:37:16.782Z"
   },
   {
    "duration": 297,
    "start_time": "2023-07-28T09:37:18.481Z"
   },
   {
    "duration": 510,
    "start_time": "2023-07-28T09:37:18.828Z"
   },
   {
    "duration": 13201,
    "start_time": "2023-07-28T09:37:20.516Z"
   },
   {
    "duration": 620,
    "start_time": "2023-07-28T09:37:33.719Z"
   },
   {
    "duration": 100,
    "start_time": "2023-07-28T09:37:34.341Z"
   },
   {
    "duration": 1059,
    "start_time": "2023-07-28T09:37:34.443Z"
   },
   {
    "duration": 4,
    "start_time": "2023-07-28T09:37:35.504Z"
   },
   {
    "duration": 1911,
    "start_time": "2023-07-28T09:37:35.510Z"
   },
   {
    "duration": 175,
    "start_time": "2023-07-28T09:37:37.423Z"
   },
   {
    "duration": 28,
    "start_time": "2023-07-28T09:37:37.600Z"
   },
   {
    "duration": 3,
    "start_time": "2023-07-28T09:37:37.630Z"
   },
   {
    "duration": 82,
    "start_time": "2023-07-28T09:37:37.635Z"
   },
   {
    "duration": 25,
    "start_time": "2023-07-28T09:37:37.719Z"
   },
   {
    "duration": 53,
    "start_time": "2023-07-28T09:37:37.758Z"
   },
   {
    "duration": 27,
    "start_time": "2023-07-28T09:37:37.813Z"
   },
   {
    "duration": 105,
    "start_time": "2023-07-28T09:37:37.842Z"
   },
   {
    "duration": 33,
    "start_time": "2023-07-28T09:37:37.948Z"
   },
   {
    "duration": 58,
    "start_time": "2023-07-28T09:37:37.983Z"
   },
   {
    "duration": 149,
    "start_time": "2023-07-28T09:37:38.064Z"
   },
   {
    "duration": 4,
    "start_time": "2023-07-28T09:37:38.214Z"
   },
   {
    "duration": 504,
    "start_time": "2023-07-28T09:37:38.219Z"
   },
   {
    "duration": 95,
    "start_time": "2023-07-28T09:37:43.130Z"
   },
   {
    "duration": 5,
    "start_time": "2023-07-28T09:37:46.680Z"
   },
   {
    "duration": 6,
    "start_time": "2023-07-28T09:40:41.511Z"
   },
   {
    "duration": 8717,
    "start_time": "2023-07-28T09:40:43.997Z"
   },
   {
    "duration": 0,
    "start_time": "2023-07-28T09:40:52.716Z"
   },
   {
    "duration": 170,
    "start_time": "2023-07-28T09:40:59.645Z"
   },
   {
    "duration": 156,
    "start_time": "2023-07-28T09:42:20.097Z"
   },
   {
    "duration": 4,
    "start_time": "2023-07-28T09:43:01.741Z"
   },
   {
    "duration": 1090,
    "start_time": "2023-07-28T09:43:03.590Z"
   },
   {
    "duration": 102,
    "start_time": "2023-07-28T09:43:20.491Z"
   },
   {
    "duration": 4,
    "start_time": "2023-07-28T09:43:21.687Z"
   },
   {
    "duration": 6,
    "start_time": "2023-07-28T09:43:23.635Z"
   },
   {
    "duration": 12435,
    "start_time": "2023-07-28T09:43:25.564Z"
   },
   {
    "duration": 496,
    "start_time": "2023-07-28T09:43:38.001Z"
   },
   {
    "duration": 102569,
    "start_time": "2023-07-28T09:43:44.518Z"
   },
   {
    "duration": 5887,
    "start_time": "2023-07-28T09:45:27.089Z"
   },
   {
    "duration": 35843,
    "start_time": "2023-07-28T09:46:57.250Z"
   },
   {
    "duration": 0,
    "start_time": "2023-07-28T09:47:33.095Z"
   },
   {
    "duration": 218,
    "start_time": "2023-07-28T09:47:36.998Z"
   },
   {
    "duration": 103434,
    "start_time": "2023-07-28T09:47:44.435Z"
   },
   {
    "duration": 3177,
    "start_time": "2023-07-28T09:49:54.388Z"
   },
   {
    "duration": 75548,
    "start_time": "2023-07-28T09:50:45.421Z"
   },
   {
    "duration": 1302,
    "start_time": "2023-07-28T09:52:34.209Z"
   },
   {
    "duration": 5126443,
    "start_time": "2023-07-28T09:52:59.565Z"
   },
   {
    "duration": 17416,
    "start_time": "2023-07-28T11:18:58.386Z"
   },
   {
    "duration": 11,
    "start_time": "2023-07-28T11:19:23.724Z"
   },
   {
    "duration": 10,
    "start_time": "2023-07-28T11:19:42.524Z"
   },
   {
    "duration": 10,
    "start_time": "2023-07-28T11:19:57.826Z"
   },
   {
    "duration": 120,
    "start_time": "2023-07-28T11:20:00.114Z"
   },
   {
    "duration": 855,
    "start_time": "2023-07-28T11:20:02.807Z"
   },
   {
    "duration": 4130,
    "start_time": "2023-07-28T11:20:07.821Z"
   },
   {
    "duration": 2242,
    "start_time": "2023-07-28T11:22:12.138Z"
   },
   {
    "duration": 550,
    "start_time": "2023-07-28T11:22:34.101Z"
   },
   {
    "duration": 2224,
    "start_time": "2023-07-28T13:43:15.419Z"
   },
   {
    "duration": 3,
    "start_time": "2023-07-28T13:43:17.645Z"
   },
   {
    "duration": 14,
    "start_time": "2023-07-28T13:43:17.650Z"
   },
   {
    "duration": 32965,
    "start_time": "2023-07-28T13:43:17.666Z"
   },
   {
    "duration": 253,
    "start_time": "2023-07-28T13:43:50.633Z"
   },
   {
    "duration": 60,
    "start_time": "2023-07-28T13:43:50.887Z"
   },
   {
    "duration": 43,
    "start_time": "2023-07-28T13:43:50.948Z"
   },
   {
    "duration": 59,
    "start_time": "2023-07-28T13:43:50.993Z"
   },
   {
    "duration": 273,
    "start_time": "2023-07-28T13:43:51.053Z"
   },
   {
    "duration": 201,
    "start_time": "2023-07-28T13:43:51.328Z"
   },
   {
    "duration": 1385,
    "start_time": "2023-07-28T13:43:51.536Z"
   },
   {
    "duration": 260,
    "start_time": "2023-07-28T13:43:52.922Z"
   },
   {
    "duration": 516,
    "start_time": "2023-07-28T13:43:53.183Z"
   },
   {
    "duration": 12832,
    "start_time": "2023-07-28T13:43:53.708Z"
   },
   {
    "duration": 441,
    "start_time": "2023-07-28T13:44:06.542Z"
   },
   {
    "duration": 63,
    "start_time": "2023-07-28T13:44:06.984Z"
   },
   {
    "duration": 736,
    "start_time": "2023-07-28T13:44:07.049Z"
   },
   {
    "duration": 3,
    "start_time": "2023-07-28T13:44:07.787Z"
   },
   {
    "duration": 1051,
    "start_time": "2023-07-28T13:44:07.791Z"
   },
   {
    "duration": 112,
    "start_time": "2023-07-28T13:44:08.843Z"
   },
   {
    "duration": 23,
    "start_time": "2023-07-28T13:44:08.956Z"
   },
   {
    "duration": 6,
    "start_time": "2023-07-28T13:44:08.981Z"
   },
   {
    "duration": 59,
    "start_time": "2023-07-28T13:44:08.988Z"
   },
   {
    "duration": 12,
    "start_time": "2023-07-28T13:44:09.049Z"
   },
   {
    "duration": 49,
    "start_time": "2023-07-28T13:44:09.062Z"
   },
   {
    "duration": 16,
    "start_time": "2023-07-28T13:44:09.127Z"
   },
   {
    "duration": 77,
    "start_time": "2023-07-28T13:44:09.145Z"
   },
   {
    "duration": 14,
    "start_time": "2023-07-28T13:44:09.223Z"
   },
   {
    "duration": 43,
    "start_time": "2023-07-28T13:44:09.238Z"
   },
   {
    "duration": 77,
    "start_time": "2023-07-28T13:44:09.282Z"
   },
   {
    "duration": 4,
    "start_time": "2023-07-28T13:44:09.360Z"
   },
   {
    "duration": 683,
    "start_time": "2023-07-28T13:44:09.366Z"
   },
   {
    "duration": 91,
    "start_time": "2023-07-28T13:44:10.051Z"
   },
   {
    "duration": 3,
    "start_time": "2023-07-28T13:44:10.143Z"
   },
   {
    "duration": 6,
    "start_time": "2023-07-28T13:44:10.147Z"
   },
   {
    "duration": 10224,
    "start_time": "2023-07-28T13:44:10.154Z"
   },
   {
    "duration": 203,
    "start_time": "2023-07-28T13:44:20.379Z"
   },
   {
    "duration": 89342,
    "start_time": "2023-07-28T13:44:20.583Z"
   },
   {
    "duration": 2656,
    "start_time": "2023-07-28T13:45:49.927Z"
   },
   {
    "duration": 9098176,
    "start_time": "2023-07-28T13:45:52.584Z"
   },
   {
    "duration": 0,
    "start_time": "2023-07-28T16:17:30.763Z"
   },
   {
    "duration": 0,
    "start_time": "2023-07-28T16:17:30.764Z"
   },
   {
    "duration": 0,
    "start_time": "2023-07-28T16:17:30.765Z"
   },
   {
    "duration": 0,
    "start_time": "2023-07-28T16:17:30.767Z"
   },
   {
    "duration": 0,
    "start_time": "2023-07-28T16:17:30.768Z"
   },
   {
    "duration": 0,
    "start_time": "2023-07-28T16:17:30.768Z"
   },
   {
    "duration": 0,
    "start_time": "2023-07-28T16:17:30.769Z"
   }
  ],
  "kernelspec": {
   "display_name": "Python 3 (ipykernel)",
   "language": "python",
   "name": "python3"
  },
  "language_info": {
   "codemirror_mode": {
    "name": "ipython",
    "version": 3
   },
   "file_extension": ".py",
   "mimetype": "text/x-python",
   "name": "python",
   "nbconvert_exporter": "python",
   "pygments_lexer": "ipython3",
   "version": "3.11.2"
  },
  "toc": {
   "base_numbering": 1,
   "nav_menu": {},
   "number_sections": false,
   "sideBar": true,
   "skip_h1_title": false,
   "title_cell": "Table of Contents",
   "title_sidebar": "Contents",
   "toc_cell": false,
   "toc_position": {},
   "toc_section_display": true,
   "toc_window_display": true
  },
  "varInspector": {
   "cols": {
    "lenName": 16,
    "lenType": 16,
    "lenVar": 40
   },
   "kernels_config": {
    "python": {
     "delete_cmd_postfix": "",
     "delete_cmd_prefix": "del ",
     "library": "var_list.py",
     "varRefreshCmd": "print(var_dic_list())"
    },
    "r": {
     "delete_cmd_postfix": ") ",
     "delete_cmd_prefix": "rm(",
     "library": "var_list.r",
     "varRefreshCmd": "cat(var_dic_list()) "
    }
   },
   "types_to_exclude": [
    "module",
    "function",
    "builtin_function_or_method",
    "instance",
    "_Feature"
   ],
   "window_display": false
  }
 },
 "nbformat": 4,
 "nbformat_minor": 5
}
