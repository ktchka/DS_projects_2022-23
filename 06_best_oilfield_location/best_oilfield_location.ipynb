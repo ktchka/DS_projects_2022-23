{
 "cells": [
  {
   "cell_type": "markdown",
   "metadata": {},
   "source": [
    "# Select a location for the well"
   ]
  },
  {
   "cell_type": "markdown",
   "metadata": {},
   "source": [
    "Let's say you work for GlavRosGosNeft, a production company. You need to decide where to drill a new well.\n",
    "\n",
    "You are given oil samples from three regions: each has 10,000 fields where the quality of the oil and the volume of its reserves have been measured. Build a machine learning model to help you determine the region where production will yield the highest profit. Analyze the possible profits and risks using the *Bootstrap.* technique.\n",
    "\n",
    "Steps for selecting a location:\n",
    "\n",
    "- In the selected region, look for deposits and determine feature values for each;\n",
    "- Build a model and estimate the amount of reserves;\n",
    "- Select the fields with the highest estimated values. The number of fields depends on the company's budget and the cost of developing one well;\n",
    "- Profit is equal to the total profit of the selected fields.\n",
    "\n",
    "**Description of data**\n",
    "\n",
    "Exploration data of the three regions are in the files: geo_data_0.csv, geo_data_1.csv and geo_data_2.csv.\n",
    "\n",
    "- id - unique field identifier;\n",
    "- f0, f1, f2 - three attributes of the points (it does not matter what they mean, but the attributes themselves are significant);\n",
    "- product - volume of reserves in the field (thousand barrels).\n",
    "\n",
    "\n",
    "\n",
    "**Problem conditions:**\n",
    "\n",
    "- Only linear regression is suitable for model training (the others are not predictive enough).\n",
    "- The exploration of the region involves the study of 500 points.\n",
    "- The budget for field development is 10 billion rubles, the cost of drilling one well is 50 million rubles.\n",
    "- The cost of one barrel of oil is 450 rubles. The volume is specified in 1000 barrels.\n",
    "- Do not consider regions where the risk of losses is higher than 2.5%. The region with the highest average profit is selected from the remaining regions."
   ]
  },
  {
   "cell_type": "markdown",
   "metadata": {},
   "source": [
    "## Data loading and preparation"
   ]
  },
  {
   "cell_type": "code",
   "execution_count": 1,
   "metadata": {},
   "outputs": [],
   "source": [
    "import os\n",
    "import pandas as pd\n",
    "import numpy as np\n",
    "import matplotlib.pyplot as plt\n",
    "import seaborn as sns\n",
    "from sklearn.linear_model import LinearRegression\n",
    "from sklearn.model_selection import GridSearchCV, cross_val_score, train_test_split, StratifiedKFold\n",
    "from sklearn.metrics import mean_squared_error, make_scorer\n",
    "from collections import defaultdict"
   ]
  },
  {
   "cell_type": "code",
   "execution_count": 2,
   "metadata": {},
   "outputs": [],
   "source": [
    "# constants from the condition\n",
    "TOP_WELLS = 200\n",
    "WELL_POINTS = 500\n",
    "BOOTSTRAP_SAMPLES = 1000\n",
    "BUDGET = 10e9\n",
    "WELL_COST = 50e6\n",
    "BARREL_PROFIT = 450\n",
    "THRESHOLD = 0.025\n",
    "CONFIDENCE_LEVEL = 0.95"
   ]
  },
  {
   "cell_type": "code",
   "execution_count": 3,
   "metadata": {},
   "outputs": [],
   "source": [
    "# load all the data into the list\n",
    "files = ['geo_data_0.csv', 'geo_data_1.csv', 'geo_data_2.csv']\n",
    "dataframes = []\n",
    "\n",
    "for file in files:\n",
    "    with open(os.path.join('/datasets/', file)) as f:\n",
    "        dataframes.append(pd.read_csv(f, index_col='id'))"
   ]
  },
  {
   "cell_type": "code",
   "execution_count": 4,
   "metadata": {},
   "outputs": [
    {
     "name": "stderr",
     "output_type": "stream",
     "text": [
      "/opt/conda/lib/python3.9/site-packages/seaborn/distributions.py:2557: FutureWarning: `distplot` is a deprecated function and will be removed in a future version. Please adapt your code to use either `displot` (a figure-level function with similar flexibility) or `histplot` (an axes-level function for histograms).\n",
      "  warnings.warn(msg, FutureWarning)\n",
      "/opt/conda/lib/python3.9/site-packages/seaborn/distributions.py:2557: FutureWarning: `distplot` is a deprecated function and will be removed in a future version. Please adapt your code to use either `displot` (a figure-level function with similar flexibility) or `histplot` (an axes-level function for histograms).\n",
      "  warnings.warn(msg, FutureWarning)\n",
      "/opt/conda/lib/python3.9/site-packages/seaborn/distributions.py:2557: FutureWarning: `distplot` is a deprecated function and will be removed in a future version. Please adapt your code to use either `displot` (a figure-level function with similar flexibility) or `histplot` (an axes-level function for histograms).\n",
      "  warnings.warn(msg, FutureWarning)\n"
     ]
    },
    {
     "data": {
      "image/png": "[encoded data removed]",
      "text/plain": [
       "<Figure size 432x288 with 1 Axes>"
      ]
     },
     "metadata": {
      "needs_background": "light"
     },
     "output_type": "display_data"
    }
   ],
   "source": [
    "for i, df in enumerate(dataframes):\n",
    "    sns.distplot(df['product'], label=i)\n",
    "    plt.legend()"
   ]
  },
  {
   "cell_type": "markdown",
   "metadata": {},
   "source": [
    "We see that the distribution is different for each well. Region 1 is characterized by pronounced peaks, while regions 0 and 2 are characterized by a more uniform distribution."
   ]
  },
  {
   "cell_type": "code",
   "execution_count": 5,
   "metadata": {},
   "outputs": [],
   "source": [
    "# divide the data into attributes and targeting\n",
    "features = []\n",
    "target = []\n",
    "\n",
    "for df in dataframes:\n",
    "    features.append(df.drop('product', axis=1))\n",
    "    target.append(df['product'])"
   ]
  },
  {
   "cell_type": "markdown",
   "metadata": {},
   "source": [
    "## Model training and validation"
   ]
  },
  {
   "cell_type": "code",
   "execution_count": 6,
   "metadata": {},
   "outputs": [],
   "source": [
    "all_splits = train_test_split(\n",
    "    *features, *target, test_size=0.25, random_state=42)\n",
    "\n",
    "features_train = all_splits[0: len(features)*2: 2]\n",
    "features_valid = all_splits[1: len(features)*2: 2]\n",
    "target_train = all_splits[len(features)*2: len(all_splits): 2]\n",
    "target_valid = all_splits[len(features)*2+1: len(all_splits): 2]\n"
   ]
  },
  {
   "cell_type": "markdown",
   "metadata": {},
   "source": [
    "Since we use linear regression, we will check errors using RMSE"
   ]
  },
  {
   "cell_type": "code",
   "execution_count": 7,
   "metadata": {},
   "outputs": [],
   "source": [
    "# write a function that calculates rmse\n",
    "def rmse(true, predicted):\n",
    "    return mean_squared_error(true,predicted)**0.5"
   ]
  },
  {
   "cell_type": "code",
   "execution_count": 8,
   "metadata": {},
   "outputs": [
    {
     "data": {
      "text/html": [
       "<div>\n",
       "<style scoped>\n",
       "    .dataframe tbody tr th:only-of-type {\n",
       "        vertical-align: middle;\n",
       "    }\n",
       "\n",
       "    .dataframe tbody tr th {\n",
       "        vertical-align: top;\n",
       "    }\n",
       "\n",
       "    .dataframe thead th {\n",
       "        text-align: right;\n",
       "    }\n",
       "</style>\n",
       "<table border=\"1\" class=\"dataframe\">\n",
       "  <thead>\n",
       "    <tr style=\"text-align: right;\">\n",
       "      <th></th>\n",
       "      <th>Region</th>\n",
       "      <th>Mean stock</th>\n",
       "      <th>Error</th>\n",
       "    </tr>\n",
       "  </thead>\n",
       "  <tbody>\n",
       "    <tr>\n",
       "      <th>0</th>\n",
       "      <td>Region 0</td>\n",
       "      <td>92.398800</td>\n",
       "      <td>37.756600</td>\n",
       "    </tr>\n",
       "    <tr>\n",
       "      <th>1</th>\n",
       "      <td>Region 1</td>\n",
       "      <td>68.712878</td>\n",
       "      <td>0.890280</td>\n",
       "    </tr>\n",
       "    <tr>\n",
       "      <th>2</th>\n",
       "      <td>Region 2</td>\n",
       "      <td>94.771024</td>\n",
       "      <td>40.145872</td>\n",
       "    </tr>\n",
       "  </tbody>\n",
       "</table>\n",
       "</div>"
      ],
      "text/plain": [
       "     Region  Mean stock      Error\n",
       "0  Region 0   92.398800  37.756600\n",
       "1  Region 1   68.712878   0.890280\n",
       "2  Region 2   94.771024  40.145872"
      ]
     },
     "execution_count": 8,
     "metadata": {},
     "output_type": "execute_result"
    }
   ],
   "source": [
    "result = {'Region':['Region 0', 'Region 1', 'Region 2'],\n",
    "         'Mean stock':[],\n",
    "         'Error':[]}\n",
    "\n",
    "prediction_valid = []\n",
    "\n",
    "for f_tr, f_val, t_tr, t_val in zip(features_train, features_valid, target_train, target_valid):\n",
    "    model = LinearRegression()\n",
    "    model.fit(f_tr, t_tr)\n",
    "    t_pred = model.predict(f_val)\n",
    "    prediction_valid.append(pd.Series(t_pred, index=t_val.index))\n",
    "    result['Mean stock'].append(t_pred.mean())\n",
    "    result['Error'].append(rmse(t_val,t_pred))\n",
    "    \n",
    "pd.DataFrame(result)"
   ]
  },
  {
   "cell_type": "markdown",
   "metadata": {},
   "source": [
    "**Conclusion:**\n",
    "\n",
    "- Regions 0 and 2 have quite high average predicted raw material stock (92.4 and 94.8 respectively). However, the RMSE for these regions is also high (37.8 and 40.1 respectively). This indicates that the indicator is ambiguous and the regression model is inaccurate.\n",
    "- In region 1, the average predicted raw material stock is 68.7 (lower than the other regions). However, the RMSE in this region is also small (0.9). This indicates the accuracy of the predictions and the quality of the model built.\n",
    "\n",
    "This may be due to the way resources are distributed in the regions, which we have previously observed in the graph."
   ]
  },
  {
   "cell_type": "markdown",
   "metadata": {},
   "source": [
    "## Preparing for profit calculation"
   ]
  },
  {
   "cell_type": "markdown",
   "metadata": {},
   "source": [
    "Let's calculate the minimum number of barrels to develop one field"
   ]
  },
  {
   "cell_type": "code",
   "execution_count": 9,
   "metadata": {},
   "outputs": [
    {
     "name": "stdout",
     "output_type": "stream",
     "text": [
      "Минимальное количество баррелей: 111.11111111111111\n"
     ]
    }
   ],
   "source": [
    "min_product = WELL_COST / (1000 * BARREL_PROFIT)\n",
    "print('Минимальное количество баррелей:', min_product)"
   ]
  },
  {
   "cell_type": "markdown",
   "metadata": {},
   "source": [
    "Let us also determine the maximum number of fields that can be developed"
   ]
  },
  {
   "cell_type": "code",
   "execution_count": 10,
   "metadata": {},
   "outputs": [
    {
     "name": "stdout",
     "output_type": "stream",
     "text": [
      "Максимальное количество месторождений для разработки: 200.0\n"
     ]
    }
   ],
   "source": [
    "print('Максимальное количество месторождений для разработки:', BUDGET / WELL_COST)"
   ]
  },
  {
   "cell_type": "markdown",
   "metadata": {},
   "source": [
    "The minimum product volume for break-even development is 111.11. This figure is calculated assuming the selection of the top 200 wells out of 500 in the sample.\n",
    "The value exceeds the average values of well reserves for all regions.\n"
   ]
  },
  {
   "cell_type": "markdown",
   "metadata": {},
   "source": [
    "## Calculating profit and risk "
   ]
  },
  {
   "cell_type": "code",
   "execution_count": 38,
   "metadata": {},
   "outputs": [],
   "source": [
    "# function for calculating profit\n",
    "def calculate_revenue(target, probability, count):\n",
    "    top = probability.sort_values(ascending=False).head(count)\n",
    "    profit = (target.loc[top.index] * 1000 * BARREL_PROFIT).sum()\n",
    "    return profit - (WELL_COST * count)"
   ]
  },
  {
   "cell_type": "code",
   "execution_count": 39,
   "metadata": {},
   "outputs": [
    {
     "name": "stderr",
     "output_type": "stream",
     "text": [
      "/opt/conda/lib/python3.9/site-packages/seaborn/distributions.py:2557: FutureWarning: `distplot` is a deprecated function and will be removed in a future version. Please adapt your code to use either `displot` (a figure-level function with similar flexibility) or `histplot` (an axes-level function for histograms).\n",
      "  warnings.warn(msg, FutureWarning)\n",
      "/opt/conda/lib/python3.9/site-packages/seaborn/distributions.py:2557: FutureWarning: `distplot` is a deprecated function and will be removed in a future version. Please adapt your code to use either `displot` (a figure-level function with similar flexibility) or `histplot` (an axes-level function for histograms).\n",
      "  warnings.warn(msg, FutureWarning)\n",
      "/opt/conda/lib/python3.9/site-packages/seaborn/distributions.py:2557: FutureWarning: `distplot` is a deprecated function and will be removed in a future version. Please adapt your code to use either `displot` (a figure-level function with similar flexibility) or `histplot` (an axes-level function for histograms).\n",
      "  warnings.warn(msg, FutureWarning)\n"
     ]
    },
    {
     "data": {
      "text/html": [
       "<div>\n",
       "<style scoped>\n",
       "    .dataframe tbody tr th:only-of-type {\n",
       "        vertical-align: middle;\n",
       "    }\n",
       "\n",
       "    .dataframe tbody tr th {\n",
       "        vertical-align: top;\n",
       "    }\n",
       "\n",
       "    .dataframe thead th {\n",
       "        text-align: right;\n",
       "    }\n",
       "</style>\n",
       "<table border=\"1\" class=\"dataframe\">\n",
       "  <thead>\n",
       "    <tr style=\"text-align: right;\">\n",
       "      <th></th>\n",
       "      <th>mean</th>\n",
       "      <th>95_confidence</th>\n",
       "      <th>std</th>\n",
       "      <th>loss_wells_count</th>\n",
       "    </tr>\n",
       "  </thead>\n",
       "  <tbody>\n",
       "    <tr>\n",
       "      <th>0</th>\n",
       "      <td>6.061226e+08</td>\n",
       "      <td>(10089411.995844113, 1246370980.5645678)</td>\n",
       "      <td>3.128856e+08</td>\n",
       "      <td>0.025</td>\n",
       "    </tr>\n",
       "    <tr>\n",
       "      <th>1</th>\n",
       "      <td>6.624132e+08</td>\n",
       "      <td>(148800010.9678758, 1186977426.069638)</td>\n",
       "      <td>2.681620e+08</td>\n",
       "      <td>0.003</td>\n",
       "    </tr>\n",
       "    <tr>\n",
       "      <th>2</th>\n",
       "      <td>5.920520e+08</td>\n",
       "      <td>(2464800.7713806103, 1254827360.5050516)</td>\n",
       "      <td>3.238528e+08</td>\n",
       "      <td>0.025</td>\n",
       "    </tr>\n",
       "  </tbody>\n",
       "</table>\n",
       "</div>"
      ],
      "text/plain": [
       "           mean                             95_confidence           std  \\\n",
       "0  6.061226e+08  (10089411.995844113, 1246370980.5645678)  3.128856e+08   \n",
       "1  6.624132e+08    (148800010.9678758, 1186977426.069638)  2.681620e+08   \n",
       "2  5.920520e+08  (2464800.7713806103, 1254827360.5050516)  3.238528e+08   \n",
       "\n",
       "   loss_wells_count  \n",
       "0             0.025  \n",
       "1             0.003  \n",
       "2             0.025  "
      ]
     },
     "execution_count": 39,
     "metadata": {},
     "output_type": "execute_result"
    },
    {
     "data": {
      "image/png": "[encoded data removed]",
      "text/plain": [
       "<Figure size 432x288 with 1 Axes>"
      ]
     },
     "metadata": {
      "needs_background": "light"
     },
     "output_type": "display_data"
    }
   ],
   "source": [
    "result = defaultdict(list)\n",
    "random_state = np.random.RandomState(seed=42)\n",
    "\n",
    "for i, (t_valid, p_valid) in enumerate(zip(target_valid, prediction_valid)):\n",
    "    values = []\n",
    "    \n",
    "    for j in range(BOOTSTRAP_SAMPLES):\n",
    "        target_subsample = t_valid.sample(WELL_POINTS, replace=True, random_state=random_state)\n",
    "        subsample = p_valid.loc[target_subsample.index]\n",
    "        values.append(calculate_revenue(target_subsample, subsample, 200))\n",
    "        \n",
    "    values = pd.Series(values)\n",
    "    lower = (1 - CONFIDENCE_LEVEL) / 2\n",
    "    upper = (1 + CONFIDENCE_LEVEL) / 2\n",
    "    result['mean'].append(values.mean())\n",
    "    result['95_confidence'].append((values.quantile(lower), values.quantile(upper)))\n",
    "    result['std'].append(values.std())\n",
    "    result['loss_wells_count'].append((values < 0).sum()/1000)\n",
    "    sns.distplot(values, label=i)\n",
    "    plt.legend(title=\"Bootstrap distribution\")\n",
    "\n",
    "pd.DataFrame(result)    "
   ]
  },
  {
   "cell_type": "markdown",
   "metadata": {},
   "source": [
    "We recommend choosing region 1, as it has the highest average profit and the narrowest confidence interval.\n",
    "In addition, region 1 has the lowest risk of loss.\n",
    "\n"
   ]
  },
  {
   "cell_type": "code",
   "execution_count": null,
   "metadata": {},
   "outputs": [],
   "source": []
  }
 ],
 "metadata": {
  "ExecuteTimeLog": [
   {
    "duration": 1728,
    "start_time": "2022-11-08T16:17:44.029Z"
   },
   {
    "duration": 3,
    "start_time": "2022-11-08T16:22:22.276Z"
   },
   {
    "duration": 1667,
    "start_time": "2022-11-08T16:24:32.292Z"
   },
   {
    "duration": 143,
    "start_time": "2022-11-08T16:34:13.323Z"
   },
   {
    "duration": 12,
    "start_time": "2022-11-08T16:34:28.189Z"
   },
   {
    "duration": 9,
    "start_time": "2022-11-08T16:34:33.655Z"
   },
   {
    "duration": 4,
    "start_time": "2022-11-08T16:38:59.191Z"
   },
   {
    "duration": 128,
    "start_time": "2022-11-08T16:42:16.714Z"
   },
   {
    "duration": 84,
    "start_time": "2022-11-08T16:42:40.573Z"
   },
   {
    "duration": 36,
    "start_time": "2022-11-08T16:42:49.651Z"
   },
   {
    "duration": 16,
    "start_time": "2022-11-08T16:43:03.503Z"
   },
   {
    "duration": 12,
    "start_time": "2022-11-08T16:43:27.509Z"
   },
   {
    "duration": 10,
    "start_time": "2022-11-08T16:43:40.226Z"
   },
   {
    "duration": 15,
    "start_time": "2022-11-08T16:43:50.283Z"
   },
   {
    "duration": 23,
    "start_time": "2022-11-08T16:44:15.999Z"
   },
   {
    "duration": 17,
    "start_time": "2022-11-08T16:44:32.194Z"
   },
   {
    "duration": 25,
    "start_time": "2022-11-08T16:45:35.570Z"
   },
   {
    "duration": 14,
    "start_time": "2022-11-08T16:48:00.418Z"
   },
   {
    "duration": 9,
    "start_time": "2022-11-08T16:49:31.094Z"
   },
   {
    "duration": 11,
    "start_time": "2022-11-08T16:50:52.019Z"
   },
   {
    "duration": 18,
    "start_time": "2022-11-08T16:50:58.408Z"
   },
   {
    "duration": 10,
    "start_time": "2022-11-08T16:51:03.051Z"
   },
   {
    "duration": 6,
    "start_time": "2022-11-08T16:51:07.079Z"
   },
   {
    "duration": 9,
    "start_time": "2022-11-08T16:51:30.556Z"
   },
   {
    "duration": 81,
    "start_time": "2022-11-08T16:51:47.064Z"
   },
   {
    "duration": 3,
    "start_time": "2022-11-08T16:57:20.774Z"
   },
   {
    "duration": 21,
    "start_time": "2022-11-08T17:14:32.951Z"
   },
   {
    "duration": 84,
    "start_time": "2022-11-08T17:14:38.759Z"
   },
   {
    "duration": 23,
    "start_time": "2022-11-08T17:14:48.733Z"
   },
   {
    "duration": 270,
    "start_time": "2022-11-08T17:15:11.653Z"
   },
   {
    "duration": 17,
    "start_time": "2022-11-08T17:17:47.420Z"
   },
   {
    "duration": 1794,
    "start_time": "2022-11-08T17:17:55.401Z"
   },
   {
    "duration": 1511,
    "start_time": "2022-11-08T17:22:42.274Z"
   },
   {
    "duration": 4,
    "start_time": "2022-11-08T17:22:43.788Z"
   },
   {
    "duration": 475,
    "start_time": "2022-11-08T17:22:43.794Z"
   },
   {
    "duration": 1796,
    "start_time": "2022-11-08T17:22:44.271Z"
   },
   {
    "duration": 7,
    "start_time": "2022-11-08T17:22:46.069Z"
   },
   {
    "duration": 136,
    "start_time": "2022-11-08T17:22:46.078Z"
   },
   {
    "duration": 7,
    "start_time": "2022-11-08T17:22:46.217Z"
   },
   {
    "duration": 321,
    "start_time": "2022-11-08T17:22:46.226Z"
   },
   {
    "duration": 4,
    "start_time": "2022-11-08T17:32:23.999Z"
   },
   {
    "duration": 1571,
    "start_time": "2022-11-11T16:51:07.866Z"
   },
   {
    "duration": 3,
    "start_time": "2022-11-11T16:51:09.440Z"
   },
   {
    "duration": 964,
    "start_time": "2022-11-11T16:51:09.445Z"
   },
   {
    "duration": 1693,
    "start_time": "2022-11-11T16:51:10.411Z"
   },
   {
    "duration": 7,
    "start_time": "2022-11-11T16:51:12.106Z"
   },
   {
    "duration": 130,
    "start_time": "2022-11-11T16:51:12.115Z"
   },
   {
    "duration": 4,
    "start_time": "2022-11-11T16:51:12.247Z"
   },
   {
    "duration": 453,
    "start_time": "2022-11-11T16:51:12.253Z"
   },
   {
    "duration": 103,
    "start_time": "2022-11-11T16:54:03.749Z"
   },
   {
    "duration": 2,
    "start_time": "2022-11-11T16:54:13.747Z"
   },
   {
    "duration": 66,
    "start_time": "2022-11-11T16:54:57.058Z"
   },
   {
    "duration": 3,
    "start_time": "2022-11-11T16:55:02.240Z"
   },
   {
    "duration": 2,
    "start_time": "2022-11-11T16:55:38.349Z"
   },
   {
    "duration": 4,
    "start_time": "2022-11-11T16:57:22.498Z"
   },
   {
    "duration": 4,
    "start_time": "2022-11-11T16:58:24.588Z"
   },
   {
    "duration": 5,
    "start_time": "2022-11-11T16:58:34.184Z"
   },
   {
    "duration": 3,
    "start_time": "2022-11-11T16:58:38.967Z"
   },
   {
    "duration": 4,
    "start_time": "2022-11-11T16:58:42.326Z"
   },
   {
    "duration": 5,
    "start_time": "2022-11-11T16:59:20.804Z"
   },
   {
    "duration": 4,
    "start_time": "2022-11-11T17:00:24.657Z"
   },
   {
    "duration": 4,
    "start_time": "2022-11-11T17:00:28.348Z"
   },
   {
    "duration": 3,
    "start_time": "2022-11-11T17:01:12.247Z"
   },
   {
    "duration": 3,
    "start_time": "2022-11-11T17:02:58.436Z"
   },
   {
    "duration": 4,
    "start_time": "2022-11-11T17:04:52.558Z"
   },
   {
    "duration": 3,
    "start_time": "2022-11-11T17:05:12.846Z"
   },
   {
    "duration": 4,
    "start_time": "2022-11-11T17:05:15.826Z"
   },
   {
    "duration": 4,
    "start_time": "2022-11-11T17:05:20.453Z"
   },
   {
    "duration": 3,
    "start_time": "2022-11-11T17:06:40.096Z"
   },
   {
    "duration": 3,
    "start_time": "2022-11-11T17:07:46.954Z"
   },
   {
    "duration": 4,
    "start_time": "2022-11-11T17:31:40.644Z"
   },
   {
    "duration": 264,
    "start_time": "2022-11-11T17:39:16.842Z"
   },
   {
    "duration": 6927,
    "start_time": "2022-11-11T17:45:22.164Z"
   },
   {
    "duration": 1370,
    "start_time": "2022-11-11T17:46:07.647Z"
   },
   {
    "duration": 3,
    "start_time": "2022-11-11T17:46:09.019Z"
   },
   {
    "duration": 469,
    "start_time": "2022-11-11T17:46:09.024Z"
   },
   {
    "duration": 1695,
    "start_time": "2022-11-11T17:46:09.494Z"
   },
   {
    "duration": 6,
    "start_time": "2022-11-11T17:46:11.191Z"
   },
   {
    "duration": 149,
    "start_time": "2022-11-11T17:46:11.198Z"
   },
   {
    "duration": 3,
    "start_time": "2022-11-11T17:46:11.349Z"
   },
   {
    "duration": 457,
    "start_time": "2022-11-11T17:46:11.354Z"
   },
   {
    "duration": 91,
    "start_time": "2022-11-11T17:46:11.813Z"
   },
   {
    "duration": 18,
    "start_time": "2022-11-11T17:46:11.906Z"
   },
   {
    "duration": 15,
    "start_time": "2022-11-11T17:46:11.925Z"
   },
   {
    "duration": 7164,
    "start_time": "2022-11-11T17:46:11.941Z"
   },
   {
    "duration": 7463,
    "start_time": "2022-11-11T17:51:52.625Z"
   },
   {
    "duration": 82,
    "start_time": "2022-11-11T17:57:01.774Z"
   },
   {
    "duration": 77,
    "start_time": "2022-11-11T17:58:42.074Z"
   },
   {
    "duration": 7549,
    "start_time": "2022-11-11T18:01:30.184Z"
   },
   {
    "duration": 7382,
    "start_time": "2022-11-11T18:02:43.705Z"
   },
   {
    "duration": 4,
    "start_time": "2022-11-11T18:04:34.004Z"
   },
   {
    "duration": 1312,
    "start_time": "2022-11-11T18:04:40.333Z"
   },
   {
    "duration": 2,
    "start_time": "2022-11-11T18:04:41.647Z"
   },
   {
    "duration": 439,
    "start_time": "2022-11-11T18:04:41.651Z"
   },
   {
    "duration": 1787,
    "start_time": "2022-11-11T18:04:42.092Z"
   },
   {
    "duration": 7,
    "start_time": "2022-11-11T18:04:43.882Z"
   },
   {
    "duration": 129,
    "start_time": "2022-11-11T18:04:43.891Z"
   },
   {
    "duration": 3,
    "start_time": "2022-11-11T18:04:44.022Z"
   },
   {
    "duration": 479,
    "start_time": "2022-11-11T18:04:44.026Z"
   },
   {
    "duration": 4,
    "start_time": "2022-11-11T18:04:44.507Z"
   },
   {
    "duration": 5,
    "start_time": "2022-11-11T18:04:44.513Z"
   },
   {
    "duration": 4,
    "start_time": "2022-11-11T18:04:44.520Z"
   },
   {
    "duration": 7829,
    "start_time": "2022-11-11T18:04:44.525Z"
   },
   {
    "duration": 3,
    "start_time": "2022-11-11T18:06:03.330Z"
   },
   {
    "duration": 5,
    "start_time": "2022-11-11T18:06:57.403Z"
   },
   {
    "duration": 3,
    "start_time": "2022-11-11T18:07:02.526Z"
   },
   {
    "duration": 7333,
    "start_time": "2022-11-11T18:07:04.835Z"
   },
   {
    "duration": 7077,
    "start_time": "2022-11-11T18:10:01.003Z"
   },
   {
    "duration": 6964,
    "start_time": "2022-11-11T18:11:28.935Z"
   },
   {
    "duration": 93,
    "start_time": "2022-11-11T18:12:49.973Z"
   },
   {
    "duration": 404,
    "start_time": "2022-11-11T18:12:56.103Z"
   },
   {
    "duration": 7342,
    "start_time": "2022-11-11T18:13:01.473Z"
   },
   {
    "duration": 12,
    "start_time": "2022-11-11T18:13:52.106Z"
   },
   {
    "duration": 11,
    "start_time": "2022-11-11T18:14:00.334Z"
   },
   {
    "duration": 12,
    "start_time": "2022-11-11T18:14:13.733Z"
   },
   {
    "duration": 12,
    "start_time": "2022-11-11T18:14:41.421Z"
   },
   {
    "duration": 7601,
    "start_time": "2022-11-11T18:15:17.763Z"
   },
   {
    "duration": 8478,
    "start_time": "2022-11-11T18:17:36.763Z"
   },
   {
    "duration": 3138,
    "start_time": "2022-11-11T18:19:47.605Z"
   },
   {
    "duration": 3274,
    "start_time": "2022-11-11T18:20:19.238Z"
   },
   {
    "duration": 7923,
    "start_time": "2022-11-11T18:20:29.263Z"
   },
   {
    "duration": 8003,
    "start_time": "2022-11-11T18:21:06.981Z"
   },
   {
    "duration": 7229,
    "start_time": "2022-11-11T18:22:05.126Z"
   },
   {
    "duration": 6951,
    "start_time": "2022-11-11T18:23:01.924Z"
   },
   {
    "duration": 7083,
    "start_time": "2022-11-11T18:23:26.413Z"
   },
   {
    "duration": 1348,
    "start_time": "2022-11-11T18:24:32.909Z"
   },
   {
    "duration": 5,
    "start_time": "2022-11-11T18:24:34.259Z"
   },
   {
    "duration": 440,
    "start_time": "2022-11-11T18:24:34.266Z"
   },
   {
    "duration": 1812,
    "start_time": "2022-11-11T18:24:34.707Z"
   },
   {
    "duration": 10,
    "start_time": "2022-11-11T18:24:36.522Z"
   },
   {
    "duration": 170,
    "start_time": "2022-11-11T18:24:36.534Z"
   },
   {
    "duration": 4,
    "start_time": "2022-11-11T18:24:36.707Z"
   },
   {
    "duration": 494,
    "start_time": "2022-11-11T18:24:36.712Z"
   },
   {
    "duration": 4,
    "start_time": "2022-11-11T18:24:37.207Z"
   },
   {
    "duration": 45,
    "start_time": "2022-11-11T18:24:37.212Z"
   },
   {
    "duration": 22,
    "start_time": "2022-11-11T18:24:37.259Z"
   },
   {
    "duration": 5708,
    "start_time": "2022-11-11T18:24:37.283Z"
   },
   {
    "duration": 5796,
    "start_time": "2022-11-11T18:25:40.234Z"
   },
   {
    "duration": 14,
    "start_time": "2022-11-11T19:53:05.687Z"
   },
   {
    "duration": 46,
    "start_time": "2022-11-11T19:53:06.188Z"
   },
   {
    "duration": 6621,
    "start_time": "2022-11-11T19:53:08.794Z"
   },
   {
    "duration": 3,
    "start_time": "2022-11-11T19:53:15.418Z"
   },
   {
    "duration": 922,
    "start_time": "2022-11-11T19:53:15.422Z"
   },
   {
    "duration": 1812,
    "start_time": "2022-11-11T19:53:16.346Z"
   },
   {
    "duration": 6,
    "start_time": "2022-11-11T19:53:18.160Z"
   },
   {
    "duration": 118,
    "start_time": "2022-11-11T19:53:18.167Z"
   },
   {
    "duration": 3,
    "start_time": "2022-11-11T19:53:18.287Z"
   },
   {
    "duration": 333,
    "start_time": "2022-11-11T19:53:18.292Z"
   },
   {
    "duration": 4,
    "start_time": "2022-11-11T19:53:18.626Z"
   },
   {
    "duration": 27,
    "start_time": "2022-11-11T19:53:18.631Z"
   },
   {
    "duration": 15,
    "start_time": "2022-11-11T19:53:18.660Z"
   },
   {
    "duration": 6023,
    "start_time": "2022-11-11T19:53:18.677Z"
   },
   {
    "duration": 4,
    "start_time": "2022-11-11T19:56:47.640Z"
   },
   {
    "duration": 5512,
    "start_time": "2022-11-11T19:56:48.077Z"
   },
   {
    "duration": 4,
    "start_time": "2022-11-11T19:57:01.044Z"
   },
   {
    "duration": 6124,
    "start_time": "2022-11-11T19:57:01.227Z"
   },
   {
    "duration": 4,
    "start_time": "2022-11-11T19:57:24.476Z"
   },
   {
    "duration": 4,
    "start_time": "2022-11-11T19:57:28.496Z"
   },
   {
    "duration": 3,
    "start_time": "2022-11-11T19:58:07.810Z"
   },
   {
    "duration": 5,
    "start_time": "2022-11-11T19:58:09.488Z"
   },
   {
    "duration": 18,
    "start_time": "2022-11-11T19:58:55.246Z"
   },
   {
    "duration": 3,
    "start_time": "2022-11-11T20:00:32.085Z"
   },
   {
    "duration": 4,
    "start_time": "2022-11-11T20:00:42.133Z"
   },
   {
    "duration": 2992,
    "start_time": "2022-11-11T20:01:42.782Z"
   },
   {
    "duration": 3,
    "start_time": "2022-11-11T20:01:45.776Z"
   },
   {
    "duration": 419,
    "start_time": "2022-11-11T20:01:45.780Z"
   },
   {
    "duration": 1719,
    "start_time": "2022-11-11T20:01:46.201Z"
   },
   {
    "duration": 7,
    "start_time": "2022-11-11T20:01:47.922Z"
   },
   {
    "duration": 125,
    "start_time": "2022-11-11T20:01:47.931Z"
   },
   {
    "duration": 3,
    "start_time": "2022-11-11T20:01:48.058Z"
   },
   {
    "duration": 361,
    "start_time": "2022-11-11T20:01:48.062Z"
   },
   {
    "duration": 4,
    "start_time": "2022-11-11T20:01:48.426Z"
   },
   {
    "duration": 91,
    "start_time": "2022-11-11T20:01:48.432Z"
   },
   {
    "duration": 5,
    "start_time": "2022-11-11T20:01:48.525Z"
   },
   {
    "duration": 6020,
    "start_time": "2022-11-11T20:01:48.531Z"
   },
   {
    "duration": 1634,
    "start_time": "2022-11-13T15:54:32.902Z"
   },
   {
    "duration": 3,
    "start_time": "2022-11-13T15:54:34.538Z"
   },
   {
    "duration": 908,
    "start_time": "2022-11-13T15:54:34.543Z"
   },
   {
    "duration": 1658,
    "start_time": "2022-11-13T15:54:35.454Z"
   },
   {
    "duration": 10,
    "start_time": "2022-11-13T15:54:37.114Z"
   },
   {
    "duration": 142,
    "start_time": "2022-11-13T15:54:37.126Z"
   },
   {
    "duration": 3,
    "start_time": "2022-11-13T15:54:37.269Z"
   },
   {
    "duration": 349,
    "start_time": "2022-11-13T15:54:37.274Z"
   },
   {
    "duration": 4,
    "start_time": "2022-11-13T15:54:37.625Z"
   },
   {
    "duration": 91,
    "start_time": "2022-11-13T15:54:37.632Z"
   },
   {
    "duration": 10,
    "start_time": "2022-11-13T15:54:37.724Z"
   },
   {
    "duration": 5838,
    "start_time": "2022-11-13T15:54:37.735Z"
   },
   {
    "duration": 1848,
    "start_time": "2022-11-13T15:56:06.167Z"
   },
   {
    "duration": 1739,
    "start_time": "2022-11-13T15:57:12.824Z"
   },
   {
    "duration": 1354,
    "start_time": "2022-11-13T16:06:11.823Z"
   },
   {
    "duration": 2,
    "start_time": "2022-11-13T16:06:13.179Z"
   },
   {
    "duration": 408,
    "start_time": "2022-11-13T16:06:13.183Z"
   },
   {
    "duration": 1716,
    "start_time": "2022-11-13T16:06:13.593Z"
   },
   {
    "duration": 11,
    "start_time": "2022-11-13T16:06:15.311Z"
   },
   {
    "duration": 121,
    "start_time": "2022-11-13T16:06:15.324Z"
   },
   {
    "duration": 3,
    "start_time": "2022-11-13T16:06:15.447Z"
   },
   {
    "duration": 272,
    "start_time": "2022-11-13T16:06:15.451Z"
   },
   {
    "duration": 5,
    "start_time": "2022-11-13T16:06:15.725Z"
   },
   {
    "duration": 98,
    "start_time": "2022-11-13T16:06:15.733Z"
   },
   {
    "duration": 11,
    "start_time": "2022-11-13T16:06:15.834Z"
   },
   {
    "duration": 6080,
    "start_time": "2022-11-13T16:06:15.848Z"
   },
   {
    "duration": 3003,
    "start_time": "2022-11-13T17:11:07.950Z"
   },
   {
    "duration": 3,
    "start_time": "2022-11-13T17:11:10.955Z"
   },
   {
    "duration": 948,
    "start_time": "2022-11-13T17:11:10.959Z"
   },
   {
    "duration": 1665,
    "start_time": "2022-11-13T17:11:11.909Z"
   },
   {
    "duration": 6,
    "start_time": "2022-11-13T17:11:13.576Z"
   },
   {
    "duration": 125,
    "start_time": "2022-11-13T17:11:13.584Z"
   },
   {
    "duration": 3,
    "start_time": "2022-11-13T17:11:13.711Z"
   },
   {
    "duration": 395,
    "start_time": "2022-11-13T17:11:13.716Z"
   },
   {
    "duration": 92,
    "start_time": "2022-11-13T17:11:14.113Z"
   },
   {
    "duration": 6,
    "start_time": "2022-11-13T17:11:14.207Z"
   },
   {
    "duration": 6,
    "start_time": "2022-11-13T17:11:14.214Z"
   },
   {
    "duration": 5885,
    "start_time": "2022-11-13T17:11:14.221Z"
   },
   {
    "duration": 4,
    "start_time": "2022-11-13T17:11:31.285Z"
   },
   {
    "duration": 5164,
    "start_time": "2022-11-13T17:11:31.824Z"
   },
   {
    "duration": 3,
    "start_time": "2022-11-13T17:11:42.647Z"
   },
   {
    "duration": 5841,
    "start_time": "2022-11-13T17:11:43.074Z"
   },
   {
    "duration": 1921,
    "start_time": "2022-11-13T17:11:55.110Z"
   },
   {
    "duration": 1783,
    "start_time": "2022-11-13T17:12:05.640Z"
   },
   {
    "duration": 4,
    "start_time": "2022-11-13T17:12:17.841Z"
   },
   {
    "duration": 4,
    "start_time": "2022-11-13T17:12:28.699Z"
   },
   {
    "duration": 79,
    "start_time": "2022-11-13T17:12:30.698Z"
   },
   {
    "duration": 1790,
    "start_time": "2022-11-13T17:12:32.724Z"
   },
   {
    "duration": 5627,
    "start_time": "2022-11-13T17:12:39.400Z"
   },
   {
    "duration": 5,
    "start_time": "2022-11-13T17:12:45.029Z"
   },
   {
    "duration": 8,
    "start_time": "2022-11-13T17:13:18.100Z"
   },
   {
    "duration": 3,
    "start_time": "2022-11-13T17:13:21.175Z"
   },
   {
    "duration": 6,
    "start_time": "2022-11-13T17:14:52.250Z"
   },
   {
    "duration": 5,
    "start_time": "2022-11-13T17:15:02.104Z"
   },
   {
    "duration": 6,
    "start_time": "2022-11-13T17:15:09.544Z"
   },
   {
    "duration": 5,
    "start_time": "2022-11-13T17:15:11.789Z"
   },
   {
    "duration": 5,
    "start_time": "2022-11-13T17:15:21.126Z"
   },
   {
    "duration": 5,
    "start_time": "2022-11-13T17:15:26.095Z"
   },
   {
    "duration": 4,
    "start_time": "2022-11-13T17:15:33.914Z"
   },
   {
    "duration": 5,
    "start_time": "2022-11-13T17:15:34.630Z"
   },
   {
    "duration": 5907,
    "start_time": "2022-11-13T17:15:34.818Z"
   },
   {
    "duration": 3,
    "start_time": "2022-11-13T17:15:52.525Z"
   },
   {
    "duration": 5849,
    "start_time": "2022-11-13T17:15:54.510Z"
   },
   {
    "duration": 4,
    "start_time": "2022-11-13T17:23:38.579Z"
   },
   {
    "duration": 5474,
    "start_time": "2022-11-13T17:23:39.092Z"
   }
  ],
  "kernelspec": {
   "display_name": "Python 3 (ipykernel)",
   "language": "python",
   "name": "python3"
  },
  "language_info": {
   "codemirror_mode": {
    "name": "ipython",
    "version": 3
   },
   "file_extension": ".py",
   "mimetype": "text/x-python",
   "name": "python",
   "nbconvert_exporter": "python",
   "pygments_lexer": "ipython3",
   "version": "3.11.2"
  },
  "toc": {
   "base_numbering": 1,
   "nav_menu": {},
   "number_sections": true,
   "sideBar": true,
   "skip_h1_title": true,
   "title_cell": "Table of Contents",
   "title_sidebar": "Contents",
   "toc_cell": false,
   "toc_position": {},
   "toc_section_display": true,
   "toc_window_display": false
  }
 },
 "nbformat": 4,
 "nbformat_minor": 2
}
