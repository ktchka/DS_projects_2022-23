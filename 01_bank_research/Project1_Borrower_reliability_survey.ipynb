{
 "cells": [
  {
   "cell_type": "markdown",
   "id": "c81daeeb",
   "metadata": {
    "deletable": false,
    "id": "c81daeeb"
   },
   "source": [
    "# Borrower reliability survey\n"
   ]
  },
  {
   "cell_type": "markdown",
   "id": "744d7639",
   "metadata": {
    "deletable": false,
    "id": "744d7639"
   },
   "source": [
    "The customer is the credit department of a bank. We need to understand whether the marital status and the number of children of the client affects the fact of repayment of the loan on time. Input data from the bank - statistics on the solvency of clients.\n",
    "The results of the research will be taken into account when building a credit scoring model - a special system that assesses the ability of a potential borrower to repay a loan to the bank."
   ]
  },
  {
   "cell_type": "markdown",
   "id": "e7a14c31",
   "metadata": {
    "deletable": false,
    "id": "e7a14c31"
   },
   "source": [
    "Data description\n",
    "- `children` - number of children in the family\n",
    "- `days_employed` - total length of service in days\n",
    "- `dob_years` - client's age in years\n",
    "- `education` - education level of the client\n",
    "- `education_id` - education level identifier\n",
    "- `family_status` - marital status\n",
    "- `family_status_id` - family status identifier\n",
    "- `gender` - client's gender\n",
    "- `income_type` - type of employment\n",
    "- `debt` - whether the client had debts on loan repayment\n",
    "- `total_income` - monthly income\n",
    "- `purpose` - purpose of obtaining a loan"
   ]
  },
  {
   "cell_type": "code",
   "execution_count": 1,
   "id": "7bcf75c9",
   "metadata": {
    "deletable": false,
    "id": "7bcf75c9"
   },
   "outputs": [],
   "source": [
    "import pandas as pd\n",
    "\n",
    "try:\n",
    "    data = pd.read_csv('/datasets/data.csv')\n",
    "except:\n",
    "    data = pd.read_csv('https://code.s3.yandex.net/datasets/data.csv')"
   ]
  },
  {
   "cell_type": "code",
   "execution_count": 2,
   "id": "2a7cab99",
   "metadata": {
    "deletable": false,
    "id": "2a7cab99",
    "outputId": "1a8f3ef2-d323-4ec2-ddf7-89670b5944c4"
   },
   "outputs": [
    {
     "data": {
      "text/html": [
       "<div>\n",
       "<style scoped>\n",
       "    .dataframe tbody tr th:only-of-type {\n",
       "        vertical-align: middle;\n",
       "    }\n",
       "\n",
       "    .dataframe tbody tr th {\n",
       "        vertical-align: top;\n",
       "    }\n",
       "\n",
       "    .dataframe thead th {\n",
       "        text-align: right;\n",
       "    }\n",
       "</style>\n",
       "<table border=\"1\" class=\"dataframe\">\n",
       "  <thead>\n",
       "    <tr style=\"text-align: right;\">\n",
       "      <th></th>\n",
       "      <th>children</th>\n",
       "      <th>days_employed</th>\n",
       "      <th>dob_years</th>\n",
       "      <th>education</th>\n",
       "      <th>education_id</th>\n",
       "      <th>family_status</th>\n",
       "      <th>family_status_id</th>\n",
       "      <th>gender</th>\n",
       "      <th>income_type</th>\n",
       "      <th>debt</th>\n",
       "      <th>total_income</th>\n",
       "      <th>purpose</th>\n",
       "    </tr>\n",
       "  </thead>\n",
       "  <tbody>\n",
       "    <tr>\n",
       "      <th>0</th>\n",
       "      <td>1</td>\n",
       "      <td>-8437.673028</td>\n",
       "      <td>42</td>\n",
       "      <td>высшее</td>\n",
       "      <td>0</td>\n",
       "      <td>женат / замужем</td>\n",
       "      <td>0</td>\n",
       "      <td>F</td>\n",
       "      <td>сотрудник</td>\n",
       "      <td>0</td>\n",
       "      <td>253875.639453</td>\n",
       "      <td>покупка жилья</td>\n",
       "    </tr>\n",
       "    <tr>\n",
       "      <th>1</th>\n",
       "      <td>1</td>\n",
       "      <td>-4024.803754</td>\n",
       "      <td>36</td>\n",
       "      <td>среднее</td>\n",
       "      <td>1</td>\n",
       "      <td>женат / замужем</td>\n",
       "      <td>0</td>\n",
       "      <td>F</td>\n",
       "      <td>сотрудник</td>\n",
       "      <td>0</td>\n",
       "      <td>112080.014102</td>\n",
       "      <td>приобретение автомобиля</td>\n",
       "    </tr>\n",
       "    <tr>\n",
       "      <th>2</th>\n",
       "      <td>0</td>\n",
       "      <td>-5623.422610</td>\n",
       "      <td>33</td>\n",
       "      <td>Среднее</td>\n",
       "      <td>1</td>\n",
       "      <td>женат / замужем</td>\n",
       "      <td>0</td>\n",
       "      <td>M</td>\n",
       "      <td>сотрудник</td>\n",
       "      <td>0</td>\n",
       "      <td>145885.952297</td>\n",
       "      <td>покупка жилья</td>\n",
       "    </tr>\n",
       "    <tr>\n",
       "      <th>3</th>\n",
       "      <td>3</td>\n",
       "      <td>-4124.747207</td>\n",
       "      <td>32</td>\n",
       "      <td>среднее</td>\n",
       "      <td>1</td>\n",
       "      <td>женат / замужем</td>\n",
       "      <td>0</td>\n",
       "      <td>M</td>\n",
       "      <td>сотрудник</td>\n",
       "      <td>0</td>\n",
       "      <td>267628.550329</td>\n",
       "      <td>дополнительное образование</td>\n",
       "    </tr>\n",
       "    <tr>\n",
       "      <th>4</th>\n",
       "      <td>0</td>\n",
       "      <td>340266.072047</td>\n",
       "      <td>53</td>\n",
       "      <td>среднее</td>\n",
       "      <td>1</td>\n",
       "      <td>гражданский брак</td>\n",
       "      <td>1</td>\n",
       "      <td>F</td>\n",
       "      <td>пенсионер</td>\n",
       "      <td>0</td>\n",
       "      <td>158616.077870</td>\n",
       "      <td>сыграть свадьбу</td>\n",
       "    </tr>\n",
       "    <tr>\n",
       "      <th>5</th>\n",
       "      <td>0</td>\n",
       "      <td>-926.185831</td>\n",
       "      <td>27</td>\n",
       "      <td>высшее</td>\n",
       "      <td>0</td>\n",
       "      <td>гражданский брак</td>\n",
       "      <td>1</td>\n",
       "      <td>M</td>\n",
       "      <td>компаньон</td>\n",
       "      <td>0</td>\n",
       "      <td>255763.565419</td>\n",
       "      <td>покупка жилья</td>\n",
       "    </tr>\n",
       "    <tr>\n",
       "      <th>6</th>\n",
       "      <td>0</td>\n",
       "      <td>-2879.202052</td>\n",
       "      <td>43</td>\n",
       "      <td>высшее</td>\n",
       "      <td>0</td>\n",
       "      <td>женат / замужем</td>\n",
       "      <td>0</td>\n",
       "      <td>F</td>\n",
       "      <td>компаньон</td>\n",
       "      <td>0</td>\n",
       "      <td>240525.971920</td>\n",
       "      <td>операции с жильем</td>\n",
       "    </tr>\n",
       "    <tr>\n",
       "      <th>7</th>\n",
       "      <td>0</td>\n",
       "      <td>-152.779569</td>\n",
       "      <td>50</td>\n",
       "      <td>СРЕДНЕЕ</td>\n",
       "      <td>1</td>\n",
       "      <td>женат / замужем</td>\n",
       "      <td>0</td>\n",
       "      <td>M</td>\n",
       "      <td>сотрудник</td>\n",
       "      <td>0</td>\n",
       "      <td>135823.934197</td>\n",
       "      <td>образование</td>\n",
       "    </tr>\n",
       "    <tr>\n",
       "      <th>8</th>\n",
       "      <td>2</td>\n",
       "      <td>-6929.865299</td>\n",
       "      <td>35</td>\n",
       "      <td>ВЫСШЕЕ</td>\n",
       "      <td>0</td>\n",
       "      <td>гражданский брак</td>\n",
       "      <td>1</td>\n",
       "      <td>F</td>\n",
       "      <td>сотрудник</td>\n",
       "      <td>0</td>\n",
       "      <td>95856.832424</td>\n",
       "      <td>на проведение свадьбы</td>\n",
       "    </tr>\n",
       "    <tr>\n",
       "      <th>9</th>\n",
       "      <td>0</td>\n",
       "      <td>-2188.756445</td>\n",
       "      <td>41</td>\n",
       "      <td>среднее</td>\n",
       "      <td>1</td>\n",
       "      <td>женат / замужем</td>\n",
       "      <td>0</td>\n",
       "      <td>M</td>\n",
       "      <td>сотрудник</td>\n",
       "      <td>0</td>\n",
       "      <td>144425.938277</td>\n",
       "      <td>покупка жилья для семьи</td>\n",
       "    </tr>\n",
       "    <tr>\n",
       "      <th>10</th>\n",
       "      <td>2</td>\n",
       "      <td>-4171.483647</td>\n",
       "      <td>36</td>\n",
       "      <td>высшее</td>\n",
       "      <td>0</td>\n",
       "      <td>женат / замужем</td>\n",
       "      <td>0</td>\n",
       "      <td>M</td>\n",
       "      <td>компаньон</td>\n",
       "      <td>0</td>\n",
       "      <td>113943.491460</td>\n",
       "      <td>покупка недвижимости</td>\n",
       "    </tr>\n",
       "    <tr>\n",
       "      <th>11</th>\n",
       "      <td>0</td>\n",
       "      <td>-792.701887</td>\n",
       "      <td>40</td>\n",
       "      <td>среднее</td>\n",
       "      <td>1</td>\n",
       "      <td>женат / замужем</td>\n",
       "      <td>0</td>\n",
       "      <td>F</td>\n",
       "      <td>сотрудник</td>\n",
       "      <td>0</td>\n",
       "      <td>77069.234271</td>\n",
       "      <td>покупка коммерческой недвижимости</td>\n",
       "    </tr>\n",
       "    <tr>\n",
       "      <th>12</th>\n",
       "      <td>0</td>\n",
       "      <td>NaN</td>\n",
       "      <td>65</td>\n",
       "      <td>среднее</td>\n",
       "      <td>1</td>\n",
       "      <td>гражданский брак</td>\n",
       "      <td>1</td>\n",
       "      <td>M</td>\n",
       "      <td>пенсионер</td>\n",
       "      <td>0</td>\n",
       "      <td>NaN</td>\n",
       "      <td>сыграть свадьбу</td>\n",
       "    </tr>\n",
       "    <tr>\n",
       "      <th>13</th>\n",
       "      <td>0</td>\n",
       "      <td>-1846.641941</td>\n",
       "      <td>54</td>\n",
       "      <td>неоконченное высшее</td>\n",
       "      <td>2</td>\n",
       "      <td>женат / замужем</td>\n",
       "      <td>0</td>\n",
       "      <td>F</td>\n",
       "      <td>сотрудник</td>\n",
       "      <td>0</td>\n",
       "      <td>130458.228857</td>\n",
       "      <td>приобретение автомобиля</td>\n",
       "    </tr>\n",
       "    <tr>\n",
       "      <th>14</th>\n",
       "      <td>0</td>\n",
       "      <td>-1844.956182</td>\n",
       "      <td>56</td>\n",
       "      <td>высшее</td>\n",
       "      <td>0</td>\n",
       "      <td>гражданский брак</td>\n",
       "      <td>1</td>\n",
       "      <td>F</td>\n",
       "      <td>компаньон</td>\n",
       "      <td>1</td>\n",
       "      <td>165127.911772</td>\n",
       "      <td>покупка жилой недвижимости</td>\n",
       "    </tr>\n",
       "    <tr>\n",
       "      <th>15</th>\n",
       "      <td>1</td>\n",
       "      <td>-972.364419</td>\n",
       "      <td>26</td>\n",
       "      <td>среднее</td>\n",
       "      <td>1</td>\n",
       "      <td>женат / замужем</td>\n",
       "      <td>0</td>\n",
       "      <td>F</td>\n",
       "      <td>сотрудник</td>\n",
       "      <td>0</td>\n",
       "      <td>116820.904450</td>\n",
       "      <td>строительство собственной недвижимости</td>\n",
       "    </tr>\n",
       "    <tr>\n",
       "      <th>16</th>\n",
       "      <td>0</td>\n",
       "      <td>-1719.934226</td>\n",
       "      <td>35</td>\n",
       "      <td>среднее</td>\n",
       "      <td>1</td>\n",
       "      <td>женат / замужем</td>\n",
       "      <td>0</td>\n",
       "      <td>F</td>\n",
       "      <td>сотрудник</td>\n",
       "      <td>0</td>\n",
       "      <td>289202.704229</td>\n",
       "      <td>недвижимость</td>\n",
       "    </tr>\n",
       "    <tr>\n",
       "      <th>17</th>\n",
       "      <td>0</td>\n",
       "      <td>-2369.999720</td>\n",
       "      <td>33</td>\n",
       "      <td>высшее</td>\n",
       "      <td>0</td>\n",
       "      <td>гражданский брак</td>\n",
       "      <td>1</td>\n",
       "      <td>M</td>\n",
       "      <td>сотрудник</td>\n",
       "      <td>0</td>\n",
       "      <td>90410.586745</td>\n",
       "      <td>строительство недвижимости</td>\n",
       "    </tr>\n",
       "    <tr>\n",
       "      <th>18</th>\n",
       "      <td>0</td>\n",
       "      <td>400281.136913</td>\n",
       "      <td>53</td>\n",
       "      <td>среднее</td>\n",
       "      <td>1</td>\n",
       "      <td>вдовец / вдова</td>\n",
       "      <td>2</td>\n",
       "      <td>F</td>\n",
       "      <td>пенсионер</td>\n",
       "      <td>0</td>\n",
       "      <td>56823.777243</td>\n",
       "      <td>на покупку подержанного автомобиля</td>\n",
       "    </tr>\n",
       "    <tr>\n",
       "      <th>19</th>\n",
       "      <td>0</td>\n",
       "      <td>-10038.818549</td>\n",
       "      <td>48</td>\n",
       "      <td>СРЕДНЕЕ</td>\n",
       "      <td>1</td>\n",
       "      <td>в разводе</td>\n",
       "      <td>3</td>\n",
       "      <td>F</td>\n",
       "      <td>сотрудник</td>\n",
       "      <td>0</td>\n",
       "      <td>242831.107982</td>\n",
       "      <td>на покупку своего автомобиля</td>\n",
       "    </tr>\n",
       "  </tbody>\n",
       "</table>\n",
       "</div>"
      ],
      "text/plain": [
       "    children  days_employed  dob_years            education  education_id  \\\n",
       "0          1   -8437.673028         42               высшее             0   \n",
       "1          1   -4024.803754         36              среднее             1   \n",
       "2          0   -5623.422610         33              Среднее             1   \n",
       "3          3   -4124.747207         32              среднее             1   \n",
       "4          0  340266.072047         53              среднее             1   \n",
       "5          0    -926.185831         27               высшее             0   \n",
       "6          0   -2879.202052         43               высшее             0   \n",
       "7          0    -152.779569         50              СРЕДНЕЕ             1   \n",
       "8          2   -6929.865299         35               ВЫСШЕЕ             0   \n",
       "9          0   -2188.756445         41              среднее             1   \n",
       "10         2   -4171.483647         36               высшее             0   \n",
       "11         0    -792.701887         40              среднее             1   \n",
       "12         0            NaN         65              среднее             1   \n",
       "13         0   -1846.641941         54  неоконченное высшее             2   \n",
       "14         0   -1844.956182         56               высшее             0   \n",
       "15         1    -972.364419         26              среднее             1   \n",
       "16         0   -1719.934226         35              среднее             1   \n",
       "17         0   -2369.999720         33               высшее             0   \n",
       "18         0  400281.136913         53              среднее             1   \n",
       "19         0  -10038.818549         48              СРЕДНЕЕ             1   \n",
       "\n",
       "       family_status  family_status_id gender income_type  debt  \\\n",
       "0    женат / замужем                 0      F   сотрудник     0   \n",
       "1    женат / замужем                 0      F   сотрудник     0   \n",
       "2    женат / замужем                 0      M   сотрудник     0   \n",
       "3    женат / замужем                 0      M   сотрудник     0   \n",
       "4   гражданский брак                 1      F   пенсионер     0   \n",
       "5   гражданский брак                 1      M   компаньон     0   \n",
       "6    женат / замужем                 0      F   компаньон     0   \n",
       "7    женат / замужем                 0      M   сотрудник     0   \n",
       "8   гражданский брак                 1      F   сотрудник     0   \n",
       "9    женат / замужем                 0      M   сотрудник     0   \n",
       "10   женат / замужем                 0      M   компаньон     0   \n",
       "11   женат / замужем                 0      F   сотрудник     0   \n",
       "12  гражданский брак                 1      M   пенсионер     0   \n",
       "13   женат / замужем                 0      F   сотрудник     0   \n",
       "14  гражданский брак                 1      F   компаньон     1   \n",
       "15   женат / замужем                 0      F   сотрудник     0   \n",
       "16   женат / замужем                 0      F   сотрудник     0   \n",
       "17  гражданский брак                 1      M   сотрудник     0   \n",
       "18    вдовец / вдова                 2      F   пенсионер     0   \n",
       "19         в разводе                 3      F   сотрудник     0   \n",
       "\n",
       "     total_income                                 purpose  \n",
       "0   253875.639453                           покупка жилья  \n",
       "1   112080.014102                 приобретение автомобиля  \n",
       "2   145885.952297                           покупка жилья  \n",
       "3   267628.550329              дополнительное образование  \n",
       "4   158616.077870                         сыграть свадьбу  \n",
       "5   255763.565419                           покупка жилья  \n",
       "6   240525.971920                       операции с жильем  \n",
       "7   135823.934197                             образование  \n",
       "8    95856.832424                   на проведение свадьбы  \n",
       "9   144425.938277                 покупка жилья для семьи  \n",
       "10  113943.491460                    покупка недвижимости  \n",
       "11   77069.234271       покупка коммерческой недвижимости  \n",
       "12            NaN                         сыграть свадьбу  \n",
       "13  130458.228857                 приобретение автомобиля  \n",
       "14  165127.911772              покупка жилой недвижимости  \n",
       "15  116820.904450  строительство собственной недвижимости  \n",
       "16  289202.704229                            недвижимость  \n",
       "17   90410.586745              строительство недвижимости  \n",
       "18   56823.777243      на покупку подержанного автомобиля  \n",
       "19  242831.107982            на покупку своего автомобиля  "
      ]
     },
     "execution_count": 2,
     "metadata": {},
     "output_type": "execute_result"
    }
   ],
   "source": [
    "data.head(20)"
   ]
  },
  {
   "cell_type": "code",
   "execution_count": 3,
   "id": "2b757bca",
   "metadata": {
    "deletable": false,
    "id": "2b757bca",
    "outputId": "15376089-8dad-46c9-b520-c05248d43158"
   },
   "outputs": [
    {
     "name": "stdout",
     "output_type": "stream",
     "text": [
      "<class 'pandas.core.frame.DataFrame'>\n",
      "RangeIndex: 21525 entries, 0 to 21524\n",
      "Data columns (total 12 columns):\n",
      " #   Column            Non-Null Count  Dtype  \n",
      "---  ------            --------------  -----  \n",
      " 0   children          21525 non-null  int64  \n",
      " 1   days_employed     19351 non-null  float64\n",
      " 2   dob_years         21525 non-null  int64  \n",
      " 3   education         21525 non-null  object \n",
      " 4   education_id      21525 non-null  int64  \n",
      " 5   family_status     21525 non-null  object \n",
      " 6   family_status_id  21525 non-null  int64  \n",
      " 7   gender            21525 non-null  object \n",
      " 8   income_type       21525 non-null  object \n",
      " 9   debt              21525 non-null  int64  \n",
      " 10  total_income      19351 non-null  float64\n",
      " 11  purpose           21525 non-null  object \n",
      "dtypes: float64(2), int64(5), object(5)\n",
      "memory usage: 2.0+ MB\n"
     ]
    }
   ],
   "source": [
    "data.info()"
   ]
  },
  {
   "cell_type": "markdown",
   "id": "333ec665",
   "metadata": {
    "deletable": false,
    "id": "333ec665"
   },
   "source": [
    "## Data preprocessing"
   ]
  },
  {
   "cell_type": "code",
   "execution_count": 4,
   "id": "7f9b2309",
   "metadata": {
    "deletable": false,
    "id": "7f9b2309",
    "outputId": "81f4d817-781c-465c-ed15-91ce4446810d"
   },
   "outputs": [
    {
     "data": {
      "text/plain": [
       "children               0\n",
       "days_employed       2174\n",
       "dob_years              0\n",
       "education              0\n",
       "education_id           0\n",
       "family_status          0\n",
       "family_status_id       0\n",
       "gender                 0\n",
       "income_type            0\n",
       "debt                   0\n",
       "total_income        2174\n",
       "purpose                0\n",
       "dtype: int64"
      ]
     },
     "execution_count": 4,
     "metadata": {},
     "output_type": "execute_result"
    }
   ],
   "source": [
    "data.isna().sum()"
   ]
  },
  {
   "cell_type": "code",
   "execution_count": 5,
   "id": "42006a93",
   "metadata": {
    "deletable": false,
    "id": "42006a93"
   },
   "outputs": [],
   "source": [
    "for t in data['income_type'].unique():\n",
    "    data.loc[(data['income_type'] == t) & (data['total_income'].isna()), 'total_income'] = \\\n",
    "    data.loc[(data['income_type'] == t), 'total_income'].median()"
   ]
  },
  {
   "cell_type": "markdown",
   "id": "89da5ece",
   "metadata": {
    "deletable": false,
    "id": "89da5ece"
   },
   "source": [
    "### Cleaning outliers"
   ]
  },
  {
   "cell_type": "code",
   "execution_count": 6,
   "id": "f6f055bf",
   "metadata": {
    "deletable": false,
    "id": "f6f055bf"
   },
   "outputs": [],
   "source": [
    "data['days_employed'] = data['days_employed'].abs()"
   ]
  },
  {
   "cell_type": "code",
   "execution_count": 7,
   "id": "85a5faf6",
   "metadata": {
    "deletable": false,
    "id": "85a5faf6",
    "outputId": "801ef80e-522b-4668-f34e-565af7432bcf"
   },
   "outputs": [
    {
     "data": {
      "text/plain": [
       "income_type\n",
       "безработный        366413.652744\n",
       "в декрете            3296.759962\n",
       "госслужащий          2689.368353\n",
       "компаньон            1547.382223\n",
       "пенсионер          365213.306266\n",
       "предприниматель       520.848083\n",
       "сотрудник            1574.202821\n",
       "студент               578.751554\n",
       "Name: days_employed, dtype: float64"
      ]
     },
     "execution_count": 7,
     "metadata": {},
     "output_type": "execute_result"
    }
   ],
   "source": [
    "data.groupby('income_type')['days_employed'].agg('median')"
   ]
  },
  {
   "cell_type": "markdown",
   "id": "38d1a030",
   "metadata": {
    "deletable": false,
    "id": "38d1a030"
   },
   "source": [
    "Two types (unemployed and pensioners) will have abnormally large values. It is difficult to correct such values, so we'll leave them as they are. Moreover, we will not need this column for the study."
   ]
  },
  {
   "cell_type": "code",
   "execution_count": 8,
   "id": "ef5056eb",
   "metadata": {
    "deletable": false,
    "id": "ef5056eb",
    "outputId": "6975b15c-7f95-4697-d16d-a0c79b657b03"
   },
   "outputs": [
    {
     "data": {
      "text/plain": [
       "array([ 1,  0,  3,  2, -1,  4, 20,  5])"
      ]
     },
     "execution_count": 8,
     "metadata": {},
     "output_type": "execute_result"
    }
   ],
   "source": [
    "data['children'].unique()"
   ]
  },
  {
   "cell_type": "code",
   "execution_count": 9,
   "id": "3ff9801d",
   "metadata": {
    "deletable": false,
    "id": "3ff9801d"
   },
   "outputs": [],
   "source": [
    "data = data[(data['children'] != -1) & (data['children'] != 20)]"
   ]
  },
  {
   "cell_type": "code",
   "execution_count": 10,
   "id": "ad4fa8b7",
   "metadata": {
    "deletable": false,
    "id": "ad4fa8b7",
    "outputId": "b2097101-d49d-44d9-901b-32a65c9463d1"
   },
   "outputs": [
    {
     "data": {
      "text/plain": [
       "array([1, 0, 3, 2, 4, 5])"
      ]
     },
     "execution_count": 10,
     "metadata": {},
     "output_type": "execute_result"
    }
   ],
   "source": [
    "data['children'].unique()"
   ]
  },
  {
   "cell_type": "code",
   "execution_count": 11,
   "id": "af6b1a7e",
   "metadata": {
    "deletable": false,
    "id": "af6b1a7e"
   },
   "outputs": [],
   "source": [
    "for t in data['income_type'].unique():\n",
    "    data.loc[(data['income_type'] == t) & (data['days_employed'].isna()), 'days_employed'] = \\\n",
    "    data.loc[(data['income_type'] == t), 'days_employed'].median()"
   ]
  },
  {
   "cell_type": "code",
   "execution_count": 12,
   "id": "55f78bc2",
   "metadata": {
    "deletable": false,
    "id": "55f78bc2",
    "outputId": "8da1e4e1-358e-4e87-98c9-f261bce0a7b2"
   },
   "outputs": [
    {
     "data": {
      "text/plain": [
       "children            0\n",
       "days_employed       0\n",
       "dob_years           0\n",
       "education           0\n",
       "education_id        0\n",
       "family_status       0\n",
       "family_status_id    0\n",
       "gender              0\n",
       "income_type         0\n",
       "debt                0\n",
       "total_income        0\n",
       "purpose             0\n",
       "dtype: int64"
      ]
     },
     "execution_count": 12,
     "metadata": {},
     "output_type": "execute_result"
    }
   ],
   "source": [
    "data.isna().sum()"
   ]
  },
  {
   "cell_type": "markdown",
   "id": "ddc81e43",
   "metadata": {
    "deletable": false,
    "id": "ddc81e43"
   },
   "source": [
    "### Changing data types"
   ]
  },
  {
   "cell_type": "code",
   "execution_count": 13,
   "id": "920b65ad",
   "metadata": {
    "deletable": false,
    "id": "920b65ad"
   },
   "outputs": [],
   "source": [
    "data['total_income'] = data['total_income'].astype(int)"
   ]
  },
  {
   "cell_type": "markdown",
   "id": "80c420ba",
   "metadata": {
    "deletable": false,
    "id": "80c420ba"
   },
   "source": [
    "### Duplicate processing"
   ]
  },
  {
   "cell_type": "code",
   "execution_count": 14,
   "id": "3ee445e4",
   "metadata": {
    "deletable": false,
    "id": "3ee445e4",
    "outputId": "9684deba-1934-42d1-99e1-cda61740f822"
   },
   "outputs": [
    {
     "data": {
      "text/plain": [
       "54"
      ]
     },
     "execution_count": 14,
     "metadata": {},
     "output_type": "execute_result"
    }
   ],
   "source": [
    "data.duplicated().sum()"
   ]
  },
  {
   "cell_type": "code",
   "execution_count": 15,
   "id": "8575fe05",
   "metadata": {
    "deletable": false,
    "id": "8575fe05"
   },
   "outputs": [],
   "source": [
    "data = data.drop_duplicates()"
   ]
  },
  {
   "cell_type": "code",
   "execution_count": 16,
   "id": "a9f8e2bf",
   "metadata": {
    "deletable": false,
    "id": "a9f8e2bf"
   },
   "outputs": [],
   "source": [
    "data['education'] = data['education'].str.lower()"
   ]
  },
  {
   "cell_type": "markdown",
   "id": "9904cf55",
   "metadata": {
    "deletable": false,
    "id": "9904cf55"
   },
   "source": [
    "### Data categorization"
   ]
  },
  {
   "cell_type": "markdown",
   "id": "72fcc8a2",
   "metadata": {
    "deletable": false,
    "id": "72fcc8a2"
   },
   "source": [
    "Based on the ranges below, we'll create a `total_income_category` column in the `data` dataframe with the categories:**\n",
    "\n",
    "- 0-30000 - `'E'`;\n",
    "- 30001-50000 - `'D'`;\n",
    "- 50001-200000 - `'C'`;\n",
    "- 200001-1000000 - `'B'`;\n",
    "- 1000001 and above - `'A'`.\n",
    "\n",
    "\n",
    "**For example, a borrower with an income of 25000 should be assigned to category `'E'`, and a client earning 235000 should be assigned to category `'B'`. Use your own function named `categorize_income()` and the `apply()` method.**"
   ]
  },
  {
   "cell_type": "code",
   "execution_count": 17,
   "id": "e1771346",
   "metadata": {
    "deletable": false,
    "id": "e1771346"
   },
   "outputs": [],
   "source": [
    "def categorize_income(income):\n",
    "    try:\n",
    "        if 0 <= income <= 30000:\n",
    "            return 'E'\n",
    "        elif 30001 <= income <= 50000:\n",
    "            return 'D'\n",
    "        elif 50001 <= income <= 200000:\n",
    "            return 'C'\n",
    "        elif 200001 <= income <= 1000000:\n",
    "            return 'B'\n",
    "        elif income >= 1000001:\n",
    "            return 'A'\n",
    "    except:\n",
    "        pass"
   ]
  },
  {
   "cell_type": "code",
   "execution_count": 18,
   "id": "d5f3586d",
   "metadata": {
    "deletable": false,
    "id": "d5f3586d"
   },
   "outputs": [],
   "source": [
    "data['total_income_category'] = data['total_income'].apply(categorize_income)"
   ]
  },
  {
   "cell_type": "code",
   "execution_count": 19,
   "id": "f67ce9b3",
   "metadata": {
    "deletable": false,
    "id": "f67ce9b3",
    "outputId": "673c12d9-7d7e-4ae0-9812-c622c89dd244"
   },
   "outputs": [
    {
     "data": {
      "text/plain": [
       "array(['покупка жилья', 'приобретение автомобиля',\n",
       "       'дополнительное образование', 'сыграть свадьбу',\n",
       "       'операции с жильем', 'образование', 'на проведение свадьбы',\n",
       "       'покупка жилья для семьи', 'покупка недвижимости',\n",
       "       'покупка коммерческой недвижимости', 'покупка жилой недвижимости',\n",
       "       'строительство собственной недвижимости', 'недвижимость',\n",
       "       'строительство недвижимости', 'на покупку подержанного автомобиля',\n",
       "       'на покупку своего автомобиля',\n",
       "       'операции с коммерческой недвижимостью',\n",
       "       'строительство жилой недвижимости', 'жилье',\n",
       "       'операции со своей недвижимостью', 'автомобили',\n",
       "       'заняться образованием', 'сделка с подержанным автомобилем',\n",
       "       'получение образования', 'автомобиль', 'свадьба',\n",
       "       'получение дополнительного образования', 'покупка своего жилья',\n",
       "       'операции с недвижимостью', 'получение высшего образования',\n",
       "       'свой автомобиль', 'сделка с автомобилем',\n",
       "       'профильное образование', 'высшее образование',\n",
       "       'покупка жилья для сдачи', 'на покупку автомобиля', 'ремонт жилью',\n",
       "       'заняться высшим образованием'], dtype=object)"
      ]
     },
     "execution_count": 19,
     "metadata": {},
     "output_type": "execute_result"
    }
   ],
   "source": [
    "data['purpose'].unique()"
   ]
  },
  {
   "cell_type": "markdown",
   "id": "85d0aef0",
   "metadata": {
    "deletable": false,
    "id": "85d0aef0"
   },
   "source": [
    "We'll create a function that will generate a new `purpose_category` column based on the data from the `purpose` column, which will include the following categories:**\n",
    "\n",
    "- `'операции с автомобилем'` - - ``automobile transactions'``,\n",
    "- `'операции с недвижимостью'` - - ``real estate transactions``,\n",
    "- `'проведение свадьбы'` - - ``conducting weddings,``,\n",
    "- `'получение образования'` - -`\"education'`\n",
    "\n",
    "**For example, if the `purpose` column contains a ``car purchase`` substring, then the `purpose_category` column should contain the ``automobile transactions`` string.\n",
    "\n",
    "**Use your own function named `categorize_purpose()` and the `apply()` method. We'll examine the data in the `purpose` column and determine which substrings will help properly define the category.**"
   ]
  },
  {
   "cell_type": "code",
   "execution_count": 20,
   "id": "e149fab4",
   "metadata": {
    "deletable": false,
    "id": "e149fab4"
   },
   "outputs": [],
   "source": [
    "def categorize_purpose(row):\n",
    "    try:\n",
    "        if 'автом' in row:\n",
    "            return 'операции с автомобилем'\n",
    "        elif 'жил' in row or 'недвиж' in row:\n",
    "            return 'операции с недвижимостью'\n",
    "        elif 'свад' in row:\n",
    "            return 'проведение свадьбы'\n",
    "        elif 'образов' in row:\n",
    "            return 'получение образования'\n",
    "    except:\n",
    "        return 'нет категории'"
   ]
  },
  {
   "cell_type": "code",
   "execution_count": 21,
   "id": "bf36e69b",
   "metadata": {
    "deletable": false,
    "id": "bf36e69b"
   },
   "outputs": [],
   "source": [
    "data['purpose_category'] = data['purpose'].apply(categorize_purpose)"
   ]
  },
  {
   "cell_type": "markdown",
   "id": "09b242bf",
   "metadata": {
    "deletable": false,
    "id": "09b242bf"
   },
   "source": [
    "## Explore the data"
   ]
  },
  {
   "cell_type": "markdown",
   "id": "c5d66278",
   "metadata": {
    "deletable": false,
    "id": "c5d66278"
   },
   "source": [
    "**Is there a correlation between the number of children and loan repayment on time?**"
   ]
  },
  {
   "cell_type": "code",
   "execution_count": 35,
   "id": "57fd295e",
   "metadata": {},
   "outputs": [
    {
     "data": {
      "text/html": [
       "<div>\n",
       "<style scoped>\n",
       "    .dataframe tbody tr th:only-of-type {\n",
       "        vertical-align: middle;\n",
       "    }\n",
       "\n",
       "    .dataframe tbody tr th {\n",
       "        vertical-align: top;\n",
       "    }\n",
       "\n",
       "    .dataframe thead th {\n",
       "        text-align: right;\n",
       "    }\n",
       "</style>\n",
       "<table border=\"1\" class=\"dataframe\">\n",
       "  <thead>\n",
       "    <tr style=\"text-align: right;\">\n",
       "      <th></th>\n",
       "      <th>debt</th>\n",
       "    </tr>\n",
       "    <tr>\n",
       "      <th>children</th>\n",
       "      <th></th>\n",
       "    </tr>\n",
       "  </thead>\n",
       "  <tbody>\n",
       "    <tr>\n",
       "      <th>0</th>\n",
       "      <td>0.075353</td>\n",
       "    </tr>\n",
       "    <tr>\n",
       "      <th>1</th>\n",
       "      <td>0.092327</td>\n",
       "    </tr>\n",
       "    <tr>\n",
       "      <th>2</th>\n",
       "      <td>0.094542</td>\n",
       "    </tr>\n",
       "    <tr>\n",
       "      <th>3</th>\n",
       "      <td>0.081818</td>\n",
       "    </tr>\n",
       "    <tr>\n",
       "      <th>4</th>\n",
       "      <td>0.097561</td>\n",
       "    </tr>\n",
       "    <tr>\n",
       "      <th>5</th>\n",
       "      <td>0.000000</td>\n",
       "    </tr>\n",
       "  </tbody>\n",
       "</table>\n",
       "</div>"
      ],
      "text/plain": [
       "              debt\n",
       "children          \n",
       "0         0.075353\n",
       "1         0.092327\n",
       "2         0.094542\n",
       "3         0.081818\n",
       "4         0.097561\n",
       "5         0.000000"
      ]
     },
     "execution_count": 35,
     "metadata": {},
     "output_type": "execute_result"
    }
   ],
   "source": [
    "# тренировка сводных таблиц\n",
    "\n",
    "pd.pivot_table(data,index='children', values='debt',aggfunc='mean')"
   ]
  },
  {
   "cell_type": "code",
   "execution_count": 24,
   "id": "ae9f95a5",
   "metadata": {},
   "outputs": [],
   "source": [
    "# create a function to calculate the percentage of clients with debt to the total number of clients\n",
    "\n",
    "def proportion(data,column):\n",
    "    '''\n",
    "    As input, we take a dataframe and a column name.\n",
    "    create two dictionaries to count clients with debt and total number of clients --\n",
    "    grouping by input column.\n",
    "    output is a dataframe with the input column and a \"percentage\" column with a percentage ratio.\n",
    "    '''\n",
    "    debts = {}\n",
    "    total = {}\n",
    "    for t in data[column].unique():\n",
    "        if t not in debts and t not in total:\n",
    "            debts[t] = data.loc[(data[column] == t) & (data['debt']==1),'debt'].count()\n",
    "            total[t] = data.loc[data[column] == t,column].count()\n",
    "        \n",
    "    proportion = {i: (debts[i]/total[i])*100 for i in debts}\n",
    "    final = pd.DataFrame(list(proportion.items()), columns=[column, 'percentage'])\n",
    "    return final\n"
   ]
  },
  {
   "cell_type": "code",
   "execution_count": 25,
   "id": "304ad152",
   "metadata": {},
   "outputs": [
    {
     "data": {
      "text/plain": [
       "[Text(0.5, 0, 'Процент задолженностей'), Text(0, 0.5, 'Количество детей')]"
      ]
     },
     "execution_count": 25,
     "metadata": {},
     "output_type": "execute_result"
    },
    {
     "data": {
      "image/png": "[encoded data removed]",
      "text/plain": [
       "<Figure size 432x288 with 1 Axes>"
      ]
     },
     "metadata": {
      "needs_background": "light"
     },
     "output_type": "display_data"
    }
   ],
   "source": [
    "children_final = proportion(data,'children')\n",
    "children_final['children'] = children_final['children'].astype('category')\n",
    "import seaborn as sns\n",
    "a = sns.barplot(x='percentage', y='children', data=children_final, color='skyblue')\n",
    "sns.despine()\n",
    "a.set(xlabel='Процент задолженностей', ylabel='Количество детей')"
   ]
  },
  {
   "cell_type": "markdown",
   "id": "3a6b99ec",
   "metadata": {
    "deletable": false,
    "id": "3a6b99ec"
   },
   "source": [
    "**Findings:** \n",
    "* The difference between the lowest and highest rate is ~3%, there is a dim correlation.\n",
    "* Fewer clients with debt among childless, more among clients with 4 children. "
   ]
  },
  {
   "cell_type": "markdown",
   "id": "97be82ca",
   "metadata": {
    "deletable": false,
    "id": "97be82ca"
   },
   "source": [
    "**Is there a correlation between marital status and loan repayment on time?**"
   ]
  },
  {
   "cell_type": "code",
   "execution_count": 26,
   "id": "dc3f7ee8",
   "metadata": {
    "id": "dc3f7ee8"
   },
   "outputs": [
    {
     "data": {
      "text/html": [
       "<div>\n",
       "<style scoped>\n",
       "    .dataframe tbody tr th:only-of-type {\n",
       "        vertical-align: middle;\n",
       "    }\n",
       "\n",
       "    .dataframe tbody tr th {\n",
       "        vertical-align: top;\n",
       "    }\n",
       "\n",
       "    .dataframe thead tr th {\n",
       "        text-align: left;\n",
       "    }\n",
       "\n",
       "    .dataframe thead tr:last-of-type th {\n",
       "        text-align: right;\n",
       "    }\n",
       "</style>\n",
       "<table border=\"1\" class=\"dataframe\">\n",
       "  <thead>\n",
       "    <tr>\n",
       "      <th></th>\n",
       "      <th colspan=\"2\" halign=\"left\">debt</th>\n",
       "    </tr>\n",
       "    <tr>\n",
       "      <th>debt</th>\n",
       "      <th>0</th>\n",
       "      <th>1</th>\n",
       "    </tr>\n",
       "    <tr>\n",
       "      <th>family_status</th>\n",
       "      <th></th>\n",
       "      <th></th>\n",
       "    </tr>\n",
       "  </thead>\n",
       "  <tbody>\n",
       "    <tr>\n",
       "      <th>Не женат / не замужем</th>\n",
       "      <td>2523</td>\n",
       "      <td>273</td>\n",
       "    </tr>\n",
       "    <tr>\n",
       "      <th>в разводе</th>\n",
       "      <td>1105</td>\n",
       "      <td>84</td>\n",
       "    </tr>\n",
       "    <tr>\n",
       "      <th>вдовец / вдова</th>\n",
       "      <td>888</td>\n",
       "      <td>63</td>\n",
       "    </tr>\n",
       "    <tr>\n",
       "      <th>гражданский брак</th>\n",
       "      <td>3761</td>\n",
       "      <td>385</td>\n",
       "    </tr>\n",
       "    <tr>\n",
       "      <th>женат / замужем</th>\n",
       "      <td>11339</td>\n",
       "      <td>927</td>\n",
       "    </tr>\n",
       "  </tbody>\n",
       "</table>\n",
       "</div>"
      ],
      "text/plain": [
       "                        debt     \n",
       "debt                       0    1\n",
       "family_status                    \n",
       "Не женат / не замужем   2523  273\n",
       "в разводе               1105   84\n",
       "вдовец / вдова           888   63\n",
       "гражданский брак        3761  385\n",
       "женат / замужем        11339  927"
      ]
     },
     "execution_count": 26,
     "metadata": {},
     "output_type": "execute_result"
    }
   ],
   "source": [
    "\n",
    "grouped_families = data.groupby(['family_status','debt']).agg({'debt':'count'})\n",
    "grouped_families.unstack()\n"
   ]
  },
  {
   "cell_type": "code",
   "execution_count": 27,
   "id": "9b48c568",
   "metadata": {},
   "outputs": [
    {
     "data": {
      "text/plain": [
       "[Text(0.5, 0, 'Процент задолженностей'), Text(0, 0.5, '')]"
      ]
     },
     "execution_count": 27,
     "metadata": {},
     "output_type": "execute_result"
    },
    {
     "data": {
      "image/png": "[encoded data removed]",
      "text/plain": [
       "<Figure size 432x288 with 1 Axes>"
      ]
     },
     "metadata": {
      "needs_background": "light"
     },
     "output_type": "display_data"
    }
   ],
   "source": [
    "fam_final = proportion(data,'family_status')\n",
    "q = sns.barplot(x='percentage', y='family_status', data=fam_final, color='skyblue')\n",
    "sns.despine()\n",
    "q.set(xlabel='Процент задолженностей', ylabel='')\n"
   ]
  },
  {
   "cell_type": "markdown",
   "id": "1cef7837",
   "metadata": {
    "deletable": false,
    "id": "1cef7837"
   },
   "source": [
    "**Conclusion:** \n",
    "* People living in common-law relationships or not married at all have more credit debts.\n",
    "* Among widows/widowers, there is less debt.\n",
    "* The difference between the lowest and highest score is ~4%, the relationship is more pronounced than between marital status "
   ]
  },
  {
   "cell_type": "markdown",
   "id": "1e8b2fca",
   "metadata": {
    "deletable": false,
    "id": "1e8b2fca"
   },
   "source": [
    "**Is there a correlation between income level and loan repayment on time?**"
   ]
  },
  {
   "cell_type": "code",
   "execution_count": 28,
   "id": "cd7e3720",
   "metadata": {
    "id": "cd7e3720"
   },
   "outputs": [
    {
     "data": {
      "text/html": [
       "<div>\n",
       "<style scoped>\n",
       "    .dataframe tbody tr th:only-of-type {\n",
       "        vertical-align: middle;\n",
       "    }\n",
       "\n",
       "    .dataframe tbody tr th {\n",
       "        vertical-align: top;\n",
       "    }\n",
       "\n",
       "    .dataframe thead tr th {\n",
       "        text-align: left;\n",
       "    }\n",
       "\n",
       "    .dataframe thead tr:last-of-type th {\n",
       "        text-align: right;\n",
       "    }\n",
       "</style>\n",
       "<table border=\"1\" class=\"dataframe\">\n",
       "  <thead>\n",
       "    <tr>\n",
       "      <th></th>\n",
       "      <th colspan=\"2\" halign=\"left\">debt</th>\n",
       "    </tr>\n",
       "    <tr>\n",
       "      <th>debt</th>\n",
       "      <th>0</th>\n",
       "      <th>1</th>\n",
       "    </tr>\n",
       "    <tr>\n",
       "      <th>total_income_category</th>\n",
       "      <th></th>\n",
       "      <th></th>\n",
       "    </tr>\n",
       "  </thead>\n",
       "  <tbody>\n",
       "    <tr>\n",
       "      <th>A</th>\n",
       "      <td>23</td>\n",
       "      <td>2</td>\n",
       "    </tr>\n",
       "    <tr>\n",
       "      <th>B</th>\n",
       "      <td>4660</td>\n",
       "      <td>354</td>\n",
       "    </tr>\n",
       "    <tr>\n",
       "      <th>C</th>\n",
       "      <td>14585</td>\n",
       "      <td>1353</td>\n",
       "    </tr>\n",
       "    <tr>\n",
       "      <th>D</th>\n",
       "      <td>328</td>\n",
       "      <td>21</td>\n",
       "    </tr>\n",
       "    <tr>\n",
       "      <th>E</th>\n",
       "      <td>20</td>\n",
       "      <td>2</td>\n",
       "    </tr>\n",
       "  </tbody>\n",
       "</table>\n",
       "</div>"
      ],
      "text/plain": [
       "                        debt      \n",
       "debt                       0     1\n",
       "total_income_category             \n",
       "A                         23     2\n",
       "B                       4660   354\n",
       "C                      14585  1353\n",
       "D                        328    21\n",
       "E                         20     2"
      ]
     },
     "execution_count": 28,
     "metadata": {},
     "output_type": "execute_result"
    }
   ],
   "source": [
    "\n",
    "grouped_income_category = data.groupby(['total_income_category','debt']).agg({'debt':'count'})\n",
    "grouped_income_category.unstack()"
   ]
  },
  {
   "cell_type": "code",
   "execution_count": 29,
   "id": "fc535fef",
   "metadata": {},
   "outputs": [
    {
     "data": {
      "text/plain": [
       "[Text(0.5, 0, 'Процент задолженностей'), Text(0, 0.5, '')]"
      ]
     },
     "execution_count": 29,
     "metadata": {},
     "output_type": "execute_result"
    },
    {
     "data": {
      "image/png": "[encoded data removed]",
      "text/plain": [
       "<Figure size 432x288 with 1 Axes>"
      ]
     },
     "metadata": {
      "needs_background": "light"
     },
     "output_type": "display_data"
    }
   ],
   "source": [
    "income_final = proportion(data,'total_income_category')\n",
    "\n",
    "p = sns.barplot(x='percentage', y='total_income_category', data=income_final, color='skyblue')\n",
    "sns.despine()\n",
    "p.set(xlabel='Процент задолженностей', ylabel='')\n"
   ]
  },
  {
   "cell_type": "markdown",
   "id": "e8593def",
   "metadata": {
    "deletable": false,
    "id": "e8593def"
   },
   "source": [
    "**Conclusion:** \n",
    "* The least amount of credit debt among clients with incomes between 30001 and 50000.\n",
    "* The most among clients with incomes below 30000 *\n",
    "* The difference between these indicators is about ~4%, the correlation is more pronounced than that between marital status"
   ]
  },
  {
   "cell_type": "markdown",
   "id": "99ecbd1f",
   "metadata": {
    "deletable": false,
    "id": "99ecbd1f"
   },
   "source": [
    "**How do the different purposes of a loan affect its repayment at maturity?**"
   ]
  },
  {
   "cell_type": "code",
   "execution_count": 30,
   "id": "2b687290",
   "metadata": {
    "id": "2b687290"
   },
   "outputs": [
    {
     "data": {
      "text/html": [
       "<div>\n",
       "<style scoped>\n",
       "    .dataframe tbody tr th:only-of-type {\n",
       "        vertical-align: middle;\n",
       "    }\n",
       "\n",
       "    .dataframe tbody tr th {\n",
       "        vertical-align: top;\n",
       "    }\n",
       "\n",
       "    .dataframe thead tr th {\n",
       "        text-align: left;\n",
       "    }\n",
       "\n",
       "    .dataframe thead tr:last-of-type th {\n",
       "        text-align: right;\n",
       "    }\n",
       "</style>\n",
       "<table border=\"1\" class=\"dataframe\">\n",
       "  <thead>\n",
       "    <tr>\n",
       "      <th></th>\n",
       "      <th colspan=\"2\" halign=\"left\">debt</th>\n",
       "    </tr>\n",
       "    <tr>\n",
       "      <th>debt</th>\n",
       "      <th>0</th>\n",
       "      <th>1</th>\n",
       "    </tr>\n",
       "    <tr>\n",
       "      <th>purpose_category</th>\n",
       "      <th></th>\n",
       "      <th></th>\n",
       "    </tr>\n",
       "  </thead>\n",
       "  <tbody>\n",
       "    <tr>\n",
       "      <th>операции с автомобилем</th>\n",
       "      <td>3881</td>\n",
       "      <td>400</td>\n",
       "    </tr>\n",
       "    <tr>\n",
       "      <th>операции с недвижимостью</th>\n",
       "      <td>9974</td>\n",
       "      <td>780</td>\n",
       "    </tr>\n",
       "    <tr>\n",
       "      <th>получение образования</th>\n",
       "      <td>3620</td>\n",
       "      <td>369</td>\n",
       "    </tr>\n",
       "    <tr>\n",
       "      <th>проведение свадьбы</th>\n",
       "      <td>2141</td>\n",
       "      <td>183</td>\n",
       "    </tr>\n",
       "  </tbody>\n",
       "</table>\n",
       "</div>"
      ],
      "text/plain": [
       "                          debt     \n",
       "debt                         0    1\n",
       "purpose_category                   \n",
       "операции с автомобилем    3881  400\n",
       "операции с недвижимостью  9974  780\n",
       "получение образования     3620  369\n",
       "проведение свадьбы        2141  183"
      ]
     },
     "execution_count": 30,
     "metadata": {},
     "output_type": "execute_result"
    }
   ],
   "source": [
    "\n",
    "purpose_groupped = data.groupby(['purpose_category','debt']).agg({'debt':'count'})\n",
    "purpose_groupped.unstack()\n"
   ]
  },
  {
   "cell_type": "code",
   "execution_count": 31,
   "id": "3db6e721",
   "metadata": {},
   "outputs": [
    {
     "data": {
      "text/plain": [
       "[Text(0.5, 0, 'Процент задолженностей'), Text(0, 0.5, '')]"
      ]
     },
     "execution_count": 31,
     "metadata": {},
     "output_type": "execute_result"
    },
    {
     "data": {
      "image/png": "[encoded data removed]",
      "text/plain": [
       "<Figure size 432x288 with 1 Axes>"
      ]
     },
     "metadata": {
      "needs_background": "light"
     },
     "output_type": "display_data"
    }
   ],
   "source": [
    "purpose_final = proportion(data,'purpose_category')\n",
    "\n",
    "w = sns.barplot(x='percentage', y='purpose_category', data=purpose_final, color='skyblue')\n",
    "sns.despine()\n",
    "w.set(xlabel='Процент задолженностей', ylabel='')"
   ]
  },
  {
   "cell_type": "markdown",
   "id": "b4bb2ce6",
   "metadata": {
    "deletable": false,
    "id": "b4bb2ce6"
   },
   "source": [
    "**Conclusion:**\n",
    "* Customers with the goals of \"automobile operations\" and \"education\" have more debts on loans\n",
    "* The difference between the lowest and the highest indicator does not exceed 3%, the dependence is not so tangible. "
   ]
  },
  {
   "cell_type": "markdown",
   "id": "09c3ac4c",
   "metadata": {
    "deletable": false,
    "id": "09c3ac4c"
   },
   "source": [
    "**possible reasons for omissions in the raw data.**"
   ]
  },
  {
   "cell_type": "markdown",
   "id": "9da2ceda",
   "metadata": {
    "deletable": false,
    "id": "9da2ceda"
   },
   "source": [
    "**Answer:** \n",
    "* Hypothesis 1: **missing data is non-random**, customer refused to provide data. Data is missing only in the days_employed and total_income columns. The number of empty cells is one.\n",
    "* Hypothesis 2: **missing is random**, caused by a technical failure. To test the hypothesis, we need to request technical data - the time the row was entered into the database and the source id.\n",
    "\n",
    "Since the second hypothesis cannot be tested in this analysis, we will stick to hypothesis 1."
   ]
  },
  {
   "cell_type": "markdown",
   "id": "6db5255a",
   "metadata": {
    "deletable": false,
    "id": "6db5255a"
   },
   "source": [
    "## Overall conclusion."
   ]
  },
  {
   "cell_type": "markdown",
   "id": "bad65432",
   "metadata": {
    "id": "bad65432"
   },
   "source": [
    "As a result of the study, we found that there is a more tangible correlation between:\n",
    "\n",
    "* income level and loan repayment on time: clients with income level less than 30000 are more likely to delay loan payments\n",
    "* marital status and loan repayment on time: unmarried/ single people are more likely to delay loan payments.\n",
    "\n",
    "Categories with high percentage of arrears (~10%):\n",
    "* Customers with 4 children\n",
    "* Unmarried/unmarried\n",
    "* Income category less than 30000\n",
    "* Goals: education and automobile transactions\n",
    "\n",
    "Categories with lower percentage of arrears:\n",
    "* Childless\n",
    "* Widows/widowers\n",
    "* Yield 30001 to 50000\n",
    "* Purpose: real estate transactions\n",
    "\n",
    "When deciding whether to approve a loan, you should focus on information about **income level** and **family status**."
   ]
  }
 ],
 "metadata": {
  "ExecuteTimeLog": [
   {
    "duration": 536,
    "start_time": "2022-06-30T11:18:38.050Z"
   },
   {
    "duration": 25,
    "start_time": "2022-06-30T11:18:38.588Z"
   },
   {
    "duration": 27,
    "start_time": "2022-06-30T11:18:38.616Z"
   },
   {
    "duration": 31,
    "start_time": "2022-06-30T11:18:38.646Z"
   },
   {
    "duration": 62,
    "start_time": "2022-06-30T11:18:38.681Z"
   },
   {
    "duration": 6,
    "start_time": "2022-06-30T11:18:38.747Z"
   },
   {
    "duration": 22,
    "start_time": "2022-06-30T11:18:38.755Z"
   },
   {
    "duration": 6,
    "start_time": "2022-06-30T11:18:38.779Z"
   },
   {
    "duration": 13,
    "start_time": "2022-06-30T11:18:38.787Z"
   },
   {
    "duration": 19,
    "start_time": "2022-06-30T11:18:38.802Z"
   },
   {
    "duration": 61,
    "start_time": "2022-06-30T11:18:38.823Z"
   },
   {
    "duration": 13,
    "start_time": "2022-06-30T11:18:38.886Z"
   },
   {
    "duration": 9,
    "start_time": "2022-06-30T11:18:38.900Z"
   },
   {
    "duration": 29,
    "start_time": "2022-06-30T11:18:38.913Z"
   },
   {
    "duration": 23,
    "start_time": "2022-06-30T11:18:38.944Z"
   },
   {
    "duration": 13,
    "start_time": "2022-06-30T11:18:38.969Z"
   },
   {
    "duration": 13,
    "start_time": "2022-06-30T11:18:38.984Z"
   },
   {
    "duration": 35,
    "start_time": "2022-06-30T11:18:38.999Z"
   },
   {
    "duration": 11,
    "start_time": "2022-06-30T11:18:39.037Z"
   },
   {
    "duration": 17,
    "start_time": "2022-06-30T11:18:39.050Z"
   },
   {
    "duration": 29,
    "start_time": "2022-06-30T11:18:39.069Z"
   },
   {
    "duration": 59,
    "start_time": "2022-06-30T11:18:39.099Z"
   },
   {
    "duration": 10,
    "start_time": "2022-06-30T11:18:39.160Z"
   },
   {
    "duration": 7,
    "start_time": "2022-06-30T11:18:39.173Z"
   },
   {
    "duration": 7,
    "start_time": "2022-06-30T11:18:39.181Z"
   },
   {
    "duration": 1081,
    "start_time": "2022-06-30T11:21:13.147Z"
   },
   {
    "duration": 6,
    "start_time": "2022-06-30T11:22:30.198Z"
   },
   {
    "duration": 8,
    "start_time": "2022-06-30T11:22:39.548Z"
   },
   {
    "duration": 360,
    "start_time": "2022-06-30T11:25:52.054Z"
   },
   {
    "duration": 117,
    "start_time": "2022-06-30T11:26:03.793Z"
   },
   {
    "duration": 355,
    "start_time": "2022-06-30T11:26:09.991Z"
   },
   {
    "duration": 260,
    "start_time": "2022-06-30T11:26:20.453Z"
   },
   {
    "duration": 13,
    "start_time": "2022-06-30T11:28:45.480Z"
   },
   {
    "duration": 15,
    "start_time": "2022-06-30T11:28:54.807Z"
   },
   {
    "duration": 16,
    "start_time": "2022-06-30T11:29:03.243Z"
   },
   {
    "duration": 51,
    "start_time": "2022-06-30T11:29:21.218Z"
   },
   {
    "duration": 15,
    "start_time": "2022-06-30T11:29:26.977Z"
   },
   {
    "duration": 28,
    "start_time": "2022-06-30T11:31:36.126Z"
   },
   {
    "duration": 16,
    "start_time": "2022-06-30T11:31:50.212Z"
   },
   {
    "duration": 36,
    "start_time": "2022-06-30T11:32:14.079Z"
   },
   {
    "duration": 26,
    "start_time": "2022-06-30T11:33:14.520Z"
   },
   {
    "duration": 13,
    "start_time": "2022-06-30T11:33:27.381Z"
   },
   {
    "duration": 945,
    "start_time": "2022-06-30T11:35:11.006Z"
   },
   {
    "duration": 14,
    "start_time": "2022-06-30T11:35:20.144Z"
   },
   {
    "duration": 159,
    "start_time": "2022-06-30T11:35:30.529Z"
   },
   {
    "duration": 18,
    "start_time": "2022-06-30T11:35:35.417Z"
   },
   {
    "duration": 18,
    "start_time": "2022-06-30T11:35:47.283Z"
   },
   {
    "duration": 22,
    "start_time": "2022-06-30T11:36:44.764Z"
   },
   {
    "duration": 25,
    "start_time": "2022-06-30T11:37:02.857Z"
   },
   {
    "duration": 21,
    "start_time": "2022-06-30T11:37:17.062Z"
   },
   {
    "duration": 626,
    "start_time": "2022-06-30T11:37:31.079Z"
   },
   {
    "duration": 42,
    "start_time": "2022-06-30T11:37:31.708Z"
   },
   {
    "duration": 25,
    "start_time": "2022-06-30T11:37:31.755Z"
   },
   {
    "duration": 59,
    "start_time": "2022-06-30T11:37:31.782Z"
   },
   {
    "duration": 109,
    "start_time": "2022-06-30T11:37:31.843Z"
   },
   {
    "duration": 5,
    "start_time": "2022-06-30T11:37:31.956Z"
   },
   {
    "duration": 22,
    "start_time": "2022-06-30T11:37:31.968Z"
   },
   {
    "duration": 26,
    "start_time": "2022-06-30T11:37:31.992Z"
   },
   {
    "duration": 46,
    "start_time": "2022-06-30T11:37:32.020Z"
   },
   {
    "duration": 25,
    "start_time": "2022-06-30T11:37:32.071Z"
   },
   {
    "duration": 58,
    "start_time": "2022-06-30T11:37:32.099Z"
   },
   {
    "duration": 16,
    "start_time": "2022-06-30T11:37:32.159Z"
   },
   {
    "duration": 8,
    "start_time": "2022-06-30T11:37:32.177Z"
   },
   {
    "duration": 50,
    "start_time": "2022-06-30T11:37:32.187Z"
   },
   {
    "duration": 22,
    "start_time": "2022-06-30T11:37:32.239Z"
   },
   {
    "duration": 15,
    "start_time": "2022-06-30T11:37:32.263Z"
   },
   {
    "duration": 10,
    "start_time": "2022-06-30T11:37:32.279Z"
   },
   {
    "duration": 14,
    "start_time": "2022-06-30T11:37:32.291Z"
   },
   {
    "duration": 26,
    "start_time": "2022-06-30T11:37:32.307Z"
   },
   {
    "duration": 27,
    "start_time": "2022-06-30T11:37:32.335Z"
   },
   {
    "duration": 14,
    "start_time": "2022-06-30T11:37:32.363Z"
   },
   {
    "duration": 97,
    "start_time": "2022-06-30T11:37:32.379Z"
   },
   {
    "duration": 0,
    "start_time": "2022-06-30T11:37:32.479Z"
   },
   {
    "duration": 0,
    "start_time": "2022-06-30T11:37:32.480Z"
   },
   {
    "duration": 0,
    "start_time": "2022-06-30T11:37:32.481Z"
   },
   {
    "duration": 0,
    "start_time": "2022-06-30T11:37:32.483Z"
   },
   {
    "duration": 14,
    "start_time": "2022-06-30T11:37:48.063Z"
   },
   {
    "duration": 22,
    "start_time": "2022-06-30T11:38:00.242Z"
   },
   {
    "duration": 492,
    "start_time": "2022-06-30T11:38:14.599Z"
   },
   {
    "duration": 25,
    "start_time": "2022-06-30T11:38:15.094Z"
   },
   {
    "duration": 24,
    "start_time": "2022-06-30T11:38:15.121Z"
   },
   {
    "duration": 53,
    "start_time": "2022-06-30T11:38:15.147Z"
   },
   {
    "duration": 56,
    "start_time": "2022-06-30T11:38:15.202Z"
   },
   {
    "duration": 8,
    "start_time": "2022-06-30T11:38:15.259Z"
   },
   {
    "duration": 23,
    "start_time": "2022-06-30T11:38:15.269Z"
   },
   {
    "duration": 11,
    "start_time": "2022-06-30T11:38:15.294Z"
   },
   {
    "duration": 16,
    "start_time": "2022-06-30T11:38:15.307Z"
   },
   {
    "duration": 35,
    "start_time": "2022-06-30T11:38:15.326Z"
   },
   {
    "duration": 86,
    "start_time": "2022-06-30T11:38:15.368Z"
   },
   {
    "duration": 18,
    "start_time": "2022-06-30T11:38:15.459Z"
   },
   {
    "duration": 25,
    "start_time": "2022-06-30T11:38:15.481Z"
   },
   {
    "duration": 43,
    "start_time": "2022-06-30T11:38:15.508Z"
   },
   {
    "duration": 50,
    "start_time": "2022-06-30T11:38:15.553Z"
   },
   {
    "duration": 17,
    "start_time": "2022-06-30T11:38:15.605Z"
   },
   {
    "duration": 31,
    "start_time": "2022-06-30T11:38:15.623Z"
   },
   {
    "duration": 61,
    "start_time": "2022-06-30T11:38:15.659Z"
   },
   {
    "duration": 85,
    "start_time": "2022-06-30T11:38:15.722Z"
   },
   {
    "duration": 11,
    "start_time": "2022-06-30T11:38:15.809Z"
   },
   {
    "duration": 78,
    "start_time": "2022-06-30T11:38:15.822Z"
   },
   {
    "duration": 142,
    "start_time": "2022-06-30T11:38:15.902Z"
   },
   {
    "duration": 0,
    "start_time": "2022-06-30T11:38:16.048Z"
   },
   {
    "duration": 0,
    "start_time": "2022-06-30T11:38:16.049Z"
   },
   {
    "duration": 0,
    "start_time": "2022-06-30T11:38:16.050Z"
   },
   {
    "duration": 15,
    "start_time": "2022-06-30T11:38:24.678Z"
   },
   {
    "duration": 19,
    "start_time": "2022-06-30T11:38:41.072Z"
   },
   {
    "duration": 866,
    "start_time": "2022-06-30T11:40:08.108Z"
   },
   {
    "duration": 16,
    "start_time": "2022-06-30T11:40:25.082Z"
   },
   {
    "duration": 15,
    "start_time": "2022-06-30T11:40:25.247Z"
   },
   {
    "duration": 16,
    "start_time": "2022-06-30T11:40:45.665Z"
   },
   {
    "duration": 19,
    "start_time": "2022-06-30T11:41:49.648Z"
   },
   {
    "duration": 54,
    "start_time": "2022-06-30T11:42:03.811Z"
   },
   {
    "duration": 19,
    "start_time": "2022-06-30T11:42:42.779Z"
   },
   {
    "duration": 18,
    "start_time": "2022-06-30T11:43:26.900Z"
   },
   {
    "duration": 13,
    "start_time": "2022-06-30T11:44:27.267Z"
   },
   {
    "duration": 17,
    "start_time": "2022-06-30T11:45:09.376Z"
   },
   {
    "duration": 15,
    "start_time": "2022-06-30T11:46:16.444Z"
   },
   {
    "duration": 19,
    "start_time": "2022-06-30T11:46:21.571Z"
   },
   {
    "duration": 14,
    "start_time": "2022-06-30T11:47:37.078Z"
   },
   {
    "duration": 397,
    "start_time": "2022-06-30T11:47:52.489Z"
   },
   {
    "duration": 17,
    "start_time": "2022-06-30T11:48:48.952Z"
   },
   {
    "duration": 9,
    "start_time": "2022-06-30T11:52:09.380Z"
   },
   {
    "duration": 9,
    "start_time": "2022-06-30T11:52:19.043Z"
   },
   {
    "duration": 15,
    "start_time": "2022-06-30T11:54:14.816Z"
   },
   {
    "duration": 13,
    "start_time": "2022-06-30T11:54:28.845Z"
   },
   {
    "duration": 21,
    "start_time": "2022-06-30T11:56:51.358Z"
   },
   {
    "duration": 38,
    "start_time": "2022-06-30T12:01:01.597Z"
   },
   {
    "duration": 15,
    "start_time": "2022-06-30T12:02:07.356Z"
   },
   {
    "duration": 4,
    "start_time": "2022-06-30T12:03:07.918Z"
   },
   {
    "duration": 11,
    "start_time": "2022-06-30T12:03:13.111Z"
   },
   {
    "duration": 19,
    "start_time": "2022-06-30T12:03:24.342Z"
   },
   {
    "duration": 20,
    "start_time": "2022-06-30T12:03:59.022Z"
   },
   {
    "duration": 14,
    "start_time": "2022-06-30T12:04:39.921Z"
   },
   {
    "duration": 15,
    "start_time": "2022-06-30T12:05:08.307Z"
   },
   {
    "duration": 4,
    "start_time": "2022-06-30T12:06:09.866Z"
   },
   {
    "duration": 8,
    "start_time": "2022-06-30T12:06:14.062Z"
   },
   {
    "duration": 8,
    "start_time": "2022-06-30T12:06:40.190Z"
   },
   {
    "duration": 173,
    "start_time": "2022-06-30T12:25:08.283Z"
   },
   {
    "duration": 156,
    "start_time": "2022-06-30T12:25:37.295Z"
   },
   {
    "duration": 16,
    "start_time": "2022-06-30T12:35:10.670Z"
   },
   {
    "duration": 11,
    "start_time": "2022-06-30T12:35:51.999Z"
   },
   {
    "duration": 8,
    "start_time": "2022-06-30T12:37:35.676Z"
   },
   {
    "duration": 8,
    "start_time": "2022-06-30T12:37:39.676Z"
   },
   {
    "duration": 29,
    "start_time": "2022-06-30T12:37:45.265Z"
   },
   {
    "duration": 7,
    "start_time": "2022-06-30T12:37:49.473Z"
   },
   {
    "duration": 9,
    "start_time": "2022-06-30T12:38:01.190Z"
   },
   {
    "duration": 19,
    "start_time": "2022-06-30T12:38:59.224Z"
   },
   {
    "duration": 42,
    "start_time": "2022-06-30T12:41:05.457Z"
   },
   {
    "duration": 20,
    "start_time": "2022-06-30T12:42:21.372Z"
   },
   {
    "duration": 176,
    "start_time": "2022-06-30T12:42:50.514Z"
   },
   {
    "duration": 60,
    "start_time": "2022-06-30T12:49:02.063Z"
   },
   {
    "duration": 6,
    "start_time": "2022-06-30T12:49:20.771Z"
   },
   {
    "duration": 1415,
    "start_time": "2022-06-30T12:50:37.765Z"
   },
   {
    "duration": 309,
    "start_time": "2022-06-30T12:51:00.596Z"
   },
   {
    "duration": 12,
    "start_time": "2022-06-30T12:51:18.846Z"
   },
   {
    "duration": 35,
    "start_time": "2022-06-30T12:53:24.403Z"
   },
   {
    "duration": 1193,
    "start_time": "2022-06-30T12:53:54.001Z"
   },
   {
    "duration": 4,
    "start_time": "2022-06-30T12:55:10.859Z"
   },
   {
    "duration": 388,
    "start_time": "2022-06-30T12:55:12.291Z"
   },
   {
    "duration": 254,
    "start_time": "2022-06-30T12:56:38.665Z"
   },
   {
    "duration": 10,
    "start_time": "2022-06-30T12:57:24.995Z"
   },
   {
    "duration": 13,
    "start_time": "2022-06-30T12:57:30.821Z"
   },
   {
    "duration": 11,
    "start_time": "2022-06-30T12:57:41.207Z"
   },
   {
    "duration": 4,
    "start_time": "2022-06-30T12:57:44.976Z"
   },
   {
    "duration": 299,
    "start_time": "2022-06-30T12:57:46.845Z"
   },
   {
    "duration": 5,
    "start_time": "2022-06-30T12:58:09.959Z"
   },
   {
    "duration": 1234,
    "start_time": "2022-06-30T12:58:11.557Z"
   },
   {
    "duration": 1104,
    "start_time": "2022-06-30T12:58:34.893Z"
   },
   {
    "duration": 5,
    "start_time": "2022-06-30T12:58:40.745Z"
   },
   {
    "duration": 16,
    "start_time": "2022-06-30T13:00:25.646Z"
   },
   {
    "duration": 6,
    "start_time": "2022-06-30T13:00:59.251Z"
   },
   {
    "duration": 12,
    "start_time": "2022-06-30T13:01:03.686Z"
   },
   {
    "duration": 404,
    "start_time": "2022-06-30T13:02:15.385Z"
   },
   {
    "duration": 6,
    "start_time": "2022-06-30T13:02:28.266Z"
   },
   {
    "duration": 290,
    "start_time": "2022-06-30T13:02:29.788Z"
   },
   {
    "duration": 2809,
    "start_time": "2022-06-30T13:04:10.107Z"
   },
   {
    "duration": 19,
    "start_time": "2022-06-30T13:04:16.631Z"
   },
   {
    "duration": 376,
    "start_time": "2022-06-30T13:04:18.388Z"
   },
   {
    "duration": 23,
    "start_time": "2022-06-30T13:04:36.575Z"
   },
   {
    "duration": 330,
    "start_time": "2022-06-30T13:06:52.067Z"
   },
   {
    "duration": 6,
    "start_time": "2022-06-30T13:07:38.172Z"
   },
   {
    "duration": 2904,
    "start_time": "2022-06-30T13:07:41.369Z"
   },
   {
    "duration": 5,
    "start_time": "2022-06-30T13:10:38.966Z"
   },
   {
    "duration": 1545,
    "start_time": "2022-06-30T13:10:40.647Z"
   },
   {
    "duration": 11,
    "start_time": "2022-06-30T13:10:52.557Z"
   },
   {
    "duration": 1214,
    "start_time": "2022-06-30T13:10:55.946Z"
   },
   {
    "duration": 6,
    "start_time": "2022-06-30T13:11:40.365Z"
   },
   {
    "duration": 1140,
    "start_time": "2022-06-30T13:11:41.765Z"
   },
   {
    "duration": 19,
    "start_time": "2022-06-30T13:14:14.169Z"
   },
   {
    "duration": 11,
    "start_time": "2022-06-30T13:14:40.899Z"
   },
   {
    "duration": 11,
    "start_time": "2022-06-30T13:14:49.823Z"
   },
   {
    "duration": 25,
    "start_time": "2022-06-30T13:14:51.483Z"
   },
   {
    "duration": 10,
    "start_time": "2022-06-30T13:15:01.480Z"
   },
   {
    "duration": 4,
    "start_time": "2022-06-30T13:15:03.180Z"
   },
   {
    "duration": 6,
    "start_time": "2022-06-30T13:15:08.386Z"
   },
   {
    "duration": 63,
    "start_time": "2022-06-30T13:15:30.303Z"
   },
   {
    "duration": 18,
    "start_time": "2022-06-30T13:16:09.022Z"
   },
   {
    "duration": 17,
    "start_time": "2022-06-30T13:16:16.459Z"
   },
   {
    "duration": 13,
    "start_time": "2022-06-30T13:16:20.106Z"
   },
   {
    "duration": 9,
    "start_time": "2022-06-30T13:17:29.161Z"
   },
   {
    "duration": 17,
    "start_time": "2022-06-30T13:17:30.971Z"
   },
   {
    "duration": 7,
    "start_time": "2022-06-30T13:17:53.069Z"
   },
   {
    "duration": 19,
    "start_time": "2022-06-30T13:17:56.475Z"
   },
   {
    "duration": 31,
    "start_time": "2022-06-30T13:20:08.065Z"
   },
   {
    "duration": 172,
    "start_time": "2022-06-30T13:20:22.398Z"
   },
   {
    "duration": 214,
    "start_time": "2022-06-30T13:23:32.500Z"
   },
   {
    "duration": 10,
    "start_time": "2022-06-30T13:25:30.184Z"
   },
   {
    "duration": 16,
    "start_time": "2022-06-30T13:25:46.864Z"
   },
   {
    "duration": 177,
    "start_time": "2022-06-30T13:27:21.283Z"
   },
   {
    "duration": 148,
    "start_time": "2022-06-30T13:28:25.210Z"
   },
   {
    "duration": 162,
    "start_time": "2022-06-30T13:28:47.003Z"
   },
   {
    "duration": 16,
    "start_time": "2022-06-30T13:30:17.239Z"
   },
   {
    "duration": 309,
    "start_time": "2022-06-30T13:32:08.064Z"
   },
   {
    "duration": 73,
    "start_time": "2022-06-30T13:55:09.611Z"
   },
   {
    "duration": 187,
    "start_time": "2022-06-30T13:55:23.273Z"
   },
   {
    "duration": 201,
    "start_time": "2022-06-30T13:56:22.631Z"
   },
   {
    "duration": 154,
    "start_time": "2022-06-30T13:56:37.099Z"
   },
   {
    "duration": 71,
    "start_time": "2022-06-30T13:57:13.906Z"
   },
   {
    "duration": 215,
    "start_time": "2022-06-30T13:57:49.076Z"
   },
   {
    "duration": 204,
    "start_time": "2022-06-30T13:58:02.871Z"
   },
   {
    "duration": 223,
    "start_time": "2022-06-30T13:58:10.555Z"
   },
   {
    "duration": 209,
    "start_time": "2022-06-30T13:58:21.187Z"
   },
   {
    "duration": 154,
    "start_time": "2022-06-30T13:59:30.421Z"
   },
   {
    "duration": 155,
    "start_time": "2022-06-30T13:59:42.244Z"
   },
   {
    "duration": 205,
    "start_time": "2022-06-30T13:59:53.373Z"
   },
   {
    "duration": 183,
    "start_time": "2022-06-30T14:00:05.621Z"
   },
   {
    "duration": 217,
    "start_time": "2022-06-30T14:02:29.961Z"
   },
   {
    "duration": 227,
    "start_time": "2022-06-30T14:02:43.947Z"
   },
   {
    "duration": 143,
    "start_time": "2022-06-30T14:04:20.404Z"
   },
   {
    "duration": 183,
    "start_time": "2022-06-30T14:05:14.480Z"
   },
   {
    "duration": 290,
    "start_time": "2022-06-30T14:06:16.705Z"
   },
   {
    "duration": 205,
    "start_time": "2022-06-30T14:07:21.663Z"
   },
   {
    "duration": 213,
    "start_time": "2022-06-30T14:07:27.784Z"
   },
   {
    "duration": 150,
    "start_time": "2022-06-30T14:08:19.823Z"
   },
   {
    "duration": 144,
    "start_time": "2022-06-30T14:08:32.009Z"
   },
   {
    "duration": 166,
    "start_time": "2022-06-30T14:08:42.848Z"
   },
   {
    "duration": 192,
    "start_time": "2022-06-30T14:10:34.775Z"
   },
   {
    "duration": 199,
    "start_time": "2022-06-30T14:11:20.509Z"
   },
   {
    "duration": 187,
    "start_time": "2022-06-30T14:11:29.109Z"
   },
   {
    "duration": 54,
    "start_time": "2022-07-01T08:28:27.724Z"
   },
   {
    "duration": 572,
    "start_time": "2022-07-01T08:28:39.152Z"
   },
   {
    "duration": 26,
    "start_time": "2022-07-01T08:28:39.726Z"
   },
   {
    "duration": 17,
    "start_time": "2022-07-01T08:28:39.754Z"
   },
   {
    "duration": 12,
    "start_time": "2022-07-01T08:28:39.775Z"
   },
   {
    "duration": 68,
    "start_time": "2022-07-01T08:28:39.789Z"
   },
   {
    "duration": 4,
    "start_time": "2022-07-01T08:28:39.858Z"
   },
   {
    "duration": 11,
    "start_time": "2022-07-01T08:28:39.865Z"
   },
   {
    "duration": 5,
    "start_time": "2022-07-01T08:28:39.878Z"
   },
   {
    "duration": 15,
    "start_time": "2022-07-01T08:28:39.885Z"
   },
   {
    "duration": 9,
    "start_time": "2022-07-01T08:28:39.903Z"
   },
   {
    "duration": 68,
    "start_time": "2022-07-01T08:28:39.914Z"
   },
   {
    "duration": 12,
    "start_time": "2022-07-01T08:28:39.984Z"
   },
   {
    "duration": 5,
    "start_time": "2022-07-01T08:28:39.998Z"
   },
   {
    "duration": 47,
    "start_time": "2022-07-01T08:28:40.005Z"
   },
   {
    "duration": 20,
    "start_time": "2022-07-01T08:28:40.054Z"
   },
   {
    "duration": 13,
    "start_time": "2022-07-01T08:28:40.076Z"
   },
   {
    "duration": 9,
    "start_time": "2022-07-01T08:28:40.091Z"
   },
   {
    "duration": 17,
    "start_time": "2022-07-01T08:28:40.102Z"
   },
   {
    "duration": 8,
    "start_time": "2022-07-01T08:28:40.121Z"
   },
   {
    "duration": 5,
    "start_time": "2022-07-01T08:28:40.151Z"
   },
   {
    "duration": 25,
    "start_time": "2022-07-01T08:28:40.158Z"
   },
   {
    "duration": 24,
    "start_time": "2022-07-01T08:28:40.185Z"
   },
   {
    "duration": 8,
    "start_time": "2022-07-01T08:28:40.211Z"
   },
   {
    "duration": 1160,
    "start_time": "2022-07-01T08:28:40.222Z"
   },
   {
    "duration": 17,
    "start_time": "2022-07-01T08:28:41.384Z"
   },
   {
    "duration": 188,
    "start_time": "2022-07-01T08:28:41.402Z"
   },
   {
    "duration": 15,
    "start_time": "2022-07-01T08:28:41.591Z"
   },
   {
    "duration": 154,
    "start_time": "2022-07-01T08:28:41.609Z"
   },
   {
    "duration": 16,
    "start_time": "2022-07-01T08:28:41.765Z"
   },
   {
    "duration": 160,
    "start_time": "2022-07-01T08:28:41.783Z"
   },
   {
    "duration": 161,
    "start_time": "2022-07-01T08:29:16.373Z"
   },
   {
    "duration": 33,
    "start_time": "2022-07-01T08:29:51.175Z"
   },
   {
    "duration": 156,
    "start_time": "2022-07-01T08:30:08.715Z"
   },
   {
    "duration": 122,
    "start_time": "2022-07-01T08:31:47.706Z"
   },
   {
    "duration": 138,
    "start_time": "2022-07-01T08:32:10.024Z"
   },
   {
    "duration": 238,
    "start_time": "2022-07-01T08:32:43.946Z"
   },
   {
    "duration": 26,
    "start_time": "2022-07-01T08:32:53.596Z"
   },
   {
    "duration": 150,
    "start_time": "2022-07-01T08:33:28.856Z"
   },
   {
    "duration": 142,
    "start_time": "2022-07-01T08:33:47.186Z"
   },
   {
    "duration": 4,
    "start_time": "2022-07-01T08:37:54.327Z"
   },
   {
    "duration": 516,
    "start_time": "2022-07-01T13:45:42.443Z"
   },
   {
    "duration": 21,
    "start_time": "2022-07-01T13:45:42.961Z"
   },
   {
    "duration": 14,
    "start_time": "2022-07-01T13:45:42.984Z"
   },
   {
    "duration": 9,
    "start_time": "2022-07-01T13:45:43.000Z"
   },
   {
    "duration": 36,
    "start_time": "2022-07-01T13:45:43.011Z"
   },
   {
    "duration": 3,
    "start_time": "2022-07-01T13:45:43.068Z"
   },
   {
    "duration": 10,
    "start_time": "2022-07-01T13:45:43.073Z"
   },
   {
    "duration": 4,
    "start_time": "2022-07-01T13:45:43.085Z"
   },
   {
    "duration": 9,
    "start_time": "2022-07-01T13:45:43.090Z"
   },
   {
    "duration": 4,
    "start_time": "2022-07-01T13:45:43.101Z"
   },
   {
    "duration": 32,
    "start_time": "2022-07-01T13:45:43.106Z"
   },
   {
    "duration": 35,
    "start_time": "2022-07-01T13:45:43.140Z"
   },
   {
    "duration": 4,
    "start_time": "2022-07-01T13:45:43.176Z"
   },
   {
    "duration": 18,
    "start_time": "2022-07-01T13:45:43.183Z"
   },
   {
    "duration": 16,
    "start_time": "2022-07-01T13:45:43.203Z"
   },
   {
    "duration": 11,
    "start_time": "2022-07-01T13:45:43.220Z"
   },
   {
    "duration": 5,
    "start_time": "2022-07-01T13:45:43.232Z"
   },
   {
    "duration": 9,
    "start_time": "2022-07-01T13:45:43.268Z"
   },
   {
    "duration": 8,
    "start_time": "2022-07-01T13:45:43.279Z"
   },
   {
    "duration": 4,
    "start_time": "2022-07-01T13:45:43.289Z"
   },
   {
    "duration": 12,
    "start_time": "2022-07-01T13:45:43.294Z"
   },
   {
    "duration": 15,
    "start_time": "2022-07-01T13:45:43.307Z"
   },
   {
    "duration": 5,
    "start_time": "2022-07-01T13:45:43.324Z"
   },
   {
    "duration": 1067,
    "start_time": "2022-07-01T13:45:43.330Z"
   },
   {
    "duration": 15,
    "start_time": "2022-07-01T13:45:44.399Z"
   },
   {
    "duration": 155,
    "start_time": "2022-07-01T13:45:44.415Z"
   },
   {
    "duration": 14,
    "start_time": "2022-07-01T13:45:44.571Z"
   },
   {
    "duration": 144,
    "start_time": "2022-07-01T13:45:44.587Z"
   },
   {
    "duration": 14,
    "start_time": "2022-07-01T13:45:44.733Z"
   },
   {
    "duration": 145,
    "start_time": "2022-07-01T13:45:44.749Z"
   },
   {
    "duration": 82,
    "start_time": "2022-07-04T07:04:11.953Z"
   },
   {
    "duration": 683,
    "start_time": "2022-07-04T07:04:23.272Z"
   },
   {
    "duration": 55,
    "start_time": "2022-07-04T07:04:23.957Z"
   },
   {
    "duration": 23,
    "start_time": "2022-07-04T07:04:24.021Z"
   },
   {
    "duration": 73,
    "start_time": "2022-07-04T07:04:24.045Z"
   },
   {
    "duration": 43,
    "start_time": "2022-07-04T07:04:24.121Z"
   },
   {
    "duration": 4,
    "start_time": "2022-07-04T07:04:24.166Z"
   },
   {
    "duration": 60,
    "start_time": "2022-07-04T07:04:24.172Z"
   },
   {
    "duration": 6,
    "start_time": "2022-07-04T07:04:24.234Z"
   },
   {
    "duration": 25,
    "start_time": "2022-07-04T07:04:24.241Z"
   },
   {
    "duration": 64,
    "start_time": "2022-07-04T07:04:24.268Z"
   },
   {
    "duration": 47,
    "start_time": "2022-07-04T07:04:24.334Z"
   },
   {
    "duration": 39,
    "start_time": "2022-07-04T07:04:24.383Z"
   },
   {
    "duration": 20,
    "start_time": "2022-07-04T07:04:24.424Z"
   },
   {
    "duration": 95,
    "start_time": "2022-07-04T07:04:24.447Z"
   },
   {
    "duration": 56,
    "start_time": "2022-07-04T07:04:24.543Z"
   },
   {
    "duration": 43,
    "start_time": "2022-07-04T07:04:24.603Z"
   },
   {
    "duration": 3,
    "start_time": "2022-07-04T07:04:24.648Z"
   },
   {
    "duration": 78,
    "start_time": "2022-07-04T07:04:24.653Z"
   },
   {
    "duration": 37,
    "start_time": "2022-07-04T07:04:24.733Z"
   },
   {
    "duration": 55,
    "start_time": "2022-07-04T07:04:24.772Z"
   },
   {
    "duration": 21,
    "start_time": "2022-07-04T07:04:24.829Z"
   },
   {
    "duration": 20,
    "start_time": "2022-07-04T07:04:24.852Z"
   },
   {
    "duration": 72,
    "start_time": "2022-07-04T07:04:24.874Z"
   },
   {
    "duration": 5,
    "start_time": "2022-07-04T07:04:24.947Z"
   },
   {
    "duration": 1334,
    "start_time": "2022-07-04T07:04:24.954Z"
   },
   {
    "duration": 23,
    "start_time": "2022-07-04T07:04:26.291Z"
   },
   {
    "duration": 198,
    "start_time": "2022-07-04T07:04:26.315Z"
   },
   {
    "duration": 15,
    "start_time": "2022-07-04T07:04:26.518Z"
   },
   {
    "duration": 147,
    "start_time": "2022-07-04T07:04:26.535Z"
   },
   {
    "duration": 18,
    "start_time": "2022-07-04T07:04:26.684Z"
   },
   {
    "duration": 204,
    "start_time": "2022-07-04T07:04:26.707Z"
   },
   {
    "duration": 46,
    "start_time": "2022-07-04T07:07:16.444Z"
   },
   {
    "duration": 161,
    "start_time": "2022-07-04T07:08:32.987Z"
   },
   {
    "duration": 35,
    "start_time": "2022-07-04T07:10:30.628Z"
   },
   {
    "duration": 16,
    "start_time": "2022-07-04T07:11:06.838Z"
   }
  ],
  "celltoolbar": "Edit Metadata",
  "colab": {
   "name": "dpp_template_part2.ipynb",
   "provenance": []
  },
  "kernelspec": {
   "display_name": "Python 3 (ipykernel)",
   "language": "python",
   "name": "python3"
  },
  "language_info": {
   "codemirror_mode": {
    "name": "ipython",
    "version": 3
   },
   "file_extension": ".py",
   "mimetype": "text/x-python",
   "name": "python",
   "nbconvert_exporter": "python",
   "pygments_lexer": "ipython3",
   "version": "3.11.2"
  },
  "toc": {
   "base_numbering": 1,
   "nav_menu": {},
   "number_sections": true,
   "sideBar": true,
   "skip_h1_title": true,
   "title_cell": "Table of Contents",
   "title_sidebar": "Contents",
   "toc_cell": false,
   "toc_position": {},
   "toc_section_display": true,
   "toc_window_display": false
  }
 },
 "nbformat": 4,
 "nbformat_minor": 5
}
