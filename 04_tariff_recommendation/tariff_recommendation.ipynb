{
 "cells": [
  {
   "cell_type": "markdown",
   "metadata": {},
   "source": [
    "# Tariff recommendation"
   ]
  },
  {
   "cell_type": "markdown",
   "metadata": {},
   "source": [
    "You have at your disposal data on the behavior of customers who have already switched to these tariffs (from the course project \"Statistical Data Analysis\"). You need to build a model for a classification task that will select the appropriate tariff. You don't need to preprocess the data - you've already done it.\n",
    "\n",
    "Build the model with the largest *accuracy* value possible. To pass the project successfully, you need to get the proportion of correct answers to at least 0.75. Check the *accuracy* on the test sample yourself.\n",
    "\n",
    "Each object in the dataset is information about one user's behavior in a month. Known:\n",
    "\n",
    "    calls - number of calls,\n",
    "    minutes - total duration of calls in minutes,\n",
    "    messages - number of sms-messages,\n",
    "    mb_used - used Internet traffic in Mb,\n",
    "    is_ultra - what tariff was used during the month (\"Ultra\" - 1, \"Smart\" - 0)."
   ]
  },
  {
   "cell_type": "markdown",
   "metadata": {},
   "source": [
    "## Open and examine the file"
   ]
  },
  {
   "cell_type": "code",
   "execution_count": 1,
   "metadata": {},
   "outputs": [],
   "source": [
    "import pandas as pd\n",
    "from sklearn.model_selection import train_test_split\n",
    "from sklearn.tree import DecisionTreeClassifier\n",
    "from sklearn.metrics import accuracy_score\n",
    "from sklearn.ensemble import RandomForestClassifier\n",
    "from sklearn.linear_model import LogisticRegression\n",
    "import matplotlib.pyplot as plt \n",
    "import seaborn as sns"
   ]
  },
  {
   "cell_type": "code",
   "execution_count": 2,
   "metadata": {},
   "outputs": [],
   "source": [
    "df = pd.read_csv('https://code.s3.yandex.net/datasets/users_behavior.csv')"
   ]
  },
  {
   "cell_type": "code",
   "execution_count": 3,
   "metadata": {},
   "outputs": [
    {
     "data": {
      "text/html": [
       "<div>\n",
       "<style scoped>\n",
       "    .dataframe tbody tr th:only-of-type {\n",
       "        vertical-align: middle;\n",
       "    }\n",
       "\n",
       "    .dataframe tbody tr th {\n",
       "        vertical-align: top;\n",
       "    }\n",
       "\n",
       "    .dataframe thead th {\n",
       "        text-align: right;\n",
       "    }\n",
       "</style>\n",
       "<table border=\"1\" class=\"dataframe\">\n",
       "  <thead>\n",
       "    <tr style=\"text-align: right;\">\n",
       "      <th></th>\n",
       "      <th>calls</th>\n",
       "      <th>minutes</th>\n",
       "      <th>messages</th>\n",
       "      <th>mb_used</th>\n",
       "      <th>is_ultra</th>\n",
       "    </tr>\n",
       "  </thead>\n",
       "  <tbody>\n",
       "    <tr>\n",
       "      <th>0</th>\n",
       "      <td>40.0</td>\n",
       "      <td>311.90</td>\n",
       "      <td>83.0</td>\n",
       "      <td>19915.42</td>\n",
       "      <td>0</td>\n",
       "    </tr>\n",
       "    <tr>\n",
       "      <th>1</th>\n",
       "      <td>85.0</td>\n",
       "      <td>516.75</td>\n",
       "      <td>56.0</td>\n",
       "      <td>22696.96</td>\n",
       "      <td>0</td>\n",
       "    </tr>\n",
       "    <tr>\n",
       "      <th>2</th>\n",
       "      <td>77.0</td>\n",
       "      <td>467.66</td>\n",
       "      <td>86.0</td>\n",
       "      <td>21060.45</td>\n",
       "      <td>0</td>\n",
       "    </tr>\n",
       "    <tr>\n",
       "      <th>3</th>\n",
       "      <td>106.0</td>\n",
       "      <td>745.53</td>\n",
       "      <td>81.0</td>\n",
       "      <td>8437.39</td>\n",
       "      <td>1</td>\n",
       "    </tr>\n",
       "    <tr>\n",
       "      <th>4</th>\n",
       "      <td>66.0</td>\n",
       "      <td>418.74</td>\n",
       "      <td>1.0</td>\n",
       "      <td>14502.75</td>\n",
       "      <td>0</td>\n",
       "    </tr>\n",
       "  </tbody>\n",
       "</table>\n",
       "</div>"
      ],
      "text/plain": [
       "   calls  minutes  messages   mb_used  is_ultra\n",
       "0   40.0   311.90      83.0  19915.42         0\n",
       "1   85.0   516.75      56.0  22696.96         0\n",
       "2   77.0   467.66      86.0  21060.45         0\n",
       "3  106.0   745.53      81.0   8437.39         1\n",
       "4   66.0   418.74       1.0  14502.75         0"
      ]
     },
     "execution_count": 3,
     "metadata": {},
     "output_type": "execute_result"
    }
   ],
   "source": [
    "df.head()"
   ]
  },
  {
   "cell_type": "code",
   "execution_count": 4,
   "metadata": {},
   "outputs": [
    {
     "name": "stdout",
     "output_type": "stream",
     "text": [
      "<class 'pandas.core.frame.DataFrame'>\n",
      "RangeIndex: 3214 entries, 0 to 3213\n",
      "Data columns (total 5 columns):\n",
      " #   Column    Non-Null Count  Dtype  \n",
      "---  ------    --------------  -----  \n",
      " 0   calls     3214 non-null   float64\n",
      " 1   minutes   3214 non-null   float64\n",
      " 2   messages  3214 non-null   float64\n",
      " 3   mb_used   3214 non-null   float64\n",
      " 4   is_ultra  3214 non-null   int64  \n",
      "dtypes: float64(4), int64(1)\n",
      "memory usage: 125.7 KB\n"
     ]
    }
   ],
   "source": [
    "df.info()"
   ]
  },
  {
   "cell_type": "code",
   "execution_count": 5,
   "metadata": {},
   "outputs": [
    {
     "data": {
      "text/plain": [
       "0    2229\n",
       "1     985\n",
       "Name: is_ultra, dtype: int64"
      ]
     },
     "execution_count": 5,
     "metadata": {},
     "output_type": "execute_result"
    }
   ],
   "source": [
    "df['is_ultra'].value_counts()"
   ]
  },
  {
   "cell_type": "markdown",
   "metadata": {},
   "source": [
    "**We see twice as many people not on the Ultra plan**"
   ]
  },
  {
   "cell_type": "markdown",
   "metadata": {},
   "source": [
    "## Split the data into samples"
   ]
  },
  {
   "cell_type": "code",
   "execution_count": 6,
   "metadata": {},
   "outputs": [],
   "source": [
    "features = df.drop('is_ultra', axis=1)\n",
    "target = df['is_ultra']"
   ]
  },
  {
   "cell_type": "code",
   "execution_count": 7,
   "metadata": {},
   "outputs": [],
   "source": [
    "features_train, features_valid, target_train, target_valid  = train_test_split(features, target, test_size=0.2,  random_state = 12345)"
   ]
  },
  {
   "cell_type": "code",
   "execution_count": 8,
   "metadata": {},
   "outputs": [],
   "source": [
    "features_valid, features_test, target_valid, target_test = train_test_split(features_valid, target_valid, test_size=0.5,  random_state = 12345)"
   ]
  },
  {
   "cell_type": "markdown",
   "metadata": {},
   "source": [
    "## Explore the models"
   ]
  },
  {
   "cell_type": "code",
   "execution_count": 11,
   "metadata": {},
   "outputs": [],
   "source": [
    "# decision tree classifier\n",
    "best_dtc_model = None\n",
    "best_dtc_result = 0\n",
    "best_dtc_depth = 0\n",
    "depth_pl = []\n",
    "result_pl = []\n",
    "\n",
    "for depth in range(1,30):\n",
    "    model = DecisionTreeClassifier(random_state=12345, max_depth=depth)\n",
    "    model.fit(features_train,target_train)\n",
    "    prediction = model.predict(features_valid)\n",
    "    result = accuracy_score(target_valid, prediction)\n",
    "    depth_pl.append(depth)\n",
    "    result_pl.append(result)\n",
    "    if result > best_dtc_result:\n",
    "        best_dtc_model = model\n",
    "        best_dtc_result = result\n",
    "        best_dtc_depth = depth"
   ]
  },
  {
   "cell_type": "code",
   "execution_count": 12,
   "metadata": {
    "scrolled": true
   },
   "outputs": [
    {
     "data": {
      "text/plain": [
       "[<matplotlib.lines.Line2D at 0x7fde29c38190>]"
      ]
     },
     "execution_count": 12,
     "metadata": {},
     "output_type": "execute_result"
    },
    {
     "data": {
      "image/png": "[encoded data removed]",
      "text/plain": [
       "<Figure size 432x288 with 1 Axes>"
      ]
     },
     "metadata": {
      "needs_background": "light"
     },
     "output_type": "display_data"
    }
   ],
   "source": [
    "plt.plot(depth_pl, result_pl)"
   ]
  },
  {
   "cell_type": "markdown",
   "metadata": {},
   "source": [
    "The optimal number of trees is 6, because then the accuracy decreases and the model is retrained."
   ]
  },
  {
   "cell_type": "code",
   "execution_count": 13,
   "metadata": {},
   "outputs": [],
   "source": [
    "# random forest classifier\n",
    "best_rfc_model = None\n",
    "best_rfc_result = 0\n",
    "best_rfc_estimators_number = 0\n",
    "pl_estimators=[_ for _ in range(1,10)]\n",
    "pl_depth = [_ for _ in range(1,10)]\n",
    "pl_result = []\n",
    "for est in range(1,10):\n",
    "        for depth in range(1,10):\n",
    "            model = RandomForestClassifier(random_state=12345, n_estimators=est, max_depth=depth)\n",
    "            model.fit(features_train, target_train)\n",
    "            prediction = model.predict(features_valid)\n",
    "            result = accuracy_score(target_valid, prediction)\n",
    "            pl_result.append(result)\n",
    "            if result > best_rfc_result:\n",
    "                best_rfc_model = model\n",
    "                best_rfc_result = result\n",
    "                best_rfc_estimators_number = est"
   ]
  },
  {
   "cell_type": "code",
   "execution_count": 14,
   "metadata": {},
   "outputs": [],
   "source": [
    "pl_result = [pl_result[x:x+9] for x in range(0, len(pl_result), 9)]\n"
   ]
  },
  {
   "cell_type": "code",
   "execution_count": 15,
   "metadata": {
    "scrolled": true
   },
   "outputs": [
    {
     "data": {
      "text/plain": [
       "Text(33.0, 0.5, 'Number of estimators')"
      ]
     },
     "execution_count": 15,
     "metadata": {},
     "output_type": "execute_result"
    },
    {
     "data": {
      "image/png": "[encoded data removed]",
      "text/plain": [
       "<Figure size 432x288 with 2 Axes>"
      ]
     },
     "metadata": {
      "needs_background": "light"
     },
     "output_type": "display_data"
    }
   ],
   "source": [
    "sns.heatmap(data=pl_result, xticklabels=pl_depth, yticklabels=pl_estimators)\n",
    "plt.xlabel(\"Depth\")\n",
    "plt.ylabel(\"Number of estimators\")"
   ]
  },
  {
   "cell_type": "markdown",
   "metadata": {},
   "source": [
    "We see that the best result is shown by the model with the number of estimators 2 and tree depth 6."
   ]
  },
  {
   "cell_type": "code",
   "execution_count": 16,
   "metadata": {},
   "outputs": [],
   "source": [
    "# logistic regression\n",
    "best_lg_model = None\n",
    "best_lg_result = 0\n",
    "best_lg_iter = 0\n",
    "pl_iter = [_ for _ in range(500, 10000, 500)]\n",
    "p_result = []\n",
    "for it in range(500, 10000, 500):\n",
    "    model = LogisticRegression(random_state=12345, solver='lbfgs', max_iter=it)\n",
    "    model.fit(features_train, target_train)\n",
    "    prediction = model.predict(features_valid)\n",
    "    result = accuracy_score(target_valid, prediction)\n",
    "    p_result.append(result)\n",
    "    if result > best_lg_result:\n",
    "        best_lg_model = model\n",
    "        best_lg_result = result\n",
    "        best_lg_iter = it\n"
   ]
  },
  {
   "cell_type": "code",
   "execution_count": 17,
   "metadata": {},
   "outputs": [
    {
     "data": {
      "text/plain": [
       "[<matplotlib.lines.Line2D at 0x7fde29b64a90>]"
      ]
     },
     "execution_count": 17,
     "metadata": {},
     "output_type": "execute_result"
    },
    {
     "data": {
      "image/png": "[encoded data removed]",
      "text/plain": [
       "<Figure size 432x288 with 1 Axes>"
      ]
     },
     "metadata": {
      "needs_background": "light"
     },
     "output_type": "display_data"
    }
   ],
   "source": [
    "plt.plot(pl_iter,p_result)"
   ]
  },
  {
   "cell_type": "markdown",
   "metadata": {},
   "source": [
    "No change in the quality of the predictions."
   ]
  },
  {
   "cell_type": "code",
   "execution_count": 18,
   "metadata": {},
   "outputs": [],
   "source": [
    "models = [best_dtc_model, best_rfc_model, best_lg_model]\n",
    "results = [best_dtc_result, best_rfc_result, best_lg_result]\n",
    "parameters = [best_dtc_depth, best_rfc_estimators_number, best_lg_iter]\n",
    "\n",
    "frame = {'models': models, 'parameters':parameters, 'results':results}\n",
    "validation_result = pd.DataFrame(frame)"
   ]
  },
  {
   "cell_type": "code",
   "execution_count": 19,
   "metadata": {
    "scrolled": true
   },
   "outputs": [
    {
     "data": {
      "text/html": [
       "<div>\n",
       "<style scoped>\n",
       "    .dataframe tbody tr th:only-of-type {\n",
       "        vertical-align: middle;\n",
       "    }\n",
       "\n",
       "    .dataframe tbody tr th {\n",
       "        vertical-align: top;\n",
       "    }\n",
       "\n",
       "    .dataframe thead th {\n",
       "        text-align: right;\n",
       "    }\n",
       "</style>\n",
       "<table border=\"1\" class=\"dataframe\">\n",
       "  <thead>\n",
       "    <tr style=\"text-align: right;\">\n",
       "      <th></th>\n",
       "      <th>models</th>\n",
       "      <th>parameters</th>\n",
       "      <th>results</th>\n",
       "    </tr>\n",
       "  </thead>\n",
       "  <tbody>\n",
       "    <tr>\n",
       "      <th>0</th>\n",
       "      <td>DecisionTreeClassifier(max_depth=6, random_sta...</td>\n",
       "      <td>6</td>\n",
       "      <td>0.797508</td>\n",
       "    </tr>\n",
       "    <tr>\n",
       "      <th>1</th>\n",
       "      <td>(DecisionTreeClassifier(max_depth=6, max_featu...</td>\n",
       "      <td>2</td>\n",
       "      <td>0.809969</td>\n",
       "    </tr>\n",
       "    <tr>\n",
       "      <th>2</th>\n",
       "      <td>LogisticRegression(max_iter=500, random_state=...</td>\n",
       "      <td>500</td>\n",
       "      <td>0.766355</td>\n",
       "    </tr>\n",
       "  </tbody>\n",
       "</table>\n",
       "</div>"
      ],
      "text/plain": [
       "                                              models  parameters   results\n",
       "0  DecisionTreeClassifier(max_depth=6, random_sta...           6  0.797508\n",
       "1  (DecisionTreeClassifier(max_depth=6, max_featu...           2  0.809969\n",
       "2  LogisticRegression(max_iter=500, random_state=...         500  0.766355"
      ]
     },
     "execution_count": 19,
     "metadata": {},
     "output_type": "execute_result"
    }
   ],
   "source": [
    "validation_result"
   ]
  },
  {
   "cell_type": "markdown",
   "metadata": {},
   "source": [
    "The best result was shown by the random forest model with the number of evaluators 2 and maximum depth 6.\n",
    "The decision tree model with a depth of 6 is in second place.\n",
    "However, the difference between the accuracy of the decision tree and random forest is insignificant.\n",
    "\n",
    "Logistic regression performed the worst. \n"
   ]
  },
  {
   "cell_type": "markdown",
   "metadata": {},
   "source": [
    "## Validate the model on a test sample"
   ]
  },
  {
   "cell_type": "code",
   "execution_count": 20,
   "metadata": {},
   "outputs": [
    {
     "name": "stdout",
     "output_type": "stream",
     "text": [
      "Точность предсказания модели RandomForestClassifier = 0.7732919254658385\n"
     ]
    }
   ],
   "source": [
    "prediction = best_rfc_model.predict(features_test)\n",
    "accuracy = accuracy_score(prediction, target_test)\n",
    "print('Точность предсказания модели', str(best_rfc_model).split('(')[0], '=', accuracy)"
   ]
  },
  {
   "cell_type": "markdown",
   "metadata": {},
   "source": [
    "The RandomForestClassifier model managed to achieve an accuracy greater than 0.75"
   ]
  },
  {
   "cell_type": "markdown",
   "metadata": {},
   "source": [
    "I'll try to take and test on just zeroes"
   ]
  },
  {
   "cell_type": "code",
   "execution_count": 21,
   "metadata": {},
   "outputs": [],
   "source": [
    "adequacy_df = df[df['is_ultra']==0] "
   ]
  },
  {
   "cell_type": "code",
   "execution_count": 22,
   "metadata": {},
   "outputs": [],
   "source": [
    "adequacy_features = adequacy_df.drop('is_ultra', axis=1)\n",
    "adequacy_target = adequacy_df['is_ultra']"
   ]
  },
  {
   "cell_type": "code",
   "execution_count": 23,
   "metadata": {},
   "outputs": [],
   "source": [
    "adeq_result = best_rfc_model.predict(adequacy_features)"
   ]
  },
  {
   "cell_type": "code",
   "execution_count": 24,
   "metadata": {},
   "outputs": [
    {
     "data": {
      "text/plain": [
       "0.9528936742934051"
      ]
     },
     "execution_count": 24,
     "metadata": {},
     "output_type": "execute_result"
    }
   ],
   "source": [
    "accuracy_score(adeq_result, adequacy_target)"
   ]
  },
  {
   "cell_type": "markdown",
   "metadata": {},
   "source": [
    "The adequacy of the best model is 0.95\n"
   ]
  },
  {
   "cell_type": "code",
   "execution_count": null,
   "metadata": {},
   "outputs": [],
   "source": []
  }
 ],
 "metadata": {
  "ExecuteTimeLog": [
   {
    "duration": 457,
    "start_time": "2022-09-23T14:08:34.465Z"
   },
   {
    "duration": 113,
    "start_time": "2022-09-23T14:08:54.494Z"
   },
   {
    "duration": 29,
    "start_time": "2022-09-23T14:08:56.516Z"
   },
   {
    "duration": 36,
    "start_time": "2022-09-23T14:09:01.397Z"
   },
   {
    "duration": 15,
    "start_time": "2022-09-23T14:09:07.555Z"
   },
   {
    "duration": 4,
    "start_time": "2022-09-23T14:11:30.512Z"
   },
   {
    "duration": 856,
    "start_time": "2022-09-23T14:12:53.890Z"
   },
   {
    "duration": 3,
    "start_time": "2022-09-23T14:13:23.264Z"
   },
   {
    "duration": 2,
    "start_time": "2022-09-23T14:14:34.128Z"
   },
   {
    "duration": 5,
    "start_time": "2022-09-23T14:15:19.036Z"
   },
   {
    "duration": 2,
    "start_time": "2022-09-23T14:21:50.638Z"
   },
   {
    "duration": 97,
    "start_time": "2022-09-23T14:32:57.181Z"
   },
   {
    "duration": 15,
    "start_time": "2022-09-23T14:33:06.582Z"
   },
   {
    "duration": 31,
    "start_time": "2022-09-23T14:33:16.609Z"
   },
   {
    "duration": 4,
    "start_time": "2022-09-23T14:33:28.804Z"
   },
   {
    "duration": 33,
    "start_time": "2022-09-23T14:33:42.943Z"
   },
   {
    "duration": 3,
    "start_time": "2022-09-23T14:33:44.526Z"
   },
   {
    "duration": 10,
    "start_time": "2022-09-23T14:34:15.994Z"
   },
   {
    "duration": 92,
    "start_time": "2022-09-23T14:38:30.806Z"
   },
   {
    "duration": 3,
    "start_time": "2022-09-23T14:38:45.197Z"
   },
   {
    "duration": 3,
    "start_time": "2022-09-23T14:38:58.320Z"
   },
   {
    "duration": 81,
    "start_time": "2022-09-23T14:39:15.324Z"
   },
   {
    "duration": 3,
    "start_time": "2022-09-23T14:39:17.090Z"
   },
   {
    "duration": 3,
    "start_time": "2022-09-23T14:40:01.316Z"
   },
   {
    "duration": 84,
    "start_time": "2022-09-23T14:44:27.621Z"
   },
   {
    "duration": 4,
    "start_time": "2022-09-23T14:44:29.148Z"
   },
   {
    "duration": 4,
    "start_time": "2022-09-23T14:44:33.844Z"
   },
   {
    "duration": 3,
    "start_time": "2022-09-23T14:44:40.788Z"
   },
   {
    "duration": 395,
    "start_time": "2022-09-23T14:44:48.140Z"
   },
   {
    "duration": 1922,
    "start_time": "2022-09-23T14:44:57.316Z"
   },
   {
    "duration": 3,
    "start_time": "2022-09-23T14:45:06.752Z"
   },
   {
    "duration": 3,
    "start_time": "2022-09-23T14:45:16.377Z"
   },
   {
    "duration": 2580,
    "start_time": "2022-09-23T14:45:28.761Z"
   },
   {
    "duration": 90,
    "start_time": "2022-09-23T14:45:31.344Z"
   },
   {
    "duration": 3,
    "start_time": "2022-09-23T14:45:37.867Z"
   },
   {
    "duration": 61,
    "start_time": "2022-09-23T14:46:31.503Z"
   },
   {
    "duration": 3,
    "start_time": "2022-09-23T14:46:33.463Z"
   },
   {
    "duration": 232,
    "start_time": "2022-09-23T14:46:40.125Z"
   },
   {
    "duration": 2,
    "start_time": "2022-09-23T14:46:42.118Z"
   },
   {
    "duration": 234,
    "start_time": "2022-09-23T14:46:51.141Z"
   },
   {
    "duration": 3,
    "start_time": "2022-09-23T14:46:52.895Z"
   },
   {
    "duration": 4,
    "start_time": "2022-09-23T14:54:25.592Z"
   },
   {
    "duration": 10,
    "start_time": "2022-09-23T14:54:28.480Z"
   },
   {
    "duration": 11,
    "start_time": "2022-09-23T15:05:59.737Z"
   },
   {
    "duration": 10,
    "start_time": "2022-09-23T15:06:24.802Z"
   },
   {
    "duration": 9,
    "start_time": "2022-09-23T15:06:32.527Z"
   },
   {
    "duration": 9,
    "start_time": "2022-09-23T15:06:38.835Z"
   },
   {
    "duration": 8,
    "start_time": "2022-09-23T15:06:41.165Z"
   },
   {
    "duration": 5,
    "start_time": "2022-09-23T15:08:11.666Z"
   },
   {
    "duration": 5,
    "start_time": "2022-09-23T15:08:42.476Z"
   },
   {
    "duration": 5,
    "start_time": "2022-09-23T15:09:26.761Z"
   },
   {
    "duration": 70,
    "start_time": "2022-09-23T15:09:28.708Z"
   },
   {
    "duration": 306,
    "start_time": "2022-09-23T15:09:30.353Z"
   },
   {
    "duration": 4,
    "start_time": "2022-09-23T15:09:32.728Z"
   },
   {
    "duration": 5,
    "start_time": "2022-09-23T15:09:41.258Z"
   },
   {
    "duration": 10,
    "start_time": "2022-09-23T15:09:47.856Z"
   },
   {
    "duration": 8,
    "start_time": "2022-09-23T15:11:24.269Z"
   },
   {
    "duration": 7,
    "start_time": "2022-09-23T15:11:31.232Z"
   },
   {
    "duration": 20,
    "start_time": "2022-09-23T15:12:52.759Z"
   },
   {
    "duration": 15,
    "start_time": "2022-09-23T15:13:23.811Z"
   },
   {
    "duration": 10,
    "start_time": "2022-09-23T15:13:28.683Z"
   },
   {
    "duration": 11,
    "start_time": "2022-09-23T15:14:17.001Z"
   },
   {
    "duration": 14,
    "start_time": "2022-09-23T15:15:11.888Z"
   },
   {
    "duration": 14,
    "start_time": "2022-09-23T15:15:17.226Z"
   },
   {
    "duration": 1101,
    "start_time": "2022-09-23T15:17:09.803Z"
   },
   {
    "duration": 29,
    "start_time": "2022-09-23T15:17:10.906Z"
   },
   {
    "duration": 16,
    "start_time": "2022-09-23T15:17:10.937Z"
   },
   {
    "duration": 4,
    "start_time": "2022-09-23T15:17:10.954Z"
   },
   {
    "duration": 11,
    "start_time": "2022-09-23T15:17:10.960Z"
   },
   {
    "duration": 15,
    "start_time": "2022-09-23T15:17:10.973Z"
   },
   {
    "duration": 72,
    "start_time": "2022-09-23T15:17:10.990Z"
   },
   {
    "duration": 280,
    "start_time": "2022-09-23T15:17:11.064Z"
   },
   {
    "duration": 9990,
    "start_time": "2022-09-23T15:17:11.350Z"
   },
   {
    "duration": 92,
    "start_time": "2022-09-23T15:17:21.343Z"
   },
   {
    "duration": 111,
    "start_time": "2022-09-23T15:17:21.438Z"
   },
   {
    "duration": 23,
    "start_time": "2022-09-23T15:17:21.550Z"
   },
   {
    "duration": 56,
    "start_time": "2022-09-25T07:27:54.814Z"
   },
   {
    "duration": 1119,
    "start_time": "2022-09-25T07:28:04.692Z"
   },
   {
    "duration": 112,
    "start_time": "2022-09-25T07:28:06.677Z"
   },
   {
    "duration": 16,
    "start_time": "2022-09-25T07:28:08.149Z"
   },
   {
    "duration": 10,
    "start_time": "2022-09-25T07:28:10.590Z"
   },
   {
    "duration": 5,
    "start_time": "2022-09-25T07:28:30.273Z"
   },
   {
    "duration": 3,
    "start_time": "2022-09-25T07:30:06.156Z"
   },
   {
    "duration": 69,
    "start_time": "2022-09-25T07:30:08.268Z"
   },
   {
    "duration": 4,
    "start_time": "2022-09-25T07:30:13.162Z"
   },
   {
    "duration": 6,
    "start_time": "2022-09-25T07:30:14.767Z"
   },
   {
    "duration": 5,
    "start_time": "2022-09-25T07:30:47.104Z"
   },
   {
    "duration": 5,
    "start_time": "2022-09-25T07:30:49.468Z"
   },
   {
    "duration": 15,
    "start_time": "2022-09-25T07:35:58.896Z"
   },
   {
    "duration": 69,
    "start_time": "2022-09-25T07:36:07.335Z"
   },
   {
    "duration": 408,
    "start_time": "2022-09-25T07:37:24.990Z"
   },
   {
    "duration": 120,
    "start_time": "2022-09-25T07:37:43.518Z"
   },
   {
    "duration": 1396,
    "start_time": "2022-09-25T07:46:38.906Z"
   },
   {
    "duration": 104,
    "start_time": "2022-09-25T07:47:07.921Z"
   },
   {
    "duration": 19,
    "start_time": "2022-09-25T07:51:56.453Z"
   },
   {
    "duration": 121,
    "start_time": "2022-09-25T07:52:08.809Z"
   },
   {
    "duration": 99,
    "start_time": "2022-09-25T07:53:17.483Z"
   },
   {
    "duration": 123,
    "start_time": "2022-09-25T07:55:37.760Z"
   },
   {
    "duration": 4,
    "start_time": "2022-09-25T07:57:00.626Z"
   },
   {
    "duration": 3,
    "start_time": "2022-09-25T07:57:25.422Z"
   },
   {
    "duration": 4,
    "start_time": "2022-09-25T07:57:31.258Z"
   },
   {
    "duration": 1430,
    "start_time": "2022-09-25T07:58:33.177Z"
   },
   {
    "duration": 12,
    "start_time": "2022-09-25T07:59:20.322Z"
   },
   {
    "duration": 3,
    "start_time": "2022-09-25T07:59:25.570Z"
   },
   {
    "duration": 5,
    "start_time": "2022-09-25T07:59:30.869Z"
   },
   {
    "duration": 16,
    "start_time": "2022-09-25T08:00:45.888Z"
   },
   {
    "duration": 1404,
    "start_time": "2022-09-25T08:01:03.868Z"
   },
   {
    "duration": 14,
    "start_time": "2022-09-25T08:01:06.212Z"
   },
   {
    "duration": 1418,
    "start_time": "2022-09-25T08:01:14.277Z"
   },
   {
    "duration": 175,
    "start_time": "2022-09-25T08:01:17.271Z"
   },
   {
    "duration": 16,
    "start_time": "2022-09-25T08:03:04.152Z"
   },
   {
    "duration": 16,
    "start_time": "2022-09-25T08:03:14.102Z"
   },
   {
    "duration": 14,
    "start_time": "2022-09-25T08:03:16.210Z"
   },
   {
    "duration": 1454,
    "start_time": "2022-09-25T08:03:18.953Z"
   },
   {
    "duration": 168,
    "start_time": "2022-09-25T08:03:20.855Z"
   },
   {
    "duration": 179,
    "start_time": "2022-09-25T08:03:30.135Z"
   },
   {
    "duration": 1416,
    "start_time": "2022-09-25T08:03:34.654Z"
   },
   {
    "duration": 3,
    "start_time": "2022-09-25T08:03:36.525Z"
   },
   {
    "duration": 213,
    "start_time": "2022-09-25T08:03:39.092Z"
   },
   {
    "duration": 183,
    "start_time": "2022-09-25T08:03:44.069Z"
   },
   {
    "duration": 170,
    "start_time": "2022-09-25T08:03:55.331Z"
   },
   {
    "duration": 181,
    "start_time": "2022-09-25T08:04:54.556Z"
   },
   {
    "duration": 177,
    "start_time": "2022-09-25T08:05:04.312Z"
   },
   {
    "duration": 264,
    "start_time": "2022-09-25T08:05:11.100Z"
   },
   {
    "duration": 181,
    "start_time": "2022-09-25T08:05:32.965Z"
   },
   {
    "duration": 4207,
    "start_time": "2022-09-25T08:07:42.806Z"
   },
   {
    "duration": 120,
    "start_time": "2022-09-25T08:08:00.847Z"
   },
   {
    "duration": 3769,
    "start_time": "2022-09-25T08:08:11.244Z"
   },
   {
    "duration": 8042,
    "start_time": "2022-09-25T08:08:15.568Z"
   },
   {
    "duration": 97,
    "start_time": "2022-09-25T08:08:26.949Z"
   },
   {
    "duration": 5,
    "start_time": "2022-09-25T08:08:47.152Z"
   },
   {
    "duration": 11,
    "start_time": "2022-09-25T08:08:49.720Z"
   },
   {
    "duration": 54,
    "start_time": "2022-09-25T08:11:11.820Z"
   },
   {
    "duration": 11,
    "start_time": "2022-09-25T08:39:56.811Z"
   },
   {
    "duration": 5,
    "start_time": "2022-09-25T08:43:31.746Z"
   },
   {
    "duration": 3,
    "start_time": "2022-09-25T08:44:24.760Z"
   },
   {
    "duration": 6,
    "start_time": "2022-09-25T08:45:21.097Z"
   },
   {
    "duration": 5,
    "start_time": "2022-09-25T08:46:03.925Z"
   },
   {
    "duration": 1667,
    "start_time": "2022-09-26T07:02:49.921Z"
   },
   {
    "duration": 113,
    "start_time": "2022-09-26T07:02:52.108Z"
   },
   {
    "duration": 15,
    "start_time": "2022-09-26T07:03:24.205Z"
   },
   {
    "duration": 14,
    "start_time": "2022-09-26T07:03:26.396Z"
   },
   {
    "duration": 8,
    "start_time": "2022-09-26T07:03:29.048Z"
   },
   {
    "duration": 4,
    "start_time": "2022-09-26T07:03:32.088Z"
   },
   {
    "duration": 6,
    "start_time": "2022-09-26T07:03:34.000Z"
   },
   {
    "duration": 4,
    "start_time": "2022-09-26T07:03:35.880Z"
   },
   {
    "duration": 599,
    "start_time": "2022-09-26T07:03:42.950Z"
   },
   {
    "duration": 136,
    "start_time": "2022-09-26T07:03:46.204Z"
   },
   {
    "duration": 322,
    "start_time": "2022-09-26T07:04:03.295Z"
   },
   {
    "duration": 113,
    "start_time": "2022-09-26T07:04:05.582Z"
   },
   {
    "duration": 1386,
    "start_time": "2022-09-26T07:05:05.391Z"
   },
   {
    "duration": 3,
    "start_time": "2022-09-26T07:05:08.756Z"
   },
   {
    "duration": 255,
    "start_time": "2022-09-26T07:05:10.766Z"
   },
   {
    "duration": 12923,
    "start_time": "2022-09-26T07:05:15.015Z"
   },
   {
    "duration": 294,
    "start_time": "2022-09-26T07:05:27.940Z"
   },
   {
    "duration": 4,
    "start_time": "2022-09-26T07:05:31.602Z"
   },
   {
    "duration": 10,
    "start_time": "2022-09-26T07:05:33.611Z"
   },
   {
    "duration": 7,
    "start_time": "2022-09-26T07:06:24.390Z"
   },
   {
    "duration": 5,
    "start_time": "2022-09-26T07:07:52.654Z"
   },
   {
    "duration": 4,
    "start_time": "2022-09-26T07:07:54.387Z"
   },
   {
    "duration": 6,
    "start_time": "2022-09-26T07:07:56.103Z"
   },
   {
    "duration": 5,
    "start_time": "2022-09-26T07:07:57.957Z"
   }
  ],
  "kernelspec": {
   "display_name": "Python 3 (ipykernel)",
   "language": "python",
   "name": "python3"
  },
  "language_info": {
   "codemirror_mode": {
    "name": "ipython",
    "version": 3
   },
   "file_extension": ".py",
   "mimetype": "text/x-python",
   "name": "python",
   "nbconvert_exporter": "python",
   "pygments_lexer": "ipython3",
   "version": "3.11.2"
  },
  "toc": {
   "base_numbering": 1,
   "nav_menu": {},
   "number_sections": true,
   "sideBar": true,
   "skip_h1_title": true,
   "title_cell": "Table of Contents",
   "title_sidebar": "Contents",
   "toc_cell": false,
   "toc_position": {},
   "toc_section_display": true,
   "toc_window_display": false
  }
 },
 "nbformat": 4,
 "nbformat_minor": 2
}
